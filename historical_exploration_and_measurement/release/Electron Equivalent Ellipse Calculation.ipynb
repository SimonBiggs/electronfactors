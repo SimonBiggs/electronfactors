{
 "metadata": {
  "name": "",
  "signature": "sha256:d37de130b33de740f8f808d1b4f3442bc45e001a57abdef4440c629cae99ce62"
 },
 "nbformat": 3,
 "nbformat_minor": 0,
 "worksheets": [
  {
   "cells": [
    {
     "cell_type": "heading",
     "level": 1,
     "metadata": {},
     "source": [
      "Electron equivalent ellipse calculation"
     ]
    },
    {
     "cell_type": "markdown",
     "metadata": {},
     "source": [
      "This calculates the length and width of the equivalent ellipse of cutouts defined appropriately within `shape_definition_x_coords.csv` and `shape_definition_y_coords.csv`. The measured cutout factors defined within `measured_cutout_factors.csv` are also used to calculate the equivalent ellipse.\n",
      "\n",
      "The widths and lengths are then output into `measured_cutout_factors.csv` for the input into `Electron Spline Modelling.ipynb`."
     ]
    },
    {
     "cell_type": "code",
     "collapsed": false,
     "input": [],
     "language": "python",
     "metadata": {},
     "outputs": []
    },
    {
     "cell_type": "code",
     "collapsed": false,
     "input": [],
     "language": "python",
     "metadata": {},
     "outputs": []
    },
    {
     "cell_type": "heading",
     "level": 2,
     "metadata": {},
     "source": [
      "Loading/installing modules"
     ]
    },
    {
     "cell_type": "code",
     "collapsed": false,
     "input": [
      "try:\n",
      "    import shapely.geometry as geo\n",
      "    import shapely.affinity as aff\n",
      "    \n",
      "except:\n",
      "    !pip install shapely\n",
      "    import shapely.geometry as geo\n",
      "    import shapely.affinity as aff\n",
      "    \n",
      "\n",
      "try:\n",
      "    from descartes.patch import PolygonPatch\n",
      "    \n",
      "except:\n",
      "    !pip install descartes\n",
      "    from descartes.patch import PolygonPatch\n",
      "    \n",
      "\n",
      "import numpy as np\n",
      "import pandas as pd\n",
      "\n",
      "import matplotlib.pyplot as plt\n",
      "from matplotlib import pylab\n",
      "%matplotlib inline\n",
      "\n",
      "from scipy.optimize import basinhopping\n",
      "from scipy.interpolate import UnivariateSpline\n",
      "\n",
      "import os"
     ],
     "language": "python",
     "metadata": {},
     "outputs": [],
     "prompt_number": 2
    },
    {
     "cell_type": "code",
     "collapsed": false,
     "input": [],
     "language": "python",
     "metadata": {},
     "outputs": [],
     "prompt_number": 2
    },
    {
     "cell_type": "heading",
     "level": 2,
     "metadata": {},
     "source": [
      "Importing input data"
     ]
    },
    {
     "cell_type": "code",
     "collapsed": false,
     "input": [
      "shape_definition_x_coords = pd.read_csv(\"shape_definition_x_coords.csv\")\n",
      "shape_definition_y_coords = pd.read_csv(\"shape_definition_y_coords.csv\")\n",
      "\n",
      "measured_factors = pd.read_csv(\"measured_factors.csv\")"
     ],
     "language": "python",
     "metadata": {},
     "outputs": [],
     "prompt_number": 4
    },
    {
     "cell_type": "code",
     "collapsed": false,
     "input": [],
     "language": "python",
     "metadata": {},
     "outputs": []
    },
    {
     "cell_type": "heading",
     "level": 2,
     "metadata": {},
     "source": [
      "Class definitions"
     ]
    },
    {
     "cell_type": "heading",
     "level": 3,
     "metadata": {},
     "source": [
      "Equivalent ellipse fitting"
     ]
    },
    {
     "cell_type": "code",
     "collapsed": false,
     "input": [
      "class equivalent_ellipse(object):\n",
      "    \"\"\"An equivalent ellipse given the x and y coordinates of a cutout.\n",
      "    \"\"\"\n",
      "    def __init__(self, n=5, debug=False, **kwargs):\n",
      "        \n",
      "        self.debug = debug\n",
      "        \n",
      "        self.cutoutXCoords = kwargs['x']\n",
      "        self.cutoutYCoords = kwargs['y']\n",
      "        self.cutout = self.shapely_cutout()\n",
      "                \n",
      "        self.basinRequiredSuccess = n\n",
      "        self.ellipseRaw = self.ellipse_basinhopping()\n",
      "        \n",
      "        self.width = self.ellipseRaw[2]\n",
      "        self.length = self.ellipseRaw[3]\n",
      "        \n",
      "        self.ellipse = self.shapely_ellipse(self.ellipseRaw)\n",
      "    \n",
      "    \n",
      "    def shapely_cutout(self):\n",
      "        \"\"\"Returns the shapely cutout defined by the x and y coordinates.\n",
      "        \"\"\"\n",
      "        return geo.Polygon(np.transpose((self.cutoutXCoords,self.cutoutYCoords)))\n",
      "    \n",
      "    \n",
      "    def shapely_ellipse(self,ellipseRaw):\n",
      "        \"\"\"Given raw ellipse values create a shapely ellipse.\n",
      "        \"\"\"\n",
      "        xPosition = ellipseRaw[0]\n",
      "        yPosition = ellipseRaw[1]\n",
      "        \n",
      "        width = ellipseRaw[2]\n",
      "        length = ellipseRaw[3]\n",
      "        \n",
      "        rotation = ellipseRaw[4]\n",
      "        \n",
      "        \n",
      "        unitCircle = geo.Point(0,0).buffer(1)        \n",
      "        ellipse = aff.scale(unitCircle, xfact=width/2, yfact=length/2)    # Stretched\n",
      "        ellipse = aff.translate(ellipse, xoff=xPosition, yoff=yPosition)  # Translated\n",
      "        ellipse = aff.rotate(ellipse, rotation)                           # Rotated\n",
      "        \n",
      "        return ellipse\n",
      "    \n",
      "    \n",
      "    def minimise_function(self, ellipseRaw):\n",
      "        \"\"\"Returns the sum of area differences between the an ellipse and the given cutout.\n",
      "        \"\"\"\n",
      "        ellipse = self.shapely_ellipse(ellipseRaw)\n",
      "        \n",
      "        return ellipse.difference(self.cutout).area + self.cutout.difference(ellipse).area\n",
      "        \n",
      "    \n",
      "    def ellipse_basinhopping(self):\n",
      "        \"\"\"Fitting the ellipse to the cutout via scipy.optimize.basinhopping.\n",
      "        \"\"\"\n",
      "        self.functionReturns = np.empty(self.basinRequiredSuccess)\n",
      "        self.functionReturns[:] = np.nan\n",
      "        \n",
      "        self.numSuccess = 0\n",
      "        \n",
      "        minimizerConfig = {\"method\": 'BFGS'}\n",
      "        \n",
      "        initial_input = np.array([0,0,3,4,0])\n",
      "        \n",
      "        \n",
      "        basinhoppingOutput = basinhopping(self.minimise_function,\n",
      "                                          initial_input,\n",
      "                                          niter=1000,\n",
      "                                          minimizer_kwargs=minimizerConfig,\n",
      "                                          take_step=self.step_function,\n",
      "                                          callback=self.callback_function)\n",
      "        \n",
      "        return basinhoppingOutput.x\n",
      "        \n",
      "        \n",
      "    def step_function(self,optimiserInput):\n",
      "        \"\"\"Step function used by self.ellipse_basinhopping.\n",
      "        \"\"\"\n",
      "        optimiserInput[0] += np.random.normal(scale=1.5)   # x-position\n",
      "        optimiserInput[1] += np.random.normal(scale=1.5)   # y-position\n",
      "        optimiserInput[2] += np.random.normal(scale=3)     # width\n",
      "        optimiserInput[3] += np.random.normal(scale=4)     # length\n",
      "        optimiserInput[4] += np.random.normal(scale=90)    # rotation\n",
      "        \n",
      "        return optimiserInput\n",
      "    \n",
      "    \n",
      "    def callback_function(self, optimiserOutput, minimiseFunctionOutput, minimiseAccepted):\n",
      "        \"\"\"Callback function used by self.ellipse_basinhopping.\n",
      "        \"\"\"        \n",
      "        if self.debug:\n",
      "            print(optimiserOutput)\n",
      "            print(minimiseFunctionOutput)\n",
      "            print(minimiseAccepted)\n",
      "            print(\" \")\n",
      "        \n",
      "        if minimiseAccepted:\n",
      "            \n",
      "            if self.numSuccess == 0:\n",
      "                # First result\n",
      "                self.functionReturns[0] = minimiseFunctionOutput\n",
      "                self.numSuccess = 1\n",
      "                \n",
      "            elif minimiseFunctionOutput >= np.nanmin(self.functionReturns) + 0.0001:\n",
      "                # Reject result\n",
      "                0\n",
      "                \n",
      "            elif minimiseFunctionOutput >= np.nanmin(self.functionReturns) - 0.0001:\n",
      "                # Agreeing result\n",
      "                self.functionReturns[self.numSuccess] = minimiseFunctionOutput\n",
      "                self.numSuccess += 1\n",
      "            \n",
      "            elif minimiseFunctionOutput < np.nanmin(self.functionReturns) - 0.0001:\n",
      "                # New result\n",
      "                self.functionReturns[0] = minimiseFunctionOutput\n",
      "                self.numSuccess = 1\n",
      "        \n",
      "        if self.numSuccess >= self.basinRequiredSuccess:\n",
      "            return True\n",
      "        "
     ],
     "language": "python",
     "metadata": {},
     "outputs": [],
     "prompt_number": 58
    },
    {
     "cell_type": "heading",
     "level": 3,
     "metadata": {},
     "source": [
      "Create bivariate spline fit"
     ]
    },
    {
     "cell_type": "code",
     "collapsed": false,
     "input": [],
     "language": "python",
     "metadata": {},
     "outputs": []
    },
    {
     "cell_type": "heading",
     "level": 3,
     "metadata": {},
     "source": [
      "Finding centre with sector integration"
     ]
    },
    {
     "cell_type": "code",
     "collapsed": false,
     "input": [],
     "language": "python",
     "metadata": {},
     "outputs": [],
     "prompt_number": 4
    },
    {
     "cell_type": "heading",
     "level": 3,
     "metadata": {},
     "source": [
      "Shape straightening"
     ]
    },
    {
     "cell_type": "code",
     "collapsed": false,
     "input": [],
     "language": "python",
     "metadata": {},
     "outputs": []
    },
    {
     "cell_type": "code",
     "collapsed": false,
     "input": [],
     "language": "python",
     "metadata": {},
     "outputs": []
    },
    {
     "cell_type": "heading",
     "level": 2,
     "metadata": {},
     "source": [
      "Main"
     ]
    },
    {
     "cell_type": "code",
     "collapsed": false,
     "input": [],
     "language": "python",
     "metadata": {},
     "outputs": []
    },
    {
     "cell_type": "code",
     "collapsed": false,
     "input": [
      "test_x = shape_definition_x_coords[\"Simon #3 cutout\"].values\n",
      "\n",
      "\n",
      "test_x = test_x[~np.isnan(test_x)]\n",
      "test_x"
     ],
     "language": "python",
     "metadata": {},
     "outputs": [
      {
       "metadata": {},
       "output_type": "pyout",
       "prompt_number": 48,
       "text": [
        "array([-0.3 , -0.25,  0.75,  1.05,  1.15,  1.35,  1.45,  1.85,  1.95,\n",
        "        2.2 ,  2.2 ,  2.3 ,  2.3 ,  2.4 ,  2.4 ,  2.3 ,  2.3 ,  2.2 ,\n",
        "        2.2 ,  2.1 ,  2.1 ,  2.  ,  2.  ,  1.9 ,  1.9 ,  1.6 ,  1.6 ,\n",
        "        1.35,  1.05,  0.85,  0.05, -0.05, -0.95, -1.15, -1.35, -1.8 ,\n",
        "       -1.8 , -1.9 , -1.9 , -2.  , -2.  , -2.1 , -2.1 , -2.  , -2.  ,\n",
        "       -1.9 , -1.9 , -1.7 , -1.7 , -1.6 , -1.6 , -1.4 , -1.4 , -1.3 ,\n",
        "       -1.3 , -1.2 , -1.2 , -0.55, -0.45, -0.3 ])"
       ]
      }
     ],
     "prompt_number": 48
    },
    {
     "cell_type": "code",
     "collapsed": false,
     "input": [
      "test_y = shape_definition_y_coords[\"Simon #3 cutout\"].values\n",
      "\n",
      "\n",
      "test_y = test_y[~np.isnan(test_y)]\n",
      "test_y"
     ],
     "language": "python",
     "metadata": {},
     "outputs": [
      {
       "metadata": {},
       "output_type": "pyout",
       "prompt_number": 49,
       "text": [
        "array([ 2.85,  2.9 ,  2.9 ,  2.6 ,  2.6 ,  2.4 ,  2.4 ,  2.  ,  2.  ,\n",
        "        1.75,  1.45,  1.35,  1.05,  0.95, -0.85, -0.95, -1.25, -1.35,\n",
        "       -1.55, -1.65, -1.75, -1.85, -1.95, -2.05, -2.15, -2.45, -2.55,\n",
        "       -2.8 , -2.8 , -3.  , -3.  , -2.9 , -2.9 , -2.7 , -2.7 , -2.25,\n",
        "       -1.95, -1.85, -1.55, -1.45, -1.35, -1.25, -0.15, -0.05,  0.15,\n",
        "        0.25,  0.55,  0.75,  0.95,  1.05,  1.35,  1.55,  1.65,  1.75,\n",
        "        1.85,  1.95,  2.05,  2.7 ,  2.7 ,  2.85])"
       ]
      }
     ],
     "prompt_number": 49
    },
    {
     "cell_type": "code",
     "collapsed": false,
     "input": [
      "test = equivalent_ellipse(n=2,debug=True,x=test_x,y=test_y)"
     ],
     "language": "python",
     "metadata": {},
     "outputs": [
      {
       "output_type": "stream",
       "stream": "stdout",
       "text": [
        "[  0.18675975  -0.17073122   6.03573818   4.53605462 -98.46253108]\n",
        "1.2234061270002186\n",
        "True\n",
        " \n",
        "[  1.86759722e-01  -1.70731240e-01   4.53605471e+00   6.03573780e+00\n",
        "  -1.88462535e+02]"
       ]
      },
      {
       "output_type": "stream",
       "stream": "stdout",
       "text": [
        "\n",
        "1.2234061270011085\n",
        "True\n",
        " \n"
       ]
      }
     ],
     "prompt_number": 59
    },
    {
     "cell_type": "code",
     "collapsed": false,
     "input": [
      "plt.plot(test.cutout.exterior.xy[0],test.cutout.exterior.xy[1])\n",
      "plt.plot(test.ellipse.exterior.xy[0],test.ellipse.exterior.xy[1])\n",
      "\n",
      "plt.axis(\"equal\")"
     ],
     "language": "python",
     "metadata": {},
     "outputs": [
      {
       "metadata": {},
       "output_type": "pyout",
       "prompt_number": 66,
       "text": [
        "(-3.0, 3.0, -4.0, 3.0)"
       ]
      },
      {
       "metadata": {},
       "output_type": "display_data",
       "png": "[encoded data removed]",
       "text": [
        "<matplotlib.figure.Figure at 0x9618b70>"
       ]
      }
     ],
     "prompt_number": 66
    },
    {
     "cell_type": "code",
     "collapsed": false,
     "input": [
      "test.ellipse"
     ],
     "language": "python",
     "metadata": {},
     "outputs": [
      {
       "metadata": {},
       "output_type": "pyout",
       "prompt_number": 61,
       "svg": [
        "<svg\n",
        "            preserveAspectRatio=\"xMinYMin meet\"\n",
        "            viewBox=\"-3.0994394165069084 -4.172971624844774 6.572398331846648 8.004480803843416\"\n",
        "            width=\"100.0\"\n",
        "            height=\"100.0\"\n",
        "            transform=\"translate(0, 100.0),scale(1, -1)\">\n",
        "            \n",
        "            <g fill-rule=\"evenodd\" fill=\"#66cc99\" stroke=\"#555555\" \n",
        "            stroke-width=\"0.1600896160768683\" opacity=\"0.6\">\n",
        "            <path d=\"M -0.25735773206133705,-3.1557426965099067 L -0.47510434275839764,-3.108653986016286 L -0.6864768404360982,-3.0332714732821273 L -0.8894395923938417,-2.930321133113336 L -1.082037956379549,-2.800794433564117 L -1.262417104863062,-2.6459387875576255 L -1.4288398880392115,-2.467245539617612 L -1.5797035635300647,-2.266435603405404 L -1.71355523167017,-2.0454428883806024 L -1.829105827724573,-1.8063956751958035 L -1.92524253628689,-1.5515961191904741 L -2.0010395082999937,-1.2834980793765531 L -2.055766777488559,-1.0046834864347443 L -2.0888972903333314,-0.7178374773106384 L -2.1001119818846354,-0.4257225358780788 L -2.0893028485322573,-0.13115188870933167 L -2.056573988139255,0.16303758783467215 L -2.0022405975226265,0.45401268827448743 L -1.9268259369356637,0.7389711633297087 L -1.8310562907856656,1.0151687071114066 L -1.7158539731180706,1.279945386288027 L -1.5823284452280109,1.5307512566974437 L -1.4317656309415452,1.7651709207031787 L -1.26561553246626,1.9809467887940329 L -1.085478266077354,2.176000821405204 L -0.8930886521231997,2.348454541575266 L -0.6902995077570359,2.4966471257061866 L -0.47906380329493226,2.6191513982024794 L -0.2614158540440398,2.714787575952358 L -0.03945172873411734,2.7826346302840372 L 0.18469093677016762,2.822039156975332 L 0.40885352607116393,2.832621668893498 L 0.6308772308941668,2.814280250663775 L 0.848623841591228,2.767191540170154 L 1.059996339268929,2.691809027435996 L 1.2629590912266733,2.5888586872672046 L 1.455557455212381,2.4593319877179853 L 1.6359366036958942,2.304476341711494 L 1.8023593868720442,2.1257830937714792 L 1.9532230623628974,1.9249731575592706 L 2.087074730503003,1.7039804425344685 L 2.202625326557406,1.4649332293496693 L 2.2987620351197218,1.2101336733443406 L 2.3745590071328255,0.9420356335304205 L 2.4292862763213905,0.6632210405886128 L 2.462416789166163,0.3763750314645074 L 2.473631480717467,0.08426009003194854 L 2.4628223473650888,-0.21031055713679786 L 2.430093486972087,-0.5045000336808011 L 2.375760096355459,-0.7954751341206158 L 2.300345435768497,-1.0804336091758366 L 2.204575789618499,-1.3566311529575337 L 2.089373471950905,-1.6214078321341538 L 1.9558479440608463,-1.8722137025435703 L 1.8052851297743824,-2.1066333665493047 L 1.6391350312990975,-2.322409234640159 L 1.4589977649101935,-2.5174632672513293 L 1.2666081509560403,-2.6899169874213906 L 1.0638190065898778,-2.838109571552312 L 0.8525833021277749,-2.960613844048606 L 0.634935352876884,-3.056250021798485 L 0.4129712275669628,-3.124097076130166 L 0.18882856206267895,-3.163501602821462 L -0.03533402723831636,-3.174084114739631 L -0.2573577320613185,-3.1557426965099094 L -0.25735773206133705,-3.1557426965099067 z\" />\n",
        "            </g>\n",
        "            </svg>"
       ],
       "text": [
        "<shapely.geometry.polygon.Polygon at 0x94e97b8>"
       ]
      }
     ],
     "prompt_number": 61
    },
    {
     "cell_type": "code",
     "collapsed": false,
     "input": [
      "test.cutout"
     ],
     "language": "python",
     "metadata": {},
     "outputs": [
      {
       "metadata": {},
       "output_type": "pyout",
       "prompt_number": 62,
       "svg": [
        "<svg\n",
        "            preserveAspectRatio=\"xMinYMin meet\"\n",
        "            viewBox=\"-3.1 -4.0 6.5 7.9\"\n",
        "            width=\"100.0\"\n",
        "            height=\"100.0\"\n",
        "            transform=\"translate(0, 100.0),scale(1, -1)\">\n",
        "            \n",
        "            <g fill-rule=\"evenodd\" fill=\"#66cc99\" stroke=\"#555555\" \n",
        "            stroke-width=\"0.158\" opacity=\"0.6\">\n",
        "            <path d=\"M -0.3,2.85 L -0.25,2.9 L 0.75,2.9 L 1.05,2.6 L 1.15,2.6 L 1.35,2.4 L 1.45,2.4 L 1.85,2.0 L 1.95,2.0 L 2.2,1.75 L 2.2,1.45 L 2.3,1.35 L 2.3,1.05 L 2.4,0.95 L 2.4,-0.85 L 2.3,-0.95 L 2.3,-1.25 L 2.2,-1.35 L 2.2,-1.55 L 2.1,-1.65 L 2.1,-1.75 L 2.0,-1.85 L 2.0,-1.95 L 1.9,-2.05 L 1.9,-2.15 L 1.6,-2.45 L 1.6,-2.55 L 1.35,-2.8 L 1.05,-2.8 L 0.85,-3.0 L 0.05,-3.0 L -0.05,-2.9 L -0.95,-2.9 L -1.15,-2.7 L -1.35,-2.7 L -1.8,-2.25 L -1.8,-1.95 L -1.9,-1.85 L -1.9,-1.55 L -2.0,-1.45 L -2.0,-1.35 L -2.1,-1.25 L -2.1,-0.15 L -2.0,-0.05 L -2.0,0.15 L -1.9,0.25 L -1.9,0.55 L -1.7,0.75 L -1.7,0.95 L -1.6,1.05 L -1.6,1.35 L -1.4,1.55 L -1.4,1.65 L -1.3,1.75 L -1.3,1.85 L -1.2,1.95 L -1.2,2.05 L -0.55,2.7 L -0.45,2.7 L -0.3,2.85 z\" />\n",
        "            </g>\n",
        "            </svg>"
       ],
       "text": [
        "<shapely.geometry.polygon.Polygon at 0x94e92e8>"
       ]
      }
     ],
     "prompt_number": 62
    },
    {
     "cell_type": "code",
     "collapsed": false,
     "input": [],
     "language": "python",
     "metadata": {},
     "outputs": []
    },
    {
     "cell_type": "code",
     "collapsed": false,
     "input": [
      "a = np.random.normal(size=10)\n",
      "b = np.random.normal(size=10)\n"
     ],
     "language": "python",
     "metadata": {},
     "outputs": [],
     "prompt_number": 12
    },
    {
     "cell_type": "code",
     "collapsed": false,
     "input": [
      "a"
     ],
     "language": "python",
     "metadata": {},
     "outputs": [
      {
       "metadata": {},
       "output_type": "pyout",
       "prompt_number": 13,
       "text": [
        "array([ 2.61858993,  0.56417145, -0.37544616, -0.21942874, -0.46881228,\n",
        "        0.77196593, -0.15791087, -1.0903846 , -0.65885628,  0.32071251])"
       ]
      }
     ],
     "prompt_number": 13
    },
    {
     "cell_type": "code",
     "collapsed": false,
     "input": [
      "b"
     ],
     "language": "python",
     "metadata": {},
     "outputs": [
      {
       "metadata": {},
       "output_type": "pyout",
       "prompt_number": 14,
       "text": [
        "array([-0.01860668, -0.36449584, -0.62044261,  0.37710933,  0.01426758,\n",
        "        0.31517226,  1.51211952, -0.15872554,  0.85998421, -1.14476894])"
       ]
      }
     ],
     "prompt_number": 14
    },
    {
     "cell_type": "code",
     "collapsed": false,
     "input": [
      "list(tuple(np.transpose([a,b])))"
     ],
     "language": "python",
     "metadata": {},
     "outputs": [
      {
       "metadata": {},
       "output_type": "pyout",
       "prompt_number": 31,
       "text": [
        "[array([ 2.61858993, -0.01860668]),\n",
        " array([ 0.56417145, -0.36449584]),\n",
        " array([-0.37544616, -0.62044261]),\n",
        " array([-0.21942874,  0.37710933]),\n",
        " array([-0.46881228,  0.01426758]),\n",
        " array([ 0.77196593,  0.31517226]),\n",
        " array([-0.15791087,  1.51211952]),\n",
        " array([-1.0903846 , -0.15872554]),\n",
        " array([-0.65885628,  0.85998421]),\n",
        " array([ 0.32071251, -1.14476894])]"
       ]
      }
     ],
     "prompt_number": 31
    },
    {
     "cell_type": "code",
     "collapsed": false,
     "input": [
      "geo.Polygon(np.transpose((a,b)))"
     ],
     "language": "python",
     "metadata": {},
     "outputs": [
      {
       "output_type": "stream",
       "stream": "stderr",
       "text": [
        "WARNING:shapely.geos:Self-intersection at or near point -0.26858277602067238 0.062825813964053248\n"
       ]
      },
      {
       "metadata": {},
       "output_type": "pyout",
       "prompt_number": 39,
       "svg": [
        "<svg\n",
        "            preserveAspectRatio=\"xMinYMin meet\"\n",
        "            viewBox=\"-1.9636025289254433 -2.144136876548373 5.58164638401502 4.6559946771210505\"\n",
        "            width=\"100.0\"\n",
        "            height=\"100.0\"\n",
        "            transform=\"translate(0, 100.0),scale(1, -1)\">\n",
        "            \n",
        "            <g fill-rule=\"evenodd\" fill=\"#ff3333\" stroke=\"#555555\" \n",
        "            stroke-width=\"0.11163292768030039\" opacity=\"0.6\">\n",
        "            <path d=\"M 2.6185899258061625,-0.018606676384740936 L 0.5641714506233327,-0.3644958379095152 L -0.3754461611114825,-0.6204426058958283 L -0.2194287407760926,0.3771093261582517 L -0.4688122801118183,0.014267582975464372 L 0.7719659317252225,0.3151722637789739 L -0.1579108725070622,1.512119515255179 L -1.0903845983170755,-0.15872553817610632 L -0.6588562837444304,0.8599842095645792 L 0.32071251259334865,-1.1447689435289312 L 2.6185899258061625,-0.018606676384740936 z\" />\n",
        "            </g>\n",
        "            </svg>"
       ],
       "text": [
        "<shapely.geometry.polygon.Polygon at 0x93466d8>"
       ]
      }
     ],
     "prompt_number": 39
    },
    {
     "cell_type": "code",
     "collapsed": false,
     "input": [],
     "language": "python",
     "metadata": {},
     "outputs": []
    }
   ],
   "metadata": {}
  }
 ]
}