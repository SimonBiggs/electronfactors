{
 "cells": [
  {
   "cell_type": "code",
   "execution_count": 24,
   "metadata": {
    "collapsed": false
   },
   "outputs": [
    {
     "data": {
      "image/svg+xml": [
       "<svg xmlns=\"http://www.w3.org/2000/svg\" xmlns:xlink=\"http://www.w3.org/1999/xlink\" width=\"100.0\" height=\"100.0\" viewBox=\"-6.627740223912648 -7.635806517742179 15.24184455036708 15.270207657481473\" preserveAspectRatio=\"xMinYMin meet\"><g transform=\"matrix(1,0,0,-1,0,-0.0014053780028842056)\"><g><polyline fill=\"none\" stroke=\"#66cc99\" stroke-width=\"0.30540415314962943\" points=\"1.0,0.0 -0.2541998275524844,6.95894983403152\" opacity=\"0.8\" /><polyline fill=\"none\" stroke=\"#66cc99\" stroke-width=\"0.30540415314962943\" points=\"1.0,0.0 6.2083149891845615,4.782620095035296\" opacity=\"0.8\" /><polyline fill=\"none\" stroke=\"#66cc99\" stroke-width=\"0.30540415314962943\" points=\"1.0,0.0 -5.354551626458148,3.1015598699167666\" opacity=\"0.8\" /><polyline fill=\"none\" stroke=\"#66cc99\" stroke-width=\"0.30540415314962943\" points=\"1.0,0.0 -3.176922304824622,5.705551687563489\" opacity=\"0.8\" /><polyline fill=\"none\" stroke=\"#66cc99\" stroke-width=\"0.30540415314962943\" points=\"1.0,0.0 -0.06849954851597051,6.989871866838559\" opacity=\"0.8\" /><polyline fill=\"none\" stroke=\"#66cc99\" stroke-width=\"0.30540415314962943\" points=\"1.0,0.0 7.913197713909749,1.4858322140783666\" opacity=\"0.8\" /><polyline fill=\"none\" stroke=\"#66cc99\" stroke-width=\"0.30540415314962943\" points=\"1.0,0.0 -5.9842252974117365,-1.1048063156019448\" opacity=\"0.8\" /><polyline fill=\"none\" stroke=\"#66cc99\" stroke-width=\"0.30540415314962943\" points=\"1.0,0.0 7.613805492092612,2.501514923554445\" opacity=\"0.8\" /><polyline fill=\"none\" stroke=\"#66cc99\" stroke-width=\"0.30540415314962943\" points=\"1.0,0.0 -5.886586492396748,-1.6046577462931686\" opacity=\"0.8\" /><polyline fill=\"none\" stroke=\"#66cc99\" stroke-width=\"0.30540415314962943\" points=\"1.0,0.0 -5.451783068234526,-2.8938720152146127\" opacity=\"0.8\" /><polyline fill=\"none\" stroke=\"#66cc99\" stroke-width=\"0.30540415314962943\" points=\"1.0,0.0 -1.832302963228222,-6.479047763714097\" opacity=\"0.8\" /><polyline fill=\"none\" stroke=\"#66cc99\" stroke-width=\"0.30540415314962943\" points=\"1.0,0.0 7.255249309185205,3.2972497751820407\" opacity=\"0.8\" /><polyline fill=\"none\" stroke=\"#66cc99\" stroke-width=\"0.30540415314962943\" points=\"1.0,0.0 6.650570550224459,-4.251006052328796\" opacity=\"0.8\" /><polyline fill=\"none\" stroke=\"#66cc99\" stroke-width=\"0.30540415314962943\" points=\"1.0,0.0 3.742873189511039,-6.51741104014942\" opacity=\"0.8\" /><polyline fill=\"none\" stroke=\"#66cc99\" stroke-width=\"0.30540415314962943\" points=\"1.0,0.0 7.604762992721596,-2.5252932126735836\" opacity=\"0.8\" /><polyline fill=\"none\" stroke=\"#66cc99\" stroke-width=\"0.30540415314962943\" points=\"1.0,0.0 5.771456402857462,5.218544221871703\" opacity=\"0.8\" /><polyline fill=\"none\" stroke=\"#66cc99\" stroke-width=\"0.30540415314962943\" points=\"1.0,0.0 4.505342231533277,-6.14105657357342\" opacity=\"0.8\" /><polyline fill=\"none\" stroke=\"#66cc99\" stroke-width=\"0.30540415314962943\" points=\"1.0,0.0 8.029345840120751,-0.767005254204367\" opacity=\"0.8\" /><polyline fill=\"none\" stroke=\"#66cc99\" stroke-width=\"0.30540415314962943\" points=\"1.0,0.0 -6.062176977339259,0.3544803813179584\" opacity=\"0.8\" /><polyline fill=\"none\" stroke=\"#66cc99\" stroke-width=\"0.30540415314962943\" points=\"1.0,0.0 -5.0433771740907964,-3.6711840503682662\" opacity=\"0.8\" /><polyline fill=\"none\" stroke=\"#66cc99\" stroke-width=\"0.30540415314962943\" points=\"1.0,0.0 -4.490003839082433,-4.456440041878737\" opacity=\"0.8\" /><polyline fill=\"none\" stroke=\"#66cc99\" stroke-width=\"0.30540415314962943\" points=\"1.0,0.0 -5.634560448017741,-2.4459369700788764\" opacity=\"0.8\" /><polyline fill=\"none\" stroke=\"#66cc99\" stroke-width=\"0.30540415314962943\" points=\"1.0,0.0 7.19014282894829,3.417913363036\" opacity=\"0.8\" /><polyline fill=\"none\" stroke=\"#66cc99\" stroke-width=\"0.30540415314962943\" points=\"1.0,0.0 7.407656907212536,-2.9903064992491144\" opacity=\"0.8\" /><polyline fill=\"none\" stroke=\"#66cc99\" stroke-width=\"0.30540415314962943\" points=\"1.0,0.0 1.9112014426894044,-7.012111802505773\" opacity=\"0.8\" /><polyline fill=\"none\" stroke=\"#66cc99\" stroke-width=\"0.30540415314962943\" points=\"1.0,0.0 7.914539510746356,-1.479575396634976\" opacity=\"0.8\" /><polyline fill=\"none\" stroke=\"#66cc99\" stroke-width=\"0.30540415314962943\" points=\"1.0,0.0 7.434160356722195,-2.9328451210359727\" opacity=\"0.8\" /><polyline fill=\"none\" stroke=\"#66cc99\" stroke-width=\"0.30540415314962943\" points=\"1.0,0.0 0.8224307455053121,7.068837893165906\" opacity=\"0.8\" /><polyline fill=\"none\" stroke=\"#66cc99\" stroke-width=\"0.30540415314962943\" points=\"1.0,0.0 7.382495666906353,-3.043640757698194\" opacity=\"0.8\" /><polyline fill=\"none\" stroke=\"#66cc99\" stroke-width=\"0.30540415314962943\" points=\"1.0,0.0 -4.982962150213979,3.768841189159731\" opacity=\"0.8\" /><polyline fill=\"none\" stroke=\"#66cc99\" stroke-width=\"0.30540415314962943\" points=\"1.0,0.0 7.451125768971212,-2.8953369947064163\" opacity=\"0.8\" /><polyline fill=\"none\" stroke=\"#66cc99\" stroke-width=\"0.30540415314962943\" points=\"1.0,0.0 4.951499344001988,-5.86392811469853\" opacity=\"0.8\" /><polyline fill=\"none\" stroke=\"#66cc99\" stroke-width=\"0.30540415314962943\" points=\"1.0,0.0 4.851636876163928,-5.929999441330006\" opacity=\"0.8\" /><polyline fill=\"none\" stroke=\"#66cc99\" stroke-width=\"0.30540415314962943\" points=\"1.0,0.0 7.727266639254891,-2.17804581319315\" opacity=\"0.8\" /><polyline fill=\"none\" stroke=\"#66cc99\" stroke-width=\"0.30540415314962943\" points=\"1.0,0.0 7.82395438806116,-1.8530101213055583\" opacity=\"0.8\" /><polyline fill=\"none\" stroke=\"#66cc99\" stroke-width=\"0.30540415314962943\" points=\"1.0,0.0 -2.327421197705422,6.239252212650216\" opacity=\"0.8\" /><polyline fill=\"none\" stroke=\"#66cc99\" stroke-width=\"0.30540415314962943\" points=\"1.0,0.0 3.387436256174206,6.655835644207637\" opacity=\"0.8\" /><polyline fill=\"none\" stroke=\"#66cc99\" stroke-width=\"0.30540415314962943\" points=\"1.0,0.0 -4.68331327698633,-4.207130874554642\" opacity=\"0.8\" /><polyline fill=\"none\" stroke=\"#66cc99\" stroke-width=\"0.30540415314962943\" points=\"1.0,0.0 5.161406946881773,-5.716877838684689\" opacity=\"0.8\" /><polyline fill=\"none\" stroke=\"#66cc99\" stroke-width=\"0.30540415314962943\" points=\"1.0,0.0 1.775280848428729,7.028437920765867\" opacity=\"0.8\" /><polyline fill=\"none\" stroke=\"#66cc99\" stroke-width=\"0.30540415314962943\" points=\"1.0,0.0 6.629221432679707,4.27923662139165\" opacity=\"0.8\" /><polyline fill=\"none\" stroke=\"#66cc99\" stroke-width=\"0.30540415314962943\" points=\"1.0,0.0 1.1079818803894625,-7.070243271168791\" opacity=\"0.8\" /><polyline fill=\"none\" stroke=\"#66cc99\" stroke-width=\"0.30540415314962943\" points=\"1.0,0.0 8.009497606418876,0.9310979033420903\" opacity=\"0.8\" /><polyline fill=\"none\" stroke=\"#66cc99\" stroke-width=\"0.30540415314962943\" points=\"1.0,0.0 5.293080496019276,-5.618670648356147\" opacity=\"0.8\" /><polyline fill=\"none\" stroke=\"#66cc99\" stroke-width=\"0.30540415314962943\" points=\"1.0,0.0 -2.329632505740223,6.238072408742791\" opacity=\"0.8\" /><polyline fill=\"none\" stroke=\"#66cc99\" stroke-width=\"0.30540415314962943\" points=\"1.0,0.0 -5.73146991772564,-2.1650202647445984\" opacity=\"0.8\" /><polyline fill=\"none\" stroke=\"#66cc99\" stroke-width=\"0.30540415314962943\" points=\"1.0,0.0 -0.5845638898408974,6.891237717494027\" opacity=\"0.8\" /><polyline fill=\"none\" stroke=\"#66cc99\" stroke-width=\"0.30540415314962943\" points=\"1.0,0.0 6.0176644837100515,-4.982272887840924\" opacity=\"0.8\" /><polyline fill=\"none\" stroke=\"#66cc99\" stroke-width=\"0.30540415314962943\" points=\"1.0,0.0 -5.873056574320885,-1.6616537925164974\" opacity=\"0.8\" /><polyline fill=\"none\" stroke=\"#66cc99\" stroke-width=\"0.30540415314962943\" points=\"1.0,0.0 -3.9908809889575423,-5.009102410019402\" opacity=\"0.8\" /><polyline fill=\"none\" stroke=\"#66cc99\" stroke-width=\"0.30540415314962943\" points=\"1.0,0.0 0.8432895714938317,-7.0693310745499405\" opacity=\"0.8\" /><polyline fill=\"none\" stroke=\"#66cc99\" stroke-width=\"0.30540415314962943\" points=\"1.0,0.0 -5.144481467043506,3.499335294189297\" opacity=\"0.8\" /><polyline fill=\"none\" stroke=\"#66cc99\" stroke-width=\"0.30540415314962943\" points=\"1.0,0.0 8.048541079881044,-0.5639757487954454\" opacity=\"0.8\" /><polyline fill=\"none\" stroke=\"#66cc99\" stroke-width=\"0.30540415314962943\" points=\"1.0,0.0 0.6400091548058953,7.061898228619302\" opacity=\"0.8\" /><polyline fill=\"none\" stroke=\"#66cc99\" stroke-width=\"0.30540415314962943\" points=\"1.0,0.0 -3.323293458377255,-5.595456520495217\" opacity=\"0.8\" /><polyline fill=\"none\" stroke=\"#66cc99\" stroke-width=\"0.30540415314962943\" points=\"1.0,0.0 -4.351292559317629,4.622084804997826\" opacity=\"0.8\" /><polyline fill=\"none\" stroke=\"#66cc99\" stroke-width=\"0.30540415314962943\" points=\"1.0,0.0 -5.087477478466555,-3.597585016252218\" opacity=\"0.8\" /><polyline fill=\"none\" stroke=\"#66cc99\" stroke-width=\"0.30540415314962943\" points=\"1.0,0.0 -4.422262254022525,4.538620059952428\" opacity=\"0.8\" /><polyline fill=\"none\" stroke=\"#66cc99\" stroke-width=\"0.30540415314962943\" points=\"1.0,0.0 7.189524119352123,-3.419033661132678\" opacity=\"0.8\" /><polyline fill=\"none\" stroke=\"#66cc99\" stroke-width=\"0.30540415314962943\" points=\"1.0,0.0 6.858116010098148,3.960110707067639\" opacity=\"0.8\" /><polyline fill=\"none\" stroke=\"#66cc99\" stroke-width=\"0.30540415314962943\" points=\"1.0,0.0 -3.466171588674036,5.482090052208267\" opacity=\"0.8\" /><polyline fill=\"none\" stroke=\"#66cc99\" stroke-width=\"0.30540415314962943\" points=\"1.0,0.0 3.538943695813222,6.599527627754149\" opacity=\"0.8\" /><polyline fill=\"none\" stroke=\"#66cc99\" stroke-width=\"0.30540415314962943\" points=\"1.0,0.0 -5.598140214611322,2.5425470906806926\" opacity=\"0.8\" /><polyline fill=\"none\" stroke=\"#66cc99\" stroke-width=\"0.30540415314962943\" points=\"1.0,0.0 -3.823975879093883,-5.1700344987166575\" opacity=\"0.8\" /><polyline fill=\"none\" stroke=\"#66cc99\" stroke-width=\"0.30540415314962943\" points=\"1.0,0.0 0.5687315359391244,7.057903903561352\" opacity=\"0.8\" /><polyline fill=\"none\" stroke=\"#66cc99\" stroke-width=\"0.30540415314962943\" points=\"1.0,0.0 5.297655340017691,-5.61517217709461\" opacity=\"0.8\" /><polyline fill=\"none\" stroke=\"#66cc99\" stroke-width=\"0.30540415314962943\" points=\"1.0,0.0 4.464635965425186,6.164113693555812\" opacity=\"0.8\" /><polyline fill=\"none\" stroke=\"#66cc99\" stroke-width=\"0.30540415314962943\" points=\"1.0,0.0 -3.351792423757532,5.5733206170582505\" opacity=\"0.8\" /><polyline fill=\"none\" stroke=\"#66cc99\" stroke-width=\"0.30540415314962943\" points=\"1.0,0.0 -0.7610372560823226,6.848266042049626\" opacity=\"0.8\" /><polyline fill=\"none\" stroke=\"#66cc99\" stroke-width=\"0.30540415314962943\" points=\"1.0,0.0 -5.891302321698856,1.584282901172629\" opacity=\"0.8\" /><polyline fill=\"none\" stroke=\"#66cc99\" stroke-width=\"0.30540415314962943\" points=\"1.0,0.0 0.610185482488639,-7.060314769324197\" opacity=\"0.8\" /><polyline fill=\"none\" stroke=\"#66cc99\" stroke-width=\"0.30540415314962943\" points=\"1.0,0.0 -2.2814590946238775,-6.263547414230233\" opacity=\"0.8\" /><polyline fill=\"none\" stroke=\"#66cc99\" stroke-width=\"0.30540415314962943\" points=\"1.0,0.0 0.7466053437418274,7.066526101853711\" opacity=\"0.8\" /><polyline fill=\"none\" stroke=\"#66cc99\" stroke-width=\"0.30540415314962943\" points=\"1.0,0.0 -3.099853979036581,-5.761180204661014\" opacity=\"0.8\" /><polyline fill=\"none\" stroke=\"#66cc99\" stroke-width=\"0.30540415314962943\" points=\"1.0,0.0 1.7559410926272478,7.030544293614651\" opacity=\"0.8\" /><polyline fill=\"none\" stroke=\"#66cc99\" stroke-width=\"0.30540415314962943\" points=\"1.0,0.0 5.244473906248903,5.655478870897864\" opacity=\"0.8\" /><polyline fill=\"none\" stroke=\"#66cc99\" stroke-width=\"0.30540415314962943\" points=\"1.0,0.0 -2.361800607581972,-6.220795501771577\" opacity=\"0.8\" /><polyline fill=\"none\" stroke=\"#66cc99\" stroke-width=\"0.30540415314962943\" points=\"1.0,0.0 2.6681526023151814,6.871482146916275\" opacity=\"0.8\" /><polyline fill=\"none\" stroke=\"#66cc99\" stroke-width=\"0.30540415314962943\" points=\"1.0,0.0 7.52988578449085,2.7130410320347753\" opacity=\"0.8\" /><polyline fill=\"none\" stroke=\"#66cc99\" stroke-width=\"0.30540415314962943\" points=\"1.0,0.0 -2.975110522516759,-5.847948044722742\" opacity=\"0.8\" /><polyline fill=\"none\" stroke=\"#66cc99\" stroke-width=\"0.30540415314962943\" points=\"1.0,0.0 7.879071994769075,1.6365721770773913\" opacity=\"0.8\" /><polyline fill=\"none\" stroke=\"#66cc99\" stroke-width=\"0.30540415314962943\" points=\"1.0,0.0 -5.970048961478887,-1.1909733307623236\" opacity=\"0.8\" /><polyline fill=\"none\" stroke=\"#66cc99\" stroke-width=\"0.30540415314962943\" points=\"1.0,0.0 4.065883858706634,6.371840877244356\" opacity=\"0.8\" /><polyline fill=\"none\" stroke=\"#66cc99\" stroke-width=\"0.30540415314962943\" points=\"1.0,0.0 -5.938642980010547,-1.362069600259238\" opacity=\"0.8\" /><polyline fill=\"none\" stroke=\"#66cc99\" stroke-width=\"0.30540415314962943\" points=\"1.0,0.0 7.359706297037046,3.090976514861824\" opacity=\"0.8\" /><polyline fill=\"none\" stroke=\"#66cc99\" stroke-width=\"0.30540415314962943\" points=\"1.0,0.0 5.270448169641298,-5.635891449487586\" opacity=\"0.8\" /><polyline fill=\"none\" stroke=\"#66cc99\" stroke-width=\"0.30540415314962943\" points=\"1.0,0.0 0.24573361876667765,-7.03072416086289\" opacity=\"0.8\" /><polyline fill=\"none\" stroke=\"#66cc99\" stroke-width=\"0.30540415314962943\" points=\"1.0,0.0 -6.0514356783535295,0.526549972977789\" opacity=\"0.8\" /><polyline fill=\"none\" stroke=\"#66cc99\" stroke-width=\"0.30540415314962943\" points=\"1.0,0.0 -0.8140264408638098,6.834420829291022\" opacity=\"0.8\" /><polyline fill=\"none\" stroke=\"#66cc99\" stroke-width=\"0.30540415314962943\" points=\"1.0,0.0 6.472164278926177,-4.478327601286486\" opacity=\"0.8\" /><polyline fill=\"none\" stroke=\"#66cc99\" stroke-width=\"0.30540415314962943\" points=\"1.0,0.0 1.7178279161270993,7.034537872726867\" opacity=\"0.8\" /><polyline fill=\"none\" stroke=\"#66cc99\" stroke-width=\"0.30540415314962943\" points=\"1.0,0.0 7.910818106160464,-1.4968610835894887\" opacity=\"0.8\" /><polyline fill=\"none\" stroke=\"#66cc99\" stroke-width=\"0.30540415314962943\" points=\"1.0,0.0 8.021398892472888,-0.8366346829892491\" opacity=\"0.8\" /><polyline fill=\"none\" stroke=\"#66cc99\" stroke-width=\"0.30540415314962943\" points=\"1.0,0.0 -2.913292628805003,5.889494104024592\" opacity=\"0.8\" /><polyline fill=\"none\" stroke=\"#66cc99\" stroke-width=\"0.30540415314962943\" points=\"1.0,0.0 0.819461598151739,-7.068762684194319\" opacity=\"0.8\" /><polyline fill=\"none\" stroke=\"#66cc99\" stroke-width=\"0.30540415314962943\" points=\"1.0,0.0 -5.250004522996158,3.3071805911573042\" opacity=\"0.8\" /><polyline fill=\"none\" stroke=\"#66cc99\" stroke-width=\"0.30540415314962943\" points=\"1.0,0.0 1.4334986694842329,7.057767274680811\" opacity=\"0.8\" /><polyline fill=\"none\" stroke=\"#66cc99\" stroke-width=\"0.30540415314962943\" points=\"1.0,0.0 -0.04646305577943144,6.9932049214139855\" opacity=\"0.8\" /><polyline fill=\"none\" stroke=\"#66cc99\" stroke-width=\"0.30540415314962943\" points=\"1.0,0.0 7.951319808667978,-1.2958213293584082\" opacity=\"0.8\" /><polyline fill=\"none\" stroke=\"#66cc99\" stroke-width=\"0.30540415314962943\" points=\"1.0,0.0 -5.473889364145616,-2.84407392674703\" opacity=\"0.8\" /></g></g></svg>"
      ],
      "text/plain": [
       "<shapely.geometry.multilinestring.MultiLineString at 0x7faf8a5cdcf8>"
      ]
     },
     "execution_count": 24,
     "metadata": {},
     "output_type": "execute_result"
    }
   ],
   "source": [
    "import numpy as np\n",
    "from scipy.interpolate import UnivariateSpline\n",
    "import shapely.geometry as geo\n",
    "\n",
    "import sys\n",
    "sys.path.append(\"../\")\n",
    "\n",
    "from electronfactors.ellipse.sectorintegration import make_rays\n",
    "from electronfactors.ellipse.utilities import shapely_cutout, shapely_point\n",
    "\n",
    "x = np.array([-3, -2.5, -2, 3, 3, -3, -4, -3])\n",
    "y = np.array([3, -2, 3, 3, -3, -3, 3, -2])\n",
    "\n",
    "circle_diameter = np.array([3, 4, 5, 6, 7, 8, 9])\n",
    "circle_factors = np.array(\n",
    "    [0.9296, 0.9562, 0.9705, 0.9858, 1.0032, 1.0067, 1.0084])\n",
    "\n",
    "\n",
    "def circle_fit(radii):\n",
    "\n",
    "    circle_radii = circle_diameter/2\n",
    "\n",
    "    spline = UnivariateSpline(circle_radii, circle_factors)\n",
    "    results = spline(radii)\n",
    "\n",
    "    results[radii > np.max(circle_radii)] = np.max(circle_factors)\n",
    "    results[radii < np.min(circle_radii)] = 0\n",
    "\n",
    "    return results\n",
    "\n",
    "\n",
    "cutout = shapely_cutout(x, y)\n",
    "point_of_interest = shapely_point(*[1, 0])\n",
    "\n",
    "rays = make_rays(point_of_interest, cutout, 100)\n",
    "rays"
   ]
  },
  {
   "cell_type": "code",
   "execution_count": 25,
   "metadata": {
    "collapsed": false
   },
   "outputs": [
    {
     "data": {
      "image/svg+xml": [
       "<svg xmlns=\"http://www.w3.org/2000/svg\" xmlns:xlink=\"http://www.w3.org/1999/xlink\" width=\"100.0\" height=\"100.0\" viewBox=\"-4.250802814561885 -3.278877031329303 7.529679845891188 6.557754062658606\" preserveAspectRatio=\"xMinYMin meet\"><g transform=\"matrix(1,0,0,-1,0,0.0)\"><g><polyline fill=\"none\" stroke=\"#66cc99\" stroke-width=\"0.15059359691782376\" points=\"1.0,0.0 0.4593150443106915,3.0\" opacity=\"0.8\" /><polyline fill=\"none\" stroke=\"#66cc99\" stroke-width=\"0.15059359691782376\" points=\"1.0,0.0 3.0,1.8365325849019303\" opacity=\"0.8\" /><polyline fill=\"none\" stroke=\"#66cc99\" stroke-width=\"0.15059359691782376\" points=\"1.0,0.0 -2.1464276579805226,1.5357234201947763\" opacity=\"0.8\" /><polyline fill=\"none\" stroke=\"#66cc99\" stroke-width=\"0.15059359691782376\" points=\"-2.889858047076895,1.898580470768949 -3.0,1.952339080543746\" opacity=\"0.8\" /><polyline fill=\"none\" stroke=\"#66cc99\" stroke-width=\"0.15059359691782376\" points=\"-3.8759781332733114,2.3798906663665567 -3.8984788179817276,2.3908729078903654\" opacity=\"0.8\" /><polyline fill=\"none\" stroke=\"#66cc99\" stroke-width=\"0.15059359691782376\" points=\"1.0,0.0 -1.1962410649591417,3.0\" opacity=\"0.8\" /><polyline fill=\"none\" stroke=\"#66cc99\" stroke-width=\"0.15059359691782376\" points=\"1.0,0.0 0.541408096369337,3.0\" opacity=\"0.8\" /><polyline fill=\"none\" stroke=\"#66cc99\" stroke-width=\"0.15059359691782376\" points=\"1.0,0.0 3.0,0.429853817456656\" opacity=\"0.8\" /><polyline fill=\"none\" stroke=\"#66cc99\" stroke-width=\"0.15059359691782376\" points=\"1.0,0.0 -2.3530403880085755,-0.5304038800857548\" opacity=\"0.8\" /><polyline fill=\"none\" stroke=\"#66cc99\" stroke-width=\"0.15059359691782376\" points=\"-2.6423826243307094,-0.5761737566929067 -3.0,-0.6327438010978091\" opacity=\"0.8\" /><polyline fill=\"none\" stroke=\"#66cc99\" stroke-width=\"0.15059359691782376\" points=\"-3.265065317939816,-0.6746734103009189 -3.384408041266875,-0.6935517523987507\" opacity=\"0.8\" /><polyline fill=\"none\" stroke=\"#66cc99\" stroke-width=\"0.15059359691782376\" points=\"1.0,0.0 3.0,0.756452522392812\" opacity=\"0.8\" /><polyline fill=\"none\" stroke=\"#66cc99\" stroke-width=\"0.15059359691782376\" points=\"1.0,0.0 -2.3787284496512147,-0.7872844965121476\" opacity=\"0.8\" /><polyline fill=\"none\" stroke=\"#66cc99\" stroke-width=\"0.15059359691782376\" points=\"-2.615748692697148,-0.8425130730285194 -3.0,-0.9320482640070334\" opacity=\"0.8\" /><polyline fill=\"none\" stroke=\"#66cc99\" stroke-width=\"0.15059359691782376\" points=\"-3.2040797388814215,-0.9796013055928928 -3.3317740626995898,-1.0093556238024617\" opacity=\"0.8\" /><polyline fill=\"none\" stroke=\"#66cc99\" stroke-width=\"0.15059359691782376\" points=\"1.0,0.0 -2.4549685845693965,-1.5496858456939635\" opacity=\"0.8\" /><polyline fill=\"none\" stroke=\"#66cc99\" stroke-width=\"0.15059359691782376\" points=\"-2.5411651682448655,-1.5883483175513446 -3.0,-1.794153327604981\" opacity=\"0.8\" /><polyline fill=\"none\" stroke=\"#66cc99\" stroke-width=\"0.15059359691782376\" points=\"-3.037780164120308,-1.8110991793984597 -3.1869953484543365,-1.8780279092739813\" opacity=\"0.8\" /><polyline fill=\"none\" stroke=\"#66cc99\" stroke-width=\"0.15059359691782376\" points=\"1.0,0.0 -0.3114440886316039,-3.0\" opacity=\"0.8\" /><polyline fill=\"none\" stroke=\"#66cc99\" stroke-width=\"0.15059359691782376\" points=\"1.0,0.0 3.0,1.0542344876135827\" opacity=\"0.8\" /><polyline fill=\"none\" stroke=\"#66cc99\" stroke-width=\"0.15059359691782376\" points=\"1.0,0.0 3.0,-1.504628962524831\" opacity=\"0.8\" /><polyline fill=\"none\" stroke=\"#66cc99\" stroke-width=\"0.15059359691782376\" points=\"1.0,0.0 2.262559552841164,-3.0\" opacity=\"0.8\" /><polyline fill=\"none\" stroke=\"#66cc99\" stroke-width=\"0.15059359691782376\" points=\"1.0,0.0 3.0,-0.7646885181062333\" opacity=\"0.8\" /><polyline fill=\"none\" stroke=\"#66cc99\" stroke-width=\"0.15059359691782376\" points=\"1.0,0.0 3.0,2.1874009867287043\" opacity=\"0.8\" /><polyline fill=\"none\" stroke=\"#66cc99\" stroke-width=\"0.15059359691782376\" points=\"1.0,0.0 2.712413257981217,-3.0\" opacity=\"0.8\" /><polyline fill=\"none\" stroke=\"#66cc99\" stroke-width=\"0.15059359691782376\" points=\"1.0,0.0 3.0,-0.21822948298449102\" opacity=\"0.8\" /><polyline fill=\"none\" stroke=\"#66cc99\" stroke-width=\"0.15059359691782376\" points=\"1.0,0.0 -2.283518638195179,0.16481361804820938\" opacity=\"0.8\" /><polyline fill=\"none\" stroke=\"#66cc99\" stroke-width=\"0.15059359691782376\" points=\"-2.7186655472585284,0.18665547258528195 -3.0,0.20077683267094343\" opacity=\"0.8\" /><polyline fill=\"none\" stroke=\"#66cc99\" stroke-width=\"0.15059359691782376\" points=\"-3.4446188245006444,0.2230941225032228 -3.537963245298676,0.22777947179205593\" opacity=\"0.8\" /><polyline fill=\"none\" stroke=\"#66cc99\" stroke-width=\"0.15059359691782376\" points=\"1.0,0.0 -3.086282756360168,-2.4823034618389914\" opacity=\"0.8\" /><polyline fill=\"none\" stroke=\"#66cc99\" stroke-width=\"0.15059359691782376\" points=\"1.0,0.0 -2.6957776526718185,-3.0\" opacity=\"0.8\" /><polyline fill=\"none\" stroke=\"#66cc99\" stroke-width=\"0.15059359691782376\" points=\"1.0,0.0 -2.4263166510214575,-1.2631665102145766\" opacity=\"0.8\" /><polyline fill=\"none\" stroke=\"#66cc99\" stroke-width=\"0.15059359691782376\" points=\"-2.5684436109658053,-1.3155638903419467 -3.0,-1.4746640650834182\" opacity=\"0.8\" /><polyline fill=\"none\" stroke=\"#66cc99\" stroke-width=\"0.15059359691782376\" points=\"-3.0978522287146273,-1.5107388564268645 -3.2395063473291907,-1.5629619160248547\" opacity=\"0.8\" /><polyline fill=\"none\" stroke=\"#66cc99\" stroke-width=\"0.15059359691782376\" points=\"1.0,0.0 3.0,1.1043084004627743\" opacity=\"0.8\" /><polyline fill=\"none\" stroke=\"#66cc99\" stroke-width=\"0.15059359691782376\" points=\"1.0,0.0 3.0,-0.9333541238399297\" opacity=\"0.8\" /><polyline fill=\"none\" stroke=\"#66cc99\" stroke-width=\"0.15059359691782376\" points=\"1.0,0.0 1.389840379768526,-3.0\" opacity=\"0.8\" /><polyline fill=\"none\" stroke=\"#66cc99\" stroke-width=\"0.15059359691782376\" points=\"1.0,0.0 3.0,-0.4279606456324293\" opacity=\"0.8\" /><polyline fill=\"none\" stroke=\"#66cc99\" stroke-width=\"0.15059359691782376\" points=\"1.0,0.0 3.0,-0.9116481276292202\" opacity=\"0.8\" /><polyline fill=\"none\" stroke=\"#66cc99\" stroke-width=\"0.15059359691782376\" points=\"1.0,0.0 0.9246399802152655,3.0\" opacity=\"0.8\" /><polyline fill=\"none\" stroke=\"#66cc99\" stroke-width=\"0.15059359691782376\" points=\"1.0,0.0 3.0,-0.9537462825018952\" opacity=\"0.8\" /><polyline fill=\"none\" stroke=\"#66cc99\" stroke-width=\"0.15059359691782376\" points=\"1.0,0.0 -2.1044421925008487,1.955578074991514\" opacity=\"0.8\" /><polyline fill=\"none\" stroke=\"#66cc99\" stroke-width=\"0.15059359691782376\" points=\"-2.9487427453210513,2.487427453210513 -3.0,2.5197158828925166\" opacity=\"0.8\" /><polyline fill=\"none\" stroke=\"#66cc99\" stroke-width=\"0.15059359691782376\" points=\"1.0,0.0 3.0,-0.8976222440531174\" opacity=\"0.8\" /><polyline fill=\"none\" stroke=\"#66cc99\" stroke-width=\"0.15059359691782376\" points=\"1.0,0.0 3.0,-2.9679509493526464\" opacity=\"0.8\" /><polyline fill=\"none\" stroke=\"#66cc99\" stroke-width=\"0.15059359691782376\" points=\"1.0,0.0 2.9485517229492686,-3.0\" opacity=\"0.8\" /><polyline fill=\"none\" stroke=\"#66cc99\" stroke-width=\"0.15059359691782376\" points=\"1.0,0.0 3.0,-0.6475277196488198\" opacity=\"0.8\" /><polyline fill=\"none\" stroke=\"#66cc99\" stroke-width=\"0.15059359691782376\" points=\"1.0,0.0 3.0,-0.5430898320620342\" opacity=\"0.8\" /><polyline fill=\"none\" stroke=\"#66cc99\" stroke-width=\"0.15059359691782376\" points=\"1.0,0.0 -0.5999134596413678,3.0\" opacity=\"0.8\" /><polyline fill=\"none\" stroke=\"#66cc99\" stroke-width=\"0.15059359691782376\" points=\"1.0,0.0 2.0760945959889723,3.0\" opacity=\"0.8\" /><polyline fill=\"none\" stroke=\"#66cc99\" stroke-width=\"0.15059359691782376\" points=\"1.0,0.0 -3.0057800472978595,-2.965319716212842\" opacity=\"0.8\" /><polyline fill=\"none\" stroke=\"#66cc99\" stroke-width=\"0.15059359691782376\" points=\"1.0,0.0 3.0,-2.747569709791762\" opacity=\"0.8\" /><polyline fill=\"none\" stroke=\"#66cc99\" stroke-width=\"0.15059359691782376\" points=\"1.0,0.0 1.3309188430638863,3.0\" opacity=\"0.8\" /><polyline fill=\"none\" stroke=\"#66cc99\" stroke-width=\"0.15059359691782376\" points=\"1.0,0.0 3.0,1.5203653551622973\" opacity=\"0.8\" /><polyline fill=\"none\" stroke=\"#66cc99\" stroke-width=\"0.15059359691782376\" points=\"1.0,0.0 1.045818174671497,-3.0\" opacity=\"0.8\" /><polyline fill=\"none\" stroke=\"#66cc99\" stroke-width=\"0.15059359691782376\" points=\"1.0,0.0 3.0,0.26566751445622777\" opacity=\"0.8\" /><polyline fill=\"none\" stroke=\"#66cc99\" stroke-width=\"0.15059359691782376\" points=\"1.0,0.0 3.0,-2.6175473083097387\" opacity=\"0.8\" /><polyline fill=\"none\" stroke=\"#66cc99\" stroke-width=\"0.15059359691782376\" points=\"1.0,0.0 -0.6012795079488046,3.0\" opacity=\"0.8\" /><polyline fill=\"none\" stroke=\"#66cc99\" stroke-width=\"0.15059359691782376\" points=\"1.0,0.0 -2.409663884656308,-1.0966388465630768\" opacity=\"0.8\" /><polyline fill=\"none\" stroke=\"#66cc99\" stroke-width=\"0.15059359691782376\" points=\"-2.5847062848858804,-1.1529371511411952 -3.0,-1.2865066864778285\" opacity=\"0.8\" /><polyline fill=\"none\" stroke=\"#66cc99\" stroke-width=\"0.15059359691782376\" points=\"-3.13407428922575,-1.3296285538712507 -3.271052594930161,-1.3736844304190332\" opacity=\"0.8\" /><polyline fill=\"none\" stroke=\"#66cc99\" stroke-width=\"0.15059359691782376\" points=\"1.0,0.0 0.31018318270243117,3.0\" opacity=\"0.8\" /><polyline fill=\"none\" stroke=\"#66cc99\" stroke-width=\"0.15059359691782376\" points=\"1.0,0.0 3.0,-1.9858931995217988\" opacity=\"0.8\" /><polyline fill=\"none\" stroke=\"#66cc99\" stroke-width=\"0.15059359691782376\" points=\"1.0,0.0 -2.3817585578149196,-0.8175855781491973\" opacity=\"0.8\" /><polyline fill=\"none\" stroke=\"#66cc99\" stroke-width=\"0.15059359691782376\" points=\"-2.6126591110088415,-0.8734088899115842 -3.0,-0.9670537552242875\" opacity=\"0.8\" /><polyline fill=\"none\" stroke=\"#66cc99\" stroke-width=\"0.15059359691782376\" points=\"-3.19706082825649,-1.0146958587175494 -3.325700623662946,-1.0457962580223237\" opacity=\"0.8\" /><polyline fill=\"none\" stroke=\"#66cc99\" stroke-width=\"0.15059359691782376\" points=\"1.0,0.0 -1.9890870142570378,-3.0\" opacity=\"0.8\" /><polyline fill=\"none\" stroke=\"#66cc99\" stroke-width=\"0.15059359691782376\" points=\"1.0,0.0 0.9334970620896497,-3.0\" opacity=\"0.8\" /><polyline fill=\"none\" stroke=\"#66cc99\" stroke-width=\"0.15059359691782376\" points=\"1.0,0.0 -2.122188657837313,1.7781134216268701\" opacity=\"0.8\" /><polyline fill=\"none\" stroke=\"#66cc99\" stroke-width=\"0.15059359691782376\" points=\"-2.923443497713268,2.2344349771326817 -3.0,2.278034566762585\" opacity=\"0.8\" /><polyline fill=\"none\" stroke=\"#66cc99\" stroke-width=\"0.15059359691782376\" points=\"-3.9655891910812926,2.827945955406462 -3.9719257832325816,2.83155469939549\" opacity=\"0.8\" /><polyline fill=\"none\" stroke=\"#66cc99\" stroke-width=\"0.15059359691782376\" points=\"1.0,0.0 3.0,-0.160026235898724\" opacity=\"0.8\" /><polyline fill=\"none\" stroke=\"#66cc99\" stroke-width=\"0.15059359691782376\" points=\"1.0,0.0 0.8470705041874466,3.0\" opacity=\"0.8\" /><polyline fill=\"none\" stroke=\"#66cc99\" stroke-width=\"0.15059359691782376\" points=\"1.0,0.0 -1.3179306867322214,-3.0\" opacity=\"0.8\" /><polyline fill=\"none\" stroke=\"#66cc99\" stroke-width=\"0.15059359691782376\" points=\"1.0,0.0 -2.0376300485366063,2.623699514633936\" opacity=\"0.8\" /><polyline fill=\"none\" stroke=\"#66cc99\" stroke-width=\"0.15059359691782376\" points=\"1.0,0.0 -3.096506877852452,-2.4209587328852904\" opacity=\"0.8\" /><polyline fill=\"none\" stroke=\"#66cc99\" stroke-width=\"0.15059359691782376\" points=\"1.0,0.0 -2.0451135215136222,2.5488647848637775\" opacity=\"0.8\" /><polyline fill=\"none\" stroke=\"#66cc99\" stroke-width=\"0.15059359691782376\" points=\"1.0,0.0 3.0,-1.1047807861165775\" opacity=\"0.8\" /><polyline fill=\"none\" stroke=\"#66cc99\" stroke-width=\"0.15059359691782376\" points=\"1.0,0.0 3.0,1.3520082908024522\" opacity=\"0.8\" /><polyline fill=\"none\" stroke=\"#66cc99\" stroke-width=\"0.15059359691782376\" points=\"1.0,0.0 -1.4440522936366187,3.0\" opacity=\"0.8\" /><polyline fill=\"none\" stroke=\"#66cc99\" stroke-width=\"0.15059359691782376\" points=\"1.0,0.0 2.154147920437104,3.0\" opacity=\"0.8\" /><polyline fill=\"none\" stroke=\"#66cc99\" stroke-width=\"0.15059359691782376\" points=\"1.0,0.0 -2.1775551395870063,1.2244486041299354\" opacity=\"0.8\" /><polyline fill=\"none\" stroke=\"#66cc99\" stroke-width=\"0.15059359691782376\" points=\"-2.848291204614245,1.4829120461424479 -3.0,1.541371967240297\" opacity=\"0.8\" /><polyline fill=\"none\" stroke=\"#66cc99\" stroke-width=\"0.15059359691782376\" points=\"-3.7674182416927624,1.837091208463813 -3.808842278453686,1.853053670722118\" opacity=\"0.8\" /><polyline fill=\"none\" stroke=\"#66cc99\" stroke-width=\"0.15059359691782376\" points=\"1.0,0.0 -1.7991936303082645,-3.0\" opacity=\"0.8\" /><polyline fill=\"none\" stroke=\"#66cc99\" stroke-width=\"0.15059359691782376\" points=\"1.0,0.0 0.8166870206989096,3.0\" opacity=\"0.8\" /><polyline fill=\"none\" stroke=\"#66cc99\" stroke-width=\"0.15059359691782376\" points=\"1.0,0.0 3.0,-2.6131328516779084\" opacity=\"0.8\" /><polyline fill=\"none\" stroke=\"#66cc99\" stroke-width=\"0.15059359691782376\" points=\"1.0,0.0 2.6861966558374366,3.0\" opacity=\"0.8\" /><polyline fill=\"none\" stroke=\"#66cc99\" stroke-width=\"0.15059359691782376\" points=\"1.0,0.0 -1.3424773430966863,3.0\" opacity=\"0.8\" /><polyline fill=\"none\" stroke=\"#66cc99\" stroke-width=\"0.15059359691782376\" points=\"1.0,0.0 0.22854752782563054,3.0\" opacity=\"0.8\" /><polyline fill=\"none\" stroke=\"#66cc99\" stroke-width=\"0.15059359691782376\" points=\"1.0,0.0 -2.225839243203042,0.7416075679695835\" opacity=\"0.8\" /><polyline fill=\"none\" stroke=\"#66cc99\" stroke-width=\"0.15059359691782376\" points=\"-2.787063068562442,0.8706306856244188 -3.0,0.91958403634921\" opacity=\"0.8\" /><polyline fill=\"none\" stroke=\"#66cc99\" stroke-width=\"0.15059359691782376\" points=\"-3.612058781508993,1.0602939075449647 -3.679291749771259,1.0757504986275528\" opacity=\"0.8\" /><polyline fill=\"none\" stroke=\"#66cc99\" stroke-width=\"0.15059359691782376\" points=\"1.0,0.0 0.834363822188905,-3.0\" opacity=\"0.8\" /><polyline fill=\"none\" stroke=\"#66cc99\" stroke-width=\"0.15059359691782376\" points=\"1.0,0.0 -0.5716935839754429,-3.0\" opacity=\"0.8\" /><polyline fill=\"none\" stroke=\"#66cc99\" stroke-width=\"0.15059359691782376\" points=\"1.0,0.0 0.8924246570638006,3.0\" opacity=\"0.8\" /><polyline fill=\"none\" stroke=\"#66cc99\" stroke-width=\"0.15059359691782376\" points=\"1.0,0.0 -1.1349031795879132,-3.0\" opacity=\"0.8\" /><polyline fill=\"none\" stroke=\"#66cc99\" stroke-width=\"0.15059359691782376\" points=\"1.0,0.0 1.322567241335987,3.0\" opacity=\"0.8\" /><polyline fill=\"none\" stroke=\"#66cc99\" stroke-width=\"0.15059359691782376\" points=\"1.0,0.0 3.0,2.6648668342955846\" opacity=\"0.8\" /><polyline fill=\"none\" stroke=\"#66cc99\" stroke-width=\"0.15059359691782376\" points=\"1.0,0.0 -0.6212398912444178,-3.0\" opacity=\"0.8\" /><polyline fill=\"none\" stroke=\"#66cc99\" stroke-width=\"0.15059359691782376\" points=\"1.0,0.0 1.728293794547862,3.0\" opacity=\"0.8\" /><polyline fill=\"none\" stroke=\"#66cc99\" stroke-width=\"0.15059359691782376\" points=\"1.0,0.0 3.0,0.8309612515669191\" opacity=\"0.8\" /><polyline fill=\"none\" stroke=\"#66cc99\" stroke-width=\"0.15059359691782376\" points=\"1.0,0.0 -1.0392335014521612,-3.0\" opacity=\"0.8\" /><polyline fill=\"none\" stroke=\"#66cc99\" stroke-width=\"0.15059359691782376\" points=\"1.0,0.0 3.0,0.4758119055366362\" opacity=\"0.8\" /><polyline fill=\"none\" stroke=\"#66cc99\" stroke-width=\"0.15059359691782376\" points=\"1.0,0.0 -2.3573673878417387,-0.5736738784173875\" opacity=\"0.8\" /><polyline fill=\"none\" stroke=\"#66cc99\" stroke-width=\"0.15059359691782376\" points=\"-2.637840169454464,-0.6215983054553587 -3.0,-0.6834806110226381\" opacity=\"0.8\" /><polyline fill=\"none\" stroke=\"#66cc99\" stroke-width=\"0.15059359691782376\" points=\"-3.2546030648779225,-0.7269846756103879 -3.3753959055422516,-0.7476245667464918\" opacity=\"0.8\" /><polyline fill=\"none\" stroke=\"#66cc99\" stroke-width=\"0.15059359691782376\" points=\"1.0,0.0 2.443484191353132,3.0\" opacity=\"0.8\" /><polyline fill=\"none\" stroke=\"#66cc99\" stroke-width=\"0.15059359691782376\" points=\"1.0,0.0 -2.3660767652595376,-0.6607676525953781\" opacity=\"0.8\" /><polyline fill=\"none\" stroke=\"#66cc99\" stroke-width=\"0.15059359691782376\" points=\"-2.6287665807236444,-0.7123341927635573 -3.0,-0.7852080611054397\" opacity=\"0.8\" /><polyline fill=\"none\" stroke=\"#66cc99\" stroke-width=\"0.15059359691782376\" points=\"-3.2337800873242646,-0.8310995633786763 -3.3574376996851045,-0.8553738018893722\" opacity=\"0.8\" /><polyline fill=\"none\" stroke=\"#66cc99\" stroke-width=\"0.15059359691782376\" points=\"1.0,0.0 3.0,0.9720500823448069\" opacity=\"0.8\" /><polyline fill=\"none\" stroke=\"#66cc99\" stroke-width=\"0.15059359691782376\" points=\"1.0,0.0 3.0,-2.639484768626043\" opacity=\"0.8\" /><polyline fill=\"none\" stroke=\"#66cc99\" stroke-width=\"0.15059359691782376\" points=\"1.0,0.0 0.6781556078823251,-3.0\" opacity=\"0.8\" /><polyline fill=\"none\" stroke=\"#66cc99\" stroke-width=\"0.15059359691782376\" points=\"1.0,0.0 -2.2755406428470537,0.2445935715294622\" opacity=\"0.8\" /><polyline fill=\"none\" stroke=\"#66cc99\" stroke-width=\"0.15059359691782376\" points=\"-2.727836775987156,0.27836775987155704 -3.0,0.29869093160372445\" opacity=\"0.8\" /><polyline fill=\"none\" stroke=\"#66cc99\" stroke-width=\"0.15059359691782376\" points=\"-3.466708262608022,0.3335413130401109 -3.556710335633276,0.34026201379965576\" opacity=\"0.8\" /><polyline fill=\"none\" stroke=\"#66cc99\" stroke-width=\"0.15059359691782376\" points=\"1.0,0.0 0.20372487171587136,3.0\" opacity=\"0.8\" /><polyline fill=\"none\" stroke=\"#66cc99\" stroke-width=\"0.15059359691782376\" points=\"1.0,0.0 3.0,-1.6367665051771012\" opacity=\"0.8\" /><polyline fill=\"none\" stroke=\"#66cc99\" stroke-width=\"0.15059359691782376\" points=\"1.0,0.0 1.306130095159545,3.0\" opacity=\"0.8\" /><polyline fill=\"none\" stroke=\"#66cc99\" stroke-width=\"0.15059359691782376\" points=\"1.0,0.0 3.0,-0.4331935989619382\" opacity=\"0.8\" /><polyline fill=\"none\" stroke=\"#66cc99\" stroke-width=\"0.15059359691782376\" points=\"1.0,0.0 3.0,-0.23830997093361042\" opacity=\"0.8\" /><polyline fill=\"none\" stroke=\"#66cc99\" stroke-width=\"0.15059359691782376\" points=\"1.0,0.0 -0.9933593071079827,3.0\" opacity=\"0.8\" /><polyline fill=\"none\" stroke=\"#66cc99\" stroke-width=\"0.15059359691782376\" points=\"1.0,0.0 0.9233790650864784,-3.0\" opacity=\"0.8\" /><polyline fill=\"none\" stroke=\"#66cc99\" stroke-width=\"0.15059359691782376\" points=\"1.0,0.0 -2.1341565714913227,1.6584342850867717\" opacity=\"0.8\" /><polyline fill=\"none\" stroke=\"#66cc99\" stroke-width=\"0.15059359691782376\" points=\"-2.906723703303595,2.0672370330359486 -3.0,2.1165940466051962\" opacity=\"0.8\" /><polyline fill=\"none\" stroke=\"#66cc99\" stroke-width=\"0.15059359691782376\" points=\"-3.920762869742661,2.6038143487133043 -3.935246379380254,2.611478276281524\" opacity=\"0.8\" /><polyline fill=\"none\" stroke=\"#66cc99\" stroke-width=\"0.15059359691782376\" points=\"1.0,0.0 1.1842645071506008,3.0\" opacity=\"0.8\" /><polyline fill=\"none\" stroke=\"#66cc99\" stroke-width=\"0.15059359691782376\" points=\"1.0,0.0 0.5510800551939885,3.0\" opacity=\"0.8\" /><polyline fill=\"none\" stroke=\"#66cc99\" stroke-width=\"0.15059359691782376\" points=\"1.0,0.0 3.0,-0.37282742415118875\" opacity=\"0.8\" /><polyline fill=\"none\" stroke=\"#66cc99\" stroke-width=\"0.15059359691782376\" points=\"1.0,0.0 -2.451635371126782,-1.516353711267823\" opacity=\"0.8\" /><polyline fill=\"none\" stroke=\"#66cc99\" stroke-width=\"0.15059359691782376\" points=\"-2.5442940002842525,-1.5570599971574741 -3.0,-1.7572582827864704\" opacity=\"0.8\" /><polyline fill=\"none\" stroke=\"#66cc99\" stroke-width=\"0.15059359691782376\" points=\"-3.044627262140943,-1.7768636892952843 -3.192992857169748,-1.8420428569815122\" opacity=\"0.8\" /></g></g></svg>"
      ],
      "text/plain": [
       "<shapely.geometry.multilinestring.MultiLineString at 0x7fafa52263c8>"
      ]
     },
     "execution_count": 25,
     "metadata": {},
     "output_type": "execute_result"
    }
   ],
   "source": [
    "intersection = cutout.intersection(rays)\n",
    "intersection"
   ]
  },
  {
   "cell_type": "code",
   "execution_count": 26,
   "metadata": {
    "collapsed": true
   },
   "outputs": [],
   "source": [
    "line_ends = [\n",
    "    geo.MultiPoint(intersection[i].coords) for i in range(len(intersection))\n",
    "]\n",
    "\n",
    "distances = [[\n",
    "        line_ends[j][i].distance(point_of_interest) for i in range(2)\n",
    "    ] for j in range(len(intersection))]\n",
    "\n",
    "begin_at_POI = np.array([distances[i][0] == 0.0 for i in range(len(distances))])"
   ]
  },
  {
   "cell_type": "code",
   "execution_count": 27,
   "metadata": {
    "collapsed": false
   },
   "outputs": [
    {
     "data": {
      "text/plain": [
       "array([ True,  True,  True, False, False,  True,  True,  True,  True,\n",
       "       False, False,  True,  True, False, False,  True, False, False,\n",
       "        True,  True,  True,  True,  True,  True,  True,  True,  True,\n",
       "       False, False,  True,  True,  True, False, False,  True,  True,\n",
       "        True,  True,  True,  True,  True,  True, False,  True,  True,\n",
       "        True,  True,  True,  True,  True,  True,  True,  True,  True,\n",
       "        True,  True,  True,  True,  True, False, False,  True,  True,\n",
       "        True, False, False,  True,  True,  True, False, False,  True,\n",
       "        True,  True,  True,  True,  True,  True,  True,  True,  True,\n",
       "        True, False, False,  True,  True,  True,  True,  True,  True,\n",
       "        True, False, False,  True,  True,  True,  True,  True,  True,\n",
       "        True,  True,  True,  True,  True,  True, False, False,  True,\n",
       "        True, False, False,  True,  True,  True,  True, False, False,\n",
       "        True,  True,  True,  True,  True,  True,  True,  True, False,\n",
       "       False,  True,  True,  True,  True, False, False], dtype=bool)"
      ]
     },
     "execution_count": 27,
     "metadata": {},
     "output_type": "execute_result"
    }
   ],
   "source": [
    "begin_at_POI"
   ]
  },
  {
   "cell_type": "code",
   "execution_count": 53,
   "metadata": {
    "collapsed": false
   },
   "outputs": [
    {
     "data": {
      "text/plain": [
       "[[2, 3, 4],\n",
       " [8, 9, 10],\n",
       " [12, 13, 14],\n",
       " [15, 16, 17],\n",
       " [26, 27, 28],\n",
       " [31, 32, 33],\n",
       " [41, 42],\n",
       " [58, 59, 60],\n",
       " [63, 64, 65],\n",
       " [68, 69, 70],\n",
       " [81, 82, 83],\n",
       " [90, 91, 92],\n",
       " [104, 105, 106],\n",
       " [108, 109, 110],\n",
       " [114, 115, 116],\n",
       " [124, 125, 126],\n",
       " [130, 131, 132]]"
      ]
     },
     "execution_count": 53,
     "metadata": {},
     "output_type": "execute_result"
    }
   ],
   "source": [
    "segment_groups_indices  = []\n",
    "full_lines_index = np.arange(len(begin_at_POI)).astype('float')\n",
    "\n",
    "for i in range(1, len(begin_at_POI)):\n",
    "\n",
    "    if (~begin_at_POI[i]) & (begin_at_POI[i-1]):\n",
    "        j = int(i)\n",
    "        new_segment = [j - 1]\n",
    "        full_lines_index[j - 1] = np.nan\n",
    "\n",
    "        while ~(begin_at_POI[j]):\n",
    "            new_segment.append(j)\n",
    "            full_lines_index[j] = np.nan\n",
    "            j += 1\n",
    "            if j == len(begin_at_POI):\n",
    "                break\n",
    "\n",
    "        segment_groups_indices.append(new_segment)\n",
    "        \n",
    "segment_groups_indices"
   ]
  },
  {
   "cell_type": "code",
   "execution_count": 54,
   "metadata": {
    "collapsed": false
   },
   "outputs": [
    {
     "data": {
      "text/plain": [
       "array([   0.,    1.,   nan,   nan,   nan,    5.,    6.,    7.,   nan,\n",
       "         nan,   nan,   11.,   nan,   nan,   nan,   nan,   nan,   nan,\n",
       "         18.,   19.,   20.,   21.,   22.,   23.,   24.,   25.,   nan,\n",
       "         nan,   nan,   29.,   30.,   nan,   nan,   nan,   34.,   35.,\n",
       "         36.,   37.,   38.,   39.,   40.,   nan,   nan,   43.,   44.,\n",
       "         45.,   46.,   47.,   48.,   49.,   50.,   51.,   52.,   53.,\n",
       "         54.,   55.,   56.,   57.,   nan,   nan,   nan,   61.,   62.,\n",
       "         nan,   nan,   nan,   66.,   67.,   nan,   nan,   nan,   71.,\n",
       "         72.,   73.,   74.,   75.,   76.,   77.,   78.,   79.,   80.,\n",
       "         nan,   nan,   nan,   84.,   85.,   86.,   87.,   88.,   89.,\n",
       "         nan,   nan,   nan,   93.,   94.,   95.,   96.,   97.,   98.,\n",
       "         99.,  100.,  101.,  102.,  103.,   nan,   nan,   nan,  107.,\n",
       "         nan,   nan,   nan,  111.,  112.,  113.,   nan,   nan,   nan,\n",
       "        117.,  118.,  119.,  120.,  121.,  122.,  123.,   nan,   nan,\n",
       "         nan,  127.,  128.,  129.,   nan,   nan,   nan])"
      ]
     },
     "execution_count": 54,
     "metadata": {},
     "output_type": "execute_result"
    }
   ],
   "source": [
    "full_lines_index"
   ]
  },
  {
   "cell_type": "code",
   "execution_count": 48,
   "metadata": {
    "collapsed": false
   },
   "outputs": [],
   "source": [
    "for j in range(len(segment_groups)):\n",
    "    x = [intersection[i].xy[0] for i in segment_groups[j]]\n",
    "    y = [intersection[i].xy[1] for i in segment_groups[j]]\n",
    "\n",
    "    gradient_list = [\n",
    "        (np.diff(x[i]) / np.diff(y[i]))[0] for i in range(len(x))\n",
    "    ]\n",
    "\n",
    "    unique_gradient = np.unique(np.round(np.array(gradient_list), 4))\n",
    "    assert len(unique_gradient) == 1"
   ]
  },
  {
   "cell_type": "code",
   "execution_count": null,
   "metadata": {
    "collapsed": true
   },
   "outputs": [],
   "source": []
  }
 ],
 "metadata": {
  "kernelspec": {
   "display_name": "Python 3",
   "language": "python",
   "name": "python3"
  },
  "language_info": {
   "codemirror_mode": {
    "name": "ipython",
    "version": 3
   },
   "file_extension": ".py",
   "mimetype": "text/x-python",
   "name": "python",
   "nbconvert_exporter": "python",
   "pygments_lexer": "ipython3",
   "version": "3.4.0"
  }
 },
 "nbformat": 4,
 "nbformat_minor": 0
}
