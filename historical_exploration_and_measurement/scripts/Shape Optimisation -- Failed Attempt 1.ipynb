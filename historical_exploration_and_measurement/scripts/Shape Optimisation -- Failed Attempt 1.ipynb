{
 "metadata": {
  "name": "",
  "signature": "sha256:7fe3e0923f3b9132243729c5efd588c71b29f44cbcb287e2c968e12984015131"
 },
 "nbformat": 3,
 "nbformat_minor": 0,
 "worksheets": [
  {
   "cells": [
    {
     "cell_type": "code",
     "collapsed": false,
     "input": [
      "%pylab inline\n",
      "\n",
      "import pandas as pd\n",
      "\n",
      "import csv\n",
      "\n",
      "from threshold_functions import *\n",
      "\n",
      "from equivalent_ellipse import *\n",
      "\n",
      "from scipy.interpolate import SmoothBivariateSpline, bisplrep"
     ],
     "language": "python",
     "metadata": {},
     "outputs": [
      {
       "output_type": "stream",
       "stream": "stdout",
       "text": [
        "Populating the interactive namespace from numpy and matplotlib\n"
       ]
      }
     ],
     "prompt_number": 24
    },
    {
     "cell_type": "code",
     "collapsed": false,
     "input": [
      "x_list = list()\n",
      "y_list = list()\n",
      "\n",
      "with open('../data/cutout_x.csv', 'r') as x_csvfile:\n",
      "    with open('../data/cutout_y.csv', 'r') as y_csvfile:\n",
      "        \n",
      "        x_reader = csv.reader(x_csvfile, delimiter=',', lineterminator='\\n')\n",
      "        y_reader = csv.reader(y_csvfile, delimiter=',', lineterminator='\\n')\n",
      "        \n",
      "        for row in x_reader:\n",
      "            x_list += [row]\n",
      "  \n",
      "        for row in y_reader:\n",
      "            y_list += [row]"
     ],
     "language": "python",
     "metadata": {},
     "outputs": [],
     "prompt_number": 25
    },
    {
     "cell_type": "code",
     "collapsed": false,
     "input": [
      "num_cutouts = len(x_list)"
     ],
     "language": "python",
     "metadata": {},
     "outputs": [],
     "prompt_number": 26
    },
    {
     "cell_type": "code",
     "collapsed": false,
     "input": [
      "x_array = [0,]*num_cutouts\n",
      "y_array = [0,]*num_cutouts\n",
      "\n",
      "for i in range(num_cutouts):\n",
      "\n",
      "    x_array[i] = array(x_list[i], dtype='float')\n",
      "    y_array[i] = array(y_list[i], dtype='float')"
     ],
     "language": "python",
     "metadata": {},
     "outputs": [],
     "prompt_number": 27
    },
    {
     "cell_type": "code",
     "collapsed": false,
     "input": [
      "cutout = [0,]*num_cutouts\n",
      "\n",
      "for i in range(num_cutouts):\n",
      "    cutout[i] = shapely_cutout(x_array[i],y_array[i])\n"
     ],
     "language": "python",
     "metadata": {},
     "outputs": [],
     "prompt_number": 28
    },
    {
     "cell_type": "code",
     "collapsed": false,
     "input": [
      "cutout_dimensions = pd.DataFrame.from_csv('../data/cutout_dimensions.csv')\n",
      "#cutout_dimensions"
     ],
     "language": "python",
     "metadata": {},
     "outputs": [],
     "prompt_number": 29
    },
    {
     "cell_type": "code",
     "collapsed": false,
     "input": [
      "boundBox = cutout_dimensions['box_bounds'].values\n",
      "#ref = boundBox < 11\n",
      "\n",
      "width = cutout_dimensions['width'].values\n",
      "length = cutout_dimensions['length'].values\n",
      "\n",
      "cutoutRef = arange(num_cutouts)\n",
      "\n",
      "ratio = width/length"
     ],
     "language": "python",
     "metadata": {},
     "outputs": [],
     "prompt_number": 30
    },
    {
     "cell_type": "code",
     "collapsed": false,
     "input": [
      "# ref = True\n",
      "\n",
      "# while any(ref):\n",
      "\n",
      "#     sortingArray = array([width,ratio,cutoutRef]).transpose()\n",
      "#     sortingTable = pd.DataFrame(sortingArray)\n",
      "\n",
      "#     sortingTable = sortingTable.sort([0, 1])\n",
      "\n",
      "#     width = sortingTable[0].values\n",
      "#     ratio = sortingTable[1].values\n",
      "#     cutoutRef = sortingTable[2].values\n",
      "    \n",
      "#     ref = (width[0:-1] == width[1:]) & (ratio[0:-1] == ratio[1:])\n",
      "        \n",
      "#     width = delete(width,find(ref))\n",
      "#     ratio = delete(ratio,find(ref))\n",
      "#     cutoutRef = delete(cutoutRef,find(ref))"
     ],
     "language": "python",
     "metadata": {},
     "outputs": [],
     "prompt_number": 31
    },
    {
     "cell_type": "code",
     "collapsed": false,
     "input": [
      "plot(append(width,width),append(log2(ratio),log2(1/ratio)),'.')"
     ],
     "language": "python",
     "metadata": {},
     "outputs": [
      {
       "metadata": {},
       "output_type": "pyout",
       "prompt_number": 32,
       "text": [
        "[<matplotlib.lines.Line2D at 0x7fb87d324748>]"
       ]
      },
      {
       "metadata": {},
       "output_type": "display_data",
       "png": "[encoded data removed]",
       "text": [
        "<matplotlib.figure.Figure at 0x7fb87d987f60>"
       ]
      }
     ],
     "prompt_number": 32
    },
    {
     "cell_type": "code",
     "collapsed": false,
     "input": [
      "def give_calc(xGrid,log2yGrid,width,ratio,w):\n",
      "    \n",
      "    w = w/max(w)\n",
      "    \n",
      "    ref = (w == 0)\n",
      "    width = delete(width,find(ref))\n",
      "    ratio = delete(ratio,find(ref))\n",
      "    w = delete(w,find(ref))\n",
      "    \n",
      "    return fit_give(xGrid,log2yGrid,\n",
      "                    append(width,width),\n",
      "                    append(log2(ratio),log2(1/ratio)),\n",
      "                    zeros(len(width)*2),append(w,w))\n",
      "\n",
      "def gap_calc(xGrid,log2yGrid,width,ratio):\n",
      "    \n",
      "    return angle_gap(xGrid,log2yGrid,append(width,width),\n",
      "                     append(log2(ratio),log2(1/ratio)),1,2)"
     ],
     "language": "python",
     "metadata": {},
     "outputs": [],
     "prompt_number": 334
    },
    {
     "cell_type": "code",
     "collapsed": false,
     "input": [
      "resltn = 11 # Must be odd\n",
      "log2ratio = log2(ratio)\n",
      "mirr_log2ratio = append(log2ratio,-log2ratio)\n",
      "\n",
      "w = ones(len(width))\n",
      "\n",
      "xRange = [mean(width)-3.5*std(width),mean(width)+3.5*std(width)]\n",
      "yRange = [-3.5*std(mirr_log2ratio),0]\n",
      "\n",
      "xVec = linspace(xRange[0],xRange[1],resltn)\n",
      "yVec = linspace(yRange[0],0,(resltn//2+1))\n",
      "\n",
      "xMeshHlf, yMeshHlf = meshgrid(xVec, yVec)\n",
      "\n",
      "gapMeshHlf = gap_calc(xMeshHlf,yMeshHlf,width,ratio)\n",
      "giveMeshHlf = give_calc(xMeshHlf,yMeshHlf,width,ratio,w)\n",
      "\n",
      "xMesh = vstack((xMeshHlf,flipud(xMeshHlf)[1:,:]))\n",
      "yMesh = vstack((yMeshHlf,-flipud(yMeshHlf)[1:,:]))\n",
      "\n",
      "gapMesh = vstack((gapMeshHlf,flipud(gapMeshHlf)[1:,:]))\n",
      "giveMesh = vstack((giveMeshHlf,flipud(giveMeshHlf)[1:,:]))"
     ],
     "language": "python",
     "metadata": {},
     "outputs": [],
     "prompt_number": 313
    },
    {
     "cell_type": "code",
     "collapsed": false,
     "input": [
      "contour(xMesh,yMesh,gapMesh, levels=[130], colors='r',alpha=0.7)\n",
      "contour(xMesh,yMesh,giveMesh, levels=[0.15], colors='g',alpha=0.7)"
     ],
     "language": "python",
     "metadata": {},
     "outputs": [
      {
       "metadata": {},
       "output_type": "pyout",
       "prompt_number": 314,
       "text": [
        "<matplotlib.contour.QuadContourSet at 0x7fb87b8e09e8>"
       ]
      },
      {
       "metadata": {},
       "output_type": "display_data",
       "png": "[encoded data removed]",
       "text": [
        "<matplotlib.figure.Figure at 0x7fb87b7e6cc0>"
       ]
      }
     ],
     "prompt_number": 314
    },
    {
     "cell_type": "code",
     "collapsed": false,
     "input": [
      "fig = plt.figure()\n",
      "ax = fig.add_subplot(111)\n",
      "\n",
      "cf = ax.contourf(xMesh,yMesh,giveMesh,60)\n",
      "\n",
      "give_contour = ax.contour(xMesh,yMesh,giveMesh,levels=[0.15],colors='k')\n",
      "ax.scatter(append(width,width),append(log2ratio,-log2ratio),color='black')\n",
      "\n",
      "\n",
      "colorbar(cf, label='Fit give')\n",
      "\n",
      "ax.set_xlabel('Width')\n",
      "ax.set_ylabel('log2(Ratio)')\n",
      "ax.set_title('Contour plot of the fit give')"
     ],
     "language": "python",
     "metadata": {},
     "outputs": [
      {
       "metadata": {},
       "output_type": "pyout",
       "prompt_number": 315,
       "text": [
        "<matplotlib.text.Text at 0x7fb87b766e48>"
       ]
      },
      {
       "metadata": {},
       "output_type": "display_data",
       "png": "[encoded data removed]",
       "text": [
        "<matplotlib.figure.Figure at 0x7fb87b7b0da0>"
       ]
      }
     ],
     "prompt_number": 315
    },
    {
     "cell_type": "code",
     "collapsed": false,
     "input": [
      "def give_area(w):\n",
      "\n",
      "    giveMeshHlf = give_calc(xMeshHlf,yMeshHlf,width,ratio,w)\n",
      "    return sum(giveMeshHlf <= 0.15) / size(giveMeshHlf)\n",
      "\n",
      "\n",
      "def give_sigmoid_bias(w):\n",
      "\n",
      "    giveMeshHlf = give_calc(xMeshHlf,yMeshHlf,width,ratio,w)\n",
      "    return mean(200/(1+exp(-(giveMeshHlf-0.15)*100)) - 100)"
     ],
     "language": "python",
     "metadata": {},
     "outputs": [],
     "prompt_number": 316
    },
    {
     "cell_type": "code",
     "collapsed": false,
     "input": [
      "init_area = give_area(ones(len(width)))"
     ],
     "language": "python",
     "metadata": {},
     "outputs": [],
     "prompt_number": 317
    },
    {
     "cell_type": "code",
     "collapsed": false,
     "input": [
      "d = rand(len(width))*0.2+0.8\n",
      "give_area(d)/give_area(ones(len(width)))"
     ],
     "language": "python",
     "metadata": {},
     "outputs": [
      {
       "metadata": {},
       "output_type": "pyout",
       "prompt_number": 318,
       "text": [
        "0.94444444444444453"
       ]
      }
     ],
     "prompt_number": 318
    },
    {
     "cell_type": "code",
     "collapsed": false,
     "input": [
      "give_sigmoid_bias(append(ones(len(width)-1),0))"
     ],
     "language": "python",
     "metadata": {},
     "outputs": [
      {
       "metadata": {},
       "output_type": "pyout",
       "prompt_number": 330,
       "text": [
        "nan"
       ]
      }
     ],
     "prompt_number": 330
    },
    {
     "cell_type": "code",
     "collapsed": false,
     "input": [
      "w = append(ones(len(width)*2-1),0.0001)\n",
      "SmoothBivariateSpline(append(width,width),append(log2ratio,-log2ratio),zeros(len(width)*2),w=w).ev(1,2)"
     ],
     "language": "python",
     "metadata": {},
     "outputs": [
      {
       "metadata": {},
       "output_type": "pyout",
       "prompt_number": 333,
       "text": [
        "array(0.0)"
       ]
      }
     ],
     "prompt_number": 333
    },
    {
     "cell_type": "code",
     "collapsed": false,
     "input": [
      "give_sigmoid_bias(d)"
     ],
     "language": "python",
     "metadata": {},
     "outputs": [
      {
       "metadata": {},
       "output_type": "pyout",
       "prompt_number": 320,
       "text": [
        "48.919278811184718"
       ]
      }
     ],
     "prompt_number": 320
    },
    {
     "cell_type": "code",
     "collapsed": false,
     "input": [
      "# rand_weights = zeros(100)\n",
      "\n",
      "# for i in range(100):\n",
      "#     rand_weights[i] = give_sigmoid_bias(rand(len(width)))\n",
      "    \n",
      "# mean(rand_weights)"
     ],
     "language": "python",
     "metadata": {},
     "outputs": [
      {
       "metadata": {},
       "output_type": "pyout",
       "prompt_number": 321,
       "text": [
        "65.355469460037824"
       ]
      }
     ],
     "prompt_number": 321
    },
    {
     "cell_type": "code",
     "collapsed": false,
     "input": [
      "def toMinimise(w):\n",
      "    \n",
      "    if (sum(w!=0) < 13):\n",
      "        bias = 100\n",
      "    else:   \n",
      "        t = (give_area(w) / init_area)\n",
      "        bias = exp((-(t-0.95)*100))/10\n",
      "    \n",
      "    return bias + mean(w)"
     ],
     "language": "python",
     "metadata": {},
     "outputs": [],
     "prompt_number": 336
    },
    {
     "cell_type": "code",
     "collapsed": false,
     "input": [
      "bounds = ([0,1],)*len(width)"
     ],
     "language": "python",
     "metadata": {},
     "outputs": [],
     "prompt_number": 326
    },
    {
     "cell_type": "code",
     "collapsed": false,
     "input": [
      "minimizer_kwargs = {\"method\": 'L-BFGS-B', \"bounds\": bounds  }\n",
      "x0 = np.ones(len(width))\n",
      "\n",
      "output = basinhopping(toMinimise,x0,\n",
      "                      niter=1,minimizer_kwargs=minimizer_kwargs)"
     ],
     "language": "python",
     "metadata": {},
     "outputs": []
    },
    {
     "cell_type": "code",
     "collapsed": false,
     "input": [
      "output"
     ],
     "language": "python",
     "metadata": {},
     "outputs": [
      {
       "metadata": {},
       "output_type": "pyout",
       "prompt_number": 329,
       "text": [
        "                   nit: 1\n",
        "                     x: array([ 0.25861944,  0.25861944,  0.25861944,  0.25861944,  0.25861944,\n",
        "        0.25861944,  0.25861944,  0.25861944,  0.25861944,  0.25861944,\n",
        "        0.25861944,  0.25861944,  0.25861944,  0.25861944,  0.25861944,\n",
        "        0.25861944,  0.25861944,  0.25861944,  0.25861944,  0.25861944,\n",
        "        0.25861944,  0.25861944,  0.25861944,  0.25861944,  0.25861944,\n",
        "        0.25861944,  0.25861944,  0.25861944,  0.25861944,  0.25861944,\n",
        "        0.25861944,  0.25861944,  0.25861944,  0.25861944,  0.25861944,\n",
        "        0.25861944,  0.25861944,  0.25861944,  0.25861944,  0.25861944,\n",
        "        0.25861944,  0.25861944,  0.25861944,  0.25861944,  0.25861944,\n",
        "        0.25861944,  0.25861944,  0.25861944,  0.25861944,  0.25861944,\n",
        "        0.25861944,  0.25861944,  0.25861944,  0.25861944,  0.25861944,\n",
        "        0.25861944,  0.25861944,  0.25861944,  0.25861944,  0.25861944,\n",
        "        0.25861944,  0.25861944,  0.25861944,  0.25861947,  0.25862041,\n",
        "        0.25862041,  0.25862041,  0.25862041,  0.25862041,  0.25862041,\n",
        "        0.25862041,  0.25862041,  0.25862041,  0.25862041,  0.25862041,\n",
        "        0.25862041,  0.25862041,  0.25862041,  0.25862041,  0.25862041,\n",
        "        0.25862041,  0.25862041,  0.25862041,  0.25862041,  0.25862041,\n",
        "        0.25862041,  0.25862041,  0.25862041,  0.25862041,  0.25862041,\n",
        "        0.25862041,  0.25862041,  0.25862041,  0.25862041,  0.25862041,\n",
        "        0.25862041,  0.25862041,  0.25862041,  0.25862041,  0.25862041,\n",
        "        0.25862041,  0.25862041,  0.25862041,  0.25862041,  0.25862041,\n",
        "        0.25862041,  0.25862041,  0.25862041,  0.25862041,  0.25862041,\n",
        "        0.25862041,  0.25862041,  0.25862041,  0.25862041,  0.25862041,\n",
        "        0.25862041])\n",
        "               message: ['requested number of basinhopping iterations completed successfully']\n",
        " minimization_failures: 0\n",
        "                   fun: 0.25929367093269146\n",
        "                  nfev: 1298"
       ]
      }
     ],
     "prompt_number": 329
    },
    {
     "cell_type": "code",
     "collapsed": false,
     "input": [
      "t = linspace(0.9,1,1000)\n",
      "y = exp((-(t-0.95)*100))/10\n",
      "plot(t,y)\n",
      "ylim([0,1])"
     ],
     "language": "python",
     "metadata": {},
     "outputs": [
      {
       "metadata": {},
       "output_type": "pyout",
       "prompt_number": 307,
       "text": [
        "(0, 1)"
       ]
      },
      {
       "metadata": {},
       "output_type": "display_data",
       "png": "[encoded data removed]",
       "text": [
        "<matplotlib.figure.Figure at 0x7fb87b89d518>"
       ]
      }
     ],
     "prompt_number": 307
    },
    {
     "cell_type": "code",
     "collapsed": false,
     "input": [],
     "language": "python",
     "metadata": {},
     "outputs": [
      {
       "metadata": {},
       "output_type": "pyout",
       "prompt_number": 206,
       "text": [
        "0.7189271775207503"
       ]
      }
     ],
     "prompt_number": 206
    },
    {
     "cell_type": "code",
     "collapsed": false,
     "input": [
      "sum(giveMeshHlf <= 0.15) / size(giveMeshHlf)"
     ],
     "language": "python",
     "metadata": {},
     "outputs": [
      {
       "metadata": {},
       "output_type": "pyout",
       "prompt_number": 118,
       "text": [
        "0.28253968253968254"
       ]
      }
     ],
     "prompt_number": 118
    },
    {
     "cell_type": "code",
     "collapsed": false,
     "input": [
      "sum(giveMesh <= 0.15) / size(giveMesh)"
     ],
     "language": "python",
     "metadata": {},
     "outputs": [
      {
       "metadata": {},
       "output_type": "pyout",
       "prompt_number": 119,
       "text": [
        "0.2742857142857143"
       ]
      }
     ],
     "prompt_number": 119
    },
    {
     "cell_type": "code",
     "collapsed": false,
     "input": [],
     "language": "python",
     "metadata": {},
     "outputs": []
    },
    {
     "cell_type": "code",
     "collapsed": false,
     "input": [
      "width_scale = std(width)"
     ],
     "language": "python",
     "metadata": {},
     "outputs": [],
     "prompt_number": 104
    },
    {
     "cell_type": "code",
     "collapsed": false,
     "input": [
      "log2ratio_scale = std(append(log2ratio,-log2ratio))"
     ],
     "language": "python",
     "metadata": {},
     "outputs": [],
     "prompt_number": 105
    },
    {
     "cell_type": "code",
     "collapsed": false,
     "input": [
      "give_xylist = give_contour.collections[0].get_paths()[0].vertices\n",
      "\n",
      "shapely_give = sh.Polygon([(i[0], i[1]) for i in \n",
      "            zip(give_xylist[:,0]/width_scale,\n",
      "                give_xylist[:,1]/log2ratio_scale)])\n",
      "\n",
      "shapely_give"
     ],
     "language": "python",
     "metadata": {},
     "outputs": [
      {
       "metadata": {},
       "output_type": "pyout",
       "prompt_number": 106,
       "svg": [
        "<svg\n",
        "            preserveAspectRatio=\"xMinYMin meet\"\n",
        "            viewBox=\"1.009342480531088 -3.8794415179995565 6.388600429729314 7.758883035999113\"\n",
        "            width=\"100.0\"\n",
        "            height=\"100.0\"\n",
        "            transform=\"translate(0, 100.0),scale(1, -1)\">\n",
        "            \n",
        "            <g fill-rule=\"evenodd\" fill=\"#66cc99\" stroke=\"#555555\" \n",
        "            stroke-width=\"0.15517766071998226\" opacity=\"0.6\">\n",
        "            <path d=\"M 3.5518409235439843,-2.8798938901535545 L 3.508001436136449,-2.676470588235294 L 3.4358734977506953,-2.4705882352941178 L 3.3459585706028077,-2.315595671584646 L 3.3317408596304823,-2.2647058823529407 L 3.266873145631864,-2.0588235294117645 L 3.1489515213545496,-1.852941176470588 L 3.1400762176616315,-1.8397191445090983 L 3.05297930714444,-1.6470588235294115 L 2.934193864720455,-1.4903571413367616 L 2.8992303070909538,-1.441176470588235 L 2.728311511779278,-1.2600070488513846 L 2.701155981898339,-1.2352941176470587 L 2.522429158838102,-1.0857279319382727 L 2.4281340785155723,-1.0294117647058822 L 2.3165468058969254,-0.9447704997720844 L 2.1106644529557492,-0.8307697371340688 L 2.0969566081393203,-0.8235294117647055 L 2.009232447143178,-0.6176470588235293 L 2.089827207170177,-0.41176470588235253 L 2.1106644529557492,-0.3456799238603192 L 2.1670450465352973,-0.20588235294117627 L 2.1924700493749496,0.0 L 2.1670450465352973,0.20588235294117627 L 2.1106644529557492,0.3456799238603192 L 2.089827207170177,0.41176470588235253 L 2.009232447143178,0.6176470588235293 L 2.0969566081393203,0.8235294117647055 L 2.1106644529557492,0.8307697371340688 L 2.3165468058969254,0.9447704997720844 L 2.4281340785155723,1.0294117647058822 L 2.522429158838102,1.0857279319382727 L 2.701155981898339,1.2352941176470587 L 2.728311511779278,1.2600070488513846 L 2.8992303070909538,1.441176470588235 L 2.934193864720455,1.4903571413367616 L 3.05297930714444,1.6470588235294115 L 3.1400762176616315,1.8397191445090983 L 3.1489515213545496,1.852941176470588 L 3.266873145631864,2.0588235294117645 L 3.3317408596304823,2.2647058823529407 L 3.3459585706028077,2.315595671584646 L 3.4358734977506953,2.4705882352941178 L 3.508001436136449,2.676470588235294 L 3.5518409235439843,2.8798938901535545 L 3.7402966889232023,2.676470588235294 L 3.7577232764851605,2.657298760724282 L 3.810450940088721,2.4705882352941178 L 3.9122490787973203,2.2647058823529407 L 3.963605629426337,2.1914758565489976 L 4.0513821293374495,2.0588235294117645 L 4.169487982367514,1.9329213826300118 L 4.262546565152421,1.852941176470588 L 4.3753703353086895,1.7640760434062355 L 4.581252688249866,1.6573220538616034 L 4.611057510710397,1.6470588235294115 L 4.787135041191043,1.5695500775219822 L 4.9930173941322185,1.5244125421120365 L 5.198899747073397,1.5167759335283317 L 5.404782100014572,1.5560109246837162 L 5.585861840047818,1.6470588235294115 L 5.61066445295575,1.6585974399621128 L 5.666448802063598,1.6470588235294115 L 5.816546805896925,1.5960094060196939 L 5.902268025845583,1.441176470588235 L 6.022429158838101,1.2920367517726303 L 6.064977449087305,1.2352941176470587 L 6.228311511779278,1.04749688951395 L 6.2470720751308875,1.0294117647058822 L 6.36899829418448,0.8235294117647055 L 6.397541395249661,0.6176470588235293 L 6.39436882911728,0.41176470588235253 L 6.39589177430575,0.20588235294117627 L 6.397995090604584,0.0 L 6.39589177430575,-0.20588235294117627 L 6.39436882911728,-0.41176470588235253 L 6.397541395249661,-0.6176470588235293 L 6.36899829418448,-0.8235294117647055 L 6.2470720751308875,-1.0294117647058822 L 6.228311511779278,-1.04749688951395 L 6.064977449087305,-1.2352941176470587 L 6.022429158838101,-1.2920367517726303 L 5.902268025845583,-1.441176470588235 L 5.816546805896925,-1.5960094060196939 L 5.666448802063598,-1.6470588235294115 L 5.61066445295575,-1.6585974399621128 L 5.585861840047818,-1.6470588235294115 L 5.404782100014572,-1.5560109246837162 L 5.198899747073397,-1.5167759335283317 L 4.9930173941322185,-1.5244125421120365 L 4.787135041191043,-1.5695500775219822 L 4.611057510710397,-1.6470588235294115 L 4.581252688249866,-1.6573220538616034 L 4.3753703353086895,-1.7640760434062355 L 4.262546565152421,-1.852941176470588 L 4.169487982367514,-1.9329213826300118 L 4.0513821293374495,-2.0588235294117645 L 3.963605629426337,-2.1914758565489976 L 3.9122490787973203,-2.2647058823529407 L 3.810450940088721,-2.4705882352941178 L 3.7577232764851605,-2.657298760724282 L 3.7402966889232023,-2.676470588235294 L 3.5518409235439843,-2.8798938901535545 z\" />\n",
        "            </g>\n",
        "            </svg>"
       ],
       "text": [
        "<shapely.geometry.polygon.Polygon at 0x7fb87c739550>"
       ]
      }
     ],
     "prompt_number": 106
    },
    {
     "cell_type": "code",
     "collapsed": false,
     "input": [
      "fig = plt.figure()\n",
      "ax = fig.add_subplot(111)\n",
      "\n",
      "cf = ax.contourf(xMesh,yMesh,gapMesh,60)\n",
      "\n",
      "gap_contour = ax.contour(xMesh,yMesh,gapMesh,levels=[130],colors='k')\n",
      "ax.scatter(append(width,width),append(log2ratio,-log2ratio),color='black')\n",
      "\n",
      "\n",
      "colorbar(cf, label='Angle gap')\n",
      "\n",
      "ax.set_xlabel('Width')\n",
      "ax.set_ylabel('log2(Ratio)')\n",
      "ax.set_title('Contour plot of the angle gap')"
     ],
     "language": "python",
     "metadata": {},
     "outputs": [
      {
       "metadata": {},
       "output_type": "pyout",
       "prompt_number": 107,
       "text": [
        "<matplotlib.text.Text at 0x7fb87c46ad30>"
       ]
      },
      {
       "metadata": {},
       "output_type": "display_data",
       "png": "[encoded data removed]",
       "text": [
        "<matplotlib.figure.Figure at 0x7fb87c639828>"
       ]
      }
     ],
     "prompt_number": 107
    },
    {
     "cell_type": "code",
     "collapsed": false,
     "input": [
      "gap_xylist = gap_contour.collections[0].get_paths()[0].vertices\n",
      "\n",
      "shapely_gap = sh.Polygon([(i[0], i[1]) for i in \n",
      "            zip(gap_xylist[:,0]/width_scale,\n",
      "                gap_xylist[:,1]/log2ratio_scale)])\n",
      "\n",
      "shapely_gap"
     ],
     "language": "python",
     "metadata": {},
     "outputs": [
      {
       "metadata": {},
       "output_type": "pyout",
       "prompt_number": 108,
       "svg": [
        "<svg\n",
        "            preserveAspectRatio=\"xMinYMin meet\"\n",
        "            viewBox=\"1.2163973673073962 -4.095656907740166 6.506808548514309 8.191313815480331\"\n",
        "            width=\"100.0\"\n",
        "            height=\"100.0\"\n",
        "            transform=\"translate(0, 100.0),scale(1, -1)\">\n",
        "            \n",
        "            <g fill-rule=\"evenodd\" fill=\"#66cc99\" stroke=\"#555555\" \n",
        "            stroke-width=\"0.16382627630960664\" opacity=\"0.6\">\n",
        "            <path d=\"M 3.7577232764851605,-3.096547215743501 L 3.753632480842845,-3.0882352941176467 L 3.5518409235439843,-2.895551790842453 L 3.541702945463524,-2.8823529411764706 L 3.470527680328336,-2.676470588235294 L 3.497431017895177,-2.4705882352941178 L 3.4286389558299595,-2.2647058823529407 L 3.3459585706028077,-2.183142750507435 L 3.2065940431265627,-2.0588235294117645 L 3.1400762176616315,-2.005120186947228 L 3.0487356489325896,-1.852941176470588 L 3.0732477014637634,-1.6470588235294115 L 3.0302480580068964,-1.441176470588235 L 2.934193864720455,-1.253327819230861 L 2.921603928984926,-1.2352941176470587 L 2.728311511779278,-1.0294676245993155 L 2.72824182210863,-1.0294117647058822 L 2.522429158838102,-0.9394266092451895 L 2.3165468058969254,-0.8612278134640032 L 2.294861745644136,-0.8235294117647055 L 2.215617488796809,-0.6176470588235293 L 2.266645767802903,-0.41176470588235253 L 2.3165468058969254,-0.27642283969675036 L 2.3725625665582437,-0.20588235294117627 L 2.4085848413942292,0.0 L 2.3725625665582437,0.20588235294117627 L 2.3165468058969254,0.27642283969675036 L 2.266645767802903,0.41176470588235253 L 2.215617488796809,0.6176470588235293 L 2.294861745644136,0.8235294117647055 L 2.3165468058969254,0.8612278134640032 L 2.522429158838102,0.9394266092451895 L 2.72824182210863,1.0294117647058822 L 2.728311511779278,1.0294676245993155 L 2.921603928984926,1.2352941176470587 L 2.934193864720455,1.253327819230861 L 3.0302480580068964,1.441176470588235 L 3.0732477014637634,1.6470588235294115 L 3.0487356489325896,1.852941176470588 L 3.1400762176616315,2.005120186947228 L 3.2065940431265627,2.0588235294117645 L 3.3459585706028077,2.183142750507435 L 3.4286389558299595,2.2647058823529407 L 3.497431017895177,2.4705882352941178 L 3.470527680328336,2.676470588235294 L 3.541702945463524,2.8823529411764706 L 3.5518409235439843,2.895551790842453 L 3.753632480842845,3.0882352941176467 L 3.7577232764851605,3.096547215743501 L 3.78190226349147,3.0882352941176467 L 3.963605629426337,2.9884548856490185 L 4.051730863894976,2.8823529411764706 L 4.169487982367514,2.761707630764594 L 4.26814010342276,2.676470588235294 L 4.3753703353086895,2.5966377158153477 L 4.581252688249866,2.47101540125074 L 4.582025178889069,2.4705882352941178 L 4.787135041191043,2.37675088282925 L 4.9930173941322185,2.3067650849779633 L 5.159141578565724,2.2647058823529407 L 5.198899747073397,2.2569712081050977 L 5.404782100014572,2.226244995171731 L 5.61066445295575,2.195101291296662 L 5.740822407522948,2.0588235294117645 L 5.7502280852356416,1.852941176470588 L 5.812173141955434,1.6470588235294115 L 5.816546805896925,1.6172496245265562 L 5.909879903950134,1.441176470588235 L 6.022429158838101,1.3075941348989508 L 6.093032814832102,1.2352941176470587 L 6.228311511779278,1.1404650435941603 L 6.4340224851242125,1.0294117647058822 L 6.434193864720454,1.029352284366392 L 6.6400762176616315,0.920826733024267 L 6.698441003014326,0.8235294117647055 L 6.6400762176616315,0.6650489501179189 L 6.620399291066215,0.6176470588235293 L 6.6400762176616315,0.5902516432377279 L 6.724266341167069,0.41176470588235253 L 6.6400762176616315,0.2963480805971358 L 6.510001807405734,0.20588235294117627 L 6.4692917161955865,0.0 L 6.510001807405734,-0.20588235294117627 L 6.6400762176616315,-0.2963480805971358 L 6.724266341167069,-0.41176470588235253 L 6.6400762176616315,-0.5902516432377279 L 6.620399291066215,-0.6176470588235293 L 6.6400762176616315,-0.6650489501179189 L 6.698441003014326,-0.8235294117647055 L 6.6400762176616315,-0.920826733024267 L 6.434193864720454,-1.029352284366392 L 6.4340224851242125,-1.0294117647058822 L 6.228311511779278,-1.1404650435941603 L 6.093032814832102,-1.2352941176470587 L 6.022429158838101,-1.3075941348989508 L 5.909879903950134,-1.441176470588235 L 5.816546805896925,-1.6172496245265562 L 5.812173141955434,-1.6470588235294115 L 5.7502280852356416,-1.852941176470588 L 5.740822407522948,-2.0588235294117645 L 5.61066445295575,-2.195101291296662 L 5.404782100014572,-2.226244995171731 L 5.198899747073397,-2.2569712081050977 L 5.159141578565724,-2.2647058823529407 L 4.9930173941322185,-2.3067650849779633 L 4.787135041191043,-2.37675088282925 L 4.582025178889069,-2.4705882352941178 L 4.581252688249866,-2.47101540125074 L 4.3753703353086895,-2.5966377158153477 L 4.26814010342276,-2.676470588235294 L 4.169487982367514,-2.761707630764594 L 4.051730863894976,-2.8823529411764706 L 3.963605629426337,-2.9884548856490185 L 3.78190226349147,-3.0882352941176467 L 3.7577232764851605,-3.096547215743501 z\" />\n",
        "            </g>\n",
        "            </svg>"
       ],
       "text": [
        "<shapely.geometry.polygon.Polygon at 0x7fb87c5ccfd0>"
       ]
      }
     ],
     "prompt_number": 108
    },
    {
     "cell_type": "code",
     "collapsed": false,
     "input": [
      "shapely_valid = shapely_gap.intersection(shapely_give)\n",
      "shapely_valid"
     ],
     "language": "python",
     "metadata": {},
     "outputs": [
      {
       "metadata": {},
       "output_type": "pyout",
       "prompt_number": 109,
       "svg": [
        "<svg\n",
        "            preserveAspectRatio=\"xMinYMin meet\"\n",
        "            viewBox=\"1.2163973673073962 -3.8794415179995565 6.181545542953005 7.758883035999113\"\n",
        "            width=\"100.0\"\n",
        "            height=\"100.0\"\n",
        "            transform=\"translate(0, 100.0),scale(1, -1)\">\n",
        "            \n",
        "            <g fill-rule=\"evenodd\" fill=\"#66cc99\" stroke=\"#555555\" \n",
        "            stroke-width=\"0.15517766071998226\" opacity=\"0.6\">\n",
        "            <path d=\"M 3.4807079904647584,-2.598564038560921 L 3.497431017895177,-2.4705882352941178 L 3.4286389558299595,-2.2647058823529407 L 3.3459585706028077,-2.183142750507435 L 3.2904381894249846,-2.1336161552686415 L 3.266873145631864,-2.0588235294117645 L 3.1489515213545496,-1.852941176470588 L 3.1400762176616315,-1.8397191445090983 L 3.0690225503031767,-1.6825468374918267 L 3.0732477014637634,-1.6470588235294115 L 3.0302480580068964,-1.441176470588235 L 2.934193864720455,-1.253327819230861 L 2.921603928984926,-1.2352941176470587 L 2.728311511779278,-1.0294676245993155 L 2.72824182210863,-1.0294117647058822 L 2.522429158838102,-0.9394266092451895 L 2.3165468058969254,-0.8612278134640032 L 2.294861745644136,-0.8235294117647055 L 2.215617488796809,-0.6176470588235293 L 2.266645767802903,-0.41176470588235253 L 2.3165468058969254,-0.27642283969675036 L 2.3725625665582437,-0.20588235294117627 L 2.4085848413942292,0.0 L 2.3725625665582437,0.20588235294117627 L 2.3165468058969254,0.27642283969675036 L 2.266645767802903,0.41176470588235253 L 2.215617488796809,0.6176470588235293 L 2.294861745644136,0.8235294117647055 L 2.3165468058969254,0.8612278134640032 L 2.522429158838102,0.9394266092451895 L 2.72824182210863,1.0294117647058822 L 2.728311511779278,1.0294676245993155 L 2.921603928984926,1.2352941176470587 L 2.934193864720455,1.253327819230861 L 3.0302480580068964,1.441176470588235 L 3.0732477014637634,1.6470588235294115 L 3.0690225503031767,1.6825468374918267 L 3.1400762176616315,1.8397191445090983 L 3.1489515213545496,1.852941176470588 L 3.266873145631864,2.0588235294117645 L 3.2904381894249846,2.1336161552686415 L 3.3459585706028077,2.183142750507435 L 3.4286389558299595,2.2647058823529407 L 3.497431017895177,2.4705882352941178 L 3.4807079904647584,2.598564038560921 L 3.508001436136449,2.676470588235294 L 3.5518409235439843,2.8798938901535545 L 3.7402966889232023,2.676470588235294 L 3.7577232764851605,2.657298760724282 L 3.810450940088721,2.4705882352941178 L 3.9122490787973203,2.2647058823529407 L 3.963605629426337,2.1914758565489976 L 4.0513821293374495,2.0588235294117645 L 4.169487982367514,1.9329213826300118 L 4.262546565152421,1.852941176470588 L 4.3753703353086895,1.7640760434062355 L 4.581252688249866,1.6573220538616034 L 4.611057510710397,1.6470588235294115 L 4.787135041191043,1.5695500775219822 L 4.9930173941322185,1.5244125421120365 L 5.198899747073397,1.5167759335283317 L 5.404782100014572,1.5560109246837162 L 5.585861840047818,1.6470588235294115 L 5.61066445295575,1.6585974399621128 L 5.666448802063598,1.6470588235294115 L 5.816546805896925,1.5960094060196939 L 5.902268025845583,1.441176470588235 L 6.022429158838101,1.2920367517726303 L 6.064977449087305,1.2352941176470587 L 6.228311511779278,1.04749688951395 L 6.2470720751308875,1.0294117647058822 L 6.36899829418448,0.8235294117647055 L 6.397541395249661,0.6176470588235293 L 6.39436882911728,0.41176470588235253 L 6.39589177430575,0.20588235294117627 L 6.397995090604584,0.0 L 6.39589177430575,-0.20588235294117627 L 6.39436882911728,-0.41176470588235253 L 6.397541395249661,-0.6176470588235293 L 6.36899829418448,-0.8235294117647055 L 6.2470720751308875,-1.0294117647058822 L 6.228311511779278,-1.04749688951395 L 6.064977449087305,-1.2352941176470587 L 6.022429158838101,-1.2920367517726303 L 5.902268025845583,-1.441176470588235 L 5.816546805896925,-1.5960094060196939 L 5.666448802063598,-1.6470588235294115 L 5.61066445295575,-1.6585974399621128 L 5.585861840047818,-1.6470588235294115 L 5.404782100014572,-1.5560109246837162 L 5.198899747073397,-1.5167759335283317 L 4.9930173941322185,-1.5244125421120365 L 4.787135041191043,-1.5695500775219822 L 4.611057510710397,-1.6470588235294115 L 4.581252688249866,-1.6573220538616034 L 4.3753703353086895,-1.7640760434062355 L 4.262546565152421,-1.852941176470588 L 4.169487982367514,-1.9329213826300118 L 4.0513821293374495,-2.0588235294117645 L 3.963605629426337,-2.1914758565489976 L 3.9122490787973203,-2.2647058823529407 L 3.810450940088721,-2.4705882352941178 L 3.7577232764851605,-2.657298760724282 L 3.7402966889232023,-2.676470588235294 L 3.5518409235439843,-2.8798938901535545 L 3.508001436136449,-2.676470588235294 L 3.4807079904647584,-2.598564038560921 z\" />\n",
        "            </g>\n",
        "            </svg>"
       ],
       "text": [
        "<shapely.geometry.polygon.Polygon at 0x7fb87c899d68>"
       ]
      }
     ],
     "prompt_number": 109
    },
    {
     "cell_type": "code",
     "collapsed": false,
     "input": [
      "shapely_valid.area"
     ],
     "language": "python",
     "metadata": {},
     "outputs": [
      {
       "metadata": {},
       "output_type": "pyout",
       "prompt_number": 110,
       "text": [
        "13.429001009871161"
       ]
      }
     ],
     "prompt_number": 110
    },
    {
     "cell_type": "code",
     "collapsed": false,
     "input": [
      "# def valid_area()"
     ],
     "language": "python",
     "metadata": {},
     "outputs": [],
     "prompt_number": 111
    },
    {
     "cell_type": "code",
     "collapsed": false,
     "input": [
      "p = give_contour.collections[0].get_paths()[0]\n",
      "v = p.vertices\n",
      "x = v[:,0]\n",
      "y = v[:,1]"
     ],
     "language": "python",
     "metadata": {},
     "outputs": [],
     "prompt_number": 112
    },
    {
     "cell_type": "code",
     "collapsed": false,
     "input": [
      "# with open('../data/optimised_cutout_x.csv', 'w') as x_csvfile:\n",
      "#     with open('../data/optimised_cutout_y.csv', 'w') as y_csvfile:\n",
      "        \n",
      "#         x_writer = csv.writer(x_csvfile, delimiter=',', lineterminator='\\n')\n",
      "#         y_writer = csv.writer(y_csvfile, delimiter=',', lineterminator='\\n')\n",
      "        \n",
      "\n",
      "#         for i in range(len(x_list_optimised)):\n",
      "\n",
      "#             x_writer.writerow(x_list_optimised[i])\n",
      "#             y_writer.writerow(y_list_optimised[i])\n"
     ],
     "language": "python",
     "metadata": {},
     "outputs": [],
     "prompt_number": 113
    }
   ],
   "metadata": {}
  }
 ]
}