{
 "cells": [
  {
   "cell_type": "markdown",
   "metadata": {},
   "source": [
    "# Find the Equivalent Ellipse of a square"
   ]
  },
  {
   "cell_type": "markdown",
   "metadata": {},
   "source": [
    "This notebook makes defines an object class which takes cutout shape defining points as an input along with a user defined cutout factor `circle_fit` function and returns the equivalent ellipse. An example of how to define the `circle_fit` function is given in the [example below](#Defining-the-circle-fit-from-example-measured-factors).\n",
    "\n",
    "To calculate the equivalent ellipse a seriese of objects are used which can each be found in their own notebook. These are outlined as such:\n",
    "\n",
    " * Finding the position of maximum dose output defined in [FindingCentre.ipynb](FindingCentre.ipynb)\n",
    "   * Which makes use of [SectorIntegration.ipynb](SectorIntegration.ipynb)\n",
    " * Cutout straightening defined in [CutoutStraightening.ipynb](CutoutStraightening.ipynb)\n",
    " * Ellipse fitting found in [EllipseFitting.ipynb](EllipseFitting.ipynb)\n",
    " \n",
    "An example of using the `equivalent_ellipse` object found within this notebook is given [at the bottom of this notebook](#Example)"
   ]
  },
  {
   "cell_type": "markdown",
   "metadata": {},
   "source": [
    "## Copyright information\n",
    "\n",
    "Copyright © 2015 Simon Biggs\n",
    "\n",
    "This program is free software: you can redistribute it and/or modify it under the terms of the GNU Affero General Public License as published by the Free Software Foundation, either version 3 of the License, or (at your option) any later version.\n",
    "\n",
    "This program is distributed in the hope that it will be useful, but WITHOUT ANY WARRANTY; without even the implied warranty of MERCHANTABILITY or FITNESS FOR A PARTICULAR PURPOSE. See the GNU Affero General Public License for more details.\n",
    "\n",
    "You should have received a copy of the GNU Affero General Public License along with this program. If not, see http://www.gnu.org/licenses/."
   ]
  },
  {
   "cell_type": "markdown",
   "metadata": {},
   "source": [
    "## Import modules"
   ]
  },
  {
   "cell_type": "code",
   "execution_count": 1,
   "metadata": {
    "collapsed": false
   },
   "outputs": [],
   "source": [
    "import numpy as np\n",
    "from scipy.interpolate import UnivariateSpline\n",
    "\n",
    "import matplotlib.pyplot as plt\n",
    "from matplotlib import pylab\n",
    "%matplotlib inline\n",
    "\n",
    "import descartes as des\n",
    "\n",
    "import sys\n",
    "sys.path.append(\"../\")\n",
    "\n",
    "from electronfactors.ellipse.equivalent import EquivalentEllipse\n",
    "from electronfactors.ellipse.fitting import StandardFitEllipse"
   ]
  },
  {
   "cell_type": "markdown",
   "metadata": {},
   "source": [
    "### Define the cutout"
   ]
  },
  {
   "cell_type": "code",
   "execution_count": 2,
   "metadata": {
    "collapsed": false
   },
   "outputs": [
    {
     "data": {
      "image/png": "[encoded data removed]",
      "text/plain": [
       "<matplotlib.figure.Figure at 0x7f66b804fd30>"
      ]
     },
     "metadata": {},
     "output_type": "display_data"
    }
   ],
   "source": [
    "# XCoords = np.array([-4,0,4,0])\n",
    "# YCoords = np.array([0,4,0,-4])\n",
    "\n",
    "XCoords = np.array([-3, 3, 3, -3])\n",
    "YCoords = np.array([3, 3, -3, -3])\n",
    "\n",
    "plt.scatter(XCoords, YCoords)\n",
    "plt.plot(np.append(XCoords, XCoords[0]), \n",
    "         np.append(YCoords, YCoords[0]))\n",
    "plt.axis(\"equal\")\n",
    "plt.grid(True)"
   ]
  },
  {
   "cell_type": "markdown",
   "metadata": {},
   "source": [
    "### Defining the circle fit from example measured factors"
   ]
  },
  {
   "cell_type": "code",
   "execution_count": 3,
   "metadata": {
    "collapsed": false
   },
   "outputs": [
    {
     "data": {
      "text/plain": [
       "<matplotlib.collections.PathCollection at 0x7f66b7ef3400>"
      ]
     },
     "execution_count": 3,
     "metadata": {},
     "output_type": "execute_result"
    },
    {
     "data": {
      "image/png": "[encoded data removed]",
      "text/plain": [
       "<matplotlib.figure.Figure at 0x7f66b9efc978>"
      ]
     },
     "metadata": {},
     "output_type": "display_data"
    }
   ],
   "source": [
    "circle_diameter = np.array([3,4,5,6,7,8,9])\n",
    "circle_factors = np.array([0.9296,0.9562,0.9705,0.9858,1.0032,1.0067,1.0084])\n",
    "\n",
    "plt.scatter(circle_diameter, circle_factors)"
   ]
  },
  {
   "cell_type": "code",
   "execution_count": 4,
   "metadata": {
    "collapsed": true
   },
   "outputs": [],
   "source": [
    "def circle_fit(radii):\n",
    "    \n",
    "    circle_radii = circle_diameter/2\n",
    "    \n",
    "    spline = UnivariateSpline(circle_radii, circle_factors)\n",
    "    results = spline(radii)\n",
    "    \n",
    "    results[radii>np.max(circle_radii)] = np.max(circle_factors)\n",
    "    results[radii<np.min(circle_radii)] = 0\n",
    "    \n",
    "    return results"
   ]
  },
  {
   "cell_type": "code",
   "execution_count": 5,
   "metadata": {
    "collapsed": false
   },
   "outputs": [
    {
     "data": {
      "text/plain": [
       "[<matplotlib.lines.Line2D at 0x7f66b7f3e7b8>]"
      ]
     },
     "execution_count": 5,
     "metadata": {},
     "output_type": "execute_result"
    },
    {
     "data": {
      "image/png": "[encoded data removed]",
      "text/plain": [
       "<matplotlib.figure.Figure at 0x7f66b7f3e390>"
      ]
     },
     "metadata": {},
     "output_type": "display_data"
    }
   ],
   "source": [
    "t = np.linspace(circle_diameter.min(),13)\n",
    "y = circle_fit(t/2)\n",
    "\n",
    "plt.scatter(circle_diameter, circle_factors)\n",
    "plt.plot(t,y)"
   ]
  },
  {
   "cell_type": "markdown",
   "metadata": {},
   "source": [
    "### Finding the equivalent ellipse"
   ]
  },
  {
   "cell_type": "code",
   "execution_count": 6,
   "metadata": {
    "collapsed": false
   },
   "outputs": [],
   "source": [
    "# weightedEquivalentEllipse = EquivalentEllipse(x=XCoords, y=YCoords, circle_fit=circle_fit, weighted=True)\n",
    "\n",
    "# # The ellipse fit method needs to be weighted according to the derivative of `circle_fit`. \n",
    "# # Width is more important than length."
   ]
  },
  {
   "cell_type": "code",
   "execution_count": 7,
   "metadata": {
    "collapsed": false
   },
   "outputs": [],
   "source": [
    "# fig = plt.figure()\n",
    "# ax = fig.add_subplot(111)\n",
    "\n",
    "# patch = des.PolygonPatch(weightedEquivalentEllipse.centredCutout, fc=np.random.uniform(size=3), alpha=0.3)\n",
    "# ax.add_patch(patch)\n",
    "\n",
    "# patch = des.PolygonPatch(weightedEquivalentEllipse.straightenedCutout, fc=np.random.uniform(size=3), alpha=0.3)\n",
    "# ax.add_patch(patch)\n",
    "\n",
    "# patch = des.PolygonPatch(weightedEquivalentEllipse.eqEllipse, fc=np.random.uniform(size=3), alpha=0.5)\n",
    "# ax.add_patch(patch)\n",
    "\n",
    "# plt.scatter(0,0)\n",
    "\n",
    "# ax.set_xlim([-weightedEquivalentEllipse._Straightened.maxRadii, weightedEquivalentEllipse._Straightened.maxRadii])\n",
    "# ax.set_ylim([-weightedEquivalentEllipse._Straightened.maxRadii, weightedEquivalentEllipse._Straightened.maxRadii])\n",
    "# ax.axis(\"equal\")"
   ]
  },
  {
   "cell_type": "code",
   "execution_count": 8,
   "metadata": {
    "collapsed": false
   },
   "outputs": [],
   "source": [
    "standardEquivalentEllipse = EquivalentEllipse(x=XCoords, \n",
    "                                              y=YCoords, \n",
    "                                              circle_fit=circle_fit, \n",
    "                                              weighted=False,\n",
    "                                              n=2, \n",
    "                                              min_distance=1.5)\n",
    "\n",
    "# The ellipse fit method needs to be weighted according to the derivative of `circle_fit`. \n",
    "# Width is more important than length."
   ]
  },
  {
   "cell_type": "code",
   "execution_count": 9,
   "metadata": {
    "collapsed": false
   },
   "outputs": [
    {
     "data": {
      "text/plain": [
       "(-4.0, 4.0, -4.0, 4.0)"
      ]
     },
     "execution_count": 9,
     "metadata": {},
     "output_type": "execute_result"
    },
    {
     "data": {
      "image/png": "[encoded data removed]",
      "text/plain": [
       "<matplotlib.figure.Figure at 0x7f66b7e6d048>"
      ]
     },
     "metadata": {},
     "output_type": "display_data"
    }
   ],
   "source": [
    "fig = plt.figure()\n",
    "ax = fig.add_subplot(111)\n",
    "\n",
    "patch = des.PolygonPatch(standardEquivalentEllipse.centredCutout, fc=np.random.uniform(size=3), alpha=0.3)\n",
    "ax.add_patch(patch)\n",
    "\n",
    "patch = des.PolygonPatch(standardEquivalentEllipse.straightenedCutout, fc=np.random.uniform(size=3), alpha=0.3)\n",
    "ax.add_patch(patch)\n",
    "\n",
    "patch = des.PolygonPatch(standardEquivalentEllipse.eqEllipse, fc=np.random.uniform(size=3), alpha=0.5)\n",
    "ax.add_patch(patch)\n",
    "\n",
    "plt.scatter(0,0)\n",
    "\n",
    "ax.set_xlim([-standardEquivalentEllipse._Straightened.maxRadii, standardEquivalentEllipse._Straightened.maxRadii])\n",
    "ax.set_ylim([-standardEquivalentEllipse._Straightened.maxRadii, standardEquivalentEllipse._Straightened.maxRadii])\n",
    "ax.axis(\"equal\")"
   ]
  },
  {
   "cell_type": "code",
   "execution_count": null,
   "metadata": {
    "collapsed": true
   },
   "outputs": [],
   "source": []
  },
  {
   "cell_type": "code",
   "execution_count": 10,
   "metadata": {
    "collapsed": true
   },
   "outputs": [],
   "source": [
    "basicGuess = StandardFitEllipse(x=XCoords, y=YCoords)"
   ]
  },
  {
   "cell_type": "code",
   "execution_count": null,
   "metadata": {
    "collapsed": true
   },
   "outputs": [],
   "source": []
  },
  {
   "cell_type": "code",
   "execution_count": 11,
   "metadata": {
    "collapsed": false
   },
   "outputs": [],
   "source": [
    "# weightedEquivalentEllipse.width"
   ]
  },
  {
   "cell_type": "code",
   "execution_count": 12,
   "metadata": {
    "collapsed": false
   },
   "outputs": [],
   "source": [
    "# weightedEquivalentEllipse.length"
   ]
  },
  {
   "cell_type": "code",
   "execution_count": null,
   "metadata": {
    "collapsed": true
   },
   "outputs": [],
   "source": []
  },
  {
   "cell_type": "code",
   "execution_count": 13,
   "metadata": {
    "collapsed": false
   },
   "outputs": [
    {
     "data": {
      "text/plain": [
       "5.9003260830764672"
      ]
     },
     "execution_count": 13,
     "metadata": {},
     "output_type": "execute_result"
    }
   ],
   "source": [
    "standardEquivalentEllipse.width"
   ]
  },
  {
   "cell_type": "code",
   "execution_count": 14,
   "metadata": {
    "collapsed": false
   },
   "outputs": [
    {
     "data": {
      "text/plain": [
       "7.6683723189849768"
      ]
     },
     "execution_count": 14,
     "metadata": {},
     "output_type": "execute_result"
    }
   ],
   "source": [
    "standardEquivalentEllipse.length"
   ]
  },
  {
   "cell_type": "code",
   "execution_count": null,
   "metadata": {
    "collapsed": true
   },
   "outputs": [],
   "source": []
  },
  {
   "cell_type": "code",
   "execution_count": 15,
   "metadata": {
    "collapsed": false
   },
   "outputs": [
    {
     "data": {
      "text/plain": [
       "6.4943531998541371"
      ]
     },
     "execution_count": 15,
     "metadata": {},
     "output_type": "execute_result"
    }
   ],
   "source": [
    "basicGuess.width"
   ]
  },
  {
   "cell_type": "code",
   "execution_count": 16,
   "metadata": {
    "collapsed": false
   },
   "outputs": [
    {
     "data": {
      "text/plain": [
       "6.4943532575661118"
      ]
     },
     "execution_count": 16,
     "metadata": {},
     "output_type": "execute_result"
    }
   ],
   "source": [
    "basicGuess.length"
   ]
  },
  {
   "cell_type": "code",
   "execution_count": null,
   "metadata": {
    "collapsed": true
   },
   "outputs": [],
   "source": []
  },
  {
   "cell_type": "code",
   "execution_count": 17,
   "metadata": {
    "collapsed": false
   },
   "outputs": [],
   "source": [
    "# equivalentEllipse.width"
   ]
  },
  {
   "cell_type": "code",
   "execution_count": 18,
   "metadata": {
    "collapsed": false
   },
   "outputs": [],
   "source": [
    "# equivalentEllipse.length"
   ]
  },
  {
   "cell_type": "code",
   "execution_count": 19,
   "metadata": {
    "collapsed": false
   },
   "outputs": [],
   "source": [
    "# assert np.abs(equivalentEllipse.width - 5.16) < 0.1\n",
    "# assert np.abs(equivalentEllipse.length - 7.99) < 0.1"
   ]
  }
 ],
 "metadata": {
  "kernelspec": {
   "display_name": "Python 3",
   "language": "python",
   "name": "python3"
  },
  "language_info": {
   "codemirror_mode": {
    "name": "ipython",
    "version": 3
   },
   "file_extension": ".py",
   "mimetype": "text/x-python",
   "name": "python",
   "nbconvert_exporter": "python",
   "pygments_lexer": "ipython3",
   "version": "3.4.0"
  }
 },
 "nbformat": 4,
 "nbformat_minor": 0
}
