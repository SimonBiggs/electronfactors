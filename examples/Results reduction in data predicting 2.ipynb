{
 "cells": [
  {
   "cell_type": "code",
   "execution_count": 1,
   "metadata": {
    "collapsed": false
   },
   "outputs": [],
   "source": [
    "import yaml\n",
    "import numpy as np\n",
    "\n",
    "import matplotlib.pyplot as plt\n",
    "%matplotlib inline\n",
    "\n",
    "import sys\n",
    "sys.path.append(\"../\")\n",
    "\n",
    "from electronfactors.model.utilities import *"
   ]
  },
  {
   "cell_type": "code",
   "execution_count": 2,
   "metadata": {
    "collapsed": false
   },
   "outputs": [],
   "source": [
    "width, length, eqPonA, factor = pull_data(energy=12)"
   ]
  },
  {
   "cell_type": "code",
   "execution_count": 3,
   "metadata": {
    "collapsed": false
   },
   "outputs": [],
   "source": [
    "x = np.array([])\n",
    "y = np.array([])"
   ]
  },
  {
   "cell_type": "code",
   "execution_count": 4,
   "metadata": {
    "collapsed": false
   },
   "outputs": [],
   "source": [
    "## Edit the default functions with the purpose of checking smaller model against full data set\n",
    "\n",
    "def calculate_percent_prediction_differences(width, eqPonA, factor, reference):\n",
    "    \n",
    "    check = np.setdiff1d(np.arange(len(width)), reference)\n",
    "    give = np.zeros(len(check))\n",
    "    gap = np.zeros(len(check))\n",
    "    \n",
    "    predictions = np.zeros(len(check))\n",
    "\n",
    "    bbox = [np.min(width), np.max(width),\n",
    "            np.min(eqPonA), np.max(eqPonA)]\n",
    "    \n",
    "    model = create_model(width[reference], eqPonA[reference], factor[reference], bbox=bbox)\n",
    "    \n",
    "    for i, value in enumerate(check):\n",
    "        predictions[i] = model(width[value], eqPonA[value])\n",
    "        give[i] = fit_give(\n",
    "            width[value], eqPonA[value], \n",
    "            width[reference], eqPonA[reference], factor[reference])\n",
    "\n",
    "    percent_prediction_differences = 100*(factor[check] - predictions) / factor[check]\n",
    "\n",
    "    invalid = give > 0.5\n",
    "    percent_prediction_differences = percent_prediction_differences[~invalid]\n",
    "\n",
    "    return percent_prediction_differences"
   ]
  },
  {
   "cell_type": "code",
   "execution_count": 5,
   "metadata": {
    "collapsed": false
   },
   "outputs": [],
   "source": [
    "def data_reduction_loop(x, y, width, eqPonA, factor, n=1000):\n",
    "    for amount in np.arange(7, np.floor(len(width)/2) + 1):        \n",
    "        order = np.arange(len(width))\n",
    "        np.random.shuffle(order)\n",
    "        \n",
    "        reference = order[0:amount]\n",
    "        prediction_differences = calculate_percent_prediction_differences(width, eqPonA, factor, reference)\n",
    "        \n",
    "        prediction_differences = prediction_differences[~np.isnan(prediction_differences)]\n",
    "\n",
    "        x = np.concatenate([x, [amount]*len(prediction_differences)])\n",
    "        y = np.concatenate([y, prediction_differences])    \n",
    "    \n",
    "    for i in range(n):\n",
    "        bin_mid = np.arange(np.min(x), np.max(x) + 1)\n",
    "        bins = np.linspace(np.min(x)-0.5, np.max(x)+0.5, np.ptp(x)+2)\n",
    "        histogrammed, value = np.histogram(x, bins=bins)\n",
    "        amount = bin_mid[np.argmin(histogrammed)]\n",
    "        \n",
    "        order = np.arange(len(width))\n",
    "        np.random.shuffle(order)\n",
    "        \n",
    "        reference = order[0:amount]\n",
    "        prediction_differences = calculate_percent_prediction_differences(width, eqPonA, factor, reference)\n",
    "        \n",
    "        prediction_differences = prediction_differences[~np.isnan(prediction_differences)]\n",
    "        \n",
    "        x = np.concatenate([x, [amount]*len(prediction_differences)])\n",
    "        y = np.concatenate([y, prediction_differences])    \n",
    "    \n",
    "    return x, y        "
   ]
  },
  {
   "cell_type": "code",
   "execution_count": 11,
   "metadata": {
    "collapsed": true
   },
   "outputs": [],
   "source": [
    "def plot_intervals(x, y):\n",
    "    amounts = np.arange(8, np.max(x) + 1)\n",
    "\n",
    "    upper_interval_3 = np.zeros(len(amounts))\n",
    "    upper_interval_2 = np.zeros(len(amounts))\n",
    "    upper_interval_1 = np.zeros(len(amounts))\n",
    "\n",
    "    lower_interval_1 = np.zeros(len(amounts))\n",
    "    lower_interval_2 = np.zeros(len(amounts))\n",
    "    lower_interval_3 = np.zeros(len(amounts))\n",
    "    \n",
    "    for i, amount in enumerate(amounts):    \n",
    "        reference = (x == amount)\n",
    "        n = np.sum(reference)\n",
    "\n",
    "        upper_interval_position_3 = np.ceil(n * 0.9985) - 1\n",
    "        upper_interval_position_2 = np.ceil(n * 0.975) - 1\n",
    "        upper_interval_position_1 = np.ceil(n * 0.84) - 1\n",
    "\n",
    "        lower_interval_position_1 = np.floor(n * 0.16) - 1\n",
    "        lower_interval_position_2 = np.floor(n * 0.025) - 1\n",
    "        lower_interval_position_3 = np.floor(n * 0.0015) - 1    \n",
    "\n",
    "        uncertainties_sorted = np.sort(y[reference])\n",
    "\n",
    "        upper_interval_3[i] = uncertainties_sorted[upper_interval_position_3]\n",
    "        upper_interval_2[i] = uncertainties_sorted[upper_interval_position_2]\n",
    "        upper_interval_1[i] = uncertainties_sorted[upper_interval_position_1]\n",
    "\n",
    "        lower_interval_1[i] = uncertainties_sorted[lower_interval_position_1]\n",
    "        lower_interval_2[i] = uncertainties_sorted[lower_interval_position_2]\n",
    "        lower_interval_3[i] = uncertainties_sorted[lower_interval_position_3]\n",
    "    \n",
    "    plt.plot(\n",
    "        amounts, upper_interval_1, 'r-',\n",
    "        amounts, upper_interval_2, 'r--',\n",
    "        amounts, upper_interval_3, 'k--',\n",
    "        amounts, lower_interval_1, 'r-',\n",
    "        amounts, lower_interval_2, 'r--',\n",
    "        amounts, lower_interval_3, 'k--',\n",
    "    )"
   ]
  },
  {
   "cell_type": "code",
   "execution_count": null,
   "metadata": {
    "collapsed": false
   },
   "outputs": [],
   "source": [
    "x, y = data_reduction_loop(x, y, width, eqPonA, factor, n=100000)"
   ]
  },
  {
   "cell_type": "code",
   "execution_count": null,
   "metadata": {
    "collapsed": true
   },
   "outputs": [],
   "source": []
  },
  {
   "cell_type": "code",
   "execution_count": 29,
   "metadata": {
    "collapsed": false
   },
   "outputs": [
    {
     "name": "stdout",
     "output_type": "stream",
     "text": [
      "Number of data points tested = 451393\n"
     ]
    },
    {
     "data": {
      "text/plain": [
       "array([25064, 25074, 25079, 25082, 25077, 25078, 25092, 25071, 25090,\n",
       "       25079, 25077, 25068, 25085, 25086, 25070, 25070, 25077, 25074])"
      ]
     },
     "execution_count": 29,
     "metadata": {},
     "output_type": "execute_result"
    },
    {
     "data": {
      "image/png": "[encoded data removed]",
      "text/plain": [
       "<matplotlib.figure.Figure at 0x7f9d3eb56550>"
      ]
     },
     "metadata": {},
     "output_type": "display_data"
    }
   ],
   "source": [
    "plot_intervals(x, y)\n",
    "plt.grid(True)\n",
    "\n",
    "plt.xlabel(\"Amount of points in data set\")\n",
    "plt.ylabel(\"Percent prediction difference\")\n",
    "plt.title(\"Percent prediction differences for random subsets of data\")\n",
    "plt.legend([\"68% bounds\", \"95% bounds\", \"99.7% bounds\"],\n",
    "          loc='center left', bbox_to_anchor=(1, 0.5),\n",
    "           fancybox=True)\n",
    "\n",
    "print(\"Number of data points tested = %d\" %(len(x)))\n",
    "\n",
    "bins = np.linspace(np.min(x)-0.5, np.max(x)+0.5, np.ptp(x)+2)\n",
    "histogrammed, value = np.histogram(x, bins=bins)\n",
    "histogrammed\n"
   ]
  },
  {
   "cell_type": "code",
   "execution_count": null,
   "metadata": {
    "collapsed": true
   },
   "outputs": [],
   "source": []
  },
  {
   "cell_type": "code",
   "execution_count": null,
   "metadata": {
    "collapsed": true
   },
   "outputs": [],
   "source": []
  },
  {
   "cell_type": "code",
   "execution_count": null,
   "metadata": {
    "collapsed": true
   },
   "outputs": [],
   "source": []
  }
 ],
 "metadata": {
  "kernelspec": {
   "display_name": "Python 3",
   "language": "python",
   "name": "python3"
  },
  "language_info": {
   "codemirror_mode": {
    "name": "ipython",
    "version": 3
   },
   "file_extension": ".py",
   "mimetype": "text/x-python",
   "name": "python",
   "nbconvert_exporter": "python",
   "pygments_lexer": "ipython3",
   "version": "3.4.0"
  }
 },
 "nbformat": 4,
 "nbformat_minor": 0
}
