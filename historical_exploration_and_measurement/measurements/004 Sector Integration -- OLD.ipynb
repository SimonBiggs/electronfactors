{
 "metadata": {
  "name": "",
  "signature": "sha256:96673863a287d00c0b02667b17c3f8f37aa74ae9bd9ebafa6180e427eaf94303"
 },
 "nbformat": 3,
 "nbformat_minor": 0,
 "worksheets": [
  {
   "cells": [
    {
     "cell_type": "code",
     "collapsed": false,
     "input": [
      "%pylab inline\n",
      "\n",
      "from scipy.optimize import basinhopping\n",
      "from scipy.interpolate import UnivariateSpline\n",
      "\n",
      "import pandas as pd\n",
      "\n",
      "import csv\n",
      "\n",
      "import shapely.affinity as af\n",
      "import shapely.geometry as sh\n",
      "\n",
      "from equivalent_ellipse import *\n",
      "from scaled_figures import *"
     ],
     "language": "python",
     "metadata": {},
     "outputs": [
      {
       "output_type": "stream",
       "stream": "stdout",
       "text": [
        "Populating the interactive namespace from numpy and matplotlib\n"
       ]
      }
     ],
     "prompt_number": 1
    },
    {
     "cell_type": "code",
     "collapsed": false,
     "input": [
      "x_list = list()\n",
      "y_list = list()\n",
      "\n",
      "with open('../data/cutout_x.csv', 'r') as x_csvfile:\n",
      "    with open('../data/cutout_y.csv', 'r') as y_csvfile:\n",
      "        \n",
      "        x_reader = csv.reader(x_csvfile, delimiter=',', lineterminator='\\n')\n",
      "        y_reader = csv.reader(y_csvfile, delimiter=',', lineterminator='\\n')\n",
      "        \n",
      "        for row in x_reader:\n",
      "            x_list += [row]\n",
      "  \n",
      "        for row in y_reader:\n",
      "            y_list += [row]\n",
      "\n",
      "            \n",
      "num_cutouts = len(x_list)\n",
      "\n",
      "\n",
      "x_array = [0,]*num_cutouts\n",
      "y_array = [0,]*num_cutouts\n",
      "\n",
      "\n",
      "for i in range(num_cutouts):\n",
      "\n",
      "    x_array[i] = array(x_list[i], dtype='float')\n",
      "    y_array[i] = array(y_list[i], dtype='float')\n",
      "\n",
      "    \n",
      "cutout = [0,]*num_cutouts\n",
      "\n",
      "for i in range(num_cutouts):\n",
      "    cutout[i] = shapely_cutout(x_array[i],y_array[i])"
     ],
     "language": "python",
     "metadata": {},
     "outputs": [],
     "prompt_number": 2
    },
    {
     "cell_type": "code",
     "collapsed": false,
     "input": [
      "# testCutout = cutout[70]\n",
      "# testCutout"
     ],
     "language": "python",
     "metadata": {},
     "outputs": [],
     "prompt_number": 3
    },
    {
     "cell_type": "code",
     "collapsed": false,
     "input": [
      "with open('circle_cutout_factors','r') as f:\n",
      "    \n",
      "    loaded_circle_factor = eval(f.read())\n",
      "    \n",
      "circleDictArray = array(list(loaded_circle_factor.items()),float)\n",
      "\n",
      "circleDiameter = circleDictArray[:,0]\n",
      "circleFactor = circleDictArray[:,1]"
     ],
     "language": "python",
     "metadata": {},
     "outputs": [],
     "prompt_number": 4
    },
    {
     "cell_type": "code",
     "collapsed": false,
     "input": [
      "scatter(circleDiameter,circleFactor)\n",
      "\n",
      "circleFit = UnivariateSpline(circleDiameter,circleFactor)\n",
      "\n",
      "diameter_i = linspace(circleDiameter.min(),circleDiameter.max())\n",
      "plot(diameter_i,circleFit(diameter_i),'r--')"
     ],
     "language": "python",
     "metadata": {},
     "outputs": [
      {
       "metadata": {},
       "output_type": "pyout",
       "prompt_number": 5,
       "text": [
        "[<matplotlib.lines.Line2D at 0x8df1160>]"
       ]
      },
      {
       "metadata": {},
       "output_type": "display_data",
       "png": "[encoded data removed]",
       "text": [
        "<matplotlib.figure.Figure at 0x8df1198>"
       ]
      }
     ],
     "prompt_number": 5
    },
    {
     "cell_type": "code",
     "collapsed": false,
     "input": [
      "minVal = 3\n",
      "maxVal = 9\n",
      "numZones = 100"
     ],
     "language": "python",
     "metadata": {},
     "outputs": [],
     "prompt_number": 6
    },
    {
     "cell_type": "code",
     "collapsed": false,
     "input": [
      "# Create Zones\n",
      "\n",
      "zoneWidth = linspace(minVal,maxVal,numZones)\n",
      "\n",
      "zoneWeight = 3000*circleFit.derivative()(zoneWidth)**2\n",
      "\n",
      "circle = [0,]*(numZones)\n",
      "circle[0] = sh.Point(0,0).buffer(minVal/2)\n",
      "\n",
      "zone = [0,]*numZones\n",
      "zone[0] = circle[0]\n",
      "\n",
      "for i in range(1,numZones-1):\n",
      "\n",
      "    circle[i] = sh.Point(0,0).buffer(zoneWidth[i]/2)\n",
      "    zone[i] = circle[i].difference(circle[i-1])\n",
      "\n",
      "zone[-1] = sh.Point(0,0).buffer(20).difference(circle[-2])\n",
      "\n",
      "# weightedArea = 0.\n",
      "# for i in range(numZones):\n",
      "    \n",
      "#     weightedArea += testCutout.intersection(zone[i]).area * zoneWeight[i]\n",
      "    \n",
      "# weightedArea"
     ],
     "language": "python",
     "metadata": {},
     "outputs": [],
     "prompt_number": 7
    },
    {
     "cell_type": "code",
     "collapsed": false,
     "input": [
      "# testCutout.area"
     ],
     "language": "python",
     "metadata": {},
     "outputs": [],
     "prompt_number": 8
    },
    {
     "cell_type": "code",
     "collapsed": false,
     "input": [
      "plot(zoneWidth,zoneWeight)"
     ],
     "language": "python",
     "metadata": {},
     "outputs": [
      {
       "metadata": {},
       "output_type": "pyout",
       "prompt_number": 9,
       "text": [
        "[<matplotlib.lines.Line2D at 0x9518f98>]"
       ]
      },
      {
       "metadata": {},
       "output_type": "display_data",
       "png": "[encoded data removed]",
       "text": [
        "<matplotlib.figure.Figure at 0x94bb0b8>"
       ]
      }
     ],
     "prompt_number": 9
    },
    {
     "cell_type": "code",
     "collapsed": false,
     "input": [
      "def weightedAreaOptimise(x,inputShape):\n",
      "    \n",
      "    a = x[0]\n",
      "    b = x[1]\n",
      "    \n",
      "    movedShape =af.translate(inputShape, xoff=-a, yoff=-b)\n",
      "    \n",
      "    weightedArea = 0.\n",
      "    \n",
      "    for i in range(numZones):\n",
      "        weightedArea += movedShape.intersection(zone[i]).area * zoneWeight[i]\n",
      "        \n",
      "    return -weightedArea  "
     ],
     "language": "python",
     "metadata": {},
     "outputs": [],
     "prompt_number": 10
    },
    {
     "cell_type": "code",
     "collapsed": false,
     "input": [
      "class MyTakeStep(object):\n",
      "    \n",
      "    def __init__(self, stepsize=0.5):\n",
      "        self.stepsize = stepsize\n",
      "        \n",
      "    def __call__(self, x):\n",
      "        s = self.stepsize\n",
      "        x[0] += np.random.uniform(-3*s, 3*s)\n",
      "        x[1] += np.random.uniform(-3*s, 3*s)\n",
      "        \n",
      "        return x\n",
      "    \n",
      "\n",
      "def print_fun(x, f, accepted):\n",
      "\n",
      "    global successCount_basinhopping\n",
      "    global minVals_basinhopping\n",
      "    global nSuccess_basinhopping\n",
      "\n",
      "    a = x[0]\n",
      "    b = x[1]\n",
      "    \n",
      "    f = np.around(f,4)\n",
      "    \n",
      "    if accepted:\n",
      "        \n",
      "        if np.all(np.isnan(minVals_basinhopping)):\n",
      "            \n",
      "            minVals_basinhopping[0] = f\n",
      "            successCount_basinhopping = 1\n",
      "            \n",
      "            print((\"first local minima of %.4f at:\\n\"+\n",
      "                \"[a,b] = [%.4f, %.4f]\")\n",
      "                % (f,a,b))\n",
      "            \n",
      "        elif (np.nanmin(minVals_basinhopping) == f):\n",
      "        \n",
      "            minVals_basinhopping[successCount_basinhopping] = f\n",
      "            successCount_basinhopping += 1\n",
      "            \n",
      "            print((\"agreeing local minima of %.4f at:\\n\"+\n",
      "                \"[a,b] = [%.4f, %.4f]\")\n",
      "                % (f,a,b))\n",
      "        \n",
      "        elif (np.nanmin(minVals_basinhopping) > f):\n",
      "        \n",
      "            minVals_basinhopping[0] = f\n",
      "            successCount_basinhopping = 1\n",
      "            \n",
      "            print((\"new local minima of %.4f at:\\n\"+\n",
      "                \"[a,b] = [%.4f, %.4f]\") \n",
      "                % (f,a,b))\n",
      "                \n",
      "        else:\n",
      "        \n",
      "            print((\"rejected local minima of %.4f at:\\n\"+\n",
      "                \"[a,b] = [%.4f, %.4f]\") \n",
      "                % (f,a,b))\n",
      "            \n",
      "        \n",
      "    else:\n",
      "        \n",
      "        print((\"failed to find local minima at:\\n\"+\n",
      "            \"[a,b] = [%.4f, %.4f]\") \n",
      "            % (a,b))\n",
      "          \n",
      "\n",
      "    if successCount_basinhopping >= nSuccess_basinhopping:\n",
      "        return True\n",
      "\n",
      "\n",
      "\n",
      "def optimise_middle(cutout,userNSuccess):\n",
      "    \n",
      "    mytakestep = MyTakeStep()\n",
      "    \n",
      "    global nSuccess_basinhopping\n",
      "    nSuccess_basinhopping = userNSuccess\n",
      "    \n",
      "    global minVals_basinhopping\n",
      "    minVals_basinhopping = np.empty(nSuccess_basinhopping)\n",
      "    minVals_basinhopping[:] = np.nan\n",
      "    \n",
      "    global successCount_basinhopping\n",
      "    successCount_basinhopping = 0\n",
      "        \n",
      "    minimizer_kwargs = {\"args\": (cutout,), \"method\": 'L-BFGS-B', \n",
      "                        \"bounds\": ((-5,5),(-5,5)) }\n",
      "    \n",
      "    x0 = np.array([0,0])\n",
      "\n",
      "    output = basinhopping(weightedAreaOptimise,x0,\n",
      "                          niter=1000,minimizer_kwargs=minimizer_kwargs,\n",
      "                          take_step=mytakestep, callback=print_fun)\n",
      "\n",
      "    return output"
     ],
     "language": "python",
     "metadata": {},
     "outputs": [],
     "prompt_number": 11
    },
    {
     "cell_type": "code",
     "collapsed": false,
     "input": [
      "middle_points = zeros([num_cutouts,2])\n",
      "\n",
      "for i in range(num_cutouts):\n",
      "\n",
      "    print(\"Cutout %.f\" % (i))\n",
      "    output = optimise_middle(cutout[i],5)\n",
      "    middle_points[i,:] = output.x\n",
      "    print(\" \")"
     ],
     "language": "python",
     "metadata": {},
     "outputs": [
      {
       "output_type": "stream",
       "stream": "stdout",
       "text": [
        "Cutout 0\n",
        "first local minima of -46.2982 at:\n",
        "[a,b] = [0.0477, -0.6668]"
       ]
      },
      {
       "output_type": "stream",
       "stream": "stdout",
       "text": [
        "\n",
        "agreeing local minima of -46.2982 at:\n",
        "[a,b] = [0.0477, -0.6668]"
       ]
      },
      {
       "output_type": "stream",
       "stream": "stdout",
       "text": [
        "\n",
        "agreeing local minima of -46.2982 at:\n",
        "[a,b] = [0.0477, -0.6668]"
       ]
      },
      {
       "output_type": "stream",
       "stream": "stdout",
       "text": [
        "\n",
        "agreeing local minima of -46.2982 at:\n",
        "[a,b] = [0.0477, -0.6668]"
       ]
      },
      {
       "output_type": "stream",
       "stream": "stdout",
       "text": [
        "\n",
        "agreeing local minima of -46.2982 at:\n",
        "[a,b] = [0.0477, -0.6668]"
       ]
      },
      {
       "output_type": "stream",
       "stream": "stdout",
       "text": [
        "\n",
        " \n",
        "Cutout 1\n",
        "first local minima of -47.7511 at:\n",
        "[a,b] = [-0.0938, 0.4374]"
       ]
      },
      {
       "output_type": "stream",
       "stream": "stdout",
       "text": [
        "\n",
        "agreeing local minima of -47.7511 at:\n",
        "[a,b] = [-0.0938, 0.4374]"
       ]
      },
      {
       "output_type": "stream",
       "stream": "stdout",
       "text": [
        "\n",
        "agreeing local minima of -47.7511 at:\n",
        "[a,b] = [-0.0939, 0.4374]"
       ]
      },
      {
       "output_type": "stream",
       "stream": "stdout",
       "text": [
        "\n",
        "agreeing local minima of -47.7511 at:\n",
        "[a,b] = [-0.0938, 0.4374]"
       ]
      },
      {
       "output_type": "stream",
       "stream": "stdout",
       "text": [
        "\n",
        "agreeing local minima of -47.7511 at:\n",
        "[a,b] = [-0.0938, 0.4374]"
       ]
      },
      {
       "output_type": "stream",
       "stream": "stdout",
       "text": [
        "\n",
        " \n",
        "Cutout 2\n",
        "first local minima of -46.8982 at:\n",
        "[a,b] = [0.0114, 0.2487]"
       ]
      },
      {
       "output_type": "stream",
       "stream": "stdout",
       "text": [
        "\n",
        "agreeing local minima of -46.8982 at:\n",
        "[a,b] = [0.0114, 0.2487]"
       ]
      },
      {
       "output_type": "stream",
       "stream": "stdout",
       "text": [
        "\n",
        "agreeing local minima of -46.8982 at:\n",
        "[a,b] = [0.0114, 0.2487]"
       ]
      },
      {
       "output_type": "stream",
       "stream": "stdout",
       "text": [
        "\n",
        "agreeing local minima of -46.8982 at:\n",
        "[a,b] = [0.0114, 0.2487]"
       ]
      },
      {
       "output_type": "stream",
       "stream": "stdout",
       "text": [
        "\n",
        "agreeing local minima of -46.8982 at:\n",
        "[a,b] = [0.0114, 0.2487]"
       ]
      },
      {
       "output_type": "stream",
       "stream": "stdout",
       "text": [
        "\n",
        " \n",
        "Cutout 3\n",
        "first local minima of -35.9248 at:\n",
        "[a,b] = [0.2047, -0.1736]"
       ]
      },
      {
       "output_type": "stream",
       "stream": "stdout",
       "text": [
        "\n",
        "agreeing local minima of -35.9248 at:\n",
        "[a,b] = [0.2047, -0.1736]"
       ]
      },
      {
       "output_type": "stream",
       "stream": "stdout",
       "text": [
        "\n",
        "agreeing local minima of -35.9248 at:\n",
        "[a,b] = [0.2047, -0.1736]"
       ]
      },
      {
       "output_type": "stream",
       "stream": "stdout",
       "text": [
        "\n",
        "agreeing local minima of -35.9248 at:\n",
        "[a,b] = [0.2047, -0.1735]"
       ]
      },
      {
       "output_type": "stream",
       "stream": "stdout",
       "text": [
        "\n",
        "agreeing local minima of -35.9248 at:\n",
        "[a,b] = [0.2047, -0.1736]"
       ]
      },
      {
       "output_type": "stream",
       "stream": "stdout",
       "text": [
        "\n",
        " \n",
        "Cutout 4\n",
        "first local minima of -47.9460 at:\n",
        "[a,b] = [0.0244, -0.7807]"
       ]
      },
      {
       "output_type": "stream",
       "stream": "stdout",
       "text": [
        "\n",
        "agreeing local minima of -47.9460 at:\n",
        "[a,b] = [0.0244, -0.7807]"
       ]
      },
      {
       "output_type": "stream",
       "stream": "stdout",
       "text": [
        "\n",
        "agreeing local minima of -47.9460 at:\n",
        "[a,b] = [0.0244, -0.7807]"
       ]
      },
      {
       "output_type": "stream",
       "stream": "stdout",
       "text": [
        "\n",
        "agreeing local minima of -47.9460 at:\n",
        "[a,b] = [0.0244, -0.7807]"
       ]
      },
      {
       "output_type": "stream",
       "stream": "stdout",
       "text": [
        "\n",
        "agreeing local minima of -47.9460 at:\n",
        "[a,b] = [0.0244, -0.7807]"
       ]
      },
      {
       "output_type": "stream",
       "stream": "stdout",
       "text": [
        "\n",
        " \n",
        "Cutout 5\n",
        "first local minima of -31.6379 at:\n",
        "[a,b] = [-0.1937, -0.3417]"
       ]
      },
      {
       "output_type": "stream",
       "stream": "stdout",
       "text": [
        "\n",
        "agreeing local minima of -31.6379 at:\n",
        "[a,b] = [-0.1938, -0.3417]"
       ]
      },
      {
       "output_type": "stream",
       "stream": "stdout",
       "text": [
        "\n",
        "agreeing local minima of -31.6379 at:\n",
        "[a,b] = [-0.1937, -0.3417]"
       ]
      },
      {
       "output_type": "stream",
       "stream": "stdout",
       "text": [
        "\n",
        "agreeing local minima of -31.6379 at:\n",
        "[a,b] = [-0.1938, -0.3417]"
       ]
      },
      {
       "output_type": "stream",
       "stream": "stdout",
       "text": [
        "\n",
        "agreeing local minima of -31.6379 at:\n",
        "[a,b] = [-0.1937, -0.3417]"
       ]
      },
      {
       "output_type": "stream",
       "stream": "stdout",
       "text": [
        "\n",
        " \n",
        "Cutout 6\n",
        "first local minima of -47.4282 at:\n",
        "[a,b] = [0.4414, -0.5697]"
       ]
      },
      {
       "output_type": "stream",
       "stream": "stdout",
       "text": [
        "\n",
        "agreeing local minima of -47.4282 at:\n",
        "[a,b] = [0.4414, -0.5697]"
       ]
      },
      {
       "output_type": "stream",
       "stream": "stdout",
       "text": [
        "\n",
        "agreeing local minima of -47.4282 at:\n",
        "[a,b] = [0.4415, -0.5697]"
       ]
      },
      {
       "output_type": "stream",
       "stream": "stdout",
       "text": [
        "\n",
        "agreeing local minima of -47.4282 at:\n",
        "[a,b] = [0.4414, -0.5697]"
       ]
      },
      {
       "output_type": "stream",
       "stream": "stdout",
       "text": [
        "\n",
        "agreeing local minima of -47.4282 at:\n",
        "[a,b] = [0.4414, -0.5697]"
       ]
      },
      {
       "output_type": "stream",
       "stream": "stdout",
       "text": [
        "\n",
        " \n",
        "Cutout 7\n",
        "first local minima of -46.5647 at:\n",
        "[a,b] = [0.3862, -0.7505]"
       ]
      },
      {
       "output_type": "stream",
       "stream": "stdout",
       "text": [
        "\n",
        "agreeing local minima of -46.5647 at:\n",
        "[a,b] = [0.3862, -0.7506]"
       ]
      },
      {
       "output_type": "stream",
       "stream": "stdout",
       "text": [
        "\n",
        "agreeing local minima of -46.5647 at:\n",
        "[a,b] = [0.3862, -0.7506]"
       ]
      },
      {
       "output_type": "stream",
       "stream": "stdout",
       "text": [
        "\n",
        "agreeing local minima of -46.5647 at:\n",
        "[a,b] = [0.3862, -0.7506]"
       ]
      },
      {
       "output_type": "stream",
       "stream": "stdout",
       "text": [
        "\n",
        "agreeing local minima of -46.5647 at:\n",
        "[a,b] = [0.3862, -0.7506]"
       ]
      },
      {
       "output_type": "stream",
       "stream": "stdout",
       "text": [
        "\n",
        " \n",
        "Cutout 8\n",
        "first local minima of -46.7397 at:\n",
        "[a,b] = [-0.3607, 0.3515]"
       ]
      },
      {
       "output_type": "stream",
       "stream": "stdout",
       "text": [
        "\n",
        "agreeing local minima of -46.7397 at:\n",
        "[a,b] = [-0.3607, 0.3515]"
       ]
      },
      {
       "output_type": "stream",
       "stream": "stdout",
       "text": [
        "\n",
        "agreeing local minima of -46.7397 at:\n",
        "[a,b] = [-0.3607, 0.3515]"
       ]
      },
      {
       "output_type": "stream",
       "stream": "stdout",
       "text": [
        "\n",
        "agreeing local minima of -46.7397 at:\n",
        "[a,b] = [-0.3607, 0.3515]"
       ]
      },
      {
       "output_type": "stream",
       "stream": "stdout",
       "text": [
        "\n",
        "agreeing local minima of -46.7397 at:\n",
        "[a,b] = [-0.3607, 0.3515]"
       ]
      },
      {
       "output_type": "stream",
       "stream": "stdout",
       "text": [
        "\n",
        " \n",
        "Cutout 9\n",
        "first local minima of -47.6837 at:\n",
        "[a,b] = [-0.5317, -0.3855]"
       ]
      },
      {
       "output_type": "stream",
       "stream": "stdout",
       "text": [
        "\n",
        "agreeing local minima of -47.6837 at:\n",
        "[a,b] = [-0.5317, -0.3855]"
       ]
      },
      {
       "output_type": "stream",
       "stream": "stdout",
       "text": [
        "\n",
        "agreeing local minima of -47.6837 at:\n",
        "[a,b] = [-0.5317, -0.3855]"
       ]
      },
      {
       "output_type": "stream",
       "stream": "stdout",
       "text": [
        "\n",
        "agreeing local minima of -47.6837 at:\n",
        "[a,b] = [-0.5317, -0.3855]"
       ]
      },
      {
       "output_type": "stream",
       "stream": "stdout",
       "text": [
        "\n",
        "agreeing local minima of -47.6837 at:\n",
        "[a,b] = [-0.5317, -0.3855]"
       ]
      },
      {
       "output_type": "stream",
       "stream": "stdout",
       "text": [
        "\n",
        " \n",
        "Cutout 10\n",
        "first local minima of -45.0976 at:\n",
        "[a,b] = [-0.3471, -0.7735]"
       ]
      },
      {
       "output_type": "stream",
       "stream": "stdout",
       "text": [
        "\n",
        "agreeing local minima of -45.0976 at:\n",
        "[a,b] = [-0.3471, -0.7735]"
       ]
      },
      {
       "output_type": "stream",
       "stream": "stdout",
       "text": [
        "\n",
        "agreeing local minima of -45.0976 at:\n",
        "[a,b] = [-0.3471, -0.7735]"
       ]
      },
      {
       "output_type": "stream",
       "stream": "stdout",
       "text": [
        "\n",
        "agreeing local minima of -45.0976 at:\n",
        "[a,b] = [-0.3471, -0.7735]"
       ]
      },
      {
       "output_type": "stream",
       "stream": "stdout",
       "text": [
        "\n",
        "agreeing local minima of -45.0976 at:\n",
        "[a,b] = [-0.3471, -0.7735]"
       ]
      },
      {
       "output_type": "stream",
       "stream": "stdout",
       "text": [
        "\n",
        " \n",
        "Cutout 11\n",
        "first local minima of -46.8638 at:\n",
        "[a,b] = [0.2812, -0.3055]"
       ]
      },
      {
       "output_type": "stream",
       "stream": "stdout",
       "text": [
        "\n",
        "agreeing local minima of -46.8638 at:\n",
        "[a,b] = [0.2812, -0.3055]"
       ]
      },
      {
       "output_type": "stream",
       "stream": "stdout",
       "text": [
        "\n",
        "agreeing local minima of -46.8638 at:\n",
        "[a,b] = [0.2812, -0.3055]"
       ]
      },
      {
       "output_type": "stream",
       "stream": "stdout",
       "text": [
        "\n",
        "agreeing local minima of -46.8638 at:\n",
        "[a,b] = [0.2812, -0.3055]"
       ]
      },
      {
       "output_type": "stream",
       "stream": "stdout",
       "text": [
        "\n",
        "agreeing local minima of -46.8638 at:\n",
        "[a,b] = [0.2812, -0.3055]"
       ]
      },
      {
       "output_type": "stream",
       "stream": "stdout",
       "text": [
        "\n",
        " \n",
        "Cutout 12\n",
        "first local minima of -47.7511 at:\n",
        "[a,b] = [-0.0938, 0.4374]"
       ]
      },
      {
       "output_type": "stream",
       "stream": "stdout",
       "text": [
        "\n",
        "agreeing local minima of -47.7511 at:\n",
        "[a,b] = [-0.0938, 0.4374]"
       ]
      },
      {
       "output_type": "stream",
       "stream": "stdout",
       "text": [
        "\n",
        "agreeing local minima of -47.7511 at:\n",
        "[a,b] = [-0.0938, 0.4374]"
       ]
      },
      {
       "output_type": "stream",
       "stream": "stdout",
       "text": [
        "\n",
        "agreeing local minima of -47.7511 at:\n",
        "[a,b] = [-0.0938, 0.4374]"
       ]
      },
      {
       "output_type": "stream",
       "stream": "stdout",
       "text": [
        "\n",
        "agreeing local minima of -47.7511 at:\n",
        "[a,b] = [-0.0938, 0.4374]"
       ]
      },
      {
       "output_type": "stream",
       "stream": "stdout",
       "text": [
        "\n",
        " \n",
        "Cutout 13\n",
        "first local minima of -47.6700 at:\n",
        "[a,b] = [-1.1288, 0.4995]"
       ]
      },
      {
       "output_type": "stream",
       "stream": "stdout",
       "text": [
        "\n",
        "agreeing local minima of -47.6700 at:\n",
        "[a,b] = [-1.1288, 0.4995]"
       ]
      },
      {
       "output_type": "stream",
       "stream": "stdout",
       "text": [
        "\n",
        "agreeing local minima of -47.6700 at:\n",
        "[a,b] = [-1.1288, 0.4996]"
       ]
      },
      {
       "output_type": "stream",
       "stream": "stdout",
       "text": [
        "\n",
        "agreeing local minima of -47.6700 at:\n",
        "[a,b] = [-1.1288, 0.4996]"
       ]
      },
      {
       "output_type": "stream",
       "stream": "stdout",
       "text": [
        "\n",
        "agreeing local minima of -47.6700 at:\n",
        "[a,b] = [-1.1288, 0.4995]"
       ]
      },
      {
       "output_type": "stream",
       "stream": "stdout",
       "text": [
        "\n",
        " \n",
        "Cutout 14\n",
        "first local minima of -33.2423 at:\n",
        "[a,b] = [0.2167, -0.4677]"
       ]
      },
      {
       "output_type": "stream",
       "stream": "stdout",
       "text": [
        "\n",
        "agreeing local minima of -33.2423 at:\n",
        "[a,b] = [0.2167, -0.4677]"
       ]
      },
      {
       "output_type": "stream",
       "stream": "stdout",
       "text": [
        "\n",
        "agreeing local minima of -33.2423 at:\n",
        "[a,b] = [0.2167, -0.4677]"
       ]
      },
      {
       "output_type": "stream",
       "stream": "stdout",
       "text": [
        "\n",
        "agreeing local minima of -33.2423 at:\n",
        "[a,b] = [0.2167, -0.4677]"
       ]
      },
      {
       "output_type": "stream",
       "stream": "stdout",
       "text": [
        "\n",
        "agreeing local minima of -33.2423 at:\n",
        "[a,b] = [0.2167, -0.4677]"
       ]
      },
      {
       "output_type": "stream",
       "stream": "stdout",
       "text": [
        "\n",
        " \n",
        "Cutout 15\n",
        "first local minima of -48.0613 at:\n",
        "[a,b] = [-0.5018, 0.3500]"
       ]
      },
      {
       "output_type": "stream",
       "stream": "stdout",
       "text": [
        "\n",
        "rejected local minima of -48.0601 at:\n",
        "[a,b] = [0.1879, 0.3668]"
       ]
      },
      {
       "output_type": "stream",
       "stream": "stdout",
       "text": [
        "\n",
        "new local minima of -48.0630 at:\n",
        "[a,b] = [0.9511, -0.1413]"
       ]
      },
      {
       "output_type": "stream",
       "stream": "stdout",
       "text": [
        "\n",
        "rejected local minima of -48.0601 at:\n",
        "[a,b] = [-0.4552, -0.4048]"
       ]
      },
      {
       "output_type": "stream",
       "stream": "stdout",
       "text": [
        "\n",
        "rejected local minima of -48.0613 at:\n",
        "[a,b] = [-0.5002, 0.3501]"
       ]
      },
      {
       "output_type": "stream",
       "stream": "stdout",
       "text": [
        "\n",
        "agreeing local minima of -48.0630 at:\n",
        "[a,b] = [0.9512, -0.1410]"
       ]
      },
      {
       "output_type": "stream",
       "stream": "stdout",
       "text": [
        "\n",
        "rejected local minima of -48.0601 at:\n",
        "[a,b] = [0.1892, 0.3668]"
       ]
      },
      {
       "output_type": "stream",
       "stream": "stdout",
       "text": [
        "\n",
        "rejected local minima of -48.0627 at:\n",
        "[a,b] = [1.0791, 0.3565]"
       ]
      },
      {
       "output_type": "stream",
       "stream": "stdout",
       "text": [
        "\n",
        "agreeing local minima of -48.0630 at:\n",
        "[a,b] = [0.9511, -0.1413]"
       ]
      },
      {
       "output_type": "stream",
       "stream": "stdout",
       "text": [
        "\n",
        "rejected local minima of -48.0613 at:\n",
        "[a,b] = [-0.5000, 0.3501]"
       ]
      },
      {
       "output_type": "stream",
       "stream": "stdout",
       "text": [
        "\n",
        "new local minima of -48.0635 at:\n",
        "[a,b] = [-1.0573, -0.3852]"
       ]
      },
      {
       "output_type": "stream",
       "stream": "stdout",
       "text": [
        "\n",
        "rejected local minima of -48.0601 at:\n",
        "[a,b] = [-0.6251, -0.4077]"
       ]
      },
      {
       "output_type": "stream",
       "stream": "stdout",
       "text": [
        "\n",
        "rejected local minima of -48.0613 at:\n",
        "[a,b] = [-0.5002, 0.3500]"
       ]
      },
      {
       "output_type": "stream",
       "stream": "stdout",
       "text": [
        "\n",
        "rejected local minima of -48.0601 at:\n",
        "[a,b] = [0.1877, 0.3668]"
       ]
      },
      {
       "output_type": "stream",
       "stream": "stdout",
       "text": [
        "\n",
        "rejected local minima of -48.0613 at:\n",
        "[a,b] = [-0.4999, 0.3501]"
       ]
      },
      {
       "output_type": "stream",
       "stream": "stdout",
       "text": [
        "\n",
        "rejected local minima of -48.0630 at:\n",
        "[a,b] = [0.9506, -0.1416]"
       ]
      },
      {
       "output_type": "stream",
       "stream": "stdout",
       "text": [
        "\n",
        "rejected local minima of -48.0630 at:\n",
        "[a,b] = [0.9512, -0.1410]"
       ]
      },
      {
       "output_type": "stream",
       "stream": "stdout",
       "text": [
        "\n",
        "rejected local minima of -48.0630 at:\n",
        "[a,b] = [0.9511, -0.1412]"
       ]
      },
      {
       "output_type": "stream",
       "stream": "stdout",
       "text": [
        "\n",
        "rejected local minima of -48.0613 at:\n",
        "[a,b] = [-0.5001, 0.3501]"
       ]
      },
      {
       "output_type": "stream",
       "stream": "stdout",
       "text": [
        "\n",
        "rejected local minima of -48.0601 at:\n",
        "[a,b] = [0.1916, 0.3665]"
       ]
      },
      {
       "output_type": "stream",
       "stream": "stdout",
       "text": [
        "\n",
        "rejected local minima of -48.0630 at:\n",
        "[a,b] = [0.9511, -0.1413]"
       ]
      },
      {
       "output_type": "stream",
       "stream": "stdout",
       "text": [
        "\n",
        "rejected local minima of -48.0601 at:\n",
        "[a,b] = [0.1874, 0.3668]"
       ]
      },
      {
       "output_type": "stream",
       "stream": "stdout",
       "text": [
        "\n",
        "rejected local minima of -48.0630 at:\n",
        "[a,b] = [0.9517, -0.1409]"
       ]
      },
      {
       "output_type": "stream",
       "stream": "stdout",
       "text": [
        "\n",
        "rejected local minima of -48.0627 at:\n",
        "[a,b] = [1.0792, 0.3565]"
       ]
      },
      {
       "output_type": "stream",
       "stream": "stdout",
       "text": [
        "\n",
        "rejected local minima of -48.0601 at:\n",
        "[a,b] = [0.1724, 0.3667]"
       ]
      },
      {
       "output_type": "stream",
       "stream": "stdout",
       "text": [
        "\n",
        "rejected local minima of -48.0601 at:\n",
        "[a,b] = [0.1900, 0.3667]"
       ]
      },
      {
       "output_type": "stream",
       "stream": "stdout",
       "text": [
        "\n",
        "rejected local minima of -48.0630 at:\n",
        "[a,b] = [0.9509, -0.1414]"
       ]
      },
      {
       "output_type": "stream",
       "stream": "stdout",
       "text": [
        "\n",
        "rejected local minima of -48.0601 at:\n",
        "[a,b] = [-0.0744, -0.3875]"
       ]
      },
      {
       "output_type": "stream",
       "stream": "stdout",
       "text": [
        "\n",
        "rejected local minima of -48.0613 at:\n",
        "[a,b] = [-0.5005, 0.3501]"
       ]
      },
      {
       "output_type": "stream",
       "stream": "stdout",
       "text": [
        "\n",
        "rejected local minima of -48.0601 at:\n",
        "[a,b] = [-0.3614, -0.4046]"
       ]
      },
      {
       "output_type": "stream",
       "stream": "stdout",
       "text": [
        "\n",
        "agreeing local minima of -48.0635 at:\n",
        "[a,b] = [-1.0575, -0.3850]"
       ]
      },
      {
       "output_type": "stream",
       "stream": "stdout",
       "text": [
        "\n",
        "agreeing local minima of -48.0635 at:\n",
        "[a,b] = [-1.0572, -0.3850]"
       ]
      },
      {
       "output_type": "stream",
       "stream": "stdout",
       "text": [
        "\n",
        "rejected local minima of -48.0601 at:\n",
        "[a,b] = [0.1885, 0.3668]"
       ]
      },
      {
       "output_type": "stream",
       "stream": "stdout",
       "text": [
        "\n",
        "rejected local minima of -48.0601 at:\n",
        "[a,b] = [0.1900, 0.3668]"
       ]
      },
      {
       "output_type": "stream",
       "stream": "stdout",
       "text": [
        "\n",
        "agreeing local minima of -48.0635 at:\n",
        "[a,b] = [-1.0576, -0.3850]"
       ]
      },
      {
       "output_type": "stream",
       "stream": "stdout",
       "text": [
        "\n",
        "rejected local minima of -48.0630 at:\n",
        "[a,b] = [0.9511, -0.1413]"
       ]
      },
      {
       "output_type": "stream",
       "stream": "stdout",
       "text": [
        "\n",
        "rejected local minima of -48.0583 at:\n",
        "[a,b] = [0.0255, -0.1000]"
       ]
      },
      {
       "output_type": "stream",
       "stream": "stdout",
       "text": [
        "\n",
        "rejected local minima of -48.0627 at:\n",
        "[a,b] = [1.0792, 0.3563]"
       ]
      },
      {
       "output_type": "stream",
       "stream": "stdout",
       "text": [
        "\n",
        "rejected local minima of -48.0601 at:\n",
        "[a,b] = [-0.6254, -0.4076]"
       ]
      },
      {
       "output_type": "stream",
       "stream": "stdout",
       "text": [
        "\n",
        "rejected local minima of -48.0627 at:\n",
        "[a,b] = [1.0793, 0.3564]"
       ]
      },
      {
       "output_type": "stream",
       "stream": "stdout",
       "text": [
        "\n",
        "rejected local minima of -48.0630 at:\n",
        "[a,b] = [0.9511, -0.1412]"
       ]
      },
      {
       "output_type": "stream",
       "stream": "stdout",
       "text": [
        "\n",
        "rejected local minima of -48.0613 at:\n",
        "[a,b] = [-0.5000, 0.3501]"
       ]
      },
      {
       "output_type": "stream",
       "stream": "stdout",
       "text": [
        "\n",
        "agreeing local minima of -48.0635 at:\n",
        "[a,b] = [-1.0574, -0.3850]"
       ]
      },
      {
       "output_type": "stream",
       "stream": "stdout",
       "text": [
        "\n",
        " \n",
        "Cutout 16\n",
        "first local minima of -46.2882 at:\n",
        "[a,b] = [0.0047, -0.6724]"
       ]
      },
      {
       "output_type": "stream",
       "stream": "stdout",
       "text": [
        "\n",
        "agreeing local minima of -46.2882 at:\n",
        "[a,b] = [0.0047, -0.6724]"
       ]
      },
      {
       "output_type": "stream",
       "stream": "stdout",
       "text": [
        "\n",
        "agreeing local minima of -46.2882 at:\n",
        "[a,b] = [0.0047, -0.6724]"
       ]
      },
      {
       "output_type": "stream",
       "stream": "stdout",
       "text": [
        "\n",
        "agreeing local minima of -46.2882 at:\n",
        "[a,b] = [0.0047, -0.6724]"
       ]
      },
      {
       "output_type": "stream",
       "stream": "stdout",
       "text": [
        "\n",
        "agreeing local minima of -46.2882 at:\n",
        "[a,b] = [0.0047, -0.6724]"
       ]
      },
      {
       "output_type": "stream",
       "stream": "stdout",
       "text": [
        "\n",
        " \n",
        "Cutout 17\n",
        "first local minima of -47.9768 at:\n",
        "[a,b] = [0.8755, -0.2539]"
       ]
      },
      {
       "output_type": "stream",
       "stream": "stdout",
       "text": [
        "\n",
        "agreeing local minima of -47.9768 at:\n",
        "[a,b] = [0.8755, -0.2539]"
       ]
      },
      {
       "output_type": "stream",
       "stream": "stdout",
       "text": [
        "\n",
        "agreeing local minima of -47.9768 at:\n",
        "[a,b] = [0.8757, -0.2538]"
       ]
      },
      {
       "output_type": "stream",
       "stream": "stdout",
       "text": [
        "\n",
        "agreeing local minima of -47.9768 at:\n",
        "[a,b] = [0.8755, -0.2539]"
       ]
      },
      {
       "output_type": "stream",
       "stream": "stdout",
       "text": [
        "\n",
        "agreeing local minima of -47.9768 at:\n",
        "[a,b] = [0.8755, -0.2539]"
       ]
      },
      {
       "output_type": "stream",
       "stream": "stdout",
       "text": [
        "\n",
        " \n",
        "Cutout 18\n",
        "first local minima of -47.8201 at:\n",
        "[a,b] = [-0.0826, -0.4558]"
       ]
      },
      {
       "output_type": "stream",
       "stream": "stdout",
       "text": [
        "\n",
        "agreeing local minima of -47.8201 at:\n",
        "[a,b] = [-0.0826, -0.4558]"
       ]
      },
      {
       "output_type": "stream",
       "stream": "stdout",
       "text": [
        "\n",
        "agreeing local minima of -47.8201 at:\n",
        "[a,b] = [-0.0826, -0.4558]"
       ]
      },
      {
       "output_type": "stream",
       "stream": "stdout",
       "text": [
        "\n",
        "agreeing local minima of -47.8201 at:\n",
        "[a,b] = [-0.0826, -0.4558]"
       ]
      },
      {
       "output_type": "stream",
       "stream": "stdout",
       "text": [
        "\n",
        "agreeing local minima of -47.8201 at:\n",
        "[a,b] = [-0.0826, -0.4558]"
       ]
      },
      {
       "output_type": "stream",
       "stream": "stdout",
       "text": [
        "\n",
        " \n",
        "Cutout 19\n",
        "first local minima of -44.8762 at:\n",
        "[a,b] = [0.4958, 0.2839]"
       ]
      },
      {
       "output_type": "stream",
       "stream": "stdout",
       "text": [
        "\n",
        "agreeing local minima of -44.8762 at:\n",
        "[a,b] = [0.4958, 0.2839]"
       ]
      },
      {
       "output_type": "stream",
       "stream": "stdout",
       "text": [
        "\n",
        "agreeing local minima of -44.8762 at:\n",
        "[a,b] = [0.4958, 0.2839]"
       ]
      },
      {
       "output_type": "stream",
       "stream": "stdout",
       "text": [
        "\n",
        "agreeing local minima of -44.8762 at:\n",
        "[a,b] = [0.4958, 0.2839]"
       ]
      },
      {
       "output_type": "stream",
       "stream": "stdout",
       "text": [
        "\n",
        "agreeing local minima of -44.8762 at:\n",
        "[a,b] = [0.4958, 0.2839]"
       ]
      },
      {
       "output_type": "stream",
       "stream": "stdout",
       "text": [
        "\n",
        " \n",
        "Cutout 20\n",
        "first local minima of -31.6379 at:\n",
        "[a,b] = [-0.1937, -0.3417]"
       ]
      },
      {
       "output_type": "stream",
       "stream": "stdout",
       "text": [
        "\n",
        "agreeing local minima of -31.6379 at:\n",
        "[a,b] = [-0.1937, -0.3417]"
       ]
      },
      {
       "output_type": "stream",
       "stream": "stdout",
       "text": [
        "\n",
        "agreeing local minima of -31.6379 at:\n",
        "[a,b] = [-0.1937, -0.3417]"
       ]
      },
      {
       "output_type": "stream",
       "stream": "stdout",
       "text": [
        "\n",
        "agreeing local minima of -31.6379 at:\n",
        "[a,b] = [-0.1937, -0.3417]"
       ]
      },
      {
       "output_type": "stream",
       "stream": "stdout",
       "text": [
        "\n",
        "agreeing local minima of -31.6379 at:\n",
        "[a,b] = [-0.1938, -0.3417]"
       ]
      },
      {
       "output_type": "stream",
       "stream": "stdout",
       "text": [
        "\n",
        " \n",
        "Cutout 21\n",
        "first local minima of -47.9064 at:\n",
        "[a,b] = [-0.4389, 0.3471]"
       ]
      },
      {
       "output_type": "stream",
       "stream": "stdout",
       "text": [
        "\n",
        "agreeing local minima of -47.9064 at:\n",
        "[a,b] = [-0.4390, 0.3471]"
       ]
      },
      {
       "output_type": "stream",
       "stream": "stdout",
       "text": [
        "\n",
        "agreeing local minima of -47.9064 at:\n",
        "[a,b] = [-0.4389, 0.3471]"
       ]
      },
      {
       "output_type": "stream",
       "stream": "stdout",
       "text": [
        "\n",
        "agreeing local minima of -47.9064 at:\n",
        "[a,b] = [-0.4389, 0.3471]"
       ]
      },
      {
       "output_type": "stream",
       "stream": "stdout",
       "text": [
        "\n",
        "agreeing local minima of -47.9064 at:\n",
        "[a,b] = [-0.4389, 0.3471]"
       ]
      },
      {
       "output_type": "stream",
       "stream": "stdout",
       "text": [
        "\n",
        " \n",
        "Cutout 22\n",
        "first local minima of -43.1578 at:\n",
        "[a,b] = [-0.8273, -0.3653]"
       ]
      },
      {
       "output_type": "stream",
       "stream": "stdout",
       "text": [
        "\n",
        "agreeing local minima of -43.1578 at:\n",
        "[a,b] = [-0.8273, -0.3653]"
       ]
      },
      {
       "output_type": "stream",
       "stream": "stdout",
       "text": [
        "\n",
        "agreeing local minima of -43.1578 at:\n",
        "[a,b] = [-0.8273, -0.3653]"
       ]
      },
      {
       "output_type": "stream",
       "stream": "stdout",
       "text": [
        "\n",
        "agreeing local minima of -43.1578 at:\n",
        "[a,b] = [-0.8273, -0.3653]"
       ]
      },
      {
       "output_type": "stream",
       "stream": "stdout",
       "text": [
        "\n",
        "agreeing local minima of -43.1578 at:\n",
        "[a,b] = [-0.8273, -0.3653]"
       ]
      },
      {
       "output_type": "stream",
       "stream": "stdout",
       "text": [
        "\n",
        " \n",
        "Cutout 23\n",
        "first local minima of -47.7605 at:\n",
        "[a,b] = [-0.1643, 0.0495]"
       ]
      },
      {
       "output_type": "stream",
       "stream": "stdout",
       "text": [
        "\n",
        "agreeing local minima of -47.7605 at:\n",
        "[a,b] = [-0.1643, 0.0495]"
       ]
      },
      {
       "output_type": "stream",
       "stream": "stdout",
       "text": [
        "\n",
        "agreeing local minima of -47.7605 at:\n",
        "[a,b] = [-0.1643, 0.0495]"
       ]
      },
      {
       "output_type": "stream",
       "stream": "stdout",
       "text": [
        "\n",
        "agreeing local minima of -47.7605 at:\n",
        "[a,b] = [-0.1643, 0.0495]"
       ]
      },
      {
       "output_type": "stream",
       "stream": "stdout",
       "text": [
        "\n",
        "agreeing local minima of -47.7605 at:\n",
        "[a,b] = [-0.1643, 0.0495]"
       ]
      },
      {
       "output_type": "stream",
       "stream": "stdout",
       "text": [
        "\n",
        " \n",
        "Cutout 24\n",
        "first local minima of -48.0591 at:\n",
        "[a,b] = [-0.0890, 0.9014]"
       ]
      },
      {
       "output_type": "stream",
       "stream": "stdout",
       "text": [
        "\n",
        "agreeing local minima of -48.0591 at:\n",
        "[a,b] = [-0.0890, 0.9014]"
       ]
      },
      {
       "output_type": "stream",
       "stream": "stdout",
       "text": [
        "\n",
        "agreeing local minima of -48.0591 at:\n",
        "[a,b] = [-0.0890, 0.9015]"
       ]
      },
      {
       "output_type": "stream",
       "stream": "stdout",
       "text": [
        "\n",
        "agreeing local minima of -48.0591 at:\n",
        "[a,b] = [-0.0890, 0.9010]"
       ]
      },
      {
       "output_type": "stream",
       "stream": "stdout",
       "text": [
        "\n",
        "rejected local minima of -48.0576 at:\n",
        "[a,b] = [-0.1492, -0.9866]"
       ]
      },
      {
       "output_type": "stream",
       "stream": "stdout",
       "text": [
        "\n",
        "rejected local minima of -48.0574 at:\n",
        "[a,b] = [0.3737, -0.9220]"
       ]
      },
      {
       "output_type": "stream",
       "stream": "stdout",
       "text": [
        "\n",
        "rejected local minima of -48.0576 at:\n",
        "[a,b] = [-0.1492, -0.9865]"
       ]
      },
      {
       "output_type": "stream",
       "stream": "stdout",
       "text": [
        "\n",
        "rejected local minima of -48.0574 at:\n",
        "[a,b] = [0.3738, -0.9220]"
       ]
      },
      {
       "output_type": "stream",
       "stream": "stdout",
       "text": [
        "\n",
        "rejected local minima of -48.0574 at:\n",
        "[a,b] = [0.3738, -0.9220]"
       ]
      },
      {
       "output_type": "stream",
       "stream": "stdout",
       "text": [
        "\n",
        "rejected local minima of -48.0574 at:\n",
        "[a,b] = [0.3737, -0.9220]"
       ]
      },
      {
       "output_type": "stream",
       "stream": "stdout",
       "text": [
        "\n",
        "rejected local minima of -48.0574 at:\n",
        "[a,b] = [0.3738, -0.9220]"
       ]
      },
      {
       "output_type": "stream",
       "stream": "stdout",
       "text": [
        "\n",
        "rejected local minima of -48.0576 at:\n",
        "[a,b] = [-0.1491, -0.9865]"
       ]
      },
      {
       "output_type": "stream",
       "stream": "stdout",
       "text": [
        "\n",
        "agreeing local minima of -48.0591 at:\n",
        "[a,b] = [-0.0890, 0.9015]"
       ]
      },
      {
       "output_type": "stream",
       "stream": "stdout",
       "text": [
        "\n",
        " \n",
        "Cutout 25\n",
        "first local minima of -47.9956 at:\n",
        "[a,b] = [-0.3471, 0.2029]"
       ]
      },
      {
       "output_type": "stream",
       "stream": "stdout",
       "text": [
        "\n",
        "agreeing local minima of -47.9956 at:\n",
        "[a,b] = [-0.3440, 0.2017]"
       ]
      },
      {
       "output_type": "stream",
       "stream": "stdout",
       "text": [
        "\n",
        "agreeing local minima of -47.9956 at:\n",
        "[a,b] = [-0.3460, 0.2024]"
       ]
      },
      {
       "output_type": "stream",
       "stream": "stdout",
       "text": [
        "\n",
        "agreeing local minima of -47.9956 at:\n",
        "[a,b] = [-0.3474, 0.2032]"
       ]
      },
      {
       "output_type": "stream",
       "stream": "stdout",
       "text": [
        "\n",
        "agreeing local minima of -47.9956 at:\n",
        "[a,b] = [-0.3448, 0.2020]"
       ]
      },
      {
       "output_type": "stream",
       "stream": "stdout",
       "text": [
        "\n",
        " \n",
        "Cutout 26\n",
        "first local minima of -47.9768 at:\n",
        "[a,b] = [0.8755, -0.2538]"
       ]
      },
      {
       "output_type": "stream",
       "stream": "stdout",
       "text": [
        "\n",
        "agreeing local minima of -47.9768 at:\n",
        "[a,b] = [0.8756, -0.2538]"
       ]
      },
      {
       "output_type": "stream",
       "stream": "stdout",
       "text": [
        "\n",
        "agreeing local minima of -47.9768 at:\n",
        "[a,b] = [0.8756, -0.2538]"
       ]
      },
      {
       "output_type": "stream",
       "stream": "stdout",
       "text": [
        "\n",
        "agreeing local minima of -47.9768 at:\n",
        "[a,b] = [0.8755, -0.2538]"
       ]
      },
      {
       "output_type": "stream",
       "stream": "stdout",
       "text": [
        "\n",
        "agreeing local minima of -47.9768 at:\n",
        "[a,b] = [0.8755, -0.2539]"
       ]
      },
      {
       "output_type": "stream",
       "stream": "stdout",
       "text": [
        "\n",
        " \n",
        "Cutout 27\n",
        "first local minima of -48.0070 at:\n",
        "[a,b] = [0.1435, -0.2565]"
       ]
      },
      {
       "output_type": "stream",
       "stream": "stdout",
       "text": [
        "\n",
        "agreeing local minima of -48.0070 at:\n",
        "[a,b] = [0.1434, -0.2565]"
       ]
      },
      {
       "output_type": "stream",
       "stream": "stdout",
       "text": [
        "\n",
        "agreeing local minima of -48.0070 at:\n",
        "[a,b] = [0.1435, -0.2565]"
       ]
      },
      {
       "output_type": "stream",
       "stream": "stdout",
       "text": [
        "\n",
        "agreeing local minima of -48.0070 at:\n",
        "[a,b] = [0.1436, -0.2562]"
       ]
      },
      {
       "output_type": "stream",
       "stream": "stdout",
       "text": [
        "\n",
        "agreeing local minima of -48.0070 at:\n",
        "[a,b] = [0.1436, -0.2566]"
       ]
      },
      {
       "output_type": "stream",
       "stream": "stdout",
       "text": [
        "\n",
        " \n",
        "Cutout 28\n",
        "first local minima of -47.6208 at:\n",
        "[a,b] = [0.0525, 0.2107]"
       ]
      },
      {
       "output_type": "stream",
       "stream": "stdout",
       "text": [
        "\n",
        "agreeing local minima of -47.6208 at:\n",
        "[a,b] = [0.0525, 0.2107]"
       ]
      },
      {
       "output_type": "stream",
       "stream": "stdout",
       "text": [
        "\n",
        "agreeing local minima of -47.6208 at:\n",
        "[a,b] = [0.0526, 0.2107]"
       ]
      },
      {
       "output_type": "stream",
       "stream": "stdout",
       "text": [
        "\n",
        "agreeing local minima of -47.6208 at:\n",
        "[a,b] = [0.0525, 0.2107]"
       ]
      },
      {
       "output_type": "stream",
       "stream": "stdout",
       "text": [
        "\n",
        "agreeing local minima of -47.6208 at:\n",
        "[a,b] = [0.0525, 0.2107]"
       ]
      },
      {
       "output_type": "stream",
       "stream": "stdout",
       "text": [
        "\n",
        " \n",
        "Cutout 29\n",
        "first local minima of -47.9064 at:\n",
        "[a,b] = [-0.4389, 0.3471]"
       ]
      },
      {
       "output_type": "stream",
       "stream": "stdout",
       "text": [
        "\n",
        "agreeing local minima of -47.9064 at:\n",
        "[a,b] = [-0.4389, 0.3471]"
       ]
      },
      {
       "output_type": "stream",
       "stream": "stdout",
       "text": [
        "\n",
        "agreeing local minima of -47.9064 at:\n",
        "[a,b] = [-0.4389, 0.3471]"
       ]
      },
      {
       "output_type": "stream",
       "stream": "stdout",
       "text": [
        "\n",
        "agreeing local minima of -47.9064 at:\n",
        "[a,b] = [-0.4389, 0.3470]"
       ]
      },
      {
       "output_type": "stream",
       "stream": "stdout",
       "text": [
        "\n",
        "agreeing local minima of -47.9064 at:\n",
        "[a,b] = [-0.4390, 0.3471]"
       ]
      },
      {
       "output_type": "stream",
       "stream": "stdout",
       "text": [
        "\n",
        " \n",
        "Cutout 30\n",
        "first local minima of -48.1905 at:\n",
        "[a,b] = [1.0605, -0.7967]"
       ]
      },
      {
       "output_type": "stream",
       "stream": "stdout",
       "text": [
        "\n",
        "new local minima of -48.1909 at:\n",
        "[a,b] = [0.3089, -2.6896]"
       ]
      },
      {
       "output_type": "stream",
       "stream": "stdout",
       "text": [
        "\n",
        "rejected local minima of -48.1905 at:\n",
        "[a,b] = [1.0605, -0.7961]"
       ]
      },
      {
       "output_type": "stream",
       "stream": "stdout",
       "text": [
        "\n",
        "rejected local minima of -48.1905 at:\n",
        "[a,b] = [1.0605, -0.7961]"
       ]
      },
      {
       "output_type": "stream",
       "stream": "stdout",
       "text": [
        "\n",
        "rejected local minima of -48.1905 at:\n",
        "[a,b] = [1.0605, -0.7945]"
       ]
      },
      {
       "output_type": "stream",
       "stream": "stdout",
       "text": [
        "\n",
        "rejected local minima of -48.1905 at:\n",
        "[a,b] = [1.0604, -0.7949]"
       ]
      },
      {
       "output_type": "stream",
       "stream": "stdout",
       "text": [
        "\n",
        "rejected local minima of -48.1905 at:\n",
        "[a,b] = [1.0605, -0.7960]"
       ]
      },
      {
       "output_type": "stream",
       "stream": "stdout",
       "text": [
        "\n",
        "rejected local minima of -48.1905 at:\n",
        "[a,b] = [1.0603, -0.7975]"
       ]
      },
      {
       "output_type": "stream",
       "stream": "stdout",
       "text": [
        "\n",
        "rejected local minima of -48.1905 at:\n",
        "[a,b] = [1.0604, -0.7953]"
       ]
      },
      {
       "output_type": "stream",
       "stream": "stdout",
       "text": [
        "\n",
        "rejected local minima of -48.1905 at:\n",
        "[a,b] = [1.0604, -0.7957]"
       ]
      },
      {
       "output_type": "stream",
       "stream": "stdout",
       "text": [
        "\n",
        "rejected local minima of -48.1905 at:\n",
        "[a,b] = [1.0605, -0.7950]"
       ]
      },
      {
       "output_type": "stream",
       "stream": "stdout",
       "text": [
        "\n",
        "rejected local minima of -48.1905 at:\n",
        "[a,b] = [1.0604, -0.7950]"
       ]
      },
      {
       "output_type": "stream",
       "stream": "stdout",
       "text": [
        "\n",
        "rejected local minima of -48.1905 at:\n",
        "[a,b] = [1.0605, -0.7970]"
       ]
      },
      {
       "output_type": "stream",
       "stream": "stdout",
       "text": [
        "\n",
        "rejected local minima of -48.1905 at:\n",
        "[a,b] = [1.0604, -0.7955]"
       ]
      },
      {
       "output_type": "stream",
       "stream": "stdout",
       "text": [
        "\n",
        "agreeing local minima of -48.1909 at:\n",
        "[a,b] = [0.3105, -2.6893]"
       ]
      },
      {
       "output_type": "stream",
       "stream": "stdout",
       "text": [
        "\n",
        "agreeing local minima of -48.1909 at:\n",
        "[a,b] = [0.3089, -2.6896]"
       ]
      },
      {
       "output_type": "stream",
       "stream": "stdout",
       "text": [
        "\n",
        "agreeing local minima of -48.1909 at:\n",
        "[a,b] = [0.3089, -2.6897]"
       ]
      },
      {
       "output_type": "stream",
       "stream": "stdout",
       "text": [
        "\n",
        "new local minima of -48.1911 at:\n",
        "[a,b] = [0.7737, -2.7629]"
       ]
      },
      {
       "output_type": "stream",
       "stream": "stdout",
       "text": [
        "\n",
        "agreeing local minima of -48.1911 at:\n",
        "[a,b] = [0.7743, -2.7630]"
       ]
      },
      {
       "output_type": "stream",
       "stream": "stdout",
       "text": [
        "\n",
        "rejected local minima of -48.1909 at:\n",
        "[a,b] = [0.3090, -2.6896]"
       ]
      },
      {
       "output_type": "stream",
       "stream": "stdout",
       "text": [
        "\n",
        "rejected local minima of -48.1909 at:\n",
        "[a,b] = [0.3088, -2.6896]"
       ]
      },
      {
       "output_type": "stream",
       "stream": "stdout",
       "text": [
        "\n",
        "rejected local minima of -48.1909 at:\n",
        "[a,b] = [0.3087, -2.6895]"
       ]
      },
      {
       "output_type": "stream",
       "stream": "stdout",
       "text": [
        "\n",
        "rejected local minima of -48.1905 at:\n",
        "[a,b] = [1.0604, -0.7953]"
       ]
      },
      {
       "output_type": "stream",
       "stream": "stdout",
       "text": [
        "\n",
        "rejected local minima of -48.1905 at:\n",
        "[a,b] = [1.0604, -0.7954]"
       ]
      },
      {
       "output_type": "stream",
       "stream": "stdout",
       "text": [
        "\n",
        "rejected local minima of -48.1905 at:\n",
        "[a,b] = [1.0605, -0.7959]"
       ]
      },
      {
       "output_type": "stream",
       "stream": "stdout",
       "text": [
        "\n",
        "rejected local minima of -48.1905 at:\n",
        "[a,b] = [1.0605, -0.7957]"
       ]
      },
      {
       "output_type": "stream",
       "stream": "stdout",
       "text": [
        "\n",
        "rejected local minima of -48.1905 at:\n",
        "[a,b] = [1.0605, -0.7922]"
       ]
      },
      {
       "output_type": "stream",
       "stream": "stdout",
       "text": [
        "\n",
        "rejected local minima of -48.1905 at:\n",
        "[a,b] = [1.0604, -0.7954]"
       ]
      },
      {
       "output_type": "stream",
       "stream": "stdout",
       "text": [
        "\n",
        "rejected local minima of -48.1889 at:\n",
        "[a,b] = [0.9108, -2.2163]"
       ]
      },
      {
       "output_type": "stream",
       "stream": "stdout",
       "text": [
        "\n",
        "rejected local minima of -48.1909 at:\n",
        "[a,b] = [0.3088, -2.6896]"
       ]
      },
      {
       "output_type": "stream",
       "stream": "stdout",
       "text": [
        "\n",
        "rejected local minima of -48.1909 at:\n",
        "[a,b] = [0.3089, -2.6895]"
       ]
      },
      {
       "output_type": "stream",
       "stream": "stdout",
       "text": [
        "\n",
        "rejected local minima of -48.1909 at:\n",
        "[a,b] = [0.3086, -2.6900]"
       ]
      },
      {
       "output_type": "stream",
       "stream": "stdout",
       "text": [
        "\n",
        "rejected local minima of -48.1909 at:\n",
        "[a,b] = [0.3091, -2.6896]"
       ]
      },
      {
       "output_type": "stream",
       "stream": "stdout",
       "text": [
        "\n",
        "agreeing local minima of -48.1911 at:\n",
        "[a,b] = [0.7738, -2.7629]"
       ]
      },
      {
       "output_type": "stream",
       "stream": "stdout",
       "text": [
        "\n",
        "rejected local minima of -48.1909 at:\n",
        "[a,b] = [0.3089, -2.6896]"
       ]
      },
      {
       "output_type": "stream",
       "stream": "stdout",
       "text": [
        "\n",
        "rejected local minima of -48.1905 at:\n",
        "[a,b] = [1.0604, -0.7966]"
       ]
      },
      {
       "output_type": "stream",
       "stream": "stdout",
       "text": [
        "\n",
        "rejected local minima of -48.1909 at:\n",
        "[a,b] = [0.3090, -2.6895]"
       ]
      },
      {
       "output_type": "stream",
       "stream": "stdout",
       "text": [
        "\n",
        "rejected local minima of -48.1905 at:\n",
        "[a,b] = [1.0604, -0.7954]"
       ]
      },
      {
       "output_type": "stream",
       "stream": "stdout",
       "text": [
        "\n",
        "rejected local minima of -48.1909 at:\n",
        "[a,b] = [0.3085, -2.6896]"
       ]
      },
      {
       "output_type": "stream",
       "stream": "stdout",
       "text": [
        "\n",
        "rejected local minima of -48.1905 at:\n",
        "[a,b] = [1.0604, -0.7954]"
       ]
      },
      {
       "output_type": "stream",
       "stream": "stdout",
       "text": [
        "\n",
        "rejected local minima of -48.1905 at:\n",
        "[a,b] = [1.0604, -0.7960]"
       ]
      },
      {
       "output_type": "stream",
       "stream": "stdout",
       "text": [
        "\n",
        "rejected local minima of -48.1905 at:\n",
        "[a,b] = [1.0603, -0.7949]"
       ]
      },
      {
       "output_type": "stream",
       "stream": "stdout",
       "text": [
        "\n",
        "rejected local minima of -48.1905 at:\n",
        "[a,b] = [1.0604, -0.7950]"
       ]
      },
      {
       "output_type": "stream",
       "stream": "stdout",
       "text": [
        "\n",
        "rejected local minima of -48.1905 at:\n",
        "[a,b] = [1.0603, -0.7942]"
       ]
      },
      {
       "output_type": "stream",
       "stream": "stdout",
       "text": [
        "\n",
        "rejected local minima of -48.1892 at:\n",
        "[a,b] = [1.0380, -1.6534]"
       ]
      },
      {
       "output_type": "stream",
       "stream": "stdout",
       "text": [
        "\n",
        "agreeing local minima of -48.1911 at:\n",
        "[a,b] = [0.7737, -2.7629]"
       ]
      },
      {
       "output_type": "stream",
       "stream": "stdout",
       "text": [
        "\n",
        "agreeing local minima of -48.1911 at:\n",
        "[a,b] = [0.7738, -2.7628]"
       ]
      },
      {
       "output_type": "stream",
       "stream": "stdout",
       "text": [
        "\n",
        " \n",
        "Cutout 31\n",
        "first local minima of -47.9736 at:\n",
        "[a,b] = [-0.6341, 0.6956]"
       ]
      },
      {
       "output_type": "stream",
       "stream": "stdout",
       "text": [
        "\n",
        "agreeing local minima of -47.9736 at:\n",
        "[a,b] = [-0.6340, 0.6956]"
       ]
      },
      {
       "output_type": "stream",
       "stream": "stdout",
       "text": [
        "\n",
        "agreeing local minima of -47.9736 at:\n",
        "[a,b] = [-0.6340, 0.6956]"
       ]
      },
      {
       "output_type": "stream",
       "stream": "stdout",
       "text": [
        "\n",
        "agreeing local minima of -47.9736 at:\n",
        "[a,b] = [-0.6340, 0.6956]"
       ]
      },
      {
       "output_type": "stream",
       "stream": "stdout",
       "text": [
        "\n",
        "agreeing local minima of -47.9736 at:\n",
        "[a,b] = [-0.6340, 0.6956]"
       ]
      },
      {
       "output_type": "stream",
       "stream": "stdout",
       "text": [
        "\n",
        " \n",
        "Cutout 32\n",
        "first local minima of -47.9659 at:\n",
        "[a,b] = [0.7804, 0.2204]"
       ]
      },
      {
       "output_type": "stream",
       "stream": "stdout",
       "text": [
        "\n",
        "agreeing local minima of -47.9659 at:\n",
        "[a,b] = [0.7804, 0.2204]"
       ]
      },
      {
       "output_type": "stream",
       "stream": "stdout",
       "text": [
        "\n",
        "agreeing local minima of -47.9659 at:\n",
        "[a,b] = [0.7804, 0.2204]"
       ]
      },
      {
       "output_type": "stream",
       "stream": "stdout",
       "text": [
        "\n",
        "agreeing local minima of -47.9659 at:\n",
        "[a,b] = [0.7804, 0.2204]"
       ]
      },
      {
       "output_type": "stream",
       "stream": "stdout",
       "text": [
        "\n",
        "agreeing local minima of -47.9659 at:\n",
        "[a,b] = [0.7804, 0.2204]"
       ]
      },
      {
       "output_type": "stream",
       "stream": "stdout",
       "text": [
        "\n",
        " \n",
        "Cutout 33\n",
        "first local minima of -42.0905 at:\n",
        "[a,b] = [-0.4711, 0.3436]"
       ]
      },
      {
       "output_type": "stream",
       "stream": "stdout",
       "text": [
        "\n",
        "agreeing local minima of -42.0905 at:\n",
        "[a,b] = [-0.4711, 0.3436]"
       ]
      },
      {
       "output_type": "stream",
       "stream": "stdout",
       "text": [
        "\n",
        "agreeing local minima of -42.0905 at:\n",
        "[a,b] = [-0.4711, 0.3436]"
       ]
      },
      {
       "output_type": "stream",
       "stream": "stdout",
       "text": [
        "\n",
        "agreeing local minima of -42.0905 at:\n",
        "[a,b] = [-0.4711, 0.3436]"
       ]
      },
      {
       "output_type": "stream",
       "stream": "stdout",
       "text": [
        "\n",
        "agreeing local minima of -42.0905 at:\n",
        "[a,b] = [-0.4712, 0.3436]"
       ]
      },
      {
       "output_type": "stream",
       "stream": "stdout",
       "text": [
        "\n",
        " \n",
        "Cutout 34\n",
        "first local minima of -47.1789 at:\n",
        "[a,b] = [0.2751, -0.3892]"
       ]
      },
      {
       "output_type": "stream",
       "stream": "stdout",
       "text": [
        "\n",
        "agreeing local minima of -47.1789 at:\n",
        "[a,b] = [0.2751, -0.3893]"
       ]
      },
      {
       "output_type": "stream",
       "stream": "stdout",
       "text": [
        "\n",
        "agreeing local minima of -47.1789 at:\n",
        "[a,b] = [0.2751, -0.3892]"
       ]
      },
      {
       "output_type": "stream",
       "stream": "stdout",
       "text": [
        "\n",
        "agreeing local minima of -47.1789 at:\n",
        "[a,b] = [0.2751, -0.3893]"
       ]
      },
      {
       "output_type": "stream",
       "stream": "stdout",
       "text": [
        "\n",
        "agreeing local minima of -47.1789 at:\n",
        "[a,b] = [0.2751, -0.3893]"
       ]
      },
      {
       "output_type": "stream",
       "stream": "stdout",
       "text": [
        "\n",
        " \n",
        "Cutout 35\n",
        "first local minima of -43.5852 at:\n",
        "[a,b] = [0.4661, -0.2824]"
       ]
      },
      {
       "output_type": "stream",
       "stream": "stdout",
       "text": [
        "\n",
        "agreeing local minima of -43.5852 at:\n",
        "[a,b] = [0.4661, -0.2824]"
       ]
      },
      {
       "output_type": "stream",
       "stream": "stdout",
       "text": [
        "\n",
        "agreeing local minima of -43.5852 at:\n",
        "[a,b] = [0.4661, -0.2824]"
       ]
      },
      {
       "output_type": "stream",
       "stream": "stdout",
       "text": [
        "\n",
        "agreeing local minima of -43.5852 at:\n",
        "[a,b] = [0.4661, -0.2824]"
       ]
      },
      {
       "output_type": "stream",
       "stream": "stdout",
       "text": [
        "\n",
        "agreeing local minima of -43.5852 at:\n",
        "[a,b] = [0.4661, -0.2824]"
       ]
      },
      {
       "output_type": "stream",
       "stream": "stdout",
       "text": [
        "\n",
        " \n",
        "Cutout 36\n",
        "first local minima of -48.4712 at:\n",
        "[a,b] = [1.1123, -0.0990]"
       ]
      },
      {
       "output_type": "stream",
       "stream": "stdout",
       "text": [
        "\n",
        "agreeing local minima of -48.4712 at:\n",
        "[a,b] = [0.2079, -0.4683]"
       ]
      },
      {
       "output_type": "stream",
       "stream": "stdout",
       "text": [
        "\n",
        "agreeing local minima of -48.4712 at:\n",
        "[a,b] = [1.0686, 0.8905]"
       ]
      },
      {
       "output_type": "stream",
       "stream": "stdout",
       "text": [
        "\n",
        "agreeing local minima of -48.4712 at:\n",
        "[a,b] = [1.1191, -0.2546]"
       ]
      },
      {
       "output_type": "stream",
       "stream": "stdout",
       "text": [
        "\n",
        "agreeing local minima of -48.4712 at:\n",
        "[a,b] = [0.1918, 0.5853]"
       ]
      },
      {
       "output_type": "stream",
       "stream": "stdout",
       "text": [
        "\n",
        " \n",
        "Cutout 37\n",
        "first local minima of -47.9768 at:\n",
        "[a,b] = [0.8755, -0.2539]"
       ]
      },
      {
       "output_type": "stream",
       "stream": "stdout",
       "text": [
        "\n",
        "agreeing local minima of -47.9768 at:\n",
        "[a,b] = [0.8755, -0.2539]"
       ]
      },
      {
       "output_type": "stream",
       "stream": "stdout",
       "text": [
        "\n",
        "agreeing local minima of -47.9768 at:\n",
        "[a,b] = [0.8755, -0.2539]"
       ]
      },
      {
       "output_type": "stream",
       "stream": "stdout",
       "text": [
        "\n",
        "agreeing local minima of -47.9768 at:\n",
        "[a,b] = [0.8755, -0.2539]"
       ]
      },
      {
       "output_type": "stream",
       "stream": "stdout",
       "text": [
        "\n",
        "agreeing local minima of -47.9768 at:\n",
        "[a,b] = [0.8752, -0.2539]"
       ]
      },
      {
       "output_type": "stream",
       "stream": "stdout",
       "text": [
        "\n",
        " \n",
        "Cutout 38\n",
        "first local minima of -35.6919 at:\n",
        "[a,b] = [-0.0172, -0.1601]"
       ]
      },
      {
       "output_type": "stream",
       "stream": "stdout",
       "text": [
        "\n",
        "agreeing local minima of -35.6919 at:\n",
        "[a,b] = [-0.0172, -0.1601]"
       ]
      },
      {
       "output_type": "stream",
       "stream": "stdout",
       "text": [
        "\n",
        "agreeing local minima of -35.6919 at:\n",
        "[a,b] = [-0.0172, -0.1601]"
       ]
      },
      {
       "output_type": "stream",
       "stream": "stdout",
       "text": [
        "\n",
        "agreeing local minima of -35.6919 at:\n",
        "[a,b] = [-0.0172, -0.1601]"
       ]
      },
      {
       "output_type": "stream",
       "stream": "stdout",
       "text": [
        "\n",
        "agreeing local minima of -35.6919 at:\n",
        "[a,b] = [-0.0172, -0.1601]"
       ]
      },
      {
       "output_type": "stream",
       "stream": "stdout",
       "text": [
        "\n",
        " \n",
        "Cutout 39\n",
        "first local minima of -48.0070 at:\n",
        "[a,b] = [0.1438, -0.2566]"
       ]
      },
      {
       "output_type": "stream",
       "stream": "stdout",
       "text": [
        "\n",
        "agreeing local minima of -48.0070 at:\n",
        "[a,b] = [0.1435, -0.2565]"
       ]
      },
      {
       "output_type": "stream",
       "stream": "stdout",
       "text": [
        "\n",
        "agreeing local minima of -48.0070 at:\n",
        "[a,b] = [0.1434, -0.2564]"
       ]
      },
      {
       "output_type": "stream",
       "stream": "stdout",
       "text": [
        "\n",
        "agreeing local minima of -48.0070 at:\n",
        "[a,b] = [0.1436, -0.2566]"
       ]
      },
      {
       "output_type": "stream",
       "stream": "stdout",
       "text": [
        "\n",
        "agreeing local minima of -48.0070 at:\n",
        "[a,b] = [0.1435, -0.2565]"
       ]
      },
      {
       "output_type": "stream",
       "stream": "stdout",
       "text": [
        "\n",
        " \n",
        "Cutout 40\n",
        "first local minima of -47.7511 at:\n",
        "[a,b] = [-0.0938, 0.4374]"
       ]
      },
      {
       "output_type": "stream",
       "stream": "stdout",
       "text": [
        "\n",
        "agreeing local minima of -47.7511 at:\n",
        "[a,b] = [-0.0938, 0.4374]"
       ]
      },
      {
       "output_type": "stream",
       "stream": "stdout",
       "text": [
        "\n",
        "agreeing local minima of -47.7511 at:\n",
        "[a,b] = [-0.0938, 0.4374]"
       ]
      },
      {
       "output_type": "stream",
       "stream": "stdout",
       "text": [
        "\n",
        "agreeing local minima of -47.7511 at:\n",
        "[a,b] = [-0.0938, 0.4374]"
       ]
      },
      {
       "output_type": "stream",
       "stream": "stdout",
       "text": [
        "\n",
        "agreeing local minima of -47.7511 at:\n",
        "[a,b] = [-0.0938, 0.4374]"
       ]
      },
      {
       "output_type": "stream",
       "stream": "stdout",
       "text": [
        "\n",
        " \n",
        "Cutout 41\n",
        "first local minima of -47.2625 at:\n",
        "[a,b] = [0.0245, -0.0465]"
       ]
      },
      {
       "output_type": "stream",
       "stream": "stdout",
       "text": [
        "\n",
        "agreeing local minima of -47.2625 at:\n",
        "[a,b] = [0.0244, -0.0466]"
       ]
      },
      {
       "output_type": "stream",
       "stream": "stdout",
       "text": [
        "\n",
        "agreeing local minima of -47.2625 at:\n",
        "[a,b] = [0.0244, -0.0466]"
       ]
      },
      {
       "output_type": "stream",
       "stream": "stdout",
       "text": [
        "\n",
        "agreeing local minima of -47.2625 at:\n",
        "[a,b] = [0.0244, -0.0466]"
       ]
      },
      {
       "output_type": "stream",
       "stream": "stdout",
       "text": [
        "\n",
        "agreeing local minima of -47.2625 at:\n",
        "[a,b] = [0.0244, -0.0466]"
       ]
      },
      {
       "output_type": "stream",
       "stream": "stdout",
       "text": [
        "\n",
        " \n",
        "Cutout 42\n",
        "first local minima of -48.2342 at:\n",
        "[a,b] = [-1.1724, -0.8581]"
       ]
      },
      {
       "output_type": "stream",
       "stream": "stdout",
       "text": [
        "\n",
        "new local minima of -48.2350 at:\n",
        "[a,b] = [-1.6968, -0.5247]"
       ]
      },
      {
       "output_type": "stream",
       "stream": "stdout",
       "text": [
        "\n",
        "rejected local minima of -48.2341 at:\n",
        "[a,b] = [-0.7174, -1.0100]"
       ]
      },
      {
       "output_type": "stream",
       "stream": "stdout",
       "text": [
        "\n",
        "rejected local minima of -48.2316 at:\n",
        "[a,b] = [-1.5501, 0.2050]"
       ]
      },
      {
       "output_type": "stream",
       "stream": "stdout",
       "text": [
        "\n",
        "rejected local minima of -48.2316 at:\n",
        "[a,b] = [-0.8496, -0.5544]"
       ]
      },
      {
       "output_type": "stream",
       "stream": "stdout",
       "text": [
        "\n",
        "rejected local minima of -48.2316 at:\n",
        "[a,b] = [0.1102, -0.1773]"
       ]
      },
      {
       "output_type": "stream",
       "stream": "stdout",
       "text": [
        "\n",
        "rejected local minima of -48.2342 at:\n",
        "[a,b] = [-1.1703, -0.8592]"
       ]
      },
      {
       "output_type": "stream",
       "stream": "stdout",
       "text": [
        "\n",
        "agreeing local minima of -48.2350 at:\n",
        "[a,b] = [-1.6969, -0.5246]"
       ]
      },
      {
       "output_type": "stream",
       "stream": "stdout",
       "text": [
        "\n",
        "rejected local minima of -48.2316 at:\n",
        "[a,b] = [-0.5111, 0.2209]"
       ]
      },
      {
       "output_type": "stream",
       "stream": "stdout",
       "text": [
        "\n",
        "rejected local minima of -48.2316 at:\n",
        "[a,b] = [-0.0631, -0.6619]"
       ]
      },
      {
       "output_type": "stream",
       "stream": "stdout",
       "text": [
        "\n",
        "rejected local minima of -48.2316 at:\n",
        "[a,b] = [-0.7202, -0.6250]"
       ]
      },
      {
       "output_type": "stream",
       "stream": "stdout",
       "text": [
        "\n",
        "rejected local minima of -48.2316 at:\n",
        "[a,b] = [-0.5936, -0.3556]"
       ]
      },
      {
       "output_type": "stream",
       "stream": "stdout",
       "text": [
        "\n",
        "rejected local minima of -48.2349 at:\n",
        "[a,b] = [1.2123, -1.3289]"
       ]
      },
      {
       "output_type": "stream",
       "stream": "stdout",
       "text": [
        "\n",
        "rejected local minima of -48.2316 at:\n",
        "[a,b] = [0.4693, -0.5816]"
       ]
      },
      {
       "output_type": "stream",
       "stream": "stdout",
       "text": [
        "\n",
        "rejected local minima of -48.2316 at:\n",
        "[a,b] = [0.7259, 0.8150]"
       ]
      },
      {
       "output_type": "stream",
       "stream": "stdout",
       "text": [
        "\n",
        "rejected local minima of -48.2316 at:\n",
        "[a,b] = [0.6782, 0.7887]"
       ]
      },
      {
       "output_type": "stream",
       "stream": "stdout",
       "text": [
        "\n",
        "new local minima of -48.2355 at:\n",
        "[a,b] = [0.9217, 1.3119]"
       ]
      },
      {
       "output_type": "stream",
       "stream": "stdout",
       "text": [
        "\n",
        "agreeing local minima of -48.2355 at:\n",
        "[a,b] = [0.9218, 1.3122]"
       ]
      },
      {
       "output_type": "stream",
       "stream": "stdout",
       "text": [
        "\n",
        "agreeing local minima of -48.2355 at:\n",
        "[a,b] = [0.9217, 1.3119]"
       ]
      },
      {
       "output_type": "stream",
       "stream": "stdout",
       "text": [
        "\n",
        "rejected local minima of -48.2342 at:\n",
        "[a,b] = [-1.1708, -0.8589]"
       ]
      },
      {
       "output_type": "stream",
       "stream": "stdout",
       "text": [
        "\n",
        "rejected local minima of -48.2350 at:\n",
        "[a,b] = [-1.6971, -0.5243]"
       ]
      },
      {
       "output_type": "stream",
       "stream": "stdout",
       "text": [
        "\n",
        "rejected local minima of -48.2316 at:\n",
        "[a,b] = [-0.7149, -0.7297]"
       ]
      },
      {
       "output_type": "stream",
       "stream": "stdout",
       "text": [
        "\n",
        "rejected local minima of -48.2316 at:\n",
        "[a,b] = [-1.0258, -0.1754]"
       ]
      },
      {
       "output_type": "stream",
       "stream": "stdout",
       "text": [
        "\n",
        "rejected local minima of -48.2316 at:\n",
        "[a,b] = [0.2325, 0.6704]"
       ]
      },
      {
       "output_type": "stream",
       "stream": "stdout",
       "text": [
        "\n",
        "rejected local minima of -48.2316 at:\n",
        "[a,b] = [-0.8727, -0.0122]"
       ]
      },
      {
       "output_type": "stream",
       "stream": "stdout",
       "text": [
        "\n",
        "rejected local minima of -48.2342 at:\n",
        "[a,b] = [-1.1705, -0.8592]"
       ]
      },
      {
       "output_type": "stream",
       "stream": "stdout",
       "text": [
        "\n",
        "rejected local minima of -48.2316 at:\n",
        "[a,b] = [-1.0522, -0.4211]"
       ]
      },
      {
       "output_type": "stream",
       "stream": "stdout",
       "text": [
        "\n",
        "rejected local minima of -48.2316 at:\n",
        "[a,b] = [-0.9510, 0.1727]"
       ]
      },
      {
       "output_type": "stream",
       "stream": "stdout",
       "text": [
        "\n",
        "rejected local minima of -48.2316 at:\n",
        "[a,b] = [-1.7880, 0.7924]"
       ]
      },
      {
       "output_type": "stream",
       "stream": "stdout",
       "text": [
        "\n",
        "rejected local minima of -48.2337 at:\n",
        "[a,b] = [-2.1608, 0.2670]"
       ]
      },
      {
       "output_type": "stream",
       "stream": "stdout",
       "text": [
        "\n",
        "rejected local minima of -48.2345 at:\n",
        "[a,b] = [-0.5153, 1.5370]"
       ]
      },
      {
       "output_type": "stream",
       "stream": "stdout",
       "text": [
        "\n",
        "rejected local minima of -48.2316 at:\n",
        "[a,b] = [-0.6474, 0.5906]"
       ]
      },
      {
       "output_type": "stream",
       "stream": "stdout",
       "text": [
        "\n",
        "new local minima of -48.2375 at:\n",
        "[a,b] = [-2.3797, 0.8456]"
       ]
      },
      {
       "output_type": "stream",
       "stream": "stdout",
       "text": [
        "\n",
        "rejected local minima of -48.2316 at:\n",
        "[a,b] = [0.1272, 0.7080]"
       ]
      },
      {
       "output_type": "stream",
       "stream": "stdout",
       "text": [
        "\n",
        "rejected local minima of -48.2316 at:\n",
        "[a,b] = [-1.1612, -0.3652]"
       ]
      },
      {
       "output_type": "stream",
       "stream": "stdout",
       "text": [
        "\n",
        "rejected local minima of -48.2345 at:\n",
        "[a,b] = [-0.5142, 1.5370]"
       ]
      },
      {
       "output_type": "stream",
       "stream": "stdout",
       "text": [
        "\n",
        "rejected local minima of -48.2316 at:\n",
        "[a,b] = [0.4721, 0.8702]"
       ]
      },
      {
       "output_type": "stream",
       "stream": "stdout",
       "text": [
        "\n",
        "rejected local minima of -48.2316 at:\n",
        "[a,b] = [-0.2203, 0.9142]"
       ]
      },
      {
       "output_type": "stream",
       "stream": "stdout",
       "text": [
        "\n",
        "rejected local minima of -48.2355 at:\n",
        "[a,b] = [0.9214, 1.3121]"
       ]
      },
      {
       "output_type": "stream",
       "stream": "stdout",
       "text": [
        "\n",
        "rejected local minima of -48.2355 at:\n",
        "[a,b] = [0.9217, 1.3120]"
       ]
      },
      {
       "output_type": "stream",
       "stream": "stdout",
       "text": [
        "\n",
        "rejected local minima of -48.2316 at:\n",
        "[a,b] = [-0.1604, -0.5883]"
       ]
      },
      {
       "output_type": "stream",
       "stream": "stdout",
       "text": [
        "\n",
        "rejected local minima of -48.2316 at:\n",
        "[a,b] = [-1.6296, 0.8911]"
       ]
      },
      {
       "output_type": "stream",
       "stream": "stdout",
       "text": [
        "\n",
        "rejected local minima of -48.2350 at:\n",
        "[a,b] = [-1.6968, -0.5247]"
       ]
      },
      {
       "output_type": "stream",
       "stream": "stdout",
       "text": [
        "\n",
        "rejected local minima of -48.2316 at:\n",
        "[a,b] = [-1.1578, 0.1671]"
       ]
      },
      {
       "output_type": "stream",
       "stream": "stdout",
       "text": [
        "\n",
        "rejected local minima of -48.2345 at:\n",
        "[a,b] = [-0.5139, 1.5370]"
       ]
      },
      {
       "output_type": "stream",
       "stream": "stdout",
       "text": [
        "\n",
        "rejected local minima of -48.2316 at:\n",
        "[a,b] = [-0.6017, 0.5559]"
       ]
      },
      {
       "output_type": "stream",
       "stream": "stdout",
       "text": [
        "\n",
        "rejected local minima of -48.2345 at:\n",
        "[a,b] = [-0.5146, 1.5368]"
       ]
      },
      {
       "output_type": "stream",
       "stream": "stdout",
       "text": [
        "\n",
        "rejected local minima of -48.2316 at:\n",
        "[a,b] = [-0.1469, -0.6101]"
       ]
      },
      {
       "output_type": "stream",
       "stream": "stdout",
       "text": [
        "\n",
        "rejected local minima of -48.2331 at:\n",
        "[a,b] = [0.2715, -1.1633]"
       ]
      },
      {
       "output_type": "stream",
       "stream": "stdout",
       "text": [
        "\n",
        "rejected local minima of -48.2316 at:\n",
        "[a,b] = [0.1715, -0.7048]"
       ]
      },
      {
       "output_type": "stream",
       "stream": "stdout",
       "text": [
        "\n",
        "rejected local minima of -48.2316 at:\n",
        "[a,b] = [0.1772, -0.3772]"
       ]
      },
      {
       "output_type": "stream",
       "stream": "stdout",
       "text": [
        "\n",
        "rejected local minima of -48.2349 at:\n",
        "[a,b] = [1.2125, -1.3285]"
       ]
      },
      {
       "output_type": "stream",
       "stream": "stdout",
       "text": [
        "\n",
        "rejected local minima of -48.2336 at:\n",
        "[a,b] = [1.8900, 0.0285]"
       ]
      },
      {
       "output_type": "stream",
       "stream": "stdout",
       "text": [
        "\n",
        "rejected local minima of -48.2349 at:\n",
        "[a,b] = [1.2125, -1.3284]"
       ]
      },
      {
       "output_type": "stream",
       "stream": "stdout",
       "text": [
        "\n",
        "rejected local minima of -48.2349 at:\n",
        "[a,b] = [1.2125, -1.3285]"
       ]
      },
      {
       "output_type": "stream",
       "stream": "stdout",
       "text": [
        "\n",
        "rejected local minima of -48.2336 at:\n",
        "[a,b] = [1.8902, 0.0286]"
       ]
      },
      {
       "output_type": "stream",
       "stream": "stdout",
       "text": [
        "\n",
        "rejected local minima of -48.2349 at:\n",
        "[a,b] = [1.2085, -1.3267]"
       ]
      },
      {
       "output_type": "stream",
       "stream": "stdout",
       "text": [
        "\n",
        "rejected local minima of -48.2349 at:\n",
        "[a,b] = [1.2123, -1.3284]"
       ]
      },
      {
       "output_type": "stream",
       "stream": "stdout",
       "text": [
        "\n",
        "rejected local minima of -48.2350 at:\n",
        "[a,b] = [-1.6967, -0.5248]"
       ]
      },
      {
       "output_type": "stream",
       "stream": "stdout",
       "text": [
        "\n",
        "rejected local minima of -48.2342 at:\n",
        "[a,b] = [-1.1696, -0.8580]"
       ]
      },
      {
       "output_type": "stream",
       "stream": "stdout",
       "text": [
        "\n",
        "rejected local minima of -48.2316 at:\n",
        "[a,b] = [0.0438, 0.1800]"
       ]
      },
      {
       "output_type": "stream",
       "stream": "stdout",
       "text": [
        "\n",
        "rejected local minima of -48.2316 at:\n",
        "[a,b] = [-0.2083, 0.6665]"
       ]
      },
      {
       "output_type": "stream",
       "stream": "stdout",
       "text": [
        "\n",
        "rejected local minima of -48.2345 at:\n",
        "[a,b] = [-0.5159, 1.5368]"
       ]
      },
      {
       "output_type": "stream",
       "stream": "stdout",
       "text": [
        "\n",
        "rejected local minima of -48.2337 at:\n",
        "[a,b] = [-2.1630, 0.2717]"
       ]
      },
      {
       "output_type": "stream",
       "stream": "stdout",
       "text": [
        "\n",
        "rejected local minima of -48.2338 at:\n",
        "[a,b] = [-1.6845, 1.2107]"
       ]
      },
      {
       "output_type": "stream",
       "stream": "stdout",
       "text": [
        "\n",
        "rejected local minima of -48.2345 at:\n",
        "[a,b] = [-0.5143, 1.5369]"
       ]
      },
      {
       "output_type": "stream",
       "stream": "stdout",
       "text": [
        "\n",
        "rejected local minima of -48.2338 at:\n",
        "[a,b] = [-1.7106, 1.1969]"
       ]
      },
      {
       "output_type": "stream",
       "stream": "stdout",
       "text": [
        "\n",
        "rejected local minima of -48.2316 at:\n",
        "[a,b] = [-1.3050, 0.3373]"
       ]
      },
      {
       "output_type": "stream",
       "stream": "stdout",
       "text": [
        "\n",
        "rejected local minima of -48.2350 at:\n",
        "[a,b] = [-1.6967, -0.5248]"
       ]
      },
      {
       "output_type": "stream",
       "stream": "stdout",
       "text": [
        "\n",
        "rejected local minima of -48.2342 at:\n",
        "[a,b] = [-1.2204, -0.8356]"
       ]
      },
      {
       "output_type": "stream",
       "stream": "stdout",
       "text": [
        "\n",
        "rejected local minima of -48.2350 at:\n",
        "[a,b] = [-1.6969, -0.5246]"
       ]
      },
      {
       "output_type": "stream",
       "stream": "stdout",
       "text": [
        "\n",
        "rejected local minima of -48.2342 at:\n",
        "[a,b] = [-1.1713, -0.8585]"
       ]
      },
      {
       "output_type": "stream",
       "stream": "stdout",
       "text": [
        "\n",
        "rejected local minima of -48.2331 at:\n",
        "[a,b] = [0.3391, -1.1736]"
       ]
      },
      {
       "output_type": "stream",
       "stream": "stdout",
       "text": [
        "\n",
        "rejected local minima of -48.2350 at:\n",
        "[a,b] = [-1.6975, -0.5239]"
       ]
      },
      {
       "output_type": "stream",
       "stream": "stdout",
       "text": [
        "\n",
        "rejected local minima of -48.2316 at:\n",
        "[a,b] = [-0.2387, -0.3955]"
       ]
      },
      {
       "output_type": "stream",
       "stream": "stdout",
       "text": [
        "\n",
        "rejected local minima of -48.2316 at:\n",
        "[a,b] = [-0.5670, 1.1083]"
       ]
      },
      {
       "output_type": "stream",
       "stream": "stdout",
       "text": [
        "\n",
        "rejected local minima of -48.2345 at:\n",
        "[a,b] = [-0.5145, 1.5368]"
       ]
      },
      {
       "output_type": "stream",
       "stream": "stdout",
       "text": [
        "\n",
        "rejected local minima of -48.2345 at:\n",
        "[a,b] = [-0.5137, 1.5367]"
       ]
      },
      {
       "output_type": "stream",
       "stream": "stdout",
       "text": [
        "\n",
        "rejected local minima of -48.2316 at:\n",
        "[a,b] = [0.4055, 0.9248]"
       ]
      },
      {
       "output_type": "stream",
       "stream": "stdout",
       "text": [
        "\n",
        "rejected local minima of -48.2316 at:\n",
        "[a,b] = [0.4436, 1.0000]"
       ]
      },
      {
       "output_type": "stream",
       "stream": "stdout",
       "text": [
        "\n",
        "rejected local minima of -48.2345 at:\n",
        "[a,b] = [-0.5152, 1.5370]"
       ]
      },
      {
       "output_type": "stream",
       "stream": "stdout",
       "text": [
        "\n",
        "rejected local minima of -48.2316 at:\n",
        "[a,b] = [-0.3842, 1.0813]"
       ]
      },
      {
       "output_type": "stream",
       "stream": "stdout",
       "text": [
        "\n",
        "rejected local minima of -48.2355 at:\n",
        "[a,b] = [0.9219, 1.3120]"
       ]
      },
      {
       "output_type": "stream",
       "stream": "stdout",
       "text": [
        "\n",
        "rejected local minima of -48.2336 at:\n",
        "[a,b] = [0.3652, 1.4443]"
       ]
      },
      {
       "output_type": "stream",
       "stream": "stdout",
       "text": [
        "\n",
        "rejected local minima of -48.2345 at:\n",
        "[a,b] = [-0.5126, 1.5371]"
       ]
      },
      {
       "output_type": "stream",
       "stream": "stdout",
       "text": [
        "\n",
        "rejected local minima of -48.2316 at:\n",
        "[a,b] = [-0.1996, 0.0252]"
       ]
      },
      {
       "output_type": "stream",
       "stream": "stdout",
       "text": [
        "\n",
        "rejected local minima of -48.2316 at:\n",
        "[a,b] = [0.1341, 0.1992]"
       ]
      },
      {
       "output_type": "stream",
       "stream": "stdout",
       "text": [
        "\n",
        "rejected local minima of -48.2342 at:\n",
        "[a,b] = [-1.1837, -0.8505]"
       ]
      },
      {
       "output_type": "stream",
       "stream": "stdout",
       "text": [
        "\n",
        "rejected local minima of -48.2316 at:\n",
        "[a,b] = [-1.2142, 0.6729]"
       ]
      },
      {
       "output_type": "stream",
       "stream": "stdout",
       "text": [
        "\n",
        "rejected local minima of -48.2337 at:\n",
        "[a,b] = [-1.3585, 1.3284]"
       ]
      },
      {
       "output_type": "stream",
       "stream": "stdout",
       "text": [
        "\n",
        "rejected local minima of -48.2350 at:\n",
        "[a,b] = [-1.6969, -0.5246]"
       ]
      },
      {
       "output_type": "stream",
       "stream": "stdout",
       "text": [
        "\n",
        "rejected local minima of -48.2350 at:\n",
        "[a,b] = [-1.6970, -0.5245]"
       ]
      },
      {
       "output_type": "stream",
       "stream": "stdout",
       "text": [
        "\n",
        "rejected local minima of -48.2342 at:\n",
        "[a,b] = [-1.1709, -0.8588]"
       ]
      },
      {
       "output_type": "stream",
       "stream": "stdout",
       "text": [
        "\n",
        "rejected local minima of -48.2316 at:\n",
        "[a,b] = [-0.3865, -0.0775]"
       ]
      },
      {
       "output_type": "stream",
       "stream": "stdout",
       "text": [
        "\n",
        "rejected local minima of -48.2316 at:\n",
        "[a,b] = [-0.6441, -0.0804]"
       ]
      },
      {
       "output_type": "stream",
       "stream": "stdout",
       "text": [
        "\n",
        "rejected local minima of -48.2316 at:\n",
        "[a,b] = [0.4548, -0.2062]"
       ]
      },
      {
       "output_type": "stream",
       "stream": "stdout",
       "text": [
        "\n",
        "rejected local minima of -48.2349 at:\n",
        "[a,b] = [1.2130, -1.3284]"
       ]
      },
      {
       "output_type": "stream",
       "stream": "stdout",
       "text": [
        "\n",
        "rejected local minima of -48.2316 at:\n",
        "[a,b] = [0.8580, -0.9379]"
       ]
      },
      {
       "output_type": "stream",
       "stream": "stdout",
       "text": [
        "\n",
        "rejected local minima of -48.2342 at:\n",
        "[a,b] = [-1.1709, -0.8589]"
       ]
      },
      {
       "output_type": "stream",
       "stream": "stdout",
       "text": [
        "\n",
        "rejected local minima of -48.2316 at:\n",
        "[a,b] = [0.5959, 0.3107]"
       ]
      },
      {
       "output_type": "stream",
       "stream": "stdout",
       "text": [
        "\n",
        "rejected local minima of -48.2336 at:\n",
        "[a,b] = [1.8901, 0.0285]"
       ]
      },
      {
       "output_type": "stream",
       "stream": "stdout",
       "text": [
        "\n",
        "rejected local minima of -48.2316 at:\n",
        "[a,b] = [0.7521, -0.5427]"
       ]
      },
      {
       "output_type": "stream",
       "stream": "stdout",
       "text": [
        "\n",
        "rejected local minima of -48.2316 at:\n",
        "[a,b] = [0.9025, -0.6657]"
       ]
      },
      {
       "output_type": "stream",
       "stream": "stdout",
       "text": [
        "\n",
        "rejected local minima of -48.2349 at:\n",
        "[a,b] = [1.2124, -1.3285]"
       ]
      },
      {
       "output_type": "stream",
       "stream": "stdout",
       "text": [
        "\n",
        "rejected local minima of -48.2316 at:\n",
        "[a,b] = [-0.3927, 0.0123]"
       ]
      },
      {
       "output_type": "stream",
       "stream": "stdout",
       "text": [
        "\n",
        "rejected local minima of -48.2316 at:\n",
        "[a,b] = [0.8849, -0.1532]"
       ]
      },
      {
       "output_type": "stream",
       "stream": "stdout",
       "text": [
        "\n",
        "rejected local minima of -48.2349 at:\n",
        "[a,b] = [1.2125, -1.3285]"
       ]
      },
      {
       "output_type": "stream",
       "stream": "stdout",
       "text": [
        "\n",
        "rejected local minima of -48.2349 at:\n",
        "[a,b] = [1.2126, -1.3286]"
       ]
      },
      {
       "output_type": "stream",
       "stream": "stdout",
       "text": [
        "\n",
        "rejected local minima of -48.2349 at:\n",
        "[a,b] = [1.2125, -1.3285]"
       ]
      },
      {
       "output_type": "stream",
       "stream": "stdout",
       "text": [
        "\n",
        "rejected local minima of -48.2336 at:\n",
        "[a,b] = [1.8900, 0.0289]"
       ]
      },
      {
       "output_type": "stream",
       "stream": "stdout",
       "text": [
        "\n",
        "rejected local minima of -48.2349 at:\n",
        "[a,b] = [1.2124, -1.3285]"
       ]
      },
      {
       "output_type": "stream",
       "stream": "stdout",
       "text": [
        "\n",
        "rejected local minima of -48.2316 at:\n",
        "[a,b] = [0.2549, 0.3297]"
       ]
      },
      {
       "output_type": "stream",
       "stream": "stdout",
       "text": [
        "\n",
        "rejected local minima of -48.2316 at:\n",
        "[a,b] = [-0.7468, 1.1278]"
       ]
      },
      {
       "output_type": "stream",
       "stream": "stdout",
       "text": [
        "\n",
        "rejected local minima of -48.2342 at:\n",
        "[a,b] = [-1.1702, -0.8593]"
       ]
      },
      {
       "output_type": "stream",
       "stream": "stdout",
       "text": [
        "\n",
        "rejected local minima of -48.2345 at:\n",
        "[a,b] = [-0.5158, 1.5363]"
       ]
      },
      {
       "output_type": "stream",
       "stream": "stdout",
       "text": [
        "\n",
        "rejected local minima of -48.2316 at:\n",
        "[a,b] = [0.5446, -0.1562]"
       ]
      },
      {
       "output_type": "stream",
       "stream": "stdout",
       "text": [
        "\n",
        "rejected local minima of -48.2349 at:\n",
        "[a,b] = [1.2124, -1.3285]"
       ]
      },
      {
       "output_type": "stream",
       "stream": "stdout",
       "text": [
        "\n",
        "rejected local minima of -48.2316 at:\n",
        "[a,b] = [0.0053, -0.2696]"
       ]
      },
      {
       "output_type": "stream",
       "stream": "stdout",
       "text": [
        "\n",
        "rejected local minima of -48.2345 at:\n",
        "[a,b] = [-0.5158, 1.5365]"
       ]
      },
      {
       "output_type": "stream",
       "stream": "stdout",
       "text": [
        "\n",
        "rejected local minima of -48.2316 at:\n",
        "[a,b] = [-0.4491, -0.7235]"
       ]
      },
      {
       "output_type": "stream",
       "stream": "stdout",
       "text": [
        "\n",
        "rejected local minima of -48.2316 at:\n",
        "[a,b] = [0.1088, -0.8644]"
       ]
      },
      {
       "output_type": "stream",
       "stream": "stdout",
       "text": [
        "\n",
        "rejected local minima of -48.2316 at:\n",
        "[a,b] = [-1.2137, 0.2435]"
       ]
      },
      {
       "output_type": "stream",
       "stream": "stdout",
       "text": [
        "\n",
        "rejected local minima of -48.2316 at:\n",
        "[a,b] = [-1.0746, 0.6094]"
       ]
      },
      {
       "output_type": "stream",
       "stream": "stdout",
       "text": [
        "\n",
        "rejected local minima of -48.2316 at:\n",
        "[a,b] = [-0.5355, 0.3020]"
       ]
      },
      {
       "output_type": "stream",
       "stream": "stdout",
       "text": [
        "\n",
        "rejected local minima of -48.2350 at:\n",
        "[a,b] = [-1.6965, -0.5249]"
       ]
      },
      {
       "output_type": "stream",
       "stream": "stdout",
       "text": [
        "\n",
        "rejected local minima of -48.2316 at:\n",
        "[a,b] = [-0.0655, 1.1401]"
       ]
      },
      {
       "output_type": "stream",
       "stream": "stdout",
       "text": [
        "\n",
        "rejected local minima of -48.2316 at:\n",
        "[a,b] = [-0.9680, -0.4873]"
       ]
      },
      {
       "output_type": "stream",
       "stream": "stdout",
       "text": [
        "\n",
        "rejected local minima of -48.2316 at:\n",
        "[a,b] = [-0.7708, 0.4178]"
       ]
      },
      {
       "output_type": "stream",
       "stream": "stdout",
       "text": [
        "\n",
        "rejected local minima of -48.2349 at:\n",
        "[a,b] = [1.2125, -1.3285]"
       ]
      },
      {
       "output_type": "stream",
       "stream": "stdout",
       "text": [
        "\n",
        "rejected local minima of -48.2338 at:\n",
        "[a,b] = [-1.6697, 1.2172]"
       ]
      },
      {
       "output_type": "stream",
       "stream": "stdout",
       "text": [
        "\n",
        "rejected local minima of -48.2316 at:\n",
        "[a,b] = [-0.7557, 0.8889]"
       ]
      },
      {
       "output_type": "stream",
       "stream": "stdout",
       "text": [
        "\n",
        "rejected local minima of -48.2316 at:\n",
        "[a,b] = [-1.0143, 0.4193]"
       ]
      },
      {
       "output_type": "stream",
       "stream": "stdout",
       "text": [
        "\n",
        "rejected local minima of -48.2316 at:\n",
        "[a,b] = [-1.2314, 0.0383]"
       ]
      },
      {
       "output_type": "stream",
       "stream": "stdout",
       "text": [
        "\n",
        "rejected local minima of -48.2316 at:\n",
        "[a,b] = [0.1056, -0.3852]"
       ]
      },
      {
       "output_type": "stream",
       "stream": "stdout",
       "text": [
        "\n",
        "rejected local minima of -48.2316 at:\n",
        "[a,b] = [-0.0846, -0.3531]"
       ]
      },
      {
       "output_type": "stream",
       "stream": "stdout",
       "text": [
        "\n",
        "rejected local minima of -48.2342 at:\n",
        "[a,b] = [-1.1706, -0.8590]"
       ]
      },
      {
       "output_type": "stream",
       "stream": "stdout",
       "text": [
        "\n",
        "rejected local minima of -48.2316 at:\n",
        "[a,b] = [-0.2534, -0.1660]"
       ]
      },
      {
       "output_type": "stream",
       "stream": "stdout",
       "text": [
        "\n",
        "rejected local minima of -48.2316 at:\n",
        "[a,b] = [-1.2524, 1.0701]"
       ]
      },
      {
       "output_type": "stream",
       "stream": "stdout",
       "text": [
        "\n",
        "rejected local minima of -48.2316 at:\n",
        "[a,b] = [-0.9666, -0.1129]"
       ]
      },
      {
       "output_type": "stream",
       "stream": "stdout",
       "text": [
        "\n",
        "rejected local minima of -48.2345 at:\n",
        "[a,b] = [-0.5145, 1.5369]"
       ]
      },
      {
       "output_type": "stream",
       "stream": "stdout",
       "text": [
        "\n",
        "rejected local minima of -48.2342 at:\n",
        "[a,b] = [-1.1707, -0.8590]"
       ]
      },
      {
       "output_type": "stream",
       "stream": "stdout",
       "text": [
        "\n",
        "rejected local minima of -48.2342 at:\n",
        "[a,b] = [-1.1753, -0.8566]"
       ]
      },
      {
       "output_type": "stream",
       "stream": "stdout",
       "text": [
        "\n",
        "agreeing local minima of -48.2375 at:\n",
        "[a,b] = [-2.3798, 0.8457]"
       ]
      },
      {
       "output_type": "stream",
       "stream": "stdout",
       "text": [
        "\n",
        "rejected local minima of -48.2350 at:\n",
        "[a,b] = [-1.6968, -0.5247]"
       ]
      },
      {
       "output_type": "stream",
       "stream": "stdout",
       "text": [
        "\n",
        "rejected local minima of -48.2316 at:\n",
        "[a,b] = [-0.4988, 0.7889]"
       ]
      },
      {
       "output_type": "stream",
       "stream": "stdout",
       "text": [
        "\n",
        "rejected local minima of -48.2340 at:\n",
        "[a,b] = [-0.9201, 1.4874]"
       ]
      },
      {
       "output_type": "stream",
       "stream": "stdout",
       "text": [
        "\n",
        "rejected local minima of -48.2342 at:\n",
        "[a,b] = [-1.1715, -0.8590]"
       ]
      },
      {
       "output_type": "stream",
       "stream": "stdout",
       "text": [
        "\n",
        "rejected local minima of -48.2316 at:\n",
        "[a,b] = [0.3570, 1.0709]"
       ]
      },
      {
       "output_type": "stream",
       "stream": "stdout",
       "text": [
        "\n",
        "rejected local minima of -48.2355 at:\n",
        "[a,b] = [0.9217, 1.3120]"
       ]
      },
      {
       "output_type": "stream",
       "stream": "stdout",
       "text": [
        "\n",
        "rejected local minima of -48.2342 at:\n",
        "[a,b] = [-1.1882, -0.8478]"
       ]
      },
      {
       "output_type": "stream",
       "stream": "stdout",
       "text": [
        "\n",
        "rejected local minima of -48.2316 at:\n",
        "[a,b] = [-0.7003, -0.6297]"
       ]
      },
      {
       "output_type": "stream",
       "stream": "stdout",
       "text": [
        "\n",
        "rejected local minima of -48.2338 at:\n",
        "[a,b] = [-1.7265, 1.1919]"
       ]
      },
      {
       "output_type": "stream",
       "stream": "stdout",
       "text": [
        "\n",
        "rejected local minima of -48.2350 at:\n",
        "[a,b] = [-1.6966, -0.5248]"
       ]
      },
      {
       "output_type": "stream",
       "stream": "stdout",
       "text": [
        "\n",
        "rejected local minima of -48.2342 at:\n",
        "[a,b] = [-1.0334, -0.9307]"
       ]
      },
      {
       "output_type": "stream",
       "stream": "stdout",
       "text": [
        "\n",
        "rejected local minima of -48.2316 at:\n",
        "[a,b] = [-0.1791, 1.0591]"
       ]
      },
      {
       "output_type": "stream",
       "stream": "stdout",
       "text": [
        "\n",
        "rejected local minima of -48.2338 at:\n",
        "[a,b] = [-1.7729, 1.1712]"
       ]
      },
      {
       "output_type": "stream",
       "stream": "stdout",
       "text": [
        "\n",
        "rejected local minima of -48.2316 at:\n",
        "[a,b] = [-1.7254, 0.8457]"
       ]
      },
      {
       "output_type": "stream",
       "stream": "stdout",
       "text": [
        "\n",
        "rejected local minima of -48.2316 at:\n",
        "[a,b] = [-0.1673, 1.2240]"
       ]
      },
      {
       "output_type": "stream",
       "stream": "stdout",
       "text": [
        "\n",
        "rejected local minima of -48.2316 at:\n",
        "[a,b] = [0.9707, -0.2427]"
       ]
      },
      {
       "output_type": "stream",
       "stream": "stdout",
       "text": [
        "\n",
        "rejected local minima of -48.2355 at:\n",
        "[a,b] = [0.9221, 1.3115]"
       ]
      },
      {
       "output_type": "stream",
       "stream": "stdout",
       "text": [
        "\n",
        "rejected local minima of -48.2349 at:\n",
        "[a,b] = [1.2126, -1.3285]"
       ]
      },
      {
       "output_type": "stream",
       "stream": "stdout",
       "text": [
        "\n",
        "rejected local minima of -48.2345 at:\n",
        "[a,b] = [-0.5145, 1.5369]"
       ]
      },
      {
       "output_type": "stream",
       "stream": "stdout",
       "text": [
        "\n",
        "rejected local minima of -48.2355 at:\n",
        "[a,b] = [0.9217, 1.3120]"
       ]
      },
      {
       "output_type": "stream",
       "stream": "stdout",
       "text": [
        "\n",
        "rejected local minima of -48.2336 at:\n",
        "[a,b] = [1.8901, 0.0283]"
       ]
      },
      {
       "output_type": "stream",
       "stream": "stdout",
       "text": [
        "\n",
        "rejected local minima of -48.2355 at:\n",
        "[a,b] = [0.9217, 1.3120]"
       ]
      },
      {
       "output_type": "stream",
       "stream": "stdout",
       "text": [
        "\n",
        "rejected local minima of -48.2355 at:\n",
        "[a,b] = [0.9215, 1.3123]"
       ]
      },
      {
       "output_type": "stream",
       "stream": "stdout",
       "text": [
        "\n",
        "rejected local minima of -48.2316 at:\n",
        "[a,b] = [0.5357, 0.5460]"
       ]
      },
      {
       "output_type": "stream",
       "stream": "stdout",
       "text": [
        "\n",
        "rejected local minima of -48.2316 at:\n",
        "[a,b] = [-1.5014, 0.4744]"
       ]
      },
      {
       "output_type": "stream",
       "stream": "stdout",
       "text": [
        "\n",
        "rejected local minima of -48.2316 at:\n",
        "[a,b] = [-1.1132, 0.5412]"
       ]
      },
      {
       "output_type": "stream",
       "stream": "stdout",
       "text": [
        "\n",
        "rejected local minima of -48.2345 at:\n",
        "[a,b] = [-0.5148, 1.5368]"
       ]
      },
      {
       "output_type": "stream",
       "stream": "stdout",
       "text": [
        "\n",
        "rejected local minima of -48.2316 at:\n",
        "[a,b] = [1.1055, 0.5367]"
       ]
      },
      {
       "output_type": "stream",
       "stream": "stdout",
       "text": [
        "\n",
        "rejected local minima of -48.2316 at:\n",
        "[a,b] = [0.0638, -0.6248]"
       ]
      },
      {
       "output_type": "stream",
       "stream": "stdout",
       "text": [
        "\n",
        "rejected local minima of -48.2350 at:\n",
        "[a,b] = [-1.6971, -0.5245]"
       ]
      },
      {
       "output_type": "stream",
       "stream": "stdout",
       "text": [
        "\n",
        "agreeing local minima of -48.2375 at:\n",
        "[a,b] = [-2.3795, 0.8461]"
       ]
      },
      {
       "output_type": "stream",
       "stream": "stdout",
       "text": [
        "\n",
        "rejected local minima of -48.2350 at:\n",
        "[a,b] = [-1.6967, -0.5247]"
       ]
      },
      {
       "output_type": "stream",
       "stream": "stdout",
       "text": [
        "\n",
        "rejected local minima of -48.2316 at:\n",
        "[a,b] = [0.3053, 0.2316]"
       ]
      },
      {
       "output_type": "stream",
       "stream": "stdout",
       "text": [
        "\n",
        "rejected local minima of -48.2316 at:\n",
        "[a,b] = [0.5813, 0.1061]"
       ]
      },
      {
       "output_type": "stream",
       "stream": "stdout",
       "text": [
        "\n",
        "rejected local minima of -48.2350 at:\n",
        "[a,b] = [-1.6969, -0.5246]"
       ]
      },
      {
       "output_type": "stream",
       "stream": "stdout",
       "text": [
        "\n",
        "rejected local minima of -48.2316 at:\n",
        "[a,b] = [-0.7265, 0.5233]"
       ]
      },
      {
       "output_type": "stream",
       "stream": "stdout",
       "text": [
        "\n",
        "agreeing local minima of -48.2375 at:\n",
        "[a,b] = [-2.3797, 0.8457]"
       ]
      },
      {
       "output_type": "stream",
       "stream": "stdout",
       "text": [
        "\n",
        "rejected local minima of -48.2350 at:\n",
        "[a,b] = [-1.6976, -0.5240]"
       ]
      },
      {
       "output_type": "stream",
       "stream": "stdout",
       "text": [
        "\n",
        "rejected local minima of -48.2337 at:\n",
        "[a,b] = [-2.1556, 0.2563]"
       ]
      },
      {
       "output_type": "stream",
       "stream": "stdout",
       "text": [
        "\n",
        "rejected local minima of -48.2316 at:\n",
        "[a,b] = [-0.8157, -0.0103]"
       ]
      },
      {
       "output_type": "stream",
       "stream": "stdout",
       "text": [
        "\n",
        "rejected local minima of -48.2316 at:\n",
        "[a,b] = [0.9927, 0.2953]"
       ]
      },
      {
       "output_type": "stream",
       "stream": "stdout",
       "text": [
        "\n",
        "rejected local minima of -48.2355 at:\n",
        "[a,b] = [0.9218, 1.3119]"
       ]
      },
      {
       "output_type": "stream",
       "stream": "stdout",
       "text": [
        "\n",
        "rejected local minima of -48.2316 at:\n",
        "[a,b] = [0.8090, 0.7412]"
       ]
      },
      {
       "output_type": "stream",
       "stream": "stdout",
       "text": [
        "\n",
        "rejected local minima of -48.2336 at:\n",
        "[a,b] = [1.8900, 0.0286]"
       ]
      },
      {
       "output_type": "stream",
       "stream": "stdout",
       "text": [
        "\n",
        "rejected local minima of -48.2345 at:\n",
        "[a,b] = [-0.5145, 1.5368]"
       ]
      },
      {
       "output_type": "stream",
       "stream": "stdout",
       "text": [
        "\n",
        "rejected local minima of -48.2345 at:\n",
        "[a,b] = [-0.5143, 1.5368]"
       ]
      },
      {
       "output_type": "stream",
       "stream": "stdout",
       "text": [
        "\n",
        "rejected local minima of -48.2316 at:\n",
        "[a,b] = [0.3452, 0.2474]"
       ]
      },
      {
       "output_type": "stream",
       "stream": "stdout",
       "text": [
        "\n",
        "rejected local minima of -48.2345 at:\n",
        "[a,b] = [-0.5151, 1.5366]"
       ]
      },
      {
       "output_type": "stream",
       "stream": "stdout",
       "text": [
        "\n",
        "rejected local minima of -48.2316 at:\n",
        "[a,b] = [0.4696, 0.7941]"
       ]
      },
      {
       "output_type": "stream",
       "stream": "stdout",
       "text": [
        "\n",
        "rejected local minima of -48.2316 at:\n",
        "[a,b] = [-0.5770, 0.3921]"
       ]
      },
      {
       "output_type": "stream",
       "stream": "stdout",
       "text": [
        "\n",
        "rejected local minima of -48.2345 at:\n",
        "[a,b] = [-0.5166, 1.5365]"
       ]
      },
      {
       "output_type": "stream",
       "stream": "stdout",
       "text": [
        "\n",
        "rejected local minima of -48.2345 at:\n",
        "[a,b] = [-0.5150, 1.5369]"
       ]
      },
      {
       "output_type": "stream",
       "stream": "stdout",
       "text": [
        "\n",
        "rejected local minima of -48.2355 at:\n",
        "[a,b] = [0.9215, 1.3121]"
       ]
      },
      {
       "output_type": "stream",
       "stream": "stdout",
       "text": [
        "\n",
        "rejected local minima of -48.2316 at:\n",
        "[a,b] = [0.2530, -0.0016]"
       ]
      },
      {
       "output_type": "stream",
       "stream": "stdout",
       "text": [
        "\n",
        "rejected local minima of -48.2316 at:\n",
        "[a,b] = [0.7226, 0.6336]"
       ]
      },
      {
       "output_type": "stream",
       "stream": "stdout",
       "text": [
        "\n",
        "rejected local minima of -48.2331 at:\n",
        "[a,b] = [0.4072, -1.1836]"
       ]
      },
      {
       "output_type": "stream",
       "stream": "stdout",
       "text": [
        "\n",
        "rejected local minima of -48.2316 at:\n",
        "[a,b] = [-0.5067, 0.2536]"
       ]
      },
      {
       "output_type": "stream",
       "stream": "stdout",
       "text": [
        "\n",
        "agreeing local minima of -48.2375 at:\n",
        "[a,b] = [-2.3798, 0.8455]"
       ]
      },
      {
       "output_type": "stream",
       "stream": "stdout",
       "text": [
        "\n",
        " \n",
        "Cutout 43\n",
        "first local minima of -45.1598 at:\n",
        "[a,b] = [-0.1276, 0.0954]"
       ]
      },
      {
       "output_type": "stream",
       "stream": "stdout",
       "text": [
        "\n",
        "agreeing local minima of -45.1598 at:\n",
        "[a,b] = [-0.1276, 0.0954]"
       ]
      },
      {
       "output_type": "stream",
       "stream": "stdout",
       "text": [
        "\n",
        "agreeing local minima of -45.1598 at:\n",
        "[a,b] = [-0.1276, 0.0954]"
       ]
      },
      {
       "output_type": "stream",
       "stream": "stdout",
       "text": [
        "\n",
        "agreeing local minima of -45.1598 at:\n",
        "[a,b] = [-0.1276, 0.0954]"
       ]
      },
      {
       "output_type": "stream",
       "stream": "stdout",
       "text": [
        "\n",
        "agreeing local minima of -45.1598 at:\n",
        "[a,b] = [-0.1276, 0.0954]"
       ]
      },
      {
       "output_type": "stream",
       "stream": "stdout",
       "text": [
        "\n",
        " \n",
        "Cutout 44\n",
        "first local minima of -47.6690 at:\n",
        "[a,b] = [-0.6674, 0.5806]"
       ]
      },
      {
       "output_type": "stream",
       "stream": "stdout",
       "text": [
        "\n",
        "agreeing local minima of -47.6690 at:\n",
        "[a,b] = [-0.6674, 0.5806]"
       ]
      },
      {
       "output_type": "stream",
       "stream": "stdout",
       "text": [
        "\n",
        "agreeing local minima of -47.6690 at:\n",
        "[a,b] = [-0.6674, 0.5806]"
       ]
      },
      {
       "output_type": "stream",
       "stream": "stdout",
       "text": [
        "\n",
        "agreeing local minima of -47.6690 at:\n",
        "[a,b] = [-0.6674, 0.5806]"
       ]
      },
      {
       "output_type": "stream",
       "stream": "stdout",
       "text": [
        "\n",
        "agreeing local minima of -47.6690 at:\n",
        "[a,b] = [-0.6674, 0.5806]"
       ]
      },
      {
       "output_type": "stream",
       "stream": "stdout",
       "text": [
        "\n",
        " \n",
        "Cutout 45\n",
        "first local minima of -47.1514 at:\n",
        "[a,b] = [0.0501, -0.2457]"
       ]
      },
      {
       "output_type": "stream",
       "stream": "stdout",
       "text": [
        "\n",
        "agreeing local minima of -47.1514 at:\n",
        "[a,b] = [0.0501, -0.2457]"
       ]
      },
      {
       "output_type": "stream",
       "stream": "stdout",
       "text": [
        "\n",
        "agreeing local minima of -47.1514 at:\n",
        "[a,b] = [0.0501, -0.2457]"
       ]
      },
      {
       "output_type": "stream",
       "stream": "stdout",
       "text": [
        "\n",
        "agreeing local minima of -47.1514 at:\n",
        "[a,b] = [0.0501, -0.2457]"
       ]
      },
      {
       "output_type": "stream",
       "stream": "stdout",
       "text": [
        "\n",
        "agreeing local minima of -47.1514 at:\n",
        "[a,b] = [0.0501, -0.2457]"
       ]
      },
      {
       "output_type": "stream",
       "stream": "stdout",
       "text": [
        "\n",
        " \n",
        "Cutout 46\n",
        "first local minima of -47.9842 at:\n",
        "[a,b] = [0.2494, 0.1736]"
       ]
      },
      {
       "output_type": "stream",
       "stream": "stdout",
       "text": [
        "\n",
        "agreeing local minima of -47.9842 at:\n",
        "[a,b] = [0.2494, 0.1736]"
       ]
      },
      {
       "output_type": "stream",
       "stream": "stdout",
       "text": [
        "\n",
        "agreeing local minima of -47.9842 at:\n",
        "[a,b] = [0.2494, 0.1736]"
       ]
      },
      {
       "output_type": "stream",
       "stream": "stdout",
       "text": [
        "\n",
        "agreeing local minima of -47.9842 at:\n",
        "[a,b] = [0.2494, 0.1736]"
       ]
      },
      {
       "output_type": "stream",
       "stream": "stdout",
       "text": [
        "\n",
        "agreeing local minima of -47.9842 at:\n",
        "[a,b] = [0.2495, 0.1736]"
       ]
      },
      {
       "output_type": "stream",
       "stream": "stdout",
       "text": [
        "\n",
        " \n",
        "Cutout 47\n",
        "first local minima of -26.1737 at:\n",
        "[a,b] = [-0.2089, -0.1772]"
       ]
      },
      {
       "output_type": "stream",
       "stream": "stdout",
       "text": [
        "\n",
        "agreeing local minima of -26.1737 at:\n",
        "[a,b] = [-0.2089, -0.1772]"
       ]
      },
      {
       "output_type": "stream",
       "stream": "stdout",
       "text": [
        "\n",
        "agreeing local minima of -26.1737 at:\n",
        "[a,b] = [-0.2089, -0.1772]"
       ]
      },
      {
       "output_type": "stream",
       "stream": "stdout",
       "text": [
        "\n",
        "agreeing local minima of -26.1737 at:\n",
        "[a,b] = [-0.2089, -0.1773]"
       ]
      },
      {
       "output_type": "stream",
       "stream": "stdout",
       "text": [
        "\n",
        "agreeing local minima of -26.1737 at:\n",
        "[a,b] = [-0.2089, -0.1772]"
       ]
      },
      {
       "output_type": "stream",
       "stream": "stdout",
       "text": [
        "\n",
        " \n",
        "Cutout 48\n",
        "first local minima of -47.9768 at:\n",
        "[a,b] = [0.8755, -0.2539]"
       ]
      },
      {
       "output_type": "stream",
       "stream": "stdout",
       "text": [
        "\n",
        "agreeing local minima of -47.9768 at:\n",
        "[a,b] = [0.8754, -0.2538]"
       ]
      },
      {
       "output_type": "stream",
       "stream": "stdout",
       "text": [
        "\n",
        "agreeing local minima of -47.9768 at:\n",
        "[a,b] = [0.8755, -0.2539]"
       ]
      },
      {
       "output_type": "stream",
       "stream": "stdout",
       "text": [
        "\n",
        "agreeing local minima of -47.9768 at:\n",
        "[a,b] = [0.8755, -0.2539]"
       ]
      },
      {
       "output_type": "stream",
       "stream": "stdout",
       "text": [
        "\n",
        "agreeing local minima of -47.9768 at:\n",
        "[a,b] = [0.8755, -0.2538]"
       ]
      },
      {
       "output_type": "stream",
       "stream": "stdout",
       "text": [
        "\n",
        " \n",
        "Cutout 49\n",
        "first local minima of -48.0173 at:\n",
        "[a,b] = [-0.0378, 0.6653]"
       ]
      },
      {
       "output_type": "stream",
       "stream": "stdout",
       "text": [
        "\n",
        "rejected local minima of -48.0164 at:\n",
        "[a,b] = [0.2312, -0.0550]"
       ]
      },
      {
       "output_type": "stream",
       "stream": "stdout",
       "text": [
        "\n",
        "rejected local minima of -48.0164 at:\n",
        "[a,b] = [0.2325, -0.0581]"
       ]
      },
      {
       "output_type": "stream",
       "stream": "stdout",
       "text": [
        "\n",
        "rejected local minima of -48.0164 at:\n",
        "[a,b] = [0.1802, 0.0876]"
       ]
      },
      {
       "output_type": "stream",
       "stream": "stdout",
       "text": [
        "\n",
        "agreeing local minima of -48.0173 at:\n",
        "[a,b] = [-0.0378, 0.6653]"
       ]
      },
      {
       "output_type": "stream",
       "stream": "stdout",
       "text": [
        "\n",
        "rejected local minima of -48.0165 at:\n",
        "[a,b] = [0.4061, -0.6128]"
       ]
      },
      {
       "output_type": "stream",
       "stream": "stdout",
       "text": [
        "\n",
        "rejected local minima of -48.0164 at:\n",
        "[a,b] = [0.2289, -0.0517]"
       ]
      },
      {
       "output_type": "stream",
       "stream": "stdout",
       "text": [
        "\n",
        "rejected local minima of -48.0164 at:\n",
        "[a,b] = [0.2126, 0.0029]"
       ]
      },
      {
       "output_type": "stream",
       "stream": "stdout",
       "text": [
        "\n",
        "rejected local minima of -48.0164 at:\n",
        "[a,b] = [0.2326, -0.0587]"
       ]
      },
      {
       "output_type": "stream",
       "stream": "stdout",
       "text": [
        "\n",
        "rejected local minima of -48.0164 at:\n",
        "[a,b] = [0.2256, -0.0394]"
       ]
      },
      {
       "output_type": "stream",
       "stream": "stdout",
       "text": [
        "\n",
        "rejected local minima of -48.0164 at:\n",
        "[a,b] = [0.2301, -0.0520]"
       ]
      },
      {
       "output_type": "stream",
       "stream": "stdout",
       "text": [
        "\n",
        "rejected local minima of -48.0164 at:\n",
        "[a,b] = [0.1433, 0.1696]"
       ]
      },
      {
       "output_type": "stream",
       "stream": "stdout",
       "text": [
        "\n",
        "rejected local minima of -48.0165 at:\n",
        "[a,b] = [0.4068, -0.6138]"
       ]
      },
      {
       "output_type": "stream",
       "stream": "stdout",
       "text": [
        "\n",
        "rejected local minima of -48.0165 at:\n",
        "[a,b] = [0.4061, -0.6125]"
       ]
      },
      {
       "output_type": "stream",
       "stream": "stdout",
       "text": [
        "\n",
        "agreeing local minima of -48.0173 at:\n",
        "[a,b] = [-0.0378, 0.6653]"
       ]
      },
      {
       "output_type": "stream",
       "stream": "stdout",
       "text": [
        "\n",
        "rejected local minima of -48.0164 at:\n",
        "[a,b] = [0.2316, -0.0559]"
       ]
      },
      {
       "output_type": "stream",
       "stream": "stdout",
       "text": [
        "\n",
        "agreeing local minima of -48.0173 at:\n",
        "[a,b] = [-0.0378, 0.6652]"
       ]
      },
      {
       "output_type": "stream",
       "stream": "stdout",
       "text": [
        "\n",
        "rejected local minima of -48.0164 at:\n",
        "[a,b] = [0.2275, -0.0455]"
       ]
      },
      {
       "output_type": "stream",
       "stream": "stdout",
       "text": [
        "\n",
        "rejected local minima of -48.0164 at:\n",
        "[a,b] = [0.2310, -0.0519]"
       ]
      },
      {
       "output_type": "stream",
       "stream": "stdout",
       "text": [
        "\n",
        "rejected local minima of -48.0164 at:\n",
        "[a,b] = [0.2314, -0.0554]"
       ]
      },
      {
       "output_type": "stream",
       "stream": "stdout",
       "text": [
        "\n",
        "rejected local minima of -48.0165 at:\n",
        "[a,b] = [0.4155, -0.6407]"
       ]
      },
      {
       "output_type": "stream",
       "stream": "stdout",
       "text": [
        "\n",
        "rejected local minima of -48.0165 at:\n",
        "[a,b] = [0.4062, -0.6125]"
       ]
      },
      {
       "output_type": "stream",
       "stream": "stdout",
       "text": [
        "\n",
        "rejected local minima of -48.0164 at:\n",
        "[a,b] = [0.2341, -0.0629]"
       ]
      },
      {
       "output_type": "stream",
       "stream": "stdout",
       "text": [
        "\n",
        "rejected local minima of -48.0164 at:\n",
        "[a,b] = [0.2180, -0.0147]"
       ]
      },
      {
       "output_type": "stream",
       "stream": "stdout",
       "text": [
        "\n",
        "rejected local minima of -48.0164 at:\n",
        "[a,b] = [0.2290, -0.0493]"
       ]
      },
      {
       "output_type": "stream",
       "stream": "stdout",
       "text": [
        "\n",
        "rejected local minima of -48.0164 at:\n",
        "[a,b] = [0.1427, 0.1732]"
       ]
      },
      {
       "output_type": "stream",
       "stream": "stdout",
       "text": [
        "\n",
        "rejected local minima of -48.0164 at:\n",
        "[a,b] = [0.1434, 0.1693]"
       ]
      },
      {
       "output_type": "stream",
       "stream": "stdout",
       "text": [
        "\n",
        "rejected local minima of -48.0164 at:\n",
        "[a,b] = [0.2129, 0.0048]"
       ]
      },
      {
       "output_type": "stream",
       "stream": "stdout",
       "text": [
        "\n",
        "rejected local minima of -48.0164 at:\n",
        "[a,b] = [0.2283, -0.0472]"
       ]
      },
      {
       "output_type": "stream",
       "stream": "stdout",
       "text": [
        "\n",
        "rejected local minima of -48.0164 at:\n",
        "[a,b] = [0.1344, 0.1996]"
       ]
      },
      {
       "output_type": "stream",
       "stream": "stdout",
       "text": [
        "\n",
        "agreeing local minima of -48.0173 at:\n",
        "[a,b] = [-0.0378, 0.6653]"
       ]
      },
      {
       "output_type": "stream",
       "stream": "stdout",
       "text": [
        "\n",
        " \n",
        "Cutout 50\n",
        "first local minima of -31.6379 at:\n",
        "[a,b] = [-0.1938, -0.3417]"
       ]
      },
      {
       "output_type": "stream",
       "stream": "stdout",
       "text": [
        "\n",
        "agreeing local minima of -31.6379 at:\n",
        "[a,b] = [-0.1938, -0.3417]"
       ]
      },
      {
       "output_type": "stream",
       "stream": "stdout",
       "text": [
        "\n",
        "agreeing local minima of -31.6379 at:\n",
        "[a,b] = [-0.1938, -0.3417]"
       ]
      },
      {
       "output_type": "stream",
       "stream": "stdout",
       "text": [
        "\n",
        "agreeing local minima of -31.6379 at:\n",
        "[a,b] = [-0.1937, -0.3417]"
       ]
      },
      {
       "output_type": "stream",
       "stream": "stdout",
       "text": [
        "\n",
        "agreeing local minima of -31.6379 at:\n",
        "[a,b] = [-0.1937, -0.3417]"
       ]
      },
      {
       "output_type": "stream",
       "stream": "stdout",
       "text": [
        "\n",
        " \n",
        "Cutout 51\n",
        "first local minima of -48.0070 at:\n",
        "[a,b] = [0.1436, -0.2564]"
       ]
      },
      {
       "output_type": "stream",
       "stream": "stdout",
       "text": [
        "\n",
        "agreeing local minima of -48.0070 at:\n",
        "[a,b] = [0.1434, -0.2565]"
       ]
      },
      {
       "output_type": "stream",
       "stream": "stdout",
       "text": [
        "\n",
        "agreeing local minima of -48.0070 at:\n",
        "[a,b] = [0.1434, -0.2565]"
       ]
      },
      {
       "output_type": "stream",
       "stream": "stdout",
       "text": [
        "\n",
        "agreeing local minima of -48.0070 at:\n",
        "[a,b] = [0.1434, -0.2565]"
       ]
      },
      {
       "output_type": "stream",
       "stream": "stdout",
       "text": [
        "\n",
        "agreeing local minima of -48.0070 at:\n",
        "[a,b] = [0.1436, -0.2565]"
       ]
      },
      {
       "output_type": "stream",
       "stream": "stdout",
       "text": [
        "\n",
        " \n",
        "Cutout 52\n",
        "first local minima of -48.3487 at:\n",
        "[a,b] = [1.1380, 0.7996]"
       ]
      },
      {
       "output_type": "stream",
       "stream": "stdout",
       "text": [
        "\n",
        "rejected local minima of -48.3485 at:\n",
        "[a,b] = [-0.1875, -2.1001]"
       ]
      },
      {
       "output_type": "stream",
       "stream": "stdout",
       "text": [
        "\n",
        "rejected local minima of -48.3469 at:\n",
        "[a,b] = [0.3124, -1.0537]"
       ]
      },
      {
       "output_type": "stream",
       "stream": "stdout",
       "text": [
        "\n",
        "rejected local minima of -48.3469 at:\n",
        "[a,b] = [1.3014, -2.4649]"
       ]
      },
      {
       "output_type": "stream",
       "stream": "stdout",
       "text": [
        "\n",
        "rejected local minima of -48.3469 at:\n",
        "[a,b] = [2.1086, -1.2944]"
       ]
      },
      {
       "output_type": "stream",
       "stream": "stdout",
       "text": [
        "\n",
        "rejected local minima of -48.3485 at:\n",
        "[a,b] = [2.4854, -1.1977]"
       ]
      },
      {
       "output_type": "stream",
       "stream": "stdout",
       "text": [
        "\n",
        "rejected local minima of -48.3469 at:\n",
        "[a,b] = [1.4495, -0.4970]"
       ]
      },
      {
       "output_type": "stream",
       "stream": "stdout",
       "text": [
        "\n",
        "rejected local minima of -48.3469 at:\n",
        "[a,b] = [1.8431, -0.3415]"
       ]
      },
      {
       "output_type": "stream",
       "stream": "stdout",
       "text": [
        "\n",
        "rejected local minima of -48.3469 at:\n",
        "[a,b] = [1.9857, -1.6422]"
       ]
      },
      {
       "output_type": "stream",
       "stream": "stdout",
       "text": [
        "\n",
        "rejected local minima of -48.3469 at:\n",
        "[a,b] = [0.9599, -0.2269]"
       ]
      },
      {
       "output_type": "stream",
       "stream": "stdout",
       "text": [
        "\n",
        "rejected local minima of -48.3469 at:\n",
        "[a,b] = [0.5628, -0.1320]"
       ]
      },
      {
       "output_type": "stream",
       "stream": "stdout",
       "text": [
        "\n",
        "rejected local minima of -48.3469 at:\n",
        "[a,b] = [-0.0372, -0.6879]"
       ]
      },
      {
       "output_type": "stream",
       "stream": "stdout",
       "text": [
        "\n",
        "rejected local minima of -48.3469 at:\n",
        "[a,b] = [-0.8499, 0.1184]"
       ]
      },
      {
       "output_type": "stream",
       "stream": "stdout",
       "text": [
        "\n",
        "rejected local minima of -48.3469 at:\n",
        "[a,b] = [-1.8404, 0.8509]"
       ]
      },
      {
       "output_type": "stream",
       "stream": "stdout",
       "text": [
        "\n",
        "new local minima of -48.3519 at:\n",
        "[a,b] = [-2.5219, 1.2429]"
       ]
      },
      {
       "output_type": "stream",
       "stream": "stdout",
       "text": [
        "\n",
        "rejected local minima of -48.3506 at:\n",
        "[a,b] = [-1.9840, 1.6982]"
       ]
      },
      {
       "output_type": "stream",
       "stream": "stdout",
       "text": [
        "\n",
        "rejected local minima of -48.3485 at:\n",
        "[a,b] = [-1.6473, -0.5246]"
       ]
      },
      {
       "output_type": "stream",
       "stream": "stdout",
       "text": [
        "\n",
        "rejected local minima of -48.3469 at:\n",
        "[a,b] = [-0.6492, 0.5525]"
       ]
      },
      {
       "output_type": "stream",
       "stream": "stdout",
       "text": [
        "\n",
        "rejected local minima of -48.3506 at:\n",
        "[a,b] = [-1.9841, 1.6981]"
       ]
      },
      {
       "output_type": "stream",
       "stream": "stdout",
       "text": [
        "\n",
        "rejected local minima of -48.3506 at:\n",
        "[a,b] = [-1.9842, 1.6981]"
       ]
      },
      {
       "output_type": "stream",
       "stream": "stdout",
       "text": [
        "\n",
        "rejected local minima of -48.3469 at:\n",
        "[a,b] = [-0.7438, 0.7465]"
       ]
      },
      {
       "output_type": "stream",
       "stream": "stdout",
       "text": [
        "\n",
        "rejected local minima of -48.3469 at:\n",
        "[a,b] = [0.4168, 0.2013]"
       ]
      },
      {
       "output_type": "stream",
       "stream": "stdout",
       "text": [
        "\n",
        "rejected local minima of -48.3469 at:\n",
        "[a,b] = [-0.6149, -1.2687]"
       ]
      },
      {
       "output_type": "stream",
       "stream": "stdout",
       "text": [
        "\n",
        "rejected local minima of -48.3469 at:\n",
        "[a,b] = [0.3562, -1.5584]"
       ]
      },
      {
       "output_type": "stream",
       "stream": "stdout",
       "text": [
        "\n",
        "rejected local minima of -48.3469 at:\n",
        "[a,b] = [0.7121, -2.4624]"
       ]
      },
      {
       "output_type": "stream",
       "stream": "stdout",
       "text": [
        "\n",
        "rejected local minima of -48.3506 at:\n",
        "[a,b] = [1.3961, -3.3531]"
       ]
      },
      {
       "output_type": "stream",
       "stream": "stdout",
       "text": [
        "\n",
        "rejected local minima of -48.3506 at:\n",
        "[a,b] = [1.3960, -3.3531]"
       ]
      },
      {
       "output_type": "stream",
       "stream": "stdout",
       "text": [
        "\n",
        "rejected local minima of -48.3498 at:\n",
        "[a,b] = [2.4535, -3.2464]"
       ]
      },
      {
       "output_type": "stream",
       "stream": "stdout",
       "text": [
        "\n",
        "rejected local minima of -48.3469 at:\n",
        "[a,b] = [2.4074, -2.1300]"
       ]
      },
      {
       "output_type": "stream",
       "stream": "stdout",
       "text": [
        "\n",
        "rejected local minima of -48.3469 at:\n",
        "[a,b] = [1.4964, -2.3071]"
       ]
      },
      {
       "output_type": "stream",
       "stream": "stdout",
       "text": [
        "\n",
        "new local minima of -48.3521 at:\n",
        "[a,b] = [2.8611, -3.0384]"
       ]
      },
      {
       "output_type": "stream",
       "stream": "stdout",
       "text": [
        "\n",
        "agreeing local minima of -48.3521 at:\n",
        "[a,b] = [2.8613, -3.0382]"
       ]
      },
      {
       "output_type": "stream",
       "stream": "stdout",
       "text": [
        "\n",
        "rejected local minima of -48.3469 at:\n",
        "[a,b] = [2.2389, -2.3190]"
       ]
      },
      {
       "output_type": "stream",
       "stream": "stdout",
       "text": [
        "\n",
        "agreeing local minima of -48.3521 at:\n",
        "[a,b] = [2.8611, -3.0384]"
       ]
      },
      {
       "output_type": "stream",
       "stream": "stdout",
       "text": [
        "\n",
        "agreeing local minima of -48.3521 at:\n",
        "[a,b] = [2.8613, -3.0382]"
       ]
      },
      {
       "output_type": "stream",
       "stream": "stdout",
       "text": [
        "\n",
        "rejected local minima of -48.3498 at:\n",
        "[a,b] = [2.4532, -3.2465]"
       ]
      },
      {
       "output_type": "stream",
       "stream": "stdout",
       "text": [
        "\n",
        "rejected local minima of -48.3469 at:\n",
        "[a,b] = [2.2893, -2.6238]"
       ]
      },
      {
       "output_type": "stream",
       "stream": "stdout",
       "text": [
        "\n",
        "rejected local minima of -48.3469 at:\n",
        "[a,b] = [1.7740, -1.8682]"
       ]
      },
      {
       "output_type": "stream",
       "stream": "stdout",
       "text": [
        "\n",
        "rejected local minima of -48.3485 at:\n",
        "[a,b] = [2.4760, -1.1579]"
       ]
      },
      {
       "output_type": "stream",
       "stream": "stdout",
       "text": [
        "\n",
        "rejected local minima of -48.3469 at:\n",
        "[a,b] = [1.6205, -2.5898]"
       ]
      },
      {
       "output_type": "stream",
       "stream": "stdout",
       "text": [
        "\n",
        "rejected local minima of -48.3469 at:\n",
        "[a,b] = [0.7653, -2.0957]"
       ]
      },
      {
       "output_type": "stream",
       "stream": "stdout",
       "text": [
        "\n",
        "rejected local minima of -48.3469 at:\n",
        "[a,b] = [1.8735, -1.2715]"
       ]
      },
      {
       "output_type": "stream",
       "stream": "stdout",
       "text": [
        "\n",
        "rejected local minima of -48.3469 at:\n",
        "[a,b] = [1.8543, 0.0075]"
       ]
      },
      {
       "output_type": "stream",
       "stream": "stdout",
       "text": [
        "\n",
        "rejected local minima of -48.3469 at:\n",
        "[a,b] = [1.5846, -0.2910]"
       ]
      },
      {
       "output_type": "stream",
       "stream": "stdout",
       "text": [
        "\n",
        "rejected local minima of -48.3512 at:\n",
        "[a,b] = [2.1095, 0.3230]"
       ]
      },
      {
       "output_type": "stream",
       "stream": "stdout",
       "text": [
        "\n",
        "rejected local minima of -48.3512 at:\n",
        "[a,b] = [2.1095, 0.3230]"
       ]
      },
      {
       "output_type": "stream",
       "stream": "stdout",
       "text": [
        "\n",
        "rejected local minima of -48.3485 at:\n",
        "[a,b] = [2.3499, -0.6273]"
       ]
      },
      {
       "output_type": "stream",
       "stream": "stdout",
       "text": [
        "\n",
        "rejected local minima of -48.3469 at:\n",
        "[a,b] = [1.9838, -0.6948]"
       ]
      },
      {
       "output_type": "stream",
       "stream": "stdout",
       "text": [
        "\n",
        "rejected local minima of -48.3469 at:\n",
        "[a,b] = [0.5747, -0.8745]"
       ]
      },
      {
       "output_type": "stream",
       "stream": "stdout",
       "text": [
        "\n",
        "rejected local minima of -48.3469 at:\n",
        "[a,b] = [-0.4900, -1.0819]"
       ]
      },
      {
       "output_type": "stream",
       "stream": "stdout",
       "text": [
        "\n",
        "rejected local minima of -48.3469 at:\n",
        "[a,b] = [0.7567, -0.5890]"
       ]
      },
      {
       "output_type": "stream",
       "stream": "stdout",
       "text": [
        "\n",
        "rejected local minima of -48.3469 at:\n",
        "[a,b] = [1.2488, 0.0789]"
       ]
      },
      {
       "output_type": "stream",
       "stream": "stdout",
       "text": [
        "\n",
        "rejected local minima of -48.3485 at:\n",
        "[a,b] = [2.3923, -0.8061]"
       ]
      },
      {
       "output_type": "stream",
       "stream": "stdout",
       "text": [
        "\n",
        "rejected local minima of -48.3469 at:\n",
        "[a,b] = [0.9380, 0.1861]"
       ]
      },
      {
       "output_type": "stream",
       "stream": "stdout",
       "text": [
        "\n",
        "rejected local minima of -48.3512 at:\n",
        "[a,b] = [2.1095, 0.3229]"
       ]
      },
      {
       "output_type": "stream",
       "stream": "stdout",
       "text": [
        "\n",
        "rejected local minima of -48.3469 at:\n",
        "[a,b] = [1.9749, -0.3561]"
       ]
      },
      {
       "output_type": "stream",
       "stream": "stdout",
       "text": [
        "\n",
        "rejected local minima of -48.3485 at:\n",
        "[a,b] = [2.6012, -1.6834]"
       ]
      },
      {
       "output_type": "stream",
       "stream": "stdout",
       "text": [
        "\n",
        "agreeing local minima of -48.3521 at:\n",
        "[a,b] = [2.8612, -3.0383]"
       ]
      },
      {
       "output_type": "stream",
       "stream": "stdout",
       "text": [
        "\n",
        " \n",
        "Cutout 53\n",
        "first local minima of -48.1316 at:\n",
        "[a,b] = [1.0645, 0.9871]"
       ]
      },
      {
       "output_type": "stream",
       "stream": "stdout",
       "text": [
        "\n",
        "agreeing local minima of -48.1316 at:\n",
        "[a,b] = [1.0645, 0.9873]"
       ]
      },
      {
       "output_type": "stream",
       "stream": "stdout",
       "text": [
        "\n",
        "rejected local minima of -48.1282 at:\n",
        "[a,b] = [0.4778, 0.4806]"
       ]
      },
      {
       "output_type": "stream",
       "stream": "stdout",
       "text": [
        "\n",
        "new local minima of -48.1325 at:\n",
        "[a,b] = [-0.2870, 1.4086]"
       ]
      },
      {
       "output_type": "stream",
       "stream": "stdout",
       "text": [
        "\n",
        "rejected local minima of -48.1320 at:\n",
        "[a,b] = [-0.3232, -1.4107]"
       ]
      },
      {
       "output_type": "stream",
       "stream": "stdout",
       "text": [
        "\n",
        "rejected local minima of -48.1320 at:\n",
        "[a,b] = [-0.3227, -1.4104]"
       ]
      },
      {
       "output_type": "stream",
       "stream": "stdout",
       "text": [
        "\n",
        "rejected local minima of -48.1320 at:\n",
        "[a,b] = [-0.3235, -1.4111]"
       ]
      },
      {
       "output_type": "stream",
       "stream": "stdout",
       "text": [
        "\n",
        "rejected local minima of -48.1282 at:\n",
        "[a,b] = [0.0126, -0.1057]"
       ]
      },
      {
       "output_type": "stream",
       "stream": "stdout",
       "text": [
        "\n",
        "rejected local minima of -48.1316 at:\n",
        "[a,b] = [1.0646, 0.9871]"
       ]
      },
      {
       "output_type": "stream",
       "stream": "stdout",
       "text": [
        "\n",
        "rejected local minima of -48.1282 at:\n",
        "[a,b] = [-0.1373, -0.0834]"
       ]
      },
      {
       "output_type": "stream",
       "stream": "stdout",
       "text": [
        "\n",
        "rejected local minima of -48.1310 at:\n",
        "[a,b] = [-1.1723, -0.7790]"
       ]
      },
      {
       "output_type": "stream",
       "stream": "stdout",
       "text": [
        "\n",
        "rejected local minima of -48.1320 at:\n",
        "[a,b] = [-0.3229, -1.4106]"
       ]
      },
      {
       "output_type": "stream",
       "stream": "stdout",
       "text": [
        "\n",
        "rejected local minima of -48.1320 at:\n",
        "[a,b] = [-0.3230, -1.4106]"
       ]
      },
      {
       "output_type": "stream",
       "stream": "stdout",
       "text": [
        "\n",
        "rejected local minima of -48.1282 at:\n",
        "[a,b] = [-0.2790, 0.3263]"
       ]
      },
      {
       "output_type": "stream",
       "stream": "stdout",
       "text": [
        "\n",
        "rejected local minima of -48.1282 at:\n",
        "[a,b] = [-0.1782, 0.7672]"
       ]
      },
      {
       "output_type": "stream",
       "stream": "stdout",
       "text": [
        "\n",
        "rejected local minima of -48.1310 at:\n",
        "[a,b] = [-1.1723, -0.7789]"
       ]
      },
      {
       "output_type": "stream",
       "stream": "stdout",
       "text": [
        "\n",
        "rejected local minima of -48.1320 at:\n",
        "[a,b] = [-0.3229, -1.4107]"
       ]
      },
      {
       "output_type": "stream",
       "stream": "stdout",
       "text": [
        "\n",
        "rejected local minima of -48.1310 at:\n",
        "[a,b] = [-1.1722, -0.7790]"
       ]
      },
      {
       "output_type": "stream",
       "stream": "stdout",
       "text": [
        "\n",
        "rejected local minima of -48.1282 at:\n",
        "[a,b] = [-0.5051, -0.6389]"
       ]
      },
      {
       "output_type": "stream",
       "stream": "stdout",
       "text": [
        "\n",
        "rejected local minima of -48.1282 at:\n",
        "[a,b] = [0.0221, 0.0202]"
       ]
      },
      {
       "output_type": "stream",
       "stream": "stdout",
       "text": [
        "\n",
        "agreeing local minima of -48.1325 at:\n",
        "[a,b] = [-0.2870, 1.4086]"
       ]
      },
      {
       "output_type": "stream",
       "stream": "stdout",
       "text": [
        "\n",
        "rejected local minima of -48.1282 at:\n",
        "[a,b] = [0.2042, 0.3349]"
       ]
      },
      {
       "output_type": "stream",
       "stream": "stdout",
       "text": [
        "\n",
        "rejected local minima of -48.1320 at:\n",
        "[a,b] = [-0.3234, -1.4110]"
       ]
      },
      {
       "output_type": "stream",
       "stream": "stdout",
       "text": [
        "\n",
        "agreeing local minima of -48.1325 at:\n",
        "[a,b] = [-0.2923, 1.4050]"
       ]
      },
      {
       "output_type": "stream",
       "stream": "stdout",
       "text": [
        "\n",
        "agreeing local minima of -48.1325 at:\n",
        "[a,b] = [-0.2870, 1.4086]"
       ]
      },
      {
       "output_type": "stream",
       "stream": "stdout",
       "text": [
        "\n",
        "agreeing local minima of -48.1325 at:\n",
        "[a,b] = [-0.2872, 1.4086]"
       ]
      },
      {
       "output_type": "stream",
       "stream": "stdout",
       "text": [
        "\n",
        " \n",
        "Cutout 54\n",
        "first local minima of -47.6690 at:\n",
        "[a,b] = [-0.6674, 0.5806]"
       ]
      },
      {
       "output_type": "stream",
       "stream": "stdout",
       "text": [
        "\n",
        "agreeing local minima of -47.6690 at:\n",
        "[a,b] = [-0.6674, 0.5806]"
       ]
      },
      {
       "output_type": "stream",
       "stream": "stdout",
       "text": [
        "\n",
        "agreeing local minima of -47.6690 at:\n",
        "[a,b] = [-0.6674, 0.5806]"
       ]
      },
      {
       "output_type": "stream",
       "stream": "stdout",
       "text": [
        "\n",
        "agreeing local minima of -47.6690 at:\n",
        "[a,b] = [-0.6674, 0.5806]"
       ]
      },
      {
       "output_type": "stream",
       "stream": "stdout",
       "text": [
        "\n",
        "agreeing local minima of -47.6690 at:\n",
        "[a,b] = [-0.6674, 0.5806]"
       ]
      },
      {
       "output_type": "stream",
       "stream": "stdout",
       "text": [
        "\n",
        " \n",
        "Cutout 55\n",
        "first local minima of -47.9982 at:\n",
        "[a,b] = [0.3100, -0.4025]"
       ]
      },
      {
       "output_type": "stream",
       "stream": "stdout",
       "text": [
        "\n",
        "agreeing local minima of -47.9982 at:\n",
        "[a,b] = [0.3099, -0.4023]"
       ]
      },
      {
       "output_type": "stream",
       "stream": "stdout",
       "text": [
        "\n",
        "agreeing local minima of -47.9982 at:\n",
        "[a,b] = [0.3099, -0.4024]"
       ]
      },
      {
       "output_type": "stream",
       "stream": "stdout",
       "text": [
        "\n",
        "agreeing local minima of -47.9982 at:\n",
        "[a,b] = [0.3099, -0.4024]"
       ]
      },
      {
       "output_type": "stream",
       "stream": "stdout",
       "text": [
        "\n",
        "agreeing local minima of -47.9982 at:\n",
        "[a,b] = [0.3099, -0.4023]"
       ]
      },
      {
       "output_type": "stream",
       "stream": "stdout",
       "text": [
        "\n",
        " \n",
        "Cutout 56\n",
        "first local minima of -47.9842 at:\n",
        "[a,b] = [0.2495, 0.1737]"
       ]
      },
      {
       "output_type": "stream",
       "stream": "stdout",
       "text": [
        "\n",
        "agreeing local minima of -47.9842 at:\n",
        "[a,b] = [0.2494, 0.1736]"
       ]
      },
      {
       "output_type": "stream",
       "stream": "stdout",
       "text": [
        "\n",
        "agreeing local minima of -47.9842 at:\n",
        "[a,b] = [0.2494, 0.1737]"
       ]
      },
      {
       "output_type": "stream",
       "stream": "stdout",
       "text": [
        "\n",
        "agreeing local minima of -47.9842 at:\n",
        "[a,b] = [0.2494, 0.1736]"
       ]
      },
      {
       "output_type": "stream",
       "stream": "stdout",
       "text": [
        "\n",
        "agreeing local minima of -47.9842 at:\n",
        "[a,b] = [0.2494, 0.1736]"
       ]
      },
      {
       "output_type": "stream",
       "stream": "stdout",
       "text": [
        "\n",
        " \n",
        "Cutout 57\n",
        "first local minima of -26.1737 at:\n",
        "[a,b] = [-0.2089, -0.1772]"
       ]
      },
      {
       "output_type": "stream",
       "stream": "stdout",
       "text": [
        "\n",
        "agreeing local minima of -26.1737 at:\n",
        "[a,b] = [-0.2089, -0.1772]"
       ]
      },
      {
       "output_type": "stream",
       "stream": "stdout",
       "text": [
        "\n",
        "agreeing local minima of -26.1737 at:\n",
        "[a,b] = [-0.2089, -0.1772]"
       ]
      },
      {
       "output_type": "stream",
       "stream": "stdout",
       "text": [
        "\n",
        "agreeing local minima of -26.1737 at:\n",
        "[a,b] = [-0.2089, -0.1772]"
       ]
      },
      {
       "output_type": "stream",
       "stream": "stdout",
       "text": [
        "\n",
        "agreeing local minima of -26.1737 at:\n",
        "[a,b] = [-0.2089, -0.1772]"
       ]
      },
      {
       "output_type": "stream",
       "stream": "stdout",
       "text": [
        "\n",
        " \n",
        "Cutout 58\n",
        "first local minima of -43.9987 at:\n",
        "[a,b] = [-0.1074, 0.1883]"
       ]
      },
      {
       "output_type": "stream",
       "stream": "stdout",
       "text": [
        "\n",
        "agreeing local minima of -43.9987 at:\n",
        "[a,b] = [-0.1074, 0.1883]"
       ]
      },
      {
       "output_type": "stream",
       "stream": "stdout",
       "text": [
        "\n",
        "agreeing local minima of -43.9987 at:\n",
        "[a,b] = [-0.1074, 0.1883]"
       ]
      },
      {
       "output_type": "stream",
       "stream": "stdout",
       "text": [
        "\n",
        "agreeing local minima of -43.9987 at:\n",
        "[a,b] = [-0.1074, 0.1883]"
       ]
      },
      {
       "output_type": "stream",
       "stream": "stdout",
       "text": [
        "\n",
        "agreeing local minima of -43.9987 at:\n",
        "[a,b] = [-0.1074, 0.1883]"
       ]
      },
      {
       "output_type": "stream",
       "stream": "stdout",
       "text": [
        "\n",
        " \n",
        "Cutout 59\n",
        "first local minima of -47.5962 at:\n",
        "[a,b] = [-0.0405, -0.0775]"
       ]
      },
      {
       "output_type": "stream",
       "stream": "stdout",
       "text": [
        "\n",
        "agreeing local minima of -47.5962 at:\n",
        "[a,b] = [-0.0405, -0.0775]"
       ]
      },
      {
       "output_type": "stream",
       "stream": "stdout",
       "text": [
        "\n",
        "agreeing local minima of -47.5962 at:\n",
        "[a,b] = [-0.0405, -0.0775]"
       ]
      },
      {
       "output_type": "stream",
       "stream": "stdout",
       "text": [
        "\n",
        "agreeing local minima of -47.5962 at:\n",
        "[a,b] = [-0.0405, -0.0775]"
       ]
      },
      {
       "output_type": "stream",
       "stream": "stdout",
       "text": [
        "\n",
        "agreeing local minima of -47.5962 at:\n",
        "[a,b] = [-0.0405, -0.0775]"
       ]
      },
      {
       "output_type": "stream",
       "stream": "stdout",
       "text": [
        "\n",
        " \n",
        "Cutout 60\n",
        "first local minima of -47.5098 at:\n",
        "[a,b] = [-0.0471, -0.4784]"
       ]
      },
      {
       "output_type": "stream",
       "stream": "stdout",
       "text": [
        "\n",
        "agreeing local minima of -47.5098 at:\n",
        "[a,b] = [-0.0471, -0.4784]"
       ]
      },
      {
       "output_type": "stream",
       "stream": "stdout",
       "text": [
        "\n",
        "agreeing local minima of -47.5098 at:\n",
        "[a,b] = [-0.0471, -0.4784]"
       ]
      },
      {
       "output_type": "stream",
       "stream": "stdout",
       "text": [
        "\n",
        "agreeing local minima of -47.5098 at:\n",
        "[a,b] = [-0.0471, -0.4784]"
       ]
      },
      {
       "output_type": "stream",
       "stream": "stdout",
       "text": [
        "\n",
        "agreeing local minima of -47.5098 at:\n",
        "[a,b] = [-0.0471, -0.4784]"
       ]
      },
      {
       "output_type": "stream",
       "stream": "stdout",
       "text": [
        "\n",
        " \n",
        "Cutout 61\n",
        "first local minima of -47.3389 at:\n",
        "[a,b] = [0.0131, 0.3438]"
       ]
      },
      {
       "output_type": "stream",
       "stream": "stdout",
       "text": [
        "\n",
        "agreeing local minima of -47.3389 at:\n",
        "[a,b] = [0.0131, 0.3438]"
       ]
      },
      {
       "output_type": "stream",
       "stream": "stdout",
       "text": [
        "\n",
        "agreeing local minima of -47.3389 at:\n",
        "[a,b] = [0.0131, 0.3438]"
       ]
      },
      {
       "output_type": "stream",
       "stream": "stdout",
       "text": [
        "\n",
        "agreeing local minima of -47.3389 at:\n",
        "[a,b] = [0.0131, 0.3438]"
       ]
      },
      {
       "output_type": "stream",
       "stream": "stdout",
       "text": [
        "\n",
        "agreeing local minima of -47.3389 at:\n",
        "[a,b] = [0.0131, 0.3438]"
       ]
      },
      {
       "output_type": "stream",
       "stream": "stdout",
       "text": [
        "\n",
        " \n",
        "Cutout 62\n",
        "first local minima of -48.0439 at:\n",
        "[a,b] = [-0.8354, 0.4473]"
       ]
      },
      {
       "output_type": "stream",
       "stream": "stdout",
       "text": [
        "\n",
        "rejected local minima of -48.0429 at:\n",
        "[a,b] = [0.3684, -0.5155]"
       ]
      },
      {
       "output_type": "stream",
       "stream": "stdout",
       "text": [
        "\n",
        "rejected local minima of -48.0435 at:\n",
        "[a,b] = [0.1273, 0.9146]"
       ]
      },
      {
       "output_type": "stream",
       "stream": "stdout",
       "text": [
        "\n",
        "rejected local minima of -48.0435 at:\n",
        "[a,b] = [0.1271, 0.9146]"
       ]
      },
      {
       "output_type": "stream",
       "stream": "stdout",
       "text": [
        "\n",
        "rejected local minima of -48.0381 at:\n",
        "[a,b] = [-0.2326, 0.4357]"
       ]
      },
      {
       "output_type": "stream",
       "stream": "stdout",
       "text": [
        "\n",
        "rejected local minima of -48.0429 at:\n",
        "[a,b] = [0.3685, -0.5152]"
       ]
      },
      {
       "output_type": "stream",
       "stream": "stdout",
       "text": [
        "\n",
        "rejected local minima of -48.0429 at:\n",
        "[a,b] = [0.3685, -0.5156]"
       ]
      },
      {
       "output_type": "stream",
       "stream": "stdout",
       "text": [
        "\n",
        "agreeing local minima of -48.0439 at:\n",
        "[a,b] = [-0.8354, 0.4473]"
       ]
      },
      {
       "output_type": "stream",
       "stream": "stdout",
       "text": [
        "\n",
        "agreeing local minima of -48.0439 at:\n",
        "[a,b] = [-0.8354, 0.4473]"
       ]
      },
      {
       "output_type": "stream",
       "stream": "stdout",
       "text": [
        "\n",
        "rejected local minima of -48.0435 at:\n",
        "[a,b] = [0.1274, 0.9144]"
       ]
      },
      {
       "output_type": "stream",
       "stream": "stdout",
       "text": [
        "\n",
        "agreeing local minima of -48.0439 at:\n",
        "[a,b] = [-0.8356, 0.4471]"
       ]
      },
      {
       "output_type": "stream",
       "stream": "stdout",
       "text": [
        "\n",
        "rejected local minima of -48.0416 at:\n",
        "[a,b] = [-0.3519, 0.8466]"
       ]
      },
      {
       "output_type": "stream",
       "stream": "stdout",
       "text": [
        "\n",
        "rejected local minima of -48.0381 at:\n",
        "[a,b] = [-0.1949, 0.3355]"
       ]
      },
      {
       "output_type": "stream",
       "stream": "stdout",
       "text": [
        "\n",
        "agreeing local minima of -48.0439 at:\n",
        "[a,b] = [-0.8354, 0.4473]"
       ]
      },
      {
       "output_type": "stream",
       "stream": "stdout",
       "text": [
        "\n",
        " \n",
        "Cutout 63\n",
        "first local minima of -31.6379 at:\n",
        "[a,b] = [-0.1937, -0.3417]"
       ]
      },
      {
       "output_type": "stream",
       "stream": "stdout",
       "text": [
        "\n",
        "agreeing local minima of -31.6379 at:\n",
        "[a,b] = [-0.1938, -0.3417]"
       ]
      },
      {
       "output_type": "stream",
       "stream": "stdout",
       "text": [
        "\n",
        "agreeing local minima of -31.6379 at:\n",
        "[a,b] = [-0.1937, -0.3417]"
       ]
      },
      {
       "output_type": "stream",
       "stream": "stdout",
       "text": [
        "\n",
        "agreeing local minima of -31.6379 at:\n",
        "[a,b] = [-0.1937, -0.3417]"
       ]
      },
      {
       "output_type": "stream",
       "stream": "stdout",
       "text": [
        "\n",
        "agreeing local minima of -31.6379 at:\n",
        "[a,b] = [-0.1937, -0.3417]"
       ]
      },
      {
       "output_type": "stream",
       "stream": "stdout",
       "text": [
        "\n",
        " \n",
        "Cutout 64\n",
        "first local minima of -47.6690 at:\n",
        "[a,b] = [-0.6674, 0.5806]"
       ]
      },
      {
       "output_type": "stream",
       "stream": "stdout",
       "text": [
        "\n",
        "agreeing local minima of -47.6690 at:\n",
        "[a,b] = [-0.6674, 0.5806]"
       ]
      },
      {
       "output_type": "stream",
       "stream": "stdout",
       "text": [
        "\n",
        "agreeing local minima of -47.6690 at:\n",
        "[a,b] = [-0.6674, 0.5806]"
       ]
      },
      {
       "output_type": "stream",
       "stream": "stdout",
       "text": [
        "\n",
        "agreeing local minima of -47.6690 at:\n",
        "[a,b] = [-0.6674, 0.5806]"
       ]
      },
      {
       "output_type": "stream",
       "stream": "stdout",
       "text": [
        "\n",
        "agreeing local minima of -47.6690 at:\n",
        "[a,b] = [-0.6674, 0.5806]"
       ]
      },
      {
       "output_type": "stream",
       "stream": "stdout",
       "text": [
        "\n",
        " \n",
        "Cutout 65\n",
        "first local minima of -47.9982 at:\n",
        "[a,b] = [0.3099, -0.4023]"
       ]
      },
      {
       "output_type": "stream",
       "stream": "stdout",
       "text": [
        "\n",
        "agreeing local minima of -47.9982 at:\n",
        "[a,b] = [0.3098, -0.4023]"
       ]
      },
      {
       "output_type": "stream",
       "stream": "stdout",
       "text": [
        "\n",
        "agreeing local minima of -47.9982 at:\n",
        "[a,b] = [0.3099, -0.4024]"
       ]
      },
      {
       "output_type": "stream",
       "stream": "stdout",
       "text": [
        "\n",
        "agreeing local minima of -47.9982 at:\n",
        "[a,b] = [0.3099, -0.4023]"
       ]
      },
      {
       "output_type": "stream",
       "stream": "stdout",
       "text": [
        "\n",
        "agreeing local minima of -47.9982 at:\n",
        "[a,b] = [0.3099, -0.4023]"
       ]
      },
      {
       "output_type": "stream",
       "stream": "stdout",
       "text": [
        "\n",
        " \n",
        "Cutout 66\n",
        "first local minima of -45.0463 at:\n",
        "[a,b] = [-0.2233, 0.2181]"
       ]
      },
      {
       "output_type": "stream",
       "stream": "stdout",
       "text": [
        "\n",
        "agreeing local minima of -45.0463 at:\n",
        "[a,b] = [-0.2233, 0.2181]"
       ]
      },
      {
       "output_type": "stream",
       "stream": "stdout",
       "text": [
        "\n",
        "agreeing local minima of -45.0463 at:\n",
        "[a,b] = [-0.2233, 0.2181]"
       ]
      },
      {
       "output_type": "stream",
       "stream": "stdout",
       "text": [
        "\n",
        "agreeing local minima of -45.0463 at:\n",
        "[a,b] = [-0.2233, 0.2181]"
       ]
      },
      {
       "output_type": "stream",
       "stream": "stdout",
       "text": [
        "\n",
        "agreeing local minima of -45.0463 at:\n",
        "[a,b] = [-0.2233, 0.2181]"
       ]
      },
      {
       "output_type": "stream",
       "stream": "stdout",
       "text": [
        "\n",
        " \n",
        "Cutout 67\n",
        "first local minima of -47.9659 at:\n",
        "[a,b] = [-0.7937, 0.1775]"
       ]
      },
      {
       "output_type": "stream",
       "stream": "stdout",
       "text": [
        "\n",
        "agreeing local minima of -47.9659 at:\n",
        "[a,b] = [-0.7938, 0.1777]"
       ]
      },
      {
       "output_type": "stream",
       "stream": "stdout",
       "text": [
        "\n",
        "agreeing local minima of -47.9659 at:\n",
        "[a,b] = [-0.7938, 0.1776]"
       ]
      },
      {
       "output_type": "stream",
       "stream": "stdout",
       "text": [
        "\n",
        "agreeing local minima of -47.9659 at:\n",
        "[a,b] = [-0.7937, 0.1775]"
       ]
      },
      {
       "output_type": "stream",
       "stream": "stdout",
       "text": [
        "\n",
        "agreeing local minima of -47.9659 at:\n",
        "[a,b] = [-0.7938, 0.1776]"
       ]
      },
      {
       "output_type": "stream",
       "stream": "stdout",
       "text": [
        "\n",
        " \n",
        "Cutout 68\n",
        "first local minima of -47.9842 at:\n",
        "[a,b] = [0.3521, 0.2509]"
       ]
      },
      {
       "output_type": "stream",
       "stream": "stdout",
       "text": [
        "\n",
        "rejected local minima of -47.9840 at:\n",
        "[a,b] = [-0.1458, 0.2482]"
       ]
      },
      {
       "output_type": "stream",
       "stream": "stdout",
       "text": [
        "\n",
        "rejected local minima of -47.9840 at:\n",
        "[a,b] = [-0.1457, 0.2482]"
       ]
      },
      {
       "output_type": "stream",
       "stream": "stdout",
       "text": [
        "\n",
        "rejected local minima of -47.9840 at:\n",
        "[a,b] = [-0.1457, 0.2481]"
       ]
      },
      {
       "output_type": "stream",
       "stream": "stdout",
       "text": [
        "\n",
        "rejected local minima of -47.9840 at:\n",
        "[a,b] = [-0.1457, 0.2482]"
       ]
      },
      {
       "output_type": "stream",
       "stream": "stdout",
       "text": [
        "\n",
        "rejected local minima of -47.9840 at:\n",
        "[a,b] = [-0.1457, 0.2482]"
       ]
      },
      {
       "output_type": "stream",
       "stream": "stdout",
       "text": [
        "\n",
        "rejected local minima of -47.9840 at:\n",
        "[a,b] = [-0.1458, 0.2481]"
       ]
      },
      {
       "output_type": "stream",
       "stream": "stdout",
       "text": [
        "\n",
        "rejected local minima of -47.9840 at:\n",
        "[a,b] = [-0.1457, 0.2481]"
       ]
      },
      {
       "output_type": "stream",
       "stream": "stdout",
       "text": [
        "\n",
        "rejected local minima of -47.9840 at:\n",
        "[a,b] = [-0.1457, 0.2482]"
       ]
      },
      {
       "output_type": "stream",
       "stream": "stdout",
       "text": [
        "\n"
       ]
      },
      {
       "ename": "KeyboardInterrupt",
       "evalue": "",
       "output_type": "pyerr",
       "traceback": [
        "\u001b[1;31m---------------------------------------------------------------------------\u001b[0m\n\u001b[1;31mKeyboardInterrupt\u001b[0m                         Traceback (most recent call last)",
        "\u001b[1;32m<ipython-input-16-87a8298c2417>\u001b[0m in \u001b[0;36m<module>\u001b[1;34m()\u001b[0m\n\u001b[0;32m      4\u001b[0m \u001b[1;33m\u001b[0m\u001b[0m\n\u001b[0;32m      5\u001b[0m     \u001b[0mprint\u001b[0m\u001b[1;33m(\u001b[0m\u001b[1;34m\"Cutout %.f\"\u001b[0m \u001b[1;33m%\u001b[0m \u001b[1;33m(\u001b[0m\u001b[0mi\u001b[0m\u001b[1;33m)\u001b[0m\u001b[1;33m)\u001b[0m\u001b[1;33m\u001b[0m\u001b[0m\n\u001b[1;32m----> 6\u001b[1;33m     \u001b[0moutput\u001b[0m \u001b[1;33m=\u001b[0m \u001b[0moptimise_middle\u001b[0m\u001b[1;33m(\u001b[0m\u001b[0mcutout\u001b[0m\u001b[1;33m[\u001b[0m\u001b[0mi\u001b[0m\u001b[1;33m]\u001b[0m\u001b[1;33m,\u001b[0m\u001b[1;36m5\u001b[0m\u001b[1;33m)\u001b[0m\u001b[1;33m\u001b[0m\u001b[0m\n\u001b[0m\u001b[0;32m      7\u001b[0m     \u001b[0mmiddle_points\u001b[0m\u001b[1;33m[\u001b[0m\u001b[0mi\u001b[0m\u001b[1;33m,\u001b[0m\u001b[1;33m:\u001b[0m\u001b[1;33m]\u001b[0m \u001b[1;33m=\u001b[0m \u001b[0moutput\u001b[0m\u001b[1;33m.\u001b[0m\u001b[0mx\u001b[0m\u001b[1;33m\u001b[0m\u001b[0m\n\u001b[0;32m      8\u001b[0m     \u001b[0mprint\u001b[0m\u001b[1;33m(\u001b[0m\u001b[1;34m\" \"\u001b[0m\u001b[1;33m)\u001b[0m\u001b[1;33m\u001b[0m\u001b[0m\n",
        "\u001b[1;32m<ipython-input-11-c995d5c65849>\u001b[0m in \u001b[0;36moptimise_middle\u001b[1;34m(cutout, userNSuccess)\u001b[0m\n\u001b[0;32m     92\u001b[0m     output = basinhopping(weightedAreaOptimise,x0,\n\u001b[0;32m     93\u001b[0m                           \u001b[0mniter\u001b[0m\u001b[1;33m=\u001b[0m\u001b[1;36m1000\u001b[0m\u001b[1;33m,\u001b[0m\u001b[0mminimizer_kwargs\u001b[0m\u001b[1;33m=\u001b[0m\u001b[0mminimizer_kwargs\u001b[0m\u001b[1;33m,\u001b[0m\u001b[1;33m\u001b[0m\u001b[0m\n\u001b[1;32m---> 94\u001b[1;33m                           take_step=mytakestep, callback=print_fun)\n\u001b[0m\u001b[0;32m     95\u001b[0m \u001b[1;33m\u001b[0m\u001b[0m\n\u001b[0;32m     96\u001b[0m     \u001b[1;32mreturn\u001b[0m \u001b[0moutput\u001b[0m\u001b[1;33m\u001b[0m\u001b[0m\n",
        "\u001b[1;32mC:\\Users\\sbiggs\\AppData\\Local\\Continuum\\Anaconda3\\lib\\site-packages\\scipy\\optimize\\_basinhopping.py\u001b[0m in \u001b[0;36mbasinhopping\u001b[1;34m(func, x0, niter, T, stepsize, minimizer_kwargs, take_step, accept_test, callback, interval, disp, niter_success)\u001b[0m\n\u001b[0;32m    610\u001b[0m                \" successfully\"]\n\u001b[0;32m    611\u001b[0m     \u001b[1;32mfor\u001b[0m \u001b[0mi\u001b[0m \u001b[1;32min\u001b[0m \u001b[0mrange\u001b[0m\u001b[1;33m(\u001b[0m\u001b[0mniter\u001b[0m\u001b[1;33m)\u001b[0m\u001b[1;33m:\u001b[0m\u001b[1;33m\u001b[0m\u001b[0m\n\u001b[1;32m--> 612\u001b[1;33m         \u001b[0mnew_global_min\u001b[0m \u001b[1;33m=\u001b[0m \u001b[0mbh\u001b[0m\u001b[1;33m.\u001b[0m\u001b[0mone_cycle\u001b[0m\u001b[1;33m(\u001b[0m\u001b[1;33m)\u001b[0m\u001b[1;33m\u001b[0m\u001b[0m\n\u001b[0m\u001b[0;32m    613\u001b[0m \u001b[1;33m\u001b[0m\u001b[0m\n\u001b[0;32m    614\u001b[0m         \u001b[1;32mif\u001b[0m \u001b[0misinstance\u001b[0m\u001b[1;33m(\u001b[0m\u001b[0mcallback\u001b[0m\u001b[1;33m,\u001b[0m \u001b[0mcollections\u001b[0m\u001b[1;33m.\u001b[0m\u001b[0mCallable\u001b[0m\u001b[1;33m)\u001b[0m\u001b[1;33m:\u001b[0m\u001b[1;33m\u001b[0m\u001b[0m\n",
        "\u001b[1;32mC:\\Users\\sbiggs\\AppData\\Local\\Continuum\\Anaconda3\\lib\\site-packages\\scipy\\optimize\\_basinhopping.py\u001b[0m in \u001b[0;36mone_cycle\u001b[1;34m(self)\u001b[0m\n\u001b[0;32m    154\u001b[0m         \u001b[0mnew_global_min\u001b[0m \u001b[1;33m=\u001b[0m \u001b[1;32mFalse\u001b[0m\u001b[1;33m\u001b[0m\u001b[0m\n\u001b[0;32m    155\u001b[0m \u001b[1;33m\u001b[0m\u001b[0m\n\u001b[1;32m--> 156\u001b[1;33m         \u001b[0mxtrial\u001b[0m\u001b[1;33m,\u001b[0m \u001b[0menergy_trial\u001b[0m\u001b[1;33m,\u001b[0m \u001b[0maccept\u001b[0m \u001b[1;33m=\u001b[0m \u001b[0mself\u001b[0m\u001b[1;33m.\u001b[0m\u001b[0m_monte_carlo_step\u001b[0m\u001b[1;33m(\u001b[0m\u001b[1;33m)\u001b[0m\u001b[1;33m\u001b[0m\u001b[0m\n\u001b[0m\u001b[0;32m    157\u001b[0m \u001b[1;33m\u001b[0m\u001b[0m\n\u001b[0;32m    158\u001b[0m         \u001b[1;32mif\u001b[0m \u001b[0maccept\u001b[0m\u001b[1;33m:\u001b[0m\u001b[1;33m\u001b[0m\u001b[0m\n",
        "\u001b[1;32mC:\\Users\\sbiggs\\AppData\\Local\\Continuum\\Anaconda3\\lib\\site-packages\\scipy\\optimize\\_basinhopping.py\u001b[0m in \u001b[0;36m_monte_carlo_step\u001b[1;34m(self)\u001b[0m\n\u001b[0;32m    102\u001b[0m \u001b[1;33m\u001b[0m\u001b[0m\n\u001b[0;32m    103\u001b[0m         \u001b[1;31m# do a local minimization\u001b[0m\u001b[1;33m\u001b[0m\u001b[1;33m\u001b[0m\u001b[0m\n\u001b[1;32m--> 104\u001b[1;33m         \u001b[0mminres\u001b[0m \u001b[1;33m=\u001b[0m \u001b[0mself\u001b[0m\u001b[1;33m.\u001b[0m\u001b[0mminimizer\u001b[0m\u001b[1;33m(\u001b[0m\u001b[0mx_after_step\u001b[0m\u001b[1;33m)\u001b[0m\u001b[1;33m\u001b[0m\u001b[0m\n\u001b[0m\u001b[0;32m    105\u001b[0m         \u001b[0mx_after_quench\u001b[0m \u001b[1;33m=\u001b[0m \u001b[0mminres\u001b[0m\u001b[1;33m.\u001b[0m\u001b[0mx\u001b[0m\u001b[1;33m\u001b[0m\u001b[0m\n\u001b[0;32m    106\u001b[0m         \u001b[0menergy_after_quench\u001b[0m \u001b[1;33m=\u001b[0m \u001b[0mminres\u001b[0m\u001b[1;33m.\u001b[0m\u001b[0mfun\u001b[0m\u001b[1;33m\u001b[0m\u001b[0m\n",
        "\u001b[1;32mC:\\Users\\sbiggs\\AppData\\Local\\Continuum\\Anaconda3\\lib\\site-packages\\scipy\\optimize\\_basinhopping.py\u001b[0m in \u001b[0;36m__call__\u001b[1;34m(self, x0)\u001b[0m\n\u001b[0;32m    277\u001b[0m             \u001b[1;32mreturn\u001b[0m \u001b[0mself\u001b[0m\u001b[1;33m.\u001b[0m\u001b[0mminimizer\u001b[0m\u001b[1;33m(\u001b[0m\u001b[0mx0\u001b[0m\u001b[1;33m,\u001b[0m \u001b[1;33m**\u001b[0m\u001b[0mself\u001b[0m\u001b[1;33m.\u001b[0m\u001b[0mkwargs\u001b[0m\u001b[1;33m)\u001b[0m\u001b[1;33m\u001b[0m\u001b[0m\n\u001b[0;32m    278\u001b[0m         \u001b[1;32melse\u001b[0m\u001b[1;33m:\u001b[0m\u001b[1;33m\u001b[0m\u001b[0m\n\u001b[1;32m--> 279\u001b[1;33m             \u001b[1;32mreturn\u001b[0m \u001b[0mself\u001b[0m\u001b[1;33m.\u001b[0m\u001b[0mminimizer\u001b[0m\u001b[1;33m(\u001b[0m\u001b[0mself\u001b[0m\u001b[1;33m.\u001b[0m\u001b[0mfunc\u001b[0m\u001b[1;33m,\u001b[0m \u001b[0mx0\u001b[0m\u001b[1;33m,\u001b[0m \u001b[1;33m**\u001b[0m\u001b[0mself\u001b[0m\u001b[1;33m.\u001b[0m\u001b[0mkwargs\u001b[0m\u001b[1;33m)\u001b[0m\u001b[1;33m\u001b[0m\u001b[0m\n\u001b[0m\u001b[0;32m    280\u001b[0m \u001b[1;33m\u001b[0m\u001b[0m\n\u001b[0;32m    281\u001b[0m \u001b[1;33m\u001b[0m\u001b[0m\n",
        "\u001b[1;32mC:\\Users\\sbiggs\\AppData\\Local\\Continuum\\Anaconda3\\lib\\site-packages\\scipy\\optimize\\_minimize.py\u001b[0m in \u001b[0;36mminimize\u001b[1;34m(fun, x0, args, method, jac, hess, hessp, bounds, constraints, tol, callback, options)\u001b[0m\n\u001b[0;32m    425\u001b[0m     \u001b[1;32melif\u001b[0m \u001b[0mmeth\u001b[0m \u001b[1;33m==\u001b[0m \u001b[1;34m'l-bfgs-b'\u001b[0m\u001b[1;33m:\u001b[0m\u001b[1;33m\u001b[0m\u001b[0m\n\u001b[0;32m    426\u001b[0m         return _minimize_lbfgsb(fun, x0, args, jac, bounds,\n\u001b[1;32m--> 427\u001b[1;33m                                 callback=callback, **options)\n\u001b[0m\u001b[0;32m    428\u001b[0m     \u001b[1;32melif\u001b[0m \u001b[0mmeth\u001b[0m \u001b[1;33m==\u001b[0m \u001b[1;34m'tnc'\u001b[0m\u001b[1;33m:\u001b[0m\u001b[1;33m\u001b[0m\u001b[0m\n\u001b[0;32m    429\u001b[0m         return _minimize_tnc(fun, x0, args, jac, bounds, callback=callback,\n",
        "\u001b[1;32mC:\\Users\\sbiggs\\AppData\\Local\\Continuum\\Anaconda3\\lib\\site-packages\\scipy\\optimize\\lbfgsb.py\u001b[0m in \u001b[0;36m_minimize_lbfgsb\u001b[1;34m(fun, x0, args, jac, bounds, disp, maxcor, ftol, gtol, eps, maxfun, maxiter, iprint, callback, **unknown_options)\u001b[0m\n\u001b[0;32m    312\u001b[0m                 \u001b[1;31m# minimization routine wants f and g at the current x\u001b[0m\u001b[1;33m\u001b[0m\u001b[1;33m\u001b[0m\u001b[0m\n\u001b[0;32m    313\u001b[0m                 \u001b[1;31m# Overwrite f and g:\u001b[0m\u001b[1;33m\u001b[0m\u001b[1;33m\u001b[0m\u001b[0m\n\u001b[1;32m--> 314\u001b[1;33m                 \u001b[0mf\u001b[0m\u001b[1;33m,\u001b[0m \u001b[0mg\u001b[0m \u001b[1;33m=\u001b[0m \u001b[0mfunc_and_grad\u001b[0m\u001b[1;33m(\u001b[0m\u001b[0mx\u001b[0m\u001b[1;33m)\u001b[0m\u001b[1;33m\u001b[0m\u001b[0m\n\u001b[0m\u001b[0;32m    315\u001b[0m         \u001b[1;32melif\u001b[0m \u001b[0mtask_str\u001b[0m\u001b[1;33m.\u001b[0m\u001b[0mstartswith\u001b[0m\u001b[1;33m(\u001b[0m\u001b[1;34mb'NEW_X'\u001b[0m\u001b[1;33m)\u001b[0m\u001b[1;33m:\u001b[0m\u001b[1;33m\u001b[0m\u001b[0m\n\u001b[0;32m    316\u001b[0m             \u001b[1;31m# new iteration\u001b[0m\u001b[1;33m\u001b[0m\u001b[1;33m\u001b[0m\u001b[0m\n",
        "\u001b[1;32mC:\\Users\\sbiggs\\AppData\\Local\\Continuum\\Anaconda3\\lib\\site-packages\\scipy\\optimize\\lbfgsb.py\u001b[0m in \u001b[0;36mfunc_and_grad\u001b[1;34m(x)\u001b[0m\n\u001b[0;32m    259\u001b[0m         \u001b[1;32mdef\u001b[0m \u001b[0mfunc_and_grad\u001b[0m\u001b[1;33m(\u001b[0m\u001b[0mx\u001b[0m\u001b[1;33m)\u001b[0m\u001b[1;33m:\u001b[0m\u001b[1;33m\u001b[0m\u001b[0m\n\u001b[0;32m    260\u001b[0m             \u001b[0mf\u001b[0m \u001b[1;33m=\u001b[0m \u001b[0mfun\u001b[0m\u001b[1;33m(\u001b[0m\u001b[0mx\u001b[0m\u001b[1;33m,\u001b[0m \u001b[1;33m*\u001b[0m\u001b[0margs\u001b[0m\u001b[1;33m)\u001b[0m\u001b[1;33m\u001b[0m\u001b[0m\n\u001b[1;32m--> 261\u001b[1;33m             \u001b[0mg\u001b[0m \u001b[1;33m=\u001b[0m \u001b[0mapprox_fprime\u001b[0m\u001b[1;33m(\u001b[0m\u001b[0mx\u001b[0m\u001b[1;33m,\u001b[0m \u001b[0mfun\u001b[0m\u001b[1;33m,\u001b[0m \u001b[0mepsilon\u001b[0m\u001b[1;33m,\u001b[0m \u001b[1;33m*\u001b[0m\u001b[0margs\u001b[0m\u001b[1;33m)\u001b[0m\u001b[1;33m\u001b[0m\u001b[0m\n\u001b[0m\u001b[0;32m    262\u001b[0m             \u001b[1;32mreturn\u001b[0m \u001b[0mf\u001b[0m\u001b[1;33m,\u001b[0m \u001b[0mg\u001b[0m\u001b[1;33m\u001b[0m\u001b[0m\n\u001b[0;32m    263\u001b[0m     \u001b[1;32melse\u001b[0m\u001b[1;33m:\u001b[0m\u001b[1;33m\u001b[0m\u001b[0m\n",
        "\u001b[1;32mC:\\Users\\sbiggs\\AppData\\Local\\Continuum\\Anaconda3\\lib\\site-packages\\scipy\\optimize\\optimize.py\u001b[0m in \u001b[0;36mapprox_fprime\u001b[1;34m(xk, f, epsilon, *args)\u001b[0m\n\u001b[0;32m    602\u001b[0m \u001b[1;33m\u001b[0m\u001b[0m\n\u001b[0;32m    603\u001b[0m     \"\"\"\n\u001b[1;32m--> 604\u001b[1;33m     \u001b[0mf0\u001b[0m \u001b[1;33m=\u001b[0m \u001b[0mf\u001b[0m\u001b[1;33m(\u001b[0m\u001b[1;33m*\u001b[0m\u001b[1;33m(\u001b[0m\u001b[1;33m(\u001b[0m\u001b[0mxk\u001b[0m\u001b[1;33m,\u001b[0m\u001b[1;33m)\u001b[0m \u001b[1;33m+\u001b[0m \u001b[0margs\u001b[0m\u001b[1;33m)\u001b[0m\u001b[1;33m)\u001b[0m\u001b[1;33m\u001b[0m\u001b[0m\n\u001b[0m\u001b[0;32m    605\u001b[0m     \u001b[0mgrad\u001b[0m \u001b[1;33m=\u001b[0m \u001b[0mnumpy\u001b[0m\u001b[1;33m.\u001b[0m\u001b[0mzeros\u001b[0m\u001b[1;33m(\u001b[0m\u001b[1;33m(\u001b[0m\u001b[0mlen\u001b[0m\u001b[1;33m(\u001b[0m\u001b[0mxk\u001b[0m\u001b[1;33m)\u001b[0m\u001b[1;33m,\u001b[0m\u001b[1;33m)\u001b[0m\u001b[1;33m,\u001b[0m \u001b[0mfloat\u001b[0m\u001b[1;33m)\u001b[0m\u001b[1;33m\u001b[0m\u001b[0m\n\u001b[0;32m    606\u001b[0m     \u001b[0mei\u001b[0m \u001b[1;33m=\u001b[0m \u001b[0mnumpy\u001b[0m\u001b[1;33m.\u001b[0m\u001b[0mzeros\u001b[0m\u001b[1;33m(\u001b[0m\u001b[1;33m(\u001b[0m\u001b[0mlen\u001b[0m\u001b[1;33m(\u001b[0m\u001b[0mxk\u001b[0m\u001b[1;33m)\u001b[0m\u001b[1;33m,\u001b[0m\u001b[1;33m)\u001b[0m\u001b[1;33m,\u001b[0m \u001b[0mfloat\u001b[0m\u001b[1;33m)\u001b[0m\u001b[1;33m\u001b[0m\u001b[0m\n",
        "\u001b[1;32mC:\\Users\\sbiggs\\AppData\\Local\\Continuum\\Anaconda3\\lib\\site-packages\\scipy\\optimize\\optimize.py\u001b[0m in \u001b[0;36mfunction_wrapper\u001b[1;34m(*wrapper_args)\u001b[0m\n\u001b[0;32m    279\u001b[0m     \u001b[1;32mdef\u001b[0m \u001b[0mfunction_wrapper\u001b[0m\u001b[1;33m(\u001b[0m\u001b[1;33m*\u001b[0m\u001b[0mwrapper_args\u001b[0m\u001b[1;33m)\u001b[0m\u001b[1;33m:\u001b[0m\u001b[1;33m\u001b[0m\u001b[0m\n\u001b[0;32m    280\u001b[0m         \u001b[0mncalls\u001b[0m\u001b[1;33m[\u001b[0m\u001b[1;36m0\u001b[0m\u001b[1;33m]\u001b[0m \u001b[1;33m+=\u001b[0m \u001b[1;36m1\u001b[0m\u001b[1;33m\u001b[0m\u001b[0m\n\u001b[1;32m--> 281\u001b[1;33m         \u001b[1;32mreturn\u001b[0m \u001b[0mfunction\u001b[0m\u001b[1;33m(\u001b[0m\u001b[1;33m*\u001b[0m\u001b[1;33m(\u001b[0m\u001b[0mwrapper_args\u001b[0m \u001b[1;33m+\u001b[0m \u001b[0margs\u001b[0m\u001b[1;33m)\u001b[0m\u001b[1;33m)\u001b[0m\u001b[1;33m\u001b[0m\u001b[0m\n\u001b[0m\u001b[0;32m    282\u001b[0m \u001b[1;33m\u001b[0m\u001b[0m\n\u001b[0;32m    283\u001b[0m     \u001b[1;32mreturn\u001b[0m \u001b[0mncalls\u001b[0m\u001b[1;33m,\u001b[0m \u001b[0mfunction_wrapper\u001b[0m\u001b[1;33m\u001b[0m\u001b[0m\n",
        "\u001b[1;32m<ipython-input-10-07537e3f982e>\u001b[0m in \u001b[0;36mweightedAreaOptimise\u001b[1;34m(x, inputShape)\u001b[0m\n\u001b[0;32m      9\u001b[0m \u001b[1;33m\u001b[0m\u001b[0m\n\u001b[0;32m     10\u001b[0m     \u001b[1;32mfor\u001b[0m \u001b[0mi\u001b[0m \u001b[1;32min\u001b[0m \u001b[0mrange\u001b[0m\u001b[1;33m(\u001b[0m\u001b[0mnumZones\u001b[0m\u001b[1;33m)\u001b[0m\u001b[1;33m:\u001b[0m\u001b[1;33m\u001b[0m\u001b[0m\n\u001b[1;32m---> 11\u001b[1;33m         \u001b[0mweightedArea\u001b[0m \u001b[1;33m+=\u001b[0m \u001b[0mmovedShape\u001b[0m\u001b[1;33m.\u001b[0m\u001b[0mintersection\u001b[0m\u001b[1;33m(\u001b[0m\u001b[0mzone\u001b[0m\u001b[1;33m[\u001b[0m\u001b[0mi\u001b[0m\u001b[1;33m]\u001b[0m\u001b[1;33m)\u001b[0m\u001b[1;33m.\u001b[0m\u001b[0marea\u001b[0m \u001b[1;33m*\u001b[0m \u001b[0mzoneWeight\u001b[0m\u001b[1;33m[\u001b[0m\u001b[0mi\u001b[0m\u001b[1;33m]\u001b[0m\u001b[1;33m\u001b[0m\u001b[0m\n\u001b[0m\u001b[0;32m     12\u001b[0m \u001b[1;33m\u001b[0m\u001b[0m\n\u001b[0;32m     13\u001b[0m     \u001b[1;32mreturn\u001b[0m \u001b[1;33m-\u001b[0m\u001b[0mweightedArea\u001b[0m\u001b[1;33m\u001b[0m\u001b[0m\n",
        "\u001b[1;32mC:\\Users\\sbiggs\\AppData\\Local\\Continuum\\Anaconda3\\lib\\site-packages\\shapely\\geometry\\base.py\u001b[0m in \u001b[0;36mintersection\u001b[1;34m(self, other)\u001b[0m\n\u001b[0;32m    510\u001b[0m     \u001b[1;32mdef\u001b[0m \u001b[0mintersection\u001b[0m\u001b[1;33m(\u001b[0m\u001b[0mself\u001b[0m\u001b[1;33m,\u001b[0m \u001b[0mother\u001b[0m\u001b[1;33m)\u001b[0m\u001b[1;33m:\u001b[0m\u001b[1;33m\u001b[0m\u001b[0m\n\u001b[0;32m    511\u001b[0m         \u001b[1;34m\"\"\"Returns the intersection of the geometries\"\"\"\u001b[0m\u001b[1;33m\u001b[0m\u001b[0m\n\u001b[1;32m--> 512\u001b[1;33m         \u001b[1;32mreturn\u001b[0m \u001b[0mgeom_factory\u001b[0m\u001b[1;33m(\u001b[0m\u001b[0mself\u001b[0m\u001b[1;33m.\u001b[0m\u001b[0mimpl\u001b[0m\u001b[1;33m[\u001b[0m\u001b[1;34m'intersection'\u001b[0m\u001b[1;33m]\u001b[0m\u001b[1;33m(\u001b[0m\u001b[0mself\u001b[0m\u001b[1;33m,\u001b[0m \u001b[0mother\u001b[0m\u001b[1;33m)\u001b[0m\u001b[1;33m)\u001b[0m\u001b[1;33m\u001b[0m\u001b[0m\n\u001b[0m\u001b[0;32m    513\u001b[0m \u001b[1;33m\u001b[0m\u001b[0m\n\u001b[0;32m    514\u001b[0m     \u001b[1;32mdef\u001b[0m \u001b[0msymmetric_difference\u001b[0m\u001b[1;33m(\u001b[0m\u001b[0mself\u001b[0m\u001b[1;33m,\u001b[0m \u001b[0mother\u001b[0m\u001b[1;33m)\u001b[0m\u001b[1;33m:\u001b[0m\u001b[1;33m\u001b[0m\u001b[0m\n",
        "\u001b[1;32mC:\\Users\\sbiggs\\AppData\\Local\\Continuum\\Anaconda3\\lib\\site-packages\\shapely\\topology.py\u001b[0m in \u001b[0;36m__call__\u001b[1;34m(self, this, other, *args)\u001b[0m\n\u001b[0;32m     41\u001b[0m         \u001b[0mself\u001b[0m\u001b[1;33m.\u001b[0m\u001b[0m_validate\u001b[0m\u001b[1;33m(\u001b[0m\u001b[0mthis\u001b[0m\u001b[1;33m)\u001b[0m\u001b[1;33m\u001b[0m\u001b[0m\n\u001b[0;32m     42\u001b[0m         \u001b[0mself\u001b[0m\u001b[1;33m.\u001b[0m\u001b[0m_validate\u001b[0m\u001b[1;33m(\u001b[0m\u001b[0mother\u001b[0m\u001b[1;33m,\u001b[0m \u001b[0mstop_prepared\u001b[0m\u001b[1;33m=\u001b[0m\u001b[1;32mTrue\u001b[0m\u001b[1;33m)\u001b[0m\u001b[1;33m\u001b[0m\u001b[0m\n\u001b[1;32m---> 43\u001b[1;33m         \u001b[0mproduct\u001b[0m \u001b[1;33m=\u001b[0m \u001b[0mself\u001b[0m\u001b[1;33m.\u001b[0m\u001b[0mfn\u001b[0m\u001b[1;33m(\u001b[0m\u001b[0mthis\u001b[0m\u001b[1;33m.\u001b[0m\u001b[0m_geom\u001b[0m\u001b[1;33m,\u001b[0m \u001b[0mother\u001b[0m\u001b[1;33m.\u001b[0m\u001b[0m_geom\u001b[0m\u001b[1;33m,\u001b[0m \u001b[1;33m*\u001b[0m\u001b[0margs\u001b[0m\u001b[1;33m)\u001b[0m\u001b[1;33m\u001b[0m\u001b[0m\n\u001b[0m\u001b[0;32m     44\u001b[0m         \u001b[1;32mif\u001b[0m \u001b[0mproduct\u001b[0m \u001b[1;32mis\u001b[0m \u001b[1;32mNone\u001b[0m\u001b[1;33m:\u001b[0m\u001b[1;33m\u001b[0m\u001b[0m\n\u001b[0;32m     45\u001b[0m             \u001b[1;32mif\u001b[0m \u001b[1;32mnot\u001b[0m \u001b[0mthis\u001b[0m\u001b[1;33m.\u001b[0m\u001b[0mis_valid\u001b[0m\u001b[1;33m:\u001b[0m\u001b[1;33m\u001b[0m\u001b[0m\n",
        "\u001b[1;31mKeyboardInterrupt\u001b[0m: "
       ]
      }
     ],
     "prompt_number": 16
    },
    {
     "cell_type": "code",
     "collapsed": false,
     "input": [
      "# a = output.x[0]\n",
      "# b = output.x[1]\n",
      "# output.x"
     ],
     "language": "python",
     "metadata": {},
     "outputs": [
      {
       "metadata": {},
       "output_type": "pyout",
       "prompt_number": 13,
       "text": [
        "array([-0.04051875, -0.07753433])"
       ]
      }
     ],
     "prompt_number": 13
    },
    {
     "cell_type": "code",
     "collapsed": false,
     "input": [
      "i = 70\n",
      "\n",
      "scaled_fig_start(12,12)\n",
      "\n",
      "x_vals = cutout[i].exterior.xy[0]\n",
      "y_vals = cutout[i].exterior.xy[1]\n",
      "\n",
      "x_vals = array(x_vals,'float')\n",
      "y_vals = array(y_vals,'float')\n",
      "\n",
      "scatter(a,b,c='red',s=100, zorder=10)\n",
      "\n",
      "for i in range(len(x_vals)):\n",
      "    \n",
      "    plot([a,x_vals[i]],[b,y_vals[i]],'g')\n",
      "    \n",
      "plot(x_vals,y_vals,linewidth=3)\n",
      "\n",
      "scaled_fig_end(12,12)"
     ],
     "language": "python",
     "metadata": {},
     "outputs": [
      {
       "metadata": {},
       "output_type": "display_data",
       "png": "[encoded data removed]",
       "text": [
        "<matplotlib.figure.Figure at 0x91fbba8>"
       ]
      }
     ],
     "prompt_number": 14
    },
    {
     "cell_type": "code",
     "collapsed": false,
     "input": [
      "predicted_factor = zeros(num_cutouts)\n",
      "\n",
      "for i in range(num_cutouts):\n",
      "    \n",
      "    x_vals = cutout[i].exterior.xy[0]\n",
      "    y_vals = cutout[i].exterior.xy[1]\n",
      "\n",
      "    x_vals = array(x_vals,'float')\n",
      "    y_vals = array(y_vals,'float')\n",
      "    \n",
      "    angles = arctan2(y_vals, x_vals) * 180 / pi\n",
      "    \n",
      "    sector_angles = mod(-diff(angles),360)\n",
      "    wrong_direction = sector_angles > 180\n",
      "\n",
      "    wrong_direction = append(wrong_direction,False)\n",
      "    \n",
      "    x_vals_adj = x_vals[~wrong_direction]\n",
      "    y_vals_adj = y_vals[~wrong_direction]\n",
      "    \n",
      "    radii = hypot(x_vals_adj,y_vals_adj)\n",
      "    sector_radii = radii[0:-1] + diff(radii)/2\n",
      "    \n",
      "    angles = arctan2(y_vals_adj, x_vals_adj) * 180 / pi\n",
      "    sector_angles = mod(-diff(angles),360)\n",
      "    \n",
      "    predicted_factor = 1/sum(1/circleFit(sector_radii*2) * sector_angles / 360)"
     ],
     "language": "python",
     "metadata": {},
     "outputs": []
    },
    {
     "cell_type": "code",
     "collapsed": false,
     "input": [
      "angles = arctan2(y_vals, x_vals) * 180 / pi"
     ],
     "language": "python",
     "metadata": {},
     "outputs": [],
     "prompt_number": 15
    },
    {
     "cell_type": "code",
     "collapsed": false,
     "input": [
      "plot(angles)"
     ],
     "language": "python",
     "metadata": {},
     "outputs": [
      {
       "metadata": {},
       "output_type": "pyout",
       "prompt_number": 16,
       "text": [
        "[<matplotlib.lines.Line2D at 0x96338d0>]"
       ]
      },
      {
       "metadata": {},
       "output_type": "display_data",
       "png": "[encoded data removed]",
       "text": [
        "<matplotlib.figure.Figure at 0x9554fd0>"
       ]
      }
     ],
     "prompt_number": 16
    },
    {
     "cell_type": "code",
     "collapsed": false,
     "input": [
      "plot(mod(-diff(angles),360))"
     ],
     "language": "python",
     "metadata": {},
     "outputs": [
      {
       "metadata": {},
       "output_type": "pyout",
       "prompt_number": 17,
       "text": [
        "[<matplotlib.lines.Line2D at 0xa6448d0>]"
       ]
      },
      {
       "metadata": {},
       "output_type": "display_data",
       "png": "[encoded data removed]",
       "text": [
        "<matplotlib.figure.Figure at 0x94d9518>"
       ]
      }
     ],
     "prompt_number": 17
    },
    {
     "cell_type": "code",
     "collapsed": false,
     "input": [
      "sector_angles = mod(-diff(angles),360)\n",
      "wrong_direction = sector_angles > 180\n",
      "\n",
      "wrong_direction = append(wrong_direction,False)"
     ],
     "language": "python",
     "metadata": {},
     "outputs": [],
     "prompt_number": 18
    },
    {
     "cell_type": "code",
     "collapsed": false,
     "input": [
      "x_vals_adj = x_vals[~wrong_direction]\n",
      "y_vals_adj = y_vals[~wrong_direction]"
     ],
     "language": "python",
     "metadata": {},
     "outputs": [],
     "prompt_number": 19
    },
    {
     "cell_type": "code",
     "collapsed": false,
     "input": [
      "radii = hypot(x_vals_adj,y_vals_adj)\n",
      "sector_radii = radii[0:-1] + diff(radii)/2\n",
      "# sector_radii"
     ],
     "language": "python",
     "metadata": {},
     "outputs": [
      {
       "metadata": {},
       "output_type": "pyout",
       "prompt_number": 20,
       "text": [
        "array([ 4.02146702,  4.06714894,  4.06405164,  4.04996312,  3.96898534,\n",
        "        4.00191078,  4.12157339,  4.14024015,  4.1535787 ,  4.10137173,\n",
        "        4.06786143,  4.03625833,  4.01650501,  4.00020001,  3.9821298 ,\n",
        "        3.88862229,  3.80356212,  3.74107385,  3.68736357,  3.65912644,\n",
        "        3.63951545,  3.6772952 ,  3.63951545,  3.65912644,  3.68736357,\n",
        "        3.86763999,  4.0641522 ,  4.08064152,  4.09417244,  4.11113387,\n",
        "        4.1409529 ,  4.17268408,  4.21987502,  4.20137389,  4.18059764,\n",
        "        4.05513309,  4.01173201,  4.08560436,  4.09714609,  4.16188493,\n",
        "        4.16974485,  4.16318185,  4.11988354,  4.10849869,  4.14696368,\n",
        "        4.22192025,  4.30318986,  4.32798494,  4.3563154 ,  4.31872351,\n",
        "        4.29039305,  4.23303448,  4.18059764,  4.16193088,  4.14696368,\n",
        "        4.05984004,  3.98083118,  3.9238066 ,  3.8751233 ,  3.85091239,\n",
        "        3.83484297,  3.84076044,  3.762366  ,  3.74588276,  3.73711734,\n",
        "        3.71111209,  3.68867256,  3.68531223,  3.68736357,  3.67724593,\n",
        "        3.67108501,  3.69059632,  3.71579323,  3.72180715,  3.73192479,\n",
        "        3.77349357,  3.82065487,  3.84207294,  3.86424869,  3.8898966 ,\n",
        "        3.92523879,  3.96246904,  4.02514838,  4.02264623,  4.00840295,\n",
        "        3.90098366,  3.88976599,  3.985257  ,  3.98713097])"
       ]
      }
     ],
     "prompt_number": 20
    },
    {
     "cell_type": "code",
     "collapsed": false,
     "input": [
      "angles = arctan2(y_vals_adj, x_vals_adj) * 180 / pi\n",
      "sector_angles = mod(-diff(angles),360)\n",
      "plot(sector_angles)"
     ],
     "language": "python",
     "metadata": {},
     "outputs": [
      {
       "metadata": {},
       "output_type": "pyout",
       "prompt_number": 21,
       "text": [
        "[<matplotlib.lines.Line2D at 0x9571c50>]"
       ]
      },
      {
       "metadata": {},
       "output_type": "display_data",
       "png": "[encoded data removed]",
       "text": [
        "<matplotlib.figure.Figure at 0xa6725c0>"
       ]
      }
     ],
     "prompt_number": 21
    },
    {
     "cell_type": "code",
     "collapsed": false,
     "input": [
      "sum(circleFit(sector_radii*2) * sector_angles / 360)"
     ],
     "language": "python",
     "metadata": {},
     "outputs": [
      {
       "metadata": {},
       "output_type": "pyout",
       "prompt_number": 22,
       "text": [
        "0.99359418683796763"
       ]
      }
     ],
     "prompt_number": 22
    },
    {
     "cell_type": "code",
     "collapsed": false,
     "input": [
      "1/sum(1/circleFit(sector_radii*2) * sector_angles / 360)"
     ],
     "language": "python",
     "metadata": {},
     "outputs": [
      {
       "metadata": {},
       "output_type": "pyout",
       "prompt_number": 23,
       "text": [
        "0.99359079993849975"
       ]
      }
     ],
     "prompt_number": 23
    },
    {
     "cell_type": "code",
     "collapsed": false,
     "input": [
      "plot(cumsum(sector_angles),circleFit(sector_radii*2))"
     ],
     "language": "python",
     "metadata": {},
     "outputs": [
      {
       "metadata": {},
       "output_type": "pyout",
       "prompt_number": 24,
       "text": [
        "[<matplotlib.lines.Line2D at 0x95d3c18>]"
       ]
      },
      {
       "metadata": {},
       "output_type": "display_data",
       "png": "[encoded data removed]",
       "text": [
        "<matplotlib.figure.Figure at 0x9534b00>"
       ]
      }
     ],
     "prompt_number": 24
    }
   ],
   "metadata": {}
  }
 ]
}