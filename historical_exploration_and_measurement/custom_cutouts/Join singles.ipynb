{
 "metadata": {
  "name": "",
  "signature": "sha256:ead863845c939cefc7c8bea4fbbfb45686bd7b04a93596c041db75509d88739a"
 },
 "nbformat": 3,
 "nbformat_minor": 0,
 "worksheets": [
  {
   "cells": [
    {
     "cell_type": "code",
     "collapsed": false,
     "input": [
      "%pylab inline\n",
      "\n",
      "import csv, os\n",
      "from glob import glob\n",
      "\n",
      "import pandas as pd\n",
      "\n",
      "import shapely.affinity as af\n",
      "import shapely.geometry as sh\n",
      "\n",
      "from equivalent_ellipse import *\n",
      "from scaled_figures import *\n",
      "\n",
      "pylab.rcParams['savefig.dpi'] = 254"
     ],
     "language": "python",
     "metadata": {},
     "outputs": [
      {
       "output_type": "stream",
       "stream": "stdout",
       "text": [
        "Populating the interactive namespace from numpy and matplotlib\n"
       ]
      }
     ],
     "prompt_number": 1
    },
    {
     "cell_type": "code",
     "collapsed": false,
     "input": [
      "images = sort(glob('../figures/straightened/single/*'))"
     ],
     "language": "python",
     "metadata": {},
     "outputs": [],
     "prompt_number": 2
    },
    {
     "cell_type": "code",
     "collapsed": false,
     "input": [
      "j = 0\n",
      "\n",
      "for i in range(len(images)//2):\n",
      "    \n",
      "    a = imread(images[2*i])\n",
      "    b = imread(images[2*i + 1])\n",
      "\n",
      "    c = concatenate((a,b),axis=0)\n",
      "    \n",
      "    stringj = \"%03d\" %(j)\n",
      "    \n",
      "    imsave('../figures/straightened/joined/'+stringj+'.png',c, dpi=254)\n",
      "    \n",
      "    j += 1\n",
      "    \n",
      "if mod(len(images),2) == 1:\n",
      "    \n",
      "    i += 1\n",
      "    a = imread(images[2*i])\n",
      "    b = zeros(shape(a))\n",
      "    \n",
      "    c = concatenate((a,b),axis=0)\n",
      "    \n",
      "    stringj = \"%03d\" %(j)\n",
      "    \n",
      "    imsave('../figures/straightened/joined/'+stringj+'.png',c, dpi=254)"
     ],
     "language": "python",
     "metadata": {},
     "outputs": [],
     "prompt_number": 3
    },
    {
     "cell_type": "code",
     "collapsed": false,
     "input": [
      "# See if this can be automated\n",
      "\n",
      "# OPEN IMAGES IN GIMP \"AS LAYER\"\n",
      "# SAVE IMAGES TO GIF \"AS ANIMATION\" \n",
      "\n",
      "# Run imagemagick on resulting file:\n",
      "# convert -units PixelsPerInch input.gif -density 254 output.pdf"
     ],
     "language": "python",
     "metadata": {},
     "outputs": [],
     "prompt_number": 4
    },
    {
     "cell_type": "code",
     "collapsed": false,
     "input": [],
     "language": "python",
     "metadata": {},
     "outputs": [],
     "prompt_number": 64
    }
   ],
   "metadata": {}
  }
 ]
}