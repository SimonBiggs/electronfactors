{
 "cells": [
  {
   "cell_type": "code",
   "execution_count": 26,
   "metadata": {
    "collapsed": false
   },
   "outputs": [],
   "source": [
    "import yaml\n",
    "import numpy as np\n",
    "\n",
    "import descartes as des\n",
    "import matplotlib.pyplot as plt\n",
    "%matplotlib inline\n",
    "\n",
    "import sys\n",
    "sys.path.append(\"../\")\n",
    "\n",
    "from electronfactors.ellipse.equivalent import equivalent_ellipse\n",
    "from electronfactors.ellipse.utilities import shapely_cutout\n",
    "from electronfactors.visuals.shape_display import display_shapely, display_equivalent_ellipse\n",
    "from electronfactors.visuals.utilities import make_ellipse"
   ]
  },
  {
   "cell_type": "code",
   "execution_count": 27,
   "metadata": {
    "collapsed": true
   },
   "outputs": [],
   "source": [
    "from electronfactors.visuals.utilities import create_green_cm\n",
    "green_cm = create_green_cm()"
   ]
  },
  {
   "cell_type": "code",
   "execution_count": 28,
   "metadata": {
    "collapsed": true
   },
   "outputs": [],
   "source": [
    "def reg_m(y, x):\n",
    "    ones = np.ones(len(x[0]))\n",
    "    X = sm.add_constant(np.column_stack((x[0], ones)))\n",
    "    for ele in x[1:]:\n",
    "        X = sm.add_constant(np.column_stack((ele, X)))\n",
    "    results = sm.OLS(y, X).fit()\n",
    "    return results"
   ]
  },
  {
   "cell_type": "code",
   "execution_count": 29,
   "metadata": {
    "collapsed": true
   },
   "outputs": [],
   "source": [
    "from matplotlib import rc\n",
    "rc('font',**{'family':'serif',\n",
    "             'size':'16'})\n",
    "rc('text', usetex=True)\n",
    "rc('legend', fontsize=16, scatterpoints=1, fancybox=True)"
   ]
  },
  {
   "cell_type": "code",
   "execution_count": 4,
   "metadata": {
    "collapsed": true
   },
   "outputs": [],
   "source": [
    "with open(\"model_cache/12MeV_10app_100ssd.yml\", 'r') as file:\n",
    "    cutout_data = yaml.load(file)"
   ]
  },
  {
   "cell_type": "code",
   "execution_count": 5,
   "metadata": {
    "collapsed": false
   },
   "outputs": [],
   "source": [
    "XCoords = np.array(cutout_data['P22']['XCoords'])\n",
    "YCoords = np.array(cutout_data['P22']['YCoords'])\n",
    "width = np.array(cutout_data['P22']['width'])\n",
    "length = np.array(cutout_data['P22']['length'])\n",
    "poi = np.array(cutout_data['P22']['poi'])"
   ]
  },
  {
   "cell_type": "code",
   "execution_count": 6,
   "metadata": {
    "collapsed": false
   },
   "outputs": [
    {
     "data": {
      "text/plain": [
       "array([ 0.05, -0.53])"
      ]
     },
     "execution_count": 6,
     "metadata": {},
     "output_type": "execute_result"
    }
   ],
   "source": [
    "poi"
   ]
  },
  {
   "cell_type": "code",
   "execution_count": 7,
   "metadata": {
    "collapsed": false
   },
   "outputs": [
    {
     "data": {
      "text/plain": [
       "array(10.25)"
      ]
     },
     "execution_count": 7,
     "metadata": {},
     "output_type": "execute_result"
    }
   ],
   "source": [
    "length"
   ]
  },
  {
   "cell_type": "code",
   "execution_count": 8,
   "metadata": {
    "collapsed": false
   },
   "outputs": [
    {
     "data": {
      "text/plain": [
       "[-3.4000000000000004, 3.5]"
      ]
     },
     "execution_count": 8,
     "metadata": {},
     "output_type": "execute_result"
    }
   ],
   "source": [
    "[poi[0]-width/2, poi[0]+width/2]"
   ]
  },
  {
   "cell_type": "code",
   "execution_count": 33,
   "metadata": {
    "collapsed": false
   },
   "outputs": [
    {
     "data": {
      "image/png": "[encoded data removed]",
      "text/plain": [
       "<matplotlib.figure.Figure at 0x838f208>"
      ]
     },
     "metadata": {},
     "output_type": "display_data"
    }
   ],
   "source": [
    "fig = plt.figure(figsize=(6, 6))\n",
    "ax = fig.add_subplot(111)\n",
    "\n",
    "cutout = shapely_cutout(XCoords, YCoords)\n",
    "ellipse = make_ellipse(ax=ax, poi=poi, width=width, length=length)\n",
    "\n",
    "# cutout_patch = des.PolygonPatch(\n",
    "#     cutout, fc=[ 0.21239477,  0.35968273,  0.55171011, 0.7], \n",
    "#     lw=1)\n",
    "# ax.add_patch(cutout_patch)\n",
    "\n",
    "# ellipse_patch = des.PolygonPatch(\n",
    "#     ellipse, fc=[ 0.37777892,  0.79178146,  0.3779385, 0.7 ], \n",
    "#     lw=1)\n",
    "# ax.add_patch(ellipse_patch)\n",
    "\n",
    "cutout_patch = des.PolygonPatch(\n",
    "    cutout, fc=green_cm(0.75), \n",
    "    lw=1)\n",
    "ax.add_patch(cutout_patch)\n",
    "\n",
    "ellipse_patch = des.PolygonPatch(\n",
    "    ellipse, fc=[ 0,  0,  0, 0 ],\n",
    "    lw=2)\n",
    "ax.add_patch(ellipse_patch)\n",
    "\n",
    "\n",
    "plt.plot(\n",
    "    [poi[0]-width/2, poi[0]+width/2],\n",
    "    [poi[1]]*2, '--',\n",
    "    lw=2, color='black', marker='|', mew=3, ms=60)\n",
    "\n",
    "plt.plot(\n",
    "    [poi[0]]*2,\n",
    "    [poi[1]-length/2, poi[1]+length/2], '--',\n",
    "    lw=2, color='black', marker='_', mew=3, ms=60)\n",
    "\n",
    "plt.text(0.5, -0.35, \"width (cm)\")\n",
    "plt.text(-0.6, -1.5, \"length (cm)\", rotation='vertical')\n",
    "\n",
    "plt.grid(True)\n",
    "\n",
    "plt.xlim([-5, 6])\n",
    "plt.ylim([-6, 5])\n",
    "\n",
    "# plt.title(r'Example equivalent ellipse')\n",
    "plt.xlabel(r'x (cm at 100 SSD)')\n",
    "plt.ylabel(r'y (cm at 100 SSD)')\n",
    "\n",
    "plt.savefig('figures/example_ellipse.png', bbox_inches='tight', dpi=600)\n",
    "# plt.savefig('figures/example_ellipse.pdf', bbox_inches='tight', dpi=600)\n",
    "fig.savefig('figures/example_ellipse.eps', bbox_inches='tight')"
   ]
  },
  {
   "cell_type": "code",
   "execution_count": 10,
   "metadata": {
    "collapsed": false
   },
   "outputs": [],
   "source": [
    "custom_data = dict()\n",
    "\n",
    "key = 'Concave'\n",
    "custom_data[key] = dict()\n",
    "custom_data[key]['XCoords'] = np.array([-3.5, -3.5, 0, 3.5, 3.5, 0.5, 0.5, 3.5, 3.5, 0, -3.5]) / 0.95\n",
    "custom_data[key]['YCoords'] = np.array([0, 4, 5, 4.5, 2, 1.5, -1.5, -2, -4.5, -5, -4]) / 0.95\n",
    "\n",
    "labels = [key for key in custom_data]\n",
    "ellipse_raw = [equivalent_ellipse(**custom_data[key]) for key in labels]"
   ]
  },
  {
   "cell_type": "code",
   "execution_count": 11,
   "metadata": {
    "collapsed": false
   },
   "outputs": [
    {
     "data": {
      "text/plain": [
       "<matplotlib.text.Text at 0x8161438>"
      ]
     },
     "execution_count": 11,
     "metadata": {},
     "output_type": "execute_result"
    },
    {
     "data": {
      "image/png": "[encoded data removed]",
      "text/plain": [
       "<matplotlib.figure.Figure at 0x80a56a0>"
      ]
     },
     "metadata": {},
     "output_type": "display_data"
    }
   ],
   "source": [
    "concave_cutout = shapely_cutout(custom_data[key]['XCoords'], custom_data[key]['YCoords'])\n",
    "concave_ellipse = make_ellipse(**ellipse_raw[0])\n",
    "\n",
    "xlims = np.array([-4, 4])\n",
    "ylims = np.array([-9.5, 9.5])\n",
    "scale = 0.5\n",
    "\n",
    "fig = plt.figure(figsize=(scale * xlims.ptp(), scale * ylims.ptp()))\n",
    "ax = fig.add_subplot(111)\n",
    "\n",
    "cutout_patch = des.PolygonPatch(concave_cutout, fc=np.random.uniform(size=3), alpha=0.5, lw=2)\n",
    "ax.add_patch(cutout_patch)\n",
    "\n",
    "ellipse_patch = des.PolygonPatch(concave_ellipse, fc=np.random.uniform(size=3), alpha=0.5, lw=2)\n",
    "ax.add_patch(ellipse_patch)\n",
    "\n",
    "plt.grid(True)\n",
    "\n",
    "plt.xlim(xlims)\n",
    "plt.ylim(ylims)\n",
    "\n",
    "plt.title(r'Convex test shape')\n",
    "plt.xlabel(r'x (cm)')\n",
    "plt.ylabel(r'y (cm)')"
   ]
  },
  {
   "cell_type": "code",
   "execution_count": null,
   "metadata": {
    "collapsed": true
   },
   "outputs": [],
   "source": []
  },
  {
   "cell_type": "code",
   "execution_count": null,
   "metadata": {
    "collapsed": true
   },
   "outputs": [],
   "source": []
  },
  {
   "cell_type": "code",
   "execution_count": null,
   "metadata": {
    "collapsed": true
   },
   "outputs": [],
   "source": []
  },
  {
   "cell_type": "code",
   "execution_count": null,
   "metadata": {
    "collapsed": true
   },
   "outputs": [],
   "source": []
  },
  {
   "cell_type": "code",
   "execution_count": null,
   "metadata": {
    "collapsed": true
   },
   "outputs": [],
   "source": []
  }
 ],
 "metadata": {
  "kernelspec": {
   "display_name": "Python 3",
   "language": "python",
   "name": "python3"
  },
  "language_info": {
   "codemirror_mode": {
    "name": "ipython",
    "version": 3
   },
   "file_extension": ".py",
   "mimetype": "text/x-python",
   "name": "python",
   "nbconvert_exporter": "python",
   "pygments_lexer": "ipython3",
   "version": "3.4.1"
  }
 },
 "nbformat": 4,
 "nbformat_minor": 0
}
