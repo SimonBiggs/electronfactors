{
 "cells": [
  {
   "cell_type": "code",
   "execution_count": 1,
   "metadata": {
    "collapsed": false,
    "scrolled": false
   },
   "outputs": [],
   "source": [
    "import numpy as np\n",
    "from scipy.interpolate import UnivariateSpline\n",
    "\n",
    "import sys\n",
    "sys.path.append(\"../\")\n",
    "from electronfactors.ellipse.centre import FindCentre\n",
    "from electronfactors.ellipse.sectorintegration import sector_integration\n",
    "\n",
    "\n",
    "XCoords = np.array([-4, 4, 4, -4])\n",
    "YCoords = np.array([4, 4, -4, -4])\n",
    "\n",
    "# XCoords = np.array([-4,0,4,0])\n",
    "# YCoords = np.array([0,4,0,-4])\n",
    "\n",
    "circle_diameter = np.array([3, 4, 5, 6, 7, 8, 9])\n",
    "circle_factors = np.array(\n",
    "    [0.9296, 0.9562, 0.9705, 0.9858, 1.0032, 1.0067, 1.0084])\n",
    "\n",
    "\n",
    "def circle_fit(radii):\n",
    "\n",
    "    circle_radii = circle_diameter/2\n",
    "\n",
    "    spline = UnivariateSpline(circle_radii, circle_factors)\n",
    "    results = spline(radii)\n",
    "\n",
    "    results[radii > np.max(circle_radii)] = np.max(circle_factors)\n",
    "    results[radii < np.min(circle_radii)] = 0\n",
    "\n",
    "    return results"
   ]
  },
  {
   "cell_type": "code",
   "execution_count": 2,
   "metadata": {
    "collapsed": false
   },
   "outputs": [],
   "source": [
    "# centre = FindCentre(\n",
    "#     x=XCoords, y=YCoords, n=1, circle_fit=circle_fit, min_distance=1.5, debug=True\n",
    "# )\n",
    "   \n",
    "# centre.centre"
   ]
  },
  {
   "cell_type": "code",
   "execution_count": 3,
   "metadata": {
    "collapsed": false
   },
   "outputs": [],
   "source": [
    "XCoords = np.array([-1,-0.2,0,0.7,1,0])*4\n",
    "YCoords = np.array([0,-1,-.8,0,.6,1])*4\n",
    "\n",
    "# centre = FindCentre(\n",
    "#     x=XCoords, y=YCoords, n=1, circle_fit=circle_fit, min_distance=1.5, debug=True, sectors=100\n",
    "# )\n",
    "\n",
    "# centre.centre"
   ]
  },
  {
   "cell_type": "code",
   "execution_count": 4,
   "metadata": {
    "collapsed": false
   },
   "outputs": [],
   "source": [
    "# centre.numCalls"
   ]
  },
  {
   "cell_type": "code",
   "execution_count": 5,
   "metadata": {
    "collapsed": true
   },
   "outputs": [],
   "source": [
    "import descartes as des\n",
    "\n",
    "import matplotlib.pyplot as plt\n",
    "from matplotlib import pylab\n",
    "%matplotlib inline"
   ]
  },
  {
   "cell_type": "code",
   "execution_count": 6,
   "metadata": {
    "collapsed": false
   },
   "outputs": [],
   "source": [
    "# centre.cutout\n",
    "\n",
    "# fig = plt.figure()\n",
    "# ax = fig.add_subplot(111)\n",
    "\n",
    "# patch = des.PolygonPatch(centre.cutout, fc=np.random.uniform(size=3), alpha=0.3)\n",
    "# ax.add_patch(patch)\n",
    "\n",
    "# plt.scatter(*centre.centre)\n",
    "\n",
    "# plt.scatter(0,0)\n",
    "\n",
    "# ax.axis(\"equal\")"
   ]
  },
  {
   "cell_type": "code",
   "execution_count": null,
   "metadata": {
    "collapsed": true
   },
   "outputs": [],
   "source": []
  },
  {
   "cell_type": "code",
   "execution_count": null,
   "metadata": {
    "collapsed": true
   },
   "outputs": [],
   "source": []
  },
  {
   "cell_type": "code",
   "execution_count": null,
   "metadata": {
    "collapsed": true
   },
   "outputs": [],
   "source": []
  },
  {
   "cell_type": "code",
   "execution_count": 7,
   "metadata": {
    "collapsed": false
   },
   "outputs": [
    {
     "data": {
      "text/plain": [
       "6.453072831830637"
      ]
     },
     "execution_count": 7,
     "metadata": {},
     "output_type": "execute_result"
    }
   ],
   "source": [
    "factor = sector_integration(\n",
    "    x=XCoords,\n",
    "    y=YCoords,\n",
    "    min_distance=1.5,\n",
    "    circle_fit=circle_fit,\n",
    "    point_of_interest=[-0.1, 0.1],\n",
    "    num_rays=200\n",
    ")\n",
    "factor * 5 + 1.5"
   ]
  },
  {
   "cell_type": "code",
   "execution_count": 8,
   "metadata": {
    "collapsed": false
   },
   "outputs": [
    {
     "data": {
      "text/plain": [
       "array([ -3.46180685e-07,   3.46180685e-07])"
      ]
     },
     "execution_count": 8,
     "metadata": {},
     "output_type": "execute_result"
    }
   ],
   "source": [
    "centre = FindCentre(\n",
    "    x=XCoords, y=YCoords, n=1, circle_fit=circle_fit, min_distance=1.5, sectors=200, confidence=0.0001\n",
    ")\n",
    "centre.centre"
   ]
  },
  {
   "cell_type": "code",
   "execution_count": null,
   "metadata": {
    "collapsed": true
   },
   "outputs": [],
   "source": []
  },
  {
   "cell_type": "code",
   "execution_count": null,
   "metadata": {
    "collapsed": true
   },
   "outputs": [],
   "source": []
  },
  {
   "cell_type": "code",
   "execution_count": null,
   "metadata": {
    "collapsed": true
   },
   "outputs": [],
   "source": []
  },
  {
   "cell_type": "code",
   "execution_count": 9,
   "metadata": {
    "collapsed": false
   },
   "outputs": [
    {
     "data": {
      "text/plain": [
       "(-5.0, 5.0, -5.0, 5.0)"
      ]
     },
     "execution_count": 9,
     "metadata": {},
     "output_type": "execute_result"
    },
    {
     "data": {
      "image/png": "[encoded data removed]",
      "text/plain": [
       "<matplotlib.figure.Figure at 0x7f4a34bc6160>"
      ]
     },
     "metadata": {},
     "output_type": "display_data"
    }
   ],
   "source": [
    "fig = plt.figure()\n",
    "ax = fig.add_subplot(111)\n",
    "\n",
    "patch = des.PolygonPatch(centre.cutout, fc=np.random.uniform(size=3), alpha=0.3)\n",
    "ax.add_patch(patch)\n",
    "\n",
    "plt.scatter(*centre.centre)\n",
    "\n",
    "plt.scatter(0,0)\n",
    "\n",
    "ax.axis(\"equal\")"
   ]
  },
  {
   "cell_type": "code",
   "execution_count": null,
   "metadata": {
    "collapsed": true
   },
   "outputs": [],
   "source": []
  }
 ],
 "metadata": {
  "kernelspec": {
   "display_name": "Python 3",
   "language": "python",
   "name": "python3"
  },
  "language_info": {
   "codemirror_mode": {
    "name": "ipython",
    "version": 3
   },
   "file_extension": ".py",
   "mimetype": "text/x-python",
   "name": "python",
   "nbconvert_exporter": "python",
   "pygments_lexer": "ipython3",
   "version": "3.4.0"
  }
 },
 "nbformat": 4,
 "nbformat_minor": 0
}
