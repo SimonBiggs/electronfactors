{
 "cells": [
  {
   "cell_type": "code",
   "execution_count": 1,
   "metadata": {
    "collapsed": false
   },
   "outputs": [],
   "source": [
    "import yaml\n",
    "import numpy as np\n",
    "\n",
    "from scipy.stats import linregress\n",
    "\n",
    "import matplotlib.pyplot as plt\n",
    "%matplotlib inline\n",
    "\n",
    "from electronfactors import (\n",
    "    create_model, pull_data, fit_give, estimate_population_uncertainty,\n",
    "    create_green_cm\n",
    ")"
   ]
  },
  {
   "cell_type": "code",
   "execution_count": 2,
   "metadata": {
    "collapsed": true
   },
   "outputs": [],
   "source": [
    "run_full_calcualtion = False  # True"
   ]
  },
  {
   "cell_type": "code",
   "execution_count": 3,
   "metadata": {
    "collapsed": true
   },
   "outputs": [],
   "source": [
    "green_cm = create_green_cm()\n",
    "\n",
    "def colour(x, alpha=1):\n",
    "    result = list(green_cm(x))\n",
    "    result[3] = alpha\n",
    "    \n",
    "    return result"
   ]
  },
  {
   "cell_type": "code",
   "execution_count": 4,
   "metadata": {
    "collapsed": true
   },
   "outputs": [],
   "source": [
    "from matplotlib import rc\n",
    "rc('font',**{'family':'serif',\n",
    "             'size':'20'})\n",
    "# rc('text', usetex=True)\n",
    "\n",
    "rc('legend', fontsize=16)"
   ]
  },
  {
   "cell_type": "code",
   "execution_count": 5,
   "metadata": {
    "collapsed": false
   },
   "outputs": [],
   "source": [
    "with open(\"model_cache/12MeV_10app_100ssd.yml\", 'r') as file:\n",
    "    cutout_data = yaml.load(file)\n",
    "    \n",
    "label = np.array([key for key in cutout_data])\n",
    "book_factor = np.array([item[0] == 'P' for i, item in enumerate(label)])\n",
    "\n",
    "custom_label = label[~book_factor]\n",
    "\n",
    "width = np.array([cutout_data[key]['width'] for key in custom_label])\n",
    "length = np.array([cutout_data[key]['length'] for key in custom_label])\n",
    "factor = np.array([cutout_data[key]['factor'] for key in custom_label])\n",
    "\n",
    "perimeter = np.pi / 2 * (3*(width + length) - np.sqrt((3*width + length)*(3*length + width)))\n",
    "area = np.pi / 4 * width * length\n",
    "eqPonA = perimeter / area"
   ]
  },
  {
   "cell_type": "code",
   "execution_count": 6,
   "metadata": {
    "collapsed": true
   },
   "outputs": [],
   "source": [
    "def test_amount(amount=8, n=1000):\n",
    "    store = np.array([])\n",
    "    \n",
    "    for j in range(n):\n",
    "        order = np.arange(len(width))\n",
    "        np.random.shuffle(order)\n",
    "        reference = order[0:amount]        \n",
    "        check = np.setdiff1d(np.arange(len(width)), reference)        \n",
    "        give = np.zeros(len(check))\n",
    "        predictions = np.zeros(len(check))\n",
    "\n",
    "        model = create_model(width[reference], eqPonA[reference], factor[reference])\n",
    "\n",
    "        for i, value in enumerate(check):\n",
    "            predictions[i] = model(width[value], eqPonA[value])\n",
    "            give[i] = fit_give(\n",
    "                width[value], eqPonA[value], \n",
    "                width[reference], eqPonA[reference], factor[reference])\n",
    "\n",
    "        percent_prediction_differences = 100*(factor[check] - predictions) / factor[check]\n",
    "\n",
    "        valid = give < 0.5\n",
    "        store = np.append(store, percent_prediction_differences[valid])\n",
    "    \n",
    "    std_store = np.std(store)\n",
    "    \n",
    "    return std_store"
   ]
  },
  {
   "cell_type": "code",
   "execution_count": 7,
   "metadata": {
    "collapsed": true
   },
   "outputs": [],
   "source": [
    "def test_amount_with_outlier(amount=8, n=1000, num_outliers=2):\n",
    "    store = np.array([])\n",
    "    \n",
    "    for j in range(n):\n",
    "        order = np.arange(len(width))\n",
    "        np.random.shuffle(order)\n",
    "        reference = order[0:amount]\n",
    "        \n",
    "        shift = np.floor(np.random.uniform(0,2, size=num_outliers)) * 0.04 - 0.02\n",
    "        shifted_factor = factor[reference]\n",
    "        shifted_factor[0:num_outliers] = shifted_factor[0:num_outliers] + shift\n",
    "        \n",
    "        check = np.setdiff1d(np.arange(len(width)), reference)\n",
    "        \n",
    "        give = np.zeros(len(check))\n",
    "        predictions = np.zeros(len(check))\n",
    "\n",
    "        model = create_model(width[reference], eqPonA[reference], shifted_factor)\n",
    "\n",
    "        for i, value in enumerate(check):\n",
    "            predictions[i] = model(width[value], eqPonA[value])\n",
    "            give[i] = fit_give(\n",
    "                width[value], eqPonA[value], \n",
    "                width[reference], eqPonA[reference], factor[reference])\n",
    "\n",
    "        percent_prediction_differences = 100*(factor[check] - predictions) / factor[check]\n",
    "\n",
    "        valid = give < 0.5\n",
    "        store = np.append(store, percent_prediction_differences[valid])            \n",
    "    \n",
    "    std_store = np.std(store)\n",
    "    \n",
    "    return std_store"
   ]
  },
  {
   "cell_type": "code",
   "execution_count": 8,
   "metadata": {
    "collapsed": true
   },
   "outputs": [],
   "source": [
    "amount_test = np.arange(8, 40)\n",
    "std_store_no_outlier = np.zeros(len(amount_test))\n",
    "std_store_one_outlier = np.zeros(len(amount_test))\n",
    "std_store_two_outliers = np.zeros(len(amount_test))\n",
    "std_store_four_outliers = np.zeros(len(amount_test))\n",
    "std_store_six_outliers = np.zeros(len(amount_test))"
   ]
  },
  {
   "cell_type": "code",
   "execution_count": 9,
   "metadata": {
    "collapsed": true
   },
   "outputs": [],
   "source": [
    "if run_full_calcualtion:\n",
    "    n = 30000\n",
    "else:\n",
    "    n = 20  # n = 30000"
   ]
  },
  {
   "cell_type": "code",
   "execution_count": 10,
   "metadata": {
    "collapsed": false
   },
   "outputs": [],
   "source": [
    "for i, amount in enumerate(amount_test):\n",
    "    std_store_no_outlier[i] = test_amount(amount=amount, n=n)  # n=30000"
   ]
  },
  {
   "cell_type": "code",
   "execution_count": 11,
   "metadata": {
    "collapsed": true
   },
   "outputs": [],
   "source": [
    "for i, amount in enumerate(amount_test):\n",
    "    std_store_one_outlier[i] = test_amount_with_outlier(amount=amount, n=n, num_outliers=1)"
   ]
  },
  {
   "cell_type": "code",
   "execution_count": 12,
   "metadata": {
    "collapsed": false
   },
   "outputs": [],
   "source": [
    "for i, amount in enumerate(amount_test):\n",
    "    std_store_two_outliers[i] = test_amount_with_outlier(amount=amount, n=n, num_outliers=2)    "
   ]
  },
  {
   "cell_type": "code",
   "execution_count": 13,
   "metadata": {
    "collapsed": false,
    "scrolled": false
   },
   "outputs": [
    {
     "data": {
      "text/plain": [
       "<matplotlib.legend.Legend at 0x7f9aa6119400>"
      ]
     },
     "execution_count": 13,
     "metadata": {},
     "output_type": "execute_result"
    },
    {
     "data": {
      "image/png": "[encoded data removed]",
      "text/plain": [
       "<matplotlib.figure.Figure at 0x7f9aa60b1ef0>"
      ]
     },
     "metadata": {},
     "output_type": "display_data"
    }
   ],
   "source": [
    "plt.figure(figsize=(6 * 1.618, 6))\n",
    "\n",
    "plt.scatter(\n",
    "    amount_test, std_store_no_outlier, s=120, lw=1, c=colour(0.1, alpha=1),\n",
    "    label=r'No outliers'\n",
    ")\n",
    "\n",
    "plt.scatter(\n",
    "    amount_test, std_store_one_outlier, marker='s', s=100, lw=1, c=colour(0.5, alpha=1),\n",
    "    label=r'One outlier'\n",
    ")\n",
    "\n",
    "plt.scatter(\n",
    "    amount_test, std_store_two_outliers, marker='^', s=110, lw=1, c=colour(0.9, alpha=1),\n",
    "    label=r'Two outliers'\n",
    ")\n",
    "\n",
    "\n",
    "\n",
    "\n",
    "plt.xlabel(r'Number of measurements')\n",
    "plt.ylabel(r'Approx. prediction uncertainty (1SD)')\n",
    "\n",
    "plt.xlim([5,42])\n",
    "plt.ylim([0.35,0.95])\n",
    "\n",
    "plt.legend()\n",
    "\n",
    "# plt.savefig('figures/change_with_number_measurements.png', bbox_inches='tight', dpi=600)\n",
    "# plt.savefig('figures/change_with_number_measurements.eps', bbox_inches='tight')"
   ]
  },
  {
   "cell_type": "code",
   "execution_count": null,
   "metadata": {
    "collapsed": true
   },
   "outputs": [],
   "source": []
  }
 ],
 "metadata": {
  "kernelspec": {
   "display_name": "Python 3",
   "language": "python",
   "name": "python3"
  },
  "language_info": {
   "codemirror_mode": {
    "name": "ipython",
    "version": 3
   },
   "file_extension": ".py",
   "mimetype": "text/x-python",
   "name": "python",
   "nbconvert_exporter": "python",
   "pygments_lexer": "ipython3",
   "version": "3.5.0+"
  }
 },
 "nbformat": 4,
 "nbformat_minor": 0
}
