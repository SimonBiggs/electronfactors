{
 "cells": [
  {
   "cell_type": "code",
   "execution_count": 32,
   "metadata": {
    "collapsed": false
   },
   "outputs": [],
   "source": [
    "import yaml\n",
    "\n",
    "import sys\n",
    "sys.path.append(\"../\")\n",
    "\n",
    "from electronfactors.inputs.convert_merge_guess import convert_merge_guess\n",
    "from electronfactors.model.initialise import create_cache\n",
    "\n",
    "from electronfactors.model.iteration import iteration\n",
    "\n",
    "from electronfactors.model.display_cutouts import display_cutouts\n",
    "import matplotlib.pyplot as plt\n",
    "%matplotlib inline"
   ]
  },
  {
   "cell_type": "code",
   "execution_count": 2,
   "metadata": {
    "collapsed": true
   },
   "outputs": [],
   "source": [
    "# convert_merge_guess()"
   ]
  },
  {
   "cell_type": "code",
   "execution_count": 3,
   "metadata": {
    "collapsed": false
   },
   "outputs": [],
   "source": [
    "# create_cache(energy=12, applicator=10)"
   ]
  },
  {
   "cell_type": "code",
   "execution_count": 4,
   "metadata": {
    "collapsed": false
   },
   "outputs": [],
   "source": [
    "# iteration(energy=12, applicator=10)"
   ]
  },
  {
   "cell_type": "code",
   "execution_count": 18,
   "metadata": {
    "collapsed": false
   },
   "outputs": [],
   "source": [
    "energy = 12\n",
    "applicator = 10\n",
    "ssd = 100\n",
    "\n",
    "cache_filepath = (\n",
    "    \"model_cache/\" +\n",
    "    str(energy) + \"MeV_\" +\n",
    "    str(applicator) + \"app_\" +\n",
    "    str(ssd) + \"ssd.yml\"\n",
    ")\n",
    "\n",
    "cache = dict()\n",
    "\n",
    "with open(cache_filepath, 'r') as file:\n",
    "    cache['iter 01'] = yaml.load(file)"
   ]
  },
  {
   "cell_type": "code",
   "execution_count": 19,
   "metadata": {
    "collapsed": false
   },
   "outputs": [],
   "source": [
    "label = [key for key in cache['iter 01']]\n",
    "\n",
    "predicted_factors = dict()\n",
    "predicted_factors['iter 01'] = [cache['iter 01'][key]['predicted_factor'] for key in label]"
   ]
  },
  {
   "cell_type": "code",
   "execution_count": 20,
   "metadata": {
    "collapsed": true
   },
   "outputs": [],
   "source": [
    "iteration(energy=12, applicator=10)"
   ]
  },
  {
   "cell_type": "code",
   "execution_count": 22,
   "metadata": {
    "collapsed": false
   },
   "outputs": [],
   "source": [
    "with open(cache_filepath, 'r') as file:\n",
    "    cache['iter 02'] = yaml.load(file)\n",
    "\n",
    "predicted_factors['iter 02'] = [cache['iter 02'][key]['predicted_factor'] for key in label]"
   ]
  },
  {
   "cell_type": "code",
   "execution_count": 27,
   "metadata": {
    "collapsed": true
   },
   "outputs": [],
   "source": [
    "import numpy as np"
   ]
  },
  {
   "cell_type": "code",
   "execution_count": 29,
   "metadata": {
    "collapsed": false
   },
   "outputs": [],
   "source": [
    "test_1 = np.array(predicted_factors['iter 01'])\n",
    "test_2 = np.array(predicted_factors['iter 02'])"
   ]
  },
  {
   "cell_type": "code",
   "execution_count": 33,
   "metadata": {
    "collapsed": false
   },
   "outputs": [
    {
     "data": {
      "text/plain": [
       "[<matplotlib.lines.Line2D at 0x7f2c3ad62160>]"
      ]
     },
     "execution_count": 33,
     "metadata": {},
     "output_type": "execute_result"
    },
    {
     "data": {
      "image/png": "[encoded data removed]",
      "text/plain": [
       "<matplotlib.figure.Figure at 0x7f2c3ad79d30>"
      ]
     },
     "metadata": {},
     "output_type": "display_data"
    }
   ],
   "source": [
    "plt.plot(test_1 - test_2)"
   ]
  },
  {
   "cell_type": "code",
   "execution_count": 35,
   "metadata": {
    "collapsed": false
   },
   "outputs": [
    {
     "data": {
      "text/plain": [
       "'Simon #19 cutout'"
      ]
     },
     "execution_count": 35,
     "metadata": {},
     "output_type": "execute_result"
    }
   ],
   "source": [
    "label[np.argmax(np.abs(test_1 - test_2))]"
   ]
  },
  {
   "cell_type": "code",
   "execution_count": null,
   "metadata": {
    "collapsed": true
   },
   "outputs": [],
   "source": [
    "iteration(energy=12, applicator=10)\n",
    "\n",
    "with open(cache_filepath, 'r') as file:\n",
    "    cache['iter 03'] = yaml.load(file)\n",
    "\n",
    "predicted_factors['iter 03'] = [cache['iter 03'][key]['predicted_factor'] for key in label]\n",
    "\n",
    "display_cutouts()"
   ]
  },
  {
   "cell_type": "code",
   "execution_count": null,
   "metadata": {
    "collapsed": true
   },
   "outputs": [],
   "source": [
    "iteration(energy=12, applicator=10)\n",
    "\n",
    "with open(cache_filepath, 'r') as file:\n",
    "    cache['iter 04'] = yaml.load(file)\n",
    "\n",
    "predicted_factors['iter 04'] = [cache['iter 04'][key]['predicted_factor'] for key in label]\n",
    "\n",
    "display_cutouts()"
   ]
  },
  {
   "cell_type": "code",
   "execution_count": null,
   "metadata": {
    "collapsed": true
   },
   "outputs": [],
   "source": [
    "iteration(energy=12, applicator=10)\n",
    "\n",
    "with open(cache_filepath, 'r') as file:\n",
    "    cache['iter 05'] = yaml.load(file)\n",
    "\n",
    "predicted_factors['iter 05'] = [cache['iter 05'][key]['predicted_factor'] for key in label]\n",
    "\n",
    "display_cutouts()"
   ]
  },
  {
   "cell_type": "code",
   "execution_count": null,
   "metadata": {
    "collapsed": true
   },
   "outputs": [],
   "source": []
  }
 ],
 "metadata": {
  "kernelspec": {
   "display_name": "Python 3",
   "language": "python",
   "name": "python3"
  },
  "language_info": {
   "codemirror_mode": {
    "name": "ipython",
    "version": 3
   },
   "file_extension": ".py",
   "mimetype": "text/x-python",
   "name": "python",
   "nbconvert_exporter": "python",
   "pygments_lexer": "ipython3",
   "version": "3.4.2"
  }
 },
 "nbformat": 4,
 "nbformat_minor": 0
}
