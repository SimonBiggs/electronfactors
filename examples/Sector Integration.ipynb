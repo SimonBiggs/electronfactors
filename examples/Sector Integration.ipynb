{
 "cells": [
  {
   "cell_type": "code",
   "execution_count": 1,
   "metadata": {
    "collapsed": true
   },
   "outputs": [],
   "source": [
    "import numpy as np\n",
    "import shapely.geometry as geo\n",
    "import shapely.affinity as aff\n",
    "\n",
    "import sys\n",
    "sys.path.append(\"../\")\n",
    "from electronfactors.ellipse.utilities import shapely_cutout, shapely_point"
   ]
  },
  {
   "cell_type": "code",
   "execution_count": null,
   "metadata": {
    "collapsed": true
   },
   "outputs": [],
   "source": []
  },
  {
   "cell_type": "code",
   "execution_count": 2,
   "metadata": {
    "collapsed": true
   },
   "outputs": [],
   "source": [
    "def test_min_distance(**kwargs):\n",
    "    min_distance = kwargs['min_distance']\n",
    "    point_of_interest = kwargs['point_of_interest']\n",
    "    cutout = kwargs['cutout']\n",
    "    \n",
    "    is_within = cutout.contains(point_of_interest)\n",
    "    \n",
    "    distance = point_of_interest.distance(cutout.boundary)\n",
    "    \n",
    "    if not(is_within):\n",
    "        return False\n",
    "    \n",
    "    elif distance < min_distance:\n",
    "        return False\n",
    "    \n",
    "    else:\n",
    "        return True"
   ]
  },
  {
   "cell_type": "code",
   "execution_count": 3,
   "metadata": {
    "collapsed": true
   },
   "outputs": [],
   "source": [
    "def furthest_possible_distance(point_of_interest, cutout):\n",
    "    x = point_of_interest.xy[0][0]\n",
    "    y = point_of_interest.xy[1][0]\n",
    "    \n",
    "    translated_cutout = aff.translate(cutout, xoff=-x, yoff=-y)\n",
    "    max_bound = np.max(np.abs(translated_cutout.boundary))\n",
    "    furthest_distance = max_bound * np.sqrt(2)\n",
    "    \n",
    "    return furthest_distance"
   ]
  },
  {
   "cell_type": "code",
   "execution_count": 4,
   "metadata": {
    "collapsed": true
   },
   "outputs": [],
   "source": [
    "def make_rays(point_of_interest, cutout, num_rays):\n",
    "    x_POI = point_of_interest.xy[0][0]\n",
    "    y_POI = point_of_interest.xy[1][0]\n",
    "    \n",
    "    ray_length = furthest_possible_distance(point_of_interest, cutout)\n",
    "    theta = np.random.uniform(0, 2*np.pi, size=num_rays)\n",
    "      \n",
    "    x_points = x_POI + ray_length * np.cos(theta)\n",
    "    y_points = y_POI + ray_length * np.sin(theta)\n",
    "    \n",
    "    coords = [((x_POI, y_POI), (x_points[i], y_points[i])) for i in range(num_rays)]\n",
    "    rays = geo.MultiLineString(coords)\n",
    "    \n",
    "    return rays"
   ]
  },
  {
   "cell_type": "code",
   "execution_count": 5,
   "metadata": {
    "collapsed": true
   },
   "outputs": [],
   "source": [
    "def determine_line_segmentation(distances):\n",
    "    \n",
    "    begin_at_POI = np.array([distances[i][0] == 0.0 for i in range(len(distances))])\n",
    "    \n",
    "    segment_groups_indices  = []\n",
    "    full_lines_index = np.arange(len(begin_at_POI)).astype('float')\n",
    "\n",
    "    for i in range(1, len(begin_at_POI)):\n",
    "\n",
    "        if (~begin_at_POI[i]) & (begin_at_POI[i-1]):\n",
    "            j = int(i)\n",
    "            new_segment = [j - 1]\n",
    "            full_lines_index[j - 1] = np.nan\n",
    "\n",
    "            while ~(begin_at_POI[j]):\n",
    "                new_segment.append(j)\n",
    "                full_lines_index[j] = np.nan\n",
    "                j += 1\n",
    "                if j == len(begin_at_POI):\n",
    "                    break\n",
    "\n",
    "            segment_groups_indices.append(new_segment)\n",
    "\n",
    "    full_lines_index = full_lines_index[~np.isnan(full_lines_index)].astype('int')  \n",
    "\n",
    "    return full_lines_index, segment_groups_indices"
   ]
  },
  {
   "cell_type": "code",
   "execution_count": 6,
   "metadata": {
    "collapsed": true
   },
   "outputs": [],
   "source": [
    "def sector_integration(num_rays=100, **kwargs):    \n",
    "    x = kwargs['x']\n",
    "    y = kwargs['y']\n",
    "    circle_fit = kwargs['circle_fit']\n",
    "    min_distance = kwargs['min_distance']\n",
    "    point_of_interest = shapely_point(*kwargs['point_of_interest'])\n",
    "    \n",
    "    cutout = shapely_cutout(x, y)\n",
    "    \n",
    "    if not(test_min_distance(min_distance=min_distance, \n",
    "                             point_of_interest=point_of_interest,\n",
    "                             cutout=cutout)):\n",
    "        raise Exception(\"Point of interest is too close to edge or is outside of cutout\")\n",
    "    \n",
    "    rays = make_rays(point_of_interest, cutout, num_rays)\n",
    "    intersection = cutout.intersection(rays)\n",
    "    \n",
    "    line_ends = [\n",
    "        geo.MultiPoint(intersection[i].coords) for i in range(len(intersection))\n",
    "    ]\n",
    "    \n",
    "    distances = [\n",
    "        [\n",
    "            line_ends[j][i].distance(point_of_interest) for i in range(2)\n",
    "        ] for j in range(len(intersection))\n",
    "    ]\n",
    "    \n",
    "    full_lines_index, segment_groups_indices = determine_line_segmentation(distances)\n",
    "    \n",
    "    ray_factor = []\n",
    "    for i in full_lines_index:\n",
    "        ray_factor.append(circle_fit(distances[i][1]) - circle_fit(distances[i][0]))\n",
    "\n",
    "    for item in segment_groups_indices:\n",
    "        new_segment_factor = []\n",
    "        for i in item:\n",
    "            new_segment_factor.append(circle_fit(distances[i][1]) - circle_fit(distances[i][0]))\n",
    "\n",
    "        ray_factor.append(np.sum(new_segment_factor))\n",
    "    \n",
    "    factor = np.mean(ray_factor)\n",
    "    \n",
    "    return factor\n",
    "    "
   ]
  },
  {
   "cell_type": "code",
   "execution_count": null,
   "metadata": {
    "collapsed": true
   },
   "outputs": [],
   "source": []
  },
  {
   "cell_type": "code",
   "execution_count": 7,
   "metadata": {
    "collapsed": false
   },
   "outputs": [],
   "source": [
    "import numpy as np\n",
    "from scipy.interpolate import UnivariateSpline\n",
    "\n",
    "x = np.array([-3, -2.5, -2, 3, 3, -3, -4, -3])\n",
    "y = np.array([3, -2, 3, 3, -3, -3, 3, -2])\n",
    "\n",
    "circle_diameter = np.array([3, 4, 5, 6, 7, 8, 9])\n",
    "circle_factors = np.array(\n",
    "    [0.9296, 0.9562, 0.9705, 0.9858, 1.0032, 1.0067, 1.0084])\n",
    "\n",
    "\n",
    "def circle_fit(radii):\n",
    "\n",
    "    circle_radii = circle_diameter/2\n",
    "\n",
    "    spline = UnivariateSpline(circle_radii, circle_factors)\n",
    "    results = spline(radii)\n",
    "\n",
    "    results[radii > np.max(circle_radii)] = np.max(circle_factors)\n",
    "    results[radii < np.min(circle_radii)] = 0\n",
    "\n",
    "    return results"
   ]
  },
  {
   "cell_type": "code",
   "execution_count": 8,
   "metadata": {
    "collapsed": true
   },
   "outputs": [],
   "source": [
    "test_facor = []"
   ]
  },
  {
   "cell_type": "code",
   "execution_count": 9,
   "metadata": {
    "collapsed": false
   },
   "outputs": [],
   "source": [
    "factor = sector_integration(min_distance=1.5, point_of_interest=[1,0], x=x, y=y, circle_fit=circle_fit)\n",
    "test_facor.append(factor)"
   ]
  },
  {
   "cell_type": "code",
   "execution_count": 10,
   "metadata": {
    "collapsed": false
   },
   "outputs": [],
   "source": [
    "factor = sector_integration(min_distance=1.5, point_of_interest=[1,0], x=x, y=y, circle_fit=circle_fit)\n",
    "test_facor.append(factor)"
   ]
  },
  {
   "cell_type": "code",
   "execution_count": 11,
   "metadata": {
    "collapsed": false
   },
   "outputs": [],
   "source": [
    "factor = sector_integration(min_distance=1.5, point_of_interest=[1,0], x=x, y=y, circle_fit=circle_fit)\n",
    "test_facor.append(factor)"
   ]
  },
  {
   "cell_type": "code",
   "execution_count": 12,
   "metadata": {
    "collapsed": false
   },
   "outputs": [],
   "source": [
    "factor = sector_integration(min_distance=1.5, point_of_interest=[1,0], x=x, y=y, circle_fit=circle_fit)\n",
    "test_facor.append(factor)"
   ]
  },
  {
   "cell_type": "code",
   "execution_count": 13,
   "metadata": {
    "collapsed": false
   },
   "outputs": [],
   "source": [
    "factor = sector_integration(min_distance=1.5, point_of_interest=[1,0], x=x, y=y, circle_fit=circle_fit)\n",
    "test_facor.append(factor)"
   ]
  },
  {
   "cell_type": "code",
   "execution_count": 14,
   "metadata": {
    "collapsed": false
   },
   "outputs": [],
   "source": [
    "factor = sector_integration(min_distance=1.5, point_of_interest=[1,0], x=x, y=y, circle_fit=circle_fit)\n",
    "test_facor.append(factor)"
   ]
  },
  {
   "cell_type": "code",
   "execution_count": 15,
   "metadata": {
    "collapsed": false
   },
   "outputs": [],
   "source": [
    "factor = sector_integration(min_distance=1.5, point_of_interest=[1,0], x=x, y=y, circle_fit=circle_fit)\n",
    "test_facor.append(factor)"
   ]
  },
  {
   "cell_type": "code",
   "execution_count": 16,
   "metadata": {
    "collapsed": false
   },
   "outputs": [],
   "source": [
    "factor = sector_integration(min_distance=1.5, point_of_interest=[1,0], x=x, y=y, circle_fit=circle_fit)\n",
    "test_facor.append(factor)"
   ]
  },
  {
   "cell_type": "code",
   "execution_count": 17,
   "metadata": {
    "collapsed": false
   },
   "outputs": [],
   "source": [
    "factor = sector_integration(min_distance=1.5, point_of_interest=[1,0], x=x, y=y, circle_fit=circle_fit)\n",
    "test_facor.append(factor)"
   ]
  },
  {
   "cell_type": "code",
   "execution_count": 18,
   "metadata": {
    "collapsed": false
   },
   "outputs": [],
   "source": [
    "factor = sector_integration(min_distance=1.5, point_of_interest=[1,0], x=x, y=y, circle_fit=circle_fit)\n",
    "test_facor.append(factor)"
   ]
  },
  {
   "cell_type": "code",
   "execution_count": 19,
   "metadata": {
    "collapsed": false
   },
   "outputs": [],
   "source": [
    "factor = sector_integration(min_distance=1.5, point_of_interest=[1,0], x=x, y=y, circle_fit=circle_fit)\n",
    "test_facor.append(factor)"
   ]
  },
  {
   "cell_type": "code",
   "execution_count": null,
   "metadata": {
    "collapsed": true
   },
   "outputs": [],
   "source": []
  },
  {
   "cell_type": "code",
   "execution_count": 20,
   "metadata": {
    "collapsed": false
   },
   "outputs": [
    {
     "data": {
      "text/plain": [
       "0.0015651931720199205"
      ]
     },
     "execution_count": 20,
     "metadata": {},
     "output_type": "execute_result"
    }
   ],
   "source": [
    "np.std(test_facor)"
   ]
  },
  {
   "cell_type": "code",
   "execution_count": null,
   "metadata": {
    "collapsed": true
   },
   "outputs": [],
   "source": []
  }
 ],
 "metadata": {
  "kernelspec": {
   "display_name": "Python 3",
   "language": "python",
   "name": "python3"
  },
  "language_info": {
   "codemirror_mode": {
    "name": "ipython",
    "version": 3
   },
   "file_extension": ".py",
   "mimetype": "text/x-python",
   "name": "python",
   "nbconvert_exporter": "python",
   "pygments_lexer": "ipython3",
   "version": "3.4.0"
  }
 },
 "nbformat": 4,
 "nbformat_minor": 0
}
