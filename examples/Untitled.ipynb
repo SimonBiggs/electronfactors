{
 "cells": [
  {
   "cell_type": "code",
   "execution_count": 1,
   "metadata": {
    "collapsed": true
   },
   "outputs": [],
   "source": [
    "import numpy as np"
   ]
  },
  {
   "cell_type": "code",
   "execution_count": 2,
   "metadata": {
    "collapsed": false
   },
   "outputs": [
    {
     "data": {
      "text/plain": [
       "array([-7.        , -6.71428571, -6.42857143, -6.14285714, -5.85714286,\n",
       "       -5.57142857, -5.28571429, -5.        , -4.71428571, -4.42857143,\n",
       "       -4.14285714, -3.85714286, -3.57142857, -3.28571429, -3.        ,\n",
       "       -2.71428571, -2.42857143, -2.14285714, -1.85714286, -1.57142857,\n",
       "       -1.28571429, -1.        , -0.71428571, -0.42857143, -0.14285714,\n",
       "        0.14285714,  0.42857143,  0.71428571,  1.        ,  1.28571429,\n",
       "        1.57142857,  1.85714286,  2.14285714,  2.42857143,  2.71428571,\n",
       "        3.        ,  3.28571429,  3.57142857,  3.85714286,  4.14285714,\n",
       "        4.42857143,  4.71428571,  5.        ,  5.28571429,  5.57142857,\n",
       "        5.85714286,  6.14285714,  6.42857143,  6.71428571,  7.        ])"
      ]
     },
     "execution_count": 2,
     "metadata": {},
     "output_type": "execute_result"
    }
   ],
   "source": [
    "np.linspace(-7,7)"
   ]
  },
  {
   "cell_type": "code",
   "execution_count": null,
   "metadata": {
    "collapsed": true
   },
   "outputs": [],
   "source": []
  }
 ],
 "metadata": {
  "kernelspec": {
   "display_name": "Python 3",
   "language": "python",
   "name": "python3"
  },
  "language_info": {
   "codemirror_mode": {
    "name": "ipython",
    "version": 3
   },
   "file_extension": ".py",
   "mimetype": "text/x-python",
   "name": "python",
   "nbconvert_exporter": "python",
   "pygments_lexer": "ipython3",
   "version": "3.4.0"
  }
 },
 "nbformat": 4,
 "nbformat_minor": 0
}
