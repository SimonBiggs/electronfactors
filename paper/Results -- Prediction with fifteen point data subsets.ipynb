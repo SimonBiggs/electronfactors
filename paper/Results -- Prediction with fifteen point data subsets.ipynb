{
 "cells": [
  {
   "cell_type": "code",
   "execution_count": 1,
   "metadata": {
    "collapsed": false
   },
   "outputs": [],
   "source": [
    "import yaml\n",
    "\n",
    "import numpy as np\n",
    "\n",
    "import matplotlib.pyplot as plt\n",
    "%matplotlib inline\n",
    "\n",
    "from scipy.stats import probplot\n",
    "\n",
    "import sys\n",
    "sys.path.append(\"../\")\n",
    "\n",
    "from electronfactors.model.utilities import create_model, pull_data, fit_give, estimate_population_uncertainty\n",
    "from electronfactors.visuals.utilities import create_green_cm"
   ]
  },
  {
   "cell_type": "code",
   "execution_count": 2,
   "metadata": {
    "collapsed": true
   },
   "outputs": [],
   "source": [
    "green_cm = create_green_cm()\n",
    "\n",
    "def colour(x, alpha=1):\n",
    "    result = list(green_cm(x))\n",
    "    result[3] = alpha\n",
    "    \n",
    "    return result"
   ]
  },
  {
   "cell_type": "code",
   "execution_count": 3,
   "metadata": {
    "collapsed": true
   },
   "outputs": [],
   "source": [
    "from matplotlib import rc\n",
    "rc('font',**{'family':'serif',\n",
    "             'size':'16'})\n",
    "rc('text', usetex=True)"
   ]
  },
  {
   "cell_type": "code",
   "execution_count": 4,
   "metadata": {
    "collapsed": true
   },
   "outputs": [],
   "source": [
    "def create_histogram(data):\n",
    "    plt.figure(figsize=(6 * 1.618, 6))\n",
    "    \n",
    "    bins = np.arange(-1.5, 2, 0.5)\n",
    "    dbins = bins[1] - bins[0]\n",
    "    binsTrans = bins - dbins/2\n",
    "\n",
    "    binsTrans = binsTrans.reshape(-1,1)\n",
    "    binNum = np.argmin(abs(binsTrans - data),0)\n",
    "\n",
    "    representative_height = np.zeros(len(binNum))\n",
    "\n",
    "    for i in range(len(bins)):\n",
    "        binRef = (binNum == i)\n",
    "        representative_height[binRef] = np.arange(sum(binRef)) + 1\n",
    "\n",
    "    plt.hist(data, bins, alpha=0.6, lw=2)\n",
    "    plt.scatter(data, representative_height, zorder=2, s=120, alpha=0.8, lw=1.5)\n",
    "    \n",
    "    uncertainty = estimate_population_uncertainty(data)\n",
    "    \n",
    "    print(\"Mean = %0.2f\" % (np.mean(data)))\n",
    "    print(\"Uncertainty = %0.2f\" % (uncertainty))"
   ]
  },
  {
   "cell_type": "code",
   "execution_count": 5,
   "metadata": {
    "collapsed": false
   },
   "outputs": [],
   "source": [
    "def display_fit(width, eqPonA, factor, model):\n",
    "    plt.figure(figsize=(6 * 1.618, 6))\n",
    "    x = np.arange(np.floor(np.min(width)) - 0.5, np.ceil(np.max(width)) + 0.5, 0.05)\n",
    "    y = np.arange(np.floor(np.min(eqPonA)*10)/10 - 0.2, np.ceil(np.max(eqPonA)*10)/10 + 0.2, 0.005)\n",
    "\n",
    "    xx, yy = np.meshgrid(x, y)\n",
    "\n",
    "    zz = model(xx, yy)\n",
    "    give = fit_give(xx, yy, width, eqPonA, factor, kx=2, ky=1)\n",
    "\n",
    "    outOfTolerance = (give > 0.5)\n",
    "\n",
    "    zz[outOfTolerance] = np.nan\n",
    "\n",
    "    c = plt.contourf(xx, yy, zz, 100, alpha=1)\n",
    "    plt.colorbar(c)\n",
    "\n",
    "    plt.contour(xx, yy, give, levels=[0.5], colors='g')\n",
    "\n",
    "    plt.scatter(width, eqPonA, s=45, alpha=0.9, zorder=3)\n",
    "\n",
    "    plt.xlabel(r'Width (cm)')\n",
    "    plt.ylabel(r'Perimeter / Area (cm$^{-1}$)')\n",
    "    plt.title(r'Bivariate spline fit')"
   ]
  },
  {
   "cell_type": "code",
   "execution_count": 6,
   "metadata": {
    "collapsed": false
   },
   "outputs": [],
   "source": [
    "# width, length, eqPonA, factor = pull_data(energy=12)\n",
    "\n",
    "with open(\"model_cache/12MeV_10app_100ssd.yml\", 'r') as file:\n",
    "    cutout_data = yaml.load(file)\n",
    "    \n",
    "label = np.array([key for key in cutout_data])\n",
    "book_factor = np.array([item[0] == 'P' for i, item in enumerate(label)])\n",
    "\n",
    "custom_label = label[~book_factor]\n",
    "\n",
    "width = np.array([cutout_data[key]['width'] for key in custom_label])\n",
    "length = np.array([cutout_data[key]['length'] for key in custom_label])\n",
    "factor = np.array([cutout_data[key]['factor'] for key in custom_label])\n",
    "\n",
    "perimeter = np.pi / 2 * (3*(width + length) - np.sqrt((3*width + length)*(3*length + width)))\n",
    "area = np.pi / 4 * width * length\n",
    "eqPonA = perimeter / area"
   ]
  },
  {
   "cell_type": "code",
   "execution_count": 27,
   "metadata": {
    "collapsed": false
   },
   "outputs": [
    {
     "data": {
      "text/plain": [
       "array([24, 19,  1, 35, 34, 13, 37, 30, 33, 32,  2, 36, 23, 26, 20])"
      ]
     },
     "execution_count": 27,
     "metadata": {},
     "output_type": "execute_result"
    }
   ],
   "source": [
    "amount = 15\n",
    "order = np.arange(len(width))\n",
    "np.random.shuffle(order)\n",
    "reference = order[0:amount]\n",
    "reference"
   ]
  },
  {
   "cell_type": "code",
   "execution_count": 28,
   "metadata": {
    "collapsed": false
   },
   "outputs": [
    {
     "data": {
      "text/plain": [
       "array([ 5.26,  6.54,  5.26,  7.08,  6.78,  3.71,  6.41,  5.72,  7.82,\n",
       "        6.08,  4.21,  3.66,  4.2 ,  4.59,  4.59])"
      ]
     },
     "execution_count": 28,
     "metadata": {},
     "output_type": "execute_result"
    }
   ],
   "source": [
    "width[reference]"
   ]
  },
  {
   "cell_type": "code",
   "execution_count": 29,
   "metadata": {
    "collapsed": false
   },
   "outputs": [
    {
     "data": {
      "text/plain": [
       "array([ 0.55292088,  0.54575098,  0.58629662,  0.47320223,  0.48382914,\n",
       "        0.99841277,  0.54525668,  0.53721669,  0.4429889 ,  0.63045757,\n",
       "        0.73274935,  0.94921616,  0.95125019,  0.79064916,  0.74724175])"
      ]
     },
     "execution_count": 29,
     "metadata": {},
     "output_type": "execute_result"
    }
   ],
   "source": [
    "eqPonA[reference]"
   ]
  },
  {
   "cell_type": "code",
   "execution_count": 30,
   "metadata": {
    "collapsed": false
   },
   "outputs": [
    {
     "data": {
      "text/plain": [
       "array([ 0.9868,  0.9931,  0.9879,  1.0052,  1.0067,  0.9489,  0.9991,\n",
       "        0.9989,  1.0019,  0.9933,  0.9708,  0.9437,  0.9562,  0.9587,\n",
       "        0.9683])"
      ]
     },
     "execution_count": 30,
     "metadata": {},
     "output_type": "execute_result"
    }
   ],
   "source": [
    "factor[reference]"
   ]
  },
  {
   "cell_type": "code",
   "execution_count": 31,
   "metadata": {
    "collapsed": false
   },
   "outputs": [
    {
     "data": {
      "text/plain": [
       "array([ 0,  3,  4,  5,  6,  7,  8,  9, 10, 11, 12, 14, 15, 16, 17, 18, 21,\n",
       "       22, 25, 27, 28, 29, 31, 38, 39, 40, 41])"
      ]
     },
     "execution_count": 31,
     "metadata": {},
     "output_type": "execute_result"
    }
   ],
   "source": [
    "check = np.setdiff1d(np.arange(len(width)), reference)\n",
    "check"
   ]
  },
  {
   "cell_type": "code",
   "execution_count": 32,
   "metadata": {
    "collapsed": true
   },
   "outputs": [],
   "source": [
    "give = np.zeros(len(check))\n",
    "predictions = np.zeros(len(check))\n",
    "\n",
    "model = create_model(width[reference], eqPonA[reference], factor[reference])"
   ]
  },
  {
   "cell_type": "code",
   "execution_count": 33,
   "metadata": {
    "collapsed": false
   },
   "outputs": [
    {
     "data": {
      "text/plain": [
       "<matplotlib.collections.PathCollection at 0xa1cff28>"
      ]
     },
     "execution_count": 33,
     "metadata": {},
     "output_type": "execute_result"
    },
    {
     "data": {
      "image/png": "[encoded data removed]",
      "text/plain": [
       "<matplotlib.figure.Figure at 0x8835fd0>"
      ]
     },
     "metadata": {},
     "output_type": "display_data"
    }
   ],
   "source": [
    "display_fit(width[reference], eqPonA[reference], factor[reference], model)\n",
    "plt.scatter(width[check], eqPonA[check], c='red', alpha=0.5)"
   ]
  },
  {
   "cell_type": "code",
   "execution_count": 34,
   "metadata": {
    "collapsed": true
   },
   "outputs": [],
   "source": [
    "for i, value in enumerate(check):\n",
    "    predictions[i] = model(width[value], eqPonA[value])\n",
    "    give[i] = fit_give(\n",
    "        width[value], eqPonA[value], \n",
    "        width[reference], eqPonA[reference], factor[reference])\n",
    "\n",
    "percent_prediction_differences = 100*(factor[check] - predictions) / factor[check]\n",
    "\n",
    "valid = give < 0.5"
   ]
  },
  {
   "cell_type": "code",
   "execution_count": 35,
   "metadata": {
    "collapsed": false
   },
   "outputs": [
    {
     "name": "stdout",
     "output_type": "stream",
     "text": [
      "Mean = -0.07\n",
      "Uncertainty = 0.37\n"
     ]
    },
    {
     "data": {
      "image/png": "[encoded data removed]",
      "text/plain": [
       "<matplotlib.figure.Figure at 0xa1f5cf8>"
      ]
     },
     "metadata": {},
     "output_type": "display_data"
    }
   ],
   "source": [
    "create_histogram(percent_prediction_differences[valid])"
   ]
  },
  {
   "cell_type": "code",
   "execution_count": 16,
   "metadata": {
    "collapsed": true
   },
   "outputs": [],
   "source": [
    "store = np.array([])\n",
    "mean_diff = np.array([])\n",
    "individual_std = np.array([])"
   ]
  },
  {
   "cell_type": "code",
   "execution_count": 17,
   "metadata": {
    "collapsed": false
   },
   "outputs": [],
   "source": [
    "amount = 15\n",
    "\n",
    "for j in range(1000):\n",
    "    order = np.arange(len(width))\n",
    "    np.random.shuffle(order)\n",
    "    reference = order[0:amount]\n",
    "    reference\n",
    "    check = np.setdiff1d(np.arange(len(width)), reference)\n",
    "    check\n",
    "    give = np.zeros(len(check))\n",
    "    predictions = np.zeros(len(check))\n",
    "\n",
    "    model = create_model(width[reference], eqPonA[reference], factor[reference])\n",
    "\n",
    "    for i, value in enumerate(check):\n",
    "        predictions[i] = model(width[value], eqPonA[value])\n",
    "        give[i] = fit_give(\n",
    "            width[value], eqPonA[value], \n",
    "            width[reference], eqPonA[reference], factor[reference])\n",
    "\n",
    "    percent_prediction_differences = 100*(factor[check] - predictions) / factor[check]\n",
    "\n",
    "    valid = give < 0.5\n",
    "    store = np.append(store, percent_prediction_differences[valid])\n",
    "    mean_diff = np.append(mean_diff, np.mean(percent_prediction_differences[valid]))\n",
    "    individual_std = np.append(individual_std, np.std(percent_prediction_differences[valid]))"
   ]
  },
  {
   "cell_type": "code",
   "execution_count": 18,
   "metadata": {
    "collapsed": false
   },
   "outputs": [
    {
     "name": "stdout",
     "output_type": "stream",
     "text": [
      "Mean = -0.02\n",
      "Uncertainty = 0.43\n"
     ]
    },
    {
     "name": "stderr",
     "output_type": "stream",
     "text": [
      "..\\electronfactors\\model\\utilities.py:144: RuntimeWarning: invalid value encountered in double_scalars\n",
      "  output = np.sqrt(2/(n-1)) * gamma(n/2) / gamma((n-1)/2)\n"
     ]
    },
    {
     "data": {
      "text/plain": [
       "<matplotlib.text.Text at 0x8984a20>"
      ]
     },
     "execution_count": 18,
     "metadata": {},
     "output_type": "execute_result"
    },
    {
     "data": {
      "image/png": "[encoded data removed]",
      "text/plain": [
       "<matplotlib.figure.Figure at 0x8a000b8>"
      ]
     },
     "metadata": {},
     "output_type": "display_data"
    }
   ],
   "source": [
    "bins = np.arange(-2, 2.25, 0.25)\n",
    "\n",
    "plt.figure(figsize=(6 * 1.618, 6))\n",
    "\n",
    "plt.hist(store, bins, lw=2, fc=colour(0.55, alpha=0.5))\n",
    "\n",
    "uncertainty = estimate_population_uncertainty(store)\n",
    "\n",
    "print(\"Mean = %0.2f\" % (np.mean(store)))\n",
    "print(\"Uncertainty = %0.2f\" % (uncertainty))\n",
    "\n",
    "plt.xlabel(\n",
    "    r'\\% Prediction Difference '\n",
    "    r'$\\left[100 \\times \\frac{\\mbox{measured } - \\mbox{ predicted}}{\\mbox{measured}} \\right]$')\n",
    "plt.ylabel(r'Frequency')\n",
    "plt.title(r'Histogram of percent prediction differences of data subsets')"
   ]
  },
  {
   "cell_type": "code",
   "execution_count": 19,
   "metadata": {
    "collapsed": false
   },
   "outputs": [
    {
     "data": {
      "text/plain": [
       "<matplotlib.text.Text at 0x8a34c50>"
      ]
     },
     "execution_count": 19,
     "metadata": {},
     "output_type": "execute_result"
    },
    {
     "data": {
      "image/png": "[encoded data removed]",
      "text/plain": [
       "<matplotlib.figure.Figure at 0x89c7c18>"
      ]
     },
     "metadata": {},
     "output_type": "display_data"
    }
   ],
   "source": [
    "fig = plt.figure(figsize=(7,4))\n",
    "ax = fig.add_subplot(111)\n",
    "\n",
    "probplot(store, plot=ax);\n",
    "\n",
    "ax.set_title(\"Normality probability plot for the percent differences\")"
   ]
  },
  {
   "cell_type": "code",
   "execution_count": 20,
   "metadata": {
    "collapsed": false
   },
   "outputs": [
    {
     "data": {
      "text/plain": [
       "-1.3690220058025162"
      ]
     },
     "execution_count": 20,
     "metadata": {},
     "output_type": "execute_result"
    }
   ],
   "source": [
    "np.min(store)"
   ]
  },
  {
   "cell_type": "code",
   "execution_count": 21,
   "metadata": {
    "collapsed": false
   },
   "outputs": [
    {
     "data": {
      "text/plain": [
       "20615"
      ]
     },
     "execution_count": 21,
     "metadata": {},
     "output_type": "execute_result"
    }
   ],
   "source": [
    "len(store)"
   ]
  },
  {
   "cell_type": "code",
   "execution_count": 22,
   "metadata": {
    "collapsed": false
   },
   "outputs": [
    {
     "data": {
      "text/plain": [
       "0.11461705199789236"
      ]
     },
     "execution_count": 22,
     "metadata": {},
     "output_type": "execute_result"
    }
   ],
   "source": [
    "mean_diff = mean_diff[~np.isnan(mean_diff)]\n",
    "\n",
    "np.mean(np.abs(mean_diff))"
   ]
  },
  {
   "cell_type": "code",
   "execution_count": 23,
   "metadata": {
    "collapsed": false
   },
   "outputs": [
    {
     "data": {
      "text/plain": [
       "(array([   6.,   31.,   80.,  153.,  211.,  249.,  160.,   77.,   22.,   11.]),\n",
       " array([-0.45523307, -0.3688766 , -0.28252013, -0.19616366, -0.10980719,\n",
       "        -0.02345072,  0.06290575,  0.14926222,  0.23561869,  0.32197516,\n",
       "         0.40833163]),\n",
       " <a list of 10 Patch objects>)"
      ]
     },
     "execution_count": 23,
     "metadata": {},
     "output_type": "execute_result"
    },
    {
     "data": {
      "image/png": "[encoded data removed]",
      "text/plain": [
       "<matplotlib.figure.Figure at 0x8a6db00>"
      ]
     },
     "metadata": {},
     "output_type": "display_data"
    }
   ],
   "source": [
    "plt.hist(mean_diff)"
   ]
  },
  {
   "cell_type": "code",
   "execution_count": 36,
   "metadata": {
    "collapsed": false
   },
   "outputs": [
    {
     "data": {
      "text/plain": [
       "0.14347746911412515"
      ]
     },
     "execution_count": 36,
     "metadata": {},
     "output_type": "execute_result"
    }
   ],
   "source": [
    "np.std(mean_diff)"
   ]
  },
  {
   "cell_type": "code",
   "execution_count": null,
   "metadata": {
    "collapsed": true
   },
   "outputs": [],
   "source": []
  },
  {
   "cell_type": "code",
   "execution_count": 24,
   "metadata": {
    "collapsed": false
   },
   "outputs": [
    {
     "data": {
      "text/plain": [
       "0.40625385378809437"
      ]
     },
     "execution_count": 24,
     "metadata": {},
     "output_type": "execute_result"
    }
   ],
   "source": [
    "individual_std = individual_std[~np.isnan(individual_std)]\n",
    "np.mean(np.abs(individual_std))"
   ]
  },
  {
   "cell_type": "code",
   "execution_count": 25,
   "metadata": {
    "collapsed": false
   },
   "outputs": [
    {
     "data": {
      "text/plain": [
       "(array([  20.,   63.,  166.,  227.,  239.,  154.,   83.,   37.,    6.,    5.]),\n",
       " array([ 0.26476883,  0.29890449,  0.33304016,  0.36717583,  0.40131149,\n",
       "         0.43544716,  0.46958283,  0.50371849,  0.53785416,  0.57198982,\n",
       "         0.60612549]),\n",
       " <a list of 10 Patch objects>)"
      ]
     },
     "execution_count": 25,
     "metadata": {},
     "output_type": "execute_result"
    },
    {
     "data": {
      "image/png": "[encoded data removed]",
      "text/plain": [
       "<matplotlib.figure.Figure at 0x85b0278>"
      ]
     },
     "metadata": {},
     "output_type": "display_data"
    }
   ],
   "source": [
    "plt.hist(individual_std)"
   ]
  },
  {
   "cell_type": "code",
   "execution_count": 26,
   "metadata": {
    "collapsed": false
   },
   "outputs": [
    {
     "data": {
      "text/plain": [
       "(array([  21.,  108.,  205.,  226.,  185.,  129.,   72.,   40.,   12.,    2.]),\n",
       " array([ 0.30277606,  0.35854547,  0.41431488,  0.47008429,  0.5258537 ,\n",
       "         0.58162311,  0.63739252,  0.69316193,  0.74893134,  0.80470075,\n",
       "         0.86047015]),\n",
       " <a list of 10 Patch objects>)"
      ]
     },
     "execution_count": 26,
     "metadata": {},
     "output_type": "execute_result"
    },
    {
     "data": {
      "image/png": "[encoded data removed]",
      "text/plain": [
       "<matplotlib.figure.Figure at 0x88a4668>"
      ]
     },
     "metadata": {},
     "output_type": "display_data"
    }
   ],
   "source": [
    "plt.hist(individual_std + np.abs(mean_diff))"
   ]
  }
 ],
 "metadata": {
  "kernelspec": {
   "display_name": "Python 3",
   "language": "python",
   "name": "python3"
  },
  "language_info": {
   "codemirror_mode": {
    "name": "ipython",
    "version": 3
   },
   "file_extension": ".py",
   "mimetype": "text/x-python",
   "name": "python",
   "nbconvert_exporter": "python",
   "pygments_lexer": "ipython3",
   "version": "3.4.1"
  }
 },
 "nbformat": 4,
 "nbformat_minor": 0
}
