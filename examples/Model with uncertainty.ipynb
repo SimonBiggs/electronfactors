{
 "cells": [
  {
   "cell_type": "code",
   "execution_count": 1,
   "metadata": {
    "collapsed": false
   },
   "outputs": [],
   "source": [
    "import yaml\n",
    "import numpy as np\n",
    "\n",
    "import matplotlib.pyplot as plt\n",
    "%matplotlib inline\n",
    "\n",
    "from scipy.interpolate import SmoothBivariateSpline\n",
    "\n",
    "import sys\n",
    "sys.path.append(\"../\")\n",
    "\n",
    "from electronfactors.model.threshold import angle_gap, fit_give"
   ]
  },
  {
   "cell_type": "code",
   "execution_count": 2,
   "metadata": {
    "collapsed": true
   },
   "outputs": [],
   "source": [
    "with open(\"model_cache/6MeV_10app_100ssd.yml\", 'r') as file:\n",
    "    cutout_data = yaml.load(file)"
   ]
  },
  {
   "cell_type": "code",
   "execution_count": 3,
   "metadata": {
    "collapsed": false
   },
   "outputs": [],
   "source": [
    "label = np.array([key for key in cutout_data])\n",
    "book_factor = np.array([item[0] == 'P' for i, item in enumerate(label)])"
   ]
  },
  {
   "cell_type": "code",
   "execution_count": 4,
   "metadata": {
    "collapsed": false
   },
   "outputs": [],
   "source": [
    "# custom_label = label[~book_factor]\n",
    "# custom_label = label[label != 'P3']\n",
    "\n",
    "custom_label = label\n",
    "\n",
    "width = np.array([cutout_data[key]['width'] for key in custom_label])\n",
    "length = np.array([cutout_data[key]['length'] for key in custom_label])\n",
    "factor = np.array([cutout_data[key]['factor'] for key in custom_label])"
   ]
  },
  {
   "cell_type": "code",
   "execution_count": 5,
   "metadata": {
    "collapsed": true
   },
   "outputs": [],
   "source": [
    "# factor[label == 'P3'] = 0.999"
   ]
  },
  {
   "cell_type": "code",
   "execution_count": 6,
   "metadata": {
    "collapsed": true
   },
   "outputs": [],
   "source": [
    "def to_eqPonA(width, length):\n",
    "    ratio = width/length\n",
    "    eqPonA = 2*(3*(ratio+1) - np.sqrt((3*ratio+1)*(ratio+3))) / width\n",
    "    \n",
    "    return eqPonA"
   ]
  },
  {
   "cell_type": "code",
   "execution_count": 7,
   "metadata": {
    "collapsed": false
   },
   "outputs": [
    {
     "data": {
      "text/plain": [
       "<matplotlib.collections.PathCollection at 0x7fadae013710>"
      ]
     },
     "execution_count": 7,
     "metadata": {},
     "output_type": "execute_result"
    },
    {
     "data": {
      "image/png": "[encoded data removed]",
      "text/plain": [
       "<matplotlib.figure.Figure at 0x7fadae05bba8>"
      ]
     },
     "metadata": {},
     "output_type": "display_data"
    }
   ],
   "source": [
    "ratio = width/length\n",
    "eqPonA = 2*(3*(ratio+1) - np.sqrt((3*ratio+1)*(ratio+3))) / width\n",
    "\n",
    "plt.scatter(width, eqPonA)"
   ]
  },
  {
   "cell_type": "code",
   "execution_count": 8,
   "metadata": {
    "collapsed": true
   },
   "outputs": [],
   "source": [
    "# bbox=[min(width),max(width), min(eqPonA),max(eqPonA)]\n",
    "\n",
    "spline = SmoothBivariateSpline(width,eqPonA,factor,kx=2,ky=1)\n",
    "\n"
   ]
  },
  {
   "cell_type": "code",
   "execution_count": 9,
   "metadata": {
    "collapsed": false
   },
   "outputs": [
    {
     "data": {
      "text/plain": [
       "<matplotlib.collections.PathCollection at 0x7fadae086c50>"
      ]
     },
     "execution_count": 9,
     "metadata": {},
     "output_type": "execute_result"
    },
    {
     "data": {
      "image/png": "[encoded data removed]",
      "text/plain": [
       "<matplotlib.figure.Figure at 0x7fadae086da0>"
      ]
     },
     "metadata": {},
     "output_type": "display_data"
    }
   ],
   "source": [
    "circle_test_width = np.linspace(3,12)\n",
    "circle_test_eqPonA = to_eqPonA(circle_test_width, circle_test_width)\n",
    "\n",
    "circle_test_prediction = spline.ev(circle_test_width, circle_test_eqPonA)\n",
    "plt.plot(circle_test_width, circle_test_prediction)\n",
    "circle_ref = np.abs(width - length) < 0.1\n",
    "plt.scatter(width[circle_ref], factor[circle_ref])"
   ]
  },
  {
   "cell_type": "code",
   "execution_count": 10,
   "metadata": {
    "collapsed": false
   },
   "outputs": [],
   "source": [
    "x = np.arange(2,14,0.1)\n",
    "y = x\n",
    "\n",
    "xx, yy = np.meshgrid(x,y)\n",
    "   \n",
    "mesh_width = xx.copy()\n",
    "mesh_width[xx>yy] = yy[xx>yy]\n",
    "\n",
    "mesh_length = xx.copy()\n",
    "mesh_length[yy>xx] = yy[yy>xx]\n",
    "\n",
    "mesh_ratio = mesh_width / mesh_length\n",
    "\n",
    "mesh_eqPonA = 2*( 3*(mesh_ratio+1) - np.sqrt( (3*mesh_ratio+1)*(mesh_ratio+3) ) ) / mesh_width\n",
    "\n",
    "zz = spline.ev(mesh_width, mesh_eqPonA)\n",
    "give = fit_give(mesh_width, mesh_eqPonA, width, eqPonA, factor, kx=2, ky=1)\n",
    "gap = angle_gap(mesh_width, mesh_eqPonA, width, eqPonA, 1, 1)\n",
    "\n",
    "outOfTolerance = (give > 0.5) | (gap > 180)\n",
    "\n",
    "zz[outOfTolerance] = np.nan\n",
    "    \n",
    "zz = np.floor(zz*1e4)/1e4"
   ]
  },
  {
   "cell_type": "code",
   "execution_count": 11,
   "metadata": {
    "collapsed": false
   },
   "outputs": [
    {
     "data": {
      "text/plain": [
       "(0.0, 16.0, 0.0, 16.0)"
      ]
     },
     "execution_count": 11,
     "metadata": {},
     "output_type": "execute_result"
    },
    {
     "data": {
      "image/png": "[encoded data removed]",
      "text/plain": [
       "<matplotlib.figure.Figure at 0x7fadae061080>"
      ]
     },
     "metadata": {},
     "output_type": "display_data"
    }
   ],
   "source": [
    "c = plt.contourf(xx,yy,zz,100)\n",
    "plt.colorbar(c)\n",
    "\n",
    "plt.contour(xx, yy, give, levels=[0.5], colors='g')\n",
    "plt.contour(xx, yy, gap, levels=[180], colors='r')\n",
    "\n",
    "plt.scatter(width, length, s=30)\n",
    "plt.scatter(length, width, s=30, alpha=0.2)\n",
    "\n",
    "plt.xlabel('Width (cm)')\n",
    "plt.ylabel('Length (cm)')\n",
    "plt.title('Bivariate spline fit')\n",
    "\n",
    "plt.axis('equal')"
   ]
  },
  {
   "cell_type": "code",
   "execution_count": 12,
   "metadata": {
    "collapsed": false
   },
   "outputs": [
    {
     "data": {
      "text/plain": [
       "<matplotlib.collections.PathCollection at 0x7fadadd7a320>"
      ]
     },
     "execution_count": 12,
     "metadata": {},
     "output_type": "execute_result"
    },
    {
     "data": {
      "image/png": "[encoded data removed]",
      "text/plain": [
       "<matplotlib.figure.Figure at 0x7fadadda64e0>"
      ]
     },
     "metadata": {},
     "output_type": "display_data"
    }
   ],
   "source": [
    "residuals_lengthwidth = factor - spline.ev(width, eqPonA)\n",
    "\n",
    "binSize = np.floor(4 * residuals_lengthwidth.ptp() / len(residuals_lengthwidth) / 0.0005) * 0.0005\n",
    "binStart = np.floor(residuals_lengthwidth.min()/binSize)*binSize\n",
    "binEnd = np.ceil(residuals_lengthwidth.max()/binSize)*binSize\n",
    "\n",
    "bins = np.arange(binStart,binEnd+binSize,binSize)\n",
    "\n",
    "dbins = bins[1] - bins[0]\n",
    "binsTrans = bins - dbins/2\n",
    "\n",
    "binsTrans = binsTrans.reshape(-1,1)\n",
    "binNum = np.argmin(abs(binsTrans - residuals_lengthwidth),0)\n",
    "\n",
    "representative_height = np.zeros(len(binNum))\n",
    "\n",
    "for i in range(len(bins)):\n",
    "    binRef = (binNum == i)\n",
    "    representative_height[binRef] = np.arange(sum(binRef)) + 1\n",
    "\n",
    "plt.hist(residuals_lengthwidth,bins,alpha=0.5)\n",
    "plt.scatter(residuals_lengthwidth,representative_height,zorder=2,s=50,)"
   ]
  },
  {
   "cell_type": "code",
   "execution_count": 13,
   "metadata": {
    "collapsed": false
   },
   "outputs": [
    {
     "data": {
      "text/plain": [
       "0.0046186984131433928"
      ]
     },
     "execution_count": 13,
     "metadata": {},
     "output_type": "execute_result"
    }
   ],
   "source": [
    "np.std(residuals_lengthwidth)"
   ]
  },
  {
   "cell_type": "code",
   "execution_count": 14,
   "metadata": {
    "collapsed": false
   },
   "outputs": [
    {
     "data": {
      "text/plain": [
       "8"
      ]
     },
     "execution_count": 14,
     "metadata": {},
     "output_type": "execute_result"
    }
   ],
   "source": [
    "np.argmax(np.abs(residuals_lengthwidth))"
   ]
  },
  {
   "cell_type": "code",
   "execution_count": 15,
   "metadata": {
    "collapsed": false
   },
   "outputs": [],
   "source": [
    "# label[20]"
   ]
  },
  {
   "cell_type": "code",
   "execution_count": null,
   "metadata": {
    "collapsed": true
   },
   "outputs": [],
   "source": []
  },
  {
   "cell_type": "code",
   "execution_count": null,
   "metadata": {
    "collapsed": true
   },
   "outputs": [],
   "source": []
  },
  {
   "cell_type": "code",
   "execution_count": null,
   "metadata": {
    "collapsed": true
   },
   "outputs": [],
   "source": []
  },
  {
   "cell_type": "code",
   "execution_count": null,
   "metadata": {
    "collapsed": true
   },
   "outputs": [],
   "source": []
  },
  {
   "cell_type": "code",
   "execution_count": 16,
   "metadata": {
    "collapsed": true
   },
   "outputs": [],
   "source": [
    "from scipy.special import gamma\n",
    "\n",
    "def c4(n):\n",
    "    \n",
    "    output = np.sqrt(2/(n-1)) * gamma(n/2) / gamma((n-1)/2)\n",
    "    if np.isnan(output):\n",
    "        output = 1\n",
    "        \n",
    "    return output"
   ]
  },
  {
   "cell_type": "code",
   "execution_count": 17,
   "metadata": {
    "collapsed": false
   },
   "outputs": [
    {
     "name": "stdout",
     "output_type": "stream",
     "text": [
      "0.00787798973412\n",
      "0.000945840613652\n"
     ]
    },
    {
     "data": {
      "image/png": "[encoded data removed]",
      "text/plain": [
       "<matplotlib.figure.Figure at 0x7fadadda6438>"
      ]
     },
     "metadata": {},
     "output_type": "display_data"
    }
   ],
   "source": [
    "predictionValue = np.zeros(len(custom_label))\n",
    "# bbox = [\n",
    "#     min(width) - width.ptp()*0.2,\n",
    "#     max(width) + width.ptp()*0.2, \n",
    "#     min(eqPonA) - eqPonA.ptp()*0.2,\n",
    "#     max(eqPonA) + eqPonA.ptp()*0.2]\n",
    "\n",
    "for i in range(len(custom_label)):\n",
    "\n",
    "    widthTest = np.delete(width, i)\n",
    "    eqPonATest = np.delete(eqPonA, i)\n",
    "    factorTest = np.delete(factor, i)\n",
    "\n",
    "    predictionTestSpline = SmoothBivariateSpline(\n",
    "        widthTest, eqPonATest, factorTest, kx=2, ky=1)\n",
    "\n",
    "    predictionValue[i] = predictionTestSpline.ev(width[i],eqPonA[i])\n",
    "\n",
    "\n",
    "predictionDifference = factor - predictionValue\n",
    "\n",
    "plt.hist(predictionDifference, alpha=0.5)\n",
    "\n",
    "predictionStd = np.std(predictionDifference, ddof=1) / c4(len(predictionDifference))\n",
    "\n",
    "print(predictionStd)\n",
    "print(np.mean(predictionDifference))"
   ]
  },
  {
   "cell_type": "code",
   "execution_count": 18,
   "metadata": {
    "collapsed": false
   },
   "outputs": [],
   "source": [
    "# predictionValue = np.zeros(len(custom_label))\n",
    "# give = np.zeros(len(custom_label))\n",
    "# gap = np.zeros(len(custom_label))\n",
    "\n",
    "# # bbox = [\n",
    "# #     min(width) - width.ptp()*0.2,\n",
    "# #     max(width) + width.ptp()*0.2, \n",
    "# #     min(eqPonA) - eqPonA.ptp()*0.2,\n",
    "# #     max(eqPonA) + eqPonA.ptp()*0.2]\n",
    "\n",
    "# for i in range(len(custom_label)):\n",
    "\n",
    "#     widthTest = np.delete(width, i)\n",
    "#     eqPonATest = np.delete(eqPonA, i)\n",
    "#     factorTest = np.delete(factor, i)\n",
    "\n",
    "#     predictionTestSpline = SmoothBivariateSpline(\n",
    "#         widthTest, eqPonATest, factorTest, kx=1, ky=1)\n",
    "\n",
    "#     predictionValue[i] = predictionTestSpline.ev(width[i],eqPonA[i])\n",
    "    \n",
    "#     give[i] = fit_give(width[i], eqPonA[i], widthTest, eqPonATest, factorTest)\n",
    "#     gap[i] = angle_gap(width[i], eqPonA[i], widthTest, eqPonATest, 1, 1)\n",
    "\n",
    "\n",
    "# outOfTolerance = (give > 0.5) | (gap > 180)\n",
    "\n",
    "# predictionDifference = factor[~outOfTolerance] - predictionValue[~outOfTolerance]\n",
    "\n",
    "# plt.hist(predictionDifference, alpha=0.5)\n",
    "\n",
    "# predictionStd = np.std(predictionDifference, ddof=1) / c4(len(predictionDifference))\n",
    "\n",
    "# print(predictionStd)\n",
    "# print(np.mean(predictionDifference))"
   ]
  },
  {
   "cell_type": "code",
   "execution_count": null,
   "metadata": {
    "collapsed": true
   },
   "outputs": [],
   "source": []
  },
  {
   "cell_type": "code",
   "execution_count": 19,
   "metadata": {
    "collapsed": false
   },
   "outputs": [],
   "source": [
    "# np.argmax(np.abs(predictionDifference))"
   ]
  },
  {
   "cell_type": "code",
   "execution_count": 20,
   "metadata": {
    "collapsed": false
   },
   "outputs": [],
   "source": [
    "# label[7]"
   ]
  },
  {
   "cell_type": "code",
   "execution_count": 21,
   "metadata": {
    "collapsed": false
   },
   "outputs": [
    {
     "data": {
      "text/plain": [
       "<matplotlib.collections.PathCollection at 0x7fadadc738d0>"
      ]
     },
     "execution_count": 21,
     "metadata": {},
     "output_type": "execute_result"
    },
    {
     "data": {
      "image/png": "[encoded data removed]",
      "text/plain": [
       "<matplotlib.figure.Figure at 0x7fadadd3feb8>"
      ]
     },
     "metadata": {},
     "output_type": "display_data"
    }
   ],
   "source": [
    "percentDifference = 100*(factor - predictionValue) / factor\n",
    "\n",
    "binSize = np.floor(4 * percentDifference.ptp() / len(percentDifference) / 0.05) * 0.05\n",
    "binStart = np.floor(percentDifference.min() / binSize)*binSize\n",
    "binEnd = np.ceil(percentDifference.max() / binSize)*binSize\n",
    "\n",
    "bins = np.arange(binStart, binEnd+binSize, binSize)\n",
    "\n",
    "\n",
    "dbins = bins[1] - bins[0]\n",
    "binsTrans = bins - dbins/2\n",
    "\n",
    "binsTrans = binsTrans.reshape(-1,1)\n",
    "binNum = np.argmin(abs(binsTrans - percentDifference),0)\n",
    "\n",
    "representative_height = np.zeros(len(binNum))\n",
    "\n",
    "for i in range(len(bins)):\n",
    "\n",
    "    binRef = (binNum == i)\n",
    "\n",
    "    representative_height[binRef] = np.arange(sum(binRef)) + 1\n",
    "\n",
    "\n",
    "plt.hist(percentDifference,bins,alpha=0.5)\n",
    "plt.scatter(percentDifference,representative_height,zorder=2,s=50,)"
   ]
  },
  {
   "cell_type": "code",
   "execution_count": 22,
   "metadata": {
    "collapsed": false
   },
   "outputs": [
    {
     "data": {
      "text/plain": [
       "array(['Simon 6.7x12cm_6MeV', 'P35_2', 'P7', 'Simon 8.3cm_6MeV',\n",
       "       'Simon 7.25cm_6MeV', 'Simon 5cm_6MeV', 'Simon 9.5cm_6MeV',\n",
       "       'Simon 6.1cm_6MeV', 'Simon 5.3x12.5cm_6MeV', 'P6',\n",
       "       'Simon 8.5x10.9cm_6MeV', 'P24'], \n",
       "      dtype='<U21')"
      ]
     },
     "execution_count": 22,
     "metadata": {},
     "output_type": "execute_result"
    }
   ],
   "source": [
    "label[np.argsort(np.abs(percentDifference))][::-1]"
   ]
  },
  {
   "cell_type": "code",
   "execution_count": null,
   "metadata": {
    "collapsed": true
   },
   "outputs": [],
   "source": []
  },
  {
   "cell_type": "code",
   "execution_count": 23,
   "metadata": {
    "collapsed": true
   },
   "outputs": [],
   "source": [
    "from scipy.stats import shapiro, probplot, ttest_1samp"
   ]
  },
  {
   "cell_type": "code",
   "execution_count": 24,
   "metadata": {
    "collapsed": false,
    "scrolled": true
   },
   "outputs": [
    {
     "name": "stdout",
     "output_type": "stream",
     "text": [
      "t-Test: 0.6851 which is not significant\n",
      "Shapiro: 0.5106 which is not significant\n",
      "Standard deviation with bias correction: 0.79\n",
      "Mean:0.09\n"
     ]
    }
   ],
   "source": [
    "t, ttestProb = ttest_1samp(percentDifference,0)\n",
    "res_ttest = \"%0.4f\" %(ttestProb)\n",
    "\n",
    "if ttestProb < 0.1:\n",
    "    tSignificance = 'significant'\n",
    "else:\n",
    "    tSignificance = 'not significant'\n",
    "\n",
    "print('t-Test: ' + res_ttest + ' which is ' + tSignificance)\n",
    "\n",
    "W, shapiroProb = shapiro(percentDifference)\n",
    "res_norm = \"%0.4f\" %(shapiroProb)\n",
    "\n",
    "if shapiroProb < 0.1:\n",
    "    shSignificance = 'significant'\n",
    "else:\n",
    "    shSignificance = 'not significant'\n",
    "\n",
    "print('Shapiro: ' + res_norm + ' which is ' + shSignificance)\n",
    "\n",
    "\n",
    "\n",
    "residualStd = np.std(percentDifference,ddof=1) / c4(len(percentDifference))\n",
    "\n",
    "res_std = \"%0.2f\" %(residualStd)\n",
    "print('Standard deviation with bias correction: ' + res_std)\n",
    "\n",
    "res_mean = \"%0.2f\" %(np.mean(percentDifference))\n",
    "print('Mean:' + res_mean)"
   ]
  },
  {
   "cell_type": "code",
   "execution_count": 25,
   "metadata": {
    "collapsed": false
   },
   "outputs": [
    {
     "data": {
      "text/plain": [
       "<matplotlib.text.Text at 0x7fadab6f57f0>"
      ]
     },
     "execution_count": 25,
     "metadata": {},
     "output_type": "execute_result"
    },
    {
     "data": {
      "image/png": "[encoded data removed]",
      "text/plain": [
       "<matplotlib.figure.Figure at 0x7fadab6c0fd0>"
      ]
     },
     "metadata": {},
     "output_type": "display_data"
    }
   ],
   "source": [
    "fig = plt.figure(figsize=(7,4))\n",
    "ax = fig.add_subplot(111)\n",
    "\n",
    "probplot(percentDifference, plot=ax);\n",
    "\n",
    "ax.set_title(\"Normality probability plot for the percent differences\")"
   ]
  },
  {
   "cell_type": "code",
   "execution_count": null,
   "metadata": {
    "collapsed": true
   },
   "outputs": [],
   "source": []
  },
  {
   "cell_type": "code",
   "execution_count": null,
   "metadata": {
    "collapsed": true
   },
   "outputs": [],
   "source": []
  },
  {
   "cell_type": "code",
   "execution_count": null,
   "metadata": {
    "collapsed": true
   },
   "outputs": [],
   "source": []
  },
  {
   "cell_type": "code",
   "execution_count": null,
   "metadata": {
    "collapsed": true
   },
   "outputs": [],
   "source": []
  },
  {
   "cell_type": "code",
   "execution_count": 26,
   "metadata": {
    "collapsed": true
   },
   "outputs": [],
   "source": [
    "predictions = spline.ev(width, eqPonA)\n",
    "\n",
    "numTrials = 5000\n",
    "\n",
    "resampleSpline = [0,]*numTrials\n",
    "resampledPredictions = np.zeros(np.shape(mesh_width) + (numTrials,))\n",
    "\n",
    "for i in range(numTrials):\n",
    "\n",
    "    resample = np.random.normal(loc=predictions, scale=predictionStd)\n",
    "    resampleSpline[i] = SmoothBivariateSpline(width, eqPonA, resample, kx=2, ky=1)\n",
    "\n",
    "    resampledPredictions[:,:,i] = resampleSpline[i].ev(mesh_width, mesh_eqPonA)"
   ]
  },
  {
   "cell_type": "code",
   "execution_count": 27,
   "metadata": {
    "collapsed": false
   },
   "outputs": [
    {
     "name": "stderr",
     "output_type": "stream",
     "text": [
      "/usr/local/lib/python3.4/dist-packages/IPython/kernel/__main__.py:5: RuntimeWarning: invalid value encountered in double_scalars\n"
     ]
    },
    {
     "data": {
      "text/plain": [
       "(0.0, 16.0, 0.0, 16.0)"
      ]
     },
     "execution_count": 27,
     "metadata": {},
     "output_type": "execute_result"
    },
    {
     "data": {
      "image/png": "[encoded data removed]",
      "text/plain": [
       "<matplotlib.figure.Figure at 0x7fadab6ed588>"
      ]
     },
     "metadata": {},
     "output_type": "display_data"
    }
   ],
   "source": [
    "variableUncertaintyEstimate = np.std(resampledPredictions, ddof=1, axis=2) / c4(numTrials)\n",
    "\n",
    "variableUncertaintyEstimate[outOfTolerance] = np.nan\n",
    "\n",
    "c = plt.contourf(xx, yy, variableUncertaintyEstimate, 100)\n",
    "plt.colorbar(c)\n",
    "\n",
    "plt.contour(xx, yy, give, levels=[0.5], colors='g')\n",
    "plt.contour(xx, yy, gap, levels=[180], colors='r')\n",
    "\n",
    "plt.scatter(width,length,s=30)\n",
    "plt.scatter(length,width,s=30,alpha=0.2)\n",
    "\n",
    "plt.xlabel('Width (cm)')\n",
    "plt.ylabel('Length (cm)')\n",
    "plt.title('Estimated prediction uncertainty')\n",
    "\n",
    "plt.axis('equal')"
   ]
  },
  {
   "cell_type": "code",
   "execution_count": null,
   "metadata": {
    "collapsed": true
   },
   "outputs": [],
   "source": []
  },
  {
   "cell_type": "code",
   "execution_count": null,
   "metadata": {
    "collapsed": true
   },
   "outputs": [],
   "source": []
  },
  {
   "cell_type": "code",
   "execution_count": null,
   "metadata": {
    "collapsed": true
   },
   "outputs": [],
   "source": []
  },
  {
   "cell_type": "code",
   "execution_count": 28,
   "metadata": {
    "collapsed": true
   },
   "outputs": [],
   "source": [
    "from scipy.optimize import basinhopping\n",
    "\n",
    "class constant_uncertainty(object):\n",
    "    \"\"\"Find the constant uncertainty throughout the fit.\n",
    "    \"\"\"\n",
    "    def __init__(self, n=5, debug=False, **kwargs):\n",
    "        \n",
    "        self.debug=debug\n",
    "        \n",
    "        self.residuals = kwargs['residuals']\n",
    "        self.variableUncertainty = kwargs['variableUncertainty']\n",
    "\n",
    "                \n",
    "        self.basinRequiredSuccess = n\n",
    "        self.constantUncertainty = np.abs(self.uncertainty_basinhopping())\n",
    "        \n",
    "        self.totalUncertainty = np.sqrt(self.variableUncertainty**2 + \n",
    "                                        self.constantUncertainty**2)\n",
    "        \n",
    "\n",
    "    def c4(n):\n",
    "    \n",
    "        output = np.sqrt(2/(n-1)) * gamma(n/2) / gamma((n-1)/2)\n",
    "        if np.isnan(output):\n",
    "            output = 1\n",
    "\n",
    "        return output\n",
    "    \n",
    "    \n",
    "    def minimise_function(self, constantUncertaintyGuess):\n",
    "\n",
    "        totalUncertaintyGuess = np.sqrt(self.variableUncertainty**2 + constantUncertaintyGuess**2)\n",
    "\n",
    "        scaled = self.residuals / totalUncertaintyGuess\n",
    "\n",
    "        scaledStd = np.std(scaled,ddof=1) / c4(len(scaled))\n",
    "        \n",
    "        return (scaledStd - 1)**2\n",
    "        \n",
    "    \n",
    "    def uncertainty_basinhopping(self):\n",
    "\n",
    "        self.functionReturns = np.empty(self.basinRequiredSuccess)\n",
    "        self.functionReturns[:] = np.nan\n",
    "        \n",
    "        self.numSuccess = 0\n",
    "        \n",
    "        minimizerConfig = {\"method\": 'BFGS'}\n",
    "        \n",
    "        initial_input = np.array([0.01])\n",
    "        \n",
    "        \n",
    "        basinhoppingOutput = basinhopping(self.minimise_function,\n",
    "                                          initial_input,\n",
    "                                          niter=1000,\n",
    "                                          minimizer_kwargs=minimizerConfig,\n",
    "                                          take_step=self.step_function,\n",
    "                                          callback=self.callback_function)\n",
    "        \n",
    "        return basinhoppingOutput.x\n",
    "        \n",
    "        \n",
    "    def step_function(self,optimiserInput):\n",
    "\n",
    "        optimiserInput[0] += np.random.normal(scale=0.01)   # x-position\n",
    "        \n",
    "        return optimiserInput\n",
    "    \n",
    "    \n",
    "    def callback_function(self, optimiserOutput, minimiseFunctionOutput, minimiseAccepted):\n",
    "       \n",
    "        if self.debug:\n",
    "            print(optimiserOutput)\n",
    "            print(minimiseFunctionOutput)\n",
    "            print(minimiseAccepted)\n",
    "            print(\" \")\n",
    "        \n",
    "        if minimiseAccepted:\n",
    "            \n",
    "            if self.numSuccess == 0:\n",
    "                # First result\n",
    "                self.functionReturns[0] = minimiseFunctionOutput\n",
    "                self.numSuccess = 1\n",
    "                \n",
    "            elif minimiseFunctionOutput >= np.nanmin(self.functionReturns) + 0.0001:\n",
    "                # Reject result\n",
    "                0\n",
    "                \n",
    "            elif minimiseFunctionOutput >= np.nanmin(self.functionReturns) - 0.0001:\n",
    "                # Agreeing result\n",
    "                self.functionReturns[self.numSuccess] = minimiseFunctionOutput\n",
    "                self.numSuccess += 1\n",
    "            \n",
    "            elif minimiseFunctionOutput < np.nanmin(self.functionReturns) - 0.0001:\n",
    "                # New result\n",
    "                self.functionReturns[0] = minimiseFunctionOutput\n",
    "                self.numSuccess = 1\n",
    "        \n",
    "        if self.numSuccess >= self.basinRequiredSuccess:\n",
    "            return True\n",
    "        "
   ]
  },
  {
   "cell_type": "code",
   "execution_count": 29,
   "metadata": {
    "collapsed": false
   },
   "outputs": [
    {
     "name": "stdout",
     "output_type": "stream",
     "text": [
      "0.62%\n"
     ]
    },
    {
     "name": "stderr",
     "output_type": "stream",
     "text": [
      "/usr/local/lib/python3.4/dist-packages/IPython/kernel/__main__.py:5: RuntimeWarning: invalid value encountered in double_scalars\n"
     ]
    }
   ],
   "source": [
    "resampledPredictionsAtPoints = np.zeros(np.shape(width) + (numTrials,))\n",
    "\n",
    "for i in range(numTrials):\n",
    "\n",
    "    resampledPredictionsAtPoints[:,i] = resampleSpline[i].ev(width,eqPonA)\n",
    "\n",
    "fittingUncertainty = np.std(resampledPredictionsAtPoints, ddof=1, axis=1) / c4(numTrials)\n",
    "# fittingUncertainty\n",
    "\n",
    "measuredUncertaintyEstimate = constant_uncertainty(residuals=predictionDifference, \n",
    "                                                   variableUncertainty=fittingUncertainty)\n",
    "\n",
    "measuredUncertaintyEstimate.constantUncertainty\n",
    "\n",
    "measuredUncertaintyString = '%0.2f%%' %(measuredUncertaintyEstimate.constantUncertainty*100)\n",
    "print(measuredUncertaintyString)"
   ]
  },
  {
   "cell_type": "code",
   "execution_count": 30,
   "metadata": {
    "collapsed": false
   },
   "outputs": [
    {
     "data": {
      "text/plain": [
       "<matplotlib.collections.PathCollection at 0x7fad8898ee80>"
      ]
     },
     "execution_count": 30,
     "metadata": {},
     "output_type": "execute_result"
    },
    {
     "data": {
      "image/png": "[encoded data removed]",
      "text/plain": [
       "<matplotlib.figure.Figure at 0x7fad88c0aeb8>"
      ]
     },
     "metadata": {},
     "output_type": "display_data"
    }
   ],
   "source": [
    "totalUncertaintyEstimate = np.sqrt(variableUncertaintyEstimate**2 + \n",
    "                                   measuredUncertaintyEstimate.constantUncertainty**2)\n",
    "\n",
    "totalUncertaintyEstimate = np.around(totalUncertaintyEstimate,decimals=5)\n",
    "\n",
    "c = plt.contourf(xx,yy,totalUncertaintyEstimate,200)\n",
    "plt.colorbar(c)\n",
    "\n",
    "plt.contour(xx,yy,give,levels=[0.5],colors='g')\n",
    "plt.contour(xx,yy,gap,levels=[180],colors='r')\n",
    "\n",
    "plt.scatter(width,length,s=30)\n",
    "plt.scatter(length,width,s=30,alpha=0.2)"
   ]
  },
  {
   "cell_type": "code",
   "execution_count": null,
   "metadata": {
    "collapsed": true
   },
   "outputs": [],
   "source": []
  }
 ],
 "metadata": {
  "kernelspec": {
   "display_name": "Python 3",
   "language": "python",
   "name": "python3"
  },
  "language_info": {
   "codemirror_mode": {
    "name": "ipython",
    "version": 3
   },
   "file_extension": ".py",
   "mimetype": "text/x-python",
   "name": "python",
   "nbconvert_exporter": "python",
   "pygments_lexer": "ipython3",
   "version": "3.4.0"
  }
 },
 "nbformat": 4,
 "nbformat_minor": 0
}
