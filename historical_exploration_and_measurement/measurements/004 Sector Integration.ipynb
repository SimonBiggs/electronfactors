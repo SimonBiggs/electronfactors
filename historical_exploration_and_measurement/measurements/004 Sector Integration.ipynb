{
 "metadata": {
  "name": "",
  "signature": "sha256:de8ac9fb34a5edc8d01997baca9f6769f6caee268ef39f840d742d567092a4fe"
 },
 "nbformat": 3,
 "nbformat_minor": 0,
 "worksheets": [
  {
   "cells": [
    {
     "cell_type": "code",
     "collapsed": false,
     "input": [
      "%pylab inline\n",
      "\n",
      "from scipy.optimize import basinhopping\n",
      "from scipy.interpolate import UnivariateSpline\n",
      "\n",
      "import pandas as pd\n",
      "\n",
      "import csv\n",
      "\n",
      "import shapely.affinity as af\n",
      "import shapely.geometry as sh\n",
      "\n",
      "from equivalent_ellipse import *\n",
      "from scaled_figures import *"
     ],
     "language": "python",
     "metadata": {},
     "outputs": [
      {
       "output_type": "stream",
       "stream": "stdout",
       "text": [
        "Populating the interactive namespace from numpy and matplotlib\n"
       ]
      }
     ],
     "prompt_number": 1
    },
    {
     "cell_type": "code",
     "collapsed": false,
     "input": [
      "x_list = list()\n",
      "y_list = list()\n",
      "\n",
      "with open('../data/cutout_x.csv', 'r') as x_csvfile:\n",
      "    with open('../data/cutout_y.csv', 'r') as y_csvfile:\n",
      "        \n",
      "        x_reader = csv.reader(x_csvfile, delimiter=',', lineterminator='\\n')\n",
      "        y_reader = csv.reader(y_csvfile, delimiter=',', lineterminator='\\n')\n",
      "        \n",
      "        for row in x_reader:\n",
      "            x_list += [row]\n",
      "  \n",
      "        for row in y_reader:\n",
      "            y_list += [row]\n",
      "\n",
      "            \n",
      "num_cutouts = len(x_list)\n",
      "\n",
      "\n",
      "x_array = [0,]*num_cutouts\n",
      "y_array = [0,]*num_cutouts\n",
      "\n",
      "\n",
      "for i in range(num_cutouts):\n",
      "\n",
      "    x_array[i] = array(x_list[i], dtype='float')\n",
      "    y_array[i] = array(y_list[i], dtype='float')\n",
      "\n",
      "    \n",
      "cutout = [0,]*num_cutouts\n",
      "\n",
      "for i in range(num_cutouts):\n",
      "    cutout[i] = shapely_cutout(x_array[i],y_array[i])"
     ],
     "language": "python",
     "metadata": {},
     "outputs": [],
     "prompt_number": 46
    },
    {
     "cell_type": "code",
     "collapsed": false,
     "input": [
      "with open('cutout_factors','r') as f:\n",
      "    \n",
      "    loaded_factor = eval(f.read())\n",
      "    \n",
      "dictArray = array(list(loaded_factor.items()),float)\n",
      "cutoutRef = dictArray[:,0].astype(int)\n",
      "factor = dictArray[:,1]"
     ],
     "language": "python",
     "metadata": {},
     "outputs": [],
     "prompt_number": 47
    },
    {
     "cell_type": "code",
     "collapsed": false,
     "input": [
      "len(cutout)"
     ],
     "language": "python",
     "metadata": {},
     "outputs": [
      {
       "metadata": {},
       "output_type": "pyout",
       "prompt_number": 48,
       "text": [
        "116"
       ]
      }
     ],
     "prompt_number": 48
    },
    {
     "cell_type": "code",
     "collapsed": false,
     "input": [
      "with open('custom_cutout_factors','r') as f:\n",
      "    \n",
      "    loaded_custom_factor = eval(f.read())\n",
      "\n",
      "# customDimensionsDict = {'5x13':[5,13],\n",
      "#                    '5x10':[5,10],\n",
      "#                    '5x8':[5,8],\n",
      "#                    '4x13':[4,13],\n",
      "#                    '4x10':[4,10],\n",
      "#                    '4x8':[4,8],\n",
      "#                    '4x6.5':[4,6.5],\n",
      "#                    '3x13':[3,13],\n",
      "#                    '3x9':[3,9],\n",
      "#                    '3x6.5':[3,6.5],\n",
      "#                    '3x5':[3,5]}\n",
      "\n",
      "customDimensionsDict = {'5x8':[5,8],\n",
      "                   '4x8':[4,8],\n",
      "                   '4x6.5':[4,6.5],\n",
      "                   '3x9':[3,9],\n",
      "                   '3x6.5':[3,6.5],\n",
      "                   '3x5':[3,5]}\n",
      "\n",
      "customDataLabelList = list(customDimensionsDict.keys())\n",
      "\n",
      "custom_factors = [loaded_custom_factor[x] for x in customDataLabelList]\n",
      "custom_widths = [customDimensionsDict[x][0] for x in customDataLabelList]\n",
      "custom_lengths = [customDimensionsDict[x][1] for x in customDataLabelList]\n",
      "\n",
      "ellipse_cutouts = [0,]*len(custom_widths)\n",
      "\n",
      "for i in range(len(custom_widths)):\n",
      "    \n",
      "    ellipse_cutouts[i] = create_ellipse([0,0,custom_widths[i],custom_lengths[i],-45])\n",
      "    \n",
      "\n",
      "cutoutRef = append(cutoutRef,arange(len(cutout),len(cutout)+len(ellipse_cutouts)))\n",
      "cutout.extend(ellipse_cutouts)\n",
      "factor = append(factor,custom_factors)"
     ],
     "language": "python",
     "metadata": {},
     "outputs": [],
     "prompt_number": 49
    },
    {
     "cell_type": "code",
     "collapsed": false,
     "input": [
      "# testCutout = cutout[70]\n",
      "# testCutout"
     ],
     "language": "python",
     "metadata": {},
     "outputs": [],
     "prompt_number": 50
    },
    {
     "cell_type": "code",
     "collapsed": false,
     "input": [
      "with open('circle_cutout_factors','r') as f:\n",
      "    \n",
      "    loaded_circle_factor = eval(f.read())\n",
      "    \n",
      "circleDictArray = array(list(loaded_circle_factor.items()),float)\n",
      "\n",
      "circleDiameter = circleDictArray[:,0]\n",
      "circleFactor = circleDictArray[:,1]"
     ],
     "language": "python",
     "metadata": {},
     "outputs": [],
     "prompt_number": 7
    },
    {
     "cell_type": "code",
     "collapsed": false,
     "input": [
      "scatter(circleDiameter,1/circleFactor)\n",
      "\n",
      "circleFit = UnivariateSpline(circleDiameter,1/circleFactor)\n",
      "\n",
      "diameter_i = linspace(circleDiameter.min(),circleDiameter.max())\n",
      "plot(diameter_i,circleFit(diameter_i),'r--')"
     ],
     "language": "python",
     "metadata": {},
     "outputs": [
      {
       "metadata": {},
       "output_type": "pyout",
       "prompt_number": 8,
       "text": [
        "[<matplotlib.lines.Line2D at 0x90635c0>]"
       ]
      },
      {
       "metadata": {},
       "output_type": "display_data",
       "png": "[encoded data removed]",
       "text": [
        "<matplotlib.figure.Figure at 0x9063128>"
       ]
      }
     ],
     "prompt_number": 8
    },
    {
     "cell_type": "code",
     "collapsed": false,
     "input": [
      "minVal = 3\n",
      "maxVal = 9\n",
      "numZones = 100"
     ],
     "language": "python",
     "metadata": {},
     "outputs": [],
     "prompt_number": 9
    },
    {
     "cell_type": "code",
     "collapsed": false,
     "input": [
      "# Create Zones\n",
      "\n",
      "zoneWidth = linspace(minVal,maxVal,numZones)\n",
      "\n",
      "zoneWeight = 70*circleFit.derivative()(zoneWidth)\n",
      "\n",
      "circle = [0,]*(numZones)\n",
      "circle[0] = sh.Point(0,0).buffer(minVal/2)\n",
      "\n",
      "zone = [0,]*numZones\n",
      "zone[0] = circle[0]\n",
      "\n",
      "for i in range(1,numZones-1):\n",
      "\n",
      "    circle[i] = sh.Point(0,0).buffer(zoneWidth[i]/2)\n",
      "    zone[i] = circle[i].difference(circle[i-1])\n",
      "\n",
      "zone[-1] = sh.Point(0,0).buffer(20).difference(circle[-2])\n",
      "\n",
      "weightedArea = 0.\n",
      "for i in range(numZones):\n",
      "    \n",
      "    weightedArea += cutout[0].intersection(zone[i]).area * zoneWeight[i]\n",
      "    \n",
      "weightedArea"
     ],
     "language": "python",
     "metadata": {},
     "outputs": [
      {
       "metadata": {},
       "output_type": "pyout",
       "prompt_number": 10,
       "text": [
        "46.563494077548761"
       ]
      }
     ],
     "prompt_number": 10
    },
    {
     "cell_type": "code",
     "collapsed": false,
     "input": [
      "cutout[0].area"
     ],
     "language": "python",
     "metadata": {},
     "outputs": [
      {
       "metadata": {},
       "output_type": "pyout",
       "prompt_number": 11,
       "text": [
        "40.994999999999976"
       ]
      }
     ],
     "prompt_number": 11
    },
    {
     "cell_type": "code",
     "collapsed": false,
     "input": [
      "plot(zoneWidth,zoneWeight)"
     ],
     "language": "python",
     "metadata": {},
     "outputs": [
      {
       "metadata": {},
       "output_type": "pyout",
       "prompt_number": 12,
       "text": [
        "[<matplotlib.lines.Line2D at 0x95800b8>]"
       ]
      },
      {
       "metadata": {},
       "output_type": "display_data",
       "png": "[encoded data removed]",
       "text": [
        "<matplotlib.figure.Figure at 0x951d710>"
       ]
      }
     ],
     "prompt_number": 12
    },
    {
     "cell_type": "code",
     "collapsed": false,
     "input": [
      "def weightedAreaOptimise(x,inputShape):\n",
      "    \n",
      "    a = x[0]\n",
      "    b = x[1]\n",
      "    \n",
      "    movedShape =af.translate(inputShape, xoff=-a, yoff=-b)\n",
      "    \n",
      "    weightedArea = 0.\n",
      "    \n",
      "    for i in range(numZones):\n",
      "        weightedArea += movedShape.intersection(zone[i]).area * zoneWeight[i]\n",
      "        \n",
      "    return -weightedArea  "
     ],
     "language": "python",
     "metadata": {},
     "outputs": [],
     "prompt_number": 13
    },
    {
     "cell_type": "code",
     "collapsed": false,
     "input": [
      "class MyTakeStep(object):\n",
      "    \n",
      "    def __init__(self, stepsize=0.5):\n",
      "        self.stepsize = stepsize\n",
      "        \n",
      "    def __call__(self, x):\n",
      "        s = self.stepsize\n",
      "        x[0] += np.random.uniform(-3*s, 3*s)\n",
      "        x[1] += np.random.uniform(-3*s, 3*s)\n",
      "        \n",
      "        return x\n",
      "    \n",
      "\n",
      "def print_fun(x, f, accepted):\n",
      "\n",
      "    global successCount_basinhopping\n",
      "    global minVals_basinhopping\n",
      "    global nSuccess_basinhopping\n",
      "\n",
      "    a = x[0]\n",
      "    b = x[1]\n",
      "    \n",
      "    f = np.around(f,4)\n",
      "    \n",
      "    if accepted:\n",
      "        \n",
      "        if np.all(np.isnan(minVals_basinhopping)):\n",
      "            \n",
      "            minVals_basinhopping[0] = f\n",
      "            successCount_basinhopping = 1\n",
      "            \n",
      "            print((\"first local minima of %.4f at:\\n\"+\n",
      "                \"[a,b] = [%.4f, %.4f]\")\n",
      "                % (f,a,b))\n",
      "            \n",
      "        elif (np.nanmin(minVals_basinhopping) == f):\n",
      "        \n",
      "            minVals_basinhopping[successCount_basinhopping] = f\n",
      "            successCount_basinhopping += 1\n",
      "            \n",
      "            print((\"agreeing local minima of %.4f at:\\n\"+\n",
      "                \"[a,b] = [%.4f, %.4f]\")\n",
      "                % (f,a,b))\n",
      "        \n",
      "        elif (np.nanmin(minVals_basinhopping) > f):\n",
      "        \n",
      "            minVals_basinhopping[0] = f\n",
      "            successCount_basinhopping = 1\n",
      "            \n",
      "            print((\"new local minima of %.4f at:\\n\"+\n",
      "                \"[a,b] = [%.4f, %.4f]\") \n",
      "                % (f,a,b))\n",
      "                \n",
      "        else:\n",
      "        \n",
      "            print((\"rejected local minima of %.4f at:\\n\"+\n",
      "                \"[a,b] = [%.4f, %.4f]\") \n",
      "                % (f,a,b))\n",
      "            \n",
      "        \n",
      "    else:\n",
      "        \n",
      "        print((\"failed to find local minima at:\\n\"+\n",
      "            \"[a,b] = [%.4f, %.4f]\") \n",
      "            % (a,b))\n",
      "          \n",
      "\n",
      "    if successCount_basinhopping >= nSuccess_basinhopping:\n",
      "        return True\n",
      "\n",
      "\n",
      "\n",
      "def optimise_middle(cutout,userNSuccess):\n",
      "    \n",
      "    mytakestep = MyTakeStep()\n",
      "    \n",
      "    global nSuccess_basinhopping\n",
      "    nSuccess_basinhopping = userNSuccess\n",
      "    \n",
      "    global minVals_basinhopping\n",
      "    minVals_basinhopping = np.empty(nSuccess_basinhopping)\n",
      "    minVals_basinhopping[:] = np.nan\n",
      "    \n",
      "    global successCount_basinhopping\n",
      "    successCount_basinhopping = 0\n",
      "        \n",
      "    minimizer_kwargs = {\"args\": (cutout,), \"method\": 'L-BFGS-B', \n",
      "                        \"bounds\": ((-5,5),(-5,5)) }\n",
      "    \n",
      "    x0 = np.array([0,0])\n",
      "\n",
      "    output = basinhopping(weightedAreaOptimise,x0,\n",
      "                          niter=1000,minimizer_kwargs=minimizer_kwargs,\n",
      "                          take_step=mytakestep, callback=print_fun)\n",
      "\n",
      "    return output"
     ],
     "language": "python",
     "metadata": {},
     "outputs": [],
     "prompt_number": 14
    },
    {
     "cell_type": "code",
     "collapsed": false,
     "input": [
      "middle_points = zeros([len(cutoutRef),2])\n",
      "\n",
      "for j in range(len(cutoutRef)):\n",
      "    \n",
      "    i = cutoutRef[j]\n",
      "    \n",
      "    print(\"Cutout %.f\" % (i))\n",
      "    output = optimise_middle(cutout[i],3)\n",
      "    middle_points[j,:] = output.x\n",
      "    print(\" \")"
     ],
     "language": "python",
     "metadata": {},
     "outputs": [
      {
       "output_type": "stream",
       "stream": "stdout",
       "text": [
        "Cutout 18\n",
        "first local minima of -52.7387 at:\n",
        "[a,b] = [-0.1359, -0.4053]"
       ]
      },
      {
       "output_type": "stream",
       "stream": "stdout",
       "text": [
        "\n",
        "agreeing local minima of -52.7387 at:\n",
        "[a,b] = [-0.1359, -0.4053]"
       ]
      },
      {
       "output_type": "stream",
       "stream": "stdout",
       "text": [
        "\n",
        "agreeing local minima of -52.7387 at:\n",
        "[a,b] = [-0.1359, -0.4053]"
       ]
      },
      {
       "output_type": "stream",
       "stream": "stdout",
       "text": [
        "\n",
        " \n",
        "Cutout 58\n",
        "first local minima of -43.4399 at:\n",
        "[a,b] = [-0.0655, 0.1871]"
       ]
      },
      {
       "output_type": "stream",
       "stream": "stdout",
       "text": [
        "\n",
        "agreeing local minima of -43.4399 at:\n",
        "[a,b] = [-0.0655, 0.1871]"
       ]
      },
      {
       "output_type": "stream",
       "stream": "stdout",
       "text": [
        "\n",
        "agreeing local minima of -43.4399 at:\n",
        "[a,b] = [-0.0655, 0.1871]"
       ]
      },
      {
       "output_type": "stream",
       "stream": "stdout",
       "text": [
        "\n",
        " \n",
        "Cutout 20\n",
        "first local minima of -26.0170 at:\n",
        "[a,b] = [-0.1984, -0.3417]"
       ]
      },
      {
       "output_type": "stream",
       "stream": "stdout",
       "text": [
        "\n",
        "agreeing local minima of -26.0170 at:\n",
        "[a,b] = [-0.1984, -0.3417]"
       ]
      },
      {
       "output_type": "stream",
       "stream": "stdout",
       "text": [
        "\n",
        "agreeing local minima of -26.0170 at:\n",
        "[a,b] = [-0.1984, -0.3417]"
       ]
      },
      {
       "output_type": "stream",
       "stream": "stdout",
       "text": [
        "\n",
        " \n",
        "Cutout 33\n",
        "first local minima of -39.4141 at:\n",
        "[a,b] = [-0.4710, 0.3438]"
       ]
      },
      {
       "output_type": "stream",
       "stream": "stdout",
       "text": [
        "\n",
        "agreeing local minima of -39.4141 at:\n",
        "[a,b] = [-0.4710, 0.3438]"
       ]
      },
      {
       "output_type": "stream",
       "stream": "stdout",
       "text": [
        "\n",
        "agreeing local minima of -39.4141 at:\n",
        "[a,b] = [-0.4710, 0.3438]"
       ]
      },
      {
       "output_type": "stream",
       "stream": "stdout",
       "text": [
        "\n",
        " \n",
        "Cutout 106\n",
        "first local minima of -47.8430 at:\n",
        "[a,b] = [-0.7973, -0.1224]"
       ]
      },
      {
       "output_type": "stream",
       "stream": "stdout",
       "text": [
        "\n",
        "agreeing local minima of -47.8430 at:\n",
        "[a,b] = [-0.7973, -0.1224]"
       ]
      },
      {
       "output_type": "stream",
       "stream": "stdout",
       "text": [
        "\n",
        "agreeing local minima of -47.8430 at:\n",
        "[a,b] = [-0.7973, -0.1224]"
       ]
      },
      {
       "output_type": "stream",
       "stream": "stdout",
       "text": [
        "\n",
        " \n",
        "Cutout 82\n",
        "first local minima of -47.0314 at:\n",
        "[a,b] = [-0.4594, -0.4578]"
       ]
      },
      {
       "output_type": "stream",
       "stream": "stdout",
       "text": [
        "\n",
        "agreeing local minima of -47.0314 at:\n",
        "[a,b] = [-0.4594, -0.4578]"
       ]
      },
      {
       "output_type": "stream",
       "stream": "stdout",
       "text": [
        "\n",
        "agreeing local minima of -47.0314 at:\n",
        "[a,b] = [-0.4594, -0.4578]"
       ]
      },
      {
       "output_type": "stream",
       "stream": "stdout",
       "text": [
        "\n",
        " \n",
        "Cutout 6\n",
        "first local minima of -51.2994 at:\n",
        "[a,b] = [0.2879, -0.3353]"
       ]
      },
      {
       "output_type": "stream",
       "stream": "stdout",
       "text": [
        "\n",
        "agreeing local minima of -51.2994 at:\n",
        "[a,b] = [0.2879, -0.3353]"
       ]
      },
      {
       "output_type": "stream",
       "stream": "stdout",
       "text": [
        "\n",
        "agreeing local minima of -51.2994 at:\n",
        "[a,b] = [0.2879, -0.3353]"
       ]
      },
      {
       "output_type": "stream",
       "stream": "stdout",
       "text": [
        "\n",
        " \n",
        "Cutout 112\n",
        "first local minima of -18.3410 at:\n",
        "[a,b] = [0.2009, -0.0613]"
       ]
      },
      {
       "output_type": "stream",
       "stream": "stdout",
       "text": [
        "\n",
        "agreeing local minima of -18.3410 at:\n",
        "[a,b] = [0.2009, -0.0613]"
       ]
      },
      {
       "output_type": "stream",
       "stream": "stdout",
       "text": [
        "\n",
        "agreeing local minima of -18.3410 at:\n",
        "[a,b] = [0.2009, -0.0613]"
       ]
      },
      {
       "output_type": "stream",
       "stream": "stdout",
       "text": [
        "\n",
        " \n",
        "Cutout 104\n",
        "first local minima of -44.2003 at:\n",
        "[a,b] = [-0.7110, 0.5318]"
       ]
      },
      {
       "output_type": "stream",
       "stream": "stdout",
       "text": [
        "\n",
        "agreeing local minima of -44.2003 at:\n",
        "[a,b] = [-0.7110, 0.5318]"
       ]
      },
      {
       "output_type": "stream",
       "stream": "stdout",
       "text": [
        "\n",
        "agreeing local minima of -44.2003 at:\n",
        "[a,b] = [-0.7110, 0.5318]"
       ]
      },
      {
       "output_type": "stream",
       "stream": "stdout",
       "text": [
        "\n",
        " \n",
        "Cutout 34\n",
        "first local minima of -51.1747 at:\n",
        "[a,b] = [0.3099, -0.3208]"
       ]
      },
      {
       "output_type": "stream",
       "stream": "stdout",
       "text": [
        "\n",
        "agreeing local minima of -51.1747 at:\n",
        "[a,b] = [0.3099, -0.3208]"
       ]
      },
      {
       "output_type": "stream",
       "stream": "stdout",
       "text": [
        "\n",
        "agreeing local minima of -51.1747 at:\n",
        "[a,b] = [0.3099, -0.3208]"
       ]
      },
      {
       "output_type": "stream",
       "stream": "stdout",
       "text": [
        "\n",
        " \n",
        "Cutout 19\n",
        "first local minima of -46.2550 at:\n",
        "[a,b] = [0.4125, 0.2889]"
       ]
      },
      {
       "output_type": "stream",
       "stream": "stdout",
       "text": [
        "\n",
        "agreeing local minima of -46.2550 at:\n",
        "[a,b] = [0.4125, 0.2889]"
       ]
      },
      {
       "output_type": "stream",
       "stream": "stdout",
       "text": [
        "\n",
        "agreeing local minima of -46.2550 at:\n",
        "[a,b] = [0.4125, 0.2889]"
       ]
      },
      {
       "output_type": "stream",
       "stream": "stdout",
       "text": [
        "\n",
        " \n",
        "Cutout 73\n",
        "first local minima of -52.1552 at:\n",
        "[a,b] = [-0.1866, -0.3155]"
       ]
      },
      {
       "output_type": "stream",
       "stream": "stdout",
       "text": [
        "\n",
        "agreeing local minima of -52.1552 at:\n",
        "[a,b] = [-0.1866, -0.3155]"
       ]
      },
      {
       "output_type": "stream",
       "stream": "stdout",
       "text": [
        "\n",
        "agreeing local minima of -52.1552 at:\n",
        "[a,b] = [-0.1866, -0.3155]"
       ]
      },
      {
       "output_type": "stream",
       "stream": "stdout",
       "text": [
        "\n",
        " \n",
        "Cutout 70\n",
        "first local minima of -52.1909 at:\n",
        "[a,b] = [-0.0335, -0.0770]"
       ]
      },
      {
       "output_type": "stream",
       "stream": "stdout",
       "text": [
        "\n",
        "agreeing local minima of -52.1909 at:\n",
        "[a,b] = [-0.0335, -0.0770]"
       ]
      },
      {
       "output_type": "stream",
       "stream": "stdout",
       "text": [
        "\n",
        "agreeing local minima of -52.1909 at:\n",
        "[a,b] = [-0.0335, -0.0770]"
       ]
      },
      {
       "output_type": "stream",
       "stream": "stdout",
       "text": [
        "\n",
        " \n",
        "Cutout 41\n",
        "first local minima of -51.0287 at:\n",
        "[a,b] = [0.0219, -0.0656]"
       ]
      },
      {
       "output_type": "stream",
       "stream": "stdout",
       "text": [
        "\n",
        "agreeing local minima of -51.0287 at:\n",
        "[a,b] = [0.0219, -0.0656]"
       ]
      },
      {
       "output_type": "stream",
       "stream": "stdout",
       "text": [
        "\n",
        "agreeing local minima of -51.0287 at:\n",
        "[a,b] = [0.0219, -0.0656]"
       ]
      },
      {
       "output_type": "stream",
       "stream": "stdout",
       "text": [
        "\n",
        " \n",
        "Cutout 16\n",
        "first local minima of -48.4960 at:\n",
        "[a,b] = [0.1155, -0.5297]"
       ]
      },
      {
       "output_type": "stream",
       "stream": "stdout",
       "text": [
        "\n",
        "agreeing local minima of -48.4960 at:\n",
        "[a,b] = [0.1155, -0.5297]"
       ]
      },
      {
       "output_type": "stream",
       "stream": "stdout",
       "text": [
        "\n",
        "agreeing local minima of -48.4960 at:\n",
        "[a,b] = [0.1155, -0.5296]"
       ]
      },
      {
       "output_type": "stream",
       "stream": "stdout",
       "text": [
        "\n",
        " \n",
        "Cutout 38\n",
        "first local minima of -30.7432 at:\n",
        "[a,b] = [-0.0221, -0.1692]"
       ]
      },
      {
       "output_type": "stream",
       "stream": "stdout",
       "text": [
        "\n",
        "agreeing local minima of -30.7432 at:\n",
        "[a,b] = [-0.0221, -0.1692]"
       ]
      },
      {
       "output_type": "stream",
       "stream": "stdout",
       "text": [
        "\n",
        "agreeing local minima of -30.7432 at:\n",
        "[a,b] = [-0.0221, -0.1692]"
       ]
      },
      {
       "output_type": "stream",
       "stream": "stdout",
       "text": [
        "\n",
        " \n",
        "Cutout 109\n",
        "first local minima of -46.9829 at:\n",
        "[a,b] = [0.4073, -0.0851]"
       ]
      },
      {
       "output_type": "stream",
       "stream": "stdout",
       "text": [
        "\n",
        "agreeing local minima of -46.9829 at:\n",
        "[a,b] = [0.4073, -0.0851]"
       ]
      },
      {
       "output_type": "stream",
       "stream": "stdout",
       "text": [
        "\n",
        "agreeing local minima of -46.9829 at:\n",
        "[a,b] = [0.4073, -0.0851]"
       ]
      },
      {
       "output_type": "stream",
       "stream": "stdout",
       "text": [
        "\n",
        " \n",
        "Cutout 3\n",
        "first local minima of -31.2122 at:\n",
        "[a,b] = [0.2018, -0.1626]"
       ]
      },
      {
       "output_type": "stream",
       "stream": "stdout",
       "text": [
        "\n",
        "agreeing local minima of -31.2122 at:\n",
        "[a,b] = [0.2018, -0.1626]"
       ]
      },
      {
       "output_type": "stream",
       "stream": "stdout",
       "text": [
        "\n",
        "agreeing local minima of -31.2122 at:\n",
        "[a,b] = [0.2018, -0.1626]"
       ]
      },
      {
       "output_type": "stream",
       "stream": "stdout",
       "text": [
        "\n",
        " \n",
        "Cutout 43\n",
        "first local minima of -45.6972 at:\n",
        "[a,b] = [-0.1034, 0.1104]"
       ]
      },
      {
       "output_type": "stream",
       "stream": "stdout",
       "text": [
        "\n",
        "agreeing local minima of -45.6972 at:\n",
        "[a,b] = [-0.1034, 0.1104]"
       ]
      },
      {
       "output_type": "stream",
       "stream": "stdout",
       "text": [
        "\n",
        "agreeing local minima of -45.6972 at:\n",
        "[a,b] = [-0.1034, 0.1104]"
       ]
      },
      {
       "output_type": "stream",
       "stream": "stdout",
       "text": [
        "\n",
        " \n",
        "Cutout 14\n",
        "first local minima of -27.8475 at:\n",
        "[a,b] = [0.2145, -0.4803]"
       ]
      },
      {
       "output_type": "stream",
       "stream": "stdout",
       "text": [
        "\n",
        "agreeing local minima of -27.8475 at:\n",
        "[a,b] = [0.2145, -0.4803]"
       ]
      },
      {
       "output_type": "stream",
       "stream": "stdout",
       "text": [
        "\n",
        "agreeing local minima of -27.8475 at:\n",
        "[a,b] = [0.2145, -0.4803]"
       ]
      },
      {
       "output_type": "stream",
       "stream": "stdout",
       "text": [
        "\n",
        " \n",
        "Cutout 22\n",
        "first local minima of -43.5119 at:\n",
        "[a,b] = [-0.7864, -0.2803]"
       ]
      },
      {
       "output_type": "stream",
       "stream": "stdout",
       "text": [
        "\n",
        "agreeing local minima of -43.5119 at:\n",
        "[a,b] = [-0.7864, -0.2803]"
       ]
      },
      {
       "output_type": "stream",
       "stream": "stdout",
       "text": [
        "\n",
        "agreeing local minima of -43.5119 at:\n",
        "[a,b] = [-0.7864, -0.2803]"
       ]
      },
      {
       "output_type": "stream",
       "stream": "stdout",
       "text": [
        "\n",
        " \n",
        "Cutout 83\n",
        "first local minima of -44.4189 at:\n",
        "[a,b] = [-0.9573, -0.3625]"
       ]
      },
      {
       "output_type": "stream",
       "stream": "stdout",
       "text": [
        "\n",
        "agreeing local minima of -44.4189 at:\n",
        "[a,b] = [-0.9573, -0.3625]"
       ]
      },
      {
       "output_type": "stream",
       "stream": "stdout",
       "text": [
        "\n",
        "agreeing local minima of -44.4189 at:\n",
        "[a,b] = [-0.9573, -0.3625]"
       ]
      },
      {
       "output_type": "stream",
       "stream": "stdout",
       "text": [
        "\n",
        " \n",
        "Cutout 32\n",
        "first local minima of -52.7161 at:\n",
        "[a,b] = [0.5823, 0.3608]"
       ]
      },
      {
       "output_type": "stream",
       "stream": "stdout",
       "text": [
        "\n",
        "agreeing local minima of -52.7161 at:\n",
        "[a,b] = [0.5823, 0.3608]"
       ]
      },
      {
       "output_type": "stream",
       "stream": "stdout",
       "text": [
        "\n",
        "agreeing local minima of -52.7161 at:\n",
        "[a,b] = [0.5823, 0.3608]"
       ]
      },
      {
       "output_type": "stream",
       "stream": "stdout",
       "text": [
        "\n",
        " \n",
        "Cutout 57\n",
        "first local minima of -20.5940 at:\n",
        "[a,b] = [-0.2101, -0.1810]"
       ]
      },
      {
       "output_type": "stream",
       "stream": "stdout",
       "text": [
        "\n",
        "agreeing local minima of -20.5940 at:\n",
        "[a,b] = [-0.2101, -0.1810]"
       ]
      },
      {
       "output_type": "stream",
       "stream": "stdout",
       "text": [
        "\n",
        "agreeing local minima of -20.5940 at:\n",
        "[a,b] = [-0.2101, -0.1810]"
       ]
      },
      {
       "output_type": "stream",
       "stream": "stdout",
       "text": [
        "\n",
        " \n",
        "Cutout 116\n",
        "first local minima of -29.4762 at:\n",
        "[a,b] = [-0.0000, -0.0000]"
       ]
      },
      {
       "output_type": "stream",
       "stream": "stdout",
       "text": [
        "\n",
        "agreeing local minima of -29.4762 at:\n",
        "[a,b] = [0.0000, 0.0000]"
       ]
      },
      {
       "output_type": "stream",
       "stream": "stdout",
       "text": [
        "\n",
        "agreeing local minima of -29.4762 at:\n",
        "[a,b] = [-0.0000, -0.0000]"
       ]
      },
      {
       "output_type": "stream",
       "stream": "stdout",
       "text": [
        "\n",
        " \n",
        "Cutout 117\n",
        "first local minima of -19.9398 at:\n",
        "[a,b] = [0.0002, 0.0001]"
       ]
      },
      {
       "output_type": "stream",
       "stream": "stdout",
       "text": [
        "\n",
        "agreeing local minima of -19.9398 at:\n",
        "[a,b] = [0.0049, 0.0054]"
       ]
      },
      {
       "output_type": "stream",
       "stream": "stdout",
       "text": [
        "\n",
        "agreeing local minima of -19.9398 at:\n",
        "[a,b] = [0.0016, -0.0022]"
       ]
      },
      {
       "output_type": "stream",
       "stream": "stdout",
       "text": [
        "\n",
        " \n",
        "Cutout 118\n",
        "first local minima of -19.9398 at:\n",
        "[a,b] = [0.0007, 0.0010]"
       ]
      },
      {
       "output_type": "stream",
       "stream": "stdout",
       "text": [
        "\n",
        "agreeing local minima of -19.9398 at:\n",
        "[a,b] = [-0.0002, 0.0000]"
       ]
      },
      {
       "output_type": "stream",
       "stream": "stdout",
       "text": [
        "\n",
        "agreeing local minima of -19.9398 at:\n",
        "[a,b] = [-0.0001, 0.0002]"
       ]
      },
      {
       "output_type": "stream",
       "stream": "stdout",
       "text": [
        "\n",
        " \n",
        "Cutout 119\n",
        "first local minima of -11.4815 at:\n",
        "[a,b] = [0.0000, 0.0000]"
       ]
      },
      {
       "output_type": "stream",
       "stream": "stdout",
       "text": [
        "\n",
        "agreeing local minima of -11.4815 at:\n",
        "[a,b] = [-0.0000, 0.0000]"
       ]
      },
      {
       "output_type": "stream",
       "stream": "stdout",
       "text": [
        "\n",
        "agreeing local minima of -11.4815 at:\n",
        "[a,b] = [0.0000, 0.0000]"
       ]
      },
      {
       "output_type": "stream",
       "stream": "stdout",
       "text": [
        "\n",
        " \n",
        "Cutout 120\n",
        "first local minima of -11.4815 at:\n",
        "[a,b] = [-0.0000, 0.0000]"
       ]
      },
      {
       "output_type": "stream",
       "stream": "stdout",
       "text": [
        "\n",
        "agreeing local minima of -11.4815 at:\n",
        "[a,b] = [-0.0000, 0.0000]"
       ]
      },
      {
       "output_type": "stream",
       "stream": "stdout",
       "text": [
        "\n",
        "agreeing local minima of -11.4815 at:\n",
        "[a,b] = [0.0000, 0.0000]"
       ]
      },
      {
       "output_type": "stream",
       "stream": "stdout",
       "text": [
        "\n",
        " \n",
        "Cutout 121\n",
        "first local minima of -11.4815 at:\n",
        "[a,b] = [0.0000, 0.0000]"
       ]
      },
      {
       "output_type": "stream",
       "stream": "stdout",
       "text": [
        "\n",
        "agreeing local minima of -11.4815 at:\n",
        "[a,b] = [0.0000, -0.0000]"
       ]
      },
      {
       "output_type": "stream",
       "stream": "stdout",
       "text": [
        "\n",
        "agreeing local minima of -11.4815 at:\n",
        "[a,b] = [0.0000, 0.0000]"
       ]
      },
      {
       "output_type": "stream",
       "stream": "stdout",
       "text": [
        "\n",
        " \n"
       ]
      }
     ],
     "prompt_number": 15
    },
    {
     "cell_type": "code",
     "collapsed": false,
     "input": [],
     "language": "python",
     "metadata": {},
     "outputs": [],
     "prompt_number": 15
    },
    {
     "cell_type": "code",
     "collapsed": false,
     "input": [],
     "language": "python",
     "metadata": {},
     "outputs": [],
     "prompt_number": 15
    },
    {
     "cell_type": "code",
     "collapsed": false,
     "input": [
      "predicted_factor = zeros(len(cutoutRef))\n",
      "\n",
      "for j in range(len(cutoutRef)):\n",
      "\n",
      "    i = cutoutRef[j]\n",
      "    \n",
      "    cutoutLineString = sh.LineString(cutout[i].exterior.coords)\n",
      "\n",
      "    steps = linspace(0,1,1000)\n",
      "\n",
      "    xcoords = zeros(len(steps))\n",
      "    ycoords = zeros(len(steps))\n",
      "\n",
      "    for k in range(len(steps)):\n",
      "\n",
      "\n",
      "        xycoords = cutoutLineString.interpolate(steps[k], normalized=True).xy\n",
      "\n",
      "        xcoords[k] = xycoords[0][0]\n",
      "        ycoords[k] = xycoords[1][0]\n",
      "    \n",
      "    \n",
      "    x_vals = xcoords\n",
      "    y_vals = ycoords\n",
      "\n",
      "    a = middle_points[j,0]\n",
      "    b = middle_points[j,1]\n",
      "\n",
      "    x_vals = array(x_vals,'float') - a\n",
      "    y_vals = array(y_vals,'float') - b\n",
      "\n",
      "    angles = arctan2(y_vals, x_vals) * 180 / pi\n",
      "\n",
      "    clockwise = sum(mod(diff(angles),360)) > sum(mod(-diff(angles),360))\n",
      "    diffAdj = 1 - 2*clockwise\n",
      "\n",
      "    sector_angles = mod(diffAdj*diff(angles),360)\n",
      "    wrong_direction = sector_angles > 180\n",
      "\n",
      "    while any(wrong_direction):\n",
      "\n",
      "        wrong_direction = append(wrong_direction,False)\n",
      "\n",
      "        x_vals = x_vals[~wrong_direction]\n",
      "        y_vals = y_vals[~wrong_direction]\n",
      "\n",
      "        angles = arctan2(y_vals, x_vals) * 180 / pi\n",
      "        sector_angles = mod(diffAdj*diff(angles),360)\n",
      "\n",
      "        wrong_direction = sector_angles > 180\n",
      "\n",
      "    radii = hypot(x_vals,y_vals)\n",
      "    sector_radii = radii[0:-1] + diff(radii)/2\n",
      "\n",
      "    angles = arctan2(y_vals, x_vals) * 180 / pi\n",
      "    sector_angles = mod(diffAdj*diff(angles),360)\n",
      "\n",
      "    predicted_factor[j] = 1/sum(circleFit(sector_radii*2) * sector_angles / 360)"
     ],
     "language": "python",
     "metadata": {},
     "outputs": [],
     "prompt_number": 51
    },
    {
     "cell_type": "code",
     "collapsed": false,
     "input": [
      "predicted_factor"
     ],
     "language": "python",
     "metadata": {},
     "outputs": [
      {
       "metadata": {},
       "output_type": "pyout",
       "prompt_number": 52,
       "text": [
        "array([ 0.99380498,  1.0056196 ,  1.0357941 ,  1.0113048 ,  1.00018241,\n",
        "        1.00054378,  0.99658809,  1.05380847,  1.00491797,  0.99526787,\n",
        "        1.00251433,  0.99412503,  0.99379444,  0.99568008,  0.99974382,\n",
        "        1.02646332,  1.00054398,  1.0258009 ,  1.00233149,  1.03208727,\n",
        "        1.00707405,  1.00436753,  0.99821249,  1.04833487,  1.01098432,\n",
        "        1.02946681,  1.02358438,  1.04606499,  1.03914319,  1.05465967])"
       ]
      }
     ],
     "prompt_number": 52
    },
    {
     "cell_type": "code",
     "collapsed": false,
     "input": [
      "difference = factor-predicted_factor\n",
      "\n",
      "df = pd.DataFrame(transpose([cutoutRef,predicted_factor, factor,difference]))\n",
      "df.columns = ['Reference','sector_predict', 'measured_factor','difference']\n",
      "\n",
      "df.to_csv(path_or_buf = \"sector_integration.csv\", index=False)\n",
      "\n",
      "df"
     ],
     "language": "python",
     "metadata": {},
     "outputs": [
      {
       "html": [
        "<div style=\"max-height:1000px;max-width:1500px;overflow:auto;\">\n",
        "<table border=\"1\" class=\"dataframe\">\n",
        "  <thead>\n",
        "    <tr style=\"text-align: right;\">\n",
        "      <th></th>\n",
        "      <th>Reference</th>\n",
        "      <th>sector_predict</th>\n",
        "      <th>measured_factor</th>\n",
        "      <th>difference</th>\n",
        "    </tr>\n",
        "  </thead>\n",
        "  <tbody>\n",
        "    <tr>\n",
        "      <th>0 </th>\n",
        "      <td>  18</td>\n",
        "      <td> 0.993805</td>\n",
        "      <td> 0.998054</td>\n",
        "      <td> 0.004249</td>\n",
        "    </tr>\n",
        "    <tr>\n",
        "      <th>1 </th>\n",
        "      <td>  58</td>\n",
        "      <td> 1.005620</td>\n",
        "      <td> 1.008999</td>\n",
        "      <td> 0.003380</td>\n",
        "    </tr>\n",
        "    <tr>\n",
        "      <th>2 </th>\n",
        "      <td>  20</td>\n",
        "      <td> 1.035794</td>\n",
        "      <td> 1.037967</td>\n",
        "      <td> 0.002173</td>\n",
        "    </tr>\n",
        "    <tr>\n",
        "      <th>3 </th>\n",
        "      <td>  33</td>\n",
        "      <td> 1.011305</td>\n",
        "      <td> 1.006789</td>\n",
        "      <td>-0.004515</td>\n",
        "    </tr>\n",
        "    <tr>\n",
        "      <th>4 </th>\n",
        "      <td> 106</td>\n",
        "      <td> 1.000182</td>\n",
        "      <td> 1.000871</td>\n",
        "      <td> 0.000688</td>\n",
        "    </tr>\n",
        "    <tr>\n",
        "      <th>5 </th>\n",
        "      <td>  82</td>\n",
        "      <td> 1.000544</td>\n",
        "      <td> 1.000867</td>\n",
        "      <td> 0.000323</td>\n",
        "    </tr>\n",
        "    <tr>\n",
        "      <th>6 </th>\n",
        "      <td>   6</td>\n",
        "      <td> 0.996588</td>\n",
        "      <td> 1.001302</td>\n",
        "      <td> 0.004714</td>\n",
        "    </tr>\n",
        "    <tr>\n",
        "      <th>7 </th>\n",
        "      <td> 112</td>\n",
        "      <td> 1.053808</td>\n",
        "      <td> 1.053904</td>\n",
        "      <td> 0.000095</td>\n",
        "    </tr>\n",
        "    <tr>\n",
        "      <th>8 </th>\n",
        "      <td> 104</td>\n",
        "      <td> 1.004918</td>\n",
        "      <td> 1.006601</td>\n",
        "      <td> 0.001683</td>\n",
        "    </tr>\n",
        "    <tr>\n",
        "      <th>9 </th>\n",
        "      <td>  34</td>\n",
        "      <td> 0.995268</td>\n",
        "      <td> 0.993330</td>\n",
        "      <td>-0.001937</td>\n",
        "    </tr>\n",
        "    <tr>\n",
        "      <th>10</th>\n",
        "      <td>  19</td>\n",
        "      <td> 1.002514</td>\n",
        "      <td> 1.001089</td>\n",
        "      <td>-0.001425</td>\n",
        "    </tr>\n",
        "    <tr>\n",
        "      <th>11</th>\n",
        "      <td>  73</td>\n",
        "      <td> 0.994125</td>\n",
        "      <td> 0.995472</td>\n",
        "      <td> 0.001347</td>\n",
        "    </tr>\n",
        "    <tr>\n",
        "      <th>12</th>\n",
        "      <td>  70</td>\n",
        "      <td> 0.993794</td>\n",
        "      <td> 0.997190</td>\n",
        "      <td> 0.003396</td>\n",
        "    </tr>\n",
        "    <tr>\n",
        "      <th>13</th>\n",
        "      <td>  41</td>\n",
        "      <td> 0.995680</td>\n",
        "      <td> 0.994829</td>\n",
        "      <td>-0.000851</td>\n",
        "    </tr>\n",
        "    <tr>\n",
        "      <th>14</th>\n",
        "      <td>  16</td>\n",
        "      <td> 0.999744</td>\n",
        "      <td> 0.999567</td>\n",
        "      <td>-0.000177</td>\n",
        "    </tr>\n",
        "    <tr>\n",
        "      <th>15</th>\n",
        "      <td>  38</td>\n",
        "      <td> 1.026463</td>\n",
        "      <td> 1.027190</td>\n",
        "      <td> 0.000727</td>\n",
        "    </tr>\n",
        "    <tr>\n",
        "      <th>16</th>\n",
        "      <td> 109</td>\n",
        "      <td> 1.000544</td>\n",
        "      <td> 1.006979</td>\n",
        "      <td> 0.006435</td>\n",
        "    </tr>\n",
        "    <tr>\n",
        "      <th>17</th>\n",
        "      <td>   3</td>\n",
        "      <td> 1.025801</td>\n",
        "      <td> 1.032704</td>\n",
        "      <td> 0.006904</td>\n",
        "    </tr>\n",
        "    <tr>\n",
        "      <th>18</th>\n",
        "      <td>  43</td>\n",
        "      <td> 1.002331</td>\n",
        "      <td> 1.007783</td>\n",
        "      <td> 0.005451</td>\n",
        "    </tr>\n",
        "    <tr>\n",
        "      <th>19</th>\n",
        "      <td>  14</td>\n",
        "      <td> 1.032087</td>\n",
        "      <td> 1.043027</td>\n",
        "      <td> 0.010939</td>\n",
        "    </tr>\n",
        "    <tr>\n",
        "      <th>20</th>\n",
        "      <td>  22</td>\n",
        "      <td> 1.007074</td>\n",
        "      <td> 1.011713</td>\n",
        "      <td> 0.004639</td>\n",
        "    </tr>\n",
        "    <tr>\n",
        "      <th>21</th>\n",
        "      <td>  83</td>\n",
        "      <td> 1.004368</td>\n",
        "      <td> 1.010552</td>\n",
        "      <td> 0.006184</td>\n",
        "    </tr>\n",
        "    <tr>\n",
        "      <th>22</th>\n",
        "      <td>  32</td>\n",
        "      <td> 0.998212</td>\n",
        "      <td> 0.993330</td>\n",
        "      <td>-0.004882</td>\n",
        "    </tr>\n",
        "    <tr>\n",
        "      <th>23</th>\n",
        "      <td>  57</td>\n",
        "      <td> 1.048335</td>\n",
        "      <td> 1.059704</td>\n",
        "      <td> 0.011370</td>\n",
        "    </tr>\n",
        "    <tr>\n",
        "      <th>24</th>\n",
        "      <td> 116</td>\n",
        "      <td> 1.010984</td>\n",
        "      <td> 1.017153</td>\n",
        "      <td> 0.006169</td>\n",
        "    </tr>\n",
        "    <tr>\n",
        "      <th>25</th>\n",
        "      <td> 117</td>\n",
        "      <td> 1.029467</td>\n",
        "      <td> 1.040668</td>\n",
        "      <td> 0.011201</td>\n",
        "    </tr>\n",
        "    <tr>\n",
        "      <th>26</th>\n",
        "      <td> 118</td>\n",
        "      <td> 1.023584</td>\n",
        "      <td> 1.030055</td>\n",
        "      <td> 0.006470</td>\n",
        "    </tr>\n",
        "    <tr>\n",
        "      <th>27</th>\n",
        "      <td> 119</td>\n",
        "      <td> 1.046065</td>\n",
        "      <td> 1.054423</td>\n",
        "      <td> 0.008358</td>\n",
        "    </tr>\n",
        "    <tr>\n",
        "      <th>28</th>\n",
        "      <td> 120</td>\n",
        "      <td> 1.039143</td>\n",
        "      <td> 1.053516</td>\n",
        "      <td> 0.014373</td>\n",
        "    </tr>\n",
        "    <tr>\n",
        "      <th>29</th>\n",
        "      <td> 121</td>\n",
        "      <td> 1.054660</td>\n",
        "      <td> 1.069714</td>\n",
        "      <td> 0.015054</td>\n",
        "    </tr>\n",
        "  </tbody>\n",
        "</table>\n",
        "</div>"
       ],
       "metadata": {},
       "output_type": "pyout",
       "prompt_number": 53,
       "text": [
        "    Reference  sector_predict  measured_factor  difference\n",
        "0          18        0.993805         0.998054    0.004249\n",
        "1          58        1.005620         1.008999    0.003380\n",
        "2          20        1.035794         1.037967    0.002173\n",
        "3          33        1.011305         1.006789   -0.004515\n",
        "4         106        1.000182         1.000871    0.000688\n",
        "5          82        1.000544         1.000867    0.000323\n",
        "6           6        0.996588         1.001302    0.004714\n",
        "7         112        1.053808         1.053904    0.000095\n",
        "8         104        1.004918         1.006601    0.001683\n",
        "9          34        0.995268         0.993330   -0.001937\n",
        "10         19        1.002514         1.001089   -0.001425\n",
        "11         73        0.994125         0.995472    0.001347\n",
        "12         70        0.993794         0.997190    0.003396\n",
        "13         41        0.995680         0.994829   -0.000851\n",
        "14         16        0.999744         0.999567   -0.000177\n",
        "15         38        1.026463         1.027190    0.000727\n",
        "16        109        1.000544         1.006979    0.006435\n",
        "17          3        1.025801         1.032704    0.006904\n",
        "18         43        1.002331         1.007783    0.005451\n",
        "19         14        1.032087         1.043027    0.010939\n",
        "20         22        1.007074         1.011713    0.004639\n",
        "21         83        1.004368         1.010552    0.006184\n",
        "22         32        0.998212         0.993330   -0.004882\n",
        "23         57        1.048335         1.059704    0.011370\n",
        "24        116        1.010984         1.017153    0.006169\n",
        "25        117        1.029467         1.040668    0.011201\n",
        "26        118        1.023584         1.030055    0.006470\n",
        "27        119        1.046065         1.054423    0.008358\n",
        "28        120        1.039143         1.053516    0.014373\n",
        "29        121        1.054660         1.069714    0.015054"
       ]
      }
     ],
     "prompt_number": 53
    },
    {
     "cell_type": "code",
     "collapsed": false,
     "input": [
      "std(difference)"
     ],
     "language": "python",
     "metadata": {},
     "outputs": [
      {
       "metadata": {},
       "output_type": "pyout",
       "prompt_number": 54,
       "text": [
        "0.0050329850430285471"
       ]
      }
     ],
     "prompt_number": 54
    },
    {
     "cell_type": "code",
     "collapsed": false,
     "input": [
      "# pos = 120\n",
      "# ref = cutoutRef[pos]\n",
      "# ref\n",
      "\n",
      "ref = 57\n",
      "pos = find(ref == cutoutRef)[0]"
     ],
     "language": "python",
     "metadata": {},
     "outputs": [],
     "prompt_number": 70
    },
    {
     "cell_type": "code",
     "collapsed": false,
     "input": [
      "# i = 19\n",
      "# i = 106\n",
      "i = ref\n",
      "\n",
      "# cutout[i] = cutout[i].buffer(0.001,resolution=100)\n",
      "\n",
      "\n",
      "scaled_fig_start(12,12)\n",
      "\n",
      "x_vals_show = cutout[i].exterior.xy[0]\n",
      "y_vals_show = cutout[i].exterior.xy[1]\n",
      "\n",
      "x_vals_show = array(x_vals_show,'float')\n",
      "y_vals_show = array(y_vals_show,'float')\n",
      "\n",
      "a = middle_points[pos,0]\n",
      "b = middle_points[pos,1]\n",
      "\n",
      "scatter(a,b,c='red',s=100, zorder=10)\n",
      "\n",
      "for k in range(len(x_vals_show)):\n",
      "    \n",
      "    plot([a,x_vals_show[k]],[b,y_vals_show[k]],'g')\n",
      "    \n",
      "plot(x_vals_show,y_vals_show,linewidth=3)\n",
      "\n",
      "scaled_fig_end(12,12)"
     ],
     "language": "python",
     "metadata": {},
     "outputs": [
      {
       "metadata": {},
       "output_type": "display_data",
       "png": "[encoded data removed]",
       "text": [
        "<matplotlib.figure.Figure at 0xb155390>"
       ]
      }
     ],
     "prompt_number": 71
    },
    {
     "cell_type": "code",
     "collapsed": false,
     "input": [
      "test = sh.LineString(cutout[i].exterior.coords)\n",
      "\n",
      "steps = linspace(0,1,100)\n",
      "\n",
      "\n",
      "xcoords = zeros(len(steps))\n",
      "ycoords = zeros(len(steps))\n",
      "\n",
      "for i in range(len(steps)):\n",
      "    \n",
      "    \n",
      "    xycoords = test.interpolate(steps[i], normalized=True).xy\n",
      "    \n",
      "    xcoords[i] = xycoords[0][0]\n",
      "    ycoords[i] = xycoords[1][0]"
     ],
     "language": "python",
     "metadata": {},
     "outputs": [],
     "prompt_number": 72
    },
    {
     "cell_type": "code",
     "collapsed": false,
     "input": [
      "scaled_fig_start(12,12)\n",
      "\n",
      "a = middle_points[pos,0]\n",
      "b = middle_points[pos,1]\n",
      "\n",
      "scatter(a,b,c='red',s=100, zorder=10)\n",
      "\n",
      "for k in range(len(xcoords)):\n",
      "    \n",
      "    plot([a,xcoords[k]],[b,ycoords[k]],'g')\n",
      "    \n",
      "plot(xcoords,ycoords,linewidth=3)\n",
      "\n",
      "scaled_fig_end(12,12)"
     ],
     "language": "python",
     "metadata": {},
     "outputs": [
      {
       "metadata": {},
       "output_type": "display_data",
       "png": "[encoded data removed]",
       "text": [
        "<matplotlib.figure.Figure at 0xa8d5240>"
       ]
      }
     ],
     "prompt_number": 73
    },
    {
     "cell_type": "code",
     "collapsed": false,
     "input": [
      "i = 19\n",
      "\n",
      "x_vals = xcoords\n",
      "y_vals = ycoords\n",
      "\n",
      "a = middle_points[i,0]\n",
      "b = middle_points[i,1]\n",
      "\n",
      "x_vals = array(x_vals,'float') - a\n",
      "y_vals = array(y_vals,'float') - b\n",
      "\n",
      "angles = arctan2(y_vals, x_vals) * 180 / pi\n",
      "plot(angles)"
     ],
     "language": "python",
     "metadata": {},
     "outputs": [
      {
       "metadata": {},
       "output_type": "pyout",
       "prompt_number": 74,
       "text": [
        "[<matplotlib.lines.Line2D at 0xb3f6860>]"
       ]
      },
      {
       "metadata": {},
       "output_type": "display_data",
       "png": "[encoded data removed]",
       "text": [
        "<matplotlib.figure.Figure at 0xa8e14a8>"
       ]
      }
     ],
     "prompt_number": 74
    },
    {
     "cell_type": "code",
     "collapsed": false,
     "input": [
      "clockwise = sum(mod(diff(angles),360)) > sum(mod(-diff(angles),360))\n",
      "diffAdj = 1 - 2*clockwise\n",
      "\n",
      "sector_angles = mod(diffAdj*diff(angles),360)\n",
      "plot(sector_angles)"
     ],
     "language": "python",
     "metadata": {},
     "outputs": [
      {
       "metadata": {},
       "output_type": "pyout",
       "prompt_number": 75,
       "text": [
        "[<matplotlib.lines.Line2D at 0xb44aa90>]"
       ]
      },
      {
       "metadata": {},
       "output_type": "display_data",
       "png": "[encoded data removed]",
       "text": [
        "<matplotlib.figure.Figure at 0x91a8f28>"
       ]
      }
     ],
     "prompt_number": 75
    },
    {
     "cell_type": "code",
     "collapsed": false,
     "input": [
      "wrong_direction = sector_angles > 180\n",
      "\n",
      "while any(wrong_direction):\n",
      "\n",
      "    wrong_direction = append(wrong_direction,False)\n",
      "\n",
      "    x_vals = x_vals[~wrong_direction]\n",
      "    y_vals = y_vals[~wrong_direction]\n",
      "\n",
      "    angles = arctan2(y_vals, x_vals) * 180 / pi\n",
      "    sector_angles = mod(diffAdj*diff(angles),360)\n",
      "\n",
      "    wrong_direction = sector_angles > 180\n",
      "    \n",
      "# wrong_direction"
     ],
     "language": "python",
     "metadata": {},
     "outputs": [],
     "prompt_number": 76
    },
    {
     "cell_type": "code",
     "collapsed": false,
     "input": [
      "radii = hypot(x_vals,y_vals)\n",
      "sector_radii = radii[0:-1] + diff(radii)/2\n",
      "plot(sector_radii)"
     ],
     "language": "python",
     "metadata": {},
     "outputs": [
      {
       "metadata": {},
       "output_type": "pyout",
       "prompt_number": 77,
       "text": [
        "[<matplotlib.lines.Line2D at 0xb487668>]"
       ]
      },
      {
       "metadata": {},
       "output_type": "display_data",
       "png": "[encoded data removed]",
       "text": [
        "<matplotlib.figure.Figure at 0xb48c3c8>"
       ]
      }
     ],
     "prompt_number": 77
    },
    {
     "cell_type": "code",
     "collapsed": false,
     "input": [
      "angles = arctan2(y_vals, x_vals) * 180 / pi\n",
      "sector_angles = mod(diffAdj*diff(angles),360)\n",
      "plot(sector_angles)"
     ],
     "language": "python",
     "metadata": {},
     "outputs": [
      {
       "metadata": {},
       "output_type": "pyout",
       "prompt_number": 78,
       "text": [
        "[<matplotlib.lines.Line2D at 0x916a4e0>]"
       ]
      },
      {
       "metadata": {},
       "output_type": "display_data",
       "png": "[encoded data removed]",
       "text": [
        "<matplotlib.figure.Figure at 0xabfa898>"
       ]
      }
     ],
     "prompt_number": 78
    },
    {
     "cell_type": "code",
     "collapsed": false,
     "input": [
      "plot(cumsum(sector_angles),circleFit(sector_radii*2))"
     ],
     "language": "python",
     "metadata": {},
     "outputs": [
      {
       "metadata": {},
       "output_type": "pyout",
       "prompt_number": 79,
       "text": [
        "[<matplotlib.lines.Line2D at 0xb45f9e8>]"
       ]
      },
      {
       "metadata": {},
       "output_type": "display_data",
       "png": "[encoded data removed]",
       "text": [
        "<matplotlib.figure.Figure at 0xa8f30b8>"
       ]
      }
     ],
     "prompt_number": 79
    },
    {
     "cell_type": "code",
     "collapsed": false,
     "input": [
      "1/sum(circleFit(sector_radii*2) * sector_angles / 360)"
     ],
     "language": "python",
     "metadata": {},
     "outputs": [
      {
       "metadata": {},
       "output_type": "pyout",
       "prompt_number": 81,
       "text": [
        "1.0508186048485129"
       ]
      }
     ],
     "prompt_number": 81
    },
    {
     "cell_type": "code",
     "collapsed": false,
     "input": [],
     "language": "python",
     "metadata": {},
     "outputs": []
    }
   ],
   "metadata": {}
  }
 ]
}