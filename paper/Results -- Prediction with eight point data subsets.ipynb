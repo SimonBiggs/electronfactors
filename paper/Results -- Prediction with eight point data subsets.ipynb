{
 "cells": [
  {
   "cell_type": "code",
   "execution_count": 1,
   "metadata": {
    "collapsed": false
   },
   "outputs": [],
   "source": [
    "import yaml\n",
    "import numpy as np\n",
    "import matplotlib.pyplot as plt\n",
    "%matplotlib inline\n",
    "\n",
    "from scipy.stats import probplot\n",
    "\n",
    "from electronfactors import (\n",
    "    create_model, pull_data, fit_give, estimate_population_uncertainty,\n",
    "    create_green_cm\n",
    ")"
   ]
  },
  {
   "cell_type": "code",
   "execution_count": 2,
   "metadata": {
    "collapsed": true
   },
   "outputs": [],
   "source": [
    "run_full_calculation = False  # True"
   ]
  },
  {
   "cell_type": "code",
   "execution_count": 3,
   "metadata": {
    "collapsed": true
   },
   "outputs": [],
   "source": [
    "green_cm = create_green_cm()\n",
    "\n",
    "def colour(x, alpha=1):\n",
    "    result = list(green_cm(x))\n",
    "    result[3] = alpha\n",
    "    \n",
    "    return result"
   ]
  },
  {
   "cell_type": "code",
   "execution_count": 4,
   "metadata": {
    "collapsed": true
   },
   "outputs": [],
   "source": [
    "from matplotlib import rc\n",
    "rc('font',**{'family':'serif',\n",
    "             'size':'16'})\n",
    "# rc('text', usetex=True)"
   ]
  },
  {
   "cell_type": "code",
   "execution_count": 5,
   "metadata": {
    "collapsed": false
   },
   "outputs": [],
   "source": [
    "# width, length, eqPonA, factor = pull_data(energy=12)\n",
    "\n",
    "with open(\"model_cache/12MeV_10app_100ssd.yml\", 'r') as file:\n",
    "    cutout_data = yaml.load(file)\n",
    "    \n",
    "label = np.array([key for key in cutout_data])\n",
    "book_factor = np.array([item[0] == 'P' for i, item in enumerate(label)])\n",
    "\n",
    "custom_label = label[~book_factor]\n",
    "\n",
    "width = np.array([cutout_data[key]['width'] for key in custom_label])\n",
    "length = np.array([cutout_data[key]['length'] for key in custom_label])\n",
    "factor = np.array([cutout_data[key]['factor'] for key in custom_label])\n",
    "\n",
    "perimeter = np.pi / 2 * (3*(width + length) - np.sqrt((3*width + length)*(3*length + width)))\n",
    "area = np.pi / 4 * width * length\n",
    "eqPonA = perimeter / area"
   ]
  },
  {
   "cell_type": "code",
   "execution_count": 6,
   "metadata": {
    "collapsed": true
   },
   "outputs": [],
   "source": [
    "store = np.array([])\n",
    "mean_diff = np.array([])\n",
    "individual_std = np.array([])"
   ]
  },
  {
   "cell_type": "code",
   "execution_count": 7,
   "metadata": {
    "collapsed": false
   },
   "outputs": [],
   "source": [
    "amount = 8\n",
    "if run_full_calculation:\n",
    "    n = 100000\n",
    "else:\n",
    "    n = 100\n",
    "\n",
    "    \n",
    "for j in range(n):\n",
    "    order = np.arange(len(width))\n",
    "    np.random.shuffle(order)\n",
    "    reference = order[0:amount]\n",
    "    reference\n",
    "    check = np.setdiff1d(np.arange(len(width)), reference)\n",
    "    check\n",
    "    give = np.zeros(len(check))\n",
    "    predictions = np.zeros(len(check))\n",
    "\n",
    "    model = create_model(width[reference], eqPonA[reference], factor[reference])\n",
    "\n",
    "    for i, value in enumerate(check):\n",
    "        predictions[i] = model(width[value], eqPonA[value])\n",
    "        give[i] = fit_give(\n",
    "            width[value], eqPonA[value], \n",
    "            width[reference], eqPonA[reference], factor[reference])\n",
    "\n",
    "    percent_prediction_differences = 100*(factor[check] - predictions) / factor[check]\n",
    "\n",
    "    valid = give < 0.5\n",
    "    store = np.append(store, percent_prediction_differences[valid])\n",
    "    mean_diff = np.append(mean_diff, np.mean(percent_prediction_differences[valid]))\n",
    "    individual_std = np.append(individual_std, np.std(percent_prediction_differences[valid]))"
   ]
  },
  {
   "cell_type": "code",
   "execution_count": 8,
   "metadata": {
    "collapsed": false,
    "scrolled": false
   },
   "outputs": [
    {
     "name": "stdout",
     "output_type": "stream",
     "text": [
      "Mean = -0.02\n",
      "Uncertainty = 0.47\n"
     ]
    },
    {
     "data": {
      "text/plain": [
       "<matplotlib.text.Text at 0x7f6fd2c24b70>"
      ]
     },
     "execution_count": 8,
     "metadata": {},
     "output_type": "execute_result"
    },
    {
     "data": {
      "image/png": "[encoded data removed]",
      "text/plain": [
       "<matplotlib.figure.Figure at 0x7f6fd2c78fd0>"
      ]
     },
     "metadata": {},
     "output_type": "display_data"
    }
   ],
   "source": [
    "bins = np.arange(-2, 2.25, 0.25)\n",
    "\n",
    "plt.figure(figsize=(6 * 1.618, 6))\n",
    "\n",
    "plt.hist(store, bins, lw=2, fc=colour(0.55, alpha=0.5))\n",
    "\n",
    "uncertainty = estimate_population_uncertainty(store)\n",
    "\n",
    "print(\"Mean = %0.2f\" % (np.mean(store)))\n",
    "print(\"Uncertainty = %0.2f\" % (uncertainty))\n",
    "\n",
    "# plt.xlabel(\n",
    "#     r'\\% Prediction Difference '\n",
    "#     r'$\\left[100 \\times \\frac{\\mbox{measured } - \\mbox{ predicted}}{\\mbox{measured}} \\right]$')\n",
    "plt.ylabel(r'Frequency')\n",
    "plt.title(r'Histogram of percent prediction differences of data subsets')"
   ]
  },
  {
   "cell_type": "code",
   "execution_count": 9,
   "metadata": {
    "collapsed": false
   },
   "outputs": [
    {
     "data": {
      "text/plain": [
       "<matplotlib.text.Text at 0x7f6fd2b0be10>"
      ]
     },
     "execution_count": 9,
     "metadata": {},
     "output_type": "execute_result"
    },
    {
     "data": {
      "image/png": "[encoded data removed]",
      "text/plain": [
       "<matplotlib.figure.Figure at 0x7f6fd2c782e8>"
      ]
     },
     "metadata": {},
     "output_type": "display_data"
    }
   ],
   "source": [
    "fig = plt.figure(figsize=(7,4))\n",
    "ax = fig.add_subplot(111)\n",
    "\n",
    "probplot(store, plot=ax);\n",
    "\n",
    "ax.set_title(\"Normality probability plot for the percent differences\")"
   ]
  },
  {
   "cell_type": "code",
   "execution_count": 10,
   "metadata": {
    "collapsed": false
   },
   "outputs": [
    {
     "data": {
      "text/plain": [
       "-1.2726854303727082"
      ]
     },
     "execution_count": 10,
     "metadata": {},
     "output_type": "execute_result"
    }
   ],
   "source": [
    "np.min(store)"
   ]
  },
  {
   "cell_type": "code",
   "execution_count": 11,
   "metadata": {
    "collapsed": false
   },
   "outputs": [
    {
     "data": {
      "text/plain": [
       "1.1146105382831661"
      ]
     },
     "execution_count": 11,
     "metadata": {},
     "output_type": "execute_result"
    }
   ],
   "source": [
    "np.max(store)"
   ]
  },
  {
   "cell_type": "code",
   "execution_count": 12,
   "metadata": {
    "collapsed": false
   },
   "outputs": [
    {
     "data": {
      "text/plain": [
       "1126"
      ]
     },
     "execution_count": 12,
     "metadata": {},
     "output_type": "execute_result"
    }
   ],
   "source": [
    "len(store)"
   ]
  }
 ],
 "metadata": {
  "kernelspec": {
   "display_name": "Python 3",
   "language": "python",
   "name": "python3"
  },
  "language_info": {
   "codemirror_mode": {
    "name": "ipython",
    "version": 3
   },
   "file_extension": ".py",
   "mimetype": "text/x-python",
   "name": "python",
   "nbconvert_exporter": "python",
   "pygments_lexer": "ipython3",
   "version": "3.5.0+"
  }
 },
 "nbformat": 4,
 "nbformat_minor": 0
}
