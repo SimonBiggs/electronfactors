{
 "cells": [
  {
   "cell_type": "code",
   "execution_count": 1,
   "metadata": {
    "collapsed": false
   },
   "outputs": [],
   "source": [
    "import numpy as np\n",
    "import matplotlib.pyplot as plt\n",
    "from matplotlib import pylab\n",
    "%matplotlib inline\n",
    "\n",
    "from scipy.interpolate import interp1d\n",
    "\n",
    "from IPython.display import Image"
   ]
  },
  {
   "cell_type": "markdown",
   "metadata": {},
   "source": [
    "## Details"
   ]
  },
  {
   "cell_type": "markdown",
   "metadata": {},
   "source": [
    "Below are the recorded measurements for the first batch of cutout factor measurements"
   ]
  },
  {
   "cell_type": "markdown",
   "metadata": {},
   "source": [
    "## Ionisation conversion"
   ]
  },
  {
   "cell_type": "markdown",
   "metadata": {},
   "source": [
    "The following cell is used to initialise the ionisation to dose conversion function. Data is extracted from table 20 within TRS398. R50 of the 12 MeV beam is $4.75~g/cm^2$"
   ]
  },
  {
   "cell_type": "code",
   "execution_count": 2,
   "metadata": {
    "collapsed": false
   },
   "outputs": [],
   "source": [
    "zOnR50 = np.concatenate((np.array([0.02]), np.arange(0.05,1.25,0.05)))\n",
    "R50of45 = np.array([0.997,1,1.004,1.008,1.012,1.017,1.021,1.026,1.03,\n",
    "                 1.035,1.04,1.045,1.051,1.056,1.062,1.067,1.073,1.08,\n",
    "                 1.086,1.092,1.099,1.106,1.113,1.120,1.128])\n",
    "\n",
    "R50of50 = np.array([0.991,0.994,0.998,1.002,1.006,1.011,1.016,1.02,1.025,\n",
    "                 1.03,1.035,1.041,1.046,1.052,1.058,1.064,1.07,1.076,\n",
    "                 1.083,1.09,1.097,1.104,1.112,1.119,1.128])\n",
    "\n",
    "R50of47_5 = np.mean([R50of45,R50of50], axis=0)\n",
    "\n",
    "stopRatio = interp1d(zOnR50 * 47.5,R50of47_5)"
   ]
  },
  {
   "cell_type": "markdown",
   "metadata": {},
   "source": [
    "## Measurements"
   ]
  },
  {
   "cell_type": "markdown",
   "metadata": {},
   "source": [
    "These measurements were done on Harry 2694, with a Markus chamber set to +300 V. The sensitivity was $1.398 \\times 10^9$. All measurements were done at 100 SSD with a 12 MeV beam and a $10\\times10$ cm applicator. Below are the readings recorded in chronological order."
   ]
  },
  {
   "cell_type": "markdown",
   "metadata": {},
   "source": [
    "### Readings"
   ]
  },
  {
   "cell_type": "markdown",
   "metadata": {},
   "source": [
    "#### Output function definition"
   ]
  },
  {
   "cell_type": "code",
   "execution_count": 3,
   "metadata": {
    "collapsed": false
   },
   "outputs": [],
   "source": [
    "def calc_display(**kwargs):\n",
    "    depth = np.array(kwargs['depth'])\n",
    "    ionisation = np.array(kwargs['ionisation'])\n",
    "    reference = kwargs['reference']\n",
    "    \n",
    "    if len(ionisation) == 1:\n",
    "        factor = (\n",
    "            reference / ionisation * \n",
    "            (stopRatio(25) / stopRatio(depth[0]))\n",
    "        )\n",
    "        \n",
    "    else:    \n",
    "        stop_ratio_corrected = stopRatio(depth) * ionisation\n",
    "\n",
    "        plt.scatter(depth,stop_ratio_corrected)\n",
    "        plt.ylabel('Stopping power ratio corrected')\n",
    "        plt.xlabel('Depth (mm)')\n",
    "        plt.title('Relative dose measurements')\n",
    "        plt.show()\n",
    "        \n",
    "        index_of_max = np.argmax(stop_ratio_corrected)        \n",
    "        cutout_reading = ionisation[index_of_max]\n",
    "        \n",
    "        factor = (\n",
    "            (reference / cutout_reading) * \n",
    "            (stopRatio(25) / stopRatio(depth[index_of_max]))\n",
    "        )\n",
    "    \n",
    "    print(\n",
    "        \"Cutout factor = %0.3f | %0.1f%%\" % \n",
    "        (factor, (factor - 1) * 100)\n",
    "    )\n",
    "\n",
    "    return factor"
   ]
  },
  {
   "cell_type": "markdown",
   "metadata": {},
   "source": [
    "#### Cutout readings"
   ]
  },
  {
   "cell_type": "code",
   "execution_count": 4,
   "metadata": {
    "collapsed": false
   },
   "outputs": [],
   "source": [
    "data = dict()"
   ]
  },
  {
   "cell_type": "code",
   "execution_count": 13,
   "metadata": {
    "collapsed": false
   },
   "outputs": [
    {
     "data": {
      "text/plain": [
       "1.0329999999999999"
      ]
     },
     "execution_count": 13,
     "metadata": {},
     "output_type": "execute_result"
    }
   ],
   "source": [
    "# Standard insert\n",
    "np.mean([1.033, 1.033])"
   ]
  },
  {
   "cell_type": "code",
   "execution_count": 8,
   "metadata": {
    "collapsed": true
   },
   "outputs": [],
   "source": [
    "def new_reading(**kwargs):\n",
    "    data = kwargs['data']\n",
    "    key = kwargs['key']\n",
    "    ionisation = kwargs['ionisation']\n",
    "    depth = kwargs['depth']\n",
    "    \n",
    "    data[key]['depth'].append(depth)\n",
    "    data[key]['ionisation'].append(np.mean(ionisation))\n",
    "    \n",
    "    return data"
   ]
  },
  {
   "cell_type": "code",
   "execution_count": 9,
   "metadata": {
    "collapsed": false
   },
   "outputs": [
    {
     "data": {
      "image/png": "[encoded data removed]",
      "text/plain": [
       "<matplotlib.figure.Figure at 0x7d06eb8>"
      ]
     },
     "metadata": {},
     "output_type": "display_data"
    },
    {
     "name": "stdout",
     "output_type": "stream",
     "text": [
      "Cutout factor = 1.026 | 2.6%\n"
     ]
    }
   ],
   "source": [
    "key = 'concave_cutout'\n",
    "\n",
    "data[key] = dict()\n",
    "\n",
    "data[key]['depth'] = []\n",
    "data[key]['ionisation'] = []\n",
    "data[key]['reference'] = 1.033\n",
    "\n",
    "data = new_reading(\n",
    "    key=key, data=data,\n",
    "    ionisation=[1.007, 1.006, 1.006],\n",
    "    depth=25    \n",
    ")\n",
    "\n",
    "data = new_reading(\n",
    "    key=key, data=data,\n",
    "    ionisation=[1.009, 1.009],\n",
    "    depth=24   \n",
    ")\n",
    "\n",
    "data = new_reading(\n",
    "    key=key, data=data,\n",
    "    ionisation=[1.011, 1.011],\n",
    "    depth=23 \n",
    ")\n",
    "\n",
    "data = new_reading(\n",
    "    key=key, data=data,\n",
    "    ionisation=[1.013],\n",
    "    depth=22\n",
    ")\n",
    "\n",
    "data = new_reading(\n",
    "    key=key, data=data,\n",
    "    ionisation=[1.013],\n",
    "    depth=21\n",
    ")\n",
    "\n",
    "data[key]['factor'] = calc_display(**data[key])"
   ]
  },
  {
   "cell_type": "code",
   "execution_count": 10,
   "metadata": {
    "collapsed": false
   },
   "outputs": [
    {
     "data": {
      "image/png": "[encoded data removed]",
      "text/plain": [
       "<matplotlib.figure.Figure at 0x8446b00>"
      ]
     },
     "metadata": {},
     "output_type": "display_data"
    },
    {
     "name": "stdout",
     "output_type": "stream",
     "text": [
      "Cutout factor = 1.030 | 3.0%\n"
     ]
    }
   ],
   "source": [
    "key = 'concave_ellipse'\n",
    "data[key] = dict()\n",
    "data[key]['depth'] = []\n",
    "data[key]['ionisation'] = []\n",
    "data[key]['reference'] = 1.033\n",
    "\n",
    "data = new_reading(\n",
    "    key=key, data=data,\n",
    "    ionisation=[1.001, 1.001],\n",
    "    depth=25    \n",
    ")\n",
    "\n",
    "data = new_reading(\n",
    "    key=key, data=data,\n",
    "    ionisation=[1.004, 1.004],\n",
    "    depth=24    \n",
    ")\n",
    "\n",
    "data = new_reading(\n",
    "    key=key, data=data,\n",
    "    ionisation=[1.008, 1.007, 1.007],\n",
    "    depth=23   \n",
    ")\n",
    "\n",
    "data = new_reading(\n",
    "    key=key, data=data,\n",
    "    ionisation=[1.009, 1.009],\n",
    "    depth=22   \n",
    ")\n",
    "\n",
    "data = new_reading(\n",
    "    key=key, data=data,\n",
    "    ionisation=[1.009],\n",
    "    depth=21   \n",
    ")\n",
    "\n",
    "data[key]['factor'] = calc_display(**data[key])"
   ]
  },
  {
   "cell_type": "code",
   "execution_count": 12,
   "metadata": {
    "collapsed": false
   },
   "outputs": [
    {
     "data": {
      "text/plain": [
       "1.0329999999999999"
      ]
     },
     "execution_count": 12,
     "metadata": {},
     "output_type": "execute_result"
    }
   ],
   "source": [
    "# Standard insert\n",
    "np.mean([1.033, 1.033])"
   ]
  },
  {
   "cell_type": "code",
   "execution_count": null,
   "metadata": {
    "collapsed": true
   },
   "outputs": [],
   "source": []
  }
 ],
 "metadata": {
  "kernelspec": {
   "display_name": "Python 3",
   "language": "python",
   "name": "python3"
  },
  "language_info": {
   "codemirror_mode": {
    "name": "ipython",
    "version": 3
   },
   "file_extension": ".py",
   "mimetype": "text/x-python",
   "name": "python",
   "nbconvert_exporter": "python",
   "pygments_lexer": "ipython3",
   "version": "3.4.1"
  }
 },
 "nbformat": 4,
 "nbformat_minor": 0
}
