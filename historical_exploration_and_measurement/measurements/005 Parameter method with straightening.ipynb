{
 "metadata": {
  "name": "",
  "signature": "sha256:a903bf41ee8e7521f91a984732a62b0f1fee3e2220f4b7cbe86c22be6faadebc"
 },
 "nbformat": 3,
 "nbformat_minor": 0,
 "worksheets": [
  {
   "cells": [
    {
     "cell_type": "code",
     "collapsed": false,
     "input": [
      "%pylab inline\n",
      "\n",
      "from scipy.optimize import basinhopping\n",
      "from scipy.interpolate import UnivariateSpline\n",
      "\n",
      "import pandas as pd\n",
      "\n",
      "import csv\n",
      "\n",
      "import shapely.affinity as af\n",
      "import shapely.geometry as sh\n",
      "\n",
      "from equivalent_ellipse import *\n",
      "from scaled_figures import *"
     ],
     "language": "python",
     "metadata": {},
     "outputs": [
      {
       "output_type": "stream",
       "stream": "stdout",
       "text": [
        "Populating the interactive namespace from numpy and matplotlib\n"
       ]
      }
     ],
     "prompt_number": 1
    },
    {
     "cell_type": "code",
     "collapsed": false,
     "input": [
      "pylab.rcParams['savefig.dpi'] = 110"
     ],
     "language": "python",
     "metadata": {},
     "outputs": [],
     "prompt_number": 2
    },
    {
     "cell_type": "code",
     "collapsed": false,
     "input": [
      "x_list = list()\n",
      "y_list = list()\n",
      "\n",
      "with open('../data/cutout_x.csv', 'r') as x_csvfile:\n",
      "    with open('../data/cutout_y.csv', 'r') as y_csvfile:\n",
      "        \n",
      "        x_reader = csv.reader(x_csvfile, delimiter=',', lineterminator='\\n')\n",
      "        y_reader = csv.reader(y_csvfile, delimiter=',', lineterminator='\\n')\n",
      "        \n",
      "        for row in x_reader:\n",
      "            x_list += [row]\n",
      "  \n",
      "        for row in y_reader:\n",
      "            y_list += [row]\n",
      "\n",
      "            \n",
      "num_cutouts = len(x_list)\n",
      "\n",
      "\n",
      "x_array = [0,]*num_cutouts\n",
      "y_array = [0,]*num_cutouts\n",
      "\n",
      "\n",
      "for i in range(num_cutouts):\n",
      "\n",
      "    x_array[i] = array(x_list[i], dtype='float')\n",
      "    y_array[i] = array(y_list[i], dtype='float')\n",
      "\n",
      "    \n",
      "cutout = [0,]*num_cutouts\n",
      "\n",
      "for i in range(num_cutouts):\n",
      "    cutout[i] = shapely_cutout(x_array[i],y_array[i])"
     ],
     "language": "python",
     "metadata": {},
     "outputs": [],
     "prompt_number": 3
    },
    {
     "cell_type": "code",
     "collapsed": false,
     "input": [
      "# Use pandas to load the csv file\n",
      "cutoutData = pd.read_csv(\"cutoutdata.csv\")\n",
      "\n",
      "# Define width, length, and factor as the csv columns\n",
      "# which had that corresponding header\n",
      "width = cutoutData['width'].values\n",
      "length = cutoutData['length'].values\n",
      "factor = cutoutData['factor'].values\n",
      "cutoutRef = cutoutData['Reference'].values\n",
      "\n",
      "# Swap width and length values if order was mistaken\n",
      "swap = width > length\n",
      "\n",
      "store = width[swap]\n",
      "width[swap] = length[swap]\n",
      "length[swap] = store"
     ],
     "language": "python",
     "metadata": {},
     "outputs": [],
     "prompt_number": 4
    },
    {
     "cell_type": "code",
     "collapsed": false,
     "input": [
      "cutoutRef = cutoutRef[~isnan(cutoutRef)].astype(int)\n",
      "cutoutRef"
     ],
     "language": "python",
     "metadata": {},
     "outputs": [
      {
       "metadata": {},
       "output_type": "pyout",
       "prompt_number": 5,
       "text": [
        "array([  3,   6,  14,  16,  18,  19,  20,  22,  32,  33,  34,  38,  41,\n",
        "        43,  57,  58,  70,  73,  82,  83, 104, 106, 109, 112])"
       ]
      }
     ],
     "prompt_number": 5
    },
    {
     "cell_type": "code",
     "collapsed": false,
     "input": [
      "# factor"
     ],
     "language": "python",
     "metadata": {},
     "outputs": [],
     "prompt_number": 6
    },
    {
     "cell_type": "code",
     "collapsed": false,
     "input": [
      "# with open('cutout_factors','r') as f:\n",
      "    \n",
      "#     loaded_factor = eval(f.read())\n",
      "    \n",
      "# dictArray = array(list(loaded_factor.items()),float)\n",
      "# cutoutRef = dictArray[:,0].astype(int)\n",
      "# factor = dictArray[:,1]\n",
      "\n",
      "# # width = width[cutoutRef]\n",
      "# # length = length[cutoutRef]\n",
      "# factor"
     ],
     "language": "python",
     "metadata": {},
     "outputs": [],
     "prompt_number": 7
    },
    {
     "cell_type": "code",
     "collapsed": false,
     "input": [
      "# with open('custom_cutout_factors','r') as f:\n",
      "    \n",
      "#     loaded_custom_factor = eval(f.read())\n",
      "\n",
      "# customDimensionsDict = {'5x13':[5,13],\n",
      "#                    '5x10':[5,10],\n",
      "#                    '5x8':[5,8],\n",
      "#                    '4x13':[4,13],\n",
      "#                    '4x10':[4,10],\n",
      "#                    '4x8':[4,8],\n",
      "#                    '4x6.5':[4,6.5],\n",
      "#                    '3x13':[3,13],\n",
      "#                    '3x9':[3,9],\n",
      "#                    '3x6.5':[3,6.5],\n",
      "#                    '3x5':[3,5]}\n",
      "\n",
      "# # customDimensionsDict = {'5x8':[5,8],\n",
      "# #                    '4x8':[4,8],\n",
      "# #                    '4x6.5':[4,6.5],\n",
      "# #                    '3x9':[3,9],\n",
      "# #                    '3x6.5':[3,6.5],\n",
      "# #                    '3x5':[3,5]}\n",
      "\n",
      "# customDataLabelList = list(customDimensionsDict.keys())\n",
      "\n",
      "# custom_factors = [loaded_custom_factor[x] for x in customDataLabelList]\n",
      "# custom_widths = [customDimensionsDict[x][0] for x in customDataLabelList]\n",
      "# custom_lengths = [customDimensionsDict[x][1] for x in customDataLabelList]\n",
      "\n",
      "# ellipse_cutouts = [0,]*len(custom_widths)\n",
      "\n",
      "# for i in range(len(custom_widths)):\n",
      "    \n",
      "#     ellipse_cutouts[i] = create_ellipse([0,0,custom_widths[i],custom_lengths[i],-45])\n",
      "    \n",
      "\n",
      "# cutoutRef = append(cutoutRef,arange(len(cutout),len(cutout)+len(ellipse_cutouts)))\n",
      "# cutout.extend(ellipse_cutouts)\n",
      "\n",
      "# factor = append(factor,custom_factors)\n",
      "# width = append(width,custom_widths)\n",
      "# length = append(length,custom_lengths)"
     ],
     "language": "python",
     "metadata": {},
     "outputs": [],
     "prompt_number": 8
    },
    {
     "cell_type": "code",
     "collapsed": false,
     "input": [
      "# testCutout = cutout[70]\n",
      "# testCutout"
     ],
     "language": "python",
     "metadata": {},
     "outputs": [],
     "prompt_number": 9
    },
    {
     "cell_type": "code",
     "collapsed": false,
     "input": [
      "with open('circle_cutout_factors','r') as f:\n",
      "    \n",
      "    loaded_circle_factor = eval(f.read())\n",
      "    \n",
      "circleDictArray = array(list(loaded_circle_factor.items()),float)\n",
      "\n",
      "circleDiameter = circleDictArray[:,0]\n",
      "circleFactor = circleDictArray[:,1]\n",
      "\n",
      "\n",
      "circle_cutouts = [0,]*len(circleDiameter)\n",
      "\n",
      "for i in range(len(circleDiameter)):\n",
      "    \n",
      "    circle_cutouts[i] = create_ellipse([0,0,circleDiameter[i],circleDiameter[i],0])"
     ],
     "language": "python",
     "metadata": {},
     "outputs": [],
     "prompt_number": 10
    },
    {
     "cell_type": "code",
     "collapsed": false,
     "input": [
      "scatter(width,length)"
     ],
     "language": "python",
     "metadata": {},
     "outputs": [
      {
       "metadata": {},
       "output_type": "pyout",
       "prompt_number": 11,
       "text": [
        "<matplotlib.collections.PathCollection at 0x9263400>"
       ]
      },
      {
       "metadata": {},
       "output_type": "display_data",
       "png": "[encoded data removed]",
       "text": [
        "<matplotlib.figure.Figure at 0x4a7b470>"
       ]
      }
     ],
     "prompt_number": 11
    },
    {
     "cell_type": "code",
     "collapsed": false,
     "input": [
      "scatter(width, width/length)"
     ],
     "language": "python",
     "metadata": {},
     "outputs": [
      {
       "metadata": {},
       "output_type": "pyout",
       "prompt_number": 12,
       "text": [
        "<matplotlib.collections.PathCollection at 0x960c780>"
       ]
      },
      {
       "metadata": {},
       "output_type": "display_data",
       "png": "[encoded data removed]",
       "text": [
        "<matplotlib.figure.Figure at 0x94a77f0>"
       ]
      }
     ],
     "prompt_number": 12
    },
    {
     "cell_type": "code",
     "collapsed": false,
     "input": [
      "scatter(width, 1/factor)\n",
      "\n",
      "circleFit = UnivariateSpline(circleDiameter,1/circleFactor)\n",
      "\n",
      "diameter_i = linspace(circleDiameter.min(),circleDiameter.max())\n",
      "plot(diameter_i,circleFit(diameter_i),'r--')\n",
      "\n",
      "\n",
      "widthFit = UnivariateSpline(width,1/factor)\n",
      "\n",
      "width_i = linspace(width.min(),width.max())\n",
      "plot(width_i,widthFit(width_i),'k--')"
     ],
     "language": "python",
     "metadata": {},
     "outputs": [
      {
       "metadata": {},
       "output_type": "pyout",
       "prompt_number": 13,
       "text": [
        "[<matplotlib.lines.Line2D at 0x951c1d0>]"
       ]
      },
      {
       "metadata": {},
       "output_type": "display_data",
       "png": "[encoded data removed]",
       "text": [
        "<matplotlib.figure.Figure at 0x95d5940>"
       ]
      }
     ],
     "prompt_number": 13
    },
    {
     "cell_type": "code",
     "collapsed": false,
     "input": [
      "minVal = 3\n",
      "maxVal = 15\n",
      "numZones = 1000"
     ],
     "language": "python",
     "metadata": {},
     "outputs": [],
     "prompt_number": 14
    },
    {
     "cell_type": "code",
     "collapsed": false,
     "input": [
      "# Create Zones\n",
      "\n",
      "zoneWidth = linspace(minVal,maxVal,numZones)\n",
      "\n",
      "zoneWeight = 70*widthFit.derivative()(zoneWidth)\n",
      "zoneWeight[zoneWeight < 0] = 0\n",
      "\n",
      "circle = [0,]*(numZones)\n",
      "circle[0] = sh.Point(0,0).buffer(minVal/2)\n",
      "\n",
      "zone = [0,]*numZones\n",
      "zone[0] = circle[0]\n",
      "\n",
      "for i in range(1,numZones-1):\n",
      "\n",
      "    circle[i] = sh.Point(0,0).buffer(zoneWidth[i]/2)\n",
      "    zone[i] = circle[i].difference(circle[i-1])\n",
      "\n",
      "zone[-1] = sh.Point(0,0).buffer(20).difference(circle[-2])\n",
      "\n",
      "weightedArea = 0.\n",
      "for i in range(numZones):\n",
      "    \n",
      "    weightedArea += cutout[0].intersection(zone[i]).area * zoneWeight[i]\n",
      "    \n",
      "weightedArea"
     ],
     "language": "python",
     "metadata": {},
     "outputs": [
      {
       "metadata": {},
       "output_type": "pyout",
       "prompt_number": 15,
       "text": [
        "42.196132780708453"
       ]
      }
     ],
     "prompt_number": 15
    },
    {
     "cell_type": "code",
     "collapsed": false,
     "input": [
      "cutout[0].area"
     ],
     "language": "python",
     "metadata": {},
     "outputs": [
      {
       "metadata": {},
       "output_type": "pyout",
       "prompt_number": 16,
       "text": [
        "40.994999999999976"
       ]
      }
     ],
     "prompt_number": 16
    },
    {
     "cell_type": "code",
     "collapsed": false,
     "input": [
      "plot(zoneWidth,zoneWeight)"
     ],
     "language": "python",
     "metadata": {},
     "outputs": [
      {
       "metadata": {},
       "output_type": "pyout",
       "prompt_number": 17,
       "text": [
        "[<matplotlib.lines.Line2D at 0x9620ba8>]"
       ]
      },
      {
       "metadata": {},
       "output_type": "display_data",
       "png": "[encoded data removed]",
       "text": [
        "<matplotlib.figure.Figure at 0x94eb8d0>"
       ]
      }
     ],
     "prompt_number": 17
    },
    {
     "cell_type": "code",
     "collapsed": false,
     "input": [
      "def weightedAreaOptimise(x,inputShape):\n",
      "    \n",
      "    a = x[0]\n",
      "    b = x[1]\n",
      "    \n",
      "    movedShape =af.translate(inputShape, xoff=-a, yoff=-b)\n",
      "    \n",
      "    weightedArea = 0.\n",
      "    \n",
      "    for i in range(numZones):\n",
      "        weightedArea += movedShape.intersection(zone[i]).area * zoneWeight[i]\n",
      "        \n",
      "    return -weightedArea  "
     ],
     "language": "python",
     "metadata": {},
     "outputs": [],
     "prompt_number": 18
    },
    {
     "cell_type": "code",
     "collapsed": false,
     "input": [
      "class MyTakeStep(object):\n",
      "    \n",
      "    def __init__(self, stepsize=0.5):\n",
      "        self.stepsize = stepsize\n",
      "        \n",
      "    def __call__(self, x):\n",
      "        s = self.stepsize\n",
      "        x[0] += np.random.uniform(-3*s, 3*s)\n",
      "        x[1] += np.random.uniform(-3*s, 3*s)\n",
      "        \n",
      "        return x\n",
      "    \n",
      "\n",
      "def print_fun(x, f, accepted):\n",
      "\n",
      "    global successCount_basinhopping\n",
      "    global minVals_basinhopping\n",
      "    global nSuccess_basinhopping\n",
      "\n",
      "    a = x[0]\n",
      "    b = x[1]\n",
      "    \n",
      "    f = np.around(f,4)\n",
      "    \n",
      "    if accepted:\n",
      "        \n",
      "        if np.all(np.isnan(minVals_basinhopping)):\n",
      "            \n",
      "            minVals_basinhopping[0] = f\n",
      "            successCount_basinhopping = 1\n",
      "            \n",
      "            print((\"first local minima of %.4f at:\\n\"+\n",
      "                \"[a,b] = [%.4f, %.4f]\")\n",
      "                % (f,a,b))\n",
      "            \n",
      "        elif (np.nanmin(minVals_basinhopping) == f):\n",
      "        \n",
      "            minVals_basinhopping[successCount_basinhopping] = f\n",
      "            successCount_basinhopping += 1\n",
      "            \n",
      "            print((\"agreeing local minima of %.4f at:\\n\"+\n",
      "                \"[a,b] = [%.4f, %.4f]\")\n",
      "                % (f,a,b))\n",
      "        \n",
      "        elif (np.nanmin(minVals_basinhopping) > f):\n",
      "        \n",
      "            minVals_basinhopping[0] = f\n",
      "            successCount_basinhopping = 1\n",
      "            \n",
      "            print((\"new local minima of %.4f at:\\n\"+\n",
      "                \"[a,b] = [%.4f, %.4f]\") \n",
      "                % (f,a,b))\n",
      "                \n",
      "        else:\n",
      "        \n",
      "            print((\"rejected local minima of %.4f at:\\n\"+\n",
      "                \"[a,b] = [%.4f, %.4f]\") \n",
      "                % (f,a,b))\n",
      "            \n",
      "        \n",
      "    else:\n",
      "        \n",
      "        print((\"failed to find local minima at:\\n\"+\n",
      "            \"[a,b] = [%.4f, %.4f]\") \n",
      "            % (a,b))\n",
      "          \n",
      "\n",
      "    if successCount_basinhopping >= nSuccess_basinhopping:\n",
      "        return True\n",
      "\n",
      "\n",
      "\n",
      "def optimise_middle(cutout,userNSuccess):\n",
      "    \n",
      "    mytakestep = MyTakeStep()\n",
      "    \n",
      "    global nSuccess_basinhopping\n",
      "    nSuccess_basinhopping = userNSuccess\n",
      "    \n",
      "    global minVals_basinhopping\n",
      "    minVals_basinhopping = np.empty(nSuccess_basinhopping)\n",
      "    minVals_basinhopping[:] = np.nan\n",
      "    \n",
      "    global successCount_basinhopping\n",
      "    successCount_basinhopping = 0\n",
      "        \n",
      "    minimizer_kwargs = {\"args\": (cutout,), \"method\": 'L-BFGS-B', \n",
      "                        \"bounds\": ((-5,5),(-5,5)) }\n",
      "    \n",
      "    x0 = np.array([0,0])\n",
      "\n",
      "    output = basinhopping(weightedAreaOptimise,x0,\n",
      "                          niter=1000,minimizer_kwargs=minimizer_kwargs,\n",
      "                          take_step=mytakestep, callback=print_fun)\n",
      "\n",
      "    return output"
     ],
     "language": "python",
     "metadata": {},
     "outputs": [],
     "prompt_number": 19
    },
    {
     "cell_type": "code",
     "collapsed": false,
     "input": [
      "middle_points = zeros([len(cutoutRef),2])\n",
      "\n",
      "for j in range(len(cutoutRef)):\n",
      "    \n",
      "    i = cutoutRef[j]\n",
      "    \n",
      "    print(\"Cutout %.f\" % (i))\n",
      "    output = optimise_middle(cutout[i],3)\n",
      "    middle_points[j,:] = output.x\n",
      "    print(\" \")"
     ],
     "language": "python",
     "metadata": {},
     "outputs": [
      {
       "output_type": "stream",
       "stream": "stdout",
       "text": [
        "Cutout 3\n",
        "first local minima of -30.3181 at:\n",
        "[a,b] = [0.2030, -0.1662]"
       ]
      },
      {
       "output_type": "stream",
       "stream": "stdout",
       "text": [
        "\n",
        "agreeing local minima of -30.3181 at:\n",
        "[a,b] = [0.2030, -0.1662]"
       ]
      },
      {
       "output_type": "stream",
       "stream": "stdout",
       "text": [
        "\n",
        "agreeing local minima of -30.3181 at:\n",
        "[a,b] = [0.2030, -0.1662]"
       ]
      },
      {
       "output_type": "stream",
       "stream": "stdout",
       "text": [
        "\n",
        " \n",
        "Cutout 6\n",
        "first local minima of -45.6274 at:\n",
        "[a,b] = [0.4048, -0.5731]"
       ]
      },
      {
       "output_type": "stream",
       "stream": "stdout",
       "text": [
        "\n",
        "agreeing local minima of -45.6274 at:\n",
        "[a,b] = [0.4049, -0.5732]"
       ]
      },
      {
       "output_type": "stream",
       "stream": "stdout",
       "text": [
        "\n",
        "agreeing local minima of -45.6274 at:\n",
        "[a,b] = [0.4049, -0.5732]"
       ]
      },
      {
       "output_type": "stream",
       "stream": "stdout",
       "text": [
        "\n",
        " \n",
        "Cutout 14\n",
        "first local minima of -27.4354 at:\n",
        "[a,b] = [0.2154, -0.4741]"
       ]
      },
      {
       "output_type": "stream",
       "stream": "stdout",
       "text": [
        "\n",
        "agreeing local minima of -27.4354 at:\n",
        "[a,b] = [0.2154, -0.4741]"
       ]
      },
      {
       "output_type": "stream",
       "stream": "stdout",
       "text": [
        "\n",
        "agreeing local minima of -27.4354 at:\n",
        "[a,b] = [0.2154, -0.4741]"
       ]
      },
      {
       "output_type": "stream",
       "stream": "stdout",
       "text": [
        "\n",
        " \n",
        "Cutout 16\n",
        "first local minima of -43.7230 at:\n",
        "[a,b] = [0.0550, -0.6293]"
       ]
      },
      {
       "output_type": "stream",
       "stream": "stdout",
       "text": [
        "\n",
        "agreeing local minima of -43.7230 at:\n",
        "[a,b] = [0.0550, -0.6293]"
       ]
      },
      {
       "output_type": "stream",
       "stream": "stdout",
       "text": [
        "\n",
        "agreeing local minima of -43.7230 at:\n",
        "[a,b] = [0.0550, -0.6293]"
       ]
      },
      {
       "output_type": "stream",
       "stream": "stdout",
       "text": [
        "\n",
        " \n",
        "Cutout 18\n",
        "first local minima of -46.3919 at:\n",
        "[a,b] = [-0.0911, -0.4511]"
       ]
      },
      {
       "output_type": "stream",
       "stream": "stdout",
       "text": [
        "\n",
        "agreeing local minima of -46.3919 at:\n",
        "[a,b] = [-0.0911, -0.4511]"
       ]
      },
      {
       "output_type": "stream",
       "stream": "stdout",
       "text": [
        "\n",
        "agreeing local minima of -46.3919 at:\n",
        "[a,b] = [-0.0911, -0.4511]"
       ]
      },
      {
       "output_type": "stream",
       "stream": "stdout",
       "text": [
        "\n",
        " \n",
        "Cutout 19\n",
        "first local minima of -41.8733 at:\n",
        "[a,b] = [0.5059, 0.2835]"
       ]
      },
      {
       "output_type": "stream",
       "stream": "stdout",
       "text": [
        "\n",
        "agreeing local minima of -41.8733 at:\n",
        "[a,b] = [0.5059, 0.2835]"
       ]
      },
      {
       "output_type": "stream",
       "stream": "stdout",
       "text": [
        "\n",
        "agreeing local minima of -41.8733 at:\n",
        "[a,b] = [0.5059, 0.2835]"
       ]
      },
      {
       "output_type": "stream",
       "stream": "stdout",
       "text": [
        "\n",
        " \n",
        "Cutout 20\n",
        "first local minima of -25.8190 at:\n",
        "[a,b] = [-0.1952, -0.3417]"
       ]
      },
      {
       "output_type": "stream",
       "stream": "stdout",
       "text": [
        "\n",
        "agreeing local minima of -25.8190 at:\n",
        "[a,b] = [-0.1952, -0.3417]"
       ]
      },
      {
       "output_type": "stream",
       "stream": "stdout",
       "text": [
        "\n",
        "agreeing local minima of -25.8190 at:\n",
        "[a,b] = [-0.1952, -0.3417]"
       ]
      },
      {
       "output_type": "stream",
       "stream": "stdout",
       "text": [
        "\n",
        " \n",
        "Cutout 22\n",
        "first local minima of -39.7169 at:\n",
        "[a,b] = [-0.8338, -0.3404]"
       ]
      },
      {
       "output_type": "stream",
       "stream": "stdout",
       "text": [
        "\n",
        "agreeing local minima of -39.7169 at:\n",
        "[a,b] = [-0.8338, -0.3404]"
       ]
      },
      {
       "output_type": "stream",
       "stream": "stdout",
       "text": [
        "\n",
        "agreeing local minima of -39.7169 at:\n",
        "[a,b] = [-0.8338, -0.3404]"
       ]
      },
      {
       "output_type": "stream",
       "stream": "stdout",
       "text": [
        "\n",
        " \n",
        "Cutout 32\n",
        "first local minima of -46.6405 at:\n",
        "[a,b] = [0.7673, 0.2137]"
       ]
      },
      {
       "output_type": "stream",
       "stream": "stdout",
       "text": [
        "\n",
        "agreeing local minima of -46.6405 at:\n",
        "[a,b] = [0.7673, 0.2137]"
       ]
      },
      {
       "output_type": "stream",
       "stream": "stdout",
       "text": [
        "\n",
        "agreeing local minima of -46.6405 at:\n",
        "[a,b] = [0.7673, 0.2137]"
       ]
      },
      {
       "output_type": "stream",
       "stream": "stdout",
       "text": [
        "\n",
        " \n",
        "Cutout 33\n",
        "first local minima of -37.2148 at:\n",
        "[a,b] = [-0.4707, 0.3438]"
       ]
      },
      {
       "output_type": "stream",
       "stream": "stdout",
       "text": [
        "\n",
        "agreeing local minima of -37.2148 at:\n",
        "[a,b] = [-0.4707, 0.3438]"
       ]
      },
      {
       "output_type": "stream",
       "stream": "stdout",
       "text": [
        "\n",
        "agreeing local minima of -37.2148 at:\n",
        "[a,b] = [-0.4707, 0.3438]"
       ]
      },
      {
       "output_type": "stream",
       "stream": "stdout",
       "text": [
        "\n",
        " \n",
        "Cutout 34\n",
        "first local minima of -45.2489 at:\n",
        "[a,b] = [0.3041, -0.3796]"
       ]
      },
      {
       "output_type": "stream",
       "stream": "stdout",
       "text": [
        "\n",
        "agreeing local minima of -45.2489 at:\n",
        "[a,b] = [0.3041, -0.3796]"
       ]
      },
      {
       "output_type": "stream",
       "stream": "stdout",
       "text": [
        "\n",
        "agreeing local minima of -45.2489 at:\n",
        "[a,b] = [0.3041, -0.3796]"
       ]
      },
      {
       "output_type": "stream",
       "stream": "stdout",
       "text": [
        "\n",
        " \n",
        "Cutout 38\n",
        "first local minima of -29.9645 at:\n",
        "[a,b] = [-0.0210, -0.1653]"
       ]
      },
      {
       "output_type": "stream",
       "stream": "stdout",
       "text": [
        "\n",
        "agreeing local minima of -29.9645 at:\n",
        "[a,b] = [-0.0210, -0.1653]"
       ]
      },
      {
       "output_type": "stream",
       "stream": "stdout",
       "text": [
        "\n",
        "agreeing local minima of -29.9645 at:\n",
        "[a,b] = [-0.0210, -0.1653]"
       ]
      },
      {
       "output_type": "stream",
       "stream": "stdout",
       "text": [
        "\n",
        " \n",
        "Cutout 41\n",
        "first local minima of -45.3349 at:\n",
        "[a,b] = [0.0229, -0.0468]"
       ]
      },
      {
       "output_type": "stream",
       "stream": "stdout",
       "text": [
        "\n",
        "agreeing local minima of -45.3349 at:\n",
        "[a,b] = [0.0229, -0.0468]"
       ]
      },
      {
       "output_type": "stream",
       "stream": "stdout",
       "text": [
        "\n",
        "agreeing local minima of -45.3349 at:\n",
        "[a,b] = [0.0229, -0.0468]"
       ]
      },
      {
       "output_type": "stream",
       "stream": "stdout",
       "text": [
        "\n",
        " \n",
        "Cutout 43\n",
        "first local minima of -41.8051 at:\n",
        "[a,b] = [-0.1068, 0.1081]"
       ]
      },
      {
       "output_type": "stream",
       "stream": "stdout",
       "text": [
        "\n",
        "agreeing local minima of -41.8051 at:\n",
        "[a,b] = [-0.1068, 0.1082]"
       ]
      },
      {
       "output_type": "stream",
       "stream": "stdout",
       "text": [
        "\n",
        "agreeing local minima of -41.8051 at:\n",
        "[a,b] = [-0.1068, 0.1081]"
       ]
      },
      {
       "output_type": "stream",
       "stream": "stdout",
       "text": [
        "\n",
        " \n",
        "Cutout 57\n",
        "first local minima of -20.7966 at:\n",
        "[a,b] = [-0.2085, -0.1790]"
       ]
      },
      {
       "output_type": "stream",
       "stream": "stdout",
       "text": [
        "\n",
        "agreeing local minima of -20.7966 at:\n",
        "[a,b] = [-0.2085, -0.1790]"
       ]
      },
      {
       "output_type": "stream",
       "stream": "stdout",
       "text": [
        "\n",
        "agreeing local minima of -20.7966 at:\n",
        "[a,b] = [-0.2085, -0.1790]"
       ]
      },
      {
       "output_type": "stream",
       "stream": "stdout",
       "text": [
        "\n",
        " \n",
        "Cutout 58\n",
        "first local minima of -40.1427 at:\n",
        "[a,b] = [-0.0756, 0.1855]"
       ]
      },
      {
       "output_type": "stream",
       "stream": "stdout",
       "text": [
        "\n",
        "agreeing local minima of -40.1427 at:\n",
        "[a,b] = [-0.0756, 0.1855]"
       ]
      },
      {
       "output_type": "stream",
       "stream": "stdout",
       "text": [
        "\n",
        "agreeing local minima of -40.1427 at:\n",
        "[a,b] = [-0.0756, 0.1855]"
       ]
      },
      {
       "output_type": "stream",
       "stream": "stdout",
       "text": [
        "\n",
        " \n",
        "Cutout 70\n",
        "first local minima of -46.0033 at:\n",
        "[a,b] = [-0.0318, -0.0744]"
       ]
      },
      {
       "output_type": "stream",
       "stream": "stdout",
       "text": [
        "\n",
        "agreeing local minima of -46.0033 at:\n",
        "[a,b] = [-0.0318, -0.0744]"
       ]
      },
      {
       "output_type": "stream",
       "stream": "stdout",
       "text": [
        "\n",
        "agreeing local minima of -46.0033 at:\n",
        "[a,b] = [-0.0318, -0.0744]"
       ]
      },
      {
       "output_type": "stream",
       "stream": "stdout",
       "text": [
        "\n",
        " \n",
        "Cutout 73\n",
        "first local minima of -45.9770 at:\n",
        "[a,b] = [-0.2967, -0.3890]"
       ]
      },
      {
       "output_type": "stream",
       "stream": "stdout",
       "text": [
        "\n",
        "agreeing local minima of -45.9770 at:\n",
        "[a,b] = [-0.2967, -0.3890]"
       ]
      },
      {
       "output_type": "stream",
       "stream": "stdout",
       "text": [
        "\n",
        "agreeing local minima of -45.9770 at:\n",
        "[a,b] = [-0.2967, -0.3890]"
       ]
      },
      {
       "output_type": "stream",
       "stream": "stdout",
       "text": [
        "\n",
        " \n",
        "Cutout 82\n",
        "first local minima of -42.6682 at:\n",
        "[a,b] = [-0.4789, -0.4374]"
       ]
      },
      {
       "output_type": "stream",
       "stream": "stdout",
       "text": [
        "\n",
        "agreeing local minima of -42.6682 at:\n",
        "[a,b] = [-0.4789, -0.4374]"
       ]
      },
      {
       "output_type": "stream",
       "stream": "stdout",
       "text": [
        "\n",
        "agreeing local minima of -42.6682 at:\n",
        "[a,b] = [-0.4789, -0.4374]"
       ]
      },
      {
       "output_type": "stream",
       "stream": "stdout",
       "text": [
        "\n",
        " \n",
        "Cutout 83\n",
        "first local minima of -40.7417 at:\n",
        "[a,b] = [-0.9655, -0.3627]"
       ]
      },
      {
       "output_type": "stream",
       "stream": "stdout",
       "text": [
        "\n",
        "agreeing local minima of -40.7417 at:\n",
        "[a,b] = [-0.9655, -0.3627]"
       ]
      },
      {
       "output_type": "stream",
       "stream": "stdout",
       "text": [
        "\n",
        "agreeing local minima of -40.7417 at:\n",
        "[a,b] = [-0.9655, -0.3627]"
       ]
      },
      {
       "output_type": "stream",
       "stream": "stdout",
       "text": [
        "\n",
        " \n",
        "Cutout 104\n",
        "first local minima of -40.4247 at:\n",
        "[a,b] = [-0.7267, 0.5328]"
       ]
      },
      {
       "output_type": "stream",
       "stream": "stdout",
       "text": [
        "\n",
        "agreeing local minima of -40.4247 at:\n",
        "[a,b] = [-0.7267, 0.5328]"
       ]
      },
      {
       "output_type": "stream",
       "stream": "stdout",
       "text": [
        "\n",
        "agreeing local minima of -40.4247 at:\n",
        "[a,b] = [-0.7267, 0.5328]"
       ]
      },
      {
       "output_type": "stream",
       "stream": "stdout",
       "text": [
        "\n",
        " \n",
        "Cutout 106\n",
        "first local minima of -43.1247 at:\n",
        "[a,b] = [-0.9173, -0.3189]"
       ]
      },
      {
       "output_type": "stream",
       "stream": "stdout",
       "text": [
        "\n",
        "agreeing local minima of -43.1247 at:\n",
        "[a,b] = [-0.9173, -0.3189]"
       ]
      },
      {
       "output_type": "stream",
       "stream": "stdout",
       "text": [
        "\n",
        "agreeing local minima of -43.1247 at:\n",
        "[a,b] = [-0.9172, -0.3189]"
       ]
      },
      {
       "output_type": "stream",
       "stream": "stdout",
       "text": [
        "\n",
        " \n",
        "Cutout 109\n",
        "first local minima of -42.6864 at:\n",
        "[a,b] = [0.3963, -0.0756]"
       ]
      },
      {
       "output_type": "stream",
       "stream": "stdout",
       "text": [
        "\n",
        "agreeing local minima of -42.6864 at:\n",
        "[a,b] = [0.3963, -0.0756]"
       ]
      },
      {
       "output_type": "stream",
       "stream": "stdout",
       "text": [
        "\n",
        "agreeing local minima of -42.6864 at:\n",
        "[a,b] = [0.3963, -0.0756]"
       ]
      },
      {
       "output_type": "stream",
       "stream": "stdout",
       "text": [
        "\n",
        " \n",
        "Cutout 112\n",
        "first local minima of -18.6816 at:\n",
        "[a,b] = [0.2003, -0.0606]"
       ]
      },
      {
       "output_type": "stream",
       "stream": "stdout",
       "text": [
        "\n",
        "agreeing local minima of -18.6816 at:\n",
        "[a,b] = [0.2003, -0.0606]"
       ]
      },
      {
       "output_type": "stream",
       "stream": "stdout",
       "text": [
        "\n",
        "agreeing local minima of -18.6816 at:\n",
        "[a,b] = [0.2003, -0.0606]"
       ]
      },
      {
       "output_type": "stream",
       "stream": "stdout",
       "text": [
        "\n",
        " \n"
       ]
      }
     ],
     "prompt_number": 20
    },
    {
     "cell_type": "code",
     "collapsed": false,
     "input": [
      "j = 21\n",
      "i = cutoutRef[j]\n",
      "\n",
      "a,b = middle_points[j,:]\n",
      "\n",
      "scaled_fig_start(10,10)\n",
      "\n",
      "plot(cutout[i].exterior.xy[0],cutout[i].exterior.xy[1],linewidth=2)\n",
      "\n",
      "plot(a,b,'go')\n",
      "\n",
      "scaled_fig_end(10,10)"
     ],
     "language": "python",
     "metadata": {},
     "outputs": [
      {
       "metadata": {},
       "output_type": "display_data",
       "png": "[encoded data removed]",
       "text": [
        "<matplotlib.figure.Figure at 0x958e5f8>"
       ]
      }
     ],
     "prompt_number": 21
    },
    {
     "cell_type": "code",
     "collapsed": false,
     "input": [
      "i"
     ],
     "language": "python",
     "metadata": {},
     "outputs": [
      {
       "metadata": {},
       "output_type": "pyout",
       "prompt_number": 22,
       "text": [
        "106"
       ]
      }
     ],
     "prompt_number": 22
    },
    {
     "cell_type": "code",
     "collapsed": false,
     "input": [
      "testcutout = af.translate(cutout[i], xoff=-a, yoff=-b)\n",
      "testcutout"
     ],
     "language": "python",
     "metadata": {},
     "outputs": [
      {
       "metadata": {},
       "output_type": "pyout",
       "prompt_number": 23,
       "svg": [
        "<svg\n",
        "            preserveAspectRatio=\"xMinYMin meet\"\n",
        "            viewBox=\"-4.48176466729987 -4.95007743925467 9.318950906728016 10.888819940759298\"\n",
        "            width=\"100.0\"\n",
        "            height=\"100.0\"\n",
        "            transform=\"translate(0, 100.0),scale(1, -1)\">\n",
        "            \n",
        "            <g fill-rule=\"evenodd\" fill=\"#66cc99\" stroke=\"#555555\" \n",
        "            stroke-width=\"0.21777639881518596\" opacity=\"0.6\">\n",
        "            <path d=\"M 0.6372578344703874,4.568891100955629 L -0.7127421655296124,3.9588911009556287 L -1.5927421655296123,3.0288911009556285 L -1.9727421655296127,2.1988911009556285 L -2.8827421655296126,1.2488911009556287 L -3.3827421655296126,0.3188911009556287 L -3.4327421655296124,-0.5311088990443713 L -3.482742165529613,-1.6611088990443712 L -3.0827421655296128,-2.6411088990443714 L -2.3527421655296124,-3.2211088990443715 L -1.5227421655296125,-3.8011088990443715 L -0.4127421655296126,-3.901108899044371 L 0.6872578344703875,-3.951108899044371 L 1.7172578344703875,-3.4011088990443716 L 2.4772578344703877,-2.4211088990443717 L 2.7772578344703875,-1.3911088990443712 L 3.007257834470387,-0.3611088990443713 L 2.6972578344703875,0.4688911009556287 L 3.377257834470387,1.3688911009556288 L 3.837257834470387,2.3788911009556286 L 3.6072578344703876,3.5388911009556288 L 3.177257834470387,4.538891100955628 L 2.7272578344703877,4.918891100955628 L 1.5672578344703876,4.938891100955629 L 0.7172578344703875,4.638891100955629 L 0.6372578344703874,4.568891100955629 z\" />\n",
        "            </g>\n",
        "            </svg>"
       ],
       "text": [
        "<shapely.geometry.polygon.Polygon at 0x968ca58>"
       ]
      }
     ],
     "prompt_number": 23
    },
    {
     "cell_type": "heading",
     "level": 2,
     "metadata": {},
     "source": [
      "Straightening test"
     ]
    },
    {
     "cell_type": "code",
     "collapsed": false,
     "input": [
      "ratioAreaInZones = zeros(numZones)\n",
      "\n",
      "for k in range(numZones):\n",
      "    \n",
      "    ratioAreaInZones[k] = testcutout.intersection(zone[k]).area / zone[k].area\n",
      "\n",
      "plot(zoneWidth,ratioAreaInZones)"
     ],
     "language": "python",
     "metadata": {},
     "outputs": [
      {
       "metadata": {},
       "output_type": "pyout",
       "prompt_number": 24,
       "text": [
        "[<matplotlib.lines.Line2D at 0x96a43c8>]"
       ]
      },
      {
       "metadata": {},
       "output_type": "display_data",
       "png": "[encoded data removed]",
       "text": [
        "<matplotlib.figure.Figure at 0x968cb38>"
       ]
      }
     ],
     "prompt_number": 24
    },
    {
     "cell_type": "code",
     "collapsed": false,
     "input": [
      "dotAngle = 90-90*ratioAreaInZones\n",
      "plot(zoneWidth,dotAngle)"
     ],
     "language": "python",
     "metadata": {},
     "outputs": [
      {
       "metadata": {},
       "output_type": "pyout",
       "prompt_number": 25,
       "text": [
        "[<matplotlib.lines.Line2D at 0x96edef0>]"
       ]
      },
      {
       "metadata": {},
       "output_type": "display_data",
       "png": "[encoded data removed]",
       "text": [
        "<matplotlib.figure.Figure at 0x96c0fd0>"
       ]
      }
     ],
     "prompt_number": 25
    },
    {
     "cell_type": "code",
     "collapsed": false,
     "input": [
      "x_store = array([])\n",
      "y_store = array([])\n",
      "\n",
      "for k in range(len(dotAngle)):\n",
      "    \n",
      "    if (dotAngle[k] > 0) & (dotAngle[k] < 90):\n",
      "        \n",
      "        hypot = zoneWidth[k]/2\n",
      "        \n",
      "        y_val = hypot * sin(pi/180*dotAngle[k])\n",
      "        x_val = hypot * cos(pi/180*dotAngle[k])\n",
      "        \n",
      "        x_store = append(x_store,x_val)\n",
      "        y_store = append(y_store,y_val)\n",
      "        \n",
      "        x_mirror = array([x_val,x_val,-x_val,-x_val])\n",
      "        y_mirror = array([y_val,-y_val,y_val,-y_val])\n",
      "        \n",
      "        scatter(x_mirror,y_mirror)\n",
      "        \n",
      "axis('equal')"
     ],
     "language": "python",
     "metadata": {},
     "outputs": [
      {
       "metadata": {},
       "output_type": "pyout",
       "prompt_number": 26,
       "text": [
        "(-4.0, 4.0, -8.0, 8.0)"
       ]
      },
      {
       "metadata": {},
       "output_type": "display_data",
       "png": "[encoded data removed]",
       "text": [
        "<matplotlib.figure.Figure at 0x9675160>"
       ]
      }
     ],
     "prompt_number": 26
    },
    {
     "cell_type": "code",
     "collapsed": false,
     "input": [
      "ordered_x = concatenate((x_store,-x_store[::-1],-x_store,x_store[::-1]))\n",
      "ordered_y = concatenate((y_store,y_store[::-1],-y_store,-y_store[::-1]))"
     ],
     "language": "python",
     "metadata": {},
     "outputs": [],
     "prompt_number": 27
    },
    {
     "cell_type": "code",
     "collapsed": false,
     "input": [
      "straightCutout = shapely_cutout(ordered_x,ordered_y)\n",
      "# straightCutout = af.rotate(straightCutout, -45)\n",
      "straightCutout"
     ],
     "language": "python",
     "metadata": {},
     "outputs": [
      {
       "metadata": {},
       "output_type": "pyout",
       "prompt_number": 28,
       "svg": [
        "<svg\n",
        "            preserveAspectRatio=\"xMinYMin meet\"\n",
        "            viewBox=\"-3.969612150461187 -6.632132106090851 7.939224300922374 13.264264212181702\"\n",
        "            width=\"100.0\"\n",
        "            height=\"100.0\"\n",
        "            transform=\"translate(0, 100.0),scale(1, -1)\">\n",
        "            \n",
        "            <g fill-rule=\"evenodd\" fill=\"#66cc99\" stroke=\"#555555\" \n",
        "            stroke-width=\"0.26528528424363407\" opacity=\"0.6\">\n",
        "            <path d=\"M 2.743243015344009,0.0011181976644839696 L 2.749235730240616,0.008621720588697257 L 2.7552019599286575,0.01713714144735359 L 2.7611421023513523,0.02565235983073655 L 2.7670563283517478,0.03416729748449433 L 2.772944807525534,0.04268187752468603 L 2.778807708229456,0.051196024413138815 L 2.7846464808627767,0.05964978663235772 L 2.790496072250242,0.06662389657305724 L 2.796345653240787,0.07295996894271835 L 2.8021815803334458,0.07929565657186435 L 2.8080039421007013,0.08563093202151482 L 2.8138136368109117,0.09194096989875454 L 2.8196130235063417,0.0981651456256855 L 2.825399845245965,0.10438165708573537 L 2.831173949584608,0.11059767163583317 L 2.836935418412593,0.11681316567973922 L 2.8426843329745966,0.12302811605155874 L 2.8484207738755805,0.1292425000037383 L 2.8541448210862925,0.13545629520445185 L 2.8598565539490615,0.14166947972710653 L 2.8655560511832334,0.1478820320469237 L 2.8712505514756392,0.15396044935605097 L 2.8769783473823884,0.1592301908061967 L 2.8827054205129876,0.16436357074729419 L 2.888424531399298,0.16949647590224018 L 2.894135730383643,0.17462889610352886 L 2.8998390674066954,0.1797608213733335 L 2.9055345920106888,0.18489224192990475 L 2.9112223533436183,0.19002314817663166 L 2.916902400162793,0.19515353070151045 L 2.9225747808385356,0.2002833802736019 L 2.9282395433576283,0.2054126878426284 L 2.9338967353270053,0.21054144453442764 L 2.939453725666168,0.21692913619834553 L 2.940868232503142,0.27236251718981797 L 2.9402297994797095,0.33682193876822236 L 2.943255903892957,0.36225696828020043 L 2.9466965521740605,0.38291269915521847 L 2.950003181870377,0.40355093339043807 L 2.9531767235057034,0.4241708806163632 L 2.956218105108335,0.44477176483878983 L 2.9593247644323277,0.46410149983742965 L 2.962935972444488,0.4796057617566796 L 2.9665789197268095,0.49448045537365465 L 2.9701584288054286,0.5093354532374822 L 2.9687719911114985,0.5512630892334985 L 2.9581794515221866,0.6348062997469383 L 2.953033893334107,0.6854007962425472 L 2.951085951234361,0.7195317924711834 L 2.951479558179281,0.7429170337900645 L 2.9517107049546607,0.7662612931721925 L 2.9517806569144716,0.7895636177990925 L 2.9518340748156287,0.8123021543666056 L 2.9531761531347747,0.8298923967289362 L 2.954806639207967,0.8461514267921233 L 2.956365047623186,0.8623897565228238 L 2.95785190214173,0.8786071539488454 L 2.959267723374006,0.8948033921463734 L 2.960613028781336,0.9109782491654858 L 2.9618883326802927,0.9271315079499944 L 2.96309150715191,0.9432712464718992 L 2.963739330156782,0.9608901327153381 L 2.9639376376549906,0.9795893163299393 L 2.964464406995098,0.9969981728964322 L 2.9656126413462642,1.0123247558600765 L 2.96671072837646,1.0276013433878628 L 2.9673313151046194,1.044045685958665 L 2.964414783371742,1.0701182764001627 L 2.963305817287515,1.0906972614772705 L 2.962127378754361,1.111111681524236 L 2.9608361058668136,1.1314837024983073 L 2.9594329014854583,1.151812874855773 L 2.957929687271545,1.1720709401339304 L 2.956392216042542,1.1920980912486796 L 2.9548404100232215,1.2118570709587289 L 2.95401860487643,1.2295740117220522 L 2.9538047105366334,1.2456270724441207 L 2.95395005517529,1.2606629964729175 L 2.9541919469231632,1.275326331433978 L 2.9543828788934845,1.2899676165703537 L 2.954523227082158,1.3045867651222374 L 2.9546133648743216,1.319183692903805 L 2.9546536630545672,1.3337583182679722 L 2.9546444898215167,1.3483105620619893 L 2.9545862107996235,1.3628403475900492 L 2.9544791890539686,1.377347600570028 L 2.954323785101836,1.3918322490980073 L 2.9541203569286023,1.406294223604231 L 2.954029556452138,1.420400133800688 L 2.9544032704467234,1.4334354726373453 L 2.954777899503146,1.4463763084387564 L 2.9551167000726046,1.4592995636733541 L 2.9554199289127228,1.4722052106167614 L 2.955687840895453,1.4850932228574305 L 2.955920689021829,1.4979635752700962 L 2.9561187244341696,1.5108162439946824 L 2.9563330525855323,1.5235525281132725 L 2.956797425974097,1.5357253456789783 L 2.9572757991824234,1.5477988497449955 L 2.957725062093736,1.5598570796951166 L 2.958145419206588,1.5719000271538077 L 2.9585370734907612,1.583927684606453 L 2.9589002264033466,1.5959400453749917 L 2.959235077893832,1.6079371036142998 L 2.959541826422953,1.6199188542830754 L 2.9598206689657522,1.631885293144085 L 2.960071801028107,1.6438364167396542 L 2.96029548552694,1.6557720992488008 L 2.9607109337021913,1.667303479152866 L 2.9351271100439744,1.7238302221788384 L 2.917290631883367,1.7654747131656563 L 2.912103982270229,1.7855340772591106 L 2.9068199584813166,1.8055324335786656 L 2.9010957766953704,1.8260156553295326 L 2.8945252898874307,1.8475999590888363 L 2.8880232848868843,1.8688253787727647 L 2.884008576742616,1.8860111324317066 L 2.880703439364262,1.9019779107602177 L 2.8773428717145846,1.9179080367937449 L 2.8739273226773823,1.9338014602356028 L 2.868167982806629,1.9530243252187995 L 2.859915372813752,1.9756753391956168 L 2.8530276947994113,1.9961040793392344 L 2.8458107685262175,2.0167848854274744 L 2.8384766909065284,2.037411128183614 L 2.831039787533041,2.0579634888415477 L 2.823501031004761,2.0784417341039996 L 2.816415810660846,2.09810160716212 L 2.810204509749128,2.1164123862057425 L 2.8039337939848696,2.1346429680038033 L 2.7975967645969733,2.152803835845329 L 2.79226905508612,2.1695124733805775 L 2.7876264259065815,2.185223269412226 L 2.782934429287373,2.2008909363129576 L 2.7784655469829125,2.2161745020117434 L 2.7741409045654564,2.2311812729699017 L 2.769770873008978,2.2461514861155276 L 2.765355828808627,2.2610851439411603 L 2.760896145667325,2.2759822507353213 L 2.7563921945133947,2.290842812549669 L 2.7518443435181195,2.305666837166723 L 2.7472529581107135,2.320454334071136 L 2.742618400998461,2.335205314415208 L 2.737941032181621,2.349919790991111 L 2.73332010839039,2.3644834562558463 L 2.729256727867411,2.378324493732717 L 2.725258266379443,2.3920196621484906 L 2.7214499465419175,2.4054301099249806 L 2.718246933088869,2.4180948539972937 L 2.7150551483090526,2.4306916885817835 L 2.711718431265593,2.4433950290887543 L 2.708103299252976,2.4563498038295988 L 2.7044507060335987,2.469286957930692 L 2.7007690154693913,2.4821975012159503 L 2.697058671237174,2.4950812383713767 L 2.6933693540397847,2.5078851012975725 L 2.6896901224409415,2.520622074900062 L 2.6859833051069453,2.533333153924244 L 2.68224911914408,2.546018376997151 L 2.678487779993137,2.5586777833231635 L 2.674699501440338,2.5713114126730936 L 2.6708844956274462,2.5839193053741623 L 2.6670429730681287,2.5965015022935876 L 2.6631751426572694,2.609058044829633 L 2.659413625898279,2.62145465009668 L 2.655815130681671,2.633636847850263 L 2.6521942808937644,2.6457941027049894 L 2.6485498975547883,2.657927840385179 L 2.644882163350039,2.670038104177395 L 2.641376603583086,2.6819424097584315 L 2.638155459625978,2.693524397834462 L 2.6352570169096725,2.704751923854636 L 2.6325325746356625,2.71577456839639 L 2.6297910907536113,2.726779597652722 L 2.62703269088753,2.7377670523115105 L 2.62425749969154,2.748736973188824 L 2.6214656408609436,2.7596894012212094 L 2.6186572371364885,2.770624377464535 L 2.6089683005734834,2.787981202699893 L 2.5859762632902266,2.817478181515913 L 2.5643165495503557,2.8452963067404093 L 2.55395311620004,2.8626561032975313 L 2.545452796413373,2.878239867868586 L 2.536904472216679,2.893769290921872 L 2.5283086032904913,2.9092444200269005 L 2.519665645874219,2.9246653047558837 L 2.5084047365869897,2.942226122587626 L 2.482840825550558,2.971661021262731 L 2.460580891018125,2.9978926806390773 L 2.4461393684015365,3.017423443271657 L 2.4336591389228293,3.0352002545432297 L 2.4221872731288943,3.0520343529756073 L 2.4106550820538266,3.0687923660039464 L 2.3990632223155695,3.0854743463931746 L 2.3874123456458176,3.102080350286445 L 2.374280115383502,3.119693928343601 L 2.2769856460477174,3.1987748982747215 L 2.228691285269252,3.2399012316136035 L 2.18320912057048,3.2779407055691654 L 2.138496437460737,3.314434335188492 L 2.0995750663256123,3.3463178722781204 L 2.068008428524715,3.3729643981795476 L 2.039564099388194,3.3972469811467794 L 2.014493857047663,3.4191455782323312 L 1.989361394762235,3.440768604436922 L 1.9642764018807475,3.4620576356410564 L 1.9397666648994907,3.4827259140914433 L 1.8696543095324234,3.5276605655102014 L 1.7525241705978323,3.593974022438828 L 1.685943369701209,3.632306606105465 L 1.6210844719738045,3.6682802087137083 L 1.5631728558097195,3.6998507470315145 L 1.527435201370204,3.7212402703690235 L 1.498794323528655,3.739339203780063 L 1.467837752005911,3.7580475308513632 L 1.4374941549328168,3.7761856964780782 L 1.4072841623701418,3.7939544330039 L 1.3769719205631348,3.811447300066063 L 1.3465602259237421,3.82866466685307 L 1.316646177597098,3.84540348241025 L 1.2956039598047377,3.8588800382149095 L 1.2775303859879712,3.8712262524386536 L 1.2594228491398238,3.883469406429153 L 1.24219067661974,3.8953201369920576 L 1.2269877619326417,3.90643135433746 L 1.213951968826172,3.9167902551743903 L 1.2088252133385402,3.924660421618927 L 1.2044512086474068,3.9322868394114057 L 1.200075312822732,3.9399033705391004 L 1.1963769975690128,3.9473041906784405 L 1.1932714637472635,3.954518001035077 L 1.190225934199838,3.9617073199723607 L 1.1871865583988521,3.9688885270561967 L 1.1841454839557246,3.9760640189465666 L 1.1811027250616297,3.9832338184313985 L 1.1780582957895973,3.990397948186435 L 1.1750122100947173,3.9975564307761102 L 1.1719644818158537,4.004709288653972 L 1.168915124674311,4.01185654416399 L 1.1658641522787159,4.0189982195400376 L 1.1628115781231496,4.026134336907347 L 1.159757415589307,4.033264918282777 L 1.1567016779475376,4.040389985575397 L 1.153644378356878,4.047509560587362 L 1.1505855298685796,4.05462366501378 L 1.1475251454235618,4.061732320444304 L 1.144463237856114,4.068835548362937 L 1.1413998198940525,4.075933370148846 L 1.1383349041599422,4.0830258070768615 L 1.1352685031706664,4.090112880318435 L 1.1322006293401505,4.097194610941716 L 1.1291312949806942,4.104271019912003 L 1.1260605123003078,4.111342128093305 L 1.1229882934088613,4.118407956247449 L 1.1199146503146467,4.125468525035835 L 1.1168395949271799,4.132523855019472 L 1.114097921493365,4.139483878057015 L 1.1117278314356056,4.146339492934127 L 1.1093570169379146,4.153191317712754 L 1.1069852211959095,4.160039438217429 L 1.1046124517927784,4.166883869025834 L 1.1022387162517686,4.173724624642613 L 1.099864022035412,4.180561719500139 L 1.0974883765458405,4.187395167958996 L 1.0951117871279354,4.19422498430771 L 1.092734261066351,4.201051182764093 L 1.0903558055880687,4.207873777475123 L 1.087976427863338,4.214692782517244 L 1.085596135003669,4.221508211897432 L 1.083214934065805,4.228320079552705 L 1.0808328320495693,4.235128399351216 L 1.0784498358989612,4.241933185092497 L 1.076065952503044,4.2487344505077616 L 1.073681188697786,4.255532209259949 L 1.0712955512624922,4.262326474945156 L 1.0689090469249907,4.269117261091837 L 1.0665216823587822,4.275904581162025 L 1.064133464185033,4.282688448551341 L 1.0617443989731832,4.289468876589341 L 1.059354493240105,4.296245878540223 L 1.0569637534513783,4.303019467603002 L 1.0545721860226227,4.309789656911668 L 1.052179797318067,4.316556459536028 L 1.0497865936525324,4.323319888481695 L 1.0473925812909746,4.3300799566906765 L 1.0449977664499879,4.33683667704149 L 1.0426021552954046,4.343590062350203 L 1.0402057539478948,4.350340125369551 L 1.0378085684779315,4.357086878790618 L 1.0354106049096912,4.363830335242344 L 1.0330118692191608,4.370570507292449 L 1.0306123673374536,4.377307407447082 L 1.0282180301070651,4.384039658536041 L 1.026101673087906,4.390703542692288 L 1.0241372441506076,4.397329131524571 L 1.022105022043898,4.403967801474779 L 1.0180279163555477,4.4110761572380435 L 1.0129883618240836,4.418398245674287 L 1.0079467045534043,4.4257111110758665 L 1.0029029661432904,4.433014787025812 L 0.9978571680113733,4.440309306965135 L 0.9928093313983095,4.447594704192589 L 0.9877594773685481,4.454871011865447 L 0.9827076268103715,4.462138263000422 L 0.9776538004394817,4.469396490473791 L 0.9728956610361432,4.476581050777038 L 0.9686780344458237,4.483640352448362 L 0.9644703797093452,4.490690486827475 L 0.9602613035773805,4.497733957470809 L 0.9560508196916911,4.504770788756288 L 0.9518389415819185,4.511801004953627 L 0.9476256826685632,4.518824630224415 L 0.9437165530895226,4.525777997094039 L 0.9405079231145548,4.532579987238014 L 0.9373261656251259,4.539371914725506 L 0.9341435361691706,4.546159582089728 L 0.9309600422356187,4.55294300502417 L 0.9277756912550482,4.559722199149346 L 0.9245904905984466,4.56649718001354 L 0.9214044475787478,4.573267963092982 L 0.9182175694522535,4.580034563792051 L 0.9150298634174898,4.586796997443994 L 0.9118413366167185,4.593555279311092 L 0.9086519961352928,4.6003094245852765 L 0.9054618490037142,4.607059448388182 L 0.9022155242240336,4.613816195084581 L 0.8979007262530433,4.620776339250552 L 0.8931748760598726,4.627809139753179 L 0.8884476009482559,4.63483450615201 L 0.8837189157308823,4.6418524650277515 L 0.8789888350988292,4.648863042847077 L 0.874257373624766,4.655866265962739 L 0.8695245457624199,4.662862160614374 L 0.8647903658474659,4.669850752929045 L 0.860054848100132,4.67683206892146 L 0.8553180066233868,4.683806134494997 L 0.8505798554077225,4.69077297544152 L 0.8458404083268465,4.697732617442848 L 0.8410996791456291,4.70468508606999 L 0.8363576815145257,4.7116304067848445 L 0.8316144289743007,4.71856860494001 L 0.8269415699356748,4.725487170500865 L 0.8226516164505978,4.732332082755356 L 0.8184175907026908,4.739161178925822 L 0.8143917125816801,4.745948558969904 L 0.8105723515017433,4.75269520865882 L 0.8067521609258953,4.7594369494723425 L 0.8029311489127947,4.766173798889072 L 0.7991093234577263,4.7729057743098435 L 0.7952866924915963,4.779632893058376 L 0.7914632638838923,4.78635517238126 L 0.7876390454402812,4.793072629448836 L 0.7838140449066724,4.799785281354995 L 0.7799882699661103,4.806493145118167 L 0.7761617282409704,4.81319623768142 L 0.7723344272948204,4.819894575912628 L 0.7685063746302438,4.826588176605291 L 0.7646775776915247,4.833277056478548 L 0.7608480438633674,4.839961232177846 L 0.757017780472763,4.846640720275092 L 0.7531867947884621,4.8533155372691885 L 0.7493550940228457,4.859985699586183 L 0.7455226853305992,4.866651223579915 L 0.7416895758108766,4.873312125532125 L 0.737855772506446,4.879968421653021 L 0.7340212824049567,4.886620128081519 L 0.730186112438626,4.893267260885719 L 0.7263502694855207,4.899909836063135 L 0.7225137603698084,4.906547869541089 L 0.7186765918621089,4.913181377177076 L 0.7148387706793577,4.919810374759208 L 0.7110003034862203,4.926434878006412 L 0.7071611968952551,4.933054902568828 L 0.7033214574667798,4.939670464028232 L 0.6994810917097373,4.946281577898325 L 0.6956401060818145,4.95288825962511 L 0.6917985069909564,4.959490524587091 L 0.6879563007939593,4.966088388095858 L 0.6841134937982496,4.97268186539624 L 0.6802700922620142,4.979270971666679 L 0.6764261023943937,4.985855722019597 L 0.6725815303559605,4.992436131501713 L 0.6687363822590905,4.999012215094377 L 0.6648906641682679,5.005583987713915 L 0.6610441717611544,5.012151491953256 L 0.6562382048034227,5.018840190724735 L 0.6505277227009381,5.025639733791133 L 0.6448353075553316,5.032428462739848 L 0.6397617060662363,5.039130248835912 L 0.6349856992676356,5.045787739297153 L 0.6302089384924064,5.052439176220775 L 0.6254314330068488,5.059084580202213 L 0.6206531920033227,5.065723971750907 L 0.615874224601752,5.072357371290598 L 0.6110945398482033,5.07898479915997 L 0.6063141467173567,5.085606275612819 L 0.6015330541129388,5.092221820818462 L 0.596755299128433,5.09883098340557 L 0.5921522656272176,5.105413922461884 L 0.5876422826231521,5.111980600337353 L 0.5831316995372143,5.1185419956233655 L 0.5786205238125077,5.125098126184279 L 0.5741087628323426,5.131649009809573 L 0.5695964239231066,5.138194664213932 L 0.5650835143519926,5.144735107037919 L 0.5605700413290791,5.151270355848139 L 0.5556753313513413,5.157841454631385 L 0.5488535678931393,5.164611693527851 L 0.541762635093341,5.171399251099635 L 0.5346705060891612,5.178175291001193 L 0.5275772021290185,5.184939851318116 L 0.5204827442880309,5.191692969993872 L 0.5133871534679753,5.198434684830435 L 0.5062904503995249,5.205165033488683 L 0.4991926556432087,5.21188405348892 L 0.49209378959183203,5.218591782211259 L 0.4849938724698976,5.225288256896285 L 0.47789292433639907,5.231973514645393 L 0.4707909650857105,5.238647592421322 L 0.4636880144494071,5.245310527048583 L 0.4565840919961044,5.251962355214075 L 0.4494792171346516,5.258603113467393 L 0.4423734091137442,5.265232838221456 L 0.4352666870244381,5.271851565752879 L 0.4281590698008299,5.278459332202505 L 0.42105057622087516,5.285056173575915 L 0.41399449650547393,5.291637958278014 L 0.4073521929731721,5.298177180763065 L 0.40079695553604816,5.304700247495688 L 0.39424102750565787,5.311214055116271 L 0.387684423395105,5.317718634037719 L 0.38113767286588185,5.324213261823356 L 0.37519379958056503,5.330656304822517 L 0.36959967292298024,5.337067499827381 L 0.36400508526941683,5.343471928119719 L 0.35841004575534013,5.34986961194293 L 0.35281456344174195,5.35626057345157 L 0.3472186473164133,5.362644834711689 L 0.3416223062933579,5.369022417701304 L 0.3360255492147943,5.375393344310692 L 0.33042838485041726,5.381757636342858 L 0.3248308218989235,5.388115315513859 L 0.3192328689878046,5.394466403453234 L 0.3136345346746099,5.40081092170434 L 0.30803582744703367,5.4071488917247645 L 0.3024367557237862,5.413480334886677 L 0.296837327854647,5.419805272477239 L 0.29123755212174934,5.426123725698932 L 0.28563743673917835,5.432435715669982 L 0.2800369898546362,5.438741263424676 L 0.2744362195488711,5.445040389913781 L 0.268835133836857,5.451333116004884 L 0.26323374066819116,5.457619462482762 L 0.25763204792751215,5.463899450049749 L 0.25203006343495227,5.470173099326109 L 0.24642779494702596,5.476440430850375 L 0.24082525015658057,5.482701465079734 L 0.23522243669372886,5.488956222390369 L 0.2296193621260603,5.495204723077824 L 0.22401603395934108,5.501446987357356 L 0.21841245963792935,5.507683035364292 L 0.2128086465451231,5.513912887154378 L 0.20720460200395657,5.5201365627041294 L 0.20160033327724272,5.526354081911187 L 0.19599584756856409,5.532565464594654 L 0.19039115202206802,5.538770730495463 L 0.18213484313398798,5.545057622997827 L 0.15838884631451075,5.551795151905142 L 0.14172893306983028,5.558253393018887 L 0.12933377522041128,5.564563255674196 L 0.11693797562866352,5.570844880825657 L 0.10454159970601247,5.577098358381904 L 0.09231954559585905,5.583320889902546 L 0.08047699024372926,5.589510771915977 L 0.06864725028827562,5.59567503271677 L 0.056817213361577905,5.601813971084957 L 0.04498693405635807,5.607927667863781 L 0.033156466503214195,5.614016203665993 L 0.021325864374050495,5.620079658873857 L 0.0094951808855324,5.6261181136391825 L 0.0005416049027776772,5.632132106090851 L -0.0005416049027776772,5.632132106090851 L -0.0094951808855324,5.6261181136391825 L -0.021325864374050495,5.620079658873857 L -0.033156466503214195,5.614016203665993 L -0.04498693405635807,5.607927667863781 L -0.056817213361577905,5.601813971084957 L -0.06864725028827562,5.59567503271677 L -0.08047699024372926,5.589510771915977 L -0.09231954559585905,5.583320889902546 L -0.10454159970601247,5.577098358381904 L -0.11693797562866352,5.570844880825657 L -0.12933377522041128,5.564563255674196 L -0.14172893306983028,5.558253393018887 L -0.15838884631451075,5.551795151905142 L -0.18213484313398798,5.545057622997827 L -0.19039115202206802,5.538770730495463 L -0.19599584756856409,5.532565464594654 L -0.20160033327724272,5.526354081911187 L -0.20720460200395657,5.5201365627041294 L -0.2128086465451231,5.513912887154378 L -0.21841245963792935,5.507683035364292 L -0.22401603395934108,5.501446987357356 L -0.2296193621260603,5.495204723077824 L -0.23522243669372886,5.488956222390369 L -0.24082525015658057,5.482701465079734 L -0.24642779494702596,5.476440430850375 L -0.25203006343495227,5.470173099326109 L -0.25763204792751215,5.463899450049749 L -0.26323374066819116,5.457619462482762 L -0.268835133836857,5.451333116004884 L -0.2744362195488711,5.445040389913781 L -0.2800369898546362,5.438741263424676 L -0.28563743673917835,5.432435715669982 L -0.29123755212174934,5.426123725698932 L -0.296837327854647,5.419805272477239 L -0.3024367557237862,5.413480334886677 L -0.30803582744703367,5.4071488917247645 L -0.3136345346746099,5.40081092170434 L -0.3192328689878046,5.394466403453234 L -0.3248308218989235,5.388115315513859 L -0.33042838485041726,5.381757636342858 L -0.3360255492147943,5.375393344310692 L -0.3416223062933579,5.369022417701304 L -0.3472186473164133,5.362644834711689 L -0.35281456344174195,5.35626057345157 L -0.35841004575534013,5.34986961194293 L -0.36400508526941683,5.343471928119719 L -0.36959967292298024,5.337067499827381 L -0.37519379958056503,5.330656304822517 L -0.38113767286588185,5.324213261823356 L -0.387684423395105,5.317718634037719 L -0.39424102750565787,5.311214055116271 L -0.40079695553604816,5.304700247495688 L -0.4073521929731721,5.298177180763065 L -0.41399449650547393,5.291637958278014 L -0.42105057622087516,5.285056173575915 L -0.4281590698008299,5.278459332202505 L -0.4352666870244381,5.271851565752879 L -0.4423734091137442,5.265232838221456 L -0.4494792171346516,5.258603113467393 L -0.4565840919961044,5.251962355214075 L -0.4636880144494071,5.245310527048583 L -0.4707909650857105,5.238647592421322 L -0.47789292433639907,5.231973514645393 L -0.4849938724698976,5.225288256896285 L -0.49209378959183203,5.218591782211259 L -0.4991926556432087,5.21188405348892 L -0.5062904503995249,5.205165033488683 L -0.5133871534679753,5.198434684830435 L -0.5204827442880309,5.191692969993872 L -0.5275772021290185,5.184939851318116 L -0.5346705060891612,5.178175291001193 L -0.541762635093341,5.171399251099635 L -0.5488535678931393,5.164611693527851 L -0.5556753313513413,5.157841454631385 L -0.5605700413290791,5.151270355848139 L -0.5650835143519926,5.144735107037919 L -0.5695964239231066,5.138194664213932 L -0.5741087628323426,5.131649009809573 L -0.5786205238125077,5.125098126184279 L -0.5831316995372143,5.1185419956233655 L -0.5876422826231521,5.111980600337353 L -0.5921522656272176,5.105413922461884 L -0.596755299128433,5.09883098340557 L -0.6015330541129388,5.092221820818462 L -0.6063141467173567,5.085606275612819 L -0.6110945398482033,5.07898479915997 L -0.615874224601752,5.072357371290598 L -0.6206531920033227,5.065723971750907 L -0.6254314330068488,5.059084580202213 L -0.6302089384924064,5.052439176220775 L -0.6349856992676356,5.045787739297153 L -0.6397617060662363,5.039130248835912 L -0.6448353075553316,5.032428462739848 L -0.6505277227009381,5.025639733791133 L -0.6562382048034227,5.018840190724735 L -0.6610441717611544,5.012151491953256 L -0.6648906641682679,5.005583987713915 L -0.6687363822590905,4.999012215094377 L -0.6725815303559605,4.992436131501713 L -0.6764261023943937,4.985855722019597 L -0.6802700922620142,4.979270971666679 L -0.6841134937982496,4.97268186539624 L -0.6879563007939593,4.966088388095858 L -0.6917985069909564,4.959490524587091 L -0.6956401060818145,4.95288825962511 L -0.6994810917097373,4.946281577898325 L -0.7033214574667798,4.939670464028232 L -0.7071611968952551,4.933054902568828 L -0.7110003034862203,4.926434878006412 L -0.7148387706793577,4.919810374759208 L -0.7186765918621089,4.913181377177076 L -0.7225137603698084,4.906547869541089 L -0.7263502694855207,4.899909836063135 L -0.730186112438626,4.893267260885719 L -0.7340212824049567,4.886620128081519 L -0.737855772506446,4.879968421653021 L -0.7416895758108766,4.873312125532125 L -0.7455226853305992,4.866651223579915 L -0.7493550940228457,4.859985699586183 L -0.7531867947884621,4.8533155372691885 L -0.757017780472763,4.846640720275092 L -0.7608480438633674,4.839961232177846 L -0.7646775776915247,4.833277056478548 L -0.7685063746302438,4.826588176605291 L -0.7723344272948204,4.819894575912628 L -0.7761617282409704,4.81319623768142 L -0.7799882699661103,4.806493145118167 L -0.7838140449066724,4.799785281354995 L -0.7876390454402812,4.793072629448836 L -0.7914632638838923,4.78635517238126 L -0.7952866924915963,4.779632893058376 L -0.7991093234577263,4.7729057743098435 L -0.8029311489127947,4.766173798889072 L -0.8067521609258953,4.7594369494723425 L -0.8105723515017433,4.75269520865882 L -0.8143917125816801,4.745948558969904 L -0.8184175907026908,4.739161178925822 L -0.8226516164505978,4.732332082755356 L -0.8269415699356748,4.725487170500865 L -0.8316144289743007,4.71856860494001 L -0.8363576815145257,4.7116304067848445 L -0.8410996791456291,4.70468508606999 L -0.8458404083268465,4.697732617442848 L -0.8505798554077225,4.69077297544152 L -0.8553180066233868,4.683806134494997 L -0.860054848100132,4.67683206892146 L -0.8647903658474659,4.669850752929045 L -0.8695245457624199,4.662862160614374 L -0.874257373624766,4.655866265962739 L -0.8789888350988292,4.648863042847077 L -0.8837189157308823,4.6418524650277515 L -0.8884476009482559,4.63483450615201 L -0.8931748760598726,4.627809139753179 L -0.8979007262530433,4.620776339250552 L -0.9022155242240336,4.613816195084581 L -0.9054618490037142,4.607059448388182 L -0.9086519961352928,4.6003094245852765 L -0.9118413366167185,4.593555279311092 L -0.9150298634174898,4.586796997443994 L -0.9182175694522535,4.580034563792051 L -0.9214044475787478,4.573267963092982 L -0.9245904905984466,4.56649718001354 L -0.9277756912550482,4.559722199149346 L -0.9309600422356187,4.55294300502417 L -0.9341435361691706,4.546159582089728 L -0.9373261656251259,4.539371914725506 L -0.9405079231145548,4.532579987238014 L -0.9437165530895226,4.525777997094039 L -0.9476256826685632,4.518824630224415 L -0.9518389415819185,4.511801004953627 L -0.9560508196916911,4.504770788756288 L -0.9602613035773805,4.497733957470809 L -0.9644703797093452,4.490690486827475 L -0.9686780344458237,4.483640352448362 L -0.9728956610361432,4.476581050777038 L -0.9776538004394817,4.469396490473791 L -0.9827076268103715,4.462138263000422 L -0.9877594773685481,4.454871011865447 L -0.9928093313983095,4.447594704192589 L -0.9978571680113733,4.440309306965135 L -1.0029029661432904,4.433014787025812 L -1.0079467045534043,4.4257111110758665 L -1.0129883618240836,4.418398245674287 L -1.0180279163555477,4.4110761572380435 L -1.022105022043898,4.403967801474779 L -1.0241372441506076,4.397329131524571 L -1.026101673087906,4.390703542692288 L -1.0282180301070651,4.384039658536041 L -1.0306123673374536,4.377307407447082 L -1.0330118692191608,4.370570507292449 L -1.0354106049096912,4.363830335242344 L -1.0378085684779315,4.357086878790618 L -1.0402057539478948,4.350340125369551 L -1.0426021552954046,4.343590062350203 L -1.0449977664499879,4.33683667704149 L -1.0473925812909746,4.3300799566906765 L -1.0497865936525324,4.323319888481695 L -1.052179797318067,4.316556459536028 L -1.0545721860226227,4.309789656911668 L -1.0569637534513783,4.303019467603002 L -1.059354493240105,4.296245878540223 L -1.0617443989731832,4.289468876589341 L -1.064133464185033,4.282688448551341 L -1.0665216823587822,4.275904581162025 L -1.0689090469249907,4.269117261091837 L -1.0712955512624922,4.262326474945156 L -1.073681188697786,4.255532209259949 L -1.076065952503044,4.2487344505077616 L -1.0784498358989612,4.241933185092497 L -1.0808328320495693,4.235128399351216 L -1.083214934065805,4.228320079552705 L -1.085596135003669,4.221508211897432 L -1.087976427863338,4.214692782517244 L -1.0903558055880687,4.207873777475123 L -1.092734261066351,4.201051182764093 L -1.0951117871279354,4.19422498430771 L -1.0974883765458405,4.187395167958996 L -1.099864022035412,4.180561719500139 L -1.1022387162517686,4.173724624642613 L -1.1046124517927784,4.166883869025834 L -1.1069852211959095,4.160039438217429 L -1.1093570169379146,4.153191317712754 L -1.1117278314356056,4.146339492934127 L -1.114097921493365,4.139483878057015 L -1.1168395949271799,4.132523855019472 L -1.1199146503146467,4.125468525035835 L -1.1229882934088613,4.118407956247449 L -1.1260605123003078,4.111342128093305 L -1.1291312949806942,4.104271019912003 L -1.1322006293401505,4.097194610941716 L -1.1352685031706664,4.090112880318435 L -1.1383349041599422,4.0830258070768615 L -1.1413998198940525,4.075933370148846 L -1.144463237856114,4.068835548362937 L -1.1475251454235618,4.061732320444304 L -1.1505855298685796,4.05462366501378 L -1.153644378356878,4.047509560587362 L -1.1567016779475376,4.040389985575397 L -1.159757415589307,4.033264918282777 L -1.1628115781231496,4.026134336907347 L -1.1658641522787159,4.0189982195400376 L -1.168915124674311,4.01185654416399 L -1.1719644818158537,4.004709288653972 L -1.1750122100947173,3.9975564307761102 L -1.1780582957895973,3.990397948186435 L -1.1811027250616297,3.9832338184313985 L -1.1841454839557246,3.9760640189465666 L -1.1871865583988521,3.9688885270561967 L -1.190225934199838,3.9617073199723607 L -1.1932714637472635,3.954518001035077 L -1.1963769975690128,3.9473041906784405 L -1.200075312822732,3.9399033705391004 L -1.2044512086474068,3.9322868394114057 L -1.2088252133385402,3.924660421618927 L -1.213951968826172,3.9167902551743903 L -1.2269877619326417,3.90643135433746 L -1.24219067661974,3.8953201369920576 L -1.2594228491398238,3.883469406429153 L -1.2775303859879712,3.8712262524386536 L -1.2956039598047377,3.8588800382149095 L -1.316646177597098,3.84540348241025 L -1.3465602259237421,3.82866466685307 L -1.3769719205631348,3.811447300066063 L -1.4072841623701418,3.7939544330039 L -1.4374941549328168,3.7761856964780782 L -1.467837752005911,3.7580475308513632 L -1.498794323528655,3.739339203780063 L -1.527435201370204,3.7212402703690235 L -1.5631728558097195,3.6998507470315145 L -1.6210844719738045,3.6682802087137083 L -1.685943369701209,3.632306606105465 L -1.7525241705978323,3.593974022438828 L -1.8696543095324234,3.5276605655102014 L -1.9397666648994907,3.4827259140914433 L -1.9642764018807475,3.4620576356410564 L -1.989361394762235,3.440768604436922 L -2.014493857047663,3.4191455782323312 L -2.039564099388194,3.3972469811467794 L -2.068008428524715,3.3729643981795476 L -2.0995750663256123,3.3463178722781204 L -2.138496437460737,3.314434335188492 L -2.18320912057048,3.2779407055691654 L -2.228691285269252,3.2399012316136035 L -2.2769856460477174,3.1987748982747215 L -2.374280115383502,3.119693928343601 L -2.3874123456458176,3.102080350286445 L -2.3990632223155695,3.0854743463931746 L -2.4106550820538266,3.0687923660039464 L -2.4221872731288943,3.0520343529756073 L -2.4336591389228293,3.0352002545432297 L -2.4461393684015365,3.017423443271657 L -2.460580891018125,2.9978926806390773 L -2.482840825550558,2.971661021262731 L -2.5084047365869897,2.942226122587626 L -2.519665645874219,2.9246653047558837 L -2.5283086032904913,2.9092444200269005 L -2.536904472216679,2.893769290921872 L -2.545452796413373,2.878239867868586 L -2.55395311620004,2.8626561032975313 L -2.5643165495503557,2.8452963067404093 L -2.5859762632902266,2.817478181515913 L -2.6089683005734834,2.787981202699893 L -2.6186572371364885,2.770624377464535 L -2.6214656408609436,2.7596894012212094 L -2.62425749969154,2.748736973188824 L -2.62703269088753,2.7377670523115105 L -2.6297910907536113,2.726779597652722 L -2.6325325746356625,2.71577456839639 L -2.6352570169096725,2.704751923854636 L -2.638155459625978,2.693524397834462 L -2.641376603583086,2.6819424097584315 L -2.644882163350039,2.670038104177395 L -2.6485498975547883,2.657927840385179 L -2.6521942808937644,2.6457941027049894 L -2.655815130681671,2.633636847850263 L -2.659413625898279,2.62145465009668 L -2.6631751426572694,2.609058044829633 L -2.6670429730681287,2.5965015022935876 L -2.6708844956274462,2.5839193053741623 L -2.674699501440338,2.5713114126730936 L -2.678487779993137,2.5586777833231635 L -2.68224911914408,2.546018376997151 L -2.6859833051069453,2.533333153924244 L -2.6896901224409415,2.520622074900062 L -2.6933693540397847,2.5078851012975725 L -2.697058671237174,2.4950812383713767 L -2.7007690154693913,2.4821975012159503 L -2.7044507060335987,2.469286957930692 L -2.708103299252976,2.4563498038295988 L -2.711718431265593,2.4433950290887543 L -2.7150551483090526,2.4306916885817835 L -2.718246933088869,2.4180948539972937 L -2.7214499465419175,2.4054301099249806 L -2.725258266379443,2.3920196621484906 L -2.729256727867411,2.378324493732717 L -2.73332010839039,2.3644834562558463 L -2.737941032181621,2.349919790991111 L -2.742618400998461,2.335205314415208 L -2.7472529581107135,2.320454334071136 L -2.7518443435181195,2.305666837166723 L -2.7563921945133947,2.290842812549669 L -2.760896145667325,2.2759822507353213 L -2.765355828808627,2.2610851439411603 L -2.769770873008978,2.2461514861155276 L -2.7741409045654564,2.2311812729699017 L -2.7784655469829125,2.2161745020117434 L -2.782934429287373,2.2008909363129576 L -2.7876264259065815,2.185223269412226 L -2.79226905508612,2.1695124733805775 L -2.7975967645969733,2.152803835845329 L -2.8039337939848696,2.1346429680038033 L -2.810204509749128,2.1164123862057425 L -2.816415810660846,2.09810160716212 L -2.823501031004761,2.0784417341039996 L -2.831039787533041,2.0579634888415477 L -2.8384766909065284,2.037411128183614 L -2.8458107685262175,2.0167848854274744 L -2.8530276947994113,1.9961040793392344 L -2.859915372813752,1.9756753391956168 L -2.868167982806629,1.9530243252187995 L -2.8739273226773823,1.9338014602356028 L -2.8773428717145846,1.9179080367937449 L -2.880703439364262,1.9019779107602177 L -2.884008576742616,1.8860111324317066 L -2.8880232848868843,1.8688253787727647 L -2.8945252898874307,1.8475999590888363 L -2.9010957766953704,1.8260156553295326 L -2.9068199584813166,1.8055324335786656 L -2.912103982270229,1.7855340772591106 L -2.917290631883367,1.7654747131656563 L -2.9351271100439744,1.7238302221788384 L -2.9607109337021913,1.667303479152866 L -2.96029548552694,1.6557720992488008 L -2.960071801028107,1.6438364167396542 L -2.9598206689657522,1.631885293144085 L -2.959541826422953,1.6199188542830754 L -2.959235077893832,1.6079371036142998 L -2.9589002264033466,1.5959400453749917 L -2.9585370734907612,1.583927684606453 L -2.958145419206588,1.5719000271538077 L -2.957725062093736,1.5598570796951166 L -2.9572757991824234,1.5477988497449955 L -2.956797425974097,1.5357253456789783 L -2.9563330525855323,1.5235525281132725 L -2.9561187244341696,1.5108162439946824 L -2.955920689021829,1.4979635752700962 L -2.955687840895453,1.4850932228574305 L -2.9554199289127228,1.4722052106167614 L -2.9551167000726046,1.4592995636733541 L -2.954777899503146,1.4463763084387564 L -2.9544032704467234,1.4334354726373453 L -2.954029556452138,1.420400133800688 L -2.9541203569286023,1.406294223604231 L -2.954323785101836,1.3918322490980073 L -2.9544791890539686,1.377347600570028 L -2.9545862107996235,1.3628403475900492 L -2.9546444898215167,1.3483105620619893 L -2.9546536630545672,1.3337583182679722 L -2.9546133648743216,1.319183692903805 L -2.954523227082158,1.3045867651222374 L -2.9543828788934845,1.2899676165703537 L -2.9541919469231632,1.275326331433978 L -2.95395005517529,1.2606629964729175 L -2.9538047105366334,1.2456270724441207 L -2.95401860487643,1.2295740117220522 L -2.9548404100232215,1.2118570709587289 L -2.956392216042542,1.1920980912486796 L -2.957929687271545,1.1720709401339304 L -2.9594329014854583,1.151812874855773 L -2.9608361058668136,1.1314837024983073 L -2.962127378754361,1.111111681524236 L -2.963305817287515,1.0906972614772705 L -2.964414783371742,1.0701182764001627 L -2.9673313151046194,1.044045685958665 L -2.96671072837646,1.0276013433878628 L -2.9656126413462642,1.0123247558600765 L -2.964464406995098,0.9969981728964322 L -2.9639376376549906,0.9795893163299393 L -2.963739330156782,0.9608901327153381 L -2.96309150715191,0.9432712464718992 L -2.9618883326802927,0.9271315079499944 L -2.960613028781336,0.9109782491654858 L -2.959267723374006,0.8948033921463734 L -2.95785190214173,0.8786071539488454 L -2.956365047623186,0.8623897565228238 L -2.954806639207967,0.8461514267921233 L -2.9531761531347747,0.8298923967289362 L -2.9518340748156287,0.8123021543666056 L -2.9517806569144716,0.7895636177990925 L -2.9517107049546607,0.7662612931721925 L -2.951479558179281,0.7429170337900645 L -2.951085951234361,0.7195317924711834 L -2.953033893334107,0.6854007962425472 L -2.9581794515221866,0.6348062997469383 L -2.9687719911114985,0.5512630892334985 L -2.9701584288054286,0.5093354532374822 L -2.9665789197268095,0.49448045537365465 L -2.962935972444488,0.4796057617566796 L -2.9593247644323277,0.46410149983742965 L -2.956218105108335,0.44477176483878983 L -2.9531767235057034,0.4241708806163632 L -2.950003181870377,0.40355093339043807 L -2.9466965521740605,0.38291269915521847 L -2.943255903892957,0.36225696828020043 L -2.9402297994797095,0.33682193876822236 L -2.940868232503142,0.27236251718981797 L -2.939453725666168,0.21692913619834553 L -2.9338967353270053,0.21054144453442764 L -2.9282395433576283,0.2054126878426284 L -2.9225747808385356,0.2002833802736019 L -2.916902400162793,0.19515353070151045 L -2.9112223533436183,0.19002314817663166 L -2.9055345920106888,0.18489224192990475 L -2.8998390674066954,0.1797608213733335 L -2.894135730383643,0.17462889610352886 L -2.888424531399298,0.16949647590224018 L -2.8827054205129876,0.16436357074729419 L -2.8769783473823884,0.1592301908061967 L -2.8712505514756392,0.15396044935605097 L -2.8655560511832334,0.1478820320469237 L -2.8598565539490615,0.14166947972710653 L -2.8541448210862925,0.13545629520445185 L -2.8484207738755805,0.1292425000037383 L -2.8426843329745966,0.12302811605155874 L -2.836935418412593,0.11681316567973922 L -2.831173949584608,0.11059767163583317 L -2.825399845245965,0.10438165708573537 L -2.8196130235063417,0.0981651456256855 L -2.8138136368109117,0.09194096989875454 L -2.8080039421007013,0.08563093202151482 L -2.8021815803334458,0.07929565657186435 L -2.796345653240787,0.07295996894271835 L -2.790496072250242,0.06662389657305724 L -2.7846464808627767,0.05964978663235772 L -2.778807708229456,0.051196024413138815 L -2.772944807525534,0.04268187752468603 L -2.7670563283517478,0.03416729748449433 L -2.7611421023513523,0.02565235983073655 L -2.7552019599286575,0.01713714144735359 L -2.749235730240616,0.008621720588697257 L -2.743243015344009,0.0011181976644839696 L -2.743243015344009,-0.0011181976644839696 L -2.749235730240616,-0.008621720588697257 L -2.7552019599286575,-0.01713714144735359 L -2.7611421023513523,-0.02565235983073655 L -2.7670563283517478,-0.03416729748449433 L -2.772944807525534,-0.04268187752468603 L -2.778807708229456,-0.051196024413138815 L -2.7846464808627767,-0.05964978663235772 L -2.790496072250242,-0.06662389657305724 L -2.796345653240787,-0.07295996894271835 L -2.8021815803334458,-0.07929565657186435 L -2.8080039421007013,-0.08563093202151482 L -2.8138136368109117,-0.09194096989875454 L -2.8196130235063417,-0.0981651456256855 L -2.825399845245965,-0.10438165708573537 L -2.831173949584608,-0.11059767163583317 L -2.836935418412593,-0.11681316567973922 L -2.8426843329745966,-0.12302811605155874 L -2.8484207738755805,-0.1292425000037383 L -2.8541448210862925,-0.13545629520445185 L -2.8598565539490615,-0.14166947972710653 L -2.8655560511832334,-0.1478820320469237 L -2.8712505514756392,-0.15396044935605097 L -2.8769783473823884,-0.1592301908061967 L -2.8827054205129876,-0.16436357074729419 L -2.888424531399298,-0.16949647590224018 L -2.894135730383643,-0.17462889610352886 L -2.8998390674066954,-0.1797608213733335 L -2.9055345920106888,-0.18489224192990475 L -2.9112223533436183,-0.19002314817663166 L -2.916902400162793,-0.19515353070151045 L -2.9225747808385356,-0.2002833802736019 L -2.9282395433576283,-0.2054126878426284 L -2.9338967353270053,-0.21054144453442764 L -2.939453725666168,-0.21692913619834553 L -2.940868232503142,-0.27236251718981797 L -2.9402297994797095,-0.33682193876822236 L -2.943255903892957,-0.36225696828020043 L -2.9466965521740605,-0.38291269915521847 L -2.950003181870377,-0.40355093339043807 L -2.9531767235057034,-0.4241708806163632 L -2.956218105108335,-0.44477176483878983 L -2.9593247644323277,-0.46410149983742965 L -2.962935972444488,-0.4796057617566796 L -2.9665789197268095,-0.49448045537365465 L -2.9701584288054286,-0.5093354532374822 L -2.9687719911114985,-0.5512630892334985 L -2.9581794515221866,-0.6348062997469383 L -2.953033893334107,-0.6854007962425472 L -2.951085951234361,-0.7195317924711834 L -2.951479558179281,-0.7429170337900645 L -2.9517107049546607,-0.7662612931721925 L -2.9517806569144716,-0.7895636177990925 L -2.9518340748156287,-0.8123021543666056 L -2.9531761531347747,-0.8298923967289362 L -2.954806639207967,-0.8461514267921233 L -2.956365047623186,-0.8623897565228238 L -2.95785190214173,-0.8786071539488454 L -2.959267723374006,-0.8948033921463734 L -2.960613028781336,-0.9109782491654858 L -2.9618883326802927,-0.9271315079499944 L -2.96309150715191,-0.9432712464718992 L -2.963739330156782,-0.9608901327153381 L -2.9639376376549906,-0.9795893163299393 L -2.964464406995098,-0.9969981728964322 L -2.9656126413462642,-1.0123247558600765 L -2.96671072837646,-1.0276013433878628 L -2.9673313151046194,-1.044045685958665 L -2.964414783371742,-1.0701182764001627 L -2.963305817287515,-1.0906972614772705 L -2.962127378754361,-1.111111681524236 L -2.9608361058668136,-1.1314837024983073 L -2.9594329014854583,-1.151812874855773 L -2.957929687271545,-1.1720709401339304 L -2.956392216042542,-1.1920980912486796 L -2.9548404100232215,-1.2118570709587289 L -2.95401860487643,-1.2295740117220522 L -2.9538047105366334,-1.2456270724441207 L -2.95395005517529,-1.2606629964729175 L -2.9541919469231632,-1.275326331433978 L -2.9543828788934845,-1.2899676165703537 L -2.954523227082158,-1.3045867651222374 L -2.9546133648743216,-1.319183692903805 L -2.9546536630545672,-1.3337583182679722 L -2.9546444898215167,-1.3483105620619893 L -2.9545862107996235,-1.3628403475900492 L -2.9544791890539686,-1.377347600570028 L -2.954323785101836,-1.3918322490980073 L -2.9541203569286023,-1.406294223604231 L -2.954029556452138,-1.420400133800688 L -2.9544032704467234,-1.4334354726373453 L -2.954777899503146,-1.4463763084387564 L -2.9551167000726046,-1.4592995636733541 L -2.9554199289127228,-1.4722052106167614 L -2.955687840895453,-1.4850932228574305 L -2.955920689021829,-1.4979635752700962 L -2.9561187244341696,-1.5108162439946824 L -2.9563330525855323,-1.5235525281132725 L -2.956797425974097,-1.5357253456789783 L -2.9572757991824234,-1.5477988497449955 L -2.957725062093736,-1.5598570796951166 L -2.958145419206588,-1.5719000271538077 L -2.9585370734907612,-1.583927684606453 L -2.9589002264033466,-1.5959400453749917 L -2.959235077893832,-1.6079371036142998 L -2.959541826422953,-1.6199188542830754 L -2.9598206689657522,-1.631885293144085 L -2.960071801028107,-1.6438364167396542 L -2.96029548552694,-1.6557720992488008 L -2.9607109337021913,-1.667303479152866 L -2.9351271100439744,-1.7238302221788384 L -2.917290631883367,-1.7654747131656563 L -2.912103982270229,-1.7855340772591106 L -2.9068199584813166,-1.8055324335786656 L -2.9010957766953704,-1.8260156553295326 L -2.8945252898874307,-1.8475999590888363 L -2.8880232848868843,-1.8688253787727647 L -2.884008576742616,-1.8860111324317066 L -2.880703439364262,-1.9019779107602177 L -2.8773428717145846,-1.9179080367937449 L -2.8739273226773823,-1.9338014602356028 L -2.868167982806629,-1.9530243252187995 L -2.859915372813752,-1.9756753391956168 L -2.8530276947994113,-1.9961040793392344 L -2.8458107685262175,-2.0167848854274744 L -2.8384766909065284,-2.037411128183614 L -2.831039787533041,-2.0579634888415477 L -2.823501031004761,-2.0784417341039996 L -2.816415810660846,-2.09810160716212 L -2.810204509749128,-2.1164123862057425 L -2.8039337939848696,-2.1346429680038033 L -2.7975967645969733,-2.152803835845329 L -2.79226905508612,-2.1695124733805775 L -2.7876264259065815,-2.185223269412226 L -2.782934429287373,-2.2008909363129576 L -2.7784655469829125,-2.2161745020117434 L -2.7741409045654564,-2.2311812729699017 L -2.769770873008978,-2.2461514861155276 L -2.765355828808627,-2.2610851439411603 L -2.760896145667325,-2.2759822507353213 L -2.7563921945133947,-2.290842812549669 L -2.7518443435181195,-2.305666837166723 L -2.7472529581107135,-2.320454334071136 L -2.742618400998461,-2.335205314415208 L -2.737941032181621,-2.349919790991111 L -2.73332010839039,-2.3644834562558463 L -2.729256727867411,-2.378324493732717 L -2.725258266379443,-2.3920196621484906 L -2.7214499465419175,-2.4054301099249806 L -2.718246933088869,-2.4180948539972937 L -2.7150551483090526,-2.4306916885817835 L -2.711718431265593,-2.4433950290887543 L -2.708103299252976,-2.4563498038295988 L -2.7044507060335987,-2.469286957930692 L -2.7007690154693913,-2.4821975012159503 L -2.697058671237174,-2.4950812383713767 L -2.6933693540397847,-2.5078851012975725 L -2.6896901224409415,-2.520622074900062 L -2.6859833051069453,-2.533333153924244 L -2.68224911914408,-2.546018376997151 L -2.678487779993137,-2.5586777833231635 L -2.674699501440338,-2.5713114126730936 L -2.6708844956274462,-2.5839193053741623 L -2.6670429730681287,-2.5965015022935876 L -2.6631751426572694,-2.609058044829633 L -2.659413625898279,-2.62145465009668 L -2.655815130681671,-2.633636847850263 L -2.6521942808937644,-2.6457941027049894 L -2.6485498975547883,-2.657927840385179 L -2.644882163350039,-2.670038104177395 L -2.641376603583086,-2.6819424097584315 L -2.638155459625978,-2.693524397834462 L -2.6352570169096725,-2.704751923854636 L -2.6325325746356625,-2.71577456839639 L -2.6297910907536113,-2.726779597652722 L -2.62703269088753,-2.7377670523115105 L -2.62425749969154,-2.748736973188824 L -2.6214656408609436,-2.7596894012212094 L -2.6186572371364885,-2.770624377464535 L -2.6089683005734834,-2.787981202699893 L -2.5859762632902266,-2.817478181515913 L -2.5643165495503557,-2.8452963067404093 L -2.55395311620004,-2.8626561032975313 L -2.545452796413373,-2.878239867868586 L -2.536904472216679,-2.893769290921872 L -2.5283086032904913,-2.9092444200269005 L -2.519665645874219,-2.9246653047558837 L -2.5084047365869897,-2.942226122587626 L -2.482840825550558,-2.971661021262731 L -2.460580891018125,-2.9978926806390773 L -2.4461393684015365,-3.017423443271657 L -2.4336591389228293,-3.0352002545432297 L -2.4221872731288943,-3.0520343529756073 L -2.4106550820538266,-3.0687923660039464 L -2.3990632223155695,-3.0854743463931746 L -2.3874123456458176,-3.102080350286445 L -2.374280115383502,-3.119693928343601 L -2.2769856460477174,-3.1987748982747215 L -2.228691285269252,-3.2399012316136035 L -2.18320912057048,-3.2779407055691654 L -2.138496437460737,-3.314434335188492 L -2.0995750663256123,-3.3463178722781204 L -2.068008428524715,-3.3729643981795476 L -2.039564099388194,-3.3972469811467794 L -2.014493857047663,-3.4191455782323312 L -1.989361394762235,-3.440768604436922 L -1.9642764018807475,-3.4620576356410564 L -1.9397666648994907,-3.4827259140914433 L -1.8696543095324234,-3.5276605655102014 L -1.7525241705978323,-3.593974022438828 L -1.685943369701209,-3.632306606105465 L -1.6210844719738045,-3.6682802087137083 L -1.5631728558097195,-3.6998507470315145 L -1.527435201370204,-3.7212402703690235 L -1.498794323528655,-3.739339203780063 L -1.467837752005911,-3.7580475308513632 L -1.4374941549328168,-3.7761856964780782 L -1.4072841623701418,-3.7939544330039 L -1.3769719205631348,-3.811447300066063 L -1.3465602259237421,-3.82866466685307 L -1.316646177597098,-3.84540348241025 L -1.2956039598047377,-3.8588800382149095 L -1.2775303859879712,-3.8712262524386536 L -1.2594228491398238,-3.883469406429153 L -1.24219067661974,-3.8953201369920576 L -1.2269877619326417,-3.90643135433746 L -1.213951968826172,-3.9167902551743903 L -1.2088252133385402,-3.924660421618927 L -1.2044512086474068,-3.9322868394114057 L -1.200075312822732,-3.9399033705391004 L -1.1963769975690128,-3.9473041906784405 L -1.1932714637472635,-3.954518001035077 L -1.190225934199838,-3.9617073199723607 L -1.1871865583988521,-3.9688885270561967 L -1.1841454839557246,-3.9760640189465666 L -1.1811027250616297,-3.9832338184313985 L -1.1780582957895973,-3.990397948186435 L -1.1750122100947173,-3.9975564307761102 L -1.1719644818158537,-4.004709288653972 L -1.168915124674311,-4.01185654416399 L -1.1658641522787159,-4.0189982195400376 L -1.1628115781231496,-4.026134336907347 L -1.159757415589307,-4.033264918282777 L -1.1567016779475376,-4.040389985575397 L -1.153644378356878,-4.047509560587362 L -1.1505855298685796,-4.05462366501378 L -1.1475251454235618,-4.061732320444304 L -1.144463237856114,-4.068835548362937 L -1.1413998198940525,-4.075933370148846 L -1.1383349041599422,-4.0830258070768615 L -1.1352685031706664,-4.090112880318435 L -1.1322006293401505,-4.097194610941716 L -1.1291312949806942,-4.104271019912003 L -1.1260605123003078,-4.111342128093305 L -1.1229882934088613,-4.118407956247449 L -1.1199146503146467,-4.125468525035835 L -1.1168395949271799,-4.132523855019472 L -1.114097921493365,-4.139483878057015 L -1.1117278314356056,-4.146339492934127 L -1.1093570169379146,-4.153191317712754 L -1.1069852211959095,-4.160039438217429 L -1.1046124517927784,-4.166883869025834 L -1.1022387162517686,-4.173724624642613 L -1.099864022035412,-4.180561719500139 L -1.0974883765458405,-4.187395167958996 L -1.0951117871279354,-4.19422498430771 L -1.092734261066351,-4.201051182764093 L -1.0903558055880687,-4.207873777475123 L -1.087976427863338,-4.214692782517244 L -1.085596135003669,-4.221508211897432 L -1.083214934065805,-4.228320079552705 L -1.0808328320495693,-4.235128399351216 L -1.0784498358989612,-4.241933185092497 L -1.076065952503044,-4.2487344505077616 L -1.073681188697786,-4.255532209259949 L -1.0712955512624922,-4.262326474945156 L -1.0689090469249907,-4.269117261091837 L -1.0665216823587822,-4.275904581162025 L -1.064133464185033,-4.282688448551341 L -1.0617443989731832,-4.289468876589341 L -1.059354493240105,-4.296245878540223 L -1.0569637534513783,-4.303019467603002 L -1.0545721860226227,-4.309789656911668 L -1.052179797318067,-4.316556459536028 L -1.0497865936525324,-4.323319888481695 L -1.0473925812909746,-4.3300799566906765 L -1.0449977664499879,-4.33683667704149 L -1.0426021552954046,-4.343590062350203 L -1.0402057539478948,-4.350340125369551 L -1.0378085684779315,-4.357086878790618 L -1.0354106049096912,-4.363830335242344 L -1.0330118692191608,-4.370570507292449 L -1.0306123673374536,-4.377307407447082 L -1.0282180301070651,-4.384039658536041 L -1.026101673087906,-4.390703542692288 L -1.0241372441506076,-4.397329131524571 L -1.022105022043898,-4.403967801474779 L -1.0180279163555477,-4.4110761572380435 L -1.0129883618240836,-4.418398245674287 L -1.0079467045534043,-4.4257111110758665 L -1.0029029661432904,-4.433014787025812 L -0.9978571680113733,-4.440309306965135 L -0.9928093313983095,-4.447594704192589 L -0.9877594773685481,-4.454871011865447 L -0.9827076268103715,-4.462138263000422 L -0.9776538004394817,-4.469396490473791 L -0.9728956610361432,-4.476581050777038 L -0.9686780344458237,-4.483640352448362 L -0.9644703797093452,-4.490690486827475 L -0.9602613035773805,-4.497733957470809 L -0.9560508196916911,-4.504770788756288 L -0.9518389415819185,-4.511801004953627 L -0.9476256826685632,-4.518824630224415 L -0.9437165530895226,-4.525777997094039 L -0.9405079231145548,-4.532579987238014 L -0.9373261656251259,-4.539371914725506 L -0.9341435361691706,-4.546159582089728 L -0.9309600422356187,-4.55294300502417 L -0.9277756912550482,-4.559722199149346 L -0.9245904905984466,-4.56649718001354 L -0.9214044475787478,-4.573267963092982 L -0.9182175694522535,-4.580034563792051 L -0.9150298634174898,-4.586796997443994 L -0.9118413366167185,-4.593555279311092 L -0.9086519961352928,-4.6003094245852765 L -0.9054618490037142,-4.607059448388182 L -0.9022155242240336,-4.613816195084581 L -0.8979007262530433,-4.620776339250552 L -0.8931748760598726,-4.627809139753179 L -0.8884476009482559,-4.63483450615201 L -0.8837189157308823,-4.6418524650277515 L -0.8789888350988292,-4.648863042847077 L -0.874257373624766,-4.655866265962739 L -0.8695245457624199,-4.662862160614374 L -0.8647903658474659,-4.669850752929045 L -0.860054848100132,-4.67683206892146 L -0.8553180066233868,-4.683806134494997 L -0.8505798554077225,-4.69077297544152 L -0.8458404083268465,-4.697732617442848 L -0.8410996791456291,-4.70468508606999 L -0.8363576815145257,-4.7116304067848445 L -0.8316144289743007,-4.71856860494001 L -0.8269415699356748,-4.725487170500865 L -0.8226516164505978,-4.732332082755356 L -0.8184175907026908,-4.739161178925822 L -0.8143917125816801,-4.745948558969904 L -0.8105723515017433,-4.75269520865882 L -0.8067521609258953,-4.7594369494723425 L -0.8029311489127947,-4.766173798889072 L -0.7991093234577263,-4.7729057743098435 L -0.7952866924915963,-4.779632893058376 L -0.7914632638838923,-4.78635517238126 L -0.7876390454402812,-4.793072629448836 L -0.7838140449066724,-4.799785281354995 L -0.7799882699661103,-4.806493145118167 L -0.7761617282409704,-4.81319623768142 L -0.7723344272948204,-4.819894575912628 L -0.7685063746302438,-4.826588176605291 L -0.7646775776915247,-4.833277056478548 L -0.7608480438633674,-4.839961232177846 L -0.757017780472763,-4.846640720275092 L -0.7531867947884621,-4.8533155372691885 L -0.7493550940228457,-4.859985699586183 L -0.7455226853305992,-4.866651223579915 L -0.7416895758108766,-4.873312125532125 L -0.737855772506446,-4.879968421653021 L -0.7340212824049567,-4.886620128081519 L -0.730186112438626,-4.893267260885719 L -0.7263502694855207,-4.899909836063135 L -0.7225137603698084,-4.906547869541089 L -0.7186765918621089,-4.913181377177076 L -0.7148387706793577,-4.919810374759208 L -0.7110003034862203,-4.926434878006412 L -0.7071611968952551,-4.933054902568828 L -0.7033214574667798,-4.939670464028232 L -0.6994810917097373,-4.946281577898325 L -0.6956401060818145,-4.95288825962511 L -0.6917985069909564,-4.959490524587091 L -0.6879563007939593,-4.966088388095858 L -0.6841134937982496,-4.97268186539624 L -0.6802700922620142,-4.979270971666679 L -0.6764261023943937,-4.985855722019597 L -0.6725815303559605,-4.992436131501713 L -0.6687363822590905,-4.999012215094377 L -0.6648906641682679,-5.005583987713915 L -0.6610441717611544,-5.012151491953256 L -0.6562382048034227,-5.018840190724735 L -0.6505277227009381,-5.025639733791133 L -0.6448353075553316,-5.032428462739848 L -0.6397617060662363,-5.039130248835912 L -0.6349856992676356,-5.045787739297153 L -0.6302089384924064,-5.052439176220775 L -0.6254314330068488,-5.059084580202213 L -0.6206531920033227,-5.065723971750907 L -0.615874224601752,-5.072357371290598 L -0.6110945398482033,-5.07898479915997 L -0.6063141467173567,-5.085606275612819 L -0.6015330541129388,-5.092221820818462 L -0.596755299128433,-5.09883098340557 L -0.5921522656272176,-5.105413922461884 L -0.5876422826231521,-5.111980600337353 L -0.5831316995372143,-5.1185419956233655 L -0.5786205238125077,-5.125098126184279 L -0.5741087628323426,-5.131649009809573 L -0.5695964239231066,-5.138194664213932 L -0.5650835143519926,-5.144735107037919 L -0.5605700413290791,-5.151270355848139 L -0.5556753313513413,-5.157841454631385 L -0.5488535678931393,-5.164611693527851 L -0.541762635093341,-5.171399251099635 L -0.5346705060891612,-5.178175291001193 L -0.5275772021290185,-5.184939851318116 L -0.5204827442880309,-5.191692969993872 L -0.5133871534679753,-5.198434684830435 L -0.5062904503995249,-5.205165033488683 L -0.4991926556432087,-5.21188405348892 L -0.49209378959183203,-5.218591782211259 L -0.4849938724698976,-5.225288256896285 L -0.47789292433639907,-5.231973514645393 L -0.4707909650857105,-5.238647592421322 L -0.4636880144494071,-5.245310527048583 L -0.4565840919961044,-5.251962355214075 L -0.4494792171346516,-5.258603113467393 L -0.4423734091137442,-5.265232838221456 L -0.4352666870244381,-5.271851565752879 L -0.4281590698008299,-5.278459332202505 L -0.42105057622087516,-5.285056173575915 L -0.41399449650547393,-5.291637958278014 L -0.4073521929731721,-5.298177180763065 L -0.40079695553604816,-5.304700247495688 L -0.39424102750565787,-5.311214055116271 L -0.387684423395105,-5.317718634037719 L -0.38113767286588185,-5.324213261823356 L -0.37519379958056503,-5.330656304822517 L -0.36959967292298024,-5.337067499827381 L -0.36400508526941683,-5.343471928119719 L -0.35841004575534013,-5.34986961194293 L -0.35281456344174195,-5.35626057345157 L -0.3472186473164133,-5.362644834711689 L -0.3416223062933579,-5.369022417701304 L -0.3360255492147943,-5.375393344310692 L -0.33042838485041726,-5.381757636342858 L -0.3248308218989235,-5.388115315513859 L -0.3192328689878046,-5.394466403453234 L -0.3136345346746099,-5.40081092170434 L -0.30803582744703367,-5.4071488917247645 L -0.3024367557237862,-5.413480334886677 L -0.296837327854647,-5.419805272477239 L -0.29123755212174934,-5.426123725698932 L -0.28563743673917835,-5.432435715669982 L -0.2800369898546362,-5.438741263424676 L -0.2744362195488711,-5.445040389913781 L -0.268835133836857,-5.451333116004884 L -0.26323374066819116,-5.457619462482762 L -0.25763204792751215,-5.463899450049749 L -0.25203006343495227,-5.470173099326109 L -0.24642779494702596,-5.476440430850375 L -0.24082525015658057,-5.482701465079734 L -0.23522243669372886,-5.488956222390369 L -0.2296193621260603,-5.495204723077824 L -0.22401603395934108,-5.501446987357356 L -0.21841245963792935,-5.507683035364292 L -0.2128086465451231,-5.513912887154378 L -0.20720460200395657,-5.5201365627041294 L -0.20160033327724272,-5.526354081911187 L -0.19599584756856409,-5.532565464594654 L -0.19039115202206802,-5.538770730495463 L -0.18213484313398798,-5.545057622997827 L -0.15838884631451075,-5.551795151905142 L -0.14172893306983028,-5.558253393018887 L -0.12933377522041128,-5.564563255674196 L -0.11693797562866352,-5.570844880825657 L -0.10454159970601247,-5.577098358381904 L -0.09231954559585905,-5.583320889902546 L -0.08047699024372926,-5.589510771915977 L -0.06864725028827562,-5.59567503271677 L -0.056817213361577905,-5.601813971084957 L -0.04498693405635807,-5.607927667863781 L -0.033156466503214195,-5.614016203665993 L -0.021325864374050495,-5.620079658873857 L -0.0094951808855324,-5.6261181136391825 L -0.0005416049027776772,-5.632132106090851 L 0.0005416049027776772,-5.632132106090851 L 0.0094951808855324,-5.6261181136391825 L 0.021325864374050495,-5.620079658873857 L 0.033156466503214195,-5.614016203665993 L 0.04498693405635807,-5.607927667863781 L 0.056817213361577905,-5.601813971084957 L 0.06864725028827562,-5.59567503271677 L 0.08047699024372926,-5.589510771915977 L 0.09231954559585905,-5.583320889902546 L 0.10454159970601247,-5.577098358381904 L 0.11693797562866352,-5.570844880825657 L 0.12933377522041128,-5.564563255674196 L 0.14172893306983028,-5.558253393018887 L 0.15838884631451075,-5.551795151905142 L 0.18213484313398798,-5.545057622997827 L 0.19039115202206802,-5.538770730495463 L 0.19599584756856409,-5.532565464594654 L 0.20160033327724272,-5.526354081911187 L 0.20720460200395657,-5.5201365627041294 L 0.2128086465451231,-5.513912887154378 L 0.21841245963792935,-5.507683035364292 L 0.22401603395934108,-5.501446987357356 L 0.2296193621260603,-5.495204723077824 L 0.23522243669372886,-5.488956222390369 L 0.24082525015658057,-5.482701465079734 L 0.24642779494702596,-5.476440430850375 L 0.25203006343495227,-5.470173099326109 L 0.25763204792751215,-5.463899450049749 L 0.26323374066819116,-5.457619462482762 L 0.268835133836857,-5.451333116004884 L 0.2744362195488711,-5.445040389913781 L 0.2800369898546362,-5.438741263424676 L 0.28563743673917835,-5.432435715669982 L 0.29123755212174934,-5.426123725698932 L 0.296837327854647,-5.419805272477239 L 0.3024367557237862,-5.413480334886677 L 0.30803582744703367,-5.4071488917247645 L 0.3136345346746099,-5.40081092170434 L 0.3192328689878046,-5.394466403453234 L 0.3248308218989235,-5.388115315513859 L 0.33042838485041726,-5.381757636342858 L 0.3360255492147943,-5.375393344310692 L 0.3416223062933579,-5.369022417701304 L 0.3472186473164133,-5.362644834711689 L 0.35281456344174195,-5.35626057345157 L 0.35841004575534013,-5.34986961194293 L 0.36400508526941683,-5.343471928119719 L 0.36959967292298024,-5.337067499827381 L 0.37519379958056503,-5.330656304822517 L 0.38113767286588185,-5.324213261823356 L 0.387684423395105,-5.317718634037719 L 0.39424102750565787,-5.311214055116271 L 0.40079695553604816,-5.304700247495688 L 0.4073521929731721,-5.298177180763065 L 0.41399449650547393,-5.291637958278014 L 0.42105057622087516,-5.285056173575915 L 0.4281590698008299,-5.278459332202505 L 0.4352666870244381,-5.271851565752879 L 0.4423734091137442,-5.265232838221456 L 0.4494792171346516,-5.258603113467393 L 0.4565840919961044,-5.251962355214075 L 0.4636880144494071,-5.245310527048583 L 0.4707909650857105,-5.238647592421322 L 0.47789292433639907,-5.231973514645393 L 0.4849938724698976,-5.225288256896285 L 0.49209378959183203,-5.218591782211259 L 0.4991926556432087,-5.21188405348892 L 0.5062904503995249,-5.205165033488683 L 0.5133871534679753,-5.198434684830435 L 0.5204827442880309,-5.191692969993872 L 0.5275772021290185,-5.184939851318116 L 0.5346705060891612,-5.178175291001193 L 0.541762635093341,-5.171399251099635 L 0.5488535678931393,-5.164611693527851 L 0.5556753313513413,-5.157841454631385 L 0.5605700413290791,-5.151270355848139 L 0.5650835143519926,-5.144735107037919 L 0.5695964239231066,-5.138194664213932 L 0.5741087628323426,-5.131649009809573 L 0.5786205238125077,-5.125098126184279 L 0.5831316995372143,-5.1185419956233655 L 0.5876422826231521,-5.111980600337353 L 0.5921522656272176,-5.105413922461884 L 0.596755299128433,-5.09883098340557 L 0.6015330541129388,-5.092221820818462 L 0.6063141467173567,-5.085606275612819 L 0.6110945398482033,-5.07898479915997 L 0.615874224601752,-5.072357371290598 L 0.6206531920033227,-5.065723971750907 L 0.6254314330068488,-5.059084580202213 L 0.6302089384924064,-5.052439176220775 L 0.6349856992676356,-5.045787739297153 L 0.6397617060662363,-5.039130248835912 L 0.6448353075553316,-5.032428462739848 L 0.6505277227009381,-5.025639733791133 L 0.6562382048034227,-5.018840190724735 L 0.6610441717611544,-5.012151491953256 L 0.6648906641682679,-5.005583987713915 L 0.6687363822590905,-4.999012215094377 L 0.6725815303559605,-4.992436131501713 L 0.6764261023943937,-4.985855722019597 L 0.6802700922620142,-4.979270971666679 L 0.6841134937982496,-4.97268186539624 L 0.6879563007939593,-4.966088388095858 L 0.6917985069909564,-4.959490524587091 L 0.6956401060818145,-4.95288825962511 L 0.6994810917097373,-4.946281577898325 L 0.7033214574667798,-4.939670464028232 L 0.7071611968952551,-4.933054902568828 L 0.7110003034862203,-4.926434878006412 L 0.7148387706793577,-4.919810374759208 L 0.7186765918621089,-4.913181377177076 L 0.7225137603698084,-4.906547869541089 L 0.7263502694855207,-4.899909836063135 L 0.730186112438626,-4.893267260885719 L 0.7340212824049567,-4.886620128081519 L 0.737855772506446,-4.879968421653021 L 0.7416895758108766,-4.873312125532125 L 0.7455226853305992,-4.866651223579915 L 0.7493550940228457,-4.859985699586183 L 0.7531867947884621,-4.8533155372691885 L 0.757017780472763,-4.846640720275092 L 0.7608480438633674,-4.839961232177846 L 0.7646775776915247,-4.833277056478548 L 0.7685063746302438,-4.826588176605291 L 0.7723344272948204,-4.819894575912628 L 0.7761617282409704,-4.81319623768142 L 0.7799882699661103,-4.806493145118167 L 0.7838140449066724,-4.799785281354995 L 0.7876390454402812,-4.793072629448836 L 0.7914632638838923,-4.78635517238126 L 0.7952866924915963,-4.779632893058376 L 0.7991093234577263,-4.7729057743098435 L 0.8029311489127947,-4.766173798889072 L 0.8067521609258953,-4.7594369494723425 L 0.8105723515017433,-4.75269520865882 L 0.8143917125816801,-4.745948558969904 L 0.8184175907026908,-4.739161178925822 L 0.8226516164505978,-4.732332082755356 L 0.8269415699356748,-4.725487170500865 L 0.8316144289743007,-4.71856860494001 L 0.8363576815145257,-4.7116304067848445 L 0.8410996791456291,-4.70468508606999 L 0.8458404083268465,-4.697732617442848 L 0.8505798554077225,-4.69077297544152 L 0.8553180066233868,-4.683806134494997 L 0.860054848100132,-4.67683206892146 L 0.8647903658474659,-4.669850752929045 L 0.8695245457624199,-4.662862160614374 L 0.874257373624766,-4.655866265962739 L 0.8789888350988292,-4.648863042847077 L 0.8837189157308823,-4.6418524650277515 L 0.8884476009482559,-4.63483450615201 L 0.8931748760598726,-4.627809139753179 L 0.8979007262530433,-4.620776339250552 L 0.9022155242240336,-4.613816195084581 L 0.9054618490037142,-4.607059448388182 L 0.9086519961352928,-4.6003094245852765 L 0.9118413366167185,-4.593555279311092 L 0.9150298634174898,-4.586796997443994 L 0.9182175694522535,-4.580034563792051 L 0.9214044475787478,-4.573267963092982 L 0.9245904905984466,-4.56649718001354 L 0.9277756912550482,-4.559722199149346 L 0.9309600422356187,-4.55294300502417 L 0.9341435361691706,-4.546159582089728 L 0.9373261656251259,-4.539371914725506 L 0.9405079231145548,-4.532579987238014 L 0.9437165530895226,-4.525777997094039 L 0.9476256826685632,-4.518824630224415 L 0.9518389415819185,-4.511801004953627 L 0.9560508196916911,-4.504770788756288 L 0.9602613035773805,-4.497733957470809 L 0.9644703797093452,-4.490690486827475 L 0.9686780344458237,-4.483640352448362 L 0.9728956610361432,-4.476581050777038 L 0.9776538004394817,-4.469396490473791 L 0.9827076268103715,-4.462138263000422 L 0.9877594773685481,-4.454871011865447 L 0.9928093313983095,-4.447594704192589 L 0.9978571680113733,-4.440309306965135 L 1.0029029661432904,-4.433014787025812 L 1.0079467045534043,-4.4257111110758665 L 1.0129883618240836,-4.418398245674287 L 1.0180279163555477,-4.4110761572380435 L 1.022105022043898,-4.403967801474779 L 1.0241372441506076,-4.397329131524571 L 1.026101673087906,-4.390703542692288 L 1.0282180301070651,-4.384039658536041 L 1.0306123673374536,-4.377307407447082 L 1.0330118692191608,-4.370570507292449 L 1.0354106049096912,-4.363830335242344 L 1.0378085684779315,-4.357086878790618 L 1.0402057539478948,-4.350340125369551 L 1.0426021552954046,-4.343590062350203 L 1.0449977664499879,-4.33683667704149 L 1.0473925812909746,-4.3300799566906765 L 1.0497865936525324,-4.323319888481695 L 1.052179797318067,-4.316556459536028 L 1.0545721860226227,-4.309789656911668 L 1.0569637534513783,-4.303019467603002 L 1.059354493240105,-4.296245878540223 L 1.0617443989731832,-4.289468876589341 L 1.064133464185033,-4.282688448551341 L 1.0665216823587822,-4.275904581162025 L 1.0689090469249907,-4.269117261091837 L 1.0712955512624922,-4.262326474945156 L 1.073681188697786,-4.255532209259949 L 1.076065952503044,-4.2487344505077616 L 1.0784498358989612,-4.241933185092497 L 1.0808328320495693,-4.235128399351216 L 1.083214934065805,-4.228320079552705 L 1.085596135003669,-4.221508211897432 L 1.087976427863338,-4.214692782517244 L 1.0903558055880687,-4.207873777475123 L 1.092734261066351,-4.201051182764093 L 1.0951117871279354,-4.19422498430771 L 1.0974883765458405,-4.187395167958996 L 1.099864022035412,-4.180561719500139 L 1.1022387162517686,-4.173724624642613 L 1.1046124517927784,-4.166883869025834 L 1.1069852211959095,-4.160039438217429 L 1.1093570169379146,-4.153191317712754 L 1.1117278314356056,-4.146339492934127 L 1.114097921493365,-4.139483878057015 L 1.1168395949271799,-4.132523855019472 L 1.1199146503146467,-4.125468525035835 L 1.1229882934088613,-4.118407956247449 L 1.1260605123003078,-4.111342128093305 L 1.1291312949806942,-4.104271019912003 L 1.1322006293401505,-4.097194610941716 L 1.1352685031706664,-4.090112880318435 L 1.1383349041599422,-4.0830258070768615 L 1.1413998198940525,-4.075933370148846 L 1.144463237856114,-4.068835548362937 L 1.1475251454235618,-4.061732320444304 L 1.1505855298685796,-4.05462366501378 L 1.153644378356878,-4.047509560587362 L 1.1567016779475376,-4.040389985575397 L 1.159757415589307,-4.033264918282777 L 1.1628115781231496,-4.026134336907347 L 1.1658641522787159,-4.0189982195400376 L 1.168915124674311,-4.01185654416399 L 1.1719644818158537,-4.004709288653972 L 1.1750122100947173,-3.9975564307761102 L 1.1780582957895973,-3.990397948186435 L 1.1811027250616297,-3.9832338184313985 L 1.1841454839557246,-3.9760640189465666 L 1.1871865583988521,-3.9688885270561967 L 1.190225934199838,-3.9617073199723607 L 1.1932714637472635,-3.954518001035077 L 1.1963769975690128,-3.9473041906784405 L 1.200075312822732,-3.9399033705391004 L 1.2044512086474068,-3.9322868394114057 L 1.2088252133385402,-3.924660421618927 L 1.213951968826172,-3.9167902551743903 L 1.2269877619326417,-3.90643135433746 L 1.24219067661974,-3.8953201369920576 L 1.2594228491398238,-3.883469406429153 L 1.2775303859879712,-3.8712262524386536 L 1.2956039598047377,-3.8588800382149095 L 1.316646177597098,-3.84540348241025 L 1.3465602259237421,-3.82866466685307 L 1.3769719205631348,-3.811447300066063 L 1.4072841623701418,-3.7939544330039 L 1.4374941549328168,-3.7761856964780782 L 1.467837752005911,-3.7580475308513632 L 1.498794323528655,-3.739339203780063 L 1.527435201370204,-3.7212402703690235 L 1.5631728558097195,-3.6998507470315145 L 1.6210844719738045,-3.6682802087137083 L 1.685943369701209,-3.632306606105465 L 1.7525241705978323,-3.593974022438828 L 1.8696543095324234,-3.5276605655102014 L 1.9397666648994907,-3.4827259140914433 L 1.9642764018807475,-3.4620576356410564 L 1.989361394762235,-3.440768604436922 L 2.014493857047663,-3.4191455782323312 L 2.039564099388194,-3.3972469811467794 L 2.068008428524715,-3.3729643981795476 L 2.0995750663256123,-3.3463178722781204 L 2.138496437460737,-3.314434335188492 L 2.18320912057048,-3.2779407055691654 L 2.228691285269252,-3.2399012316136035 L 2.2769856460477174,-3.1987748982747215 L 2.374280115383502,-3.119693928343601 L 2.3874123456458176,-3.102080350286445 L 2.3990632223155695,-3.0854743463931746 L 2.4106550820538266,-3.0687923660039464 L 2.4221872731288943,-3.0520343529756073 L 2.4336591389228293,-3.0352002545432297 L 2.4461393684015365,-3.017423443271657 L 2.460580891018125,-2.9978926806390773 L 2.482840825550558,-2.971661021262731 L 2.5084047365869897,-2.942226122587626 L 2.519665645874219,-2.9246653047558837 L 2.5283086032904913,-2.9092444200269005 L 2.536904472216679,-2.893769290921872 L 2.545452796413373,-2.878239867868586 L 2.55395311620004,-2.8626561032975313 L 2.5643165495503557,-2.8452963067404093 L 2.5859762632902266,-2.817478181515913 L 2.6089683005734834,-2.787981202699893 L 2.6186572371364885,-2.770624377464535 L 2.6214656408609436,-2.7596894012212094 L 2.62425749969154,-2.748736973188824 L 2.62703269088753,-2.7377670523115105 L 2.6297910907536113,-2.726779597652722 L 2.6325325746356625,-2.71577456839639 L 2.6352570169096725,-2.704751923854636 L 2.638155459625978,-2.693524397834462 L 2.641376603583086,-2.6819424097584315 L 2.644882163350039,-2.670038104177395 L 2.6485498975547883,-2.657927840385179 L 2.6521942808937644,-2.6457941027049894 L 2.655815130681671,-2.633636847850263 L 2.659413625898279,-2.62145465009668 L 2.6631751426572694,-2.609058044829633 L 2.6670429730681287,-2.5965015022935876 L 2.6708844956274462,-2.5839193053741623 L 2.674699501440338,-2.5713114126730936 L 2.678487779993137,-2.5586777833231635 L 2.68224911914408,-2.546018376997151 L 2.6859833051069453,-2.533333153924244 L 2.6896901224409415,-2.520622074900062 L 2.6933693540397847,-2.5078851012975725 L 2.697058671237174,-2.4950812383713767 L 2.7007690154693913,-2.4821975012159503 L 2.7044507060335987,-2.469286957930692 L 2.708103299252976,-2.4563498038295988 L 2.711718431265593,-2.4433950290887543 L 2.7150551483090526,-2.4306916885817835 L 2.718246933088869,-2.4180948539972937 L 2.7214499465419175,-2.4054301099249806 L 2.725258266379443,-2.3920196621484906 L 2.729256727867411,-2.378324493732717 L 2.73332010839039,-2.3644834562558463 L 2.737941032181621,-2.349919790991111 L 2.742618400998461,-2.335205314415208 L 2.7472529581107135,-2.320454334071136 L 2.7518443435181195,-2.305666837166723 L 2.7563921945133947,-2.290842812549669 L 2.760896145667325,-2.2759822507353213 L 2.765355828808627,-2.2610851439411603 L 2.769770873008978,-2.2461514861155276 L 2.7741409045654564,-2.2311812729699017 L 2.7784655469829125,-2.2161745020117434 L 2.782934429287373,-2.2008909363129576 L 2.7876264259065815,-2.185223269412226 L 2.79226905508612,-2.1695124733805775 L 2.7975967645969733,-2.152803835845329 L 2.8039337939848696,-2.1346429680038033 L 2.810204509749128,-2.1164123862057425 L 2.816415810660846,-2.09810160716212 L 2.823501031004761,-2.0784417341039996 L 2.831039787533041,-2.0579634888415477 L 2.8384766909065284,-2.037411128183614 L 2.8458107685262175,-2.0167848854274744 L 2.8530276947994113,-1.9961040793392344 L 2.859915372813752,-1.9756753391956168 L 2.868167982806629,-1.9530243252187995 L 2.8739273226773823,-1.9338014602356028 L 2.8773428717145846,-1.9179080367937449 L 2.880703439364262,-1.9019779107602177 L 2.884008576742616,-1.8860111324317066 L 2.8880232848868843,-1.8688253787727647 L 2.8945252898874307,-1.8475999590888363 L 2.9010957766953704,-1.8260156553295326 L 2.9068199584813166,-1.8055324335786656 L 2.912103982270229,-1.7855340772591106 L 2.917290631883367,-1.7654747131656563 L 2.9351271100439744,-1.7238302221788384 L 2.9607109337021913,-1.667303479152866 L 2.96029548552694,-1.6557720992488008 L 2.960071801028107,-1.6438364167396542 L 2.9598206689657522,-1.631885293144085 L 2.959541826422953,-1.6199188542830754 L 2.959235077893832,-1.6079371036142998 L 2.9589002264033466,-1.5959400453749917 L 2.9585370734907612,-1.583927684606453 L 2.958145419206588,-1.5719000271538077 L 2.957725062093736,-1.5598570796951166 L 2.9572757991824234,-1.5477988497449955 L 2.956797425974097,-1.5357253456789783 L 2.9563330525855323,-1.5235525281132725 L 2.9561187244341696,-1.5108162439946824 L 2.955920689021829,-1.4979635752700962 L 2.955687840895453,-1.4850932228574305 L 2.9554199289127228,-1.4722052106167614 L 2.9551167000726046,-1.4592995636733541 L 2.954777899503146,-1.4463763084387564 L 2.9544032704467234,-1.4334354726373453 L 2.954029556452138,-1.420400133800688 L 2.9541203569286023,-1.406294223604231 L 2.954323785101836,-1.3918322490980073 L 2.9544791890539686,-1.377347600570028 L 2.9545862107996235,-1.3628403475900492 L 2.9546444898215167,-1.3483105620619893 L 2.9546536630545672,-1.3337583182679722 L 2.9546133648743216,-1.319183692903805 L 2.954523227082158,-1.3045867651222374 L 2.9543828788934845,-1.2899676165703537 L 2.9541919469231632,-1.275326331433978 L 2.95395005517529,-1.2606629964729175 L 2.9538047105366334,-1.2456270724441207 L 2.95401860487643,-1.2295740117220522 L 2.9548404100232215,-1.2118570709587289 L 2.956392216042542,-1.1920980912486796 L 2.957929687271545,-1.1720709401339304 L 2.9594329014854583,-1.151812874855773 L 2.9608361058668136,-1.1314837024983073 L 2.962127378754361,-1.111111681524236 L 2.963305817287515,-1.0906972614772705 L 2.964414783371742,-1.0701182764001627 L 2.9673313151046194,-1.044045685958665 L 2.96671072837646,-1.0276013433878628 L 2.9656126413462642,-1.0123247558600765 L 2.964464406995098,-0.9969981728964322 L 2.9639376376549906,-0.9795893163299393 L 2.963739330156782,-0.9608901327153381 L 2.96309150715191,-0.9432712464718992 L 2.9618883326802927,-0.9271315079499944 L 2.960613028781336,-0.9109782491654858 L 2.959267723374006,-0.8948033921463734 L 2.95785190214173,-0.8786071539488454 L 2.956365047623186,-0.8623897565228238 L 2.954806639207967,-0.8461514267921233 L 2.9531761531347747,-0.8298923967289362 L 2.9518340748156287,-0.8123021543666056 L 2.9517806569144716,-0.7895636177990925 L 2.9517107049546607,-0.7662612931721925 L 2.951479558179281,-0.7429170337900645 L 2.951085951234361,-0.7195317924711834 L 2.953033893334107,-0.6854007962425472 L 2.9581794515221866,-0.6348062997469383 L 2.9687719911114985,-0.5512630892334985 L 2.9701584288054286,-0.5093354532374822 L 2.9665789197268095,-0.49448045537365465 L 2.962935972444488,-0.4796057617566796 L 2.9593247644323277,-0.46410149983742965 L 2.956218105108335,-0.44477176483878983 L 2.9531767235057034,-0.4241708806163632 L 2.950003181870377,-0.40355093339043807 L 2.9466965521740605,-0.38291269915521847 L 2.943255903892957,-0.36225696828020043 L 2.9402297994797095,-0.33682193876822236 L 2.940868232503142,-0.27236251718981797 L 2.939453725666168,-0.21692913619834553 L 2.9338967353270053,-0.21054144453442764 L 2.9282395433576283,-0.2054126878426284 L 2.9225747808385356,-0.2002833802736019 L 2.916902400162793,-0.19515353070151045 L 2.9112223533436183,-0.19002314817663166 L 2.9055345920106888,-0.18489224192990475 L 2.8998390674066954,-0.1797608213733335 L 2.894135730383643,-0.17462889610352886 L 2.888424531399298,-0.16949647590224018 L 2.8827054205129876,-0.16436357074729419 L 2.8769783473823884,-0.1592301908061967 L 2.8712505514756392,-0.15396044935605097 L 2.8655560511832334,-0.1478820320469237 L 2.8598565539490615,-0.14166947972710653 L 2.8541448210862925,-0.13545629520445185 L 2.8484207738755805,-0.1292425000037383 L 2.8426843329745966,-0.12302811605155874 L 2.836935418412593,-0.11681316567973922 L 2.831173949584608,-0.11059767163583317 L 2.825399845245965,-0.10438165708573537 L 2.8196130235063417,-0.0981651456256855 L 2.8138136368109117,-0.09194096989875454 L 2.8080039421007013,-0.08563093202151482 L 2.8021815803334458,-0.07929565657186435 L 2.796345653240787,-0.07295996894271835 L 2.790496072250242,-0.06662389657305724 L 2.7846464808627767,-0.05964978663235772 L 2.778807708229456,-0.051196024413138815 L 2.772944807525534,-0.04268187752468603 L 2.7670563283517478,-0.03416729748449433 L 2.7611421023513523,-0.02565235983073655 L 2.7552019599286575,-0.01713714144735359 L 2.749235730240616,-0.008621720588697257 L 2.743243015344009,-0.0011181976644839696 L 2.743243015344009,0.0011181976644839696 z\" />\n",
        "            </g>\n",
        "            </svg>"
       ],
       "text": [
        "<shapely.geometry.polygon.Polygon at 0x9700dd8>"
       ]
      }
     ],
     "prompt_number": 28
    },
    {
     "cell_type": "code",
     "collapsed": false,
     "input": [
      "def visualRotation(x,original,new):\n",
      "    \n",
      "    rotatedShape = af.rotate(new, x)\n",
      "    \n",
      "    shapeIntersection = rotatedShape.intersection(original)\n",
      "    \n",
      "#     weightedOverlap = 0.\n",
      "    \n",
      "#     for i in range(numZones):\n",
      "#         weightedOverlap += shapeIntersection.intersection(zone[i]).area * zoneWeight[i]\n",
      "    \n",
      "#     print(-shapeIntersection.area)\n",
      "    \n",
      "    return -shapeIntersection.area\n",
      "\n",
      "\n",
      "minimizer_kwargs = {\"args\": (testcutout,straightCutout,), \"method\": 'Powell'}\n",
      "\n",
      "x0 = np.array([-90])\n",
      "\n",
      "output = basinhopping(visualRotation,x0,\n",
      "                      niter=3,minimizer_kwargs=minimizer_kwargs)\n",
      "\n",
      "straightCutout = af.rotate(straightCutout, output.x)\n",
      "\n",
      "output"
     ],
     "language": "python",
     "metadata": {},
     "outputs": [
      {
       "metadata": {},
       "output_type": "pyout",
       "prompt_number": 29,
       "text": [
        " minimization_failures: 0\n",
        "                   nit: 3\n",
        "                     x: array(-0.4466198956424787)\n",
        "               message: ['requested number of basinhopping iterations completed successfully']\n",
        "                  nfev: 93\n",
        "                   fun: array(-42.458294041863)"
       ]
      }
     ],
     "prompt_number": 29
    },
    {
     "cell_type": "code",
     "collapsed": false,
     "input": [
      "scaled_fig_start(10,10)\n",
      "\n",
      "plot(testcutout.exterior.xy[0],testcutout.exterior.xy[1],linewidth=2)\n",
      "plot(straightCutout.exterior.xy[0],straightCutout.exterior.xy[1],'k',linewidth=2,alpha=1)\n",
      "scatter(0,0,c='green',s=30)\n",
      "\n",
      "scaled_fig_end(10,10)"
     ],
     "language": "python",
     "metadata": {},
     "outputs": [
      {
       "metadata": {},
       "output_type": "display_data",
       "png": "[encoded data removed]",
       "text": [
        "<matplotlib.figure.Figure at 0x9700a58>"
       ]
      }
     ],
     "prompt_number": 30
    },
    {
     "cell_type": "code",
     "collapsed": false,
     "input": [
      "scaled_fig_start(10,10)\n",
      "\n",
      "\n",
      "# plot(straightCutout.exterior.xy[0],straightCutout.exterior.xy[1],'k',linewidth=2,alpha=0.5)\n",
      "scatter(0,0,c='green',s=40)\n",
      "\n",
      "for k in range(0,numZones,100):\n",
      "    plot(zone[k].exterior.xy[0],zone[k].exterior.xy[1],'k',linewidth=2,alpha=0.5)\n",
      "\n",
      "\n",
      "plot(testcutout.exterior.xy[0],testcutout.exterior.xy[1],linewidth=2)\n",
      "scaled_fig_end(10,10)"
     ],
     "language": "python",
     "metadata": {},
     "outputs": [
      {
       "metadata": {},
       "output_type": "display_data",
       "png": "[encoded data removed]",
       "text": [
        "<matplotlib.figure.Figure at 0xbd388d0>"
       ]
      }
     ],
     "prompt_number": 31
    },
    {
     "cell_type": "heading",
     "level": 2,
     "metadata": {},
     "source": [
      "Batch Straightening"
     ]
    },
    {
     "cell_type": "code",
     "collapsed": false,
     "input": [
      "centred_cutout = [0.]*len(cutoutRef)\n",
      "straightened_cutout = [0.]*len(cutoutRef)\n",
      "\n",
      "visual_angle = zeros(len(cutoutRef))\n",
      "\n",
      "for j in range(len(cutoutRef)):\n",
      "    \n",
      "    i = cutoutRef[j]\n",
      "\n",
      "    print(\"Cutout %d\" %i)\n",
      "    \n",
      "    a,b = middle_points[j,:]\n",
      "    centred_cutout[j] = af.translate(cutout[i], xoff=-a, yoff=-b)\n",
      "    \n",
      "\n",
      "    ratioAreaInZones = zeros(numZones)\n",
      "\n",
      "    for k in range(numZones):\n",
      "\n",
      "        ratioAreaInZones[k] = centred_cutout[j].intersection(zone[k]).area / zone[k].area\n",
      "\n",
      "    dotAngle = 90-90*ratioAreaInZones\n",
      "\n",
      "    x_store = array([])\n",
      "    y_store = array([])\n",
      "\n",
      "    for k in range(len(dotAngle)):\n",
      "\n",
      "        if (dotAngle[k] > 0) & (dotAngle[k] < 90):\n",
      "\n",
      "            hypot = zoneWidth[k]/2\n",
      "\n",
      "            y_val = hypot * sin(pi/180*dotAngle[k])\n",
      "            x_val = hypot * cos(pi/180*dotAngle[k])\n",
      "\n",
      "            x_store = append(x_store,x_val)\n",
      "            y_store = append(y_store,y_val)\n",
      "\n",
      "    ordered_x = concatenate((x_store,-x_store[::-1],-x_store,x_store[::-1]))\n",
      "    ordered_y = concatenate((y_store,y_store[::-1],-y_store,-y_store[::-1]))\n",
      "\n",
      "    straightened_cutout[j] = shapely_cutout(ordered_x,ordered_y)\n",
      "    \n",
      "    \n",
      "    minimizer_kwargs = {\"args\": (centred_cutout[j],straightened_cutout[j],), \"method\": 'Powell'}\n",
      "\n",
      "    x0 = np.array([-90])\n",
      "\n",
      "    output = basinhopping(visualRotation,x0,\n",
      "                          niter=3,minimizer_kwargs=minimizer_kwargs)\n",
      "    \n",
      "    visual_angle[j] = output.x\n",
      "\n",
      "    straightened_cutout[j] = af.rotate(straightened_cutout[j], visual_angle[j])\n"
     ],
     "language": "python",
     "metadata": {},
     "outputs": [
      {
       "output_type": "stream",
       "stream": "stdout",
       "text": [
        "Cutout 3\n",
        "Cutout 6"
       ]
      },
      {
       "output_type": "stream",
       "stream": "stdout",
       "text": [
        "\n",
        "Cutout 14"
       ]
      },
      {
       "output_type": "stream",
       "stream": "stdout",
       "text": [
        "\n",
        "Cutout 16"
       ]
      },
      {
       "output_type": "stream",
       "stream": "stdout",
       "text": [
        "\n",
        "Cutout 18"
       ]
      },
      {
       "output_type": "stream",
       "stream": "stdout",
       "text": [
        "\n",
        "Cutout 19"
       ]
      },
      {
       "output_type": "stream",
       "stream": "stdout",
       "text": [
        "\n",
        "Cutout 20"
       ]
      },
      {
       "output_type": "stream",
       "stream": "stdout",
       "text": [
        "\n",
        "Cutout 22"
       ]
      },
      {
       "output_type": "stream",
       "stream": "stdout",
       "text": [
        "\n",
        "Cutout 32"
       ]
      },
      {
       "output_type": "stream",
       "stream": "stdout",
       "text": [
        "\n",
        "Cutout 33"
       ]
      },
      {
       "output_type": "stream",
       "stream": "stdout",
       "text": [
        "\n",
        "Cutout 34"
       ]
      },
      {
       "output_type": "stream",
       "stream": "stdout",
       "text": [
        "\n",
        "Cutout 38"
       ]
      },
      {
       "output_type": "stream",
       "stream": "stdout",
       "text": [
        "\n",
        "Cutout 41"
       ]
      },
      {
       "output_type": "stream",
       "stream": "stdout",
       "text": [
        "\n",
        "Cutout 43"
       ]
      },
      {
       "output_type": "stream",
       "stream": "stdout",
       "text": [
        "\n",
        "Cutout 57"
       ]
      },
      {
       "output_type": "stream",
       "stream": "stdout",
       "text": [
        "\n",
        "Cutout 58"
       ]
      },
      {
       "output_type": "stream",
       "stream": "stdout",
       "text": [
        "\n",
        "Cutout 70"
       ]
      },
      {
       "output_type": "stream",
       "stream": "stdout",
       "text": [
        "\n",
        "Cutout 73"
       ]
      },
      {
       "output_type": "stream",
       "stream": "stdout",
       "text": [
        "\n",
        "Cutout 82"
       ]
      },
      {
       "output_type": "stream",
       "stream": "stdout",
       "text": [
        "\n",
        "Cutout 83"
       ]
      },
      {
       "output_type": "stream",
       "stream": "stdout",
       "text": [
        "\n",
        "Cutout 104"
       ]
      },
      {
       "output_type": "stream",
       "stream": "stdout",
       "text": [
        "\n",
        "Cutout 106"
       ]
      },
      {
       "output_type": "stream",
       "stream": "stdout",
       "text": [
        "\n",
        "Cutout 109"
       ]
      },
      {
       "output_type": "stream",
       "stream": "stdout",
       "text": [
        "\n",
        "Cutout 112"
       ]
      },
      {
       "output_type": "stream",
       "stream": "stdout",
       "text": [
        "\n"
       ]
      }
     ],
     "prompt_number": 32
    },
    {
     "cell_type": "code",
     "collapsed": false,
     "input": [
      "j = find(cutoutRef == 38)[0]\n",
      "i = cutoutRef[j]\n",
      "\n",
      "\n",
      "plot(centred_cutout[j].exterior.xy[0],centred_cutout[j].exterior.xy[1])\n",
      "plot(straightened_cutout[j].exterior.xy[0],straightened_cutout[j].exterior.xy[1],'r--')\n",
      "\n",
      "axis('equal')\n",
      "grid(True)"
     ],
     "language": "python",
     "metadata": {},
     "outputs": [
      {
       "metadata": {},
       "output_type": "display_data",
       "png": "[encoded data removed]",
       "text": [
        "<matplotlib.figure.Figure at 0xa848550>"
       ]
      }
     ],
     "prompt_number": 33
    },
    {
     "cell_type": "heading",
     "level": 2,
     "metadata": {},
     "source": [
      "Equivalent Ellipse Calc"
     ]
    },
    {
     "cell_type": "code",
     "collapsed": false,
     "input": [
      "# zoneWeight = 3000*widthFit.derivative()(zoneWidth)**2\n",
      "# plot(zoneWidth,zoneWeight)"
     ],
     "language": "python",
     "metadata": {},
     "outputs": [],
     "prompt_number": 34
    },
    {
     "cell_type": "code",
     "collapsed": false,
     "input": [
      "# numZones = 1000\n",
      "\n",
      "# zoneWidth = linspace(minVal,maxVal,numZones)\n",
      "\n",
      "# zoneWeight = zoneWeight = 3000*widthFit.derivative()(zoneWidth)**2\n",
      "\n",
      "# circle = [0,]*(numZones)\n",
      "# circle[0] = sh.Point(0,0).buffer(minVal/2)\n",
      "\n",
      "# zone = [0,]*numZones\n",
      "# zone[0] = circle[0]\n",
      "\n",
      "# for i in range(1,numZones-1):\n",
      "\n",
      "#     circle[i] = sh.Point(0,0).buffer(zoneWidth[i]/2)\n",
      "#     zone[i] = circle[i].difference(circle[i-1])\n",
      "\n",
      "# zone[-1] = sh.Point(0,0).buffer(20).difference(circle[-2])\n",
      "\n",
      "\n",
      "\n",
      "# def weightedAreaCalc(inputShape):\n",
      "    \n",
      "#     weightedArea = 0.\n",
      "    \n",
      "#     for i in range(numZones):\n",
      "#         weightedArea += inputShape.intersection(zone[i]).area * zoneWeight[i]\n",
      "        \n",
      "#     return weightedArea\n",
      "\n",
      "\n",
      "# def weightedAreaDifference(cutout,ellipse,a,b):\n",
      "    \n",
      "#     cutout = af.translate(cutout, xoff=-a, yoff=-b)\n",
      "#     ellipse = af.translate(ellipse, xoff=-a, yoff=-b)\n",
      "    \n",
      "#     return (weightedAreaCalc(ellipse.difference(cutout)) +\n",
      "#             weightedAreaCalc(cutout.difference(ellipse)))\n",
      "\n",
      "def weightedAreaDifference(cutout,ellipse,a,b):\n",
      "    \n",
      "    cutout = af.translate(cutout, xoff=-a, yoff=-b)\n",
      "    ellipse = af.translate(ellipse, xoff=-a, yoff=-b)\n",
      "    \n",
      "    return ellipse.difference(cutout).area + cutout.difference(ellipse).area\n",
      "    \n",
      "    \n",
      "  \n",
      "\n",
      "def ellipse_in_cutout(minimiserInput,cutout,weight):\n",
      "    \n",
      "    ellipse = create_ellipse(minimiserInput)\n",
      "    \n",
      "    a = minimiserInput[0]\n",
      "    b = minimiserInput[1]\n",
      "    \n",
      "    toMinimise = 100*weightedAreaDifference(cutout,ellipse,a,b)\n",
      "\n",
      "    return toMinimise\n",
      "\n",
      "\n",
      "\n",
      "\n",
      "class MyTakeStep(object):\n",
      "    \n",
      "    def __init__(self, stepsize=0.5):\n",
      "        self.stepsize = stepsize\n",
      "        \n",
      "    def __call__(self, x):\n",
      "        s = self.stepsize\n",
      "        x[0] += np.random.uniform(-3*s, 3*s)\n",
      "        x[1] += np.random.uniform(-3*s, 3*s)\n",
      "        x[2] += np.random.uniform(-6*s, 6*s)\n",
      "        x[3] += np.random.uniform(-8*s, 8*s)\n",
      "        x[4] += np.random.uniform(-90*s, 90*s)\n",
      "        \n",
      "        return x\n",
      "    \n",
      "\n",
      "def print_fun(x, f, accepted):\n",
      "\n",
      "    global successCount_basinhopping\n",
      "    global minVals_basinhopping\n",
      "    global nSuccess_basinhopping\n",
      "\n",
      "    a = x[0]\n",
      "    b = x[1]\n",
      "\n",
      "    w = abs(x[2])\n",
      "    l = abs(x[3])\n",
      "\n",
      "    if (l > w):\n",
      "        width = w\n",
      "        length = l\n",
      "        theta = np.mod(x[4],180)\n",
      "    else:\n",
      "        width = l\n",
      "        length = w\n",
      "        theta = np.mod(x[4]+90,180)\n",
      "    \n",
      "    f = np.around(f,4)\n",
      "    \n",
      "    if accepted:\n",
      "        \n",
      "        if np.all(np.isnan(minVals_basinhopping)):\n",
      "            \n",
      "            minVals_basinhopping[0] = f\n",
      "            successCount_basinhopping = 1\n",
      "            \n",
      "            print((\"first local minima of %.4f at:\\n\"+\n",
      "                \"[a,b] = [%.4f, %.4f],\"+\n",
      "                \" [width, length] = [%.4f, %.4f],\"+\n",
      "                \" theta = %.4f\\n\")\n",
      "                % (f,a,b,width,length,theta))\n",
      "            \n",
      "        elif (np.nanmin(minVals_basinhopping) == f):\n",
      "        \n",
      "            minVals_basinhopping[successCount_basinhopping] = f\n",
      "            successCount_basinhopping += 1\n",
      "            \n",
      "            print((\"agreeing local minima of %.4f at:\\n\"+\n",
      "                \"[a,b] = [%.4f, %.4f],\"+\n",
      "                \" [width, length] = [%.4f, %.4f],\"+\n",
      "                \" theta = %.4f\\n\")\n",
      "                % (f,a,b,width,length,theta))\n",
      "        \n",
      "        elif (np.nanmin(minVals_basinhopping) > f):\n",
      "        \n",
      "            minVals_basinhopping[0] = f\n",
      "            successCount_basinhopping = 1\n",
      "            \n",
      "            print((\"new local minima of %.4f at:\\n\"+\n",
      "                \"[a,b] = [%.4f, %.4f],\"+\n",
      "                \" [width, length] = [%.4f, %.4f],\"+\n",
      "                \" theta = %.4f\\n\") \n",
      "                % (f,a,b,width,length,theta))\n",
      "                \n",
      "        else:\n",
      "        \n",
      "            print((\"rejected local minima of %.4f at:\\n\"+\n",
      "                \"[a,b] = [%.4f, %.4f],\"+\n",
      "                \" [width, length] = [%.4f, %.4f],\"+\n",
      "                \" theta = %.4f\\n\") \n",
      "                % (f,a,b,width,length,theta))\n",
      "            \n",
      "        \n",
      "    else:\n",
      "        \n",
      "        print((\"failed to find local minima at:\\n\"+\n",
      "            \"[a,b] = [%.4f, %.4f],\"+\n",
      "            \" [width, length] = [%.4f, %.4f],\"+\n",
      "            \" theta = %.4f\\n\") \n",
      "            % (a,b,width,length,theta))\n",
      "          \n",
      "\n",
      "    if successCount_basinhopping >= nSuccess_basinhopping:\n",
      "        return True\n",
      "\n",
      "\n",
      "\n",
      "def straight_ellipse_calc(cutout,weight,userNSuccess,angle):\n",
      "    \n",
      "    mytakestep = MyTakeStep()\n",
      "    \n",
      "    global nSuccess_basinhopping\n",
      "    nSuccess_basinhopping = userNSuccess\n",
      "    \n",
      "    global minVals_basinhopping\n",
      "    minVals_basinhopping = np.empty(nSuccess_basinhopping)\n",
      "    minVals_basinhopping[:] = np.nan\n",
      "    \n",
      "    global successCount_basinhopping\n",
      "    successCount_basinhopping = 0\n",
      "        \n",
      "    minimizer_kwargs = {\"args\": (cutout,weight), \"method\": 'L-BFGS-B', \n",
      "                        \"bounds\": ((0,0),(0,0),\n",
      "                                   (minVal,maxVal),\n",
      "                                   (minVal,maxVal),\n",
      "                                   (angle,angle)) }\n",
      "    x0 = np.array([0,0,3,5,angle])\n",
      "\n",
      "    output = basinhopping(ellipse_in_cutout,x0,\n",
      "                          niter=1000,minimizer_kwargs=minimizer_kwargs,\n",
      "                          take_step=mytakestep, callback=print_fun)\n",
      "\n",
      "    return output"
     ],
     "language": "python",
     "metadata": {},
     "outputs": [],
     "prompt_number": 35
    },
    {
     "cell_type": "code",
     "collapsed": false,
     "input": [
      "ellipse_results = [0,]*len(cutoutRef)\n",
      "\n",
      "for j in range(len(cutoutRef)):\n",
      "    i = cutoutRef[j]\n",
      "    \n",
      "    print(\"Cutout %.f\" % (i))\n",
      "    ellipse_results[j] = straight_ellipse_calc(straightened_cutout[j],1,2,visual_angle[j])\n",
      "    print(\" \")"
     ],
     "language": "python",
     "metadata": {},
     "outputs": [
      {
       "output_type": "stream",
       "stream": "stdout",
       "text": [
        "Cutout 3\n",
        "first local minima of 61.9533 at:\n",
        "[a,b] = [0.0000, 0.0000], [width, length] = [4.4987, 6.0771], theta = 171.8465\n"
       ]
      },
      {
       "output_type": "stream",
       "stream": "stdout",
       "text": [
        "\n",
        "agreeing local minima of 61.9533 at:\n",
        "[a,b] = [0.0000, 0.0000], [width, length] = [4.4987, 6.0771], theta = 171.8465\n"
       ]
      },
      {
       "output_type": "stream",
       "stream": "stdout",
       "text": [
        "\n",
        " \n",
        "Cutout 6\n",
        "first local minima of 556.2569 at:\n",
        "[a,b] = [0.0000, 0.0000], [width, length] = [6.9962, 10.6694], theta = 17.8357\n"
       ]
      },
      {
       "output_type": "stream",
       "stream": "stdout",
       "text": [
        "\n",
        "agreeing local minima of 556.2569 at:\n",
        "[a,b] = [0.0000, 0.0000], [width, length] = [6.9962, 10.6694], theta = 17.8357\n"
       ]
      },
      {
       "output_type": "stream",
       "stream": "stdout",
       "text": [
        "\n",
        " \n",
        "Cutout 14\n",
        "first local minima of 62.8098 at:\n",
        "[a,b] = [0.0000, 0.0000], [width, length] = [4.3887, 5.2880], theta = 142.2589\n"
       ]
      },
      {
       "output_type": "stream",
       "stream": "stdout",
       "text": [
        "\n",
        "agreeing local minima of 62.8098 at:\n",
        "[a,b] = [0.0000, 0.0000], [width, length] = [4.3887, 5.2880], theta = 142.2589\n"
       ]
      },
      {
       "output_type": "stream",
       "stream": "stdout",
       "text": [
        "\n",
        " \n",
        "Cutout 16\n",
        "first local minima of 253.5485 at:\n",
        "[a,b] = [0.0000, 0.0000], [width, length] = [6.1078, 10.5159], theta = 170.9191\n"
       ]
      },
      {
       "output_type": "stream",
       "stream": "stdout",
       "text": [
        "\n",
        "agreeing local minima of 253.5485 at:\n",
        "[a,b] = [0.0000, 0.0000], [width, length] = [6.1078, 10.5159], theta = 170.9191\n"
       ]
      },
      {
       "output_type": "stream",
       "stream": "stdout",
       "text": [
        "\n",
        " \n",
        "Cutout 18\n",
        "first local minima of 180.1784 at:\n",
        "[a,b] = [0.0000, 0.0000], [width, length] = [7.6026, 10.0758], theta = 43.6695\n"
       ]
      },
      {
       "output_type": "stream",
       "stream": "stdout",
       "text": [
        "\n",
        "agreeing local minima of 180.1784 at:\n",
        "[a,b] = [0.0000, 0.0000], [width, length] = [7.6026, 10.0758], theta = 43.6695\n"
       ]
      },
      {
       "output_type": "stream",
       "stream": "stdout",
       "text": [
        "\n",
        " \n",
        "Cutout 19\n",
        "first local minima of 237.8095 at:\n",
        "[a,b] = [0.0000, 0.0000], [width, length] = [5.7998, 10.3750], theta = 86.0336\n"
       ]
      },
      {
       "output_type": "stream",
       "stream": "stdout",
       "text": [
        "\n",
        "agreeing local minima of 237.8095 at:\n",
        "[a,b] = [0.0000, 0.0000], [width, length] = [5.7998, 10.3750], theta = 86.0336\n"
       ]
      },
      {
       "output_type": "stream",
       "stream": "stdout",
       "text": [
        "\n",
        " \n",
        "Cutout 20\n",
        "first local minima of 43.6950 at:\n",
        "[a,b] = [0.0000, 0.0000], [width, length] = [4.2890, 5.1124], theta = 36.0110\n"
       ]
      },
      {
       "output_type": "stream",
       "stream": "stdout",
       "text": [
        "\n",
        "agreeing local minima of 43.6950 at:\n",
        "[a,b] = [0.0000, 0.0000], [width, length] = [4.2890, 5.1124], theta = 36.0110\n"
       ]
      },
      {
       "output_type": "stream",
       "stream": "stdout",
       "text": [
        "\n",
        " \n",
        "Cutout 22\n",
        "first local minima of 342.8536 at:\n",
        "[a,b] = [0.0000, 0.0000], [width, length] = [5.1781, 10.2609], theta = 118.5026\n"
       ]
      },
      {
       "output_type": "stream",
       "stream": "stdout",
       "text": [
        "\n",
        "agreeing local minima of 342.8536 at:\n",
        "[a,b] = [0.0000, 0.0000], [width, length] = [5.1781, 10.2609], theta = 118.5026\n"
       ]
      },
      {
       "output_type": "stream",
       "stream": "stdout",
       "text": [
        "\n",
        " \n",
        "Cutout 32\n",
        "first local minima of 940.1030 at:\n",
        "[a,b] = [0.0000, 0.0000], [width, length] = [7.7152, 11.1657], theta = 65.2545\n"
       ]
      },
      {
       "output_type": "stream",
       "stream": "stdout",
       "text": [
        "\n",
        "agreeing local minima of 940.1030 at:\n",
        "[a,b] = [0.0000, 0.0000], [width, length] = [7.7152, 11.1657], theta = 65.2545\n"
       ]
      },
      {
       "output_type": "stream",
       "stream": "stdout",
       "text": [
        "\n",
        " \n",
        "Cutout 33\n",
        "first local minima of 27.9050 at:\n",
        "[a,b] = [0.0000, 0.0000], [width, length] = [5.9057, 6.2095], theta = 5.9845\n"
       ]
      },
      {
       "output_type": "stream",
       "stream": "stdout",
       "text": [
        "\n",
        "agreeing local minima of 27.9050 at:\n",
        "[a,b] = [0.0000, 0.0000], [width, length] = [5.9057, 6.2095], theta = 5.9845\n"
       ]
      },
      {
       "output_type": "stream",
       "stream": "stdout",
       "text": [
        "\n",
        " \n",
        "Cutout 34\n",
        "first local minima of 246.9361 at:\n",
        "[a,b] = [0.0000, 0.0000], [width, length] = [7.0447, 9.6741], theta = 49.5904\n"
       ]
      },
      {
       "output_type": "stream",
       "stream": "stdout",
       "text": [
        "\n",
        "agreeing local minima of 246.9361 at:\n",
        "[a,b] = [0.0000, 0.0000], [width, length] = [7.0447, 9.6741], theta = 49.5904\n"
       ]
      },
      {
       "output_type": "stream",
       "stream": "stdout",
       "text": [
        "\n",
        " \n",
        "Cutout 38\n",
        "first local minima of 61.3259 at:\n",
        "[a,b] = [0.0000, 0.0000], [width, length] = [4.6775, 5.7242], theta = 115.0504\n"
       ]
      },
      {
       "output_type": "stream",
       "stream": "stdout",
       "text": [
        "\n",
        "agreeing local minima of 61.3259 at:\n",
        "[a,b] = [0.0000, 0.0000], [width, length] = [4.6775, 5.7242], theta = 115.0504\n"
       ]
      },
      {
       "output_type": "stream",
       "stream": "stdout",
       "text": [
        "\n",
        " \n",
        "Cutout 41\n",
        "first local minima of 101.4130 at:\n",
        "[a,b] = [0.0000, 0.0000], [width, length] = [6.9191, 10.0118], theta = 146.9746\n"
       ]
      },
      {
       "output_type": "stream",
       "stream": "stdout",
       "text": [
        "\n",
        "agreeing local minima of 101.4130 at:\n",
        "[a,b] = [0.0000, 0.0000], [width, length] = [6.9191, 10.0118], theta = 146.9746\n"
       ]
      },
      {
       "output_type": "stream",
       "stream": "stdout",
       "text": [
        "\n",
        " \n",
        "Cutout 43\n",
        "first local minima of 43.0571 at:\n",
        "[a,b] = [0.0000, 0.0000], [width, length] = [6.1002, 7.7357], theta = 115.6672\n"
       ]
      },
      {
       "output_type": "stream",
       "stream": "stdout",
       "text": [
        "\n",
        "agreeing local minima of 43.0571 at:\n",
        "[a,b] = [0.0000, 0.0000], [width, length] = [6.1002, 7.7357], theta = 115.6672\n"
       ]
      },
      {
       "output_type": "stream",
       "stream": "stdout",
       "text": [
        "\n",
        " \n",
        "Cutout 57\n",
        "first local minima of 42.8046 at:\n",
        "[a,b] = [0.0000, 0.0000], [width, length] = [3.5747, 4.6188], theta = 0.6015\n"
       ]
      },
      {
       "output_type": "stream",
       "stream": "stdout",
       "text": [
        "\n",
        "agreeing local minima of 42.8046 at:\n",
        "[a,b] = [0.0000, 0.0000], [width, length] = [3.5747, 4.6188], theta = 0.6015\n"
       ]
      },
      {
       "output_type": "stream",
       "stream": "stdout",
       "text": [
        "\n",
        " \n",
        "Cutout 58\n",
        "first local minima of 95.4860 at:\n",
        "[a,b] = [0.0000, 0.0000], [width, length] = [5.8804, 7.4549], theta = 29.8452\n"
       ]
      },
      {
       "output_type": "stream",
       "stream": "stdout",
       "text": [
        "\n",
        "agreeing local minima of 95.4860 at:\n",
        "[a,b] = [0.0000, 0.0000], [width, length] = [5.8804, 7.4549], theta = 29.8452\n"
       ]
      },
      {
       "output_type": "stream",
       "stream": "stdout",
       "text": [
        "\n",
        " \n",
        "Cutout 70\n",
        "first local minima of 68.1437 at:\n",
        "[a,b] = [0.0000, 0.0000], [width, length] = [7.4610, 8.3632], theta = 169.8589\n"
       ]
      },
      {
       "output_type": "stream",
       "stream": "stdout",
       "text": [
        "\n",
        "agreeing local minima of 68.1437 at:\n",
        "[a,b] = [0.0000, 0.0000], [width, length] = [7.4610, 8.3632], theta = 169.8589\n"
       ]
      },
      {
       "output_type": "stream",
       "stream": "stdout",
       "text": [
        "\n",
        " \n",
        "Cutout 73\n",
        "first local minima of 265.4707 at:\n",
        "[a,b] = [0.0000, 0.0000], [width, length] = [7.2941, 9.1378], theta = 109.0199\n"
       ]
      },
      {
       "output_type": "stream",
       "stream": "stdout",
       "text": [
        "\n",
        "agreeing local minima of 265.4707 at:\n",
        "[a,b] = [0.0000, 0.0000], [width, length] = [7.2941, 9.1378], theta = 109.0199\n"
       ]
      },
      {
       "output_type": "stream",
       "stream": "stdout",
       "text": [
        "\n",
        " \n",
        "Cutout 82\n",
        "first local minima of 130.8533 at:\n",
        "[a,b] = [0.0000, 0.0000], [width, length] = [6.2688, 7.9747], theta = 177.1163\n"
       ]
      },
      {
       "output_type": "stream",
       "stream": "stdout",
       "text": [
        "\n",
        "agreeing local minima of 130.8533 at:\n",
        "[a,b] = [0.0000, 0.0000], [width, length] = [6.2688, 7.9747], theta = 177.1163\n"
       ]
      },
      {
       "output_type": "stream",
       "stream": "stdout",
       "text": [
        "\n",
        " \n",
        "Cutout 83\n",
        "first local minima of 110.5096 at:\n",
        "[a,b] = [0.0000, 0.0000], [width, length] = [5.7823, 7.9311], theta = 165.7175\n"
       ]
      },
      {
       "output_type": "stream",
       "stream": "stdout",
       "text": [
        "\n",
        "agreeing local minima of 110.5096 at:\n",
        "[a,b] = [0.0000, 0.0000], [width, length] = [5.7823, 7.9311], theta = 165.7175\n"
       ]
      },
      {
       "output_type": "stream",
       "stream": "stdout",
       "text": [
        "\n",
        " \n",
        "Cutout 104\n",
        "first local minima of 153.2798 at:\n",
        "[a,b] = [0.0000, 0.0000], [width, length] = [5.6589, 8.3283], theta = 155.0258\n"
       ]
      },
      {
       "output_type": "stream",
       "stream": "stdout",
       "text": [
        "\n",
        "agreeing local minima of 153.2798 at:\n",
        "[a,b] = [0.0000, 0.0000], [width, length] = [5.6589, 8.3283], theta = 155.0258\n"
       ]
      },
      {
       "output_type": "stream",
       "stream": "stdout",
       "text": [
        "\n",
        " \n",
        "Cutout 106\n",
        "first local minima of 435.2211 at:\n",
        "[a,b] = [0.0000, 0.0000], [width, length] = [6.0872, 9.7082], theta = 154.4106\n"
       ]
      },
      {
       "output_type": "stream",
       "stream": "stdout",
       "text": [
        "\n",
        "agreeing local minima of 435.2211 at:\n",
        "[a,b] = [0.0000, 0.0000], [width, length] = [6.0872, 9.7082], theta = 154.4106\n"
       ]
      },
      {
       "output_type": "stream",
       "stream": "stdout",
       "text": [
        "\n",
        " \n",
        "Cutout 109\n",
        "first local minima of 127.2634 at:\n",
        "[a,b] = [0.0000, 0.0000], [width, length] = [6.3068, 7.8272], theta = 38.3637\n"
       ]
      },
      {
       "output_type": "stream",
       "stream": "stdout",
       "text": [
        "\n",
        "agreeing local minima of 127.2634 at:\n",
        "[a,b] = [0.0000, 0.0000], [width, length] = [6.3068, 7.8272], theta = 38.3637\n"
       ]
      },
      {
       "output_type": "stream",
       "stream": "stdout",
       "text": [
        "\n",
        " \n",
        "Cutout 112\n",
        "first local minima of 16.2029 at:\n",
        "[a,b] = [0.0000, 0.0000], [width, length] = [3.5387, 4.1496], theta = 100.8248\n"
       ]
      },
      {
       "output_type": "stream",
       "stream": "stdout",
       "text": [
        "\n",
        "agreeing local minima of 16.2029 at:\n",
        "[a,b] = [0.0000, 0.0000], [width, length] = [3.5387, 4.1496], theta = 100.8248\n"
       ]
      },
      {
       "output_type": "stream",
       "stream": "stdout",
       "text": [
        "\n",
        " \n"
       ]
      }
     ],
     "prompt_number": 36
    },
    {
     "cell_type": "code",
     "collapsed": false,
     "input": [
      "ellipse_def = zeros([len(cutoutRef),5])\n",
      "\n",
      "for j in range(len(cutoutRef)):\n",
      "    ellipse_def[j,:] = array(ellipse_results[j].x)"
     ],
     "language": "python",
     "metadata": {},
     "outputs": [],
     "prompt_number": 37
    },
    {
     "cell_type": "code",
     "collapsed": false,
     "input": [
      "j = find(cutoutRef == 14)[0]\n",
      "i = cutoutRef[j]\n",
      "\n",
      "\n",
      "ellipse = create_ellipse(ellipse_def[j,:])\n",
      "\n",
      "scaled_fig_start(12,12)\n",
      "\n",
      "\n",
      "plot(centred_cutout[j].exterior.xy[0],centred_cutout[j].exterior.xy[1])\n",
      "plot(straightened_cutout[j].exterior.xy[0],straightened_cutout[j].exterior.xy[1],'r--')\n",
      "plot(ellipse.exterior.xy[0],ellipse.exterior.xy[1],'g')\n",
      "\n",
      "text(-5,5,('Width: %.2f cm' % (ellipse_def[j,2])),fontsize=11)\n",
      "text(-5,4.5,('Length: %.2f cm' % (ellipse_def[j,3])),fontsize=11)\n",
      "\n",
      "\n",
      "scaled_fig_end(12,12)"
     ],
     "language": "python",
     "metadata": {},
     "outputs": [
      {
       "metadata": {},
       "output_type": "display_data",
       "png": "[encoded data removed]",
       "text": [
        "<matplotlib.figure.Figure at 0x951cba8>"
       ]
      }
     ],
     "prompt_number": 38
    },
    {
     "cell_type": "code",
     "collapsed": false,
     "input": [
      "a = ellipse_def[:,0]\n",
      "b = ellipse_def[:,1]\n",
      "\n",
      "new_width = zeros([len(cutoutRef)])\n",
      "new_length = zeros([len(cutoutRef)])\n",
      "theta = zeros([len(cutoutRef)])\n",
      "\n",
      "w = abs(ellipse_def[:,2])\n",
      "l = abs(ellipse_def[:,3])\n",
      "\n",
      "ref = l > w\n",
      "\n",
      "new_width[ref] = w[ref]\n",
      "new_length[ref] = l[ref]\n",
      "theta[ref] = mod(ellipse_def[:,4],180)[ref]\n",
      "\n",
      "new_width[~ref] = l[~ref]\n",
      "new_length[~ref] = w[~ref]\n",
      "theta[~ref] = mod(ellipse_def[:,4]+90,180)[~ref]"
     ],
     "language": "python",
     "metadata": {},
     "outputs": [],
     "prompt_number": 39
    },
    {
     "cell_type": "code",
     "collapsed": false,
     "input": [
      "width[0:24] - new_width"
     ],
     "language": "python",
     "metadata": {},
     "outputs": [
      {
       "metadata": {},
       "output_type": "pyout",
       "prompt_number": 40,
       "text": [
        "array([-0.01432214, -0.147601  ,  0.00259141,  0.14693614, -0.13047532,\n",
        "       -0.25075809, -0.02924766, -0.06806439, -0.18854346, -0.00087269,\n",
        "       -0.13177121, -0.02467374, -0.10171873, -0.00491839, -0.00985364,\n",
        "        0.00935551, -0.08438723, -0.1036374 ,  0.0445798 , -0.11523122,\n",
        "       -0.21834959, -0.17281856,  0.01468404, -0.00077132])"
       ]
      }
     ],
     "prompt_number": 40
    },
    {
     "cell_type": "code",
     "collapsed": false,
     "input": [
      "cutoutRef"
     ],
     "language": "python",
     "metadata": {},
     "outputs": [
      {
       "metadata": {},
       "output_type": "pyout",
       "prompt_number": 41,
       "text": [
        "array([  3,   6,  14,  16,  18,  19,  20,  22,  32,  33,  34,  38,  41,\n",
        "        43,  57,  58,  70,  73,  82,  83, 104, 106, 109, 112])"
       ]
      }
     ],
     "prompt_number": 41
    },
    {
     "cell_type": "code",
     "collapsed": false,
     "input": [
      "# Display table\n",
      "df = pd.DataFrame(transpose([cutoutRef, width[0:24], new_width, length[0:24], new_length, factor[0:24]]))\n",
      "df.columns = ['cutoutRef','width', 'new_width', 'length', 'new_length' , 'factor']\n",
      "\n",
      "df.to_csv(path_or_buf = \"new_cutoutdata.csv\", index=False)\n",
      "\n",
      "df"
     ],
     "language": "python",
     "metadata": {},
     "outputs": [
      {
       "html": [
        "<div style=\"max-height:1000px;max-width:1500px;overflow:auto;\">\n",
        "<table border=\"1\" class=\"dataframe\">\n",
        "  <thead>\n",
        "    <tr style=\"text-align: right;\">\n",
        "      <th></th>\n",
        "      <th>cutoutRef</th>\n",
        "      <th>width</th>\n",
        "      <th>new_width</th>\n",
        "      <th>length</th>\n",
        "      <th>new_length</th>\n",
        "      <th>factor</th>\n",
        "    </tr>\n",
        "  </thead>\n",
        "  <tbody>\n",
        "    <tr>\n",
        "      <th>0 </th>\n",
        "      <td>   3</td>\n",
        "      <td> 4.484404</td>\n",
        "      <td> 4.498726</td>\n",
        "      <td>  6.136510</td>\n",
        "      <td>  6.077114</td>\n",
        "      <td> 1.032704</td>\n",
        "    </tr>\n",
        "    <tr>\n",
        "      <th>1 </th>\n",
        "      <td>   6</td>\n",
        "      <td> 6.848634</td>\n",
        "      <td> 6.996235</td>\n",
        "      <td> 10.332762</td>\n",
        "      <td> 10.669437</td>\n",
        "      <td> 1.001302</td>\n",
        "    </tr>\n",
        "    <tr>\n",
        "      <th>2 </th>\n",
        "      <td>  14</td>\n",
        "      <td> 4.391292</td>\n",
        "      <td> 4.388701</td>\n",
        "      <td>  5.270661</td>\n",
        "      <td>  5.288022</td>\n",
        "      <td> 1.043027</td>\n",
        "    </tr>\n",
        "    <tr>\n",
        "      <th>3 </th>\n",
        "      <td>  16</td>\n",
        "      <td> 6.254735</td>\n",
        "      <td> 6.107799</td>\n",
        "      <td> 10.368288</td>\n",
        "      <td> 10.515871</td>\n",
        "      <td> 0.999567</td>\n",
        "    </tr>\n",
        "    <tr>\n",
        "      <th>4 </th>\n",
        "      <td>  18</td>\n",
        "      <td> 7.472170</td>\n",
        "      <td> 7.602645</td>\n",
        "      <td> 10.011654</td>\n",
        "      <td> 10.075798</td>\n",
        "      <td> 0.998054</td>\n",
        "    </tr>\n",
        "    <tr>\n",
        "      <th>5 </th>\n",
        "      <td>  19</td>\n",
        "      <td> 5.549091</td>\n",
        "      <td> 5.799849</td>\n",
        "      <td> 10.134021</td>\n",
        "      <td> 10.375006</td>\n",
        "      <td> 1.001089</td>\n",
        "    </tr>\n",
        "    <tr>\n",
        "      <th>6 </th>\n",
        "      <td>  20</td>\n",
        "      <td> 4.259799</td>\n",
        "      <td> 4.289047</td>\n",
        "      <td>  5.122864</td>\n",
        "      <td>  5.112375</td>\n",
        "      <td> 1.037967</td>\n",
        "    </tr>\n",
        "    <tr>\n",
        "      <th>7 </th>\n",
        "      <td>  22</td>\n",
        "      <td> 5.110011</td>\n",
        "      <td> 5.178076</td>\n",
        "      <td> 10.251878</td>\n",
        "      <td> 10.260920</td>\n",
        "      <td> 1.011713</td>\n",
        "    </tr>\n",
        "    <tr>\n",
        "      <th>8 </th>\n",
        "      <td>  32</td>\n",
        "      <td> 7.526681</td>\n",
        "      <td> 7.715225</td>\n",
        "      <td> 10.998181</td>\n",
        "      <td> 11.165712</td>\n",
        "      <td> 0.993330</td>\n",
        "    </tr>\n",
        "    <tr>\n",
        "      <th>9 </th>\n",
        "      <td>  33</td>\n",
        "      <td> 5.904805</td>\n",
        "      <td> 5.905678</td>\n",
        "      <td>  6.208632</td>\n",
        "      <td>  6.209543</td>\n",
        "      <td> 1.006789</td>\n",
        "    </tr>\n",
        "    <tr>\n",
        "      <th>10</th>\n",
        "      <td>  34</td>\n",
        "      <td> 6.912947</td>\n",
        "      <td> 7.044718</td>\n",
        "      <td>  9.578994</td>\n",
        "      <td>  9.674088</td>\n",
        "      <td> 0.993330</td>\n",
        "    </tr>\n",
        "    <tr>\n",
        "      <th>11</th>\n",
        "      <td>  38</td>\n",
        "      <td> 4.652777</td>\n",
        "      <td> 4.677451</td>\n",
        "      <td>  5.727794</td>\n",
        "      <td>  5.724189</td>\n",
        "      <td> 1.027190</td>\n",
        "    </tr>\n",
        "    <tr>\n",
        "      <th>12</th>\n",
        "      <td>  41</td>\n",
        "      <td> 6.817334</td>\n",
        "      <td> 6.919052</td>\n",
        "      <td> 10.014400</td>\n",
        "      <td> 10.011766</td>\n",
        "      <td> 0.994829</td>\n",
        "    </tr>\n",
        "    <tr>\n",
        "      <th>13</th>\n",
        "      <td>  43</td>\n",
        "      <td> 6.095283</td>\n",
        "      <td> 6.100202</td>\n",
        "      <td>  7.754348</td>\n",
        "      <td>  7.735733</td>\n",
        "      <td> 1.007783</td>\n",
        "    </tr>\n",
        "    <tr>\n",
        "      <th>14</th>\n",
        "      <td>  57</td>\n",
        "      <td> 3.564813</td>\n",
        "      <td> 3.574667</td>\n",
        "      <td>  4.626695</td>\n",
        "      <td>  4.618824</td>\n",
        "      <td> 1.059704</td>\n",
        "    </tr>\n",
        "    <tr>\n",
        "      <th>15</th>\n",
        "      <td>  58</td>\n",
        "      <td> 5.889774</td>\n",
        "      <td> 5.880419</td>\n",
        "      <td>  7.441537</td>\n",
        "      <td>  7.454923</td>\n",
        "      <td> 1.008999</td>\n",
        "    </tr>\n",
        "    <tr>\n",
        "      <th>16</th>\n",
        "      <td>  70</td>\n",
        "      <td> 7.376619</td>\n",
        "      <td> 7.461006</td>\n",
        "      <td>  8.625289</td>\n",
        "      <td>  8.363232</td>\n",
        "      <td> 0.997190</td>\n",
        "    </tr>\n",
        "    <tr>\n",
        "      <th>17</th>\n",
        "      <td>  73</td>\n",
        "      <td> 7.190506</td>\n",
        "      <td> 7.294143</td>\n",
        "      <td>  9.602273</td>\n",
        "      <td>  9.137754</td>\n",
        "      <td> 0.995472</td>\n",
        "    </tr>\n",
        "    <tr>\n",
        "      <th>18</th>\n",
        "      <td>  82</td>\n",
        "      <td> 6.313361</td>\n",
        "      <td> 6.268781</td>\n",
        "      <td>  7.884968</td>\n",
        "      <td>  7.974677</td>\n",
        "      <td> 1.000867</td>\n",
        "    </tr>\n",
        "    <tr>\n",
        "      <th>19</th>\n",
        "      <td>  83</td>\n",
        "      <td> 5.667032</td>\n",
        "      <td> 5.782263</td>\n",
        "      <td>  8.415000</td>\n",
        "      <td>  7.931109</td>\n",
        "      <td> 1.010552</td>\n",
        "    </tr>\n",
        "    <tr>\n",
        "      <th>20</th>\n",
        "      <td> 104</td>\n",
        "      <td> 5.440583</td>\n",
        "      <td> 5.658933</td>\n",
        "      <td>  9.067747</td>\n",
        "      <td>  8.328343</td>\n",
        "      <td> 1.006601</td>\n",
        "    </tr>\n",
        "    <tr>\n",
        "      <th>21</th>\n",
        "      <td> 106</td>\n",
        "      <td> 5.914386</td>\n",
        "      <td> 6.087204</td>\n",
        "      <td>  9.902046</td>\n",
        "      <td>  9.708158</td>\n",
        "      <td> 1.000871</td>\n",
        "    </tr>\n",
        "    <tr>\n",
        "      <th>22</th>\n",
        "      <td> 109</td>\n",
        "      <td> 6.321438</td>\n",
        "      <td> 6.306754</td>\n",
        "      <td>  7.786481</td>\n",
        "      <td>  7.827168</td>\n",
        "      <td> 1.006979</td>\n",
        "    </tr>\n",
        "    <tr>\n",
        "      <th>23</th>\n",
        "      <td> 112</td>\n",
        "      <td> 3.537958</td>\n",
        "      <td> 3.538729</td>\n",
        "      <td>  4.146843</td>\n",
        "      <td>  4.149551</td>\n",
        "      <td> 1.053904</td>\n",
        "    </tr>\n",
        "  </tbody>\n",
        "</table>\n",
        "</div>"
       ],
       "metadata": {},
       "output_type": "pyout",
       "prompt_number": 42,
       "text": [
        "    cutoutRef     width  new_width     length  new_length    factor\n",
        "0           3  4.484404   4.498726   6.136510    6.077114  1.032704\n",
        "1           6  6.848634   6.996235  10.332762   10.669437  1.001302\n",
        "2          14  4.391292   4.388701   5.270661    5.288022  1.043027\n",
        "3          16  6.254735   6.107799  10.368288   10.515871  0.999567\n",
        "4          18  7.472170   7.602645  10.011654   10.075798  0.998054\n",
        "5          19  5.549091   5.799849  10.134021   10.375006  1.001089\n",
        "6          20  4.259799   4.289047   5.122864    5.112375  1.037967\n",
        "7          22  5.110011   5.178076  10.251878   10.260920  1.011713\n",
        "8          32  7.526681   7.715225  10.998181   11.165712  0.993330\n",
        "9          33  5.904805   5.905678   6.208632    6.209543  1.006789\n",
        "10         34  6.912947   7.044718   9.578994    9.674088  0.993330\n",
        "11         38  4.652777   4.677451   5.727794    5.724189  1.027190\n",
        "12         41  6.817334   6.919052  10.014400   10.011766  0.994829\n",
        "13         43  6.095283   6.100202   7.754348    7.735733  1.007783\n",
        "14         57  3.564813   3.574667   4.626695    4.618824  1.059704\n",
        "15         58  5.889774   5.880419   7.441537    7.454923  1.008999\n",
        "16         70  7.376619   7.461006   8.625289    8.363232  0.997190\n",
        "17         73  7.190506   7.294143   9.602273    9.137754  0.995472\n",
        "18         82  6.313361   6.268781   7.884968    7.974677  1.000867\n",
        "19         83  5.667032   5.782263   8.415000    7.931109  1.010552\n",
        "20        104  5.440583   5.658933   9.067747    8.328343  1.006601\n",
        "21        106  5.914386   6.087204   9.902046    9.708158  1.000871\n",
        "22        109  6.321438   6.306754   7.786481    7.827168  1.006979\n",
        "23        112  3.537958   3.538729   4.146843    4.149551  1.053904"
       ]
      }
     ],
     "prompt_number": 42
    },
    {
     "cell_type": "code",
     "collapsed": false,
     "input": [],
     "language": "python",
     "metadata": {},
     "outputs": [],
     "prompt_number": 42
    }
   ],
   "metadata": {}
  }
 ]
}