{
 "cells": [
  {
   "cell_type": "code",
   "execution_count": 1,
   "metadata": {
    "collapsed": false
   },
   "outputs": [],
   "source": [
    "import yaml\n",
    "import numpy as np\n",
    "\n",
    "import matplotlib.pyplot as plt\n",
    "%matplotlib inline\n",
    "\n",
    "import traceback\n",
    "from glob import glob\n",
    "\n",
    "import sys\n",
    "sys.path.append(\"../\")\n",
    "\n",
    "from electronfactors.inputs.convert_merge_guess import convert_merge_guess\n",
    "from electronfactors.model.initialise import create_cache\n",
    "\n",
    "from electronfactors.ellipse.equivalent import EquivalentEllipse\n",
    "\n",
    "from electronfactors.model.iteration import iteration, create_fit\n",
    "\n",
    "from electronfactors.model.display_cutouts import display_cutouts"
   ]
  },
  {
   "cell_type": "code",
   "execution_count": 2,
   "metadata": {
    "collapsed": true
   },
   "outputs": [],
   "source": [
    "# convert_merge_guess()"
   ]
  },
  {
   "cell_type": "code",
   "execution_count": 3,
   "metadata": {
    "collapsed": false
   },
   "outputs": [],
   "source": [
    "# energy_list = [6, 9, 12, 15, 18]\n",
    "# app_list = [6, 10, 14, 20, 25]\n",
    "\n",
    "# for energy in energy_list:\n",
    "#     for applicator in app_list:\n",
    "#         try:\n",
    "#             create_cache(energy=energy, applicator=applicator)\n",
    "#         except:\n",
    "#             print(\"Energy = %d\\nApplicator = %d\\n\" % (energy, applicator))\n",
    "#             traceback.print_exc()"
   ]
  },
  {
   "cell_type": "code",
   "execution_count": 4,
   "metadata": {
    "collapsed": false
   },
   "outputs": [],
   "source": [
    "model_filepaths = glob(\"model_cache/*\")\n",
    "\n"
   ]
  },
  {
   "cell_type": "code",
   "execution_count": 5,
   "metadata": {
    "collapsed": true
   },
   "outputs": [],
   "source": [
    "# for filepath in model_filepaths:\n",
    "#     try:\n",
    "#         iteration(filepath=filepath, n=3)\n",
    "#     except:\n",
    "#         print(\"Energy = %d\\nApplicator = %d\\n\" % (energy, applicator))\n",
    "#         traceback.print_exc()\n",
    "    "
   ]
  },
  {
   "cell_type": "code",
   "execution_count": 6,
   "metadata": {
    "collapsed": false
   },
   "outputs": [],
   "source": [
    "filepath = model_filepaths[1]"
   ]
  },
  {
   "cell_type": "code",
   "execution_count": 7,
   "metadata": {
    "collapsed": false
   },
   "outputs": [
    {
     "data": {
      "text/plain": [
       "'model_cache/18MeV_10app_100ssd.yml'"
      ]
     },
     "execution_count": 7,
     "metadata": {},
     "output_type": "execute_result"
    }
   ],
   "source": [
    "filepath"
   ]
  },
  {
   "cell_type": "code",
   "execution_count": 9,
   "metadata": {
    "collapsed": false
   },
   "outputs": [],
   "source": [
    "with open(filepath, 'r') as inputFile:\n",
    "    input_dict = yaml.load(inputFile)"
   ]
  },
  {
   "cell_type": "code",
   "execution_count": 12,
   "metadata": {
    "collapsed": false
   },
   "outputs": [],
   "source": [
    "label = [key for key in input_dict]\n",
    "poi = [input_dict[key]['poi'] for key in label]\n",
    "\n",
    "width = np.array([input_dict[key]['width'] for key in label])\n",
    "length = np.array([input_dict[key]['length'] for key in label])\n",
    "factor = np.array([input_dict[key]['factor'] for key in label])\n",
    "fit = create_fit(width, length, factor)"
   ]
  },
  {
   "cell_type": "code",
   "execution_count": 13,
   "metadata": {
    "collapsed": true
   },
   "outputs": [],
   "source": [
    "# min_radii = np.min(width/2)\n",
    "min_radii = 0.1  # This is temporary\n",
    "\n",
    "def circle_fit(radii):\n",
    "    if radii >= min_radii:\n",
    "        result = fit(radii*2, 2/radii)\n",
    "    else:\n",
    "        result = 0.\n",
    "    return result"
   ]
  },
  {
   "cell_type": "code",
   "execution_count": null,
   "metadata": {
    "collapsed": false
   },
   "outputs": [],
   "source": [
    "output_dict = dict()\n",
    "for i, key in enumerate(label):\n",
    "    XCoords = input_dict[key]['XCoords']\n",
    "    YCoords = input_dict[key]['YCoords']\n",
    "\n",
    "    equivalent_ellipse = EquivalentEllipse(\n",
    "        x=XCoords, y=YCoords,\n",
    "        circle_fit=circle_fit, n=3,\n",
    "        min_distance=min_radii,\n",
    "        poi=poi[i]\n",
    "    )\n",
    "\n",
    "    output_dict[key] = dict()\n",
    "    output_dict[key]['width'] = equivalent_ellipse.width\n",
    "    output_dict[key]['length'] = equivalent_ellipse.length"
   ]
  },
  {
   "cell_type": "code",
   "execution_count": null,
   "metadata": {
    "collapsed": true
   },
   "outputs": [],
   "source": [
    "def predict_factor(fit, width, length):\n",
    "    ratio = width/length\n",
    "    eqPonA = 2*(3*(ratio+1) - np.sqrt((3*ratio+1)*(ratio+3))) / width\n",
    "\n",
    "    return fit(width, eqPonA)"
   ]
  },
  {
   "cell_type": "code",
   "execution_count": null,
   "metadata": {
    "collapsed": true
   },
   "outputs": [],
   "source": [
    "width_new = np.array([output_dict[key]['width'] for key in label])\n",
    "length_new = np.array([output_dict[key]['length'] for key in label])\n",
    "\n",
    "for i, key in enumerate(label):\n",
    "    width_test = np.delete(width_new, i)\n",
    "    length_test = np.delete(length_new, i)\n",
    "    factor_test = np.delete(factor, i)\n",
    "\n",
    "    fit_test = create_fit(width_test, length_test, factor_test)\n",
    "\n",
    "    predicted_factor = predict_factor(\n",
    "        fit_test, width_new[i], length_new[i])\n",
    "\n",
    "    output_dict[key]['predicted_factor'] = round(\n",
    "        float(predicted_factor), 4)\n",
    "\n",
    "for i, key in enumerate(label):\n",
    "    output_dict[key]['XCoords'] = input_dict[key]['XCoords']\n",
    "    output_dict[key]['YCoords'] = input_dict[key]['YCoords']\n",
    "    output_dict[key]['factor'] = input_dict[key]['factor']\n",
    "    output_dict[key]['energy'] = input_dict[key]['energy']\n",
    "    output_dict[key]['applicator'] = input_dict[key]['applicator']\n",
    "    output_dict[key]['ssd'] = input_dict[key]['ssd']\n",
    "    output_dict[key]['poi'] = input_dict[key]['poi']\n",
    "\n",
    "    output_dict[key]['width'] = round(\n",
    "        float(output_dict[key]['width']), 2)\n",
    "    output_dict[key]['length'] = round(\n",
    "        float(output_dict[key]['length']), 2)\n",
    "\n",
    "with open(filepath, 'w') as outfile:\n",
    "    outfile.write(yaml.dump(output_dict, default_flow_style=False))\n"
   ]
  }
 ],
 "metadata": {
  "kernelspec": {
   "display_name": "Python 3",
   "language": "python",
   "name": "python3"
  },
  "language_info": {
   "codemirror_mode": {
    "name": "ipython",
    "version": 3
   },
   "file_extension": ".py",
   "mimetype": "text/x-python",
   "name": "python",
   "nbconvert_exporter": "python",
   "pygments_lexer": "ipython3",
   "version": "3.4.2"
  }
 },
 "nbformat": 4,
 "nbformat_minor": 0
}
