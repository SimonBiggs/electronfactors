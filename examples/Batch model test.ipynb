{
 "cells": [
  {
   "cell_type": "code",
   "execution_count": 1,
   "metadata": {
    "collapsed": false
   },
   "outputs": [],
   "source": [
    "import yaml\n",
    "import numpy as np\n",
    "\n",
    "import matplotlib.pyplot as plt\n",
    "%matplotlib inline\n",
    "\n",
    "import traceback\n",
    "from glob import glob\n",
    "\n",
    "import sys\n",
    "sys.path.append(\"../\")\n",
    "\n",
    "from electronfactors.inputs.convert_merge_guess import convert_merge_guess\n",
    "from electronfactors.model.initialise import create_cache\n",
    "\n",
    "from electronfactors.model.iteration import iteration\n",
    "\n",
    "from electronfactors.model.display_cutouts import display_cutouts"
   ]
  },
  {
   "cell_type": "code",
   "execution_count": 2,
   "metadata": {
    "collapsed": true
   },
   "outputs": [],
   "source": [
    "convert_merge_guess()"
   ]
  },
  {
   "cell_type": "code",
   "execution_count": null,
   "metadata": {
    "collapsed": false
   },
   "outputs": [
    {
     "name": "stdout",
     "output_type": "stream",
     "text": [
      "Energy = 6\n",
      "Applicator = 6\n",
      "\n",
      "Energy = 6\n",
      "Applicator = 10\n"
     ]
    },
    {
     "name": "stderr",
     "output_type": "stream",
     "text": [
      "Traceback (most recent call last):\n",
      "  File \"<ipython-input-3-01ef4080c401>\", line 7, in <module>\n",
      "    create_cache(energy=energy, applicator=applicator)\n",
      "  File \"../electronfactors/model/initialise.py\", line 49, in create_cache\n",
      "    raise Exception(\"Not sufficient data points\")\n",
      "Exception: Not sufficient data points\n",
      "Traceback (most recent call last):\n"
     ]
    },
    {
     "name": "stdout",
     "output_type": "stream",
     "text": [
      "\n",
      "Energy = 6\n",
      "Applicator = 20\n"
     ]
    },
    {
     "name": "stderr",
     "output_type": "stream",
     "text": [
      "  File \"<ipython-input-3-01ef4080c401>\", line 7, in <module>\n",
      "    create_cache(energy=energy, applicator=applicator)\n",
      "  File \"../electronfactors/model/initialise.py\", line 49, in create_cache\n",
      "    raise Exception(\"Not sufficient data points\")\n",
      "Exception: Not sufficient data points\n",
      "Traceback (most recent call last):\n"
     ]
    },
    {
     "name": "stdout",
     "output_type": "stream",
     "text": [
      "\n",
      "Energy = 6\n",
      "Applicator = 25\n"
     ]
    },
    {
     "name": "stderr",
     "output_type": "stream",
     "text": [
      "  File \"<ipython-input-3-01ef4080c401>\", line 7, in <module>\n",
      "    create_cache(energy=energy, applicator=applicator)\n",
      "  File \"../electronfactors/model/initialise.py\", line 49, in create_cache\n",
      "    raise Exception(\"Not sufficient data points\")\n",
      "Exception: Not sufficient data points\n",
      "Traceback (most recent call last):\n"
     ]
    },
    {
     "name": "stdout",
     "output_type": "stream",
     "text": [
      "\n",
      "Energy = 9\n",
      "Applicator = 6\n"
     ]
    },
    {
     "name": "stderr",
     "output_type": "stream",
     "text": [
      "  File \"<ipython-input-3-01ef4080c401>\", line 7, in <module>\n",
      "    create_cache(energy=energy, applicator=applicator)\n",
      "  File \"../electronfactors/model/initialise.py\", line 49, in create_cache\n",
      "    raise Exception(\"Not sufficient data points\")\n",
      "Exception: Not sufficient data points\n",
      "Traceback (most recent call last):\n"
     ]
    },
    {
     "name": "stdout",
     "output_type": "stream",
     "text": [
      "\n",
      "Energy = 9\n",
      "Applicator = 20\n"
     ]
    },
    {
     "name": "stderr",
     "output_type": "stream",
     "text": [
      "  File \"<ipython-input-3-01ef4080c401>\", line 7, in <module>\n",
      "    create_cache(energy=energy, applicator=applicator)\n",
      "  File \"../electronfactors/model/initialise.py\", line 49, in create_cache\n",
      "    raise Exception(\"Not sufficient data points\")\n",
      "Exception: Not sufficient data points\n",
      "Traceback (most recent call last):\n"
     ]
    },
    {
     "name": "stdout",
     "output_type": "stream",
     "text": [
      "\n",
      "Energy = 9\n",
      "Applicator = 25\n"
     ]
    },
    {
     "name": "stderr",
     "output_type": "stream",
     "text": [
      "  File \"<ipython-input-3-01ef4080c401>\", line 7, in <module>\n",
      "    create_cache(energy=energy, applicator=applicator)\n",
      "  File \"../electronfactors/model/initialise.py\", line 49, in create_cache\n",
      "    raise Exception(\"Not sufficient data points\")\n",
      "Exception: Not sufficient data points\n",
      "Traceback (most recent call last):\n"
     ]
    },
    {
     "name": "stdout",
     "output_type": "stream",
     "text": [
      "\n",
      "Energy = 12\n",
      "Applicator = 6\n"
     ]
    },
    {
     "name": "stderr",
     "output_type": "stream",
     "text": [
      "  File \"<ipython-input-3-01ef4080c401>\", line 7, in <module>\n",
      "    create_cache(energy=energy, applicator=applicator)\n",
      "  File \"../electronfactors/model/initialise.py\", line 49, in create_cache\n",
      "    raise Exception(\"Not sufficient data points\")\n",
      "Exception: Not sufficient data points\n",
      "Traceback (most recent call last):\n"
     ]
    },
    {
     "name": "stdout",
     "output_type": "stream",
     "text": [
      "\n",
      "Energy = 12\n",
      "Applicator = 14\n"
     ]
    },
    {
     "name": "stderr",
     "output_type": "stream",
     "text": [
      "  File \"<ipython-input-3-01ef4080c401>\", line 7, in <module>\n",
      "    create_cache(energy=energy, applicator=applicator)\n",
      "  File \"../electronfactors/model/initialise.py\", line 49, in create_cache\n",
      "    raise Exception(\"Not sufficient data points\")\n",
      "Exception: Not sufficient data points\n",
      "Traceback (most recent call last):\n"
     ]
    },
    {
     "name": "stdout",
     "output_type": "stream",
     "text": [
      "\n",
      "Energy = 12\n",
      "Applicator = 20\n"
     ]
    },
    {
     "name": "stderr",
     "output_type": "stream",
     "text": [
      "  File \"<ipython-input-3-01ef4080c401>\", line 7, in <module>\n",
      "    create_cache(energy=energy, applicator=applicator)\n",
      "  File \"../electronfactors/model/initialise.py\", line 49, in create_cache\n",
      "    raise Exception(\"Not sufficient data points\")\n",
      "Exception: Not sufficient data points\n",
      "Traceback (most recent call last):\n"
     ]
    },
    {
     "name": "stdout",
     "output_type": "stream",
     "text": [
      "\n",
      "Energy = 12\n",
      "Applicator = 25\n"
     ]
    },
    {
     "name": "stderr",
     "output_type": "stream",
     "text": [
      "  File \"<ipython-input-3-01ef4080c401>\", line 7, in <module>\n",
      "    create_cache(energy=energy, applicator=applicator)\n",
      "  File \"../electronfactors/model/initialise.py\", line 49, in create_cache\n",
      "    raise Exception(\"Not sufficient data points\")\n",
      "Exception: Not sufficient data points\n",
      "Traceback (most recent call last):\n"
     ]
    },
    {
     "name": "stdout",
     "output_type": "stream",
     "text": [
      "\n",
      "Energy = 15\n",
      "Applicator = 6\n"
     ]
    },
    {
     "name": "stderr",
     "output_type": "stream",
     "text": [
      "  File \"<ipython-input-3-01ef4080c401>\", line 7, in <module>\n",
      "    create_cache(energy=energy, applicator=applicator)\n",
      "  File \"../electronfactors/model/initialise.py\", line 49, in create_cache\n",
      "    raise Exception(\"Not sufficient data points\")\n",
      "Exception: Not sufficient data points\n",
      "Traceback (most recent call last):\n"
     ]
    },
    {
     "name": "stdout",
     "output_type": "stream",
     "text": [
      "\n",
      "Energy = 15\n",
      "Applicator = 10\n"
     ]
    },
    {
     "name": "stderr",
     "output_type": "stream",
     "text": [
      "  File \"<ipython-input-3-01ef4080c401>\", line 7, in <module>\n",
      "    create_cache(energy=energy, applicator=applicator)\n",
      "  File \"../electronfactors/model/initialise.py\", line 49, in create_cache\n",
      "    raise Exception(\"Not sufficient data points\")\n",
      "Exception: Not sufficient data points\n",
      "Traceback (most recent call last):\n"
     ]
    },
    {
     "name": "stdout",
     "output_type": "stream",
     "text": [
      "\n",
      "Energy = 15\n",
      "Applicator = 14\n"
     ]
    },
    {
     "name": "stderr",
     "output_type": "stream",
     "text": [
      "  File \"<ipython-input-3-01ef4080c401>\", line 7, in <module>\n",
      "    create_cache(energy=energy, applicator=applicator)\n",
      "  File \"../electronfactors/model/initialise.py\", line 49, in create_cache\n",
      "    raise Exception(\"Not sufficient data points\")\n",
      "Exception: Not sufficient data points\n",
      "Traceback (most recent call last):\n"
     ]
    },
    {
     "name": "stdout",
     "output_type": "stream",
     "text": [
      "\n",
      "Energy = 15\n",
      "Applicator = 20\n"
     ]
    },
    {
     "name": "stderr",
     "output_type": "stream",
     "text": [
      "  File \"<ipython-input-3-01ef4080c401>\", line 7, in <module>\n",
      "    create_cache(energy=energy, applicator=applicator)\n",
      "  File \"../electronfactors/model/initialise.py\", line 49, in create_cache\n",
      "    raise Exception(\"Not sufficient data points\")\n",
      "Exception: Not sufficient data points\n",
      "Traceback (most recent call last):\n"
     ]
    },
    {
     "name": "stdout",
     "output_type": "stream",
     "text": [
      "\n",
      "Energy = 15\n",
      "Applicator = 25\n"
     ]
    },
    {
     "name": "stderr",
     "output_type": "stream",
     "text": [
      "  File \"<ipython-input-3-01ef4080c401>\", line 7, in <module>\n",
      "    create_cache(energy=energy, applicator=applicator)\n",
      "  File \"../electronfactors/model/initialise.py\", line 49, in create_cache\n",
      "    raise Exception(\"Not sufficient data points\")\n",
      "Exception: Not sufficient data points\n",
      "Traceback (most recent call last):\n"
     ]
    },
    {
     "name": "stdout",
     "output_type": "stream",
     "text": [
      "\n",
      "Energy = 18\n",
      "Applicator = 6\n"
     ]
    },
    {
     "name": "stderr",
     "output_type": "stream",
     "text": [
      "  File \"<ipython-input-3-01ef4080c401>\", line 7, in <module>\n",
      "    create_cache(energy=energy, applicator=applicator)\n",
      "  File \"../electronfactors/model/initialise.py\", line 49, in create_cache\n",
      "    raise Exception(\"Not sufficient data points\")\n",
      "Exception: Not sufficient data points\n",
      "Traceback (most recent call last):\n"
     ]
    },
    {
     "name": "stdout",
     "output_type": "stream",
     "text": [
      "\n",
      "Energy = 18\n",
      "Applicator = 14\n"
     ]
    },
    {
     "name": "stderr",
     "output_type": "stream",
     "text": [
      "  File \"<ipython-input-3-01ef4080c401>\", line 7, in <module>\n",
      "    create_cache(energy=energy, applicator=applicator)\n",
      "  File \"../electronfactors/model/initialise.py\", line 49, in create_cache\n",
      "    raise Exception(\"Not sufficient data points\")\n",
      "Exception: Not sufficient data points\n",
      "Traceback (most recent call last):\n"
     ]
    },
    {
     "name": "stdout",
     "output_type": "stream",
     "text": [
      "\n",
      "Energy = 18\n",
      "Applicator = 20\n"
     ]
    },
    {
     "name": "stderr",
     "output_type": "stream",
     "text": [
      "  File \"<ipython-input-3-01ef4080c401>\", line 7, in <module>\n",
      "    create_cache(energy=energy, applicator=applicator)\n",
      "  File \"../electronfactors/model/initialise.py\", line 49, in create_cache\n",
      "    raise Exception(\"Not sufficient data points\")\n",
      "Exception: Not sufficient data points\n",
      "Traceback (most recent call last):\n"
     ]
    },
    {
     "name": "stdout",
     "output_type": "stream",
     "text": [
      "\n",
      "Energy = 18\n",
      "Applicator = 25\n"
     ]
    },
    {
     "name": "stderr",
     "output_type": "stream",
     "text": [
      "  File \"<ipython-input-3-01ef4080c401>\", line 7, in <module>\n",
      "    create_cache(energy=energy, applicator=applicator)\n",
      "  File \"../electronfactors/model/initialise.py\", line 49, in create_cache\n",
      "    raise Exception(\"Not sufficient data points\")\n",
      "Exception: Not sufficient data points\n",
      "Traceback (most recent call last):\n"
     ]
    },
    {
     "name": "stdout",
     "output_type": "stream",
     "text": [
      "\n"
     ]
    },
    {
     "name": "stderr",
     "output_type": "stream",
     "text": [
      "  File \"<ipython-input-3-01ef4080c401>\", line 7, in <module>\n",
      "    create_cache(energy=energy, applicator=applicator)\n",
      "  File \"../electronfactors/model/initialise.py\", line 49, in create_cache\n",
      "    raise Exception(\"Not sufficient data points\")\n",
      "Exception: Not sufficient data points\n"
     ]
    }
   ],
   "source": [
    "energy_list = [6, 9, 12, 15, 18]\n",
    "app_list = [6, 10, 14, 20, 25]\n",
    "\n",
    "for energy in energy_list:\n",
    "    for applicator in app_list:\n",
    "        try:\n",
    "            create_cache(energy=energy, applicator=applicator)\n",
    "        except:\n",
    "            print(\"Energy = %d\\nApplicator = %d\\n\" % (energy, applicator))\n",
    "            traceback.print_exc()"
   ]
  },
  {
   "cell_type": "code",
   "execution_count": null,
   "metadata": {
    "collapsed": false
   },
   "outputs": [],
   "source": [
    "model_filepaths = glob(\"model_cache/*\")\n",
    "\n",
    "for filepath in model_filepaths:\n",
    "    try:\n",
    "        iteration(filepath=filepath, n=3)\n",
    "    except:\n",
    "        print(\"Energy = %d\\nApplicator = %d\\n\" % (energy, applicator))\n",
    "        traceback.print_exc()\n",
    "    "
   ]
  }
 ],
 "metadata": {
  "kernelspec": {
   "display_name": "Python 3",
   "language": "python",
   "name": "python3"
  },
  "language_info": {
   "codemirror_mode": {
    "name": "ipython",
    "version": 3
   },
   "file_extension": ".py",
   "mimetype": "text/x-python",
   "name": "python",
   "nbconvert_exporter": "python",
   "pygments_lexer": "ipython3",
   "version": "3.4.2"
  }
 },
 "nbformat": 4,
 "nbformat_minor": 0
}
