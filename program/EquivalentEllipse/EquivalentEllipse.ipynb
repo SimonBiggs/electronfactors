{
 "cells": [
  {
   "cell_type": "markdown",
   "metadata": {},
   "source": [
    "# Find the Equivalent Ellipse"
   ]
  },
  {
   "cell_type": "markdown",
   "metadata": {},
   "source": [
    "This notebook makes defines an object class which takes cutout shape defining points as an input along with a user defined cutout factor `circle_fit` function and returns the equivalent ellipse. An example of how to define the `circle_fit` function is given in the [example below](#Defining-the-circle-fit-from-example-measured-factors).\n",
    "\n",
    "To calculate the equivalent ellipse a seriese of objects are used which can each be found in their own notebook. These are outlined as such:\n",
    "\n",
    " * Finding the position of maximum dose output defined in [FindingCentre.ipynb](FindingCentre.ipynb)\n",
    "   * Which makes use of [SectorIntegration.ipynb](SectorIntegration.ipynb)\n",
    " * Cutout straightening defined in [CutoutStraightening.ipynb](CutoutStraightening.ipynb)\n",
    " * Ellipse fitting found in [EllipseFitting.ipynb](EllipseFitting.ipynb)\n",
    " \n",
    "An example of using the `equivalent_ellipse` object found within this notebook is given [at the bottom of this notebook](#Example)"
   ]
  },
  {
   "cell_type": "markdown",
   "metadata": {},
   "source": [
    "## Copyright information\n",
    "\n",
    "Copyright © 2015 Simon Biggs\n",
    "\n",
    "This program is free software: you can redistribute it and/or modify it under the terms of the GNU Affero General Public License as published by the Free Software Foundation, either version 3 of the License, or (at your option) any later version.\n",
    "\n",
    "This program is distributed in the hope that it will be useful, but WITHOUT ANY WARRANTY; without even the implied warranty of MERCHANTABILITY or FITNESS FOR A PARTICULAR PURPOSE. See the GNU Affero General Public License for more details.\n",
    "\n",
    "You should have received a copy of the GNU Affero General Public License along with this program. If not, see http://www.gnu.org/licenses/."
   ]
  },
  {
   "cell_type": "markdown",
   "metadata": {},
   "source": [
    "## Import modules"
   ]
  },
  {
   "cell_type": "code",
   "execution_count": 1,
   "metadata": {
    "collapsed": false
   },
   "outputs": [
    {
     "name": "stdout",
     "output_type": "stream",
     "text": [
      "importing IPython notebook from /home/simonbiggs/github/equivalent-ellipse-spline-modelling/program/EquivalentEllipse/FindingCentre.ipynb\n",
      "importing IPython notebook from /home/simonbiggs/github/equivalent-ellipse-spline-modelling/program/EquivalentEllipse/SectorIntegration.ipynb\n",
      "importing IPython notebook from /home/simonbiggs/github/equivalent-ellipse-spline-modelling/program/EquivalentEllipse/CutoutStraightening.ipynb\n",
      "importing IPython notebook from /home/simonbiggs/github/equivalent-ellipse-spline-modelling/program/EquivalentEllipse/EllipseFitting.ipynb\n"
     ]
    },
    {
     "name": "stderr",
     "output_type": "stream",
     "text": [
      "/usr/local/lib/python3.4/dist-packages/IPython/nbformat/current.py:19: UserWarning: IPython.nbformat.current is deprecated.\n",
      "\n",
      "- use IPython.nbformat for read/write/validate public API\n",
      "- use IPython.nbformat.vX directly to composing notebooks of a particular version\n",
      "\n",
      "  \"\"\")\n"
     ]
    }
   ],
   "source": [
    "import numpy as np\n",
    "\n",
    "import os, sys\n",
    "sys.path.append(os.path.abspath('..'))\n",
    "\n",
    "import nbimport\n",
    "sys.meta_path.append(nbimport.NotebookFinder())\n",
    "\n",
    "from EquivalentEllipse.FindingCentre import find_centre\n",
    "from EquivalentEllipse.CutoutStraightening import straighten_cutout\n",
    "from EquivalentEllipse.EllipseFitting import fit_ellipse"
   ]
  },
  {
   "cell_type": "markdown",
   "metadata": {
    "collapsed": true
   },
   "source": [
    "## Define the object"
   ]
  },
  {
   "cell_type": "code",
   "execution_count": 2,
   "metadata": {
    "collapsed": true
   },
   "outputs": [],
   "source": [
    "class equivalent_ellipse(object):\n",
    "    \"\"\"Returns an equivalent ellipse. Requires the input of cutout X and Y coords along with the centre_fit function.\n",
    "    \"\"\"\n",
    "    def __init__(self, **kwargs):       \n",
    "        self.cutoutXCoords = kwargs['x']\n",
    "        self.cutoutYCoords = kwargs['y']\n",
    "        self.circle_fit = kwargs['circle_fit']\n",
    "\n",
    "        self.centre_search = find_centre(x=XCoords, y=YCoords, circle_fit=self.circle_fit)\n",
    "        self.centre = self.centre_search.centre\n",
    "        \n",
    "        self.straighened_cutout = straighten_cutout(x=XCoords, y=YCoords, centre = self.centre)\n",
    "        \n",
    "        self.ellipse_fit = fit_ellipse(x=self.straighened_cutout.straightenedXCoords, \n",
    "                                       y=self.straighened_cutout.straightenedYCoords)\n",
    "        \n",
    "        self.inputCutout = self.straighened_cutout.cutout\n",
    "        self.centredCutout = self.straighened_cutout.centralCutout\n",
    "        self.straightenedCutout = self.ellipse_fit.cutout\n",
    "        \n",
    "        self.eqEllipse = self.ellipse_fit.ellipse\n",
    "        self.eqEllipseXCoords = self.ellipse_fit.ellipseXCoords\n",
    "        self.eqEllipseYCoords = self.ellipse_fit.ellipseYCoords\n",
    "        \n",
    "        self.width = self.ellipse_fit.width\n",
    "        self.length = self.ellipse_fit.length"
   ]
  },
  {
   "cell_type": "markdown",
   "metadata": {},
   "source": [
    "## Execute no further if being imported"
   ]
  },
  {
   "cell_type": "markdown",
   "metadata": {},
   "source": [
    "Don't want to waste time running the example if this notebook is just being imported. The following cell triggers the notebook import to stop."
   ]
  },
  {
   "cell_type": "code",
   "execution_count": 3,
   "metadata": {
    "collapsed": false
   },
   "outputs": [
    {
     "data": {
      "text/plain": [
       "'stop nbimport'"
      ]
     },
     "execution_count": 3,
     "metadata": {},
     "output_type": "execute_result"
    }
   ],
   "source": [
    "'stop nbimport'"
   ]
  },
  {
   "cell_type": "markdown",
   "metadata": {},
   "source": [
    "## Example"
   ]
  },
  {
   "cell_type": "code",
   "execution_count": 4,
   "metadata": {
    "collapsed": true
   },
   "outputs": [],
   "source": [
    "import matplotlib.pyplot as plt\n",
    "from matplotlib import pylab\n",
    "%matplotlib inline\n",
    "\n",
    "import descartes as des"
   ]
  },
  {
   "cell_type": "markdown",
   "metadata": {},
   "source": [
    "### Define the cutout"
   ]
  },
  {
   "cell_type": "code",
   "execution_count": 5,
   "metadata": {
    "collapsed": false
   },
   "outputs": [
    {
     "data": {
      "image/png": "[encoded data removed]",
      "text/plain": [
       "<matplotlib.figure.Figure at 0x7f3ec8994710>"
      ]
     },
     "metadata": {},
     "output_type": "display_data"
    }
   ],
   "source": [
    "XCoords = np.array([-1,-0.2,0,0.7,1,0])*4\n",
    "YCoords = np.array([0,-1,-.8,0,.6,1])*4\n",
    "\n",
    "plt.scatter(XCoords, YCoords)\n",
    "plt.plot(np.append(XCoords, XCoords[0]), \n",
    "         np.append(YCoords, YCoords[0]))\n",
    "plt.axis(\"equal\")\n",
    "plt.grid(True)"
   ]
  },
  {
   "cell_type": "markdown",
   "metadata": {},
   "source": [
    "### Defining the circle fit from example measured factors"
   ]
  },
  {
   "cell_type": "code",
   "execution_count": 6,
   "metadata": {
    "collapsed": false
   },
   "outputs": [
    {
     "data": {
      "text/plain": [
       "<matplotlib.collections.PathCollection at 0x7f3ec8915198>"
      ]
     },
     "execution_count": 6,
     "metadata": {},
     "output_type": "execute_result"
    },
    {
     "data": {
      "image/png": "[encoded data removed]",
      "text/plain": [
       "<matplotlib.figure.Figure at 0x7f3ec896eb70>"
      ]
     },
     "metadata": {},
     "output_type": "display_data"
    }
   ],
   "source": [
    "circle_diameter = np.array([3,4,5,6,7,8,9])\n",
    "circle_factors = np.array([0.9296,0.9562,0.9705,0.9858,1.0032,1.0067,1.0084])\n",
    "\n",
    "plt.scatter(circle_diameter, circle_factors)"
   ]
  },
  {
   "cell_type": "code",
   "execution_count": 7,
   "metadata": {
    "collapsed": true
   },
   "outputs": [],
   "source": [
    "from scipy.interpolate import UnivariateSpline\n",
    "\n",
    "def circle_fit(radii):\n",
    "    \n",
    "    circle_radii = circle_diameter/2\n",
    "    \n",
    "    spline = UnivariateSpline(circle_radii, circle_factors)\n",
    "    results = spline(radii)\n",
    "    \n",
    "    results[radii>np.max(circle_radii)] = np.max(circle_factors)\n",
    "    results[radii<np.min(circle_radii)] = 0\n",
    "    \n",
    "    return results"
   ]
  },
  {
   "cell_type": "code",
   "execution_count": 8,
   "metadata": {
    "collapsed": false
   },
   "outputs": [
    {
     "data": {
      "text/plain": [
       "[<matplotlib.lines.Line2D at 0x7f3ec88a1b70>]"
      ]
     },
     "execution_count": 8,
     "metadata": {},
     "output_type": "execute_result"
    },
    {
     "data": {
      "image/png": "[encoded data removed]",
      "text/plain": [
       "<matplotlib.figure.Figure at 0x7f3ec8944978>"
      ]
     },
     "metadata": {},
     "output_type": "display_data"
    }
   ],
   "source": [
    "t = np.linspace(circle_diameter.min(),13)\n",
    "y = circle_fit(t/2)\n",
    "\n",
    "plt.scatter(circle_diameter, circle_factors)\n",
    "plt.plot(t,y)"
   ]
  },
  {
   "cell_type": "markdown",
   "metadata": {},
   "source": [
    "### Finding the equivalent ellipse"
   ]
  },
  {
   "cell_type": "code",
   "execution_count": 9,
   "metadata": {
    "collapsed": false
   },
   "outputs": [],
   "source": [
    "equivalentEllipse = equivalent_ellipse(x=XCoords, y=YCoords, circle_fit=circle_fit)\n",
    "\n",
    "# The ellipse fit method needs to be weighted according to the derivative of `circle_fit`. \n",
    "# Width is more important than length."
   ]
  },
  {
   "cell_type": "code",
   "execution_count": 10,
   "metadata": {
    "collapsed": false
   },
   "outputs": [
    {
     "data": {
      "text/plain": [
       "(-5.0, 5.0, -5.0, 5.0)"
      ]
     },
     "execution_count": 10,
     "metadata": {},
     "output_type": "execute_result"
    },
    {
     "data": {
      "image/png": "[encoded data removed]",
      "text/plain": [
       "<matplotlib.figure.Figure at 0x7f3ec77d6908>"
      ]
     },
     "metadata": {},
     "output_type": "display_data"
    }
   ],
   "source": [
    "fig = plt.figure()\n",
    "ax = fig.add_subplot(111)\n",
    "\n",
    "patch = des.PolygonPatch(equivalentEllipse.centredCutout, fc=np.random.uniform(size=3), alpha=0.3)\n",
    "ax.add_patch(patch)\n",
    "\n",
    "patch = des.PolygonPatch(equivalentEllipse.straightenedCutout, fc=np.random.uniform(size=3), alpha=0.3)\n",
    "ax.add_patch(patch)\n",
    "\n",
    "patch = des.PolygonPatch(equivalentEllipse.eqEllipse, fc=np.random.uniform(size=3), alpha=0.5)\n",
    "ax.add_patch(patch)\n",
    "\n",
    "plt.scatter(0,0)\n",
    "\n",
    "ax.set_xlim([-equivalentEllipse.straighened_cutout.maxRadii, equivalentEllipse.straighened_cutout.maxRadii])\n",
    "ax.set_ylim([-equivalentEllipse.straighened_cutout.maxRadii, equivalentEllipse.straighened_cutout.maxRadii])\n",
    "ax.axis(\"equal\")"
   ]
  },
  {
   "cell_type": "markdown",
   "metadata": {},
   "source": [
    "## Concepts used to program the equivalent ellipse object\n",
    "\n",
    "Below is a documentation of the investigative process used to develop the equivalent ellipse object"
   ]
  },
  {
   "cell_type": "code",
   "execution_count": 11,
   "metadata": {
    "collapsed": true
   },
   "outputs": [],
   "source": [
    "exampleFindCentre = find_centre(x=XCoords, y=YCoords, circle_fit=circle_fit)"
   ]
  },
  {
   "cell_type": "code",
   "execution_count": 12,
   "metadata": {
    "collapsed": true
   },
   "outputs": [],
   "source": [
    "straighenedCutout = straighten_cutout(x=XCoords, y=YCoords, centre=exampleFindCentre.centre)"
   ]
  },
  {
   "cell_type": "code",
   "execution_count": 13,
   "metadata": {
    "collapsed": true
   },
   "outputs": [],
   "source": [
    "ellipse_fitting_example = fit_ellipse(x=straighenedCutout.straightenedXCoords, \n",
    "                                      y=straighenedCutout.straightenedYCoords)"
   ]
  },
  {
   "cell_type": "code",
   "execution_count": 14,
   "metadata": {
    "collapsed": false
   },
   "outputs": [
    {
     "data": {
      "image/svg+xml": [
       "<svg xmlns=\"http://www.w3.org/2000/svg\" xmlns:xlink=\"http://www.w3.org/1999/xlink\" width=\"100.0\" height=\"100.0\" viewBox=\"-3.6333719046680515 -3.6337458978476285 7.267117773962652 7.267117798371558\" preserveAspectRatio=\"xMinYMin meet\"><g transform=\"matrix(1,0,0,-1,0,-0.0003739973236989158)\"><path fill-rule=\"evenodd\" fill=\"#66cc99\" stroke=\"#555555\" stroke-width=\"0.14534235596743117\" opacity=\"0.6\" d=\"M 1.821185655148379,-1.8211856549242889 L 1.5350692451948071,-2.0897648548032324 L 1.2341710799976924,-2.338220277648085 L 0.9213889733755511,-2.5641591619173 L 0.5997351879992479,-2.765405592644609 L 0.2723074256558009,-2.940021456689616 L -0.05774100531320127,-3.0863251078268283 L -0.3872315580947008,-3.202907561918083 L -0.7129910585475541,-3.2886460662000294 L -1.0318822646041437,-3.342714912006998 L -1.3408340796264788,-3.36459338679683 L -1.6368711287456525,-3.354070788897308 L -1.9171424133483348,-3.3112484566784426 L -2.1789487677519324,-3.236538792608569 L -2.4197688536456274,-3.130661291593136 L -2.637283441956614,-2.9946356118454527 L -2.829397748293888,-2.8297717550206896 L -2.9942616068670587,-2.6376574501838204 L -3.1302872885943143,-2.420142863110786 L -3.236164791801419,-2.1793227781806688 L -3.3108744582539584,-1.9175164244569949 L -3.353696793023537,-1.6372451402440336 L -3.364219393617253,-1.3412080912206241 L -3.342340921639151,-1.0322562759991762 L -3.2882720787343693,-0.7133650694505128 L -3.2025335774171175,-0.3876055682173635 L -3.0859511263245127,-0.058115014374862696 L -2.939647478191027,0.2719334179256297 L -2.765031617125896,0.5993611818582335 L -2.563785189325916,0.9210149690660544 L -2.3378463079032885,1.2337970777444356 L -2.0893908877968697,1.534695245202711 L -1.820811690521833,1.8208116576005868 L -1.5346952805682603,2.0893908574795312 L -1.2337971153711451,2.3378462803243845 L -0.9210150087490034,2.5637851645936007 L -0.5993612233726993,2.7650315953209095 L -0.27193346102925164,2.939647459365917 L 0.058114969939750946,3.0859511105031303 L 0.38760552272125093,3.2025335645943853 L 0.7133650231741051,3.288272068876332 L 1.032256229230694,3.3423409146833 L 1.341208044253028,3.364219389473131 L 1.6372450933722011,3.35369679157361 L 1.917516377974883,3.310874459354744 L 2.17932273237848,3.2361647952848713 L 2.4201428182721743,3.130287294269438 L 2.637657406583161,2.9942616145217555 L 2.8297717129204347,2.8293977576969933 L 2.9946355714936055,2.637283452860125 L 3.130661253220861,2.419768865787092 L 3.2365387564279664,2.178948780856975 L 3.3112484228805066,1.917142427133302 L 3.3540707576500846,1.6368711429203417 L 3.364593358243802,1.340834093896934 L 3.342714886265701,1.0318822786754873 L 3.288646043360921,0.7129910721268266 L 3.202907542043671,0.38723157089367916 L 3.086325090951068,0.05774101705117881 L 2.9400214428175846,-0.27230741524931207 L 2.7654055817524554,-0.599735179181914 L 2.5641591539524775,-0.9213889663897341 L 2.3382202725298527,-1.234171075068115 L 2.0897648524234365,-1.5350692425263897 L 1.8211856551484022,-1.8211856549242655 L 1.821185655148379,-1.8211856549242889 z\" /></g></svg>"
      ],
      "text/plain": [
       "<shapely.geometry.polygon.Polygon at 0x7f3ec77cb9e8>"
      ]
     },
     "execution_count": 14,
     "metadata": {},
     "output_type": "execute_result"
    }
   ],
   "source": [
    "ellipse_fitting_example.ellipse"
   ]
  },
  {
   "cell_type": "code",
   "execution_count": 15,
   "metadata": {
    "collapsed": false
   },
   "outputs": [
    {
     "data": {
      "text/plain": [
       "(5.1505620169363349, 8.0032742402353119)"
      ]
     },
     "execution_count": 15,
     "metadata": {},
     "output_type": "execute_result"
    }
   ],
   "source": [
    "ellipse_fitting_example.width, ellipse_fitting_example.length"
   ]
  },
  {
   "cell_type": "code",
   "execution_count": null,
   "metadata": {
    "collapsed": true
   },
   "outputs": [],
   "source": []
  }
 ],
 "metadata": {
  "kernelspec": {
   "display_name": "Python 3",
   "language": "python",
   "name": "python3"
  },
  "language_info": {
   "codemirror_mode": {
    "name": "ipython",
    "version": 3
   },
   "file_extension": ".py",
   "mimetype": "text/x-python",
   "name": "python",
   "nbconvert_exporter": "python",
   "pygments_lexer": "ipython3",
   "version": "3.4.0"
  }
 },
 "nbformat": 4,
 "nbformat_minor": 0
}
