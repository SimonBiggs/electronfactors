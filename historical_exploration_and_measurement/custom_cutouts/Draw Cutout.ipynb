{
 "metadata": {
  "name": "",
  "signature": "sha256:58328b00caf37350066cab6f35757d5417006f23beaa5d83af40205290fd96fe"
 },
 "nbformat": 3,
 "nbformat_minor": 0,
 "worksheets": [
  {
   "cells": [
    {
     "cell_type": "code",
     "collapsed": false,
     "input": [
      "%pylab\n",
      "import csv"
     ],
     "language": "python",
     "metadata": {},
     "outputs": [
      {
       "output_type": "stream",
       "stream": "stdout",
       "text": [
        "Using matplotlib backend: Qt4Agg\n",
        "Populating the interactive namespace from numpy and matplotlib\n"
       ]
      }
     ],
     "prompt_number": 1
    },
    {
     "cell_type": "code",
     "collapsed": false,
     "input": [
      "class clicker_class(object):\n",
      "    def __init__(self, ax, pix_err=1):\n",
      "        self.canvas = ax.get_figure().canvas\n",
      "        self.cid = None\n",
      "        self.pt_lst = []\n",
      "        self.pt_plot = ax.plot([], [], marker='o',\n",
      "                               linestyle='none', zorder=5)[0]\n",
      "        self.pix_err = pix_err\n",
      "        self.connect_sf()\n",
      "\n",
      "    def set_visible(self, visible):\n",
      "        '''sets if the curves are visible '''\n",
      "        self.pt_plot.set_visible(visible)\n",
      "\n",
      "    def clear(self):\n",
      "        '''Clears the points'''\n",
      "        self.pt_lst = []\n",
      "        self.redraw()\n",
      "\n",
      "    def connect_sf(self):\n",
      "        if self.cid is None:\n",
      "            self.cid = self.canvas.mpl_connect('button_press_event',\n",
      "                                               self.click_event)\n",
      "\n",
      "    def disconnect_sf(self):\n",
      "        if self.cid is not None:\n",
      "            self.canvas.mpl_disconnect(self.cid)\n",
      "            self.cid = None\n",
      "\n",
      "    def click_event(self, event):\n",
      "        ''' Extracts locations from the user'''\n",
      "        if event.key == 'shift':\n",
      "            self.pt_lst = []\n",
      "            return\n",
      "        if event.xdata is None or event.ydata is None:\n",
      "            return\n",
      "        if event.button == 1:\n",
      "            self.pt_lst.append((event.xdata, event.ydata))\n",
      "        elif event.button == 3:\n",
      "            self.remove_pt((event.xdata, event.ydata))\n",
      "\n",
      "        self.redraw()\n",
      "\n",
      "    def remove_pt(self, loc):\n",
      "        if len(self.pt_lst) > 0:\n",
      "            self.pt_lst.pop(np.argmin(map(lambda x:\n",
      "                                          np.sqrt((x[0] - loc[0]) ** 2 +\n",
      "                                                  (x[1] - loc[1]) ** 2),\n",
      "                                          self.pt_lst)))\n",
      "\n",
      "    def redraw(self):\n",
      "        if len(self.pt_lst) > 0:\n",
      "            x, y = zip(*self.pt_lst)\n",
      "        else:\n",
      "            x, y = [], []\n",
      "        self.pt_plot.set_xdata(x)\n",
      "        self.pt_plot.set_ydata(y)\n",
      "\n",
      "        self.canvas.draw()\n",
      "\n",
      "    def return_points(self):\n",
      "        '''Returns the clicked points in the format the rest of the\n",
      "        code expects'''\n",
      "        return np.vstack(self.pt_lst).T\n",
      "\n",
      "figure(figsize=(20/2.54,20/2.54))    \n",
      "subplots_adjust(left=0, right=1, top=1, bottom=0)\n",
      "\n",
      "ax = gca()\n",
      "axis('equal')\n",
      "ax.set_xlim(-5,5)\n",
      "ax.set_ylim(-5,5)\n",
      "ax.grid(True)\n",
      "\n",
      "cc = clicker_class(ax)"
     ],
     "language": "python",
     "metadata": {},
     "outputs": [],
     "prompt_number": 41
    },
    {
     "cell_type": "code",
     "collapsed": false,
     "input": [
      "x = cc.return_points()[0,:]\n",
      "y = cc.return_points()[1,:]\n",
      "\n",
      "xDraw = append(x,x[0])\n",
      "yDraw = append(y,y[0])\n",
      "\n",
      "plot(xDraw,yDraw)"
     ],
     "language": "python",
     "metadata": {},
     "outputs": [
      {
       "metadata": {},
       "output_type": "pyout",
       "prompt_number": 42,
       "text": [
        "[<matplotlib.lines.Line2D at 0x83c4630>]"
       ]
      }
     ],
     "prompt_number": 42
    },
    {
     "cell_type": "code",
     "collapsed": false,
     "input": [
      "x_list = list()\n",
      "y_list = list()\n",
      "\n",
      "with open('../data/custom_cutout_x.csv', 'r') as x_csvfile:\n",
      "    with open('../data/custom_cutout_y.csv', 'r') as y_csvfile:\n",
      "        \n",
      "        x_reader = csv.reader(x_csvfile, delimiter=',', lineterminator='\\n')\n",
      "        y_reader = csv.reader(y_csvfile, delimiter=',', lineterminator='\\n')\n",
      "        \n",
      "        for row in x_reader:\n",
      "            x_list += [row]\n",
      "  \n",
      "        for row in y_reader:\n",
      "            y_list += [row]\n",
      "\n",
      "            \n",
      "num_cutouts = len(x_list)\n",
      "\n",
      "\n",
      "x_array = [0,]*(num_cutouts+1)\n",
      "y_array = [0,]*(num_cutouts+1)\n",
      "\n",
      "\n",
      "for i in range(num_cutouts):\n",
      "\n",
      "    x_array[i] = array(x_list[i], dtype='float')\n",
      "    y_array[i] = array(y_list[i], dtype='float')"
     ],
     "language": "python",
     "metadata": {},
     "outputs": [],
     "prompt_number": 43
    },
    {
     "cell_type": "code",
     "collapsed": false,
     "input": [
      "x_array[-1] = x\n",
      "y_array[-1] = y"
     ],
     "language": "python",
     "metadata": {},
     "outputs": [],
     "prompt_number": 44
    },
    {
     "cell_type": "code",
     "collapsed": false,
     "input": [
      "with open('../data/custom_cutout_x.csv', 'w') as x_csvfile:\n",
      "    with open('../data/custom_cutout_y.csv', 'w') as y_csvfile:\n",
      "        \n",
      "        x_writer = csv.writer(x_csvfile, delimiter=',', lineterminator='\\n')\n",
      "        y_writer = csv.writer(y_csvfile, delimiter=',', lineterminator='\\n')\n",
      "        \n",
      "\n",
      "        for i in range(len(x_array)):\n",
      "\n",
      "            x_store = x_array[i]\n",
      "            y_store = y_array[i]\n",
      "            \n",
      "            x_list = around(x_store,decimals=4).tolist()\n",
      "            y_list = around(y_store,decimals=4).tolist()\n",
      "\n",
      "            x_writer.writerow(x_list)\n",
      "            y_writer.writerow(y_list)"
     ],
     "language": "python",
     "metadata": {},
     "outputs": [],
     "prompt_number": 45
    },
    {
     "cell_type": "code",
     "collapsed": false,
     "input": [],
     "language": "python",
     "metadata": {},
     "outputs": []
    }
   ],
   "metadata": {}
  }
 ]
}