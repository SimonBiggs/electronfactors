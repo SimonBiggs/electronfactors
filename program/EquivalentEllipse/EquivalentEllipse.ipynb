{
 "cells": [
  {
   "cell_type": "markdown",
   "metadata": {},
   "source": [
    "# Find the Equivalent Ellipse"
   ]
  },
  {
   "cell_type": "markdown",
   "metadata": {},
   "source": [
    "This notebook makes defines an object class which takes cutout shape defining points as an input along with a user defined cutout factor `circle_fit` function and returns the equivalent ellipse. An example of how to define the `circle_fit` function is given in the [example below](#Defining-the-circle-fit-from-example-measured-factors).\n",
    "\n",
    "To calculate the equivalent ellipse a seriese of objects are used which can each be found in their own notebook. These are outlined as such:\n",
    "\n",
    " * Finding the position of maximum dose output defined in [FindingCentre.ipynb](FindingCentre.ipynb)\n",
    "   * Which makes use of [SectorIntegration.ipynb](SectorIntegration.ipynb)\n",
    " * Cutout straightening defined in [CutoutStraightening.ipynb](CutoutStraightening.ipynb)\n",
    " * Ellipse fitting found in [EllipseFitting.ipynb](EllipseFitting.ipynb)\n",
    " \n",
    "An example of using the `equivalent_ellipse` object found within this notebook is given [at the bottom of this notebook](#Example)"
   ]
  },
  {
   "cell_type": "markdown",
   "metadata": {},
   "source": [
    "## Copyright information\n",
    "\n",
    "Copyright © 2015 Simon Biggs\n",
    "\n",
    "This program is free software: you can redistribute it and/or modify it under the terms of the GNU Affero General Public License as published by the Free Software Foundation, either version 3 of the License, or (at your option) any later version.\n",
    "\n",
    "This program is distributed in the hope that it will be useful, but WITHOUT ANY WARRANTY; without even the implied warranty of MERCHANTABILITY or FITNESS FOR A PARTICULAR PURPOSE. See the GNU Affero General Public License for more details.\n",
    "\n",
    "You should have received a copy of the GNU Affero General Public License along with this program. If not, see http://www.gnu.org/licenses/."
   ]
  },
  {
   "cell_type": "markdown",
   "metadata": {},
   "source": [
    "## Import modules"
   ]
  },
  {
   "cell_type": "code",
   "execution_count": 1,
   "metadata": {
    "collapsed": false
   },
   "outputs": [
    {
     "name": "stdout",
     "output_type": "stream",
     "text": [
      "importing IPython notebook from /home/simonbiggs/github/equivalent-ellipse-spline-modelling/program/EquivalentEllipse/FindingCentre.ipynb\n",
      "importing IPython notebook from /home/simonbiggs/github/equivalent-ellipse-spline-modelling/program/EquivalentEllipse/SectorIntegration.ipynb\n",
      "importing IPython notebook from /home/simonbiggs/github/equivalent-ellipse-spline-modelling/program/EquivalentEllipse/CutoutStraightening.ipynb\n",
      "importing IPython notebook from /home/simonbiggs/github/equivalent-ellipse-spline-modelling/program/EquivalentEllipse/EllipseFitting.ipynb\n"
     ]
    },
    {
     "name": "stderr",
     "output_type": "stream",
     "text": [
      "/usr/local/lib/python3.4/dist-packages/IPython/nbformat/current.py:19: UserWarning: IPython.nbformat.current is deprecated.\n",
      "\n",
      "- use IPython.nbformat for read/write/validate public API\n",
      "- use IPython.nbformat.vX directly to composing notebooks of a particular version\n",
      "\n",
      "  \"\"\")\n"
     ]
    }
   ],
   "source": [
    "import numpy as np\n",
    "\n",
    "import matplotlib.pyplot as plt\n",
    "from matplotlib import pylab\n",
    "%matplotlib inline\n",
    "\n",
    "import os, sys\n",
    "sys.path.append(os.path.abspath('..'))\n",
    "\n",
    "import nbimport\n",
    "sys.meta_path.append(nbimport.NotebookFinder())\n",
    "\n",
    "from EquivalentEllipse.FindingCentre import find_centre\n",
    "from EquivalentEllipse.CutoutStraightening import straighten_cutout\n",
    "from EquivalentEllipse.EllipseFitting import fit_ellipse"
   ]
  },
  {
   "cell_type": "markdown",
   "metadata": {
    "collapsed": true
   },
   "source": [
    "## Define the object"
   ]
  },
  {
   "cell_type": "code",
   "execution_count": 2,
   "metadata": {
    "collapsed": true
   },
   "outputs": [],
   "source": [
    "class equivalent_ellipse(object):\n",
    "    \"\"\"Returns an equivalent ellipse. Requires the input of cutout X and Y coords along with the centre_fit function.\n",
    "    \"\"\"\n",
    "    def __init__(self, **kwargs):       \n",
    "        self.cutoutXCoords = kwargs['x']\n",
    "        self.cutoutYCoords = kwargs['y']\n",
    "        self.circle_fit = kwargs['circle_fit']\n",
    "\n",
    "        self.centre_search = find_centre(x=XCoords, y=YCoords, circle_fit=self.circle_fit)\n",
    "        self.centre = self.centre_search.centre\n",
    "        \n",
    "        self.straighened_cutout = straighten_cutout(x=XCoords, y=YCoords, centre = self.centre)\n",
    "        \n",
    "        self.ellipse_fit = fit_ellipse(x=self.straighened_cutout.straightenedXCoords, \n",
    "                                       y=self.straighened_cutout.straightenedYCoords)\n",
    "        \n",
    "        self.inputCutout = self.straighened_cutout.cutout\n",
    "        self.centredCutout = self.straighened_cutout.centralCutout\n",
    "        self.straightenedCutout = self.ellipse_fit.cutout\n",
    "        \n",
    "        self.eqEllipse = self.ellipse_fit.ellipse\n",
    "        self.eqEllipseXCoords = self.ellipse_fit.ellipseXCoords\n",
    "        self.eqEllipseYCoords = self.ellipse_fit.ellipseYCoords\n",
    "        \n",
    "        self.width = self.ellipse_fit.width\n",
    "        self.length = self.ellipse_fit.length"
   ]
  },
  {
   "cell_type": "markdown",
   "metadata": {},
   "source": [
    "## Execute no further if being imported\n",
    "\n",
    "Don't want to waste time running the example if this notebook is just being imported. The following cell triggers the notebook import to stop."
   ]
  },
  {
   "cell_type": "code",
   "execution_count": 3,
   "metadata": {
    "collapsed": false
   },
   "outputs": [
    {
     "data": {
      "text/plain": [
       "'stop nbimport'"
      ]
     },
     "execution_count": 3,
     "metadata": {},
     "output_type": "execute_result"
    }
   ],
   "source": [
    "'stop nbimport'"
   ]
  },
  {
   "cell_type": "markdown",
   "metadata": {},
   "source": [
    "## Example"
   ]
  },
  {
   "cell_type": "code",
   "execution_count": 4,
   "metadata": {
    "collapsed": true
   },
   "outputs": [],
   "source": [
    "import descartes as des"
   ]
  },
  {
   "cell_type": "markdown",
   "metadata": {},
   "source": [
    "### Define the cutout"
   ]
  },
  {
   "cell_type": "code",
   "execution_count": 5,
   "metadata": {
    "collapsed": false
   },
   "outputs": [
    {
     "data": {
      "image/png": "[encoded data removed]",
      "text/plain": [
       "<matplotlib.figure.Figure at 0x7fb80bc4bf60>"
      ]
     },
     "metadata": {},
     "output_type": "display_data"
    }
   ],
   "source": [
    "XCoords = np.array([-1,-0.2,0,0.7,1,0])*4\n",
    "YCoords = np.array([0,-1,-.8,0,.6,1])*4\n",
    "\n",
    "plt.scatter(XCoords, YCoords)\n",
    "plt.plot(np.append(XCoords, XCoords[0]), \n",
    "         np.append(YCoords, YCoords[0]))\n",
    "plt.axis(\"equal\")\n",
    "plt.grid(True)"
   ]
  },
  {
   "cell_type": "markdown",
   "metadata": {},
   "source": [
    "### Defining the circle fit from example measured factors"
   ]
  },
  {
   "cell_type": "code",
   "execution_count": 6,
   "metadata": {
    "collapsed": false
   },
   "outputs": [
    {
     "data": {
      "text/plain": [
       "<matplotlib.collections.PathCollection at 0x7fb80bb5bd68>"
      ]
     },
     "execution_count": 6,
     "metadata": {},
     "output_type": "execute_result"
    },
    {
     "data": {
      "image/png": "[encoded data removed]",
      "text/plain": [
       "<matplotlib.figure.Figure at 0x7fb80bc57b38>"
      ]
     },
     "metadata": {},
     "output_type": "display_data"
    }
   ],
   "source": [
    "circle_diameter = np.array([3,4,5,6,7,8,9])\n",
    "circle_factors = np.array([0.9296,0.9562,0.9705,0.9858,1.0032,1.0067,1.0084])\n",
    "\n",
    "plt.scatter(circle_diameter, circle_factors)"
   ]
  },
  {
   "cell_type": "code",
   "execution_count": 7,
   "metadata": {
    "collapsed": true
   },
   "outputs": [],
   "source": [
    "from scipy.interpolate import UnivariateSpline\n",
    "\n",
    "def circle_fit(radii):\n",
    "    \n",
    "    circle_radii = circle_diameter/2\n",
    "    \n",
    "    spline = UnivariateSpline(circle_radii, circle_factors)\n",
    "    results = spline(radii)\n",
    "    \n",
    "    results[radii>np.max(circle_radii)] = np.max(circle_factors)\n",
    "    results[radii<np.min(circle_radii)] = 0\n",
    "    \n",
    "    return results"
   ]
  },
  {
   "cell_type": "code",
   "execution_count": 8,
   "metadata": {
    "collapsed": false
   },
   "outputs": [
    {
     "data": {
      "text/plain": [
       "[<matplotlib.lines.Line2D at 0x7fb80bae80f0>]"
      ]
     },
     "execution_count": 8,
     "metadata": {},
     "output_type": "execute_result"
    },
    {
     "data": {
      "image/png": "[encoded data removed]",
      "text/plain": [
       "<matplotlib.figure.Figure at 0x7fb80bae8390>"
      ]
     },
     "metadata": {},
     "output_type": "display_data"
    }
   ],
   "source": [
    "t = np.linspace(circle_diameter.min(),13)\n",
    "y = circle_fit(t/2)\n",
    "\n",
    "plt.scatter(circle_diameter, circle_factors)\n",
    "plt.plot(t,y)"
   ]
  },
  {
   "cell_type": "markdown",
   "metadata": {},
   "source": [
    "### Finding the equivalent ellipse"
   ]
  },
  {
   "cell_type": "code",
   "execution_count": 9,
   "metadata": {
    "collapsed": false
   },
   "outputs": [],
   "source": [
    "equivalentEllipse = equivalent_ellipse(x=XCoords, y=YCoords, circle_fit=circle_fit)"
   ]
  },
  {
   "cell_type": "code",
   "execution_count": 19,
   "metadata": {
    "collapsed": false
   },
   "outputs": [
    {
     "data": {
      "text/plain": [
       "(-5.0, 5.0, -5.0, 5.0)"
      ]
     },
     "execution_count": 19,
     "metadata": {},
     "output_type": "execute_result"
    },
    {
     "data": {
      "image/png": "[encoded data removed]",
      "text/plain": [
       "<matplotlib.figure.Figure at 0x7fb80bae8470>"
      ]
     },
     "metadata": {},
     "output_type": "display_data"
    }
   ],
   "source": [
    "fig = plt.figure()\n",
    "ax = fig.add_subplot(111)\n",
    "\n",
    "patch = des.PolygonPatch(equivalentEllipse.centredCutout, fc=np.random.uniform(size=3), alpha=0.3)\n",
    "ax.add_patch(patch)\n",
    "\n",
    "patch = des.PolygonPatch(equivalentEllipse.straightenedCutout, fc=np.random.uniform(size=3), alpha=0.3)\n",
    "ax.add_patch(patch)\n",
    "\n",
    "patch = des.PolygonPatch(equivalentEllipse.eqEllipse, fc=np.random.uniform(size=3), alpha=0.5)\n",
    "ax.add_patch(patch)\n",
    "\n",
    "plt.scatter(0,0)\n",
    "\n",
    "ax.set_xlim([-equivalentEllipse.straighened_cutout.maxRadii, equivalentEllipse.straighened_cutout.maxRadii])\n",
    "ax.set_ylim([-equivalentEllipse.straighened_cutout.maxRadii, equivalentEllipse.straighened_cutout.maxRadii])\n",
    "ax.axis(\"equal\")"
   ]
  },
  {
   "cell_type": "markdown",
   "metadata": {},
   "source": [
    "## Concepts used to program the equivalent ellipse object\n",
    "\n",
    "Below is a documentation of the investigative process used to develop the equivalent ellipse object"
   ]
  },
  {
   "cell_type": "code",
   "execution_count": 14,
   "metadata": {
    "collapsed": true
   },
   "outputs": [],
   "source": [
    "exampleFindCentre = find_centre(x=XCoords, y=YCoords, circle_fit=circle_fit)"
   ]
  },
  {
   "cell_type": "code",
   "execution_count": 15,
   "metadata": {
    "collapsed": true
   },
   "outputs": [],
   "source": [
    "straighenedCutout = straighten_cutout(x=XCoords, y=YCoords, centre=exampleFindCentre.centre)"
   ]
  },
  {
   "cell_type": "code",
   "execution_count": 16,
   "metadata": {
    "collapsed": true
   },
   "outputs": [],
   "source": [
    "ellipse_fitting_example = fit_ellipse(x=straighenedCutout.straightenedXCoords, \n",
    "                                      y=straighenedCutout.straightenedYCoords)"
   ]
  },
  {
   "cell_type": "code",
   "execution_count": 17,
   "metadata": {
    "collapsed": false
   },
   "outputs": [
    {
     "data": {
      "image/svg+xml": [
       "<svg xmlns=\"http://www.w3.org/2000/svg\" xmlns:xlink=\"http://www.w3.org/1999/xlink\" width=\"100.0\" height=\"100.0\" viewBox=\"-3.6323270187905283 -3.6323270229696507 7.264654022980358 7.264653993731929\" preserveAspectRatio=\"xMinYMin meet\"><g transform=\"matrix(1,0,0,-1,0,-5.22073726472172e-08)\"><path fill-rule=\"evenodd\" fill=\"#66cc99\" stroke=\"#555555\" stroke-width=\"0.14529308045960718\" opacity=\"0.6\" d=\"M 1.8233411184826853,-1.8233411718264345 L 1.537501304780272,-2.0916212106220193 L 1.2368545129588102,-2.3397577940142456 L 0.9242961359737951,-2.565361231059792 L 0.6028362818573818,-2.7662588373325265 L 0.2755707847325424,-2.94051585906224 L -0.054348609761892167,-3.0864541058710975 L -0.38374459750465384,-3.202668112664369 L -0.7094449150676161,-3.2880386750275963 L -1.028312890346744,-3.3417436277769252 L -1.337277650429133,-3.363265762859267 L -1.6333636957778708,-3.3523978103485823 L -1.9137195559191522,-3.3092444345685768 L -2.1756452506617157,-3.234221226118046 L -2.416618292382039,-3.1280506995062254 L -2.634317978959092,-2.9917553349431016 L -2.8266477434043837,-2.8266477312960427 L -2.991755344948162,-2.6343179650451662 L -3.128050707130564,-2.416618276977613 L -3.2342212311071497,-2.1756452340962302 L -3.3092444366933114,-1.9137195385332282 L -3.3523978094074005,-1.6333636779200298 L -3.3632657586801447,-1.337277632452442 L -3.341743620219024,-1.0283128726054154 L -3.288038663982616,-0.7094448979135939 L -3.2026680980575923,-0.38374458128422734 L -3.0864540876621094,-0.05434859481235924 L -2.940515837245316,0.2755707980861228 L -2.766258811936689,0.6028362933053213 L -2.565361202148531,0.9242961452247573 L -2.339757761684905,1.2368545197426168 L -2.091621175004862,1.5375013088505047 L -1.8233411330833875,1.8233411196190592 L -1.5375013193809735,2.091621158414644 L -1.2368545275595113,2.339757741806871 L -0.9242961505744954,2.565361178852418 L -0.6028362964580816,2.766258785125153 L -0.27557079933324147,2.9405158068548674 L 0.05434859516119371,3.0864540536637244 L 0.3837445829039565,3.202668060456996 L 0.7094449004669197,3.2880386228202236 L 1.0283128757460465,3.3417435755695526 L 1.3372776358284342,3.3632657106518944 L 1.6333636811771715,3.3523977581412097 L 1.9137195413184527,3.309244382361203 L 2.175645236061015,3.2342211739106728 L 2.4166182777813376,3.1280506472988527 L 2.6343179643583907,2.99175528273573 L 2.8266477288036826,2.8266476790886714 L 2.991755330347461,2.634317912837796 L 3.128050692529863,2.416618224770244 L 3.2342212165064486,2.1756451818888616 L 3.3092444220926116,1.913719486325861 L 3.3523977948067007,1.6333636257126638 L 3.3632657440794462,1.3372775802450778 L 3.3417436056183263,1.0283128203980525 L 3.288038649381919,0.7094448457062335 L 3.2026680834568975,0.38374452907686835 L 3.0864540730614163,0.05434854260500185 L 2.9405158226446253,-0.2755708502934789 L 2.7662587973360004,-0.602836345512676 L 2.565361187547844,-0.9242961974321111 L 2.339757747084221,-1.2368545719499695 L 2.0916211604041806,-1.537501361057857 L 1.8233411184827086,-1.8233411718264112 L 1.8233411184826853,-1.8233411718264345 z\" /></g></svg>"
      ],
      "text/plain": [
       "<shapely.geometry.polygon.Polygon at 0x7fb80aa34390>"
      ]
     },
     "execution_count": 17,
     "metadata": {},
     "output_type": "execute_result"
    }
   ],
   "source": [
    "ellipse_fitting_example.ellipse"
   ]
  },
  {
   "cell_type": "code",
   "execution_count": 18,
   "metadata": {
    "collapsed": false
   },
   "outputs": [
    {
     "data": {
      "text/plain": [
       "(5.1571875260290039, 7.9949670851833465)"
      ]
     },
     "execution_count": 18,
     "metadata": {},
     "output_type": "execute_result"
    }
   ],
   "source": [
    "ellipse_fitting_example.width, ellipse_fitting_example.length"
   ]
  },
  {
   "cell_type": "code",
   "execution_count": null,
   "metadata": {
    "collapsed": true
   },
   "outputs": [],
   "source": []
  }
 ],
 "metadata": {
  "kernelspec": {
   "display_name": "Python 3",
   "language": "python",
   "name": "python3"
  },
  "language_info": {
   "codemirror_mode": {
    "name": "ipython",
    "version": 3
   },
   "file_extension": ".py",
   "mimetype": "text/x-python",
   "name": "python",
   "nbconvert_exporter": "python",
   "pygments_lexer": "ipython3",
   "version": "3.4.0"
  }
 },
 "nbformat": 4,
 "nbformat_minor": 0
}
