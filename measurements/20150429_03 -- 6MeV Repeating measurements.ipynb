{
 "cells": [
  {
   "cell_type": "code",
   "execution_count": 2,
   "metadata": {
    "collapsed": false
   },
   "outputs": [],
   "source": [
    "import numpy as np\n",
    "import matplotlib.pyplot as plt\n",
    "%matplotlib inline\n",
    "\n",
    "import sys\n",
    "sys.path.append(\"../\")\n",
    "\n",
    "from electronfactors.measurement.utilities import *"
   ]
  },
  {
   "cell_type": "code",
   "execution_count": 3,
   "metadata": {
    "collapsed": false
   },
   "outputs": [],
   "source": [
    "data = dict()"
   ]
  },
  {
   "cell_type": "markdown",
   "metadata": {},
   "source": [
    "## 6 MeV"
   ]
  },
  {
   "cell_type": "code",
   "execution_count": 4,
   "metadata": {
    "collapsed": false
   },
   "outputs": [
    {
     "data": {
      "text/plain": [
       "array([13])"
      ]
     },
     "execution_count": 4,
     "metadata": {},
     "output_type": "execute_result"
    }
   ],
   "source": [
    "energy_to_reference_depth(6)"
   ]
  },
  {
   "cell_type": "code",
   "execution_count": 5,
   "metadata": {
    "collapsed": false
   },
   "outputs": [
    {
     "data": {
      "text/plain": [
       "1.0036666666666665"
      ]
     },
     "execution_count": 5,
     "metadata": {},
     "output_type": "execute_result"
    }
   ],
   "source": [
    "# Standard insert 10app 6MeV\n",
    "np.mean([1.003, 1.004, 1.004])"
   ]
  },
  {
   "cell_type": "code",
   "execution_count": 6,
   "metadata": {
    "collapsed": false
   },
   "outputs": [
    {
     "name": "stdout",
     "output_type": "stream",
     "text": [
      "Cutout factor = 1.007 | 0.7%\n",
      "Inverse factor = 0.993 | -0.7%\n"
     ]
    }
   ],
   "source": [
    "key = '7.25cm_6MeV'\n",
    "\n",
    "data = initialise(\n",
    "    key=key, data=data,\n",
    "    reference=1.0037,\n",
    "    energy=6    \n",
    ")\n",
    "\n",
    "data = new_reading(\n",
    "    key=key, data=data,\n",
    "    ionisation=[1.011, 1.011],\n",
    "    depth=13\n",
    ")\n",
    "\n",
    "data[key]['factor'] = calc_and_display(**data[key])"
   ]
  },
  {
   "cell_type": "code",
   "execution_count": 7,
   "metadata": {
    "collapsed": false
   },
   "outputs": [
    {
     "name": "stdout",
     "output_type": "stream",
     "text": [
      "Cutout factor = 1.002 | 0.2%\n",
      "Inverse factor = 0.998 | -0.2%\n"
     ]
    }
   ],
   "source": [
    "key = '8.3cm_6MeV'\n",
    "\n",
    "data = initialise(\n",
    "    key=key, data=data,\n",
    "    reference=1.0037,\n",
    "    energy=6    \n",
    ")\n",
    "\n",
    "data = new_reading(\n",
    "    key=key, data=data,\n",
    "    ionisation=[1.006, ],\n",
    "    depth=13\n",
    ")\n",
    "\n",
    "data[key]['factor'] = calc_and_display(**data[key])"
   ]
  },
  {
   "cell_type": "code",
   "execution_count": 8,
   "metadata": {
    "collapsed": false
   },
   "outputs": [
    {
     "name": "stdout",
     "output_type": "stream",
     "text": [
      "Cutout factor = 1.005 | 0.5%\n",
      "Inverse factor = 0.995 | -0.5%\n"
     ]
    }
   ],
   "source": [
    "key = '9.5cm_6MeV'\n",
    "\n",
    "data = initialise(\n",
    "    key=key, data=data,\n",
    "    reference=1.0037,\n",
    "    energy=6    \n",
    ")\n",
    "\n",
    "data = new_reading(\n",
    "    key=key, data=data,\n",
    "    ionisation=[1.009],\n",
    "    depth=13\n",
    ")\n",
    "\n",
    "data[key]['factor'] = calc_and_display(**data[key])"
   ]
  },
  {
   "cell_type": "code",
   "execution_count": null,
   "metadata": {
    "collapsed": true
   },
   "outputs": [],
   "source": [
    "# Standard insert 10app 6MeV\n",
    "np.mean([1.004])"
   ]
  },
  {
   "cell_type": "code",
   "execution_count": 10,
   "metadata": {
    "collapsed": false
   },
   "outputs": [
    {
     "name": "stdout",
     "output_type": "stream",
     "text": [
      "Cutout factor = 1.006 | 0.6%\n",
      "Inverse factor = 0.994 | -0.6%\n"
     ]
    }
   ],
   "source": [
    "key = '8.3cm_repoured_6MeV'\n",
    "\n",
    "data = initialise(\n",
    "    key=key, data=data,\n",
    "    reference=1.004,\n",
    "    energy=6\n",
    ")\n",
    "\n",
    "data = new_reading(\n",
    "    key=key, data=data,\n",
    "    ionisation=[1.010, 1.010],\n",
    "    depth=13\n",
    ")\n",
    "\n",
    "data[key]['factor'] = calc_and_display(**data[key])"
   ]
  },
  {
   "cell_type": "code",
   "execution_count": null,
   "metadata": {
    "collapsed": true
   },
   "outputs": [],
   "source": []
  }
 ],
 "metadata": {
  "kernelspec": {
   "display_name": "Python 3",
   "language": "python",
   "name": "python3"
  },
  "language_info": {
   "codemirror_mode": {
    "name": "ipython",
    "version": 3
   },
   "file_extension": ".py",
   "mimetype": "text/x-python",
   "name": "python",
   "nbconvert_exporter": "python",
   "pygments_lexer": "ipython3",
   "version": "3.4.0"
  }
 },
 "nbformat": 4,
 "nbformat_minor": 0
}
