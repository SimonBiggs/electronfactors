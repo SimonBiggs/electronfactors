{
 "cells": [
  {
   "cell_type": "markdown",
   "metadata": {},
   "source": [
    "# Find the Equivalent Ellipse"
   ]
  },
  {
   "cell_type": "markdown",
   "metadata": {},
   "source": [
    "This notebook makes defines an object class which takes cutout shape defining points as an input along with a user defined cutout factor `circle_fit` function and returns the equivalent ellipse. An example of how to define the `circle_fit` function is given in the [example below](#Defining-the-circle-fit-from-example-measured-factors).\n",
    "\n",
    "To calculate the equivalent ellipse a seriese of objects are used which can each be found in their own notebook. These are outlined as such:\n",
    "\n",
    " * Finding the position of maximum dose output defined in [FindingCentre.ipynb](FindingCentre.ipynb)\n",
    "   * Which makes use of [SectorIntegration.ipynb](SectorIntegration.ipynb)\n",
    " * Cutout straightening defined in [CutoutStraightening.ipynb](CutoutStraightening.ipynb)\n",
    " * Ellipse fitting found in [EllipseFitting.ipynb](EllipseFitting.ipynb)\n",
    " \n",
    "An example of using the `equivalent_ellipse` object found within this notebook is given [at the bottom of this notebook](#Example)"
   ]
  },
  {
   "cell_type": "markdown",
   "metadata": {},
   "source": [
    "## Copyright information\n",
    "\n",
    "Copyright © 2015 Simon Biggs\n",
    "\n",
    "This program is free software: you can redistribute it and/or modify it under the terms of the GNU Affero General Public License as published by the Free Software Foundation, either version 3 of the License, or (at your option) any later version.\n",
    "\n",
    "This program is distributed in the hope that it will be useful, but WITHOUT ANY WARRANTY; without even the implied warranty of MERCHANTABILITY or FITNESS FOR A PARTICULAR PURPOSE. See the GNU Affero General Public License for more details.\n",
    "\n",
    "You should have received a copy of the GNU Affero General Public License along with this program. If not, see http://www.gnu.org/licenses/."
   ]
  },
  {
   "cell_type": "markdown",
   "metadata": {},
   "source": [
    "## Import modules"
   ]
  },
  {
   "cell_type": "code",
   "execution_count": 1,
   "metadata": {
    "collapsed": false
   },
   "outputs": [],
   "source": [
    "import numpy as np\n",
    "\n",
    "from equivalent_ellipse import EquivalentEllipse\n",
    "# import os, sys\n",
    "# sys.path.append(os.path.abspath('..'))\n",
    "\n",
    "# import nbimport\n",
    "# sys.meta_path.append(nbimport.NotebookFinder())\n",
    "\n",
    "# from EquivalentEllipse.FindingCentre import find_centre\n",
    "# from EquivalentEllipse.CutoutStraightening import straighten_cutout\n",
    "# from EquivalentEllipse.EllipseFitting import fit_ellipse"
   ]
  },
  {
   "cell_type": "markdown",
   "metadata": {
    "collapsed": true
   },
   "source": [
    "## Define the object"
   ]
  },
  {
   "cell_type": "code",
   "execution_count": 2,
   "metadata": {
    "collapsed": true
   },
   "outputs": [],
   "source": [
    "# class equivalent_ellipse(object):\n",
    "#     \"\"\"Returns an equivalent ellipse. Requires the input of cutout X and Y coords along with the centre_fit function.\n",
    "#     \"\"\"\n",
    "#     def __init__(self, **kwargs):       \n",
    "#         self.cutoutXCoords = kwargs['x']\n",
    "#         self.cutoutYCoords = kwargs['y']\n",
    "#         self.circle_fit = kwargs['circle_fit']\n",
    "\n",
    "#         self.centre_search = find_centre(x=XCoords, y=YCoords, circle_fit=self.circle_fit)\n",
    "#         self.centre = self.centre_search.centre\n",
    "        \n",
    "#         self.straighened_cutout = straighten_cutout(x=XCoords, y=YCoords, centre = self.centre)\n",
    "        \n",
    "#         self.ellipse_fit = fit_ellipse(x=self.straighened_cutout.straightenedXCoords, \n",
    "#                                        y=self.straighened_cutout.straightenedYCoords)\n",
    "        \n",
    "#         self.inputCutout = self.straighened_cutout.cutout\n",
    "#         self.centredCutout = self.straighened_cutout.centralCutout\n",
    "#         self.straightenedCutout = self.ellipse_fit.cutout\n",
    "        \n",
    "#         self.eqEllipse = self.ellipse_fit.ellipse\n",
    "#         self.eqEllipseXCoords = self.ellipse_fit.ellipseXCoords\n",
    "#         self.eqEllipseYCoords = self.ellipse_fit.ellipseYCoords\n",
    "        \n",
    "#         self.width = self.ellipse_fit.width\n",
    "#         self.length = self.ellipse_fit.length"
   ]
  },
  {
   "cell_type": "markdown",
   "metadata": {},
   "source": [
    "## Execute no further if being imported"
   ]
  },
  {
   "cell_type": "markdown",
   "metadata": {},
   "source": [
    "Don't want to waste time running the example if this notebook is just being imported. The following cell triggers the notebook import to stop."
   ]
  },
  {
   "cell_type": "code",
   "execution_count": 3,
   "metadata": {
    "collapsed": false
   },
   "outputs": [
    {
     "data": {
      "text/plain": [
       "'stop nbimport'"
      ]
     },
     "execution_count": 3,
     "metadata": {},
     "output_type": "execute_result"
    }
   ],
   "source": [
    "'stop nbimport'"
   ]
  },
  {
   "cell_type": "markdown",
   "metadata": {},
   "source": [
    "## Example"
   ]
  },
  {
   "cell_type": "code",
   "execution_count": 4,
   "metadata": {
    "collapsed": true
   },
   "outputs": [],
   "source": [
    "import matplotlib.pyplot as plt\n",
    "from matplotlib import pylab\n",
    "%matplotlib inline\n",
    "\n",
    "import descartes as des"
   ]
  },
  {
   "cell_type": "markdown",
   "metadata": {},
   "source": [
    "### Define the cutout"
   ]
  },
  {
   "cell_type": "code",
   "execution_count": 5,
   "metadata": {
    "collapsed": false
   },
   "outputs": [
    {
     "data": {
      "image/png": "[encoded data removed]",
      "text/plain": [
       "<matplotlib.figure.Figure at 0x7fe06754f7f0>"
      ]
     },
     "metadata": {},
     "output_type": "display_data"
    }
   ],
   "source": [
    "XCoords = np.array([-1,-0.2,0,0.7,1,0])*4\n",
    "YCoords = np.array([0,-1,-.8,0,.6,1])*4\n",
    "\n",
    "plt.scatter(XCoords, YCoords)\n",
    "plt.plot(np.append(XCoords, XCoords[0]), \n",
    "         np.append(YCoords, YCoords[0]))\n",
    "plt.axis(\"equal\")\n",
    "plt.grid(True)"
   ]
  },
  {
   "cell_type": "markdown",
   "metadata": {},
   "source": [
    "### Defining the circle fit from example measured factors"
   ]
  },
  {
   "cell_type": "code",
   "execution_count": 6,
   "metadata": {
    "collapsed": false
   },
   "outputs": [
    {
     "data": {
      "text/plain": [
       "<matplotlib.collections.PathCollection at 0x7fe067457a58>"
      ]
     },
     "execution_count": 6,
     "metadata": {},
     "output_type": "execute_result"
    },
    {
     "data": {
      "image/png": "[encoded data removed]",
      "text/plain": [
       "<matplotlib.figure.Figure at 0x7fe06751e358>"
      ]
     },
     "metadata": {},
     "output_type": "display_data"
    }
   ],
   "source": [
    "circle_diameter = np.array([3,4,5,6,7,8,9])\n",
    "circle_factors = np.array([0.9296,0.9562,0.9705,0.9858,1.0032,1.0067,1.0084])\n",
    "\n",
    "plt.scatter(circle_diameter, circle_factors)"
   ]
  },
  {
   "cell_type": "code",
   "execution_count": 7,
   "metadata": {
    "collapsed": true
   },
   "outputs": [],
   "source": [
    "from scipy.interpolate import UnivariateSpline\n",
    "\n",
    "def circle_fit(radii):\n",
    "    \n",
    "    circle_radii = circle_diameter/2\n",
    "    \n",
    "    spline = UnivariateSpline(circle_radii, circle_factors)\n",
    "    results = spline(radii)\n",
    "    \n",
    "    results[radii>np.max(circle_radii)] = np.max(circle_factors)\n",
    "    results[radii<np.min(circle_radii)] = 0\n",
    "    \n",
    "    return results"
   ]
  },
  {
   "cell_type": "code",
   "execution_count": 8,
   "metadata": {
    "collapsed": false
   },
   "outputs": [
    {
     "data": {
      "text/plain": [
       "[<matplotlib.lines.Line2D at 0x7fe067467f60>]"
      ]
     },
     "execution_count": 8,
     "metadata": {},
     "output_type": "execute_result"
    },
    {
     "data": {
      "image/png": "[encoded data removed]",
      "text/plain": [
       "<matplotlib.figure.Figure at 0x7fe067467f28>"
      ]
     },
     "metadata": {},
     "output_type": "display_data"
    }
   ],
   "source": [
    "t = np.linspace(circle_diameter.min(),13)\n",
    "y = circle_fit(t/2)\n",
    "\n",
    "plt.scatter(circle_diameter, circle_factors)\n",
    "plt.plot(t,y)"
   ]
  },
  {
   "cell_type": "markdown",
   "metadata": {},
   "source": [
    "### Finding the equivalent ellipse"
   ]
  },
  {
   "cell_type": "code",
   "execution_count": 9,
   "metadata": {
    "collapsed": false
   },
   "outputs": [],
   "source": [
    "equivalentEllipse = EquivalentEllipse(x=XCoords, y=YCoords, circle_fit=circle_fit)\n",
    "\n",
    "# The ellipse fit method needs to be weighted according to the derivative of `circle_fit`. \n",
    "# Width is more important than length."
   ]
  },
  {
   "cell_type": "code",
   "execution_count": 15,
   "metadata": {
    "collapsed": false
   },
   "outputs": [
    {
     "data": {
      "text/plain": [
       "(-5.0, 5.0, -5.0, 5.0)"
      ]
     },
     "execution_count": 15,
     "metadata": {},
     "output_type": "execute_result"
    },
    {
     "data": {
      "image/png": "[encoded data removed]",
      "text/plain": [
       "<matplotlib.figure.Figure at 0x7fe06613eda0>"
      ]
     },
     "metadata": {},
     "output_type": "display_data"
    }
   ],
   "source": [
    "fig = plt.figure()\n",
    "ax = fig.add_subplot(111)\n",
    "\n",
    "patch = des.PolygonPatch(equivalentEllipse.centredCutout, fc=np.random.uniform(size=3), alpha=0.3)\n",
    "ax.add_patch(patch)\n",
    "\n",
    "patch = des.PolygonPatch(equivalentEllipse.straightenedCutout, fc=np.random.uniform(size=3), alpha=1)\n",
    "ax.add_patch(patch)\n",
    "\n",
    "patch = des.PolygonPatch(equivalentEllipse.eqEllipse, fc=np.random.uniform(size=3), alpha=0.3)\n",
    "ax.add_patch(patch)\n",
    "\n",
    "plt.scatter(0,0)\n",
    "\n",
    "ax.set_xlim([-equivalentEllipse._Straightened.maxRadii, equivalentEllipse._Straightened.maxRadii])\n",
    "ax.set_ylim([-equivalentEllipse._Straightened.maxRadii, equivalentEllipse._Straightened.maxRadii])\n",
    "ax.axis(\"equal\")"
   ]
  },
  {
   "cell_type": "markdown",
   "metadata": {},
   "source": [
    "## Concepts used to program the equivalent ellipse object\n",
    "\n",
    "Below is a documentation of the investigative process used to develop the equivalent ellipse object"
   ]
  },
  {
   "cell_type": "code",
   "execution_count": null,
   "metadata": {
    "collapsed": true
   },
   "outputs": [],
   "source": [
    "exampleFindCentre = find_centre(x=XCoords, y=YCoords, circle_fit=circle_fit)"
   ]
  },
  {
   "cell_type": "code",
   "execution_count": null,
   "metadata": {
    "collapsed": true
   },
   "outputs": [],
   "source": [
    "straighenedCutout = straighten_cutout(x=XCoords, y=YCoords, centre=exampleFindCentre.centre)"
   ]
  },
  {
   "cell_type": "code",
   "execution_count": null,
   "metadata": {
    "collapsed": true
   },
   "outputs": [],
   "source": [
    "ellipse_fitting_example = fit_ellipse(x=straighenedCutout.straightenedXCoords, \n",
    "                                      y=straighenedCutout.straightenedYCoords)"
   ]
  },
  {
   "cell_type": "code",
   "execution_count": null,
   "metadata": {
    "collapsed": false
   },
   "outputs": [],
   "source": [
    "ellipse_fitting_example.ellipse"
   ]
  },
  {
   "cell_type": "code",
   "execution_count": null,
   "metadata": {
    "collapsed": false
   },
   "outputs": [],
   "source": [
    "ellipse_fitting_example.width, ellipse_fitting_example.length"
   ]
  },
  {
   "cell_type": "code",
   "execution_count": null,
   "metadata": {
    "collapsed": true
   },
   "outputs": [],
   "source": []
  }
 ],
 "metadata": {
  "kernelspec": {
   "display_name": "Python 3",
   "language": "python",
   "name": "python3"
  },
  "language_info": {
   "codemirror_mode": {
    "name": "ipython",
    "version": 3
   },
   "file_extension": ".py",
   "mimetype": "text/x-python",
   "name": "python",
   "nbconvert_exporter": "python",
   "pygments_lexer": "ipython3",
   "version": "3.4.0"
  }
 },
 "nbformat": 4,
 "nbformat_minor": 0
}
