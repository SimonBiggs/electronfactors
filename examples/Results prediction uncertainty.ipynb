{
 "cells": [
  {
   "cell_type": "code",
   "execution_count": 1,
   "metadata": {
    "collapsed": false
   },
   "outputs": [],
   "source": [
    "import yaml\n",
    "import numpy as np\n",
    "\n",
    "import matplotlib.pyplot as plt\n",
    "%matplotlib inline\n",
    "\n",
    "import sys\n",
    "sys.path.append(\"../\")\n",
    "\n",
    "from electronfactors.model.utilities import *"
   ]
  },
  {
   "cell_type": "code",
   "execution_count": 21,
   "metadata": {
    "collapsed": false
   },
   "outputs": [],
   "source": [
    "def print_prediction_uncertainty(energy):\n",
    "    \n",
    "    width, eqPonA, factor = pull_data(energy=energy)   \n",
    "    percent_prediction_differences = calculate_percent_prediction_differences(width, eqPonA, factor)    \n",
    "    \n",
    "    prediction_uncertainty = np.std(percent_prediction_differences, ddof=1) / c4(len(percent_prediction_differences))\n",
    "       \n",
    "    mean = \"%0.2f\" %(np.mean(percent_prediction_differences))\n",
    "    uncertainty = \"%0.2f\" %(prediction_uncertainty)\n",
    "    total = \"%0.1f\" %(prediction_uncertainty + np.abs(np.mean(percent_prediction_differences)))\n",
    "    \n",
    "    print('Percent prediction difference for ' + str(energy) + ' MeV is: ' + mean + ' +/- ' + uncertainty + ' --> '+total)"
   ]
  },
  {
   "cell_type": "code",
   "execution_count": 22,
   "metadata": {
    "collapsed": false
   },
   "outputs": [
    {
     "name": "stdout",
     "output_type": "stream",
     "text": [
      "Percent prediction difference for 6 MeV is: -0.08 +/- 0.65 --> 0.7\n",
      "Percent prediction difference for 9 MeV is: -0.01 +/- 0.51 --> 0.5\n",
      "Percent prediction difference for 12 MeV is: -0.03 +/- 0.49 --> 0.5\n",
      "Percent prediction difference for 15 MeV is: -0.16 +/- 0.70 --> 0.9\n",
      "Percent prediction difference for 18 MeV is: -0.15 +/- 0.63 --> 0.8\n"
     ]
    }
   ],
   "source": [
    "for i in [6, 9, 12, 15, 18]:\n",
    "    print_prediction_uncertainty(i)"
   ]
  }
 ],
 "metadata": {
  "kernelspec": {
   "display_name": "Python 3",
   "language": "python",
   "name": "python3"
  },
  "language_info": {
   "codemirror_mode": {
    "name": "ipython",
    "version": 3
   },
   "file_extension": ".py",
   "mimetype": "text/x-python",
   "name": "python",
   "nbconvert_exporter": "python",
   "pygments_lexer": "ipython3",
   "version": "3.4.0"
  }
 },
 "nbformat": 4,
 "nbformat_minor": 0
}
