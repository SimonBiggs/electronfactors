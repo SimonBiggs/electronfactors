{
 "cells": [
  {
   "cell_type": "code",
   "execution_count": 1,
   "metadata": {
    "collapsed": true
   },
   "outputs": [],
   "source": [
    "import yaml\n",
    "import numpy as np\n",
    "import shapely.affinity as aff\n",
    "import shapely.geometry as geo\n",
    "import shapely.ops as ops"
   ]
  },
  {
   "cell_type": "code",
   "execution_count": 2,
   "metadata": {
    "collapsed": true
   },
   "outputs": [],
   "source": [
    "import matplotlib.pyplot as plt\n",
    "from matplotlib import pylab\n",
    "%matplotlib inline\n",
    "\n",
    "import descartes as des"
   ]
  },
  {
   "cell_type": "code",
   "execution_count": 3,
   "metadata": {
    "collapsed": true
   },
   "outputs": [],
   "source": [
    "import sys\n",
    "sys.path.append(\"../\")\n",
    "\n",
    "from electronfactors.ellipse.utilities import shapely_cutout, shapely_point"
   ]
  },
  {
   "cell_type": "code",
   "execution_count": null,
   "metadata": {
    "collapsed": true
   },
   "outputs": [],
   "source": []
  },
  {
   "cell_type": "code",
   "execution_count": 4,
   "metadata": {
    "collapsed": false
   },
   "outputs": [
    {
     "data": {
      "image/svg+xml": [
       "<svg xmlns=\"http://www.w3.org/2000/svg\" xmlns:xlink=\"http://www.w3.org/1999/xlink\" width=\"100.0\" height=\"100.0\" viewBox=\"-3.24 -3.24 6.48 6.48\" preserveAspectRatio=\"xMinYMin meet\"><g transform=\"matrix(1,0,0,-1,0,0.0)\"><path fill-rule=\"evenodd\" fill=\"#66cc99\" stroke=\"#555555\" stroke-width=\"0.12960000000000002\" opacity=\"0.6\" d=\"M 2.121320343559643,-2.1213203435596424 L 1.903179852490937,-2.3190313600882106 L 1.6667106990588074,-2.494408836907635 L 1.4141902104779938,-2.6457637930450644 L 1.1480502970952706,-2.77163859753386 L 0.8708540317633886,-2.870821007196626 L 0.5852709660483866,-2.942355841209691 L 0.2940514209886842,-2.9855541800165906 L 3.1086244689504383e-15,-3.0 L -0.2940514209886784,-2.9855541800165906 L -0.5852709660483812,-2.942355841209692 L -0.8708540317633837,-2.8708210071966276 L -1.1480502970952662,-2.7716385975338618 L -1.4141902104779893,-2.645763793045067 L -1.6667106990588028,-2.494408836907638 L -1.9031798524909327,-2.3190313600882138 L -2.121320343559639,-2.1213203435596464 L -2.3190313600882075,-1.9031798524909402 L -2.494408836907632,-1.6667106990588112 L -2.645763793045062,-1.4141902104779982 L -2.7716385975338578,-1.1480502970952753 L -2.870821007196625,-0.8708540317633938 L -2.94235584120969,-0.585270966048391 L -2.98555418001659,-0.294051420988688 L -3.0,-5.773159728050814e-15 L -2.985554180016591,0.2940514209886764 L -2.942355841209692,0.5852709660483797 L -2.870821007196628,0.8708540317633826 L -2.7716385975338618,1.1480502970952653 L -2.6457637930450675,1.414190210477989 L -2.4944088369076374,1.6667106990588032 L -2.3190313600882133,1.9031798524909338 L -2.121320343559645,2.12132034355964 L -1.9031798524909387,2.319031360088209 L -1.6667106990588092,2.4944088369076343 L -1.414190210477995,2.645763793045064 L -1.148050297095271,2.7716385975338595 L -0.8708540317633885,2.870821007196626 L -0.5852709660483861,2.9423558412096913 L -0.2940514209886831,2.9855541800165906 L -4.440892098500626e-16,3.0 L 0.29405142098867976,2.9855541800165906 L 0.5852709660483821,2.9423558412096917 L 0.8708540317633836,2.8708210071966276 L 1.148050297095265,2.771638597533862 L 1.4141902104779875,2.6457637930450675 L 1.6667106990588012,2.494408836907639 L 1.9031798524909305,2.3190313600882155 L 2.121320343559636,2.121320343559649 L 2.3190313600882044,1.9031798524909438 L 2.4944088369076294,1.6667106990588154 L 2.6457637930450595,1.4141902104780035 L 2.7716385975338556,1.1480502970952813 L 2.8708210071966223,0.8708540317634004 L 2.9423558412096886,0.5852709660483992 L 2.985554180016589,0.2940514209886973 L 3.0,1.687538997430238e-14 L 2.9855541800165923,-0.294051420988664 L 2.942355841209695,-0.5852709660483664 L 2.870821007196632,-0.8708540317633682 L 2.771638597533868,-1.1480502970952497 L 2.645763793045075,-1.4141902104779738 L 2.494408836907648,-1.6667106990587877 L 2.3190313600882257,-1.9031798524909178 L 2.12132034355966,-2.121320343559625 L 2.121320343559643,-2.1213203435596424 z\" /></g></svg>"
      ],
      "text/plain": [
       "<shapely.geometry.polygon.Polygon at 0x7fe6064ec0f0>"
      ]
     },
     "execution_count": 4,
     "metadata": {},
     "output_type": "execute_result"
    }
   ],
   "source": [
    "with open(\"output/AllInputs_guessed.yml\", 'r') as inputFile:\n",
    "    AllInputs_guessed = yaml.load(inputFile)\n",
    "\n",
    "XCoords = AllInputs_guessed['Simon 6cm circle']['XCoords']\n",
    "YCoords = AllInputs_guessed['Simon 6cm circle']['YCoords']\n",
    "\n",
    "# XCoords = AllInputs_guessed['Simon #16 cutout']['XCoords']\n",
    "# YCoords = AllInputs_guessed['Simon #16 cutout']['YCoords']\n",
    "\n",
    "# XCoords = AllInputs_guessed['Simon #73 cutout']['XCoords']\n",
    "# YCoords = AllInputs_guessed['Simon #73 cutout']['YCoords']\n",
    "\n",
    "\n",
    "\n",
    "cutout = shapely_cutout(XCoords, YCoords)\n",
    "cutout"
   ]
  },
  {
   "cell_type": "code",
   "execution_count": 5,
   "metadata": {
    "collapsed": true
   },
   "outputs": [],
   "source": [
    "centre = [0,0]\n",
    "centredCutout = aff.translate(cutout, xoff=-centre[0], yoff=-centre[1])"
   ]
  },
  {
   "cell_type": "code",
   "execution_count": 6,
   "metadata": {
    "collapsed": false
   },
   "outputs": [
    {
     "data": {
      "text/plain": [
       "2.996386368615516"
      ]
     },
     "execution_count": 6,
     "metadata": {},
     "output_type": "execute_result"
    }
   ],
   "source": [
    "shapely_point(0,0).distance(centredCutout.boundary)"
   ]
  },
  {
   "cell_type": "code",
   "execution_count": 7,
   "metadata": {
    "collapsed": true
   },
   "outputs": [],
   "source": [
    "# def create_zones(numZones, maxRadii):\n",
    "#     zoneBoundaryRadii = np.linspace(0, maxRadii, numZones + 1)\n",
    "#     zoneBoundaries = [0]*(numZones+1)\n",
    "#     zoneRegions = [0]*numZones\n",
    "#     zoneMidDist = (zoneBoundaryRadii[0:-1] + zoneBoundaryRadii[1:])/2\n",
    "\n",
    "#     for i in range(numZones + 1):\n",
    "#         zoneBoundaries[i] = geo.Point(0, 0).buffer(zoneBoundaryRadii[i])\n",
    "\n",
    "#     for i in range(numZones):\n",
    "#         zoneRegions[i] = zoneBoundaries[i+1].difference(zoneBoundaries[i])\n",
    "\n",
    "#     return zoneMidDist, zoneRegions"
   ]
  },
  {
   "cell_type": "code",
   "execution_count": 8,
   "metadata": {
    "collapsed": false
   },
   "outputs": [],
   "source": [
    "# Have each zone overlap halfway\n",
    "\n",
    "maxRadii = np.max(centredCutout.bounds) * np.sqrt(2)\n",
    "numZones = 300\n",
    "\n",
    "zoneWidth = maxRadii / numZones * 1.5\n",
    "zoneMinBound = np.linspace(0, maxRadii - zoneWidth, numZones)\n",
    "zoneMaxBound = zoneMinBound + zoneWidth\n",
    "\n",
    "def shapely_circle(radii):\n",
    "    return geo.Point(0, 0).buffer(radii)\n",
    "\n",
    "zone_list = [\n",
    "    shapely_circle(zoneMaxBound[i]).difference(shapely_circle(zoneMinBound[i])) \n",
    "    for i in range(numZones)\n",
    "]"
   ]
  },
  {
   "cell_type": "code",
   "execution_count": 9,
   "metadata": {
    "collapsed": false
   },
   "outputs": [],
   "source": [
    "zones = [geo.Polygon(zone_list[i]) for i in range(numZones)]\n",
    "zoneMidDist = (zoneMaxBound + zoneMinBound) / 2\n",
    "\n",
    "zoneRegions = zones"
   ]
  },
  {
   "cell_type": "code",
   "execution_count": 10,
   "metadata": {
    "collapsed": false
   },
   "outputs": [],
   "source": [
    "# maxRadii = np.max(centredCutout.bounds) * np.sqrt(2)\n",
    "# numZones = 100\n",
    "\n",
    "# zoneMidDist, zoneRegions = create_zones(numZones, maxRadii) # Make the zones with multipolygons"
   ]
  },
  {
   "cell_type": "code",
   "execution_count": 11,
   "metadata": {
    "collapsed": false
   },
   "outputs": [],
   "source": [
    "zoneRatioAreas = np.zeros(numZones)\n",
    "\n",
    "for i in range(numZones):\n",
    "    intersectionArea = centredCutout.intersection(zoneRegions[i]).area\n",
    "    zoneArea = zoneRegions[i].area\n",
    "    zoneRatioAreas[i] = intersectionArea / zoneArea"
   ]
  },
  {
   "cell_type": "code",
   "execution_count": 12,
   "metadata": {
    "collapsed": false
   },
   "outputs": [
    {
     "data": {
      "text/plain": [
       "[<matplotlib.lines.Line2D at 0x7fe6063dcf60>]"
      ]
     },
     "execution_count": 12,
     "metadata": {},
     "output_type": "execute_result"
    },
    {
     "data": {
      "image/png": "[encoded data removed]",
      "text/plain": [
       "<matplotlib.figure.Figure at 0x7fe6064ec780>"
      ]
     },
     "metadata": {},
     "output_type": "display_data"
    }
   ],
   "source": [
    "plt.plot(zoneRatioAreas)"
   ]
  },
  {
   "cell_type": "code",
   "execution_count": 13,
   "metadata": {
    "collapsed": false
   },
   "outputs": [],
   "source": [
    "def create_intersection_cut(ratio):\n",
    "    placementAngle = np.pi/2 * (1 - ratio)\n",
    "    x = np.sqrt(2) * maxRadii * np.cos(placementAngle)\n",
    "    y = np.sqrt(2) * maxRadii * np.sin(placementAngle)\n",
    "    \n",
    "    top_cut_coords = [(-x, y), (x, y), (0,0)]\n",
    "    bottom_cut_coords = [(-x, -y), (x, -y), (0,0)]\n",
    "\n",
    "    top_cut = geo.Polygon(top_cut_coords)\n",
    "    bottom_cut = geo.Polygon(bottom_cut_coords)\n",
    "\n",
    "    intersection_cut = geo.MultiPolygon([top_cut, bottom_cut])\n",
    "    \n",
    "    return intersection_cut\n",
    "\n",
    "\n",
    "def create_difference_cut(ratio):\n",
    "    placementAngle = np.pi/2 * (1 - ratio)\n",
    "    x = np.sqrt(2) * maxRadii * np.cos(placementAngle)\n",
    "    y = np.sqrt(2) * maxRadii * np.sin(placementAngle)\n",
    "    \n",
    "    left_cut_coords = [(-x, -y), (-x, y), (0,0)]\n",
    "    right_cut_coords = [(x, y), (x, -y), (0,0)]\n",
    "\n",
    "    left_cut = geo.Polygon(left_cut_coords)\n",
    "    right_cut = geo.Polygon(right_cut_coords)\n",
    "\n",
    "    difference_cut = geo.MultiPolygon([left_cut, right_cut])\n",
    "    \n",
    "    return difference_cut\n",
    "\n",
    "\n",
    "def create_segment(region, ratio):\n",
    "    if (ratio >= 0.5) & (ratio < 1):\n",
    "        cut = create_difference_cut(ratio)\n",
    "        segment = region.difference(cut)\n",
    "        return segment\n",
    "        \n",
    "    elif (ratio > 0):\n",
    "        cut = create_intersection_cut(ratio)\n",
    "        segment = region.intersection(cut)\n",
    "        return segment\n",
    "        \n",
    "    else:\n",
    "        raise Exception(\"Unexpected ratio\")"
   ]
  },
  {
   "cell_type": "code",
   "execution_count": null,
   "metadata": {
    "collapsed": true
   },
   "outputs": [],
   "source": []
  },
  {
   "cell_type": "code",
   "execution_count": 14,
   "metadata": {
    "collapsed": true
   },
   "outputs": [],
   "source": [
    "ploygon_list = []\n",
    "\n",
    "for i in range(numZones):\n",
    "    if zoneRatioAreas[i] == 1:\n",
    "        ploygon_list.append(zoneRegions[i])\n",
    "        \n",
    "    elif zoneRatioAreas[i] > 0:\n",
    "        add_section = create_segment(zoneRegions[i], zoneRatioAreas[i])\n",
    "        ploygon_list.append(add_section)"
   ]
  },
  {
   "cell_type": "code",
   "execution_count": 15,
   "metadata": {
    "collapsed": false
   },
   "outputs": [
    {
     "data": {
      "image/svg+xml": [
       "<svg xmlns=\"http://www.w3.org/2000/svg\" xmlns:xlink=\"http://www.w3.org/1999/xlink\" width=\"100.0\" height=\"100.0\" viewBox=\"-3.2390197178016447 -3.2554789442061542 6.47803943560329 6.5109578884123085\" preserveAspectRatio=\"xMinYMin meet\"><g transform=\"matrix(1,0,0,-1,0,0.0)\"><path fill-rule=\"evenodd\" fill=\"#66cc99\" stroke=\"#555555\" stroke-width=\"0.13021915776824616\" opacity=\"0.6\" d=\"M 1.4660159194275657,-2.631390193691219 L 1.4209464362078965,-2.6584038023460534 L 1.1535350521861973,-2.7848799676606646 L 0.8750144950255421,-2.884536216516456 L 0.5880670699462114,-2.956412804759301 L 0.29545623751313815,-2.9998175215526786 L 4.8697882828627574e-15,-3.014332355746439 L -0.2954562375131285,-2.99981752155268 L -0.5880670699462018,-2.956412804759302 L -0.8750144950255326,-2.8845362165164588 L -1.1535350521861882,-2.784879967660668 L -1.4209464362078879,-2.658403802346058 L -1.4660159194275657,-2.6313901936912187 L -1.4591494151329325,-2.619065326118913 L -1.6668295184083781,-2.4945866626309314 L -1.903315529661738,-2.3191966831991837 L -2.1214715719063504,-2.1214715719063584 L -2.3191966831991766,-1.9033155296617466 L -2.4945866626309257,-1.6668295184083874 L -2.6459524088217545,-1.4142910277110547 L -2.7718361868909116,-1.1481321412867453 L -2.8710256672405183,-0.8709161147089728 L -2.9425656009523222,-0.5853126898553762 L -2.9857670193569725,-0.29407238383400897 L -2.9978731293419294,-0.04764685397068828 L -2.9837656578904763,-0.04742263613252694 L -2.986095382611431,-3.01787669322804e-15 L -2.9837656578904763,0.04742263613252693 L -2.9978731293419294,0.047646853970688276 L -2.985767019356973,0.29407238383400297 L -2.9425656009523236,0.5853126898553702 L -2.87102566724052,0.870916114708967 L -2.771836186890914,1.1481321412867396 L -2.645952408821757,1.4142910277110494 L -2.4945866626309288,1.6668295184083826 L -2.31919668319918,1.903315529661742 L -2.121471571906355,2.1214715719063544 L -1.9033155296617439,2.319196683199179 L -1.6668295184083854,2.494586662630927 L -1.4591494151329325,2.619065326118913 L -1.466015919427566,2.631390193691219 L -1.4209464362078967,2.6584038023460534 L -1.1535350521861982,2.784879967660664 L -0.8750144950255435,2.884536216516456 L -0.5880670699462137,2.9564128047593 L -0.29545623751314126,2.9998175215526786 L -8.58551871518816e-15,3.014332355746439 L 0.2954562375131241,2.99981752155268 L 0.5880670699461968,2.9564128047593035 L 0.8750144950255271,2.8845362165164605 L 1.1535350521861825,2.784879967660671 L 1.4209464362078816,2.6584038023460614 L 1.4660159194275655,2.6313901936912187 L 1.459149415132932,2.6190653261189127 L 1.6668295184083712,2.4945866626309363 L 1.9033155296617306,2.3191966831991895 L 2.1214715719063424,2.1214715719063664 L 2.3191966831991686,1.903315529661756 L 2.494586662630918,1.6668295184083988 L 2.6459524088217474,1.4142910277110678 L 2.7718361868909054,1.1481321412867604 L 2.871025667240513,0.8709161147089897 L 2.9425656009523182,0.5853126898553949 L 2.9857670193569708,0.2940723838340293 L 2.9978731293419303,0.0476468539706883 L 2.983765657890477,0.04742263613252695 L 2.986095382611431,2.460105173246771e-14 L 2.986095382611431,0.0 L 2.9837656578904763,-0.04742263613252693 L 2.9978731293419294,-0.04764685397068828 L 2.985767019356973,-0.29407238383400536 L 2.942565600952323,-0.585312689855372 L 2.8710256672405197,-0.8709161147089681 L 2.771836186890914,-1.1481321412867402 L 2.645952408821757,-1.4142910277110492 L 2.494586662630929,-1.666829518408382 L 2.319196683199181,-1.9033155296617408 L 2.121471571906356,-2.1214715719063526 L 1.9033155296617448,-2.319196683199178 L 1.666829518408386,-2.4945866626309265 L 1.4591494151329325,-2.619065326118913 L 1.4660159194275657,-2.631390193691219 z\" /></g></svg>"
      ],
      "text/plain": [
       "<shapely.geometry.polygon.Polygon at 0x7fe6063e2940>"
      ]
     },
     "execution_count": 15,
     "metadata": {},
     "output_type": "execute_result"
    }
   ],
   "source": [
    "straightened = ops.unary_union(ploygon_list)\n",
    "straightened"
   ]
  },
  {
   "cell_type": "code",
   "execution_count": 16,
   "metadata": {
    "collapsed": false
   },
   "outputs": [
    {
     "data": {
      "text/plain": [
       "(-3.0, 3.0, -4.0, 4.0)"
      ]
     },
     "execution_count": 16,
     "metadata": {},
     "output_type": "execute_result"
    },
    {
     "data": {
      "image/png": "[encoded data removed]",
      "text/plain": [
       "<matplotlib.figure.Figure at 0x7fe6063729b0>"
      ]
     },
     "metadata": {},
     "output_type": "display_data"
    }
   ],
   "source": [
    "x, y = straightened.boundary.xy\n",
    "fig = plt.figure(figsize=(10,10))\n",
    "ax = fig.add_subplot(111)\n",
    "ax.plot(x, y)\n",
    "plt.axis(\"equal\")"
   ]
  },
  {
   "cell_type": "code",
   "execution_count": 17,
   "metadata": {
    "collapsed": false
   },
   "outputs": [],
   "source": [
    "ratio = 0.5\n",
    "\n",
    "placementAngle = np.pi/2 * (1 - ratio)\n",
    "\n",
    "x = np.sqrt(2) * maxRadii * np.cos(placementAngle)\n",
    "y = np.sqrt(2) * maxRadii * np.sin(placementAngle)"
   ]
  },
  {
   "cell_type": "code",
   "execution_count": 18,
   "metadata": {
    "collapsed": false
   },
   "outputs": [
    {
     "data": {
      "image/svg+xml": [
       "<svg xmlns=\"http://www.w3.org/2000/svg\" xmlns:xlink=\"http://www.w3.org/1999/xlink\" width=\"100.0\" height=\"100.0\" viewBox=\"-4.582051942088828 -4.582051942088828 9.164103884177656 9.164103884177656\" preserveAspectRatio=\"xMinYMin meet\"><g transform=\"matrix(1,0,0,-1,0,0.0)\"><g><path fill-rule=\"evenodd\" fill=\"#66cc99\" stroke=\"#555555\" stroke-width=\"0.18328207768355312\" opacity=\"0.6\" d=\"M -4.242640687119286,4.242640687119286 L 4.242640687119286,4.242640687119286 L 0.0,0.0 L -4.242640687119286,4.242640687119286 z\" /><path fill-rule=\"evenodd\" fill=\"#66cc99\" stroke=\"#555555\" stroke-width=\"0.18328207768355312\" opacity=\"0.6\" d=\"M -4.242640687119286,-4.242640687119286 L 4.242640687119286,-4.242640687119286 L 0.0,0.0 L -4.242640687119286,-4.242640687119286 z\" /></g></g></svg>"
      ],
      "text/plain": [
       "<shapely.geometry.multipolygon.MultiPolygon at 0x7fe60630efd0>"
      ]
     },
     "execution_count": 18,
     "metadata": {},
     "output_type": "execute_result"
    }
   ],
   "source": [
    "top_cut_coords = [(-x, y), (x, y), (0,0)]\n",
    "bottom_cut_coords = [(-x, -y), (x, -y), (0,0)]\n",
    "\n",
    "top_cut = geo.Polygon(top_cut_coords)\n",
    "bottom_cut = geo.Polygon(bottom_cut_coords)\n",
    "\n",
    "cut_shape = geo.MultiPolygon([top_cut, bottom_cut])\n",
    "cut_shape"
   ]
  },
  {
   "cell_type": "code",
   "execution_count": 19,
   "metadata": {
    "collapsed": false
   },
   "outputs": [
    {
     "data": {
      "image/svg+xml": [
       "<svg xmlns=\"http://www.w3.org/2000/svg\" xmlns:xlink=\"http://www.w3.org/1999/xlink\" width=\"100.0\" height=\"100.0\" viewBox=\"-0.01669705627484772 -0.02291025971044414 0.03339411254969543 0.04582051942088828\" preserveAspectRatio=\"xMinYMin meet\"><g transform=\"matrix(1,0,0,-1,0,0.0)\"><g><path fill-rule=\"evenodd\" fill=\"#66cc99\" stroke=\"#555555\" stroke-width=\"0.0009164103884177656\" opacity=\"0.6\" d=\"M 0.015000000000000001,-0.014999999999999998 L 0.013457513795139561,-0.01639802800502635 L 0.011785424375806552,-0.01763813403629037 L 0.009999834877166217,-0.018708375194800057 L 0.008117941502192978,-0.01959844447314564 L 0.006157867912835387,-0.020299770017615282 L 0.004138490689244175,-0.020805597679832206 L 0.0020792575379864034,-0.021111056062895733 L 3.4270875716712516e-17,-0.021213203435596427 L -0.0020792575379863358,-0.02111105606289574 L -0.004138490689244107,-0.02080559767983222 L -0.006157867912835321,-0.020299770017615303 L -0.008117941502192914,-0.019598444473145665 L -0.009999834877166157,-0.018708375194800092 L -0.011785424375806496,-0.017638134036290404 L -0.013457513795139512,-0.01639802800502639 L -0.014999999999999973,-0.015000000000000027 L 0.0,0.0 L 0.015000000000000001,-0.014999999999999998 z\" /><path fill-rule=\"evenodd\" fill=\"#66cc99\" stroke=\"#555555\" stroke-width=\"0.0009164103884177656\" opacity=\"0.6\" d=\"M -0.015000000000000005,0.015 L -0.013457513795139554,0.016398028005026356 L -0.011785424375806548,0.017638134036290373 L -0.00999983487716622,0.018708375194800057 L -0.008117941502192985,0.019598444473145637 L -0.006157867912835398,0.020299770017615282 L -0.004138490689244191,0.020805597679832203 L -0.002079257537986425,0.021111056062895733 L -6.042013076567562e-17,0.021213203435596427 L 0.0020792575379863045,0.021111056062895744 L 0.004138490689244072,0.020805597679832227 L 0.006157867912835282,0.020299770017615314 L 0.008117941502192872,0.019598444473145685 L 0.009999834877166113,0.018708375194800116 L 0.011785424375806448,0.01763813403629044 L 0.01345751379513946,0.016398028005026433 L 0.014999999999999918,0.015000000000000084 L 0.014999999999999994,0.015 L 0.0,0.0 L -0.015000000000000005,0.015 z\" /></g></g></svg>"
      ],
      "text/plain": [
       "<shapely.geometry.multipolygon.MultiPolygon at 0x7fe6063d9be0>"
      ]
     },
     "execution_count": 19,
     "metadata": {},
     "output_type": "execute_result"
    }
   ],
   "source": [
    "zoneRegions[0].intersection(cut_shape)"
   ]
  },
  {
   "cell_type": "code",
   "execution_count": 20,
   "metadata": {
    "collapsed": false
   },
   "outputs": [
    {
     "data": {
      "image/svg+xml": [
       "<svg xmlns=\"http://www.w3.org/2000/svg\" xmlns:xlink=\"http://www.w3.org/1999/xlink\" width=\"100.0\" height=\"100.0\" viewBox=\"-0.03768287863193548 -0.03815822520334843 0.07536575726387096 0.07631645040669686\" preserveAspectRatio=\"xMinYMin meet\"><g transform=\"matrix(1,0,0,-1,0,0.0)\"><g><path fill-rule=\"evenodd\" fill=\"#66cc99\" stroke=\"#555555\" stroke-width=\"0.0015263290081339372\" opacity=\"0.6\" d=\"M 0.03485634343168745,-0.005520702446187642 L 0.034652801486810846,-0.00689287078007887 L 0.03381031929355323,-0.010256248229404704 L 0.03264222524289811,-0.013520852401645777 L 0.03115976871909845,-0.016655243374009237 L 0.029377226588871614,-0.01962923524799882 L 0.02731176570736834,-0.022414186856118685 L 0.024983277591973264,-0.024983277591973222 L 0.022414186856118734,-0.0273117657073683 L 0.01962923524799887,-0.029377226588871583 L 0.016655243374009285,-0.031159768719098424 L 0.013520852401645828,-0.03264222524289809 L 0.010256248229404758,-0.033810319293553215 L 0.006892870780078926,-0.03465280148681083 L 0.003463111217114478,-0.03516155825860226 L 5.707992009004291e-17,-0.0353316900031004 L -0.0034631112171143647,-0.03516155825860227 L -0.006892870780078814,-0.03465280148681085 L -0.010256248229404649,-0.03381031929355324 L -0.013520852401645722,-0.03264222524289813 L -0.01665524337400918,-0.031159768719098476 L -0.01962923524799878,-0.029377226588871642 L -0.02241418685611865,-0.027311765707368367 L -0.024983277591973198,-0.024983277591973288 L -0.027311765707368284,-0.02241418685611875 L -0.029377226588871572,-0.01962923524799889 L -0.031159768719098414,-0.0166552433740093 L -0.03264222524289808,-0.013520852401645838 L -0.033810319293553215,-0.01025624822940476 L -0.03465280148681083,-0.00689287078007892 L -0.03485634343168745,-0.005520702446187641 L -0.013928538841176308,-0.002206063828898274 L -0.013847203806978625,-0.002754380090834749 L -0.01351054927593793,-0.004098380316569372 L -0.013043780769752447,-0.005402910899452855 L -0.012451393524298363,-0.006655408496843074 L -0.011739092552581211,-0.007843810872192327 L -0.010913737702341945,-0.00895667306097918 L -0.009983277591973226,-0.009983277591973263 L -0.00895667306097914,-0.010913737702341978 L -0.007843810872192283,-0.011739092552581239 L -0.006655408496843027,-0.012451393524298388 L -0.005402910899452809,-0.013043780769752465 L -0.004098380316569328,-0.013510549275937943 L -0.002754380090834707,-0.013847203806978634 L -0.0013838536791280292,-0.014050502195706529 L 2.28090443733304e-17,-0.014118486567503976 L 0.0013838536791280745,-0.014050502195706525 L 0.0027543800908347515,-0.013847203806978625 L 0.004098380316569371,-0.01351054927593793 L 0.005402910899452851,-0.013043780769752449 L 0.006655408496843067,-0.012451393524298365 L 0.00784381087219232,-0.011739092552581215 L 0.008956673060979173,-0.010913737702341952 L 0.009983277591973252,-0.009983277591973235 L 0.010913737702341967,-0.008956673060979154 L 0.011739092552581229,-0.0078438108721923 L 0.012451393524298377,-0.006655408496843048 L 0.013043780769752458,-0.005402910899452831 L 0.013510549275937936,-0.00409838031656935 L 0.01384720380697863,-0.0027543800908347293 L 0.01392853884117631,-0.002206063828898275 L 0.03485634343168745,-0.005520702446187642 z\" /><path fill-rule=\"evenodd\" fill=\"#66cc99\" stroke=\"#555555\" stroke-width=\"0.0015263290081339372\" opacity=\"0.6\" d=\"M -0.03485634343168745,0.005520702446187641 L -0.034652801486810846,0.00689287078007885 L -0.03381031929355323,0.010256248229404692 L -0.03264222524289811,0.013520852401645772 L -0.03115976871909845,0.016655243374009237 L -0.02937722658887161,0.01962923524799883 L -0.02731176570736833,0.022414186856118696 L -0.02498327759197325,0.024983277591973243 L -0.02241418685611872,0.02731176570736831 L -0.019629235247998866,0.029377226588871586 L -0.01665524337400929,0.031159768719098424 L -0.01352085240164584,0.03264222524289808 L -0.010256248229404775,0.03381031929355321 L -0.0068928707800789525,0.034652801486810825 L -0.003463111217114514,0.03516155825860225 L -1.006328599374798e-16,0.0353316900031004 L 0.003463111217114313,0.035161558258602274 L 0.006892870780078755,0.034652801486810866 L 0.010256248229404583,0.03381031929355326 L 0.013520852401645654,0.03264222524289816 L 0.01665524337400911,0.031159768719098518 L 0.019629235247998696,0.029377226588871697 L 0.022414186856118564,0.027311765707368436 L 0.024983277591973104,0.02498327759197338 L 0.02731176570736819,0.022414186856118866 L 0.029377226588871482,0.019629235247999022 L 0.031159768719098334,0.016655243374009455 L 0.032642225242898004,0.013520852401646017 L 0.03381031929355315,0.010256248229404958 L 0.03465280148681079,0.006892870780079139 L 0.03485634343168745,0.005520702446187641 L 0.013928538841176308,0.0022060638288982745 L 0.013847203806978608,0.002754380090834837 L 0.013510549275937905,0.004098380316569452 L 0.013043780769752416,0.0054029108994529266 L 0.01245139352429833,0.006655408496843136 L 0.011739092552581175,0.00784381087219238 L 0.010913737702341907,0.008956673060979225 L 0.009983277591973188,0.009983277591973299 L 0.008956673060979106,0.010913737702342005 L 0.00784381087219225,0.011739092552581262 L 0.006655408496842998,0.012451393524298403 L 0.005402910899452782,0.013043780769752478 L 0.004098380316569302,0.013510549275937951 L 0.0027543800908346834,0.013847203806978639 L 0.0013838536791280088,0.01405050219570653 L -4.021272917180418e-17,0.014118486567503976 L -0.0013838536791280888,0.014050502195706523 L -0.0027543800908347623,0.013847203806978623 L -0.004098380316569379,0.013510549275937929 L -0.005402910899452855,0.013043780769752447 L -0.006655408496843069,0.012451393524298365 L -0.007843810872192318,0.011739092552581216 L -0.008956673060979168,0.010913737702341955 L -0.009983277591973247,0.009983277591973243 L -0.010913737702341962,0.008956673060979158 L -0.011739092552581227,0.007843810872192304 L -0.012451393524298377,0.006655408496843049 L -0.013043780769752458,0.0054029108994528285 L -0.013510549275937938,0.004098380316569345 L -0.013847203806978632,0.002754380090834721 L -0.01392853884117631,0.002206063828898275 L -0.03485634343168745,0.005520702446187641 z\" /></g></g></svg>"
      ],
      "text/plain": [
       "<shapely.geometry.multipolygon.MultiPolygon at 0x7fe606372a20>"
      ]
     },
     "execution_count": 20,
     "metadata": {},
     "output_type": "execute_result"
    }
   ],
   "source": [
    "create_segment(zoneRegions[1], 0.9)"
   ]
  },
  {
   "cell_type": "code",
   "execution_count": null,
   "metadata": {
    "collapsed": true
   },
   "outputs": [],
   "source": []
  },
  {
   "cell_type": "code",
   "execution_count": null,
   "metadata": {
    "collapsed": true
   },
   "outputs": [],
   "source": []
  }
 ],
 "metadata": {
  "kernelspec": {
   "display_name": "Python 3",
   "language": "python",
   "name": "python3"
  },
  "language_info": {
   "codemirror_mode": {
    "name": "ipython",
    "version": 3
   },
   "file_extension": ".py",
   "mimetype": "text/x-python",
   "name": "python",
   "nbconvert_exporter": "python",
   "pygments_lexer": "ipython3",
   "version": "3.4.2"
  }
 },
 "nbformat": 4,
 "nbformat_minor": 0
}
