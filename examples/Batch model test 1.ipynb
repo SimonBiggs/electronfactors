{
 "cells": [
  {
   "cell_type": "code",
   "execution_count": 1,
   "metadata": {
    "collapsed": false
   },
   "outputs": [],
   "source": [
    "import yaml\n",
    "import numpy as np\n",
    "\n",
    "import matplotlib.pyplot as plt\n",
    "%matplotlib inline\n",
    "\n",
    "import traceback\n",
    "from glob import glob\n",
    "\n",
    "import sys\n",
    "sys.path.append(\"../\")\n",
    "\n",
    "from electronfactors.inputs.convert_merge_guess import convert_merge_guess\n",
    "from electronfactors.model.initialise import create_cache\n",
    "\n",
    "from electronfactors.model.iteration import iteration, create_fit\n",
    "\n",
    "from electronfactors.model.display_cutouts import display_cutout\n",
    "\n",
    "from electronfactors.ellipse.equivalent import EquivalentEllipse"
   ]
  },
  {
   "cell_type": "code",
   "execution_count": 2,
   "metadata": {
    "collapsed": true
   },
   "outputs": [],
   "source": [
    "# convert_merge_guess()"
   ]
  },
  {
   "cell_type": "code",
   "execution_count": 3,
   "metadata": {
    "collapsed": false
   },
   "outputs": [],
   "source": [
    "# energy_list = [6, 9, 12, 15, 18]\n",
    "# app_list = [6, 10, 14, 20, 25]\n",
    "\n",
    "energy_list = [18]\n",
    "app_list = [10]\n",
    "\n",
    "for energy in energy_list:\n",
    "    for applicator in app_list:\n",
    "        try:\n",
    "            create_cache(energy=energy, applicator=applicator)\n",
    "        except:\n",
    "            print(\"Energy = %d\\nApplicator = %d\\n\" % (energy, applicator))\n",
    "            traceback.print_exc()"
   ]
  },
  {
   "cell_type": "code",
   "execution_count": 4,
   "metadata": {
    "collapsed": false
   },
   "outputs": [],
   "source": [
    "model_filepaths = glob(\"model_cache/*\")\n",
    "\n"
   ]
  },
  {
   "cell_type": "code",
   "execution_count": 5,
   "metadata": {
    "collapsed": false
   },
   "outputs": [
    {
     "data": {
      "text/plain": [
       "'model_cache/18MeV_10app_100ssd.yml'"
      ]
     },
     "execution_count": 5,
     "metadata": {},
     "output_type": "execute_result"
    }
   ],
   "source": [
    "testpath = model_filepaths[1]\n",
    "testpath"
   ]
  },
  {
   "cell_type": "code",
   "execution_count": 6,
   "metadata": {
    "collapsed": false
   },
   "outputs": [],
   "source": [
    "# iteration(filepath=testpath, n=3, debug=True)"
   ]
  },
  {
   "cell_type": "code",
   "execution_count": 7,
   "metadata": {
    "collapsed": false
   },
   "outputs": [],
   "source": [
    "with open(testpath, 'r') as inputFile:\n",
    "    input_dict = yaml.load(inputFile)\n",
    "    \n",
    "debug = True\n",
    "\n"
   ]
  },
  {
   "cell_type": "code",
   "execution_count": 8,
   "metadata": {
    "collapsed": false
   },
   "outputs": [],
   "source": [
    "label = [key for key in input_dict]\n",
    "poi = [input_dict[key]['poi'] for key in label]\n",
    "\n",
    "width = np.array([input_dict[key]['width'] for key in label])\n",
    "length = np.array([input_dict[key]['length'] for key in label])\n",
    "factor = np.array([input_dict[key]['factor'] for key in label])\n",
    "fit = create_fit(width, length, factor)"
   ]
  },
  {
   "cell_type": "code",
   "execution_count": null,
   "metadata": {
    "collapsed": true
   },
   "outputs": [],
   "source": [
    "min_radii = 0.5  # This is temporary\n",
    "\n",
    "def circle_fit(radii):\n",
    "    if radii >= min_radii:\n",
    "        result = fit(radii*2, 2/radii)\n",
    "    else:\n",
    "        result = 0.\n",
    "    return result"
   ]
  },
  {
   "cell_type": "code",
   "execution_count": null,
   "metadata": {
    "collapsed": false
   },
   "outputs": [
    {
     "name": "stdout",
     "output_type": "stream",
     "text": [
      "P36_1:\n"
     ]
    }
   ],
   "source": [
    "output_dict = dict()\n",
    "for i, key in enumerate(label):\n",
    "    if debug:\n",
    "        print(str(key) + \":\")\n",
    "        sys.stdout.flush()\n",
    "\n",
    "    XCoords = input_dict[key]['XCoords']\n",
    "    YCoords = input_dict[key]['YCoords']\n",
    "\n",
    "    equivalent_ellipse = EquivalentEllipse(\n",
    "        x=XCoords, y=YCoords,\n",
    "        circle_fit=circle_fit, n=3,\n",
    "        min_distance=min_radii,\n",
    "        poi=poi[i]\n",
    "    )\n",
    "\n",
    "    output_dict[key] = dict()\n",
    "    output_dict[key]['width'] = equivalent_ellipse.width\n",
    "    output_dict[key]['length'] = equivalent_ellipse.length\n",
    "\n",
    "    if debug:\n",
    "        display_cutout(width=equivalent_ellipse.width, \n",
    "                       length=equivalent_ellipse.length,\n",
    "                       XCoords=XCoords, YCoords=YCoords,\n",
    "                       factor=factor[i])\n",
    "        sys.stdout.flush()"
   ]
  },
  {
   "cell_type": "code",
   "execution_count": null,
   "metadata": {
    "collapsed": true
   },
   "outputs": [],
   "source": []
  },
  {
   "cell_type": "code",
   "execution_count": null,
   "metadata": {
    "collapsed": true
   },
   "outputs": [],
   "source": [
    "# for filepath in model_filepaths:\n",
    "#     try:\n",
    "#         iteration(filepath=filepath, n=3)\n",
    "#     except:\n",
    "#         print(\"Energy = %d\\nApplicator = %d\\n\" % (energy, applicator))\n",
    "#         traceback.print_exc()\n",
    "    "
   ]
  },
  {
   "cell_type": "code",
   "execution_count": null,
   "metadata": {
    "collapsed": false
   },
   "outputs": [],
   "source": [
    "model_filepaths[1]"
   ]
  }
 ],
 "metadata": {
  "kernelspec": {
   "display_name": "Python 3",
   "language": "python",
   "name": "python3"
  },
  "language_info": {
   "codemirror_mode": {
    "name": "ipython",
    "version": 3
   },
   "file_extension": ".py",
   "mimetype": "text/x-python",
   "name": "python",
   "nbconvert_exporter": "python",
   "pygments_lexer": "ipython3",
   "version": "3.4.2"
  }
 },
 "nbformat": 4,
 "nbformat_minor": 0
}
