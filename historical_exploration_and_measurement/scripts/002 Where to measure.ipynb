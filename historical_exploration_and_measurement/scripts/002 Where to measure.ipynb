{
 "metadata": {
  "name": "",
  "signature": "sha256:f2f317d9f52a6130ff40722ad18f46dc658f03783885e62fc00b630f381399c0"
 },
 "nbformat": 3,
 "nbformat_minor": 0,
 "worksheets": [
  {
   "cells": [
    {
     "cell_type": "code",
     "collapsed": false,
     "input": [
      "%pylab inline\n",
      "\n",
      "import pandas as pd\n",
      "import csv\n",
      "\n",
      "from scipy.interpolate import SmoothBivariateSpline, bisplrep\n",
      "\n",
      "from threshold_functions import *\n",
      "from equivalent_ellipse import *"
     ],
     "language": "python",
     "metadata": {},
     "outputs": [
      {
       "output_type": "stream",
       "stream": "stdout",
       "text": [
        "Populating the interactive namespace from numpy and matplotlib\n"
       ]
      }
     ],
     "prompt_number": 1
    },
    {
     "cell_type": "code",
     "collapsed": false,
     "input": [
      "x_list = list()\n",
      "y_list = list()\n",
      "\n",
      "with open('../data/cutout_x.csv', 'r') as x_csvfile:\n",
      "    with open('../data/cutout_y.csv', 'r') as y_csvfile:\n",
      "        \n",
      "        x_reader = csv.reader(x_csvfile, delimiter=',', lineterminator='\\n')\n",
      "        y_reader = csv.reader(y_csvfile, delimiter=',', lineterminator='\\n')\n",
      "        \n",
      "        for row in x_reader:\n",
      "            x_list += [row]\n",
      "  \n",
      "        for row in y_reader:\n",
      "            y_list += [row]\n",
      "\n",
      "            \n",
      "num_cutouts = len(x_list)\n",
      "\n",
      "\n",
      "x_array = [0,]*num_cutouts\n",
      "y_array = [0,]*num_cutouts\n",
      "\n",
      "\n",
      "for i in range(num_cutouts):\n",
      "\n",
      "    x_array[i] = array(x_list[i], dtype='float')\n",
      "    y_array[i] = array(y_list[i], dtype='float')\n",
      "\n",
      "    \n",
      "cutout = [0,]*num_cutouts\n",
      "\n",
      "for i in range(num_cutouts):\n",
      "    cutout[i] = shapely_cutout(x_array[i],y_array[i])"
     ],
     "language": "python",
     "metadata": {},
     "outputs": [],
     "prompt_number": 2
    },
    {
     "cell_type": "code",
     "collapsed": false,
     "input": [
      "cutout_dimensions = pd.DataFrame.from_csv('../data/cutout_dimensions.csv')"
     ],
     "language": "python",
     "metadata": {},
     "outputs": [],
     "prompt_number": 3
    },
    {
     "cell_type": "code",
     "collapsed": false,
     "input": [
      "ellipse_def = transpose(array([cutout_dimensions['a'].values,\n",
      "                               cutout_dimensions['b'].values,\n",
      "                               cutout_dimensions['width'].values,\n",
      "                               cutout_dimensions['length'].values,\n",
      "                               cutout_dimensions['theta'].values]))"
     ],
     "language": "python",
     "metadata": {},
     "outputs": [],
     "prompt_number": 4
    },
    {
     "cell_type": "code",
     "collapsed": false,
     "input": [
      "width_init = cutout_dimensions['width'].values\n",
      "\n",
      "cutoutRef_init = arange(len(width_init))\n",
      "\n",
      "sorted_ref = cutoutRef_init[argsort(width_init)]"
     ],
     "language": "python",
     "metadata": {},
     "outputs": [],
     "prompt_number": 5
    },
    {
     "cell_type": "code",
     "collapsed": false,
     "input": [
      "similar_list = diff(width_init[sorted_ref]) < 0.0001\n",
      "duplicates_removed_ref = sorted_ref[~similar_list]"
     ],
     "language": "python",
     "metadata": {},
     "outputs": [],
     "prompt_number": 6
    },
    {
     "cell_type": "code",
     "collapsed": false,
     "input": [
      "boundBox = cutout_dimensions['box_bounds'].values\n",
      "too_big = boundBox[duplicates_removed_ref] > 11\n",
      "\n",
      "too_big_removed_ref = duplicates_removed_ref[~too_big]"
     ],
     "language": "python",
     "metadata": {},
     "outputs": [],
     "prompt_number": 7
    },
    {
     "cell_type": "code",
     "collapsed": false,
     "input": [
      "final_ref = too_big_removed_ref"
     ],
     "language": "python",
     "metadata": {},
     "outputs": [],
     "prompt_number": 8
    },
    {
     "cell_type": "code",
     "collapsed": false,
     "input": [
      "width = cutout_dimensions['width'].values[final_ref]\n",
      "length = cutout_dimensions['length'].values[final_ref]\n",
      "\n",
      "cutoutRef = final_ref\n",
      "\n",
      "ratio = width/length"
     ],
     "language": "python",
     "metadata": {},
     "outputs": [],
     "prompt_number": 9
    },
    {
     "cell_type": "code",
     "collapsed": false,
     "input": [
      "# plot(append(width,width),append(log2(ratio),log2(1/ratio)),'.')"
     ],
     "language": "python",
     "metadata": {},
     "outputs": [],
     "prompt_number": 10
    },
    {
     "cell_type": "code",
     "collapsed": false,
     "input": [
      "def give_calc(xGrid,yGrid,width,ratio,w):\n",
      "    \n",
      "    w = w/max(w)\n",
      "    \n",
      "    ref = (w < 0.01)\n",
      "    width = delete(width,find(ref))\n",
      "    ratio = delete(ratio,find(ref))\n",
      "    w = delete(w,find(ref))\n",
      "    \n",
      "    return fit_give(xGrid,log2(yGrid),\n",
      "                    append(width,width),\n",
      "                    append(log2(ratio),log2(1/ratio)),\n",
      "                    zeros(len(width)*2),append(w,w))\n",
      "\n",
      "def gap_calc(xGrid,yGrid,width,ratio):\n",
      "    \n",
      "    return angle_gap(xGrid,log2(yGrid),append(width,width),\n",
      "                     append(log2(ratio),log2(1/ratio)),1,2)"
     ],
     "language": "python",
     "metadata": {},
     "outputs": [],
     "prompt_number": 11
    },
    {
     "cell_type": "code",
     "collapsed": false,
     "input": [
      "# w = ones(len(width))\n",
      "# valid = (give_calc(width,ratio,width,ratio,w) < 0.15) & (gap_calc(width,ratio,width,ratio) < 130)\n",
      "\n",
      "# curr_give = give_calc(width[valid],ratio[valid],width,ratio,w)\n",
      "# curr_gap = gap_calc(width[valid],ratio[valid],width,ratio)\n",
      "# curr_gap"
     ],
     "language": "python",
     "metadata": {},
     "outputs": [],
     "prompt_number": 12
    },
    {
     "cell_type": "code",
     "collapsed": false,
     "input": [
      "# curr_give = give_calc(width[valid],ratio[valid],width,ratio,w)"
     ],
     "language": "python",
     "metadata": {},
     "outputs": [],
     "prompt_number": 13
    },
    {
     "cell_type": "code",
     "collapsed": false,
     "input": [
      "# curr_give[2] = 0.2\n",
      "# sum((curr_give/0.15)**15)"
     ],
     "language": "python",
     "metadata": {},
     "outputs": [],
     "prompt_number": 14
    },
    {
     "cell_type": "code",
     "collapsed": false,
     "input": [
      "# curr_gap[2] = 100\n",
      "# sum((curr_gap/130)**30)"
     ],
     "language": "python",
     "metadata": {},
     "outputs": [],
     "prompt_number": 15
    },
    {
     "cell_type": "code",
     "collapsed": false,
     "input": [
      "# sum(w)"
     ],
     "language": "python",
     "metadata": {},
     "outputs": [],
     "prompt_number": 16
    },
    {
     "cell_type": "code",
     "collapsed": false,
     "input": [
      "# sort(rand(100))[0:-5]"
     ],
     "language": "python",
     "metadata": {},
     "outputs": [],
     "prompt_number": 17
    },
    {
     "cell_type": "code",
     "collapsed": false,
     "input": [
      "global keeping_track\n",
      "\n",
      "def toMinimise(w):\n",
      "        \n",
      "    if (sum(w) > 13):\n",
      "        curr_give = give_calc(width,ratio,width,ratio,w)\n",
      "    else:\n",
      "        curr_give = ones(len(w))\n",
      "    \n",
      "    weights_bias = sum((2*exp(-((w-0.5)*2)**2) + 3*w - 1)/3)\n",
      "    too_few_bias = exp(-(sum(w)-15))\n",
      "    give_bias_init = 4/(1 + exp(-(curr_give-0.15)*200))\n",
      "    give_bias = sum(sort(give_bias_init)[0:-5])\n",
      "    \n",
      "    output = weights_bias + give_bias + too_few_bias\n",
      "        \n",
      "    return output"
     ],
     "language": "python",
     "metadata": {},
     "outputs": [],
     "prompt_number": 18
    },
    {
     "cell_type": "code",
     "collapsed": false,
     "input": [
      "# t = linspace(0,20,1000)\n",
      "# y = exp(-(t-13))\n",
      "# plot(t,y)\n",
      "# ylim([0,1])"
     ],
     "language": "python",
     "metadata": {},
     "outputs": [],
     "prompt_number": 19
    },
    {
     "cell_type": "code",
     "collapsed": false,
     "input": [
      "# t = linspace(0,1,1000)\n",
      "# y = (2*exp(-((t-0.5)*2)**2) + 3*t - 1)/3\n",
      "# plot(t,y)"
     ],
     "language": "python",
     "metadata": {},
     "outputs": [],
     "prompt_number": 20
    },
    {
     "cell_type": "code",
     "collapsed": false,
     "input": [
      "# t = linspace(0,1,1000)\n",
      "# y = 4/(1 + exp(-(t-0.15)*200))\n",
      "\n",
      "# t5 = 0.15\n",
      "# y5 = 4/(1 + exp(-(t5-0.15)*200))\n",
      "# print(y5)\n",
      "# plot(t,y)\n",
      "# scatter(t5,y5)"
     ],
     "language": "python",
     "metadata": {},
     "outputs": [],
     "prompt_number": 21
    },
    {
     "cell_type": "code",
     "collapsed": false,
     "input": [
      "def print_fun(w, f, accepted):\n",
      "\n",
      "    global successCount_basinhopping\n",
      "    global minVals_basinhopping\n",
      "    global nSuccess_basinhopping\n",
      "\n",
      "    print(\"Output %.4f\" % (f))\n",
      "    w_show = reshape(w,[3,23])\n",
      "    imshow(w_show, interpolation='nearest', cmap=cm.gray, vmin=0, vmax=1)\n",
      "    show()"
     ],
     "language": "python",
     "metadata": {},
     "outputs": [],
     "prompt_number": 22
    },
    {
     "cell_type": "code",
     "collapsed": false,
     "input": [
      "bounds = ([0,1],)*len(width)"
     ],
     "language": "python",
     "metadata": {},
     "outputs": [],
     "prompt_number": 23
    },
    {
     "cell_type": "code",
     "collapsed": false,
     "input": [
      "# x0 = ones(len(width))\n",
      "x0 = loadtxt('x0')"
     ],
     "language": "python",
     "metadata": {},
     "outputs": [],
     "prompt_number": 24
    },
    {
     "cell_type": "code",
     "collapsed": false,
     "input": [
      "keeping_track = 0\n",
      "\n",
      "global nSuccess_basinhopping\n",
      "nSuccess_basinhopping = 5\n",
      "\n",
      "global minVals_basinhopping\n",
      "minVals_basinhopping = np.empty(nSuccess_basinhopping)\n",
      "minVals_basinhopping[:] = np.nan\n",
      "\n",
      "global successCount_basinhopping\n",
      "successCount_basinhopping = 0\n",
      "\n",
      "\n",
      "minimizer_kwargs = {\"tol\":0.01,\"method\": 'SLSQP', \"bounds\": bounds}"
     ],
     "language": "python",
     "metadata": {},
     "outputs": [],
     "prompt_number": 25
    },
    {
     "cell_type": "code",
     "collapsed": false,
     "input": [
      "# curr_give = give_calc(width[valid],ratio[valid],width,ratio,ones(len(width)))\n",
      "# curr_give"
     ],
     "language": "python",
     "metadata": {},
     "outputs": [],
     "prompt_number": 26
    },
    {
     "cell_type": "code",
     "collapsed": false,
     "input": [
      "# give_calc(width[valid],ratio[valid],width,ratio,x0)"
     ],
     "language": "python",
     "metadata": {},
     "outputs": [],
     "prompt_number": 27
    },
    {
     "cell_type": "code",
     "collapsed": false,
     "input": [
      "# (give_calc(width[valid],ratio[valid],width,ratio,ones(len(width))) - \n",
      "#  give_calc(width[valid],ratio[valid],width,ratio,x0))"
     ],
     "language": "python",
     "metadata": {},
     "outputs": [],
     "prompt_number": 28
    },
    {
     "cell_type": "code",
     "collapsed": false,
     "input": [
      "resltn = 25 # Must be odd\n",
      "\n",
      "xRange = [min(width),max(width)]\n",
      "yRange = [min(ratio),max(ratio)]\n",
      "\n",
      "xVec = linspace(xRange[0],xRange[1],resltn)\n",
      "yVec = linspace(yRange[0],yRange[1],resltn)\n",
      "\n",
      "xMesh, yMesh = meshgrid(xVec, yVec)\n",
      "\n",
      "giveMesh = give_calc(xMesh,yMesh,width,ratio,ones(len(width)))"
     ],
     "language": "python",
     "metadata": {},
     "outputs": []
    },
    {
     "cell_type": "code",
     "collapsed": false,
     "input": [
      "while 1:\n",
      "    output = basinhopping(toMinimise,x0,\n",
      "                          niter=20,minimizer_kwargs=minimizer_kwargs,\n",
      "                          callback=print_fun)\n",
      "\n",
      "\n",
      "    print(\"Final %.4f\" % (output.fun))\n",
      "    w_show = reshape(output.x,[3,23])\n",
      "    imshow(w_show, interpolation='nearest', cmap=cm.gray, vmin=0, vmax=1)\n",
      "    show()\n",
      "    \n",
      "    w = output.x/max(output.x)\n",
      "    \n",
      "#     give_pic = give_calc(width,ratio,width,ratio,w)\n",
      "#     print(around(give_pic,4))   \n",
      "      \n",
      "    saveStuffs = w > 0.5\n",
      "\n",
      "    widthSave = width[saveStuffs]\n",
      "    ratioSave = ratio[saveStuffs]\n",
      "\n",
      "    plot(width[~saveStuffs],ratio[~saveStuffs],'rx')\n",
      "    scatter(widthSave,ratioSave)\n",
      "    \n",
      "    print(\"Currently %d cutouts require measurement:\" % (sum(saveStuffs)))\n",
      "    \n",
      "    \n",
      "    newGiveMesh = give_calc(xMesh,yMesh,width,ratio,w)\n",
      "    contour(xMesh,yMesh,giveMesh, levels=[0.05,0.1,0.15], colors='g',alpha=0.7)\n",
      "    contour(xMesh,yMesh,newGiveMesh, levels=[0.05,0.1,0.15], colors='r',alpha=0.7)\n",
      "    \n",
      "    title('Optimisation of where to measure')\n",
      "    xlabel('Width (cm)')\n",
      "    ylabel('Ratio')\n",
      "    \n",
      "    x0 = w\n",
      "    \n",
      "#     print(output)\n",
      "    \n",
      "    savetxt('cutouts_to_be_measured',cutoutRef[saveStuffs])\n",
      "    \n",
      "    savetxt('x0',x0)\n",
      "    \n",
      "    show()"
     ],
     "language": "python",
     "metadata": {},
     "outputs": [
      {
       "output_type": "stream",
       "stream": "stdout",
       "text": [
        "Output 71.5533\n"
       ]
      },
      {
       "metadata": {},
       "output_type": "display_data",
       "png": "[encoded data removed]",
       "text": [
        "<matplotlib.figure.Figure at 0x92530b8>"
       ]
      },
      {
       "output_type": "stream",
       "stream": "stdout",
       "text": [
        "Output 74.4339\n"
       ]
      },
      {
       "metadata": {},
       "output_type": "display_data",
       "png": "[encoded data removed]",
       "text": [
        "<matplotlib.figure.Figure at 0x20f64e0>"
       ]
      },
      {
       "output_type": "stream",
       "stream": "stdout",
       "text": [
        "Output 72.9055\n"
       ]
      },
      {
       "metadata": {},
       "output_type": "display_data",
       "png": "[encoded data removed]",
       "text": [
        "<matplotlib.figure.Figure at 0x4566f98>"
       ]
      },
      {
       "output_type": "stream",
       "stream": "stdout",
       "text": [
        "Output 71.1501\n"
       ]
      },
      {
       "metadata": {},
       "output_type": "display_data",
       "png": "[encoded data removed]",
       "text": [
        "<matplotlib.figure.Figure at 0x8f307b8>"
       ]
      },
      {
       "output_type": "stream",
       "stream": "stdout",
       "text": [
        "Output 70.4769\n"
       ]
      },
      {
       "metadata": {},
       "output_type": "display_data",
       "png": "[encoded data removed]",
       "text": [
        "<matplotlib.figure.Figure at 0x8f47940>"
       ]
      },
      {
       "output_type": "stream",
       "stream": "stdout",
       "text": [
        "Output 74.4066\n"
       ]
      },
      {
       "metadata": {},
       "output_type": "display_data",
       "png": "[encoded data removed]",
       "text": [
        "<matplotlib.figure.Figure at 0x48ee908>"
       ]
      },
      {
       "output_type": "stream",
       "stream": "stdout",
       "text": [
        "Output 76.1726\n"
       ]
      },
      {
       "metadata": {},
       "output_type": "display_data",
       "png": "[encoded data removed]",
       "text": [
        "<matplotlib.figure.Figure at 0x8f30748>"
       ]
      },
      {
       "output_type": "stream",
       "stream": "stdout",
       "text": [
        "Output 71.1335\n"
       ]
      },
      {
       "metadata": {},
       "output_type": "display_data",
       "png": "[encoded data removed]",
       "text": [
        "<matplotlib.figure.Figure at 0x900fda0>"
       ]
      },
      {
       "output_type": "stream",
       "stream": "stdout",
       "text": [
        "Output 69.6944\n"
       ]
      },
      {
       "metadata": {},
       "output_type": "display_data",
       "png": "[encoded data removed]",
       "text": [
        "<matplotlib.figure.Figure at 0x77fa58>"
       ]
      },
      {
       "output_type": "stream",
       "stream": "stdout",
       "text": [
        "Output 67.4352\n"
       ]
      },
      {
       "metadata": {},
       "output_type": "display_data",
       "png": "[encoded data removed]",
       "text": [
        "<matplotlib.figure.Figure at 0x922f828>"
       ]
      },
      {
       "output_type": "stream",
       "stream": "stdout",
       "text": [
        "Output 77.5026\n"
       ]
      },
      {
       "metadata": {},
       "output_type": "display_data",
       "png": "[encoded data removed]",
       "text": [
        "<matplotlib.figure.Figure at 0x7241f60>"
       ]
      },
      {
       "output_type": "stream",
       "stream": "stdout",
       "text": [
        "Output 74.9814\n"
       ]
      },
      {
       "metadata": {},
       "output_type": "display_data",
       "png": "[encoded data removed]",
       "text": [
        "<matplotlib.figure.Figure at 0x9506f98>"
       ]
      },
      {
       "output_type": "stream",
       "stream": "stdout",
       "text": [
        "Output 78.1372\n"
       ]
      },
      {
       "metadata": {},
       "output_type": "display_data",
       "png": "[encoded data removed]",
       "text": [
        "<matplotlib.figure.Figure at 0x902c0f0>"
       ]
      },
      {
       "output_type": "stream",
       "stream": "stdout",
       "text": [
        "Output 73.4267\n"
       ]
      },
      {
       "metadata": {},
       "output_type": "display_data",
       "png": "[encoded data removed]",
       "text": [
        "<matplotlib.figure.Figure at 0x900fba8>"
       ]
      },
      {
       "output_type": "stream",
       "stream": "stdout",
       "text": [
        "Output 73.0739\n"
       ]
      },
      {
       "metadata": {},
       "output_type": "display_data",
       "png": "[encoded data removed]",
       "text": [
        "<matplotlib.figure.Figure at 0x8f1b358>"
       ]
      },
      {
       "output_type": "stream",
       "stream": "stdout",
       "text": [
        "Output 86.0535\n"
       ]
      },
      {
       "metadata": {},
       "output_type": "display_data",
       "png": "[encoded data removed]",
       "text": [
        "<matplotlib.figure.Figure at 0x8f47940>"
       ]
      },
      {
       "output_type": "stream",
       "stream": "stdout",
       "text": [
        "Output 69.8285\n"
       ]
      },
      {
       "metadata": {},
       "output_type": "display_data",
       "png": "[encoded data removed]",
       "text": [
        "<matplotlib.figure.Figure at 0x8f30710>"
       ]
      },
      {
       "output_type": "stream",
       "stream": "stdout",
       "text": [
        "Output 86.1100\n"
       ]
      },
      {
       "metadata": {},
       "output_type": "display_data",
       "png": "[encoded data removed]",
       "text": [
        "<matplotlib.figure.Figure at 0x72318d0>"
       ]
      },
      {
       "output_type": "stream",
       "stream": "stdout",
       "text": [
        "Output 70.5087\n"
       ]
      },
      {
       "metadata": {},
       "output_type": "display_data",
       "png": "[encoded data removed]",
       "text": [
        "<matplotlib.figure.Figure at 0x8f1b358>"
       ]
      },
      {
       "output_type": "stream",
       "stream": "stdout",
       "text": [
        "Output 76.8883\n"
       ]
      },
      {
       "metadata": {},
       "output_type": "display_data",
       "png": "[encoded data removed]",
       "text": [
        "<matplotlib.figure.Figure at 0x8f307b8>"
       ]
      },
      {
       "output_type": "stream",
       "stream": "stdout",
       "text": [
        "Final 62.6919\n"
       ]
      },
      {
       "metadata": {},
       "output_type": "display_data",
       "png": "[encoded data removed]",
       "text": [
        "<matplotlib.figure.Figure at 0x924bf98>"
       ]
      },
      {
       "output_type": "stream",
       "stream": "stdout",
       "text": [
        "Currently 37 cutouts require measurement:\n"
       ]
      },
      {
       "metadata": {},
       "output_type": "display_data",
       "png": "[encoded data removed]",
       "text": [
        "<matplotlib.figure.Figure at 0x902c240>"
       ]
      },
      {
       "output_type": "stream",
       "stream": "stdout",
       "text": [
        "Output 69.6023\n"
       ]
      },
      {
       "metadata": {},
       "output_type": "display_data",
       "png": "[encoded data removed]",
       "text": [
        "<matplotlib.figure.Figure at 0x953c198>"
       ]
      },
      {
       "output_type": "stream",
       "stream": "stdout",
       "text": [
        "Output 74.6371\n"
       ]
      },
      {
       "metadata": {},
       "output_type": "display_data",
       "png": "[encoded data removed]",
       "text": [
        "<matplotlib.figure.Figure at 0x48ee908>"
       ]
      },
      {
       "output_type": "stream",
       "stream": "stdout",
       "text": [
        "Output 78.0186\n"
       ]
      },
      {
       "metadata": {},
       "output_type": "display_data",
       "png": "[encoded data removed]",
       "text": [
        "<matplotlib.figure.Figure at 0x924bfd0>"
       ]
      },
      {
       "output_type": "stream",
       "stream": "stdout",
       "text": [
        "Output 75.0176\n"
       ]
      },
      {
       "metadata": {},
       "output_type": "display_data",
       "png": "[encoded data removed]",
       "text": [
        "<matplotlib.figure.Figure at 0x902c240>"
       ]
      },
      {
       "output_type": "stream",
       "stream": "stdout",
       "text": [
        "Output 73.5341\n"
       ]
      },
      {
       "metadata": {},
       "output_type": "display_data",
       "png": "[encoded data removed]",
       "text": [
        "<matplotlib.figure.Figure at 0x46c4cc0>"
       ]
      },
      {
       "output_type": "stream",
       "stream": "stdout",
       "text": [
        "Output 67.1599\n"
       ]
      },
      {
       "metadata": {},
       "output_type": "display_data",
       "png": "[encoded data removed]",
       "text": [
        "<matplotlib.figure.Figure at 0x48ee908>"
       ]
      },
      {
       "output_type": "stream",
       "stream": "stdout",
       "text": [
        "Output 71.1460\n"
       ]
      },
      {
       "metadata": {},
       "output_type": "display_data",
       "png": "[encoded data removed]",
       "text": [
        "<matplotlib.figure.Figure at 0x7241f60>"
       ]
      },
      {
       "output_type": "stream",
       "stream": "stdout",
       "text": [
        "Output 75.8123\n"
       ]
      },
      {
       "metadata": {},
       "output_type": "display_data",
       "png": "[encoded data removed]",
       "text": [
        "<matplotlib.figure.Figure at 0x72318d0>"
       ]
      }
     ]
    },
    {
     "cell_type": "code",
     "collapsed": false,
     "input": [
      "# x0 = output.x\n",
      "# oldF = 200"
     ],
     "language": "python",
     "metadata": {},
     "outputs": []
    },
    {
     "cell_type": "code",
     "collapsed": false,
     "input": [
      "\n",
      "# savetxt('oldF',oldF)"
     ],
     "language": "python",
     "metadata": {},
     "outputs": []
    },
    {
     "cell_type": "code",
     "collapsed": false,
     "input": [
      "\n",
      "# newGiveMesh = give_calc(xMesh,yMesh,width,ratio,x0)\n",
      "# contour(xMesh,yMesh,giveMesh, levels=[0.05,0.1,0.15], colors='g',alpha=0.7)\n",
      "# contour(xMesh,yMesh,newGiveMesh, levels=[0.05,0.1,0.15], colors='r',alpha=0.7)\n",
      "# len(width) - sum(w)"
     ],
     "language": "python",
     "metadata": {},
     "outputs": []
    },
    {
     "cell_type": "code",
     "collapsed": false,
     "input": [
      "# saveStuffs = x0 > 0.5\n",
      "\n",
      "# widthSave = width[saveStuffs]\n",
      "# ratioSave = ratio[saveStuffs]\n",
      "\n",
      "# plot(width[~saveStuffs],ratio[~saveStuffs],'rx')\n",
      "# scatter(widthSave,ratioSave)\n",
      "\n",
      "# sum(saveStuffs)"
     ],
     "language": "python",
     "metadata": {},
     "outputs": []
    },
    {
     "cell_type": "code",
     "collapsed": false,
     "input": [
      "# oldF"
     ],
     "language": "python",
     "metadata": {},
     "outputs": []
    },
    {
     "cell_type": "code",
     "collapsed": false,
     "input": [
      "# output.fun"
     ],
     "language": "python",
     "metadata": {},
     "outputs": []
    },
    {
     "cell_type": "code",
     "collapsed": false,
     "input": [],
     "language": "python",
     "metadata": {},
     "outputs": []
    }
   ],
   "metadata": {}
  }
 ]
}