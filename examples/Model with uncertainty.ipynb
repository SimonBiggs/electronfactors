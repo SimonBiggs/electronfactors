{
 "cells": [
  {
   "cell_type": "code",
   "execution_count": 1,
   "metadata": {
    "collapsed": false
   },
   "outputs": [],
   "source": [
    "import yaml\n",
    "import numpy as np\n",
    "\n",
    "import matplotlib.pyplot as plt\n",
    "%matplotlib inline\n",
    "\n",
    "from scipy.interpolate import SmoothBivariateSpline\n",
    "import statsmodels.api as sm\n",
    "\n",
    "import sys\n",
    "sys.path.append(\"../\")\n",
    "\n",
    "from electronfactors.model.threshold import angle_gap, fit_give"
   ]
  },
  {
   "cell_type": "code",
   "execution_count": 2,
   "metadata": {
    "collapsed": true
   },
   "outputs": [],
   "source": [
    "def reg_m(y, x):\n",
    "    ones = np.ones(len(x[0]))\n",
    "    X = sm.add_constant(np.column_stack((x[0], ones)))\n",
    "    for ele in x[1:]:\n",
    "        X = sm.add_constant(np.column_stack((ele, X)))\n",
    "    results = sm.OLS(y, X).fit()\n",
    "    return results"
   ]
  },
  {
   "cell_type": "code",
   "execution_count": 3,
   "metadata": {
    "collapsed": true
   },
   "outputs": [],
   "source": [
    "from matplotlib import rc\n",
    "rc('font',**{'family':'serif',\n",
    "             'size':'16'})\n",
    "rc('text', usetex=True)"
   ]
  },
  {
   "cell_type": "code",
   "execution_count": 4,
   "metadata": {
    "collapsed": true
   },
   "outputs": [],
   "source": [
    "with open(\"model_cache/12MeV_10app_100ssd.yml\", 'r') as file:\n",
    "    cutout_data = yaml.load(file)"
   ]
  },
  {
   "cell_type": "code",
   "execution_count": 5,
   "metadata": {
    "collapsed": false
   },
   "outputs": [],
   "source": [
    "label = np.array([key for key in cutout_data])\n",
    "book_factor = np.array([item[0] == 'P' for i, item in enumerate(label)])"
   ]
  },
  {
   "cell_type": "code",
   "execution_count": 6,
   "metadata": {
    "collapsed": false
   },
   "outputs": [
    {
     "data": {
      "text/plain": [
       "7"
      ]
     },
     "execution_count": 6,
     "metadata": {},
     "output_type": "execute_result"
    }
   ],
   "source": [
    "np.sum(book_factor)"
   ]
  },
  {
   "cell_type": "code",
   "execution_count": 7,
   "metadata": {
    "collapsed": false
   },
   "outputs": [],
   "source": [
    "# custom_label = label[~book_factor]\n",
    "# custom_label = label[label != 'P3']\n",
    "\n",
    "custom_label = label\n",
    "\n",
    "width = np.array([cutout_data[key]['width'] for key in custom_label])\n",
    "length = np.array([cutout_data[key]['length'] for key in custom_label])\n",
    "factor = np.array([cutout_data[key]['factor'] for key in custom_label])"
   ]
  },
  {
   "cell_type": "code",
   "execution_count": 8,
   "metadata": {
    "collapsed": false
   },
   "outputs": [
    {
     "data": {
      "text/plain": [
       "49"
      ]
     },
     "execution_count": 8,
     "metadata": {},
     "output_type": "execute_result"
    }
   ],
   "source": [
    "len(width)"
   ]
  },
  {
   "cell_type": "code",
   "execution_count": 9,
   "metadata": {
    "collapsed": true
   },
   "outputs": [],
   "source": [
    "# factor[label == 'P3'] = 0.999"
   ]
  },
  {
   "cell_type": "code",
   "execution_count": 10,
   "metadata": {
    "collapsed": true
   },
   "outputs": [],
   "source": [
    "def to_eqPonA(width, length):\n",
    "    ratio = width/length\n",
    "    eqPonA = 2*(3*(ratio+1) - np.sqrt((3*ratio+1)*(ratio+3))) / width\n",
    "    \n",
    "    return eqPonA"
   ]
  },
  {
   "cell_type": "code",
   "execution_count": 11,
   "metadata": {
    "collapsed": false
   },
   "outputs": [
    {
     "data": {
      "text/plain": [
       "<matplotlib.collections.PathCollection at 0x7f88857237f0>"
      ]
     },
     "execution_count": 11,
     "metadata": {},
     "output_type": "execute_result"
    },
    {
     "data": {
      "image/png": "[encoded data removed]",
      "text/plain": [
       "<matplotlib.figure.Figure at 0x7f8885750240>"
      ]
     },
     "metadata": {},
     "output_type": "display_data"
    }
   ],
   "source": [
    "ratio = width/length\n",
    "eqPonA = 2*(3*(ratio+1) - np.sqrt((3*ratio+1)*(ratio+3))) / width\n",
    "\n",
    "plt.scatter(width, eqPonA)"
   ]
  },
  {
   "cell_type": "code",
   "execution_count": 12,
   "metadata": {
    "collapsed": true
   },
   "outputs": [],
   "source": [
    "# bbox=[min(width),max(width), min(eqPonA),max(eqPonA)]\n",
    "\n",
    "spline = SmoothBivariateSpline(width,eqPonA,factor,kx=2,ky=1)\n",
    "\n"
   ]
  },
  {
   "cell_type": "code",
   "execution_count": 13,
   "metadata": {
    "collapsed": true
   },
   "outputs": [],
   "source": [
    "def multiregression(x, y, width, eqPonA, factor):\n",
    "    regression = reg_m(factor, np.vstack([eqPonA, width]))\n",
    "    paramaters = regression.params\n",
    "    \n",
    "    result = x*paramaters[0] + y*paramaters[1] + paramaters[2]\n",
    "    \n",
    "    return result"
   ]
  },
  {
   "cell_type": "code",
   "execution_count": null,
   "metadata": {
    "collapsed": true
   },
   "outputs": [],
   "source": [
    "# Change this so that it uses the closest spline result"
   ]
  },
  {
   "cell_type": "code",
   "execution_count": 14,
   "metadata": {
    "collapsed": false
   },
   "outputs": [],
   "source": [
    "def create_model(width, eqPonA, factor):\n",
    "    \n",
    "    def model(x, y):\n",
    "    \n",
    "        x_values = np.append(x, width)\n",
    "        y_values = np.append(y, eqPonA)\n",
    "\n",
    "        bbox = [\n",
    "            min(x_values), max(x_values),\n",
    "            min(y_values), max(y_values)]\n",
    "\n",
    "        spline = SmoothBivariateSpline(\n",
    "            width, eqPonA, factor, bbox=bbox, kx=2, ky=1)\n",
    "        \n",
    "        regression = multiregression(x, y, width, eqPonA, factor)\n",
    "\n",
    "        give = fit_give(\n",
    "            x, y, width, eqPonA, factor, kx=2, ky=1)\n",
    "\n",
    "        result = spline.ev(x, y)\n",
    "        result[give>0.5] = regression[give>0.5]\n",
    "\n",
    "        return result\n",
    "    \n",
    "    return model"
   ]
  },
  {
   "cell_type": "code",
   "execution_count": 15,
   "metadata": {
    "collapsed": true
   },
   "outputs": [],
   "source": [
    "model = create_model(width, eqPonA, factor)"
   ]
  },
  {
   "cell_type": "code",
   "execution_count": null,
   "metadata": {
    "collapsed": true
   },
   "outputs": [],
   "source": []
  },
  {
   "cell_type": "code",
   "execution_count": 16,
   "metadata": {
    "collapsed": false
   },
   "outputs": [
    {
     "name": "stdout",
     "output_type": "stream",
     "text": [
      "                            OLS Regression Results                            \n",
      "==============================================================================\n",
      "Dep. Variable:                      y   R-squared:                       0.951\n",
      "Model:                            OLS   Adj. R-squared:                  0.949\n",
      "Method:                 Least Squares   F-statistic:                     446.4\n",
      "Date:                Tue, 19 May 2015   Prob (F-statistic):           7.48e-31\n",
      "Time:                        11:01:08   Log-Likelihood:                 190.40\n",
      "No. Observations:                  49   AIC:                            -374.8\n",
      "Df Residuals:                      46   BIC:                            -369.1\n",
      "Df Model:                           2                                         \n",
      "Covariance Type:            nonrobust                                         \n",
      "==============================================================================\n",
      "                 coef    std err          t      P>|t|      [95.0% Conf. Int.]\n",
      "------------------------------------------------------------------------------\n",
      "x1            -0.0817      0.008     -9.969      0.000        -0.098    -0.065\n",
      "x2             0.0045      0.001      4.584      0.000         0.003     0.006\n",
      "const          1.0102      0.011     95.643      0.000         0.989     1.031\n",
      "==============================================================================\n",
      "Omnibus:                        0.818   Durbin-Watson:                   1.803\n",
      "Prob(Omnibus):                  0.664   Jarque-Bera (JB):                0.798\n",
      "Skew:                          -0.287   Prob(JB):                        0.671\n",
      "Kurtosis:                       2.753   Cond. No.                         108.\n",
      "==============================================================================\n",
      "\n",
      "Warnings:\n",
      "[1] Standard Errors assume that the covariance matrix of the errors is correctly specified.\n"
     ]
    }
   ],
   "source": [
    "y = factor\n",
    "x = np.vstack([width, eqPonA])\n",
    "print(reg_m(y, x).summary())"
   ]
  },
  {
   "cell_type": "code",
   "execution_count": 17,
   "metadata": {
    "collapsed": false
   },
   "outputs": [
    {
     "data": {
      "text/plain": [
       "array([-0.08173308,  0.00449789,  1.01020518])"
      ]
     },
     "execution_count": 17,
     "metadata": {},
     "output_type": "execute_result"
    }
   ],
   "source": [
    "test = reg_m(y, x)\n",
    "test.params"
   ]
  },
  {
   "cell_type": "code",
   "execution_count": 43,
   "metadata": {
    "collapsed": false
   },
   "outputs": [
    {
     "data": {
      "text/plain": [
       "<matplotlib.collections.PathCollection at 0x7f886279ec88>"
      ]
     },
     "execution_count": 43,
     "metadata": {},
     "output_type": "execute_result"
    },
    {
     "data": {
      "image/png": "[encoded data removed]",
      "text/plain": [
       "<matplotlib.figure.Figure at 0x7f8862280080>"
      ]
     },
     "metadata": {},
     "output_type": "display_data"
    }
   ],
   "source": [
    "circle_test_width = np.linspace(2,12, 1000)\n",
    "circle_test_eqPonA = to_eqPonA(circle_test_width, circle_test_width)\n",
    "\n",
    "circle_test_prediction = model(circle_test_width, circle_test_eqPonA)\n",
    "plt.plot(circle_test_width, circle_test_prediction)\n",
    "circle_ref = np.abs(width - length) < 0.1\n",
    "plt.scatter(width[circle_ref], factor[circle_ref])"
   ]
  },
  {
   "cell_type": "code",
   "execution_count": 19,
   "metadata": {
    "collapsed": false
   },
   "outputs": [],
   "source": [
    "x = np.arange(2,14,0.1)\n",
    "y = x\n",
    "\n",
    "xx, yy = np.meshgrid(x,y)\n",
    "   \n",
    "mesh_width = xx.copy()\n",
    "mesh_width[xx>yy] = yy[xx>yy]\n",
    "\n",
    "mesh_length = xx.copy()\n",
    "mesh_length[yy>xx] = yy[yy>xx]\n",
    "\n",
    "mesh_ratio = mesh_width / mesh_length\n",
    "\n",
    "mesh_eqPonA = 2*( 3*(mesh_ratio+1) - np.sqrt( (3*mesh_ratio+1)*(mesh_ratio+3) ) ) / mesh_width\n",
    "\n",
    "zz = spline.ev(mesh_width, mesh_eqPonA)\n",
    "give = fit_give(mesh_width, mesh_eqPonA, width, eqPonA, factor, kx=2, ky=1)\n",
    "gap = angle_gap(mesh_width, mesh_eqPonA, width, eqPonA, 1, 1)\n",
    "\n",
    "outOfTolerance = (give > 0.5) | (gap > 180)\n",
    "\n",
    "zz[outOfTolerance] = np.nan\n",
    "    \n",
    "zz = np.floor(zz*1e4)/1e4"
   ]
  },
  {
   "cell_type": "code",
   "execution_count": 20,
   "metadata": {
    "collapsed": false
   },
   "outputs": [
    {
     "data": {
      "text/plain": [
       "(0.0, 16.0, 0.0, 16.0)"
      ]
     },
     "execution_count": 20,
     "metadata": {},
     "output_type": "execute_result"
    },
    {
     "data": {
      "image/png": "[encoded data removed]",
      "text/plain": [
       "<matplotlib.figure.Figure at 0x7f8885613828>"
      ]
     },
     "metadata": {},
     "output_type": "display_data"
    }
   ],
   "source": [
    "c = plt.contourf(xx,yy,zz,100)\n",
    "plt.colorbar(c)\n",
    "\n",
    "plt.contour(xx, yy, give, levels=[0.5], colors='g')\n",
    "plt.contour(xx, yy, gap, levels=[180], colors='r')\n",
    "\n",
    "plt.scatter(width, length, s=30)\n",
    "plt.scatter(length, width, s=30, alpha=0.2)\n",
    "\n",
    "plt.xlabel('Width (cm)')\n",
    "plt.ylabel('Length (cm)')\n",
    "plt.title('Bivariate spline fit')\n",
    "\n",
    "plt.axis('equal')"
   ]
  },
  {
   "cell_type": "code",
   "execution_count": 21,
   "metadata": {
    "collapsed": false
   },
   "outputs": [
    {
     "data": {
      "text/plain": [
       "<matplotlib.collections.PathCollection at 0x7f888546e438>"
      ]
     },
     "execution_count": 21,
     "metadata": {},
     "output_type": "execute_result"
    },
    {
     "data": {
      "image/png": "[encoded data removed]",
      "text/plain": [
       "<matplotlib.figure.Figure at 0x7f88851d69b0>"
      ]
     },
     "metadata": {},
     "output_type": "display_data"
    }
   ],
   "source": [
    "residuals_lengthwidth = factor - spline.ev(width, eqPonA)\n",
    "\n",
    "binSize = np.floor(4 * residuals_lengthwidth.ptp() / len(residuals_lengthwidth) / 0.0005) * 0.0005\n",
    "binStart = np.floor(residuals_lengthwidth.min()/binSize)*binSize\n",
    "binEnd = np.ceil(residuals_lengthwidth.max()/binSize)*binSize\n",
    "\n",
    "bins = np.arange(binStart,binEnd+binSize,binSize)\n",
    "\n",
    "dbins = bins[1] - bins[0]\n",
    "binsTrans = bins - dbins/2\n",
    "\n",
    "binsTrans = binsTrans.reshape(-1,1)\n",
    "binNum = np.argmin(abs(binsTrans - residuals_lengthwidth),0)\n",
    "\n",
    "representative_height = np.zeros(len(binNum))\n",
    "\n",
    "for i in range(len(bins)):\n",
    "    binRef = (binNum == i)\n",
    "    representative_height[binRef] = np.arange(sum(binRef)) + 1\n",
    "\n",
    "plt.hist(residuals_lengthwidth,bins,alpha=0.5)\n",
    "plt.scatter(residuals_lengthwidth,representative_height,zorder=2,s=50,)"
   ]
  },
  {
   "cell_type": "code",
   "execution_count": 22,
   "metadata": {
    "collapsed": false
   },
   "outputs": [
    {
     "data": {
      "text/plain": [
       "array(['P4', 'P10', 'P12_1', 'Simon #104 cutout', 'Simon #14 cutout',\n",
       "       'Simon #6 cutout', 'P38_1', 'Simon #18 cutout', 'Simon 3x5cm oval',\n",
       "       'Simon #19 cutout', 'Simon 4cm circle', 'P3', 'Simon #109 cutout',\n",
       "       'Simon 6cm circle', 'Simon #38 cutout', 'Simon #33 cutout',\n",
       "       'Simon #57 cutout', 'Simon 4x13cm oval', 'Simon 4x8cm oval', 'P22',\n",
       "       'Simon #112 cutout', 'Simon #34 cutout', 'Simon 3x6.5cm oval',\n",
       "       'Simon 3cm circle', 'Simon #43 cutout', 'Simon 9cm circle',\n",
       "       'Simon #70 cutout', 'Simon 5cm circle', 'Simon 4x6.5cm oval',\n",
       "       'Simon #82 cutout', 'Simon #22 cutout', 'Simon 3x13cm oval',\n",
       "       'Simon #32 cutout', 'Simon #20 cutout', 'Simon 5x13cm oval', 'P40',\n",
       "       'Simon #73 cutout', 'Simon 5x10cm oval', 'Simon #83 cutout',\n",
       "       'Simon #106 cutout', 'Simon 4x10cm oval', 'Simon 7cm circle',\n",
       "       'Simon 3x9cm oval', 'Simon #41 cutout', 'Simon #16 cutout',\n",
       "       'Simon #3 cutout', 'Simon #58 cutout', 'Simon 8cm circle',\n",
       "       'Simon 5x8cm oval'], \n",
       "      dtype='<U18')"
      ]
     },
     "execution_count": 22,
     "metadata": {},
     "output_type": "execute_result"
    }
   ],
   "source": [
    "label[np.argsort(np.abs(residuals_lengthwidth))][::-1]"
   ]
  },
  {
   "cell_type": "code",
   "execution_count": 23,
   "metadata": {
    "collapsed": false
   },
   "outputs": [
    {
     "data": {
      "text/plain": [
       "0.0041539641616624001"
      ]
     },
     "execution_count": 23,
     "metadata": {},
     "output_type": "execute_result"
    }
   ],
   "source": [
    "np.std(residuals_lengthwidth)"
   ]
  },
  {
   "cell_type": "code",
   "execution_count": 24,
   "metadata": {
    "collapsed": false
   },
   "outputs": [
    {
     "data": {
      "text/plain": [
       "3"
      ]
     },
     "execution_count": 24,
     "metadata": {},
     "output_type": "execute_result"
    }
   ],
   "source": [
    "np.argmax(np.abs(residuals_lengthwidth))"
   ]
  },
  {
   "cell_type": "code",
   "execution_count": 25,
   "metadata": {
    "collapsed": false
   },
   "outputs": [],
   "source": [
    "# label[20]"
   ]
  },
  {
   "cell_type": "code",
   "execution_count": null,
   "metadata": {
    "collapsed": true
   },
   "outputs": [],
   "source": []
  },
  {
   "cell_type": "code",
   "execution_count": null,
   "metadata": {
    "collapsed": true
   },
   "outputs": [],
   "source": []
  },
  {
   "cell_type": "code",
   "execution_count": null,
   "metadata": {
    "collapsed": true
   },
   "outputs": [],
   "source": []
  },
  {
   "cell_type": "code",
   "execution_count": null,
   "metadata": {
    "collapsed": true
   },
   "outputs": [],
   "source": []
  },
  {
   "cell_type": "code",
   "execution_count": 26,
   "metadata": {
    "collapsed": true
   },
   "outputs": [],
   "source": [
    "from scipy.special import gamma\n",
    "\n",
    "def c4(n):\n",
    "    \n",
    "    output = np.sqrt(2/(n-1)) * gamma(n/2) / gamma((n-1)/2)\n",
    "    if np.isnan(output):\n",
    "        output = 1\n",
    "        \n",
    "    return output"
   ]
  },
  {
   "cell_type": "code",
   "execution_count": 27,
   "metadata": {
    "collapsed": false
   },
   "outputs": [
    {
     "name": "stdout",
     "output_type": "stream",
     "text": [
      "0.00538678096119\n",
      "-9.1376526006e-05\n"
     ]
    },
    {
     "data": {
      "image/png": "[encoded data removed]",
      "text/plain": [
       "<matplotlib.figure.Figure at 0x7f8885491f28>"
      ]
     },
     "metadata": {},
     "output_type": "display_data"
    }
   ],
   "source": [
    "predictionValue = np.zeros(len(custom_label))\n",
    "# bbox = [\n",
    "#     min(width) - width.ptp()*0.2,\n",
    "#     max(width) + width.ptp()*0.2, \n",
    "#     min(eqPonA) - eqPonA.ptp()*0.2,\n",
    "#     max(eqPonA) + eqPonA.ptp()*0.2]\n",
    "\n",
    "for i in range(len(custom_label)):\n",
    "\n",
    "    widthTest = np.delete(width, i)\n",
    "    eqPonATest = np.delete(eqPonA, i)\n",
    "    factorTest = np.delete(factor, i)\n",
    "    \n",
    "    modelTest = create_model(widthTest, eqPonATest, factorTest)\n",
    "\n",
    "#     predictionTestSpline = SmoothBivariateSpline(\n",
    "#         widthTest, eqPonATest, factorTest, kx=2, ky=1)\n",
    "\n",
    "    predictionValue[i] = modelTest(width[i], eqPonA[i])\n",
    "\n",
    "\n",
    "predictionDifference = factor - predictionValue\n",
    "\n",
    "plt.hist(predictionDifference, alpha=0.5)\n",
    "\n",
    "predictionStd = np.std(predictionDifference, ddof=1) / c4(len(predictionDifference))\n",
    "\n",
    "print(predictionStd)\n",
    "print(np.mean(predictionDifference))"
   ]
  },
  {
   "cell_type": "code",
   "execution_count": 28,
   "metadata": {
    "collapsed": false
   },
   "outputs": [],
   "source": [
    "# predictionValue = np.zeros(len(custom_label))\n",
    "# give = np.zeros(len(custom_label))\n",
    "# gap = np.zeros(len(custom_label))\n",
    "\n",
    "# # bbox = [\n",
    "# #     min(width) - width.ptp()*0.2,\n",
    "# #     max(width) + width.ptp()*0.2, \n",
    "# #     min(eqPonA) - eqPonA.ptp()*0.2,\n",
    "# #     max(eqPonA) + eqPonA.ptp()*0.2]\n",
    "\n",
    "# for i in range(len(custom_label)):\n",
    "\n",
    "#     widthTest = np.delete(width, i)\n",
    "#     eqPonATest = np.delete(eqPonA, i)\n",
    "#     factorTest = np.delete(factor, i)\n",
    "\n",
    "#     predictionTestSpline = SmoothBivariateSpline(\n",
    "#         widthTest, eqPonATest, factorTest, kx=1, ky=1)\n",
    "\n",
    "#     predictionValue[i] = predictionTestSpline.ev(width[i],eqPonA[i])\n",
    "    \n",
    "#     give[i] = fit_give(width[i], eqPonA[i], widthTest, eqPonATest, factorTest)\n",
    "#     gap[i] = angle_gap(width[i], eqPonA[i], widthTest, eqPonATest, 1, 1)\n",
    "\n",
    "\n",
    "# outOfTolerance = (give > 0.5) | (gap > 180)\n",
    "\n",
    "# predictionDifference = factor[~outOfTolerance] - predictionValue[~outOfTolerance]\n",
    "\n",
    "# plt.hist(predictionDifference, alpha=0.5)\n",
    "\n",
    "# predictionStd = np.std(predictionDifference, ddof=1) / c4(len(predictionDifference))\n",
    "\n",
    "# print(predictionStd)\n",
    "# print(np.mean(predictionDifference))"
   ]
  },
  {
   "cell_type": "code",
   "execution_count": null,
   "metadata": {
    "collapsed": true
   },
   "outputs": [],
   "source": []
  },
  {
   "cell_type": "code",
   "execution_count": 29,
   "metadata": {
    "collapsed": false
   },
   "outputs": [],
   "source": [
    "# np.argmax(np.abs(predictionDifference))"
   ]
  },
  {
   "cell_type": "code",
   "execution_count": 30,
   "metadata": {
    "collapsed": false
   },
   "outputs": [],
   "source": [
    "# label[7]"
   ]
  },
  {
   "cell_type": "code",
   "execution_count": 31,
   "metadata": {
    "collapsed": false
   },
   "outputs": [
    {
     "data": {
      "text/plain": [
       "<matplotlib.text.Text at 0x7f88856a6be0>"
      ]
     },
     "execution_count": 31,
     "metadata": {},
     "output_type": "execute_result"
    },
    {
     "data": {
      "image/png": "[encoded data removed]",
      "text/plain": [
       "<matplotlib.figure.Figure at 0x7f8885652860>"
      ]
     },
     "metadata": {},
     "output_type": "display_data"
    }
   ],
   "source": [
    "plt.figure(figsize=(6 * 1.618, 6))\n",
    "\n",
    "percentDifference = 100*(factor - predictionValue) / factor\n",
    "\n",
    "# binSize = np.floor(4 * percentDifference.ptp() / len(percentDifference) / 0.05) * 0.05\n",
    "# binStart = np.floor(percentDifference.min() / binSize)*binSize\n",
    "# binEnd = np.ceil(percentDifference.max() / binSize)*binSize\n",
    "\n",
    "binStart = -1.5\n",
    "binEnd = 1.5\n",
    "binSize = 0.5\n",
    "\n",
    "bins = np.arange(binStart, binEnd+binSize, binSize)\n",
    "\n",
    "\n",
    "dbins = bins[1] - bins[0]\n",
    "binsTrans = bins - dbins/2\n",
    "\n",
    "binsTrans = binsTrans.reshape(-1,1)\n",
    "binNum = np.argmin(abs(binsTrans - percentDifference),0)\n",
    "\n",
    "representative_height = np.zeros(len(binNum))\n",
    "\n",
    "for i in range(len(bins)):\n",
    "\n",
    "    binRef = (binNum == i)\n",
    "\n",
    "    representative_height[binRef] = np.arange(sum(binRef)) + 1\n",
    "\n",
    "\n",
    "plt.hist(percentDifference,bins, alpha=0.6, lw=2)\n",
    "plt.scatter(percentDifference, representative_height, zorder=2, s=120, alpha=0.8, lw=1.5)\n",
    "\n",
    "plt.xlabel(\n",
    "    r'\\% Prediction Difference '\n",
    "    r'$\\left[100 \\times \\frac{\\mbox{measured } - \\mbox{ predicted}}{\\mbox{measured}} \\right]$')\n",
    "plt.ylabel(r'Frequency')\n",
    "plt.title(r'Histogram of percent prediction differences')"
   ]
  },
  {
   "cell_type": "code",
   "execution_count": 32,
   "metadata": {
    "collapsed": false
   },
   "outputs": [
    {
     "data": {
      "text/plain": [
       "array(['Simon 3cm circle', 'Simon 9cm circle', 'P4', 'P10', 'P12_1',\n",
       "       'Simon #14 cutout', 'Simon #6 cutout', 'Simon 3x5cm oval',\n",
       "       'Simon #104 cutout', 'Simon 4cm circle', 'P38_1',\n",
       "       'Simon #18 cutout', 'Simon #19 cutout', 'Simon 6cm circle', 'P3',\n",
       "       'Simon #109 cutout', 'Simon #57 cutout', 'Simon #112 cutout',\n",
       "       'Simon #33 cutout', 'Simon #38 cutout', 'Simon 4x13cm oval',\n",
       "       'Simon 4x8cm oval', 'Simon 3x6.5cm oval', 'P22', 'Simon #34 cutout',\n",
       "       'Simon #43 cutout', 'Simon 5cm circle', 'Simon #70 cutout',\n",
       "       'Simon 4x6.5cm oval', 'Simon 3x13cm oval', 'Simon #32 cutout',\n",
       "       'Simon #20 cutout', 'Simon #82 cutout', 'Simon #22 cutout',\n",
       "       'Simon 5x13cm oval', 'P40', 'Simon #73 cutout', 'Simon 7cm circle',\n",
       "       'Simon 5x10cm oval', 'Simon #83 cutout', 'Simon 4x10cm oval',\n",
       "       'Simon #106 cutout', 'Simon 3x9cm oval', 'Simon #41 cutout',\n",
       "       'Simon #3 cutout', 'Simon #16 cutout', 'Simon #58 cutout',\n",
       "       'Simon 8cm circle', 'Simon 5x8cm oval'], \n",
       "      dtype='<U18')"
      ]
     },
     "execution_count": 32,
     "metadata": {},
     "output_type": "execute_result"
    }
   ],
   "source": [
    "label[np.argsort(np.abs(percentDifference))][::-1]"
   ]
  },
  {
   "cell_type": "code",
   "execution_count": 33,
   "metadata": {
    "collapsed": false
   },
   "outputs": [
    {
     "data": {
      "text/plain": [
       "1.5648772494696859"
      ]
     },
     "execution_count": 33,
     "metadata": {},
     "output_type": "execute_result"
    }
   ],
   "source": [
    "np.max(np.abs(percentDifference))"
   ]
  },
  {
   "cell_type": "code",
   "execution_count": 34,
   "metadata": {
    "collapsed": true
   },
   "outputs": [],
   "source": [
    "from scipy.stats import shapiro, probplot, ttest_1samp"
   ]
  },
  {
   "cell_type": "code",
   "execution_count": 35,
   "metadata": {
    "collapsed": false,
    "scrolled": true
   },
   "outputs": [
    {
     "name": "stdout",
     "output_type": "stream",
     "text": [
      "t-Test: 0.9094 which is not significant\n",
      "Shapiro: 0.8165 which is not significant\n",
      "Standard deviation with bias correction: 0.55\n",
      "Mean:-0.01\n"
     ]
    }
   ],
   "source": [
    "t, ttestProb = ttest_1samp(percentDifference,0)\n",
    "res_ttest = \"%0.4f\" %(ttestProb)\n",
    "\n",
    "if ttestProb < 0.1:\n",
    "    tSignificance = 'significant'\n",
    "else:\n",
    "    tSignificance = 'not significant'\n",
    "\n",
    "print('t-Test: ' + res_ttest + ' which is ' + tSignificance)\n",
    "\n",
    "W, shapiroProb = shapiro(percentDifference)\n",
    "res_norm = \"%0.4f\" %(shapiroProb)\n",
    "\n",
    "if shapiroProb < 0.1:\n",
    "    shSignificance = 'significant'\n",
    "else:\n",
    "    shSignificance = 'not significant'\n",
    "\n",
    "print('Shapiro: ' + res_norm + ' which is ' + shSignificance)\n",
    "\n",
    "\n",
    "\n",
    "residualStd = np.std(percentDifference,ddof=1) / c4(len(percentDifference))\n",
    "\n",
    "res_std = \"%0.2f\" %(residualStd)\n",
    "print('Standard deviation with bias correction: ' + res_std)\n",
    "\n",
    "res_mean = \"%0.2f\" %(np.mean(percentDifference))\n",
    "print('Mean:' + res_mean)"
   ]
  },
  {
   "cell_type": "code",
   "execution_count": 36,
   "metadata": {
    "collapsed": false
   },
   "outputs": [
    {
     "data": {
      "text/plain": [
       "<matplotlib.text.Text at 0x7f8885426908>"
      ]
     },
     "execution_count": 36,
     "metadata": {},
     "output_type": "execute_result"
    },
    {
     "data": {
      "image/png": "[encoded data removed]",
      "text/plain": [
       "<matplotlib.figure.Figure at 0x7f888568e6d8>"
      ]
     },
     "metadata": {},
     "output_type": "display_data"
    }
   ],
   "source": [
    "fig = plt.figure(figsize=(7,4))\n",
    "ax = fig.add_subplot(111)\n",
    "\n",
    "probplot(percentDifference, plot=ax);\n",
    "\n",
    "ax.set_title(\"Normality probability plot for the percent differences\")"
   ]
  },
  {
   "cell_type": "code",
   "execution_count": null,
   "metadata": {
    "collapsed": true
   },
   "outputs": [],
   "source": []
  },
  {
   "cell_type": "code",
   "execution_count": null,
   "metadata": {
    "collapsed": true
   },
   "outputs": [],
   "source": []
  },
  {
   "cell_type": "code",
   "execution_count": null,
   "metadata": {
    "collapsed": true
   },
   "outputs": [],
   "source": []
  },
  {
   "cell_type": "code",
   "execution_count": null,
   "metadata": {
    "collapsed": true
   },
   "outputs": [],
   "source": []
  },
  {
   "cell_type": "code",
   "execution_count": 37,
   "metadata": {
    "collapsed": true
   },
   "outputs": [],
   "source": [
    "predictions = spline.ev(width, eqPonA)\n",
    "\n",
    "numTrials = 5000\n",
    "\n",
    "resampleSpline = [0,]*numTrials\n",
    "resampledPredictions = np.zeros(np.shape(mesh_width) + (numTrials,))\n",
    "\n",
    "for i in range(numTrials):\n",
    "\n",
    "    resample = np.random.normal(loc=predictions, scale=predictionStd)\n",
    "    resampleSpline[i] = SmoothBivariateSpline(width, eqPonA, resample, kx=2, ky=1)\n",
    "\n",
    "    resampledPredictions[:,:,i] = resampleSpline[i].ev(mesh_width, mesh_eqPonA)"
   ]
  },
  {
   "cell_type": "code",
   "execution_count": 38,
   "metadata": {
    "collapsed": false
   },
   "outputs": [
    {
     "data": {
      "text/plain": [
       "(0.0, 16.0, 0.0, 16.0)"
      ]
     },
     "execution_count": 38,
     "metadata": {},
     "output_type": "execute_result"
    },
    {
     "data": {
      "image/png": "[encoded data removed]",
      "text/plain": [
       "<matplotlib.figure.Figure at 0x7f886292df60>"
      ]
     },
     "metadata": {},
     "output_type": "display_data"
    }
   ],
   "source": [
    "variableUncertaintyEstimate = np.std(resampledPredictions, ddof=1, axis=2) / c4(numTrials)\n",
    "\n",
    "variableUncertaintyEstimate[outOfTolerance] = np.nan\n",
    "\n",
    "c = plt.contourf(xx, yy, variableUncertaintyEstimate, 100)\n",
    "plt.colorbar(c)\n",
    "\n",
    "plt.contour(xx, yy, give, levels=[0.5], colors='g')\n",
    "plt.contour(xx, yy, gap, levels=[180], colors='r')\n",
    "\n",
    "plt.scatter(width,length,s=30)\n",
    "plt.scatter(length,width,s=30,alpha=0.2)\n",
    "\n",
    "plt.xlabel('Width (cm)')\n",
    "plt.ylabel('Length (cm)')\n",
    "plt.title('Estimated prediction uncertainty')\n",
    "\n",
    "plt.axis('equal')"
   ]
  },
  {
   "cell_type": "code",
   "execution_count": null,
   "metadata": {
    "collapsed": true
   },
   "outputs": [],
   "source": []
  },
  {
   "cell_type": "code",
   "execution_count": null,
   "metadata": {
    "collapsed": true
   },
   "outputs": [],
   "source": []
  },
  {
   "cell_type": "code",
   "execution_count": null,
   "metadata": {
    "collapsed": true
   },
   "outputs": [],
   "source": []
  },
  {
   "cell_type": "code",
   "execution_count": 39,
   "metadata": {
    "collapsed": true
   },
   "outputs": [],
   "source": [
    "from scipy.optimize import basinhopping\n",
    "\n",
    "class constant_uncertainty(object):\n",
    "    \"\"\"Find the constant uncertainty throughout the fit.\n",
    "    \"\"\"\n",
    "    def __init__(self, n=5, debug=False, **kwargs):\n",
    "        \n",
    "        self.debug=debug\n",
    "        \n",
    "        self.residuals = kwargs['residuals']\n",
    "        self.variableUncertainty = kwargs['variableUncertainty']\n",
    "\n",
    "                \n",
    "        self.basinRequiredSuccess = n\n",
    "        self.constantUncertainty = np.abs(self.uncertainty_basinhopping())\n",
    "        \n",
    "        self.totalUncertainty = np.sqrt(self.variableUncertainty**2 + \n",
    "                                        self.constantUncertainty**2)\n",
    "        \n",
    "\n",
    "    def c4(n):\n",
    "    \n",
    "        output = np.sqrt(2/(n-1)) * gamma(n/2) / gamma((n-1)/2)\n",
    "        if np.isnan(output):\n",
    "            output = 1\n",
    "\n",
    "        return output\n",
    "    \n",
    "    \n",
    "    def minimise_function(self, constantUncertaintyGuess):\n",
    "\n",
    "        totalUncertaintyGuess = np.sqrt(self.variableUncertainty**2 + constantUncertaintyGuess**2)\n",
    "\n",
    "        scaled = self.residuals / totalUncertaintyGuess\n",
    "\n",
    "        scaledStd = np.std(scaled,ddof=1) / c4(len(scaled))\n",
    "        \n",
    "        return (scaledStd - 1)**2\n",
    "        \n",
    "    \n",
    "    def uncertainty_basinhopping(self):\n",
    "\n",
    "        self.functionReturns = np.empty(self.basinRequiredSuccess)\n",
    "        self.functionReturns[:] = np.nan\n",
    "        \n",
    "        self.numSuccess = 0\n",
    "        \n",
    "        minimizerConfig = {\"method\": 'BFGS'}\n",
    "        \n",
    "        initial_input = np.array([0.01])\n",
    "        \n",
    "        \n",
    "        basinhoppingOutput = basinhopping(self.minimise_function,\n",
    "                                          initial_input,\n",
    "                                          niter=1000,\n",
    "                                          minimizer_kwargs=minimizerConfig,\n",
    "                                          take_step=self.step_function,\n",
    "                                          callback=self.callback_function)\n",
    "        \n",
    "        return basinhoppingOutput.x\n",
    "        \n",
    "        \n",
    "    def step_function(self,optimiserInput):\n",
    "\n",
    "        optimiserInput[0] += np.random.normal(scale=0.01)   # x-position\n",
    "        \n",
    "        return optimiserInput\n",
    "    \n",
    "    \n",
    "    def callback_function(self, optimiserOutput, minimiseFunctionOutput, minimiseAccepted):\n",
    "       \n",
    "        if self.debug:\n",
    "            print(optimiserOutput)\n",
    "            print(minimiseFunctionOutput)\n",
    "            print(minimiseAccepted)\n",
    "            print(\" \")\n",
    "        \n",
    "        if minimiseAccepted:\n",
    "            \n",
    "            if self.numSuccess == 0:\n",
    "                # First result\n",
    "                self.functionReturns[0] = minimiseFunctionOutput\n",
    "                self.numSuccess = 1\n",
    "                \n",
    "            elif minimiseFunctionOutput >= np.nanmin(self.functionReturns) + 0.0001:\n",
    "                # Reject result\n",
    "                0\n",
    "                \n",
    "            elif minimiseFunctionOutput >= np.nanmin(self.functionReturns) - 0.0001:\n",
    "                # Agreeing result\n",
    "                self.functionReturns[self.numSuccess] = minimiseFunctionOutput\n",
    "                self.numSuccess += 1\n",
    "            \n",
    "            elif minimiseFunctionOutput < np.nanmin(self.functionReturns) - 0.0001:\n",
    "                # New result\n",
    "                self.functionReturns[0] = minimiseFunctionOutput\n",
    "                self.numSuccess = 1\n",
    "        \n",
    "        if self.numSuccess >= self.basinRequiredSuccess:\n",
    "            return True\n",
    "        "
   ]
  },
  {
   "cell_type": "code",
   "execution_count": 40,
   "metadata": {
    "collapsed": false
   },
   "outputs": [
    {
     "name": "stdout",
     "output_type": "stream",
     "text": [
      "0.48%\n"
     ]
    }
   ],
   "source": [
    "resampledPredictionsAtPoints = np.zeros(np.shape(width) + (numTrials,))\n",
    "\n",
    "for i in range(numTrials):\n",
    "\n",
    "    resampledPredictionsAtPoints[:,i] = resampleSpline[i].ev(width,eqPonA)\n",
    "\n",
    "fittingUncertainty = np.std(resampledPredictionsAtPoints, ddof=1, axis=1) / c4(numTrials)\n",
    "# fittingUncertainty\n",
    "\n",
    "measuredUncertaintyEstimate = constant_uncertainty(residuals=predictionDifference, \n",
    "                                                   variableUncertainty=fittingUncertainty)\n",
    "\n",
    "measuredUncertaintyEstimate.constantUncertainty\n",
    "\n",
    "measuredUncertaintyString = '%0.2f%%' %(measuredUncertaintyEstimate.constantUncertainty*100)\n",
    "print(measuredUncertaintyString)"
   ]
  },
  {
   "cell_type": "code",
   "execution_count": 41,
   "metadata": {
    "collapsed": false
   },
   "outputs": [
    {
     "data": {
      "text/plain": [
       "<matplotlib.collections.PathCollection at 0x7f8862391f60>"
      ]
     },
     "execution_count": 41,
     "metadata": {},
     "output_type": "execute_result"
    },
    {
     "data": {
      "image/png": "[encoded data removed]",
      "text/plain": [
       "<matplotlib.figure.Figure at 0x7f88627d5da0>"
      ]
     },
     "metadata": {},
     "output_type": "display_data"
    }
   ],
   "source": [
    "totalUncertaintyEstimate = np.sqrt(variableUncertaintyEstimate**2 + \n",
    "                                   measuredUncertaintyEstimate.constantUncertainty**2)\n",
    "\n",
    "totalUncertaintyEstimate = np.around(totalUncertaintyEstimate,decimals=5)\n",
    "\n",
    "c = plt.contourf(xx,yy,totalUncertaintyEstimate,200)\n",
    "plt.colorbar(c)\n",
    "\n",
    "plt.contour(xx,yy,give,levels=[0.5],colors='g')\n",
    "plt.contour(xx,yy,gap,levels=[180],colors='r')\n",
    "\n",
    "plt.scatter(width,length,s=30)\n",
    "plt.scatter(length,width,s=30,alpha=0.2)"
   ]
  },
  {
   "cell_type": "code",
   "execution_count": null,
   "metadata": {
    "collapsed": true
   },
   "outputs": [],
   "source": []
  }
 ],
 "metadata": {
  "kernelspec": {
   "display_name": "Python 3",
   "language": "python",
   "name": "python3"
  },
  "language_info": {
   "codemirror_mode": {
    "name": "ipython",
    "version": 3
   },
   "file_extension": ".py",
   "mimetype": "text/x-python",
   "name": "python",
   "nbconvert_exporter": "python",
   "pygments_lexer": "ipython3",
   "version": "3.4.0"
  }
 },
 "nbformat": 4,
 "nbformat_minor": 0
}
