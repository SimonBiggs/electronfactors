{
 "metadata": {
  "name": "",
  "signature": "sha256:e7dbc9fb61e13add1eab8ff35253d654eb72e402673efc0a9b02848025ac3fc2"
 },
 "nbformat": 3,
 "nbformat_minor": 0,
 "worksheets": [
  {
   "cells": [
    {
     "cell_type": "code",
     "collapsed": false,
     "input": [
      "%pylab inline\n",
      "\n",
      "import pandas as pd\n",
      "\n",
      "import csv\n",
      "\n",
      "import shapely.affinity as af\n",
      "import shapely.geometry as sh\n",
      "\n",
      "from scipy.optimize import fsolve, basinhopping\n",
      "\n",
      "from threshold_functions import *\n",
      "\n",
      "from dimension_measure import *"
     ],
     "language": "python",
     "metadata": {},
     "outputs": [
      {
       "output_type": "stream",
       "stream": "stdout",
       "text": [
        "Populating the interactive namespace from numpy and matplotlib\n"
       ]
      }
     ],
     "prompt_number": 109
    },
    {
     "cell_type": "code",
     "collapsed": false,
     "input": [
      "x_list = list()\n",
      "y_list = list()\n",
      "\n",
      "with open('../data/cutout_x.csv', 'r') as x_csvfile:\n",
      "    with open('../data/cutout_y.csv', 'r') as y_csvfile:\n",
      "        \n",
      "        x_reader = csv.reader(x_csvfile, delimiter=',', lineterminator='\\n')\n",
      "        y_reader = csv.reader(y_csvfile, delimiter=',', lineterminator='\\n')\n",
      "        \n",
      "        for row in x_reader:\n",
      "            x_list += [row]\n",
      "  \n",
      "        for row in y_reader:\n",
      "            y_list += [row]"
     ],
     "language": "python",
     "metadata": {},
     "outputs": [],
     "prompt_number": 3
    },
    {
     "cell_type": "code",
     "collapsed": false,
     "input": [
      "x_array = list()\n",
      "y_array = list()\n",
      "\n",
      "for i in range(len(x_list)):\n",
      "\n",
      "    x_array += [array(x_list[i], dtype='float')]\n",
      "    y_array += [array(y_list[i], dtype='float')]"
     ],
     "language": "python",
     "metadata": {},
     "outputs": [],
     "prompt_number": 4
    },
    {
     "cell_type": "code",
     "collapsed": false,
     "input": [
      "cutout = shapely_cutout(x_array[0],y_array[0])\n",
      "cutout"
     ],
     "language": "python",
     "metadata": {},
     "outputs": [
      {
       "metadata": {},
       "output_type": "pyout",
       "prompt_number": 5,
       "svg": [
        "<svg\n",
        "            preserveAspectRatio=\"xMinYMin meet\"\n",
        "            viewBox=\"-4.2 -5.4 8.4 9.3\"\n",
        "            width=\"100.0\"\n",
        "            height=\"100.0\"\n",
        "            transform=\"translate(0, 100.0),scale(1, -1)\">\n",
        "            \n",
        "            <g fill-rule=\"evenodd\" fill=\"#66cc99\" stroke=\"#555555\" \n",
        "            stroke-width=\"0.18600000000000003\" opacity=\"0.6\">\n",
        "            <path d=\"M -1.7,2.85 L -1.65,2.9 L 1.65,2.9 L 1.75,2.8 L 1.85,2.8 L 2.0,2.65 L 2.0,2.55 L 2.15,2.4 L 2.35,2.4 L 2.45,2.3 L 2.55,2.3 L 2.7,2.15 L 2.7,2.05 L 2.8,1.95 L 2.8,1.75 L 2.9,1.65 L 2.9,1.55 L 3.0,1.45 L 3.0,1.05 L 3.1,0.95 L 3.1,0.55 L 3.2,0.45 L 3.2,-1.95 L 3.1,-2.05 L 3.1,-2.45 L 3.0,-2.55 L 3.0,-2.65 L 2.9,-2.75 L 2.9,-2.95 L 2.8,-3.05 L 2.8,-3.45 L 2.7,-3.55 L 2.7,-3.65 L 2.55,-3.8 L 2.45,-3.8 L 2.35,-3.9 L 1.95,-3.9 L 1.8,-4.05 L 1.8,-4.15 L 1.65,-4.3 L 1.55,-4.3 L 1.45,-4.4 L -1.15,-4.4 L -1.25,-4.3 L -1.35,-4.3 L -1.6,-4.05 L -1.6,-3.95 L -1.65,-3.9 L -2.05,-3.9 L -2.15,-3.8 L -2.25,-3.8 L -2.5,-3.55 L -2.5,-3.45 L -2.6,-3.35 L -2.6,-2.95 L -2.7,-2.85 L -2.7,-2.45 L -2.8,-2.35 L -2.8,-2.25 L -2.9,-2.15 L -2.9,-2.05 L -3.0,-1.95 L -3.0,-1.55 L -3.1,-1.45 L -3.1,-0.05 L -3.0,0.05 L -3.0,0.25 L -3.1,0.35 L -3.1,0.45 L -3.2,0.55 L -3.2,1.45 L -3.1,1.55 L -3.1,1.65 L -3.0,1.75 L -3.0,1.95 L -2.9,2.05 L -2.9,2.15 L -2.75,2.3 L -2.65,2.3 L -2.55,2.4 L -2.15,2.4 L -2.1,2.45 L -2.1,2.55 L -1.85,2.8 L -1.75,2.8 L -1.7,2.85 z\" />\n",
        "            </g>\n",
        "            </svg>"
       ],
       "text": [
        "<shapely.geometry.polygon.Polygon at 0x7f4842344e48>"
       ]
      }
     ],
     "prompt_number": 5
    },
    {
     "cell_type": "code",
     "collapsed": false,
     "input": [
      "output = width_calc_minimiser(cutout,10)\n",
      "output"
     ],
     "language": "python",
     "metadata": {},
     "outputs": [
      {
       "metadata": {},
       "output_type": "pyout",
       "prompt_number": 6,
       "text": [
        "                  njev: 2936\n",
        "                   nit: 100\n",
        "                  nfev: 15170\n",
        " minimization_failures: 41\n",
        "                     x: array([ 0.05659363, -0.75000001,  1.78308599])\n",
        "                   fun: 9.639328190458306\n",
        "               message: ['requested number of basinhopping iterations completed successfully']"
       ]
      }
     ],
     "prompt_number": 6
    },
    {
     "cell_type": "code",
     "collapsed": false,
     "input": [
      "width = output.x[2]**2 * 2\n",
      "width"
     ],
     "language": "python",
     "metadata": {},
     "outputs": [
      {
       "metadata": {},
       "output_type": "pyout",
       "prompt_number": 7,
       "text": [
        "6.3587913118005748"
       ]
      }
     ],
     "prompt_number": 7
    },
    {
     "cell_type": "code",
     "collapsed": false,
     "input": [
      "circle = sh.Point(output.x[0],output.x[1]).buffer(output.x[2]**2)"
     ],
     "language": "python",
     "metadata": {},
     "outputs": [],
     "prompt_number": 8
    },
    {
     "cell_type": "code",
     "collapsed": false,
     "input": [
      "circle.difference(cutout)"
     ],
     "language": "python",
     "metadata": {},
     "outputs": [
      {
       "metadata": {},
       "output_type": "pyout",
       "prompt_number": 9,
       "svg": [
        "<svg\n",
        "            preserveAspectRatio=\"xMinYMin meet\"\n",
        "            viewBox=\"-4.121597479139914 -2.616290089756299 8.357586768005747 3.732580156491383\"\n",
        "            width=\"100.0\"\n",
        "            height=\"100.0\"\n",
        "            transform=\"translate(0, 100.0),scale(1, -1)\">\n",
        "            <g fill-rule=\"evenodd\" fill=\"#66cc99\" stroke=\"#555555\"\n",
        "                stroke-width=\"0.16715173536011496\" opacity=\"0.6\">\n",
        "                <path d=\"M 3.2359892888658335,-0.7500000115106072 L 3.220679629765444,-1.0616352816781807 L 3.2,-1.201046021503523 L 3.2,-0.29895400151769136 L 3.220679629765441,-0.4383647413430084 L 3.2359892888658335,-0.750000011510581 L 3.2359892888658335,-0.7500000115106072 z\" /></g>\n",
        "<g fill-rule=\"evenodd\" fill=\"#66cc99\" stroke=\"#555555\"\n",
        "                stroke-width=\"0.16715173536011496\" opacity=\"0.6\">\n",
        "                <path d=\"M -3.0,-1.6166327647807417 L -3.02226864352264,-1.5277313564773598 L -3.0,-1.55 L -3.0,-1.6166327647807417 z\" /></g>\n",
        "<g fill-rule=\"evenodd\" fill=\"#66cc99\" stroke=\"#555555\"\n",
        "                stroke-width=\"0.16715173536011496\" opacity=\"0.6\">\n",
        "                <path d=\"M -3.1,-1.1121446958715149 L -3.1074923638343512,-1.0616352816781847 L -3.1228020229347413,-0.7500000115106105 L -3.1074923638343517,-0.43836474134303627 L -3.1,-0.38785532714970167 L -3.1,-1.1121446958715149 z\" /></g>\n",
        "<g fill-rule=\"evenodd\" fill=\"#66cc99\" stroke=\"#555555\"\n",
        "                stroke-width=\"0.16715173536011496\" opacity=\"0.6\">\n",
        "                <path d=\"M -3.022268635828959,0.027731364171040596 L -3.0,0.11663274175952668 L -3.0,0.05 L -3.022268635828959,0.027731364171040596 z\" /></g>\n",
        "            </svg>"
       ],
       "text": [
        "<shapely.geometry.multipolygon.MultiPolygon at 0x7f485871edd8>"
       ]
      }
     ],
     "prompt_number": 9
    },
    {
     "cell_type": "code",
     "collapsed": false,
     "input": [
      "cutout.difference(circle)"
     ],
     "language": "python",
     "metadata": {},
     "outputs": [
      {
       "metadata": {},
       "output_type": "pyout",
       "prompt_number": 10,
       "svg": [
        "<svg\n",
        "            preserveAspectRatio=\"xMinYMin meet\"\n",
        "            viewBox=\"-4.2 -5.4 8.4 9.3\"\n",
        "            width=\"100.0\"\n",
        "            height=\"100.0\"\n",
        "            transform=\"translate(0, 100.0),scale(1, -1)\">\n",
        "            <g fill-rule=\"evenodd\" fill=\"#66cc99\" stroke=\"#555555\"\n",
        "                stroke-width=\"0.18600000000000003\" opacity=\"0.6\">\n",
        "                <path d=\"M -1.7,2.85 L -1.65,2.9 L 1.65,2.9 L 1.75,2.8 L 1.85,2.8 L 2.0,2.65 L 2.0,2.55 L 2.15,2.4 L 2.35,2.4 L 2.45,2.3 L 2.55,2.3 L 2.7,2.15 L 2.7,2.05 L 2.8,1.95 L 2.8,1.75 L 2.9,1.65 L 2.9,1.55 L 3.0,1.45 L 3.0,1.05 L 3.1,0.95 L 3.1,0.55 L 3.2,0.45 L 3.2,-0.29895400151769136 L 3.1748980928505177,-0.1297306891843173 L 3.0990855793482868,0.1729298303266693 L 2.993972205207111,0.46670203093599094 L 2.8605702696807853,0.748756725759559 L 2.7001645063333437,1.016377573899443 L 2.5142997103525317,1.2669872402916185 L 2.304765861327678,1.4981722168515494 L 2.0735808847677446,1.7077060658764007 L 1.8229712183755669,1.89357086185721 L 1.5553503702356812,2.0539766252046485 L 1.2732956754121116,2.1873785607309717 L 0.9795234748027888,2.2924919348721438 L 0.6768629552918015,2.368304448374371 L 0.3682289031331098,2.4140859852892915 L 0.05659363296553698,2.4293956443896803 L -0.25504163720203576,2.4140859852892897 L -0.5636756893607271,2.3683044483743676 L -0.8663362088717141,2.292491934872139 L -1.160108409481036,2.1873785607309646 L -1.4421631043046053,2.05397662520464 L -1.70978395244449,1.8935708618571998 L -1.9603936188366662,1.7077060658763896 L -2.1915785953965985,1.498172216851537 L -2.401112444421452,1.2669872402916034 L -2.586977240402263,1.0163775738994256 L -2.747383003749704,0.7487567257595394 L -2.880784939276028,0.46670203093596896 L -2.9858983134172017,0.17292983032664533 L -3.0,0.11663274175952668 L -3.0,0.25 L -3.1,0.35 L -3.1,0.45 L -3.2,0.55 L -3.2,1.45 L -3.1,1.55 L -3.1,1.65 L -3.0,1.75 L -3.0,1.95 L -2.9,2.05 L -2.9,2.15 L -2.75,2.3 L -2.65,2.3 L -2.55,2.4 L -2.15,2.4 L -2.1,2.45 L -2.1,2.55 L -1.85,2.8 L -1.75,2.8 L -1.7,2.85 z\" /></g>\n",
        "<g fill-rule=\"evenodd\" fill=\"#66cc99\" stroke=\"#555555\"\n",
        "                stroke-width=\"0.18600000000000003\" opacity=\"0.6\">\n",
        "                <path d=\"M 3.2,-1.201046021503523 L 3.2,-1.95 L 3.1,-2.05 L 3.1,-2.45 L 3.0,-2.55 L 3.0,-2.65 L 2.9,-2.75 L 2.9,-2.95 L 2.8,-3.05 L 2.8,-3.45 L 2.7,-3.55 L 2.7,-3.65 L 2.55,-3.8 L 2.45,-3.8 L 2.35,-3.9 L 1.95,-3.9 L 1.8,-4.05 L 1.8,-4.15 L 1.65,-4.3 L 1.55,-4.3 L 1.45,-4.4 L -1.15,-4.4 L -1.25,-4.3 L -1.35,-4.3 L -1.6,-4.05 L -1.6,-3.95 L -1.65,-3.9 L -2.05,-3.9 L -2.15,-3.8 L -2.25,-3.8 L -2.5,-3.55 L -2.5,-3.45 L -2.6,-3.35 L -2.6,-2.95 L -2.7,-2.85 L -2.7,-2.45 L -2.8,-2.35 L -2.8,-2.25 L -2.9,-2.15 L -2.9,-2.05 L -3.0,-1.95 L -3.0,-1.6166327647807417 L -2.9858983134172004,-1.672929853347866 L -2.8807849392760256,-1.9667020539571896 L -2.7473830037497007,-2.2487567487807594 L -2.5869772404022595,-2.516377596920645 L -2.401112444421448,-2.7669872633128225 L -2.191578595396594,-2.9981722398727553 L -1.96039361883666,-3.2077060888976088 L -1.7097839524444822,-3.393570884878419 L -1.4421631043045957,-3.5539766482258592 L -1.1601084094810257,-3.687378583752183 L -0.8663362088717026,-3.7924919578933562 L -0.5636756893607147,-3.868304471395584 L -0.25504163720202233,-3.9140860083105053 L 0.05659363296555117,-3.9293956674108945 L 0.3682289031331246,-3.914086008310504 L 0.6768629552918168,-3.8683044713955823 L 0.9795234748028046,-3.7924919578933536 L 1.2732956754121274,-3.6873785837521793 L 1.555350370235697,-3.5539766482258544 L 1.8229712183755824,-3.3935708848784136 L 2.0735808847677597,-3.2077060888976026 L 2.3047658613276925,-2.9981722398727495 L 2.514299710352545,-2.7669872633128163 L 2.7001645063333557,-2.5163775969206394 L 2.860570269680796,-2.2487567487807536 L 2.99397220520712,-1.9667020539571838 L 3.099085579348294,-1.6729298533478612 L 3.1748980928505226,-1.3702693338368732 L 3.2,-1.201046021503523 z\" /></g>\n",
        "<g fill-rule=\"evenodd\" fill=\"#66cc99\" stroke=\"#555555\"\n",
        "                stroke-width=\"0.18600000000000003\" opacity=\"0.6\">\n",
        "                <path d=\"M -3.02226864352264,-1.5277313564773598 L -3.1,-1.45 L -3.1,-1.1121446958715149 L -3.061710826919429,-1.3702693338368774 L -3.02226864352264,-1.5277313564773598 z\" /></g>\n",
        "<g fill-rule=\"evenodd\" fill=\"#66cc99\" stroke=\"#555555\"\n",
        "                stroke-width=\"0.18600000000000003\" opacity=\"0.6\">\n",
        "                <path d=\"M -3.1,-0.38785532714970167 L -3.1,-0.05 L -3.022268635828959,0.027731364171040596 L -3.061710826919431,-0.12973068918434327 L -3.1,-0.38785532714970167 z\" /></g>\n",
        "            </svg>"
       ],
       "text": [
        "<shapely.geometry.multipolygon.MultiPolygon at 0x7f485871ee48>"
       ]
      }
     ],
     "prompt_number": 10
    },
    {
     "cell_type": "code",
     "collapsed": false,
     "input": [
      "def scaled_fig_start(w,l):\n",
      "    figure(figsize=(w/2.54,l/2.54))\n",
      "    subplots_adjust(left=0, right=1, top=1, bottom=0)\n",
      "    \n",
      "def scaled_fig_end(w,l):\n",
      "    axis('equal')\n",
      "    xlim([-w/2,w/2])\n",
      "    ylim([-l/2,l/2])\n",
      "\n",
      "    grid(True)"
     ],
     "language": "python",
     "metadata": {},
     "outputs": [],
     "prompt_number": 11
    },
    {
     "cell_type": "code",
     "collapsed": false,
     "input": [
      "scaled_fig_start(12,12)\n",
      "\n",
      "plot(cutout.exterior.xy[0],cutout.exterior.xy[1])\n",
      "plot(circle.exterior.xy[0],circle.exterior.xy[1],'r')\n",
      "\n",
      "plot([circle.centroid.xy[0]-width/2,circle.centroid.xy[0]+width/2],\n",
      "     [circle.centroid.xy[1],circle.centroid.xy[1]])\n",
      "\n",
      "plot(circle.centroid.xy[0],circle.centroid.xy[1],'go')\n",
      "\n",
      "scaled_fig_end(12,12)"
     ],
     "language": "python",
     "metadata": {},
     "outputs": [
      {
       "metadata": {},
       "output_type": "display_data",
       "png": "[encoded data removed]",
       "text": [
        "<matplotlib.figure.Figure at 0x7f484226ebe0>"
       ]
      }
     ],
     "prompt_number": 12
    },
    {
     "cell_type": "code",
     "collapsed": false,
     "input": [
      "# length = length_calc(cutout, width)\n",
      "ratio_guess = ratio_calc(cutout,width)\n",
      "ratio_guess"
     ],
     "language": "python",
     "metadata": {},
     "outputs": [
      {
       "metadata": {},
       "output_type": "pyout",
       "prompt_number": 47,
       "text": [
        "0.91792488139953998"
       ]
      }
     ],
     "prompt_number": 47
    },
    {
     "cell_type": "code",
     "collapsed": false,
     "input": [
      "def solve_ellipse_ratio(R,P,A,W):\n",
      "       \n",
      "    toBeZeroed = (P/A) * (W/2) - ( 3*(R+1) - sqrt( (3*R+1)*(R+3) ) )\n",
      "    \n",
      "    return toBeZeroed"
     ],
     "language": "python",
     "metadata": {},
     "outputs": [],
     "prompt_number": 86
    },
    {
     "cell_type": "code",
     "collapsed": false,
     "input": [
      "def approx_ellipse_solver(R,P,A,W):\n",
      "    \n",
      "    toBeZeroed = (P/A) * (W/2) - ( R + 1 )\n",
      "    \n",
      "    return toBeZeroed"
     ],
     "language": "python",
     "metadata": {},
     "outputs": [],
     "prompt_number": 101
    },
    {
     "cell_type": "code",
     "collapsed": false,
     "input": [
      "perimeter = cutout.length\n",
      "area = cutout.area\n",
      "\n",
      "ratio = fsolve(solve_ellipse_ratio,ratio_guess,args=(perimeter, area, width))\n",
      "ratio"
     ],
     "language": "python",
     "metadata": {},
     "outputs": [
      {
       "metadata": {},
       "output_type": "pyout",
       "prompt_number": 96,
       "text": [
        "array([ 0.91702696])"
       ]
      }
     ],
     "prompt_number": 96
    },
    {
     "cell_type": "code",
     "collapsed": false,
     "input": [
      "t = linspace(-5,0,1000)\n",
      "R_iter = exp(t)\n",
      "solver_y = solve_ellipse_ratio(R_iter,perimeter, area, width)\n",
      "approx_solver_y = approx_ellipse_solver(R_iter,perimeter, area, width)\n",
      "\n",
      "plot(R_iter,approx_solver_y,'r:')\n",
      "plot(R_iter,solver_y)\n",
      "plot(R_iter,zeros(size(t)),'k--')\n",
      "plot(ratio,0,'o')"
     ],
     "language": "python",
     "metadata": {},
     "outputs": [
      {
       "metadata": {},
       "output_type": "pyout",
       "prompt_number": 106,
       "text": [
        "[<matplotlib.lines.Line2D at 0x7f484199d7b8>]"
       ]
      },
      {
       "metadata": {},
       "output_type": "display_data",
       "png": "[encoded data removed]",
       "text": [
        "<matplotlib.figure.Figure at 0x7f48419ce518>"
       ]
      }
     ],
     "prompt_number": 106
    },
    {
     "cell_type": "code",
     "collapsed": false,
     "input": [],
     "language": "python",
     "metadata": {},
     "outputs": []
    },
    {
     "cell_type": "code",
     "collapsed": false,
     "input": [
      "length = width/ratio\n",
      "\n",
      "unit_circle = sh.Point(0,0).buffer(1)\n",
      "\n",
      "eq_ellipse = af.scale(unit_circle, xfact = width/2, yfact = length/2)\n",
      "eq_ellipse"
     ],
     "language": "python",
     "metadata": {},
     "outputs": [
      {
       "metadata": {},
       "output_type": "pyout",
       "prompt_number": 118,
       "svg": [
        "<svg\n",
        "            preserveAspectRatio=\"xMinYMin meet\"\n",
        "            viewBox=\"-4.178382417614402 -4.465636997975411 8.35777807351469 8.931273995950821\"\n",
        "            width=\"100.0\"\n",
        "            height=\"100.0\"\n",
        "            transform=\"translate(0, 100.0),scale(1, -1)\">\n",
        "            \n",
        "            <g fill-rule=\"evenodd\" fill=\"#66cc99\" stroke=\"#555555\" \n",
        "            stroke-width=\"0.17862547991901642\" opacity=\"0.6\">\n",
        "            <path d=\"M 3.1793956559002874,0.0 L 3.1640859967998978,-0.339832177852869 L 3.1183044598849765,-0.6763915860618497 L 3.042491946382748,-1.0064369735438023 L 2.937378572241574,-1.3267898227961141 L 2.80397663671525,-1.6343649607578044 L 2.6435708733678096,-1.926200270712629 L 2.457706077386999,-2.1994852190923138 L 2.2481722283621464,-2.451587922451214 L 2.0169872518022136,-2.680080493942627 L 1.7663775854100363,-2.8827624251963457 L 1.498756737270151,-3.0576817784171824 L 1.2167020424465813,-3.2031539846129755 L 0.9229298418372586,-3.3177780669148627 L 0.6202693223262707,-3.400450132750379 L 0.3116352701675786,-3.45037400493238 L 5.136455401864245e-15,-3.4670688892805894 L -0.31163527016756837,-3.4503740049323812 L -0.6202693223262608,-3.4004501327503807 L -0.9229298418372487,-3.3177780669148653 L -1.2167020424465718,-3.20315398461298 L -1.4987567372701418,-3.0576817784171877 L -1.7663775854100283,-2.8827624251963515 L -2.016987251802206,-2.6800804939426337 L -2.24817222836214,-2.4515879224512207 L -2.457706077386994,-2.1994852190923204 L -2.6435708733678056,-1.9262002707126353 L -2.8039766367152468,-1.6343649607578108 L -2.9373785722415717,-1.3267898227961201 L -3.0424919463827464,-1.0064369735438077 L -3.118304459884975,-0.6763915860618546 L -3.1640859967998973,-0.3398321778528732 L -3.1793956559002874,-3.503969248840787e-15 L -3.1640859967998978,0.33983217785286624 L -3.118304459884977,0.6763915860618477 L -3.042491946382748,1.006436973543801 L -2.937378572241574,1.3267898227961135 L -2.80397663671525,1.6343649607578046 L -2.643570873367809,1.9262002707126296 L -2.457706077386998,2.199485219092315 L -2.2481722283621446,2.451587922451216 L -2.0169872518022123,2.6800804939426284 L -1.766377585410036,2.882762425196346 L -1.4987567372701514,3.0576817784171824 L -1.2167020424465822,3.203153984612975 L -0.9229298418372601,3.317778066914862 L -0.6202693223262732,3.400450132750378 L -0.3116352701675818,3.4503740049323794 L -9.055657334760074e-15,3.4670688892805894 L 0.31163527016756376,3.4503740049323817 L 0.6202693223262554,3.400450132750382 L 0.9229298418372428,3.3177780669148675 L 1.2167020424465655,3.203153984612983 L 1.4987567372701351,3.0576817784171917 L 1.7663775854100208,2.8827624251963573 L 2.0169872518021985,2.680080493942641 L 2.2481722283621317,2.4515879224512296 L 2.4577060773869857,2.1994852190923315 L 2.6435708733677976,1.9262002707126484 L 2.8039766367152392,1.634364960757826 L 2.937378572241565,1.3267898227961374 L 3.0424919463827407,1.0064369735438272 L 3.1183044598849716,0.6763915860618761 L 3.164085996799895,0.33983217785289666 L 3.1793956559002874,2.856356886719049e-14 L 3.1793956559002874,0.0 z\" />\n",
        "            </g>\n",
        "            </svg>"
       ],
       "text": [
        "<shapely.geometry.polygon.Polygon at 0x7f48421fc160>"
       ]
      }
     ],
     "prompt_number": 118
    },
    {
     "cell_type": "code",
     "collapsed": false,
     "input": [
      "def ellipse_in_cutout(minimiserInput,cutout,eq_ellipse,weight):\n",
      "\n",
      "    a = minimiserInput[0]\n",
      "    b = minimiserInput[1]\n",
      "    theta = minimiserInput[2]\n",
      "    \n",
      "    moved_ellipse = af.translate(eq_ellipse, xoff=a, yoff=b)\n",
      "    rotated_ellipse = af.rotate(moved_ellipse, theta)\n",
      "\n",
      "    ellipse = rotated_ellipse\n",
      "    \n",
      "    toMinimise = weight*ellipse.difference(cutout).area + cutout.difference(ellipse).area\n",
      "    \n",
      "\n",
      "    return toMinimise\n",
      "\n",
      "\n",
      "def eq_ellipse_positioning(cutout,eq_ellipse,weight):\n",
      "\n",
      "    minimizer_kwargs = {\"args\": (cutout,eq_ellipse,weight,), \"method\": 'BFGS' }\n",
      "    x0 = np.array([0,0,0])\n",
      "\n",
      "    output = basinhopping(ellipse_in_cutout,x0,niter=100,minimizer_kwargs=minimizer_kwargs)\n",
      "\n",
      "    return output"
     ],
     "language": "python",
     "metadata": {},
     "outputs": [],
     "prompt_number": 110
    },
    {
     "cell_type": "code",
     "collapsed": false,
     "input": [
      "output = eq_ellipse_positioning(cutout,eq_ellipse,10)\n",
      "output"
     ],
     "language": "python",
     "metadata": {},
     "outputs": [
      {
       "metadata": {},
       "output_type": "pyout",
       "prompt_number": 113,
       "text": [
        "                  njev: 2808\n",
        "                   nit: 100\n",
        "                  nfev: 14063\n",
        " minimization_failures: 3\n",
        "                     x: array([ 0.06129598, -0.7420191 ,  0.01761774])\n",
        "                   fun: 6.849280878375983\n",
        "               message: ['requested number of basinhopping iterations completed successfully']"
       ]
      }
     ],
     "prompt_number": 113
    },
    {
     "cell_type": "code",
     "collapsed": false,
     "input": [
      "def reposition_ellipse(eq_ellipse,outputX):\n",
      "    \n",
      "    a = outputX[0]\n",
      "    b = outputX[1]\n",
      "    theta = outputX[2]\n",
      "    \n",
      "    moved_ellipse = af.translate(eq_ellipse, xoff=a, yoff=b)\n",
      "    rotated_ellipse = af.rotate(moved_ellipse, theta)\n",
      "\n",
      "    return rotated_ellipse"
     ],
     "language": "python",
     "metadata": {},
     "outputs": [],
     "prompt_number": 114
    },
    {
     "cell_type": "code",
     "collapsed": false,
     "input": [
      "repositioned_ellipse = reposition_ellipse(eq_ellipse,output.x)\n",
      "repositioned_ellipse"
     ],
     "language": "python",
     "metadata": {},
     "outputs": [
      {
       "metadata": {},
       "output_type": "pyout",
       "prompt_number": 119,
       "svg": [
        "<svg\n",
        "            preserveAspectRatio=\"xMinYMin meet\"\n",
        "            viewBox=\"-4.117100075066112 -5.207672338449428 8.35779156416144 8.93130647193243\"\n",
        "            width=\"100.0\"\n",
        "            height=\"100.0\"\n",
        "            transform=\"translate(0, 100.0),scale(1, -1)\">\n",
        "            \n",
        "            <g fill-rule=\"evenodd\" fill=\"#66cc99\" stroke=\"#555555\" \n",
        "            stroke-width=\"0.1786261294386486\" opacity=\"0.6\">\n",
        "            <path d=\"M 3.2406914890953282,-0.7410414776262071 L 3.2254863249120036,-1.0808783469446377 L 3.17980827801848,-1.4174518164995993 L 3.104097252976504,-1.7475204997895037 L 2.999082388345085,-2.0679056549603723 L 2.865775034677589,-2.375521797827569 L 2.705459014663045,-2.667406416775193 L 2.5196782592118447,-2.940748503362416 L 2.3102219385570755,-3.1929156238714187 L 2.079107231567114,-3.421479271083129 L 1.8285598992104226,-3.6242382521292997 L 1.5609928492607024,-3.799239887183122 L 1.278982898675996,-3.9447988148334034 L 0.9852459574427544,-4.059513223036267 L 0.6826108728779997,-4.142278349331445 L 0.37399218628325614,-4.1922971203086945 L 0.062362064318566175,-4.209087827860463 L -0.249278324587197,-4.192488768294294 L -0.5579277131289053,-4.142659799627776 L -0.8606136389699831,-4.060080802068454 L -1.1544210711796228,-3.945547056505097 L -1.4365204835741654,-3.800161585517993 L -1.7041951046010275,-3.625324530668531 L -1.954867081333886,-3.422719668370568 L -2.186122305605564,-3.1942981942031166 L -2.3957336631893584,-2.942259931830289 L -2.5816824821265154,-2.669032147496864 L -2.7421779736407044,-2.377246174127474 L -2.875674478412885,-2.069712070152103 L -2.980886352125487,-1.749391557107277 L -3.056800346919997,-1.4193694966386206 L -3.1026853695277348,-1.0828241815968576 L -3.1180995220976824,-0.7429967273402232 L -3.102894357914357,-0.4031598580217916 L -3.057216311020835,-0.06658638846682917 L -2.9815052859788578,0.2634822948230757 L -2.876490421347439,0.583867449993945 L -2.7431830676799422,0.8914835928611422 L -2.582867047665398,1.1833682118087672 L -2.3970862922141976,1.4567102983959903 L -2.187629971559428,1.7088774189049936 L -1.9565152645694663,1.9374410661167034 L -1.7059679322127768,2.1402000471628737 L -1.438400882263057,2.3152016822166956 L -1.156390931678351,2.460760609866976 L -0.8626539904451103,2.57547501806984 L -0.5600189058803564,2.658240144365017 L -0.2514002192856135,2.7082589153422667 L 0.06022990267907578,2.725049622894036 L 0.37187029158483825,2.7084505633278666 L 0.6805196801265457,2.6586215946613496 L 0.983205605967623,2.5760425971020293 L 1.2770130381772624,2.461508851538673 L 1.5591124505718046,2.3161233805515704 L 1.8267870715986656,2.14128632570211 L 2.0774590483315247,1.9386814634041487 L 2.3087142726032015,1.7102599892366985 L 2.5183256301869963,1.458221726863873 L 2.7042744491241537,1.1849939425304505 L 2.8647699406383436,0.8932079691610624 L 2.998266445410524,0.5856738651856938 L 3.1034783191231274,0.2653533521408694 L 3.1793923139176394,-0.06466870832778455 L 3.2252773365253793,-0.40121402336954565 L 3.2406914890953282,-0.7410414776261786 L 3.2406914890953282,-0.7410414776262071 z\" />\n",
        "            </g>\n",
        "            </svg>"
       ],
       "text": [
        "<shapely.geometry.polygon.Polygon at 0x7f48421fc4a8>"
       ]
      }
     ],
     "prompt_number": 119
    },
    {
     "cell_type": "code",
     "collapsed": false,
     "input": [
      "scaled_fig_start(12,12)\n",
      "\n",
      "plot(cutout.exterior.xy[0],cutout.exterior.xy[1])\n",
      "plot(repositioned_ellipse.exterior.xy[0],repositioned_ellipse.exterior.xy[1],'r')\n",
      "\n",
      "plot(repositioned_ellipse.centroid.xy[0],repositioned_ellipse.centroid.xy[1],'go')\n",
      "\n",
      "scaled_fig_end(12,12)"
     ],
     "language": "python",
     "metadata": {},
     "outputs": [
      {
       "metadata": {},
       "output_type": "display_data",
       "png": "[encoded data removed]",
       "text": [
        "<matplotlib.figure.Figure at 0x7f484220ac50>"
       ]
      }
     ],
     "prompt_number": 120
    },
    {
     "cell_type": "code",
     "collapsed": false,
     "input": [
      "scaled_fig_start(12,12)\n",
      "\n",
      "plot(cutout.exterior.xy[0],cutout.exterior.xy[1])\n",
      "plot(circle.exterior.xy[0],circle.exterior.xy[1],'r')\n",
      "\n",
      "plot([circle.centroid.xy[0]-width/2,circle.centroid.xy[0]+width/2],\n",
      "     [circle.centroid.xy[1],circle.centroid.xy[1]])\n",
      "\n",
      "plot(circle.centroid.xy[0],circle.centroid.xy[1],'go')\n",
      "\n",
      "scaled_fig_end(12,12)"
     ],
     "language": "python",
     "metadata": {},
     "outputs": []
    },
    {
     "cell_type": "code",
     "collapsed": false,
     "input": [
      "sh.box(*cutout.bounds).difference(cutout)"
     ],
     "language": "python",
     "metadata": {},
     "outputs": [
      {
       "metadata": {},
       "output_type": "pyout",
       "prompt_number": 26,
       "svg": [
        "<svg\n",
        "            preserveAspectRatio=\"xMinYMin meet\"\n",
        "            viewBox=\"-4.2 -5.4 8.4 9.3\"\n",
        "            width=\"100.0\"\n",
        "            height=\"100.0\"\n",
        "            transform=\"translate(0, 100.0),scale(1, -1)\">\n",
        "            <g fill-rule=\"evenodd\" fill=\"#66cc99\" stroke=\"#555555\"\n",
        "                stroke-width=\"0.18600000000000003\" opacity=\"0.6\">\n",
        "                <path d=\"M 3.2,-1.95 L 3.2,-4.4 L 1.45,-4.4 L 1.55,-4.3 L 1.65,-4.3 L 1.8,-4.15 L 1.8,-4.05 L 1.95,-3.9 L 2.35,-3.9 L 2.45,-3.8 L 2.55,-3.8 L 2.7,-3.65 L 2.7,-3.55 L 2.8,-3.45 L 2.8,-3.05 L 2.9,-2.95 L 2.9,-2.75 L 3.0,-2.65 L 3.0,-2.55 L 3.1,-2.45 L 3.1,-2.05 L 3.2,-1.95 z\" /></g>\n",
        "<g fill-rule=\"evenodd\" fill=\"#66cc99\" stroke=\"#555555\"\n",
        "                stroke-width=\"0.18600000000000003\" opacity=\"0.6\">\n",
        "                <path d=\"M 1.65,2.9 L 3.2,2.9 L 3.2,0.45 L 3.1,0.55 L 3.1,0.95 L 3.0,1.05 L 3.0,1.45 L 2.9,1.55 L 2.9,1.65 L 2.8,1.75 L 2.8,1.95 L 2.7,2.05 L 2.7,2.15 L 2.55,2.3 L 2.45,2.3 L 2.35,2.4 L 2.15,2.4 L 2.0,2.55 L 2.0,2.65 L 1.85,2.8 L 1.75,2.8 L 1.65,2.9 z\" /></g>\n",
        "<g fill-rule=\"evenodd\" fill=\"#66cc99\" stroke=\"#555555\"\n",
        "                stroke-width=\"0.18600000000000003\" opacity=\"0.6\">\n",
        "                <path d=\"M -3.2,1.45 L -3.2,2.9 L -1.65,2.9 L -1.7,2.85 L -1.75,2.8 L -1.85,2.8 L -2.1,2.55 L -2.1,2.45 L -2.15,2.4 L -2.55,2.4 L -2.65,2.3 L -2.75,2.3 L -2.9,2.15 L -2.9,2.05 L -3.0,1.95 L -3.0,1.75 L -3.1,1.65 L -3.1,1.55 L -3.2,1.45 z\" /></g>\n",
        "<g fill-rule=\"evenodd\" fill=\"#66cc99\" stroke=\"#555555\"\n",
        "                stroke-width=\"0.18600000000000003\" opacity=\"0.6\">\n",
        "                <path d=\"M -1.15,-4.4 L -3.2,-4.4 L -3.2,0.55 L -3.1,0.45 L -3.1,0.35 L -3.0,0.25 L -3.0,0.05 L -3.1,-0.05 L -3.1,-1.45 L -3.0,-1.55 L -3.0,-1.95 L -2.9,-2.05 L -2.9,-2.15 L -2.8,-2.25 L -2.8,-2.35 L -2.7,-2.45 L -2.7,-2.85 L -2.6,-2.95 L -2.6,-3.35 L -2.5,-3.45 L -2.5,-3.55 L -2.25,-3.8 L -2.15,-3.8 L -2.05,-3.9 L -1.65,-3.9 L -1.6,-3.95 L -1.6,-4.05 L -1.35,-4.3 L -1.25,-4.3 L -1.15,-4.4 z\" /></g>\n",
        "            </svg>"
       ],
       "text": [
        "<shapely.geometry.multipolygon.MultiPolygon at 0x7f48681f86d8>"
       ]
      }
     ],
     "prompt_number": 26
    },
    {
     "cell_type": "code",
     "collapsed": false,
     "input": [
      "boxBound = max(array([cutout.bounds[2]-cutout.bounds[0],cutout.bounds[3]-cutout.bounds[1]]))\n",
      "boxBound"
     ],
     "language": "python",
     "metadata": {},
     "outputs": [
      {
       "metadata": {},
       "output_type": "pyout",
       "prompt_number": 33,
       "text": [
        "7.3000000000000007"
       ]
      }
     ],
     "prompt_number": 33
    },
    {
     "cell_type": "code",
     "collapsed": false,
     "input": [
      "# x_list_optimised = x_list\n",
      "# y_list_optimised = y_list"
     ],
     "language": "python",
     "metadata": {},
     "outputs": [],
     "prompt_number": 13
    },
    {
     "cell_type": "code",
     "collapsed": false,
     "input": [
      "with open('../data/cutout_width.csv', 'w') as cutout_width:\n",
      "    with open('../data/cutout_length.csv', 'w') as cutout_length:\n",
      "        with open('../data/cutout_box_bound.csv', 'w') as cutout_box_bound:\n",
      "        \n",
      "#             x_writer = csv.writer(x_csvfile, delimiter=',', lineterminator='\\n')\n",
      "#             y_writer = csv.writer(y_csvfile, delimiter=',', lineterminator='\\n')\n",
      "\n",
      "\n",
      "#             for i in range(len(x_list_optimised)):\n",
      "\n",
      "#                 x_writer.writerow(x_list_optimised[i])\n",
      "#                 y_writer.writerow(y_list_optimised[i])\n"
     ],
     "language": "python",
     "metadata": {},
     "outputs": [
      {
       "ename": "SyntaxError",
       "evalue": "unexpected EOF while parsing (<ipython-input-14-db029b8338b9>, line 12)",
       "output_type": "pyerr",
       "traceback": [
        "\u001b[1;36m  File \u001b[1;32m\"<ipython-input-14-db029b8338b9>\"\u001b[1;36m, line \u001b[1;32m12\u001b[0m\n\u001b[1;33m    #                 y_writer.writerow(y_list_optimised[i])\u001b[0m\n\u001b[1;37m                                                            ^\u001b[0m\n\u001b[1;31mSyntaxError\u001b[0m\u001b[1;31m:\u001b[0m unexpected EOF while parsing\n"
       ]
      }
     ],
     "prompt_number": 14
    },
    {
     "cell_type": "code",
     "collapsed": false,
     "input": [],
     "language": "python",
     "metadata": {},
     "outputs": []
    }
   ],
   "metadata": {}
  }
 ]
}