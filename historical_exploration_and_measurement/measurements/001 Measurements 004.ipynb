{
 "metadata": {
  "name": "",
  "signature": "sha256:9c019326c765dafb6bbfb1010e39636efa857020cc9923500ead63e34b96b4c3"
 },
 "nbformat": 3,
 "nbformat_minor": 0,
 "worksheets": [
  {
   "cells": [
    {
     "cell_type": "code",
     "collapsed": false,
     "input": [
      "%pylab inline\n",
      "from scipy.interpolate import interp1d\n",
      "\n",
      "from IPython.display import Image"
     ],
     "language": "python",
     "metadata": {},
     "outputs": [
      {
       "output_type": "stream",
       "stream": "stdout",
       "text": [
        "Populating the interactive namespace from numpy and matplotlib\n"
       ]
      },
      {
       "output_type": "stream",
       "stream": "stderr",
       "text": [
        "WARNING: pylab import has clobbered these variables: ['f']\n",
        "`%matplotlib` prevents importing * from pylab and numpy\n"
       ]
      }
     ],
     "prompt_number": 18
    },
    {
     "cell_type": "heading",
     "level": 2,
     "metadata": {},
     "source": [
      "Details"
     ]
    },
    {
     "cell_type": "markdown",
     "metadata": {},
     "source": [
      "Below are the recorded measurements for the first batch of cutout factor measurements"
     ]
    },
    {
     "cell_type": "heading",
     "level": 2,
     "metadata": {},
     "source": [
      "Ionisation conversion"
     ]
    },
    {
     "cell_type": "markdown",
     "metadata": {},
     "source": [
      "The following cell is used to initialise the ionisation to dose conversion function. Data is extracted from table 20 within TRS398. R50 of the 12 MeV beam is $4.75~g/cm^2$"
     ]
    },
    {
     "cell_type": "code",
     "collapsed": false,
     "input": [
      "zOnR50 = concatenate((array([0.02]), arange(0.05,1.25,0.05)))\n",
      "R50of45 = array([0.997,1,1.004,1.008,1.012,1.017,1.021,1.026,1.03,\n",
      "                 1.035,1.04,1.045,1.051,1.056,1.062,1.067,1.073,1.08,\n",
      "                 1.086,1.092,1.099,1.106,1.113,1.120,1.128])\n",
      "\n",
      "R50of50 = array([0.991,0.994,0.998,1.002,1.006,1.011,1.016,1.02,1.025,\n",
      "                 1.03,1.035,1.041,1.046,1.052,1.058,1.064,1.07,1.076,\n",
      "                 1.083,1.09,1.097,1.104,1.112,1.119,1.128])\n",
      "\n",
      "R50of47_5 = mean([R50of45,R50of50],axis=0)\n",
      "\n",
      "stopRatio = interp1d(zOnR50 * 47.5,R50of47_5)"
     ],
     "language": "python",
     "metadata": {},
     "outputs": [],
     "prompt_number": 19
    },
    {
     "cell_type": "heading",
     "level": 2,
     "metadata": {},
     "source": [
      "Measurements"
     ]
    },
    {
     "cell_type": "markdown",
     "metadata": {},
     "source": [
      "These measurements were done on Harry 2694, with a Markus chamber set to +300 V. The sensitivity was $1.398 \\times 10^9$. All measurements were done at 100 SSD with a 12 MeV beam and a $10\\times10$ cm applicator. Below are the readings recorded in chronological order."
     ]
    },
    {
     "cell_type": "heading",
     "level": 3,
     "metadata": {},
     "source": [
      "Readings"
     ]
    },
    {
     "cell_type": "code",
     "collapsed": false,
     "input": [
      "standard_insert_reading = {}\n",
      "cutout_reading = {}\n",
      "factor = {}"
     ],
     "language": "python",
     "metadata": {},
     "outputs": [],
     "prompt_number": 20
    },
    {
     "cell_type": "heading",
     "level": 4,
     "metadata": {},
     "source": [
      "Standard Insert"
     ]
    },
    {
     "cell_type": "code",
     "collapsed": false,
     "input": [
      "standard_insert_reading = array([])\n",
      "\n",
      "standard_insert_reading = append(standard_insert_reading,mean([1.542,1.542,1.542])) # 01\n",
      "standard_insert_reading = append(standard_insert_reading,mean([1.540,1.540,1.540])) # 02\n",
      "standard_insert_reading = append(standard_insert_reading,mean([1.541,1.541,1.541])) # 03\n",
      "standard_insert_reading = append(standard_insert_reading,mean([1.540,1.540,1.540])) # 04\n",
      "standard_insert_reading = append(standard_insert_reading,mean([1.538,1.538,1.538])) # 05\n",
      "standard_insert_reading = append(standard_insert_reading,mean([1.539,1.539,1.539])) # 06\n",
      "\n",
      "uncertainty = std(standard_insert_reading)\n",
      "\n",
      "standard_insert_reading = mean(standard_insert_reading)"
     ],
     "language": "python",
     "metadata": {},
     "outputs": [],
     "prompt_number": 21
    },
    {
     "cell_type": "heading",
     "level": 4,
     "metadata": {},
     "source": [
      "Output function definition"
     ]
    },
    {
     "cell_type": "code",
     "collapsed": false,
     "input": [
      "def outputFunction(depth,readings,reference):\n",
      "    \n",
      "    if size(readings) == 1:\n",
      "        \n",
      "        cutout_reading = readings\n",
      "        factor = reference / cutout_reading * (stopRatio(25) / stopRatio(depth[0]))\n",
      "        \n",
      "    else:\n",
      "    \n",
      "        stop_ratio_corrected = stopRatio(depth) * readings\n",
      "\n",
      "        scatter(depth,stop_ratio_corrected)\n",
      "        ylabel('Stopping power ratio corrected')\n",
      "        xlabel('Depth (mm)')\n",
      "        title('Relative ionsation to relative dose')\n",
      "        show()\n",
      "        \n",
      "        ref = argmax(stop_ratio_corrected)\n",
      "        \n",
      "        cutout_reading = readings[ref]\n",
      "        \n",
      "        factor = (reference / cutout_reading) * (stopRatio(25) / stopRatio(depth[ref]))\n",
      "    \n",
      "    \n",
      "    print(\"Reading = %0.3f\" %(cutout_reading))\n",
      "\n",
      "    \n",
      "    print(\"Cutout factor = %0.3f | %0.1f%%\" %(factor, (factor - 1) * 100))\n",
      "   \n",
      "    return cutout_reading, factor"
     ],
     "language": "python",
     "metadata": {},
     "outputs": [],
     "prompt_number": 22
    },
    {
     "cell_type": "heading",
     "level": 4,
     "metadata": {},
     "source": [
      "Cutout readings"
     ]
    },
    {
     "cell_type": "code",
     "collapsed": false,
     "input": [
      "# Applicator 01 measurement done here"
     ],
     "language": "python",
     "metadata": {},
     "outputs": [],
     "prompt_number": 23
    },
    {
     "cell_type": "code",
     "collapsed": false,
     "input": [
      "cutout = '5'\n",
      "depth = array([25,24,23,22])\n",
      "readings = array([])\n",
      "\n",
      "readings = append(readings,mean([1.491,1.492,1.492])) # ionisation at depth 25 mm RW3\n",
      "readings = append(readings,mean([1.498,1.498,1.499])) # ionisation at depth 24 mm RW3\n",
      "readings = append(readings,mean([1.502,1.502,1.502])) # ionisation at depth 23 mm RW3\n",
      "readings = append(readings,mean([1.505,1.504,1.505])) # ionisation at depth 22 mm RW3\n",
      "\n",
      "cutout_reading[cutout], factor[cutout] = outputFunction(depth,readings,1.541)"
     ],
     "language": "python",
     "metadata": {},
     "outputs": [
      {
       "metadata": {},
       "output_type": "display_data",
       "png": "[encoded data removed]",
       "text": [
        "<matplotlib.figure.Figure at 0x7a66160>"
       ]
      },
      {
       "output_type": "stream",
       "stream": "stdout",
       "text": [
        "Reading = 1.502\n",
        "Cutout factor = 1.030 | 3.0%\n"
       ]
      }
     ],
     "prompt_number": 24
    },
    {
     "cell_type": "code",
     "collapsed": false,
     "input": [
      "# Applicator 02 measurement done here"
     ],
     "language": "python",
     "metadata": {},
     "outputs": [],
     "prompt_number": 25
    },
    {
     "cell_type": "code",
     "collapsed": false,
     "input": [
      "# After some time 03 measurement done here"
     ],
     "language": "python",
     "metadata": {},
     "outputs": [],
     "prompt_number": 26
    },
    {
     "cell_type": "code",
     "collapsed": false,
     "input": [
      "cutout = '4'\n",
      "depth = array([23,22,21,20,19,18])\n",
      "readings = array([])\n",
      "\n",
      "readings = append(readings,mean([1.468,1.469,1.469])) # ionisation at depth 23 mm RW3\n",
      "readings = append(readings,mean([1.477,1.478,1.477])) # ionisation at depth 22 mm RW3\n",
      "readings = append(readings,mean([1.483,1.483,1.483])) # ionisation at depth 21 mm RW3\n",
      "readings = append(readings,mean([1.488,1.488,1.487])) # ionisation at depth 20 mm RW3\n",
      "readings = append(readings,mean([1.491,1.491,1.491])) # ionisation at depth 19 mm RW3\n",
      "readings = append(readings,mean([1.493,])) # ionisation at depth 18 mm RW3\n",
      "\n",
      "cutout_reading[cutout], factor[cutout] = outputFunction(depth,readings,1.540)"
     ],
     "language": "python",
     "metadata": {},
     "outputs": [
      {
       "metadata": {},
       "output_type": "display_data",
       "png": "[encoded data removed]",
       "text": [
        "<matplotlib.figure.Figure at 0x7a3b0f0>"
       ]
      },
      {
       "output_type": "stream",
       "stream": "stdout",
       "text": [
        "Reading = 1.491\n",
        "Cutout factor = 1.046 | 4.6%\n"
       ]
      }
     ],
     "prompt_number": 27
    },
    {
     "cell_type": "code",
     "collapsed": false,
     "input": [
      "# Applicator 04 measurement done here"
     ],
     "language": "python",
     "metadata": {},
     "outputs": [],
     "prompt_number": 28
    },
    {
     "cell_type": "code",
     "collapsed": false,
     "input": [
      "cutout = '3'\n",
      "depth = array([16])\n",
      "readings = array([])\n",
      "\n",
      "# readings = append(readings,mean([1.444,1.444,1.444])) # ionisation at depth 18 mm RW3\n",
      "# readings = append(readings,mean([1.452,1.452])) # ionisation at depth 17 mm RW3\n",
      "# readings = append(readings,mean([1.457])) # ionisation at depth 16 mm RW3\n",
      "# readings = append(readings,mean([1.458])) # ionisation at depth 15 mm RW3\n",
      "readings = append(readings,mean([1.456,1.456,1.455])) # ionisation at depth 16 mm RW3\n",
      "\n",
      "\n",
      "cutout_reading[cutout], factor[cutout] = outputFunction(depth,readings,1.538)"
     ],
     "language": "python",
     "metadata": {},
     "outputs": [
      {
       "output_type": "stream",
       "stream": "stdout",
       "text": [
        "Reading = 1.456\n",
        "Cutout factor = 1.076 | 7.6%\n"
       ]
      }
     ],
     "prompt_number": 29
    },
    {
     "cell_type": "code",
     "collapsed": false,
     "input": [
      "# Applicator 05 measurement done here"
     ],
     "language": "python",
     "metadata": {},
     "outputs": [],
     "prompt_number": 30
    },
    {
     "cell_type": "code",
     "collapsed": false,
     "input": [
      "# Measure of 38's eq ellipse\n",
      "depth = array([22])\n",
      "readings = array([])\n",
      "\n",
      "# readings = append(readings,mean([1.498,1.498])) # ionisation at depth 21 mm RW3\n",
      "# readings = append(readings,mean([1.496])) # ionisation at depth 22 mm RW3\n",
      "# readings = append(readings,mean([1.492,1.493])) # ionisation at depth 23 mm RW3\n",
      "readings = append(readings,mean([1.495,1.495,1.495])) # ionisation at depth 22 mm RW3\n",
      "\n",
      "outputFunction(depth,readings,1.539);\n",
      "\n",
      "Image('../figures/saved/'+'038'+'.png')"
     ],
     "language": "python",
     "metadata": {},
     "outputs": [
      {
       "output_type": "stream",
       "stream": "stdout",
       "text": [
        "Reading = 1.495\n",
        "Cutout factor = 1.036 | 3.6%\n"
       ]
      },
      {
       "metadata": {},
       "output_type": "pyout",
       "png": "[encoded data removed]",
       "prompt_number": 31,
       "text": [
        "<IPython.core.display.Image at 0x7a51dd8>"
       ]
      }
     ],
     "prompt_number": 31
    },
    {
     "cell_type": "code",
     "collapsed": false,
     "input": [
      "# Applicator 06 here"
     ],
     "language": "python",
     "metadata": {},
     "outputs": [],
     "prompt_number": 32
    },
    {
     "cell_type": "code",
     "collapsed": false,
     "input": [
      "# Remeasure of 38\n",
      "depth = array([23,22])\n",
      "readings = array([])\n",
      "\n",
      "readings = append(readings,mean([1.501,1.502])) # ionisation at depth 23 mm RW3\n",
      "readings = append(readings,mean([1.504,1.504])) # ionisation at depth 22 mm RW3\n",
      "\n",
      "outputFunction(depth,readings,1.539);\n",
      "Image('../figures/saved/'+'038'+'.png')"
     ],
     "language": "python",
     "metadata": {},
     "outputs": [
      {
       "metadata": {},
       "output_type": "display_data",
       "png": "[encoded data removed]",
       "text": [
        "<matplotlib.figure.Figure at 0x7deca90>"
       ]
      },
      {
       "output_type": "stream",
       "stream": "stdout",
       "text": [
        "Reading = 1.502\n",
        "Cutout factor = 1.029 | 2.9%\n"
       ]
      },
      {
       "metadata": {},
       "output_type": "pyout",
       "png": "[encoded data removed]",
       "prompt_number": 33,
       "text": [
        "<IPython.core.display.Image at 0x7de8b38>"
       ]
      }
     ],
     "prompt_number": 33
    },
    {
     "cell_type": "code",
     "collapsed": false,
     "input": [
      "with open('circle_cutout_factors','r') as f:\n",
      "    \n",
      "    loaded_factors = eval(f.read())\n",
      "\n",
      "    \n",
      "factors_to_save = dict(list(loaded_factors.items()) + list(factor.items()))\n",
      "\n",
      "with open('circle_cutout_factors','w') as f:\n",
      "    \n",
      "    f.write(str(factors_to_save))"
     ],
     "language": "python",
     "metadata": {},
     "outputs": [],
     "prompt_number": 34
    }
   ],
   "metadata": {}
  }
 ]
}