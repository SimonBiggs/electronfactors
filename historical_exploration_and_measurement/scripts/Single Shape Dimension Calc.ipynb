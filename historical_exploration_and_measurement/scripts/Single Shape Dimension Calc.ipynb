{
 "metadata": {
  "name": "",
  "signature": "sha256:9d89a39a606dae725c939d87921b9ddffb9b2b08426cde79879e877e35fc03b6"
 },
 "nbformat": 3,
 "nbformat_minor": 0,
 "worksheets": [
  {
   "cells": [
    {
     "cell_type": "code",
     "collapsed": false,
     "input": [
      "%pylab inline\n",
      "\n",
      "import pandas as pd\n",
      "\n",
      "import csv\n",
      "\n",
      "import shapely.affinity as af\n",
      "# import shapely.geometry as sh\n",
      "\n",
      "from scipy.optimize import fsolve, basinhopping\n",
      "\n",
      "from equivalent_ellipse import *\n",
      "\n",
      "from scaled_figures import *"
     ],
     "language": "python",
     "metadata": {},
     "outputs": [
      {
       "output_type": "stream",
       "stream": "stdout",
       "text": [
        "Populating the interactive namespace from numpy and matplotlib\n"
       ]
      }
     ],
     "prompt_number": 1
    },
    {
     "cell_type": "code",
     "collapsed": false,
     "input": [
      "x_list = list()\n",
      "y_list = list()\n",
      "\n",
      "with open('../data/cutout_x.csv', 'r') as x_csvfile:\n",
      "    with open('../data/cutout_y.csv', 'r') as y_csvfile:\n",
      "        \n",
      "        x_reader = csv.reader(x_csvfile, delimiter=',', lineterminator='\\n')\n",
      "        y_reader = csv.reader(y_csvfile, delimiter=',', lineterminator='\\n')\n",
      "        \n",
      "        for row in x_reader:\n",
      "            x_list += [row]\n",
      "  \n",
      "        for row in y_reader:\n",
      "            y_list += [row]"
     ],
     "language": "python",
     "metadata": {},
     "outputs": [],
     "prompt_number": 2
    },
    {
     "cell_type": "code",
     "collapsed": false,
     "input": [
      "x_array = list()\n",
      "y_array = list()\n",
      "\n",
      "for i in range(len(x_list)):\n",
      "\n",
      "    x_array += [array(x_list[i], dtype='float')]\n",
      "    y_array += [array(y_list[i], dtype='float')]"
     ],
     "language": "python",
     "metadata": {},
     "outputs": [],
     "prompt_number": 3
    },
    {
     "cell_type": "code",
     "collapsed": false,
     "input": [
      "cutout = shapely_cutout(x_array[0],y_array[0])\n",
      "#cutout"
     ],
     "language": "python",
     "metadata": {},
     "outputs": [],
     "prompt_number": 4
    },
    {
     "cell_type": "code",
     "collapsed": false,
     "input": [
      "output = eq_ellipse_calc(cutout,3,10)"
     ],
     "language": "python",
     "metadata": {},
     "outputs": [
      {
       "output_type": "stream",
       "stream": "stdout",
       "text": [
        "success at: [a,b] = [0.0718, -0.7461], [width, length] = [6.3799, 7.4510], theta = 4.0079\n",
        "success at: [a,b] = [0.0718, -0.7461], [width, length] = [6.3799, 7.4510], theta = 4.0079"
       ]
      },
      {
       "output_type": "stream",
       "stream": "stdout",
       "text": [
        "\n",
        "success at: [a,b] = [0.0718, -0.7461], [width, length] = [6.3799, 7.4510], theta = 4.0079"
       ]
      },
      {
       "output_type": "stream",
       "stream": "stdout",
       "text": [
        "\n",
        "success at: [a,b] = [0.0718, -0.7461], [width, length] = [6.3799, 7.4510], theta = 4.0079"
       ]
      },
      {
       "output_type": "stream",
       "stream": "stdout",
       "text": [
        "\n",
        "success at: [a,b] = [0.0718, -0.7461], [width, length] = [6.3799, 7.4510], theta = 4.0079"
       ]
      },
      {
       "output_type": "stream",
       "stream": "stdout",
       "text": [
        "\n",
        "success at: [a,b] = [0.0718, -0.7461], [width, length] = [6.3799, 7.4510], theta = 4.0079"
       ]
      },
      {
       "output_type": "stream",
       "stream": "stdout",
       "text": [
        "\n",
        "success at: [a,b] = [0.0718, -0.7461], [width, length] = [6.3799, 7.4510], theta = 4.0079"
       ]
      },
      {
       "output_type": "stream",
       "stream": "stdout",
       "text": [
        "\n",
        "success at: [a,b] = [0.0718, -0.7461], [width, length] = [6.3799, 7.4510], theta = 4.0078"
       ]
      },
      {
       "output_type": "stream",
       "stream": "stdout",
       "text": [
        "\n",
        "success at: [a,b] = [0.0718, -0.7461], [width, length] = [6.3799, 7.4510], theta = 4.0080"
       ]
      },
      {
       "output_type": "stream",
       "stream": "stdout",
       "text": [
        "\n",
        "success at: [a,b] = [0.0718, -0.7461], [width, length] = [6.3799, 7.4510], theta = 4.0081"
       ]
      },
      {
       "output_type": "stream",
       "stream": "stdout",
       "text": [
        "\n"
       ]
      }
     ],
     "prompt_number": 13
    },
    {
     "cell_type": "code",
     "collapsed": false,
     "input": [
      "a = output.x[0]\n",
      "b = output.x[1]\n",
      "\n",
      "if (output.x[3] > output.x[2]):\n",
      "    width = output.x[2]\n",
      "    length = output.x[3]\n",
      "    theta = mod(output.x[4],360)\n",
      "else:\n",
      "    width = output.x[3]\n",
      "    length = output.x[2]\n",
      "    theta = mod(output.x[4]+90,180)"
     ],
     "language": "python",
     "metadata": {},
     "outputs": [],
     "prompt_number": 6
    },
    {
     "cell_type": "code",
     "collapsed": false,
     "input": [
      "ellipse = create_ellipse(output.x)\n",
      "#ellipse"
     ],
     "language": "python",
     "metadata": {},
     "outputs": [],
     "prompt_number": 7
    },
    {
     "cell_type": "code",
     "collapsed": false,
     "input": [
      "scaled_fig_start(12,12)\n",
      "\n",
      "plot(cutout.exterior.xy[0],cutout.exterior.xy[1])\n",
      "plot(ellipse.exterior.xy[0],ellipse.exterior.xy[1],'r')\n",
      "\n",
      "plot(ellipse.centroid.xy[0],ellipse.centroid.xy[1],'go')\n",
      "\n",
      "scaled_fig_end(12,12)"
     ],
     "language": "python",
     "metadata": {},
     "outputs": [
      {
       "metadata": {},
       "output_type": "display_data",
       "png": "[encoded data removed]",
       "text": [
        "<matplotlib.figure.Figure at 0x7f934cc93550>"
       ]
      }
     ],
     "prompt_number": 8
    },
    {
     "cell_type": "code",
     "collapsed": false,
     "input": [
      "sh.box(*cutout.bounds).difference(cutout)"
     ],
     "language": "python",
     "metadata": {},
     "outputs": [
      {
       "metadata": {},
       "output_type": "pyout",
       "prompt_number": 9,
       "svg": [
        "<svg\n",
        "            preserveAspectRatio=\"xMinYMin meet\"\n",
        "            viewBox=\"-4.2 -5.4 8.4 9.3\"\n",
        "            width=\"100.0\"\n",
        "            height=\"100.0\"\n",
        "            transform=\"translate(0, 100.0),scale(1, -1)\">\n",
        "            <g fill-rule=\"evenodd\" fill=\"#66cc99\" stroke=\"#555555\"\n",
        "                stroke-width=\"0.18600000000000003\" opacity=\"0.6\">\n",
        "                <path d=\"M 3.2,-1.95 L 3.2,-4.4 L 1.45,-4.4 L 1.55,-4.3 L 1.65,-4.3 L 1.8,-4.15 L 1.8,-4.05 L 1.95,-3.9 L 2.35,-3.9 L 2.45,-3.8 L 2.55,-3.8 L 2.7,-3.65 L 2.7,-3.55 L 2.8,-3.45 L 2.8,-3.05 L 2.9,-2.95 L 2.9,-2.75 L 3.0,-2.65 L 3.0,-2.55 L 3.1,-2.45 L 3.1,-2.05 L 3.2,-1.95 z\" /></g>\n",
        "<g fill-rule=\"evenodd\" fill=\"#66cc99\" stroke=\"#555555\"\n",
        "                stroke-width=\"0.18600000000000003\" opacity=\"0.6\">\n",
        "                <path d=\"M 1.65,2.9 L 3.2,2.9 L 3.2,0.45 L 3.1,0.55 L 3.1,0.95 L 3.0,1.05 L 3.0,1.45 L 2.9,1.55 L 2.9,1.65 L 2.8,1.75 L 2.8,1.95 L 2.7,2.05 L 2.7,2.15 L 2.55,2.3 L 2.45,2.3 L 2.35,2.4 L 2.15,2.4 L 2.0,2.55 L 2.0,2.65 L 1.85,2.8 L 1.75,2.8 L 1.65,2.9 z\" /></g>\n",
        "<g fill-rule=\"evenodd\" fill=\"#66cc99\" stroke=\"#555555\"\n",
        "                stroke-width=\"0.18600000000000003\" opacity=\"0.6\">\n",
        "                <path d=\"M -3.2,1.45 L -3.2,2.9 L -1.65,2.9 L -1.7,2.85 L -1.75,2.8 L -1.85,2.8 L -2.1,2.55 L -2.1,2.45 L -2.15,2.4 L -2.55,2.4 L -2.65,2.3 L -2.75,2.3 L -2.9,2.15 L -2.9,2.05 L -3.0,1.95 L -3.0,1.75 L -3.1,1.65 L -3.1,1.55 L -3.2,1.45 z\" /></g>\n",
        "<g fill-rule=\"evenodd\" fill=\"#66cc99\" stroke=\"#555555\"\n",
        "                stroke-width=\"0.18600000000000003\" opacity=\"0.6\">\n",
        "                <path d=\"M -1.15,-4.4 L -3.2,-4.4 L -3.2,0.55 L -3.1,0.45 L -3.1,0.35 L -3.0,0.25 L -3.0,0.05 L -3.1,-0.05 L -3.1,-1.45 L -3.0,-1.55 L -3.0,-1.95 L -2.9,-2.05 L -2.9,-2.15 L -2.8,-2.25 L -2.8,-2.35 L -2.7,-2.45 L -2.7,-2.85 L -2.6,-2.95 L -2.6,-3.35 L -2.5,-3.45 L -2.5,-3.55 L -2.25,-3.8 L -2.15,-3.8 L -2.05,-3.9 L -1.65,-3.9 L -1.6,-3.95 L -1.6,-4.05 L -1.35,-4.3 L -1.25,-4.3 L -1.15,-4.4 z\" /></g>\n",
        "            </svg>"
       ],
       "text": [
        "<shapely.geometry.multipolygon.MultiPolygon at 0x7f934cd65c88>"
       ]
      }
     ],
     "prompt_number": 9
    },
    {
     "cell_type": "code",
     "collapsed": false,
     "input": [
      "boxBound = max(array([cutout.bounds[2]-cutout.bounds[0],cutout.bounds[3]-cutout.bounds[1]]))\n",
      "boxBound"
     ],
     "language": "python",
     "metadata": {},
     "outputs": [
      {
       "metadata": {},
       "output_type": "pyout",
       "prompt_number": 10,
       "text": [
        "7.3000000000000007"
       ]
      }
     ],
     "prompt_number": 10
    },
    {
     "cell_type": "code",
     "collapsed": false,
     "input": [
      "# x_list_optimised = x_list\n",
      "# y_list_optimised = y_list"
     ],
     "language": "python",
     "metadata": {},
     "outputs": [],
     "prompt_number": 11
    },
    {
     "cell_type": "code",
     "collapsed": false,
     "input": [
      "# with open('../data/cutout_width.csv', 'w') as cutout_width:\n",
      "#     with open('../data/cutout_length.csv', 'w') as cutout_length:\n",
      "#         with open('../data/cutout_box_bound.csv', 'w') as cutout_box_bound:\n",
      "        \n",
      "#             x_writer = csv.writer(x_csvfile, delimiter=',', lineterminator='\\n')\n",
      "#             y_writer = csv.writer(y_csvfile, delimiter=',', lineterminator='\\n')\n",
      "\n",
      "\n",
      "#             for i in range(len(x_list_optimised)):\n",
      "\n",
      "#                 x_writer.writerow(x_list_optimised[i])\n",
      "#                 y_writer.writerow(y_list_optimised[i])\n"
     ],
     "language": "python",
     "metadata": {},
     "outputs": [],
     "prompt_number": 12
    }
   ],
   "metadata": {}
  }
 ]
}