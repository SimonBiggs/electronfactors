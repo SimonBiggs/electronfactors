{
 "cells": [
  {
   "cell_type": "code",
   "execution_count": 2,
   "metadata": {
    "collapsed": false
   },
   "outputs": [],
   "source": [
    "import numpy as np\n",
    "\n",
    "import matplotlib.pyplot as plt\n",
    "%matplotlib inline\n",
    "\n",
    "from scipy.stats import probplot\n",
    "\n",
    "import sys\n",
    "sys.path.append(\"../\")\n",
    "\n",
    "from electronfactors.model.utilities import *\n"
   ]
  },
  {
   "cell_type": "code",
   "execution_count": 3,
   "metadata": {
    "collapsed": true
   },
   "outputs": [],
   "source": [
    "from matplotlib import rc\n",
    "rc('font',**{'family':'serif',\n",
    "             'size':'16'})\n",
    "rc('text', usetex=True)"
   ]
  },
  {
   "cell_type": "code",
   "execution_count": 4,
   "metadata": {
    "collapsed": true
   },
   "outputs": [],
   "source": [
    "def create_histogram(data):\n",
    "    plt.figure(figsize=(6 * 1.618, 6))\n",
    "    \n",
    "    bins = np.arange(-1.5, 2, 0.5)\n",
    "    dbins = bins[1] - bins[0]\n",
    "    binsTrans = bins - dbins/2\n",
    "\n",
    "    binsTrans = binsTrans.reshape(-1,1)\n",
    "    binNum = np.argmin(abs(binsTrans - data),0)\n",
    "\n",
    "    representative_height = np.zeros(len(binNum))\n",
    "\n",
    "    for i in range(len(bins)):\n",
    "        binRef = (binNum == i)\n",
    "        representative_height[binRef] = np.arange(sum(binRef)) + 1\n",
    "\n",
    "    plt.hist(data, bins, alpha=0.6, lw=2)\n",
    "    plt.scatter(data, representative_height, zorder=2, s=120, alpha=0.8, lw=1.5)\n",
    "    \n",
    "    uncertainty = estimate_population_uncertainty(data)\n",
    "    \n",
    "    print(\"Mean = %0.2f\" % (np.mean(data)))\n",
    "    print(\"Uncertainty = %0.2f\" % (uncertainty))"
   ]
  },
  {
   "cell_type": "code",
   "execution_count": 29,
   "metadata": {
    "collapsed": true
   },
   "outputs": [],
   "source": [
    "def display_fit(width, eqPonA, factor, model):\n",
    "    plt.figure(figsize=(6 * 1.618, 6))\n",
    "    x = np.arange(np.floor(np.min(width)) - 0.5, np.ceil(np.max(width)) + 0.5, 0.05)\n",
    "    y = np.arange(np.floor(np.min(eqPonA)*10)/10 - 0.2, np.ceil(np.max(eqPonA)*10)/10 + 0.2, 0.005)\n",
    "\n",
    "    xx, yy = np.meshgrid(x, y)\n",
    "\n",
    "    zz = model(xx, yy)\n",
    "    give = fit_give(xx, yy, width, eqPonA, factor, kx=2, ky=1)\n",
    "\n",
    "    outOfTolerance = (give > 0.5)\n",
    "\n",
    "    zz[outOfTolerance] = np.nan\n",
    "\n",
    "    c = plt.contourf(xx, yy, zz, 100, alpha=1)\n",
    "    plt.colorbar(c)\n",
    "\n",
    "    plt.contour(xx, yy, give, levels=[0.5], colors='g')\n",
    "\n",
    "    plt.scatter(width, eqPonA, s=45, alpha=0.9, zorder=3)\n",
    "\n",
    "    plt.xlabel(r'Width (cm)')\n",
    "    plt.ylabel(r'Perimeter / Area (cm$^{-1}$)')\n",
    "    plt.title(r'Bivariate spline fit')"
   ]
  },
  {
   "cell_type": "code",
   "execution_count": 5,
   "metadata": {
    "collapsed": false
   },
   "outputs": [],
   "source": [
    "width, length, eqPonA, factor = pull_data(energy=12)"
   ]
  },
  {
   "cell_type": "code",
   "execution_count": null,
   "metadata": {
    "collapsed": true
   },
   "outputs": [],
   "source": [
    " "
   ]
  },
  {
   "cell_type": "code",
   "execution_count": 26,
   "metadata": {
    "collapsed": false
   },
   "outputs": [],
   "source": [
    "mean_true = {}\n",
    "mean_predict = {}\n",
    "uncert_true = {}\n",
    "uncert_predict = {}\n",
    "\n",
    "# test = [8, 12, 15, 20]\n",
    "test = [15]\n",
    "\n",
    "for amount in test:\n",
    "    mean_true[amount] = np.array([])\n",
    "    mean_predict[amount] = np.array([])\n",
    "\n",
    "    uncert_true[amount] = np.array([])\n",
    "    uncert_predict[amount] = np.array([])"
   ]
  },
  {
   "cell_type": "code",
   "execution_count": 41,
   "metadata": {
    "collapsed": false
   },
   "outputs": [
    {
     "name": "stdout",
     "output_type": "stream",
     "text": [
      "array([12, 42, 17, 44, 32, 30, 39,  2, 16, 38, 25, 27, 31,  7, 29])\n"
     ]
    }
   ],
   "source": [
    "for amount in test:\n",
    "    for j in range(100):\n",
    "        order = np.arange(len(width))\n",
    "        np.random.shuffle(order)\n",
    "        reference = order[0:amount]\n",
    "        reference\n",
    "        check = np.setdiff1d(np.arange(len(width)), reference)\n",
    "        check\n",
    "        give = np.zeros(len(check))\n",
    "        predictions = np.zeros(len(check))\n",
    "\n",
    "        model = create_model(width[reference], eqPonA[reference], factor[reference])\n",
    "\n",
    "        for i, value in enumerate(check):\n",
    "            predictions[i] = model(width[value], eqPonA[value])\n",
    "            give[i] = fit_give(\n",
    "                width[value], eqPonA[value], \n",
    "                width[reference], eqPonA[reference], factor[reference])\n",
    "\n",
    "        valid = give < 0.5\n",
    "        predicted_percent_differences = calculate_percent_prediction_differences(\n",
    "                width[reference], eqPonA[reference], factor[reference])\n",
    "        \n",
    "        if (np.sum(valid) > 3) & (len(predicted_percent_differences) > 3):\n",
    "        \n",
    "            percent_prediction_differences = 100*(factor[check] - predictions) / factor[check]\n",
    "            \n",
    "\n",
    "            mean_true[amount] = np.append(\n",
    "                mean_true[amount],\n",
    "                np.mean(percent_prediction_differences))\n",
    "            mean_predict[amount] = np.append(\n",
    "                mean_predict[amount],\n",
    "                np.mean(predicted_percent_differences))\n",
    "\n",
    "            uncert_true[amount] = np.append(\n",
    "                uncert_true[amount],\n",
    "                estimate_population_uncertainty(percent_prediction_differences))\n",
    "            uncert_predict[amount] = np.append(\n",
    "                uncert_predict[amount],\n",
    "                estimate_population_uncertainty(predicted_percent_differences))\n",
    "            \n",
    "            check_for_bad_set = (\n",
    "                (np.abs(np.mean(percent_prediction_differences)) + \n",
    "                estimate_population_uncertainty(percent_prediction_differences)) -\n",
    "                (np.abs(np.mean(predicted_percent_differences)) + \n",
    "                estimate_population_uncertainty(predicted_percent_differences))\n",
    "            )\n",
    "            \n",
    "            if np.abs(check_for_bad_set) > 2:\n",
    "                print( repr(np.array(reference)) )"
   ]
  },
  {
   "cell_type": "code",
   "execution_count": 42,
   "metadata": {
    "collapsed": false
   },
   "outputs": [
    {
     "data": {
      "text/plain": [
       "<matplotlib.collections.PathCollection at 0x7f35aef81550>"
      ]
     },
     "execution_count": 42,
     "metadata": {},
     "output_type": "execute_result"
    },
    {
     "data": {
      "image/png": "[encoded data removed]",
      "text/plain": [
       "<matplotlib.figure.Figure at 0x7f35af14ea58>"
      ]
     },
     "metadata": {},
     "output_type": "display_data"
    }
   ],
   "source": [
    "reference = [12, 42, 17, 44, 32, 30, 39,  2, 16, 38, 25, 27, 31,  7, 29]\n",
    "\n",
    "model = create_model(width[reference], eqPonA[reference], factor[reference])\n",
    "display_fit(width[reference], eqPonA[reference], factor[reference], model)\n",
    "plt.scatter(width, eqPonA, c='red', alpha=0.5)"
   ]
  },
  {
   "cell_type": "code",
   "execution_count": 25,
   "metadata": {
    "collapsed": false
   },
   "outputs": [
    {
     "data": {
      "text/plain": [
       "<matplotlib.text.Text at 0x7f35af9e8160>"
      ]
     },
     "execution_count": 25,
     "metadata": {},
     "output_type": "execute_result"
    },
    {
     "data": {
      "image/png": "[encoded data removed]",
      "text/plain": [
       "<matplotlib.figure.Figure at 0x7f35afa6cc18>"
      ]
     },
     "metadata": {},
     "output_type": "display_data"
    }
   ],
   "source": [
    "amount = 15\n",
    "plt.figure(figsize=(6 * 1.618, 6))\n",
    "plt.hist(\n",
    "    (np.abs(mean_true[amount]) + uncert_true[amount]) - (np.abs(mean_predict[amount]) + uncert_predict[amount]), \n",
    "    50, alpha=0.6, lw=1)\n",
    "\n",
    "plt.xlabel(\n",
    "    r'\\% Systematic percent prediction error '\n",
    "    r'$\\left[100 \\times \\frac{\\mbox{measured } - \\mbox{ predicted}}{\\mbox{measured}} \\right]$')\n",
    "plt.ylabel(r'Frequency')\n",
    "plt.title(r'Histogram of systematic percent prediction error of random models')\n"
   ]
  },
  {
   "cell_type": "code",
   "execution_count": 21,
   "metadata": {
    "collapsed": false
   },
   "outputs": [
    {
     "data": {
      "text/plain": [
       "array([ 0.87255312,  1.06806596,  1.03337597,  0.78982906,  1.07509579,\n",
       "        0.61465309,  0.87738008,  0.50010867,  3.13210633,  0.83804131,\n",
       "        0.74740555,  1.00115616,  3.46823345,  0.99861277,  0.71141007,\n",
       "        0.60742289,  0.64353842,  1.56654368,  0.92363843,  0.53502167,\n",
       "        0.78356497,  1.35261745,  0.68494733,  0.69588772,  1.06271035,\n",
       "        0.97678193,  0.47188093,  0.80647107,  0.65147595,  0.70543919,\n",
       "        0.97150122,  0.77850821,  0.74902862,  1.64499239,  1.09253512,\n",
       "        0.73468539,  0.69080841,  2.29927609,  0.7913772 ,  1.68034154,\n",
       "        0.50324661,  0.67715261,  0.50589329,  1.11654281,  0.52811627,\n",
       "        1.91733732,  1.11938761,  0.82403263,  0.83721782,  1.31251242,\n",
       "        2.05556984,  0.84306092,  1.33654338,  0.95252431,  0.79115676,\n",
       "        0.67990494,  2.73090868,  0.91707385,  0.91698348,  1.08060709,\n",
       "        0.91445259,  0.68294092,  0.79705326,  0.68218291,  0.73417436,\n",
       "        1.70109825,  0.74700227,  1.19008595,  0.63413537,  1.08216835,\n",
       "        0.57073989,  1.26270851,  0.67467543,  0.83970566,  1.01346521,\n",
       "        0.7142417 ,  0.60259692,  1.05992209,  0.88910013,  0.64698649,\n",
       "        0.96419253,  0.94423777,  1.32562987,  0.5941229 ,  0.63213317,\n",
       "        0.93647728,  0.80907334,  0.58828684,  0.88848146,  0.67487196,\n",
       "        2.70914616,  0.7682979 ,  0.50432297,  2.47285273,  1.03720227,\n",
       "        0.81873578,  0.90301451,  1.02079509,  0.88432118,  0.72825729,\n",
       "        0.81520083])"
      ]
     },
     "execution_count": 21,
     "metadata": {},
     "output_type": "execute_result"
    }
   ],
   "source": [
    "np.abs(mean_true[amount]) + uncert_true[amount]"
   ]
  },
  {
   "cell_type": "code",
   "execution_count": null,
   "metadata": {
    "collapsed": false
   },
   "outputs": [],
   "source": [
    "amount = 12\n",
    "plt.figure(figsize=(6 * 1.618, 6))\n",
    "plt.hist(mean_store[amount], 50, alpha=0.6, lw=1)\n",
    "\n",
    "plt.xlabel(\n",
    "    r'\\% Systematic percent prediction error '\n",
    "    r'$\\left[100 \\times \\frac{\\mbox{measured } - \\mbox{ predicted}}{\\mbox{measured}} \\right]$')\n",
    "plt.ylabel(r'Frequency')\n",
    "plt.title(r'Histogram of systematic percent prediction error of random models')\n",
    "print(amount)\n",
    "print(np.mean(mean_store[amount]))\n",
    "print(estimate_population_uncertainty(mean_store[amount]))"
   ]
  },
  {
   "cell_type": "code",
   "execution_count": null,
   "metadata": {
    "collapsed": false
   },
   "outputs": [],
   "source": [
    "amount = 15\n",
    "plt.figure(figsize=(6 * 1.618, 6))\n",
    "plt.hist(mean_store[amount], 50, alpha=0.6, lw=1)\n",
    "\n",
    "plt.xlabel(\n",
    "    r'\\% Systematic percent prediction error '\n",
    "    r'$\\left[100 \\times \\frac{\\mbox{measured } - \\mbox{ predicted}}{\\mbox{measured}} \\right]$')\n",
    "plt.ylabel(r'Frequency')\n",
    "plt.title(r'Histogram of systematic percent prediction error of random models')\n",
    "print(amount)\n",
    "print(np.mean(mean_store[amount]))\n",
    "print(estimate_population_uncertainty(mean_store[amount]))"
   ]
  },
  {
   "cell_type": "code",
   "execution_count": null,
   "metadata": {
    "collapsed": false
   },
   "outputs": [],
   "source": [
    "amount = 20\n",
    "plt.figure(figsize=(6 * 1.618, 6))\n",
    "plt.hist(mean_store[amount], 50, alpha=0.6, lw=1)\n",
    "\n",
    "plt.xlabel(\n",
    "    r'\\% Systematic percent prediction error '\n",
    "    r'$\\left[100 \\times \\frac{\\mbox{measured } - \\mbox{ predicted}}{\\mbox{measured}} \\right]$')\n",
    "plt.ylabel(r'Frequency')\n",
    "plt.title(r'Histogram of systematic percent prediction error of random models')\n",
    "print(amount)\n",
    "print(np.mean(mean_store[amount]))\n",
    "print(estimate_population_uncertainty(mean_store[amount]))"
   ]
  },
  {
   "cell_type": "code",
   "execution_count": null,
   "metadata": {
    "collapsed": true
   },
   "outputs": [],
   "source": []
  },
  {
   "cell_type": "code",
   "execution_count": null,
   "metadata": {
    "collapsed": true
   },
   "outputs": [],
   "source": []
  }
 ],
 "metadata": {
  "kernelspec": {
   "display_name": "Python 3",
   "language": "python",
   "name": "python3"
  },
  "language_info": {
   "codemirror_mode": {
    "name": "ipython",
    "version": 3
   },
   "file_extension": ".py",
   "mimetype": "text/x-python",
   "name": "python",
   "nbconvert_exporter": "python",
   "pygments_lexer": "ipython3",
   "version": "3.4.0"
  }
 },
 "nbformat": 4,
 "nbformat_minor": 0
}
