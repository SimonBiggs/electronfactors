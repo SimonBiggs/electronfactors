{
 "cells": [
  {
   "cell_type": "code",
   "execution_count": 1,
   "metadata": {
    "collapsed": true
   },
   "outputs": [],
   "source": [
    "import yaml\n",
    "import numpy as np\n",
    "\n",
    "from scipy.interpolate import SmoothBivariateSpline\n",
    "\n",
    "import sys\n",
    "sys.path.append(\"../\")\n",
    "\n",
    "from electronfactors.ellipse.equivalent import EquivalentEllipse"
   ]
  },
  {
   "cell_type": "code",
   "execution_count": 2,
   "metadata": {
    "collapsed": true
   },
   "outputs": [],
   "source": [
    "import matplotlib.pyplot as plt\n",
    "from matplotlib import pylab\n",
    "%matplotlib inline\n",
    "\n",
    "import descartes as des"
   ]
  },
  {
   "cell_type": "code",
   "execution_count": 3,
   "metadata": {
    "collapsed": true
   },
   "outputs": [],
   "source": [
    "energy = 12\n",
    "applicator = 10\n",
    "ssd = 100\n",
    "\n",
    "filepath = (\n",
    "    \"output/model_cache_\" + \n",
    "    str(energy) + \"MeV_\" + \n",
    "    str(applicator) + \"app_\" + \n",
    "    str(ssd) + \"ssd.yml\"\n",
    ")"
   ]
  },
  {
   "cell_type": "code",
   "execution_count": 4,
   "metadata": {
    "collapsed": true
   },
   "outputs": [],
   "source": [
    "with open(filepath, 'r') as inputFile:\n",
    "    input_dict = yaml.load(inputFile)"
   ]
  },
  {
   "cell_type": "code",
   "execution_count": 5,
   "metadata": {
    "collapsed": true
   },
   "outputs": [],
   "source": [
    "width = np.zeros(len(input_dict))\n",
    "length = np.zeros(len(input_dict))\n",
    "factor = np.zeros(len(input_dict))\n",
    "label = [0] * len(input_dict)\n",
    "poi = [0] * len(input_dict)\n",
    "\n",
    "for i, key in enumerate(input_dict):\n",
    "    width[i] = input_dict[key]['width']\n",
    "    length[i] = input_dict[key]['length']\n",
    "    factor[i] = input_dict[key]['factor']\n",
    "    label[i] = key\n",
    "    poi[i] = input_dict[key]['poi']\n",
    "    \n",
    "ratio = width/length\n",
    "eqPonA = 2*( 3*(ratio+1) - np.sqrt( (3*ratio+1)*(ratio+3) ) ) / width\n",
    "\n",
    "bivariateSpline = SmoothBivariateSpline(width,eqPonA,factor,kx=2,ky=2)\n",
    "\n",
    "def circle_fit(radii):\n",
    "    \n",
    "    if radii >= 1.5:\n",
    "        result = bivariateSpline.ev(radii*2, 2/radii)\n",
    "        \n",
    "    else:\n",
    "        result = 0.\n",
    "               \n",
    "    return result"
   ]
  },
  {
   "cell_type": "code",
   "execution_count": 6,
   "metadata": {
    "collapsed": true
   },
   "outputs": [],
   "source": [
    "output_dict = dict()\n",
    "equivalentEllipse = dict()"
   ]
  },
  {
   "cell_type": "code",
   "execution_count": null,
   "metadata": {
    "collapsed": true
   },
   "outputs": [],
   "source": [
    "def plot_equivalent_ellipse(eqEllipseObject):\n",
    "    fig = plt.figure()\n",
    "    ax = fig.add_subplot(111)\n",
    "\n",
    "    patch = des.PolygonPatch(eqEllipseObject.centredCutout, fc=np.random.uniform(size=3), alpha=0.3)\n",
    "    ax.add_patch(patch)\n",
    "\n",
    "    patch = des.PolygonPatch(eqEllipseObject.straightenedCutout, fc=np.random.uniform(size=3), alpha=0.3)\n",
    "    ax.add_patch(patch)\n",
    "\n",
    "    patch = des.PolygonPatch(eqEllipseObject.eqEllipse, fc=np.random.uniform(size=3), alpha=0.5)\n",
    "    ax.add_patch(patch)\n",
    "\n",
    "    plt.scatter(0,0)\n",
    "    ax.axis(\"equal\")\n",
    "    \n",
    "    plt.title(str(key))\n",
    "    plt.show()"
   ]
  },
  {
   "cell_type": "code",
   "execution_count": null,
   "metadata": {
    "collapsed": false,
    "scrolled": true
   },
   "outputs": [
    {
     "name": "stdout",
     "output_type": "stream",
     "text": [
      "Progress: 2.4%\n",
      "\n",
      "Simon #106 cutout:\n",
      "    Width: 6.08\n",
      "    Length: 9.71\n",
      "\n"
     ]
    },
    {
     "data": {
      "image/png": "[encoded data removed]",
      "text/plain": [
       "<matplotlib.figure.Figure at 0x7fea8c653b70>"
      ]
     },
     "metadata": {},
     "output_type": "display_data"
    }
   ],
   "source": [
    "for i, key in enumerate(label):\n",
    "    XCoords = input_dict[key]['XCoords']\n",
    "    YCoords = input_dict[key]['YCoords']\n",
    "    \n",
    "    equivalentEllipse[key] = EquivalentEllipse(\n",
    "        x=XCoords, y=YCoords, \n",
    "        circle_fit=circle_fit, n=5, \n",
    "        min_distance=1.49,\n",
    "        poi=poi[i]\n",
    "    )\n",
    "    \n",
    "    \n",
    "    output_dict[key] = dict()\n",
    "    width = equivalentEllipse[key].width\n",
    "    length = equivalentEllipse[key].length\n",
    "    \n",
    "    output_dict[key]['width'] = width\n",
    "    output_dict[key]['length'] = length\n",
    "    \n",
    "    print(\"Progress: %0.1f%%\\n\" % (100*(i+1) / len(label),))\n",
    "    print(str(key) + \":\\n    Width: %0.2f\\n    Length: %0.2f\\n\" % (width, length))\n",
    "    \n",
    "    plot_equivalent_ellipse(equivalentEllipse[key])"
   ]
  },
  {
   "cell_type": "code",
   "execution_count": null,
   "metadata": {
    "collapsed": true
   },
   "outputs": [],
   "source": [
    "for key in label:\n",
    "    \n",
    "    output_dict[key]['XCoords'] = input_dict[key]['XCoords']\n",
    "    output_dict[key]['YCoords'] = input_dict[key]['YCoords']\n",
    "    output_dict[key]['factor'] = input_dict[key]['factor']\n",
    "    output_dict[key]['energy'] = input_dict[key]['energy']\n",
    "    output_dict[key]['applicator'] = input_dict[key]['applicator']\n",
    "    output_dict[key]['ssd'] = input_dict[key]['ssd']\n",
    "    output_dict[key]['poi'] = input_dict[key]['poi']\n",
    "    \n",
    "    output_dict[key]['width'] = round(float(output_dict[key]['width']), 2)\n",
    "    output_dict[key]['length'] = round(float(output_dict[key]['length']), 2)"
   ]
  },
  {
   "cell_type": "code",
   "execution_count": null,
   "metadata": {
    "collapsed": true
   },
   "outputs": [],
   "source": []
  },
  {
   "cell_type": "code",
   "execution_count": null,
   "metadata": {
    "collapsed": true
   },
   "outputs": [],
   "source": [
    "width_diff = np.zeros(len(output_dict))\n",
    "length_diff = width_diff.copy()\n",
    "\n",
    "for i, key in enumerate(label):\n",
    "    \n",
    "    width_diff[i] = output_dict[key]['width'] - input_dict[key]['width']\n",
    "    length_diff[i] = output_dict[key]['length'] - input_dict[key]['length']"
   ]
  },
  {
   "cell_type": "code",
   "execution_count": null,
   "metadata": {
    "collapsed": false
   },
   "outputs": [],
   "source": [
    "plt.plot(width_diff)"
   ]
  },
  {
   "cell_type": "code",
   "execution_count": null,
   "metadata": {
    "collapsed": false
   },
   "outputs": [],
   "source": [
    "plt.plot(length_diff)"
   ]
  },
  {
   "cell_type": "code",
   "execution_count": null,
   "metadata": {
    "collapsed": false
   },
   "outputs": [],
   "source": [
    "key = label[np.argmax(width_diff)]\n",
    "key"
   ]
  },
  {
   "cell_type": "code",
   "execution_count": null,
   "metadata": {
    "collapsed": false
   },
   "outputs": [],
   "source": [
    "plot_equivalent_ellipse(equivalentEllipse[key])"
   ]
  },
  {
   "cell_type": "code",
   "execution_count": null,
   "metadata": {
    "collapsed": true
   },
   "outputs": [],
   "source": []
  },
  {
   "cell_type": "code",
   "execution_count": null,
   "metadata": {
    "collapsed": true
   },
   "outputs": [],
   "source": [
    "with open(filepath, 'w') as outfile:\n",
    "    outfile.write(yaml.dump(output_dict, default_flow_style=False))"
   ]
  },
  {
   "cell_type": "code",
   "execution_count": null,
   "metadata": {
    "collapsed": true
   },
   "outputs": [],
   "source": []
  }
 ],
 "metadata": {
  "kernelspec": {
   "display_name": "Python 3",
   "language": "python",
   "name": "python3"
  },
  "language_info": {
   "codemirror_mode": {
    "name": "ipython",
    "version": 3
   },
   "file_extension": ".py",
   "mimetype": "text/x-python",
   "name": "python",
   "nbconvert_exporter": "python",
   "pygments_lexer": "ipython3",
   "version": "3.4.2"
  }
 },
 "nbformat": 4,
 "nbformat_minor": 0
}
