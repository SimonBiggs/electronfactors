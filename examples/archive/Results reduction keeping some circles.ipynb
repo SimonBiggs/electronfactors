{
 "cells": [
  {
   "cell_type": "code",
   "execution_count": 1,
   "metadata": {
    "collapsed": false
   },
   "outputs": [],
   "source": [
    "import yaml\n",
    "import numpy as np\n",
    "\n",
    "import matplotlib.pyplot as plt\n",
    "%matplotlib inline\n",
    "\n",
    "import sys\n",
    "sys.path.append(\"../\")\n",
    "\n",
    "from electronfactors.model.utilities import *"
   ]
  },
  {
   "cell_type": "code",
   "execution_count": 2,
   "metadata": {
    "collapsed": false
   },
   "outputs": [],
   "source": [
    "width, length, eqPonA, factor = pull_data(energy=12)"
   ]
  },
  {
   "cell_type": "code",
   "execution_count": 3,
   "metadata": {
    "collapsed": false
   },
   "outputs": [],
   "source": [
    "keep_circles = (np.abs(width - length) < 0.1) & (width != 4.2) & (width != 6.3) & (width != 8.4)\n",
    "keep = np.where(keep_circles)[0]"
   ]
  },
  {
   "cell_type": "code",
   "execution_count": 4,
   "metadata": {
    "collapsed": false
   },
   "outputs": [
    {
     "data": {
      "text/plain": [
       "<matplotlib.collections.PathCollection at 0x7f274944f668>"
      ]
     },
     "execution_count": 4,
     "metadata": {},
     "output_type": "execute_result"
    },
    {
     "data": {
      "image/png": "[encoded data removed]",
      "text/plain": [
       "<matplotlib.figure.Figure at 0x7f274971fd68>"
      ]
     },
     "metadata": {},
     "output_type": "display_data"
    }
   ],
   "source": [
    "plt.scatter(width, length, s=50, alpha=0.2)\n",
    "plt.scatter(width[keep], length[keep], s=50)"
   ]
  },
  {
   "cell_type": "code",
   "execution_count": 5,
   "metadata": {
    "collapsed": false
   },
   "outputs": [],
   "source": [
    "x = np.array([])\n",
    "y = np.array([])"
   ]
  },
  {
   "cell_type": "code",
   "execution_count": 6,
   "metadata": {
    "collapsed": true
   },
   "outputs": [],
   "source": [
    "def data_reduction_loop(x, y, width, eqPonA, factor, n=1000): \n",
    "    \n",
    "    for amount in np.arange(7, np.floor(len(width)/2) + 1):        \n",
    "        order = np.setdiff1d(np.arange(len(width)), keep)\n",
    "        np.random.shuffle(order)\n",
    "        \n",
    "        reference = np.concatenate([keep, order[0:amount - len(keep)]])\n",
    "        uncertainty = prediction_uncertainty(width[reference], eqPonA[reference], factor[reference])\n",
    "        \n",
    "        if uncertainty is not(np.nan):\n",
    "            x = np.append(x, amount)\n",
    "            y = np.append(y, uncertainty)\n",
    "    \n",
    "    for i in range(n):\n",
    "        bin_mid = np.arange(np.min(x), np.max(x) + 1)\n",
    "        bins = np.linspace(np.min(x)-0.5, np.max(x)+0.5, np.ptp(x)+2)\n",
    "        histogrammed, value = np.histogram(x, bins=bins)\n",
    "        amount = bin_mid[np.argmin(histogrammed)]\n",
    "        \n",
    "        order = np.setdiff1d(np.arange(len(width)), keep)\n",
    "        np.random.shuffle(order)\n",
    "        \n",
    "        reference = np.concatenate([keep, order[0:amount - len(keep)]])\n",
    "        uncertainty = prediction_uncertainty(width[reference], eqPonA[reference], factor[reference])\n",
    "        \n",
    "        if uncertainty is not(np.nan):\n",
    "            x = np.append(x, amount)\n",
    "            y = np.append(y, uncertainty)\n",
    "    \n",
    "    return x, y        "
   ]
  },
  {
   "cell_type": "code",
   "execution_count": 7,
   "metadata": {
    "collapsed": true
   },
   "outputs": [],
   "source": [
    "def plot_intervals(x, y):\n",
    "    amounts = np.arange(np.min(x), np.max(x) + 1)\n",
    "\n",
    "    upper_interval_3 = np.zeros(len(amounts))\n",
    "    upper_interval_2 = np.zeros(len(amounts))\n",
    "    upper_interval_1 = np.zeros(len(amounts))\n",
    "\n",
    "    lower_interval_1 = np.zeros(len(amounts))\n",
    "    lower_interval_2 = np.zeros(len(amounts))\n",
    "    lower_interval_3 = np.zeros(len(amounts))\n",
    "    \n",
    "    for i, amount in enumerate(amounts):    \n",
    "        reference = (x == amount)\n",
    "        n = np.sum(reference)\n",
    "\n",
    "        upper_interval_position_3 = np.ceil(n * 0.9985) - 1\n",
    "        upper_interval_position_2 = np.ceil(n * 0.975) - 1\n",
    "        upper_interval_position_1 = np.ceil(n * 0.84) - 1\n",
    "\n",
    "        lower_interval_position_1 = np.floor(n * 0.16) - 1\n",
    "        lower_interval_position_2 = np.floor(n * 0.025) - 1\n",
    "        lower_interval_position_3 = np.floor(n * 0.0015) - 1    \n",
    "\n",
    "        uncertainties_sorted = np.sort(y[reference])\n",
    "\n",
    "        upper_interval_3[i] = uncertainties_sorted[upper_interval_position_3]\n",
    "        upper_interval_2[i] = uncertainties_sorted[upper_interval_position_2]\n",
    "        upper_interval_1[i] = uncertainties_sorted[upper_interval_position_1]\n",
    "\n",
    "        lower_interval_1[i] = uncertainties_sorted[lower_interval_position_1]\n",
    "        lower_interval_2[i] = uncertainties_sorted[lower_interval_position_2]\n",
    "        lower_interval_3[i] = uncertainties_sorted[lower_interval_position_3]\n",
    "    \n",
    "    plt.plot(\n",
    "        amounts, upper_interval_1, 'r-',\n",
    "        amounts, upper_interval_2, 'r--',\n",
    "        amounts, upper_interval_3, 'k--',\n",
    "        amounts, lower_interval_1, 'r-',\n",
    "        amounts, lower_interval_2, 'r--',\n",
    "        amounts, lower_interval_3, 'k--',\n",
    "    )"
   ]
  },
  {
   "cell_type": "code",
   "execution_count": 16,
   "metadata": {
    "collapsed": false
   },
   "outputs": [
    {
     "name": "stdout",
     "output_type": "stream",
     "text": [
      "Number of data sets used = 24867\n"
     ]
    },
    {
     "data": {
      "image/png": "[encoded data removed]",
      "text/plain": [
       "<matplotlib.figure.Figure at 0x7f2749399630>"
      ]
     },
     "metadata": {},
     "output_type": "display_data"
    }
   ],
   "source": [
    "x, y = data_reduction_loop(x, y, width, eqPonA, factor, n=10000)\n",
    "plot_intervals(x, y)\n",
    "plt.xlabel(\"Amount of points in data set\")\n",
    "plt.ylabel(\"Prediction uncertainty\")\n",
    "plt.title(\"Estimated prediction uncertainty resulting from random subsets of the 12 MeV data\")\n",
    "plt.legend([\"68% bounds\", \"95% bounds\", \"99.7% bounds\"])\n",
    "\n",
    "print(\"Number of data sets used = %d\" %(len(x)))\n",
    "\n",
    "bins = np.linspace(np.min(x)-0.5, np.max(x)+0.5, np.ptp(x)+2)\n",
    "histogrammed, value = np.histogram(x, bins=bins)\n",
    "histogrammed\n",
    "\n",
    "plt.grid(True)"
   ]
  },
  {
   "cell_type": "code",
   "execution_count": null,
   "metadata": {
    "collapsed": false
   },
   "outputs": [],
   "source": []
  }
 ],
 "metadata": {
  "kernelspec": {
   "display_name": "Python 3",
   "language": "python",
   "name": "python3"
  },
  "language_info": {
   "codemirror_mode": {
    "name": "ipython",
    "version": 3
   },
   "file_extension": ".py",
   "mimetype": "text/x-python",
   "name": "python",
   "nbconvert_exporter": "python",
   "pygments_lexer": "ipython3",
   "version": "3.4.0"
  }
 },
 "nbformat": 4,
 "nbformat_minor": 0
}
