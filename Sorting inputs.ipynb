{
 "metadata": {
  "name": "",
  "signature": "sha256:541fc156d05c62bada7fa56aed833bb2d80e9330d79bd402afdec51758a8fd83"
 },
 "nbformat": 3,
 "nbformat_minor": 0,
 "worksheets": [
  {
   "cells": [
    {
     "cell_type": "code",
     "collapsed": false,
     "input": [
      "energyRequest = 12\n",
      "applicatorRequest = 10"
     ],
     "language": "python",
     "metadata": {},
     "outputs": [],
     "prompt_number": 41
    },
    {
     "cell_type": "code",
     "collapsed": false,
     "input": [],
     "language": "python",
     "metadata": {},
     "outputs": [],
     "prompt_number": 41
    },
    {
     "cell_type": "code",
     "collapsed": false,
     "input": [],
     "language": "python",
     "metadata": {},
     "outputs": [],
     "prompt_number": 41
    },
    {
     "cell_type": "code",
     "collapsed": false,
     "input": [
      "import numpy as np\n",
      "import pandas as pd"
     ],
     "language": "python",
     "metadata": {},
     "outputs": [],
     "prompt_number": 42
    },
    {
     "cell_type": "code",
     "collapsed": false,
     "input": [
      "shape_definition_x_coords = pd.read_csv(\"shape_definition_x_coords.csv\")\n",
      "shape_definition_y_coords = pd.read_csv(\"shape_definition_y_coords.csv\")\n",
      "\n",
      "measured_cutout_factors = pd.read_csv(\"measured_cutout_factors.csv\")\n",
      "energy = measured_cutout_factors['energy'].values\n",
      "applicator = measured_cutout_factors['applicator'].values\n",
      "\n",
      "thisEnergyApplicator = (energy == energyRequest) & (applicator == applicatorRequest)"
     ],
     "language": "python",
     "metadata": {},
     "outputs": [],
     "prompt_number": 43
    },
    {
     "cell_type": "code",
     "collapsed": false,
     "input": [],
     "language": "python",
     "metadata": {},
     "outputs": [],
     "prompt_number": 43
    },
    {
     "cell_type": "code",
     "collapsed": false,
     "input": [],
     "language": "python",
     "metadata": {},
     "outputs": [],
     "prompt_number": 43
    },
    {
     "cell_type": "code",
     "collapsed": false,
     "input": [],
     "language": "python",
     "metadata": {},
     "outputs": [],
     "prompt_number": 43
    },
    {
     "cell_type": "code",
     "collapsed": false,
     "input": [],
     "language": "python",
     "metadata": {},
     "outputs": [],
     "prompt_number": 43
    },
    {
     "cell_type": "code",
     "collapsed": false,
     "input": [
      "if ~np.all(shape_definition_x_coords.columns == shape_definition_y_coords.columns):\n",
      "    \n",
      "    raise Exception(\"x and y coord labels do not agree\")"
     ],
     "language": "python",
     "metadata": {},
     "outputs": [],
     "prompt_number": 44
    },
    {
     "cell_type": "code",
     "collapsed": false,
     "input": [
      "label = measured_cutout_factors['label'].values[thisEnergyApplicator]\n",
      "\n",
      "labelInShapeDefinition = np.in1d(label,shape_definition_x_coords.columns.values)"
     ],
     "language": "python",
     "metadata": {},
     "outputs": [],
     "prompt_number": 45
    },
    {
     "cell_type": "code",
     "collapsed": false,
     "input": [
      "labelGivenWidthLength = np.zeros(len(label)).astype(bool)\n",
      "\n",
      "for i in range(len(label)):\n",
      "      \n",
      "    width_test = measured_cutout_factors['width'][measured_cutout_factors['label'] == label[i]].values\n",
      "    length_test = measured_cutout_factors['length'][measured_cutout_factors['label'] == label[i]].values\n",
      "\n",
      "    if np.isnan(width_test) or np.isnan(length_test):\n",
      "\n",
      "        labelGivenWidthLength[i] = False\n",
      "\n",
      "    else:\n",
      "\n",
      "        labelGivenWidthLength[i] = True\n"
     ],
     "language": "python",
     "metadata": {},
     "outputs": [],
     "prompt_number": 46
    },
    {
     "cell_type": "code",
     "collapsed": false,
     "input": [
      "labelGivenFactor = np.zeros(len(label)).astype(bool)\n",
      "\n",
      "for i in range(len(label)):\n",
      "    \n",
      "    factor_test = measured_cutout_factors['cutout factor'][measured_cutout_factors['label'] == label[i]].values\n",
      "\n",
      "    if np.isnan(factor_test):\n",
      "\n",
      "        labelGivenFactor[i] = False\n",
      "\n",
      "    else:\n",
      "\n",
      "        labelGivenFactor[i] = True\n",
      "        "
     ],
     "language": "python",
     "metadata": {},
     "outputs": [],
     "prompt_number": 47
    },
    {
     "cell_type": "code",
     "collapsed": false,
     "input": [
      "makeInitialGuess = labelInShapeDefinition & ~labelGivenWidthLength"
     ],
     "language": "python",
     "metadata": {},
     "outputs": [],
     "prompt_number": 48
    },
    {
     "cell_type": "code",
     "collapsed": false,
     "input": [
      "useForFitting = labelGivenFactor & (makeInitialGuess | labelGivenWidthLength)\n",
      "label[~useForFitting]"
     ],
     "language": "python",
     "metadata": {},
     "outputs": [
      {
       "metadata": {},
       "output_type": "pyout",
       "prompt_number": 49,
       "text": [
        "array(['Simon #43 cutout', 'Simon #73 cutout', 'Simon 9cm circle'], dtype=object)"
       ]
      }
     ],
     "prompt_number": 49
    },
    {
     "cell_type": "code",
     "collapsed": false,
     "input": [
      "width = np.empty(len(label))\n",
      "length = np.empty(len(label))\n",
      "factor = np.empty(len(label))\n",
      "\n",
      "width[:] = np.nan\n",
      "length[:] = np.nan\n",
      "factor[:] = np.nan\n",
      "\n",
      "for i in range(len(label)):\n",
      "    \n",
      "    if labelGivenWidthLength[i]:\n",
      "        \n",
      "        width[i] = measured_cutout_factors['width'][measured_cutout_factors['label'] == label[i]].values\n",
      "        length[i] = measured_cutout_factors['length'][measured_cutout_factors['label'] == label[i]].values\n",
      "        \n",
      "    if labelGivenFactor[i]:\n",
      "        \n",
      "        factor[i] = measured_cutout_factors['cutout factor'][measured_cutout_factors['label'] == label[i]].values"
     ],
     "language": "python",
     "metadata": {},
     "outputs": [],
     "prompt_number": 50
    },
    {
     "cell_type": "code",
     "collapsed": false,
     "input": [],
     "language": "python",
     "metadata": {},
     "outputs": [],
     "prompt_number": 50
    },
    {
     "cell_type": "code",
     "collapsed": false,
     "input": [],
     "language": "python",
     "metadata": {},
     "outputs": [],
     "prompt_number": 50
    },
    {
     "cell_type": "code",
     "collapsed": false,
     "input": [
      "parsedInputs = pd.DataFrame(np.array([label,width,length,factor,\n",
      "                                   makeInitialGuess,\n",
      "                                   useForFitting,\n",
      "                                   labelInShapeDefinition]).transpose(),\n",
      "                            columns=['label','width','length','cutout factor',\n",
      "                                     'make initial guess',\n",
      "                                     'use for fitting',\n",
      "                                     'recalc width and length'])\n",
      "\n",
      "parsedInputs.to_csv('parsed_inputs/%dMeV_%dcm.csv '%(energyRequest, applicatorRequest),index=False)"
     ],
     "language": "python",
     "metadata": {},
     "outputs": [],
     "prompt_number": 51
    },
    {
     "cell_type": "code",
     "collapsed": false,
     "input": [],
     "language": "python",
     "metadata": {},
     "outputs": [],
     "prompt_number": 51
    }
   ],
   "metadata": {}
  }
 ]
}