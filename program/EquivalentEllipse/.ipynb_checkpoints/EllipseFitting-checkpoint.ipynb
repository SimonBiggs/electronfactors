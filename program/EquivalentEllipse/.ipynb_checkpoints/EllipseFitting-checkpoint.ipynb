{
 "cells": [
  {
   "cell_type": "markdown",
   "metadata": {},
   "source": [
    "# Ellipse Fitting"
   ]
  },
  {
   "cell_type": "markdown",
   "metadata": {},
   "source": [
    "The object defined within this notebook takes a series of X-Coords and Y-Coords and, creates a cutout shape from these and then returns a fitted equivalent ellipse.\n",
    "\n",
    "An example of using this object can be found [at the bottom of this notebook](#Example).\n",
    "\n",
    "No adjustment of the initial shape is done in this class, see `CutoutStraightening.ipynb` for that."
   ]
  },
  {
   "cell_type": "markdown",
   "metadata": {},
   "source": [
    "## Copyright information\n",
    "\n",
    "Copyright © 2015 Simon Biggs\n",
    "\n",
    "This program is free software: you can redistribute it and/or modify it under the terms of the GNU Affero General Public License as published by the Free Software Foundation, either version 3 of the License, or (at your option) any later version.\n",
    "\n",
    "This program is distributed in the hope that it will be useful, but WITHOUT ANY WARRANTY; without even the implied warranty of MERCHANTABILITY or FITNESS FOR A PARTICULAR PURPOSE. See the GNU Affero General Public License for more details.\n",
    "\n",
    "You should have received a copy of the GNU Affero General Public License along with this program. If not, see http://www.gnu.org/licenses/."
   ]
  },
  {
   "cell_type": "markdown",
   "metadata": {},
   "source": [
    "## Importing modules"
   ]
  },
  {
   "cell_type": "code",
   "execution_count": 1,
   "metadata": {
    "collapsed": true
   },
   "outputs": [],
   "source": [
    "import numpy as np\n",
    "\n",
    "import matplotlib.pyplot as plt\n",
    "from matplotlib import pylab\n",
    "%matplotlib inline\n",
    "\n",
    "from scipy.optimize import basinhopping\n",
    "\n",
    "import shapely.geometry as geo\n",
    "import shapely.affinity as aff"
   ]
  },
  {
   "cell_type": "markdown",
   "metadata": {},
   "source": [
    "## The functions and object"
   ]
  },
  {
   "cell_type": "code",
   "execution_count": 2,
   "metadata": {
    "collapsed": true
   },
   "outputs": [],
   "source": [
    "def shapely_cutout(XCoords,YCoords):\n",
    "    \"\"\"Returns the shapely cutout defined by the x and y coordinates.\n",
    "    \"\"\"\n",
    "    return geo.Polygon(np.transpose((XCoords,YCoords)))\n",
    "\n",
    "\n",
    "def shapely_ellipse(ellipseRaw):\n",
    "    \"\"\"Given raw ellipse values create a shapely ellipse.\n",
    "    \"\"\"\n",
    "    xPosition = ellipseRaw[0]\n",
    "    yPosition = ellipseRaw[1]\n",
    "\n",
    "    width = ellipseRaw[2]\n",
    "    length = ellipseRaw[3]\n",
    "\n",
    "    rotation = ellipseRaw[4]\n",
    "\n",
    "\n",
    "    unitCircle = geo.Point(0,0).buffer(1)        \n",
    "    ellipse = aff.scale(unitCircle, xfact=width/2, yfact=length/2)    # Stretched\n",
    "    ellipse = aff.translate(ellipse, xoff=xPosition, yoff=yPosition)  # Translated\n",
    "    ellipse = aff.rotate(ellipse, rotation)                           # Rotated\n",
    "\n",
    "    return ellipse"
   ]
  },
  {
   "cell_type": "code",
   "execution_count": 3,
   "metadata": {
    "collapsed": true
   },
   "outputs": [],
   "source": [
    "class fit_ellipse(object):\n",
    "    \"\"\"An equivalent ellipse given the x and y coordinates of a cutout.\n",
    "    \"\"\"\n",
    "    def __init__(self, n=5, debug=False, **kwargs):\n",
    "        \n",
    "        self.debug = debug\n",
    "        \n",
    "        self.cutoutXCoords = kwargs['x']\n",
    "        self.cutoutYCoords = kwargs['y']\n",
    "        self.cutout = shapely_cutout(self.cutoutXCoords,self.cutoutYCoords)\n",
    "                \n",
    "        self.basinRequiredSuccess = n\n",
    "        self.ellipseRaw = self.ellipse_basinhopping()\n",
    "        \n",
    "        if abs(self.ellipseRaw[2]) < abs(self.ellipseRaw[3]):\n",
    "            \n",
    "            self.width = abs(self.ellipseRaw[2])\n",
    "            self.length = abs(self.ellipseRaw[3])\n",
    "            \n",
    "        else:\n",
    "            \n",
    "            self.width = abs(self.ellipseRaw[3])\n",
    "            self.length = abs(self.ellipseRaw[2])\n",
    " \n",
    "            \n",
    "        self.ellipse = shapely_ellipse(self.ellipseRaw)\n",
    "    \n",
    "    \n",
    "\n",
    " \n",
    "    \n",
    "    def minimise_function(self, ellipseRaw):\n",
    "        \"\"\"Returns the sum of area differences between the an ellipse and the given cutout.\n",
    "        \"\"\"\n",
    "        ellipse = shapely_ellipse(ellipseRaw)\n",
    "        \n",
    "        return ellipse.difference(self.cutout).area + self.cutout.difference(ellipse).area\n",
    "        \n",
    "    \n",
    "    def ellipse_basinhopping(self):\n",
    "        \"\"\"Fitting the ellipse to the cutout via scipy.optimize.basinhopping.\n",
    "        \"\"\"\n",
    "        self.functionReturns = np.empty(self.basinRequiredSuccess)\n",
    "        self.functionReturns[:] = np.nan\n",
    "        \n",
    "        self.numSuccess = 0\n",
    "        \n",
    "        minimizerConfig = {\"method\": 'BFGS'}\n",
    "        \n",
    "        initial_input = np.array([0,0,3,4,0])\n",
    "        \n",
    "        \n",
    "        basinhoppingOutput = basinhopping(self.minimise_function,\n",
    "                                          initial_input,\n",
    "                                          niter=1000,\n",
    "                                          minimizer_kwargs=minimizerConfig,\n",
    "                                          take_step=self.step_function,\n",
    "                                          callback=self.callback_function)\n",
    "        \n",
    "        return basinhoppingOutput.x\n",
    "        \n",
    "        \n",
    "    def step_function(self,optimiserInput):\n",
    "        \"\"\"Step function used by self.ellipse_basinhopping.\n",
    "        \"\"\"\n",
    "        optimiserInput[0] += np.random.normal(scale=1.5)   # x-position\n",
    "        optimiserInput[1] += np.random.normal(scale=1.5)   # y-position\n",
    "        optimiserInput[2] += np.random.normal(scale=3)     # width\n",
    "        optimiserInput[3] += np.random.normal(scale=4)     # length\n",
    "        optimiserInput[4] += np.random.normal(scale=90)    # rotation\n",
    "        \n",
    "        return optimiserInput\n",
    "    \n",
    "    \n",
    "    def callback_function(self, optimiserOutput, minimiseFunctionOutput, minimiseAccepted):\n",
    "        \"\"\"Callback function used by self.ellipse_basinhopping.\n",
    "        \"\"\"        \n",
    "        if self.debug:\n",
    "            print(optimiserOutput)\n",
    "            print(minimiseFunctionOutput)\n",
    "            print(minimiseAccepted)\n",
    "            print(\" \")\n",
    "        \n",
    "        if minimiseAccepted:\n",
    "            \n",
    "            if self.numSuccess == 0:\n",
    "                # First result\n",
    "                self.functionReturns[0] = minimiseFunctionOutput\n",
    "                self.numSuccess = 1\n",
    "                \n",
    "            elif minimiseFunctionOutput >= np.nanmin(self.functionReturns) + 0.0001:\n",
    "                # Reject result\n",
    "                0\n",
    "                \n",
    "            elif minimiseFunctionOutput >= np.nanmin(self.functionReturns) - 0.0001:\n",
    "                # Agreeing result\n",
    "                self.functionReturns[self.numSuccess] = minimiseFunctionOutput\n",
    "                self.numSuccess += 1\n",
    "            \n",
    "            elif minimiseFunctionOutput < np.nanmin(self.functionReturns) - 0.0001:\n",
    "                # New result\n",
    "                self.functionReturns[0] = minimiseFunctionOutput\n",
    "                self.numSuccess = 1\n",
    "        \n",
    "        if self.numSuccess >= self.basinRequiredSuccess:\n",
    "            return True\n",
    "        "
   ]
  },
  {
   "cell_type": "markdown",
   "metadata": {},
   "source": [
    "## Execute no further if being imported\n",
    "\n",
    "Don't want to waste time running the example if this notebook is just being imported. The following cell triggers the notebook import to stop."
   ]
  },
  {
   "cell_type": "code",
   "execution_count": 4,
   "metadata": {
    "collapsed": false
   },
   "outputs": [
    {
     "data": {
      "text/plain": [
       "'stop nbimport'"
      ]
     },
     "execution_count": 4,
     "metadata": {},
     "output_type": "execute_result"
    }
   ],
   "source": [
    "'stop nbimport'"
   ]
  },
  {
   "cell_type": "markdown",
   "metadata": {},
   "source": [
    "## Example"
   ]
  },
  {
   "cell_type": "code",
   "execution_count": null,
   "metadata": {
    "collapsed": false
   },
   "outputs": [
    {
     "data": {
      "text/plain": [
       "(-1.5, 1.5, -1.5, 1.5)"
      ]
     },
     "execution_count": 5,
     "metadata": {},
     "output_type": "execute_result"
    },
    {
     "data": {
      "image/png": "[encoded data removed]",
      "text/plain": [
       "<matplotlib.figure.Figure at 0x7f33001e4438>"
      ]
     },
     "metadata": {},
     "output_type": "display_data"
    }
   ],
   "source": [
    "XCoords = [-1,-0.2,0,0.7,1,0]\n",
    "YCoords = [0,-1,-.8,0,.6,1]\n",
    "\n",
    "plt.scatter(XCoords,YCoords)\n",
    "plt.plot(np.append(XCoords, XCoords[0]), \n",
    "         np.append(YCoords, YCoords[0]))\n",
    "plt.axis(\"equal\")"
   ]
  },
  {
   "cell_type": "code",
   "execution_count": null,
   "metadata": {
    "collapsed": false
   },
   "outputs": [],
   "source": [
    "ellipse_fitting_example = fit_ellipse(x=XCoords, y=YCoords)"
   ]
  },
  {
   "cell_type": "code",
   "execution_count": null,
   "metadata": {
    "collapsed": false
   },
   "outputs": [],
   "source": [
    "cutoutX = ellipse_fitting_example.cutout.exterior.xy[0]\n",
    "cutoutY = ellipse_fitting_example.cutout.exterior.xy[1]\n",
    "plt.plot(cutoutX, cutoutY)\n",
    "\n",
    "ellipseX = ellipse_fitting_example.ellipse.exterior.xy[0]\n",
    "ellipseY = ellipse_fitting_example.ellipse.exterior.xy[1]\n",
    "plt.plot(ellipseX,ellipseY)\n",
    "\n",
    "plt.axis(\"equal\")"
   ]
  },
  {
   "cell_type": "code",
   "execution_count": null,
   "metadata": {
    "collapsed": true
   },
   "outputs": [],
   "source": []
  }
 ],
 "metadata": {
  "kernelspec": {
   "display_name": "Python 3",
   "language": "python",
   "name": "python3"
  },
  "language_info": {
   "codemirror_mode": {
    "name": "ipython",
    "version": 3
   },
   "file_extension": ".py",
   "mimetype": "text/x-python",
   "name": "python",
   "nbconvert_exporter": "python",
   "pygments_lexer": "ipython3",
   "version": "3.4.0"
  }
 },
 "nbformat": 4,
 "nbformat_minor": 0
}
