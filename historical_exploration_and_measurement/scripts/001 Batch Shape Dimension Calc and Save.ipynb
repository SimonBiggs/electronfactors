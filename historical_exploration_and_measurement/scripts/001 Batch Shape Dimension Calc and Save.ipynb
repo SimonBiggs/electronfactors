{
 "metadata": {
  "name": "",
  "signature": "sha256:707ee2d877cce4e8d2a7d45a1ed7b6bb679d71acfed1c111e43d2c2e9c5bd5b5"
 },
 "nbformat": 3,
 "nbformat_minor": 0,
 "worksheets": [
  {
   "cells": [
    {
     "cell_type": "code",
     "collapsed": false,
     "input": [
      "%pylab inline\n",
      "\n",
      "import pandas as pd\n",
      "\n",
      "import csv\n",
      "\n",
      "import shapely.affinity as af\n",
      "import shapely.geometry as sh\n",
      "\n",
      "from equivalent_ellipse import *\n",
      "\n",
      "from scaled_figures import *"
     ],
     "language": "python",
     "metadata": {},
     "outputs": [
      {
       "output_type": "stream",
       "stream": "stdout",
       "text": [
        "Populating the interactive namespace from numpy and matplotlib\n"
       ]
      }
     ],
     "prompt_number": 1
    },
    {
     "cell_type": "code",
     "collapsed": false,
     "input": [
      "x_list = list()\n",
      "y_list = list()\n",
      "\n",
      "with open('../data/cutout_x.csv', 'r') as x_csvfile:\n",
      "    with open('../data/cutout_y.csv', 'r') as y_csvfile:\n",
      "        \n",
      "        x_reader = csv.reader(x_csvfile, delimiter=',', lineterminator='\\n')\n",
      "        y_reader = csv.reader(y_csvfile, delimiter=',', lineterminator='\\n')\n",
      "        \n",
      "        for row in x_reader:\n",
      "            x_list += [row]\n",
      "  \n",
      "        for row in y_reader:\n",
      "            y_list += [row]\n",
      "\n",
      "            \n",
      "num_cutouts = len(x_list)\n",
      "\n",
      "\n",
      "x_array = [0,]*num_cutouts\n",
      "y_array = [0,]*num_cutouts\n",
      "\n",
      "\n",
      "for i in range(num_cutouts):\n",
      "\n",
      "    x_array[i] = array(x_list[i], dtype='float')\n",
      "    y_array[i] = array(y_list[i], dtype='float')\n",
      "\n",
      "    \n",
      "cutout = [0,]*num_cutouts\n",
      "\n",
      "for i in range(num_cutouts):\n",
      "    cutout[i] = shapely_cutout(x_array[i],y_array[i])"
     ],
     "language": "python",
     "metadata": {},
     "outputs": [],
     "prompt_number": 2
    },
    {
     "cell_type": "code",
     "collapsed": false,
     "input": [
      "ellipse_results = [0,]*num_cutouts\n",
      "\n",
      "for i in range(num_cutouts):\n",
      "    print(\"Cutout %.f\" % (i))\n",
      "    ellipse_results[i] = eq_ellipse_calc(cutout[i],1,5)\n",
      "    print(\" \")"
     ],
     "language": "python",
     "metadata": {},
     "outputs": [
      {
       "output_type": "stream",
       "stream": "stdout",
       "text": [
        "Cutout 0\n",
        "first local minima of 3.4201 at:\n",
        "[a,b] = [0.0657, -0.6611], [width, length] = [6.5513, 7.8583], theta = 6.5887\n"
       ]
      },
      {
       "output_type": "stream",
       "stream": "stdout",
       "text": [
        "\n",
        "agreeing local minima of 3.4201 at:\n",
        "[a,b] = [0.0657, -0.6611], [width, length] = [6.5513, 7.8583], theta = 6.5887\n"
       ]
      },
      {
       "output_type": "stream",
       "stream": "stdout",
       "text": [
        "\n",
        "agreeing local minima of 3.4201 at:\n",
        "[a,b] = [0.0657, -0.6611], [width, length] = [6.5513, 7.8583], theta = 6.5887\n"
       ]
      },
      {
       "output_type": "stream",
       "stream": "stdout",
       "text": [
        "\n",
        "agreeing local minima of 3.4201 at:\n",
        "[a,b] = [0.0657, -0.6611], [width, length] = [6.5513, 7.8583], theta = 6.5887\n"
       ]
      },
      {
       "output_type": "stream",
       "stream": "stdout",
       "text": [
        "\n",
        "agreeing local minima of 3.4201 at:\n",
        "[a,b] = [0.0657, -0.6611], [width, length] = [6.5513, 7.8583], theta = 6.5887\n"
       ]
      },
      {
       "output_type": "stream",
       "stream": "stdout",
       "text": [
        "\n",
        " \n",
        "Cutout 1\n",
        "first local minima of 3.0051 at:\n",
        "[a,b] = [-0.0513, 0.4143], [width, length] = [7.9120, 8.2539], theta = 19.7695\n"
       ]
      },
      {
       "output_type": "stream",
       "stream": "stdout",
       "text": [
        "\n",
        "agreeing local minima of 3.0051 at:\n",
        "[a,b] = [-0.0513, 0.4143], [width, length] = [7.9120, 8.2539], theta = 19.7696\n"
       ]
      },
      {
       "output_type": "stream",
       "stream": "stdout",
       "text": [
        "\n",
        "agreeing local minima of 3.0051 at:\n",
        "[a,b] = [-0.0513, 0.4143], [width, length] = [7.9120, 8.2539], theta = 19.7695\n"
       ]
      },
      {
       "output_type": "stream",
       "stream": "stdout",
       "text": [
        "\n",
        "agreeing local minima of 3.0051 at:\n",
        "[a,b] = [-0.0513, 0.4143], [width, length] = [7.9120, 8.2539], theta = 19.7695\n"
       ]
      },
      {
       "output_type": "stream",
       "stream": "stdout",
       "text": [
        "\n",
        "agreeing local minima of 3.0051 at:\n",
        "[a,b] = [-0.0513, 0.4143], [width, length] = [7.9120, 8.2539], theta = 19.7695\n"
       ]
      },
      {
       "output_type": "stream",
       "stream": "stdout",
       "text": [
        "\n",
        " \n",
        "Cutout 2\n",
        "first local minima of 3.7495 at:\n",
        "[a,b] = [-0.0122, 0.2348], [width, length] = [7.2403, 7.6616], theta = 173.2275\n"
       ]
      },
      {
       "output_type": "stream",
       "stream": "stdout",
       "text": [
        "\n",
        "rejected local minima of 3.7509 at:\n",
        "[a,b] = [-0.0102, 0.2346], [width, length] = [7.2429, 7.6488], theta = 170.2337\n"
       ]
      },
      {
       "output_type": "stream",
       "stream": "stdout",
       "text": [
        "\n",
        "agreeing local minima of 3.7495 at:\n",
        "[a,b] = [-0.0122, 0.2348], [width, length] = [7.2403, 7.6616], theta = 173.2275\n"
       ]
      },
      {
       "output_type": "stream",
       "stream": "stdout",
       "text": [
        "\n",
        "agreeing local minima of 3.7495 at:\n",
        "[a,b] = [-0.0122, 0.2348], [width, length] = [7.2403, 7.6616], theta = 173.2274\n"
       ]
      },
      {
       "output_type": "stream",
       "stream": "stdout",
       "text": [
        "\n",
        "agreeing local minima of 3.7495 at:\n",
        "[a,b] = [-0.0122, 0.2348], [width, length] = [7.2403, 7.6616], theta = 173.2274\n"
       ]
      },
      {
       "output_type": "stream",
       "stream": "stdout",
       "text": [
        "\n",
        "agreeing local minima of 3.7495 at:\n",
        "[a,b] = [-0.0122, 0.2348], [width, length] = [7.2403, 7.6616], theta = 173.2274\n"
       ]
      },
      {
       "output_type": "stream",
       "stream": "stdout",
       "text": [
        "\n",
        " \n",
        "Cutout 3\n",
        "first local minima of 1.2234 at:\n",
        "[a,b] = [0.1868, -0.1707], [width, length] = [4.5361, 6.0357], theta = 171.5375\n"
       ]
      },
      {
       "output_type": "stream",
       "stream": "stdout",
       "text": [
        "\n",
        "agreeing local minima of 1.2234 at:\n",
        "[a,b] = [0.1868, -0.1707], [width, length] = [4.5361, 6.0357], theta = 171.5375\n"
       ]
      },
      {
       "output_type": "stream",
       "stream": "stdout",
       "text": [
        "\n",
        "agreeing local minima of 1.2234 at:\n",
        "[a,b] = [0.1868, -0.1707], [width, length] = [4.5361, 6.0357], theta = 171.5375\n"
       ]
      },
      {
       "output_type": "stream",
       "stream": "stdout",
       "text": [
        "\n",
        "agreeing local minima of 1.2234 at:\n",
        "[a,b] = [0.1868, -0.1707], [width, length] = [4.5361, 6.0357], theta = 171.5375\n"
       ]
      },
      {
       "output_type": "stream",
       "stream": "stdout",
       "text": [
        "\n",
        "agreeing local minima of 1.2234 at:\n",
        "[a,b] = [0.1868, -0.1707], [width, length] = [4.5361, 6.0357], theta = 171.5375\n"
       ]
      },
      {
       "output_type": "stream",
       "stream": "stdout",
       "text": [
        "\n",
        " \n",
        "Cutout 4\n",
        "first local minima of 4.1698 at:\n",
        "[a,b] = [0.2561, -0.8913], [width, length] = [8.3338, 9.1261], theta = 81.7191\n"
       ]
      },
      {
       "output_type": "stream",
       "stream": "stdout",
       "text": [
        "\n",
        "agreeing local minima of 4.1698 at:\n",
        "[a,b] = [0.2561, -0.8913], [width, length] = [8.3338, 9.1261], theta = 81.7191\n"
       ]
      },
      {
       "output_type": "stream",
       "stream": "stdout",
       "text": [
        "\n",
        "agreeing local minima of 4.1698 at:\n",
        "[a,b] = [0.2599, -0.8892], [width, length] = [8.3286, 9.1242], theta = 80.3049\n"
       ]
      },
      {
       "output_type": "stream",
       "stream": "stdout",
       "text": [
        "\n",
        "agreeing local minima of 4.1698 at:\n",
        "[a,b] = [0.2599, -0.8892], [width, length] = [8.3286, 9.1242], theta = 80.3048\n"
       ]
      },
      {
       "output_type": "stream",
       "stream": "stdout",
       "text": [
        "\n",
        "agreeing local minima of 4.1698 at:\n",
        "[a,b] = [0.2561, -0.8913], [width, length] = [8.3338, 9.1261], theta = 81.7191\n"
       ]
      },
      {
       "output_type": "stream",
       "stream": "stdout",
       "text": [
        "\n",
        " \n",
        "Cutout 5\n",
        "first local minima of 1.1353 at:\n",
        "[a,b] = [-0.2096, -0.3450], [width, length] = [4.2659, 5.0417], theta = 33.2003\n"
       ]
      },
      {
       "output_type": "stream",
       "stream": "stdout",
       "text": [
        "\n",
        "agreeing local minima of 1.1353 at:\n",
        "[a,b] = [-0.2096, -0.3450], [width, length] = [4.2659, 5.0417], theta = 33.2002\n"
       ]
      },
      {
       "output_type": "stream",
       "stream": "stdout",
       "text": [
        "\n",
        "agreeing local minima of 1.1353 at:\n",
        "[a,b] = [-0.2096, -0.3450], [width, length] = [4.2659, 5.0417], theta = 33.2003\n"
       ]
      },
      {
       "output_type": "stream",
       "stream": "stdout",
       "text": [
        "\n",
        "agreeing local minima of 1.1353 at:\n",
        "[a,b] = [-0.2096, -0.3450], [width, length] = [4.2659, 5.0417], theta = 33.2004\n"
       ]
      },
      {
       "output_type": "stream",
       "stream": "stdout",
       "text": [
        "\n",
        "agreeing local minima of 1.1353 at:\n",
        "[a,b] = [-0.2096, -0.3450], [width, length] = [4.2659, 5.0417], theta = 33.2003\n"
       ]
      },
      {
       "output_type": "stream",
       "stream": "stdout",
       "text": [
        "\n",
        " \n",
        "Cutout 6\n",
        "first local minima of 5.4735 at:\n",
        "[a,b] = [0.0644, 0.0319], [width, length] = [7.2451, 10.0629], theta = 25.8317\n"
       ]
      },
      {
       "output_type": "stream",
       "stream": "stdout",
       "text": [
        "\n",
        "agreeing local minima of 5.4735 at:\n",
        "[a,b] = [0.0644, 0.0319], [width, length] = [7.2451, 10.0629], theta = 25.8317\n"
       ]
      },
      {
       "output_type": "stream",
       "stream": "stdout",
       "text": [
        "\n",
        "agreeing local minima of 5.4735 at:\n",
        "[a,b] = [0.0644, 0.0319], [width, length] = [7.2451, 10.0629], theta = 25.8317\n"
       ]
      },
      {
       "output_type": "stream",
       "stream": "stdout",
       "text": [
        "\n",
        "agreeing local minima of 5.4735 at:\n",
        "[a,b] = [0.0644, 0.0319], [width, length] = [7.2451, 10.0629], theta = 25.8317\n"
       ]
      },
      {
       "output_type": "stream",
       "stream": "stdout",
       "text": [
        "\n",
        "agreeing local minima of 5.4735 at:\n",
        "[a,b] = [0.0644, 0.0319], [width, length] = [7.2451, 10.0629], theta = 25.8317\n"
       ]
      },
      {
       "output_type": "stream",
       "stream": "stdout",
       "text": [
        "\n",
        " \n",
        "Cutout 7\n",
        "first local minima of 4.8005 at:\n",
        "[a,b] = [0.4142, -0.6357], [width, length] = [6.1343, 10.9738], theta = 133.3008\n"
       ]
      },
      {
       "output_type": "stream",
       "stream": "stdout",
       "text": [
        "\n",
        "agreeing local minima of 4.8005 at:\n",
        "[a,b] = [0.4142, -0.6357], [width, length] = [6.1343, 10.9738], theta = 133.3008\n"
       ]
      },
      {
       "output_type": "stream",
       "stream": "stdout",
       "text": [
        "\n",
        "agreeing local minima of 4.8005 at:\n",
        "[a,b] = [0.4142, -0.6357], [width, length] = [6.1343, 10.9738], theta = 133.3008\n"
       ]
      },
      {
       "output_type": "stream",
       "stream": "stdout",
       "text": [
        "\n",
        "agreeing local minima of 4.8005 at:\n",
        "[a,b] = [0.4142, -0.6357], [width, length] = [6.1343, 10.9738], theta = 133.3008\n"
       ]
      },
      {
       "output_type": "stream",
       "stream": "stdout",
       "text": [
        "\n",
        "agreeing local minima of 4.8005 at:\n",
        "[a,b] = [0.4142, -0.6357], [width, length] = [6.1343, 10.9738], theta = 133.3008\n"
       ]
      },
      {
       "output_type": "stream",
       "stream": "stdout",
       "text": [
        "\n",
        " \n",
        "Cutout 8\n",
        "first local minima of 1.8936 at:\n",
        "[a,b] = [-0.3462, 0.3640], [width, length] = [6.9149, 7.8048], theta = 81.1617\n"
       ]
      },
      {
       "output_type": "stream",
       "stream": "stdout",
       "text": [
        "\n",
        "agreeing local minima of 1.8936 at:\n",
        "[a,b] = [-0.3462, 0.3640], [width, length] = [6.9149, 7.8048], theta = 81.1617\n"
       ]
      },
      {
       "output_type": "stream",
       "stream": "stdout",
       "text": [
        "\n",
        "agreeing local minima of 1.8936 at:\n",
        "[a,b] = [-0.3462, 0.3640], [width, length] = [6.9149, 7.8048], theta = 81.1617\n"
       ]
      },
      {
       "output_type": "stream",
       "stream": "stdout",
       "text": [
        "\n",
        "agreeing local minima of 1.8936 at:\n",
        "[a,b] = [-0.3462, 0.3640], [width, length] = [6.9149, 7.8048], theta = 81.1617\n"
       ]
      },
      {
       "output_type": "stream",
       "stream": "stdout",
       "text": [
        "\n",
        "agreeing local minima of 1.8936 at:\n",
        "[a,b] = [-0.3462, 0.3640], [width, length] = [6.9149, 7.8048], theta = 81.1617\n"
       ]
      },
      {
       "output_type": "stream",
       "stream": "stdout",
       "text": [
        "\n",
        " \n",
        "Cutout 9\n",
        "first local minima of 2.5828 at:\n",
        "[a,b] = [-0.5621, -0.3841], [width, length] = [7.9155, 8.0421], theta = 120.1049\n"
       ]
      },
      {
       "output_type": "stream",
       "stream": "stdout",
       "text": [
        "\n",
        "rejected local minima of 2.5839 at:\n",
        "[a,b] = [-0.5644, -0.3822], [width, length] = [7.9085, 8.0455], theta = 132.2864\n"
       ]
      },
      {
       "output_type": "stream",
       "stream": "stdout",
       "text": [
        "\n",
        "rejected local minima of 2.5839 at:\n",
        "[a,b] = [-0.5644, -0.3822], [width, length] = [7.9085, 8.0455], theta = 132.2865\n"
       ]
      },
      {
       "output_type": "stream",
       "stream": "stdout",
       "text": [
        "\n",
        "rejected local minima of 2.5884 at:\n",
        "[a,b] = [-0.5644, -0.3821], [width, length] = [7.9058, 8.0518], theta = 137.8541\n"
       ]
      },
      {
       "output_type": "stream",
       "stream": "stdout",
       "text": [
        "\n",
        "rejected local minima of 2.5884 at:\n",
        "[a,b] = [-0.5644, -0.3821], [width, length] = [7.9058, 8.0518], theta = 137.8542\n"
       ]
      },
      {
       "output_type": "stream",
       "stream": "stdout",
       "text": [
        "\n",
        "rejected local minima of 2.5887 at:\n",
        "[a,b] = [-0.5590, -0.3888], [width, length] = [7.9257, 8.0449], theta = 109.4530\n"
       ]
      },
      {
       "output_type": "stream",
       "stream": "stdout",
       "text": [
        "\n",
        "new local minima of 2.5819 at:\n",
        "[a,b] = [-0.5626, -0.3854], [width, length] = [7.9133, 8.0433], theta = 123.8224\n"
       ]
      },
      {
       "output_type": "stream",
       "stream": "stdout",
       "text": [
        "\n",
        "rejected local minima of 2.5884 at:\n",
        "[a,b] = [-0.5644, -0.3821], [width, length] = [7.9058, 8.0518], theta = 137.8541\n"
       ]
      },
      {
       "output_type": "stream",
       "stream": "stdout",
       "text": [
        "\n",
        "rejected local minima of 2.5839 at:\n",
        "[a,b] = [-0.5644, -0.3822], [width, length] = [7.9085, 8.0455], theta = 132.2865\n"
       ]
      },
      {
       "output_type": "stream",
       "stream": "stdout",
       "text": [
        "\n",
        "rejected local minima of 2.5849 at:\n",
        "[a,b] = [-0.5607, -0.3863], [width, length] = [7.9205, 8.0428], theta = 114.7859\n"
       ]
      },
      {
       "output_type": "stream",
       "stream": "stdout",
       "text": [
        "\n",
        "rejected local minima of 2.5884 at:\n",
        "[a,b] = [-0.5644, -0.3821], [width, length] = [7.9058, 8.0518], theta = 137.8541\n"
       ]
      },
      {
       "output_type": "stream",
       "stream": "stdout",
       "text": [
        "\n",
        "rejected local minima of 2.5884 at:\n",
        "[a,b] = [-0.5644, -0.3821], [width, length] = [7.9058, 8.0518], theta = 137.8542\n"
       ]
      },
      {
       "output_type": "stream",
       "stream": "stdout",
       "text": [
        "\n",
        "rejected local minima of 2.5827 at:\n",
        "[a,b] = [-0.5636, -0.3835], [width, length] = [7.9114, 8.0449], theta = 129.1485\n"
       ]
      },
      {
       "output_type": "stream",
       "stream": "stdout",
       "text": [
        "\n",
        "rejected local minima of 2.5887 at:\n",
        "[a,b] = [-0.5590, -0.3888], [width, length] = [7.9257, 8.0449], theta = 109.4529\n"
       ]
      },
      {
       "output_type": "stream",
       "stream": "stdout",
       "text": [
        "\n",
        "rejected local minima of 2.5884 at:\n",
        "[a,b] = [-0.5644, -0.3821], [width, length] = [7.9058, 8.0518], theta = 137.8542\n"
       ]
      },
      {
       "output_type": "stream",
       "stream": "stdout",
       "text": [
        "\n",
        "agreeing local minima of 2.5819 at:\n",
        "[a,b] = [-0.5626, -0.3854], [width, length] = [7.9133, 8.0433], theta = 123.8224\n"
       ]
      },
      {
       "output_type": "stream",
       "stream": "stdout",
       "text": [
        "\n",
        "rejected local minima of 2.5884 at:\n",
        "[a,b] = [-0.5644, -0.3821], [width, length] = [7.9058, 8.0518], theta = 137.8542\n"
       ]
      },
      {
       "output_type": "stream",
       "stream": "stdout",
       "text": [
        "\n",
        "rejected local minima of 2.5828 at:\n",
        "[a,b] = [-0.5621, -0.3841], [width, length] = [7.9155, 8.0421], theta = 120.1051\n"
       ]
      },
      {
       "output_type": "stream",
       "stream": "stdout",
       "text": [
        "\n",
        "rejected local minima of 2.5884 at:\n",
        "[a,b] = [-0.5644, -0.3821], [width, length] = [7.9058, 8.0518], theta = 137.8541\n"
       ]
      },
      {
       "output_type": "stream",
       "stream": "stdout",
       "text": [
        "\n",
        "rejected local minima of 2.5824 at:\n",
        "[a,b] = [-0.5637, -0.3827], [width, length] = [7.9118, 8.0421], theta = 126.6998\n"
       ]
      },
      {
       "output_type": "stream",
       "stream": "stdout",
       "text": [
        "\n",
        "rejected local minima of 2.5884 at:\n",
        "[a,b] = [-0.5644, -0.3821], [width, length] = [7.9058, 8.0518], theta = 137.8542\n"
       ]
      },
      {
       "output_type": "stream",
       "stream": "stdout",
       "text": [
        "\n",
        "rejected local minima of 2.5884 at:\n",
        "[a,b] = [-0.5644, -0.3821], [width, length] = [7.9058, 8.0518], theta = 137.8542\n"
       ]
      },
      {
       "output_type": "stream",
       "stream": "stdout",
       "text": [
        "\n",
        "rejected local minima of 2.5884 at:\n",
        "[a,b] = [-0.5644, -0.3821], [width, length] = [7.9058, 8.0518], theta = 137.8541\n"
       ]
      },
      {
       "output_type": "stream",
       "stream": "stdout",
       "text": [
        "\n",
        "rejected local minima of 2.5849 at:\n",
        "[a,b] = [-0.5607, -0.3863], [width, length] = [7.9205, 8.0428], theta = 114.7858\n"
       ]
      },
      {
       "output_type": "stream",
       "stream": "stdout",
       "text": [
        "\n",
        "rejected local minima of 2.5824 at:\n",
        "[a,b] = [-0.5637, -0.3827], [width, length] = [7.9118, 8.0421], theta = 126.6997\n"
       ]
      },
      {
       "output_type": "stream",
       "stream": "stdout",
       "text": [
        "\n",
        "rejected local minima of 2.5884 at:\n",
        "[a,b] = [-0.5644, -0.3821], [width, length] = [7.9058, 8.0518], theta = 137.8541\n"
       ]
      },
      {
       "output_type": "stream",
       "stream": "stdout",
       "text": [
        "\n",
        "rejected local minima of 2.5824 at:\n",
        "[a,b] = [-0.5637, -0.3827], [width, length] = [7.9118, 8.0421], theta = 126.6996\n"
       ]
      },
      {
       "output_type": "stream",
       "stream": "stdout",
       "text": [
        "\n",
        "rejected local minima of 2.5839 at:\n",
        "[a,b] = [-0.5644, -0.3822], [width, length] = [7.9085, 8.0455], theta = 132.2865\n"
       ]
      },
      {
       "output_type": "stream",
       "stream": "stdout",
       "text": [
        "\n",
        "rejected local minima of 2.5827 at:\n",
        "[a,b] = [-0.5636, -0.3835], [width, length] = [7.9114, 8.0449], theta = 129.1485\n"
       ]
      },
      {
       "output_type": "stream",
       "stream": "stdout",
       "text": [
        "\n",
        "rejected local minima of 2.5887 at:\n",
        "[a,b] = [-0.5590, -0.3888], [width, length] = [7.9257, 8.0449], theta = 109.4530\n"
       ]
      },
      {
       "output_type": "stream",
       "stream": "stdout",
       "text": [
        "\n",
        "rejected local minima of 2.5849 at:\n",
        "[a,b] = [-0.5607, -0.3863], [width, length] = [7.9205, 8.0428], theta = 114.7859\n"
       ]
      },
      {
       "output_type": "stream",
       "stream": "stdout",
       "text": [
        "\n",
        "rejected local minima of 2.5827 at:\n",
        "[a,b] = [-0.5636, -0.3835], [width, length] = [7.9114, 8.0449], theta = 129.1485\n"
       ]
      },
      {
       "output_type": "stream",
       "stream": "stdout",
       "text": [
        "\n",
        "rejected local minima of 2.5849 at:\n",
        "[a,b] = [-0.5607, -0.3863], [width, length] = [7.9205, 8.0428], theta = 114.7858\n"
       ]
      },
      {
       "output_type": "stream",
       "stream": "stdout",
       "text": [
        "\n",
        "rejected local minima of 2.5884 at:\n",
        "[a,b] = [-0.5644, -0.3821], [width, length] = [7.9058, 8.0518], theta = 137.8542\n"
       ]
      },
      {
       "output_type": "stream",
       "stream": "stdout",
       "text": [
        "\n",
        "rejected local minima of 2.5849 at:\n",
        "[a,b] = [-0.5607, -0.3863], [width, length] = [7.9205, 8.0428], theta = 114.7858\n"
       ]
      },
      {
       "output_type": "stream",
       "stream": "stdout",
       "text": [
        "\n",
        "agreeing local minima of 2.5819 at:\n",
        "[a,b] = [-0.5626, -0.3855], [width, length] = [7.9136, 8.0433], theta = 123.8223\n"
       ]
      },
      {
       "output_type": "stream",
       "stream": "stdout",
       "text": [
        "\n",
        "rejected local minima of 2.5827 at:\n",
        "[a,b] = [-0.5636, -0.3835], [width, length] = [7.9114, 8.0449], theta = 129.1485\n"
       ]
      },
      {
       "output_type": "stream",
       "stream": "stdout",
       "text": [
        "\n",
        "rejected local minima of 2.5849 at:\n",
        "[a,b] = [-0.5607, -0.3863], [width, length] = [7.9205, 8.0428], theta = 114.7858\n"
       ]
      },
      {
       "output_type": "stream",
       "stream": "stdout",
       "text": [
        "\n",
        "rejected local minima of 2.5824 at:\n",
        "[a,b] = [-0.5637, -0.3827], [width, length] = [7.9118, 8.0421], theta = 126.6996\n"
       ]
      },
      {
       "output_type": "stream",
       "stream": "stdout",
       "text": [
        "\n",
        "rejected local minima of 2.5849 at:\n",
        "[a,b] = [-0.5607, -0.3863], [width, length] = [7.9205, 8.0428], theta = 114.7857\n"
       ]
      },
      {
       "output_type": "stream",
       "stream": "stdout",
       "text": [
        "\n",
        "rejected local minima of 2.6465 at:\n",
        "[a,b] = [-0.5527, -0.3891], [width, length] = [8.0089, 8.0162], theta = 81.3524\n"
       ]
      },
      {
       "output_type": "stream",
       "stream": "stdout",
       "text": [
        "\n",
        "agreeing local minima of 2.5819 at:\n",
        "[a,b] = [-0.5627, -0.3853], [width, length] = [7.9134, 8.0432], theta = 123.8224\n"
       ]
      },
      {
       "output_type": "stream",
       "stream": "stdout",
       "text": [
        "\n",
        "rejected local minima of 2.5849 at:\n",
        "[a,b] = [-0.5607, -0.3863], [width, length] = [7.9205, 8.0428], theta = 114.7858\n"
       ]
      },
      {
       "output_type": "stream",
       "stream": "stdout",
       "text": [
        "\n",
        "rejected local minima of 2.5849 at:\n",
        "[a,b] = [-0.5607, -0.3863], [width, length] = [7.9205, 8.0428], theta = 114.7858\n"
       ]
      },
      {
       "output_type": "stream",
       "stream": "stdout",
       "text": [
        "\n",
        "rejected local minima of 2.5884 at:\n",
        "[a,b] = [-0.5644, -0.3821], [width, length] = [7.9058, 8.0518], theta = 137.8542\n"
       ]
      },
      {
       "output_type": "stream",
       "stream": "stdout",
       "text": [
        "\n",
        "rejected local minima of 2.5849 at:\n",
        "[a,b] = [-0.5607, -0.3863], [width, length] = [7.9205, 8.0428], theta = 114.7858\n"
       ]
      },
      {
       "output_type": "stream",
       "stream": "stdout",
       "text": [
        "\n",
        "rejected local minima of 2.5887 at:\n",
        "[a,b] = [-0.5590, -0.3888], [width, length] = [7.9257, 8.0449], theta = 109.4530\n"
       ]
      },
      {
       "output_type": "stream",
       "stream": "stdout",
       "text": [
        "\n",
        "rejected local minima of 2.5884 at:\n",
        "[a,b] = [-0.5644, -0.3821], [width, length] = [7.9058, 8.0518], theta = 137.8541\n"
       ]
      },
      {
       "output_type": "stream",
       "stream": "stdout",
       "text": [
        "\n",
        "rejected local minima of 2.5849 at:\n",
        "[a,b] = [-0.5607, -0.3863], [width, length] = [7.9205, 8.0428], theta = 114.7859\n"
       ]
      },
      {
       "output_type": "stream",
       "stream": "stdout",
       "text": [
        "\n",
        "rejected local minima of 2.5828 at:\n",
        "[a,b] = [-0.5621, -0.3841], [width, length] = [7.9155, 8.0421], theta = 120.1051\n"
       ]
      },
      {
       "output_type": "stream",
       "stream": "stdout",
       "text": [
        "\n",
        "rejected local minima of 2.5884 at:\n",
        "[a,b] = [-0.5644, -0.3821], [width, length] = [7.9058, 8.0518], theta = 137.8542\n"
       ]
      },
      {
       "output_type": "stream",
       "stream": "stdout",
       "text": [
        "\n",
        "rejected local minima of 2.5839 at:\n",
        "[a,b] = [-0.5644, -0.3822], [width, length] = [7.9085, 8.0455], theta = 132.2864\n"
       ]
      },
      {
       "output_type": "stream",
       "stream": "stdout",
       "text": [
        "\n",
        "rejected local minima of 2.5887 at:\n",
        "[a,b] = [-0.5590, -0.3888], [width, length] = [7.9257, 8.0449], theta = 109.4530\n"
       ]
      },
      {
       "output_type": "stream",
       "stream": "stdout",
       "text": [
        "\n",
        "rejected local minima of 2.5884 at:\n",
        "[a,b] = [-0.5644, -0.3821], [width, length] = [7.9058, 8.0518], theta = 137.8542\n"
       ]
      },
      {
       "output_type": "stream",
       "stream": "stdout",
       "text": [
        "\n",
        "rejected local minima of 2.5828 at:\n",
        "[a,b] = [-0.5621, -0.3841], [width, length] = [7.9155, 8.0421], theta = 120.1052\n"
       ]
      },
      {
       "output_type": "stream",
       "stream": "stdout",
       "text": [
        "\n",
        "rejected local minima of 2.5884 at:\n",
        "[a,b] = [-0.5644, -0.3821], [width, length] = [7.9058, 8.0518], theta = 137.8542\n"
       ]
      },
      {
       "output_type": "stream",
       "stream": "stdout",
       "text": [
        "\n",
        "rejected local minima of 2.5849 at:\n",
        "[a,b] = [-0.5607, -0.3863], [width, length] = [7.9205, 8.0428], theta = 114.7858\n"
       ]
      },
      {
       "output_type": "stream",
       "stream": "stdout",
       "text": [
        "\n",
        "rejected local minima of 2.5884 at:\n",
        "[a,b] = [-0.5644, -0.3821], [width, length] = [7.9058, 8.0518], theta = 137.8541\n"
       ]
      },
      {
       "output_type": "stream",
       "stream": "stdout",
       "text": [
        "\n",
        "rejected local minima of 2.5839 at:\n",
        "[a,b] = [-0.5644, -0.3822], [width, length] = [7.9085, 8.0455], theta = 132.2863\n"
       ]
      },
      {
       "output_type": "stream",
       "stream": "stdout",
       "text": [
        "\n",
        "rejected local minima of 2.5828 at:\n",
        "[a,b] = [-0.5621, -0.3841], [width, length] = [7.9155, 8.0421], theta = 120.1051\n"
       ]
      },
      {
       "output_type": "stream",
       "stream": "stdout",
       "text": [
        "\n",
        "rejected local minima of 2.5824 at:\n",
        "[a,b] = [-0.5637, -0.3827], [width, length] = [7.9118, 8.0421], theta = 126.6997\n"
       ]
      },
      {
       "output_type": "stream",
       "stream": "stdout",
       "text": [
        "\n",
        "rejected local minima of 2.5849 at:\n",
        "[a,b] = [-0.5607, -0.3863], [width, length] = [7.9205, 8.0428], theta = 114.7860\n"
       ]
      },
      {
       "output_type": "stream",
       "stream": "stdout",
       "text": [
        "\n",
        "rejected local minima of 2.5887 at:\n",
        "[a,b] = [-0.5590, -0.3888], [width, length] = [7.9257, 8.0449], theta = 109.4530\n"
       ]
      },
      {
       "output_type": "stream",
       "stream": "stdout",
       "text": [
        "\n",
        "rejected local minima of 2.5884 at:\n",
        "[a,b] = [-0.5644, -0.3821], [width, length] = [7.9058, 8.0518], theta = 137.8542\n"
       ]
      },
      {
       "output_type": "stream",
       "stream": "stdout",
       "text": [
        "\n",
        "rejected local minima of 2.5887 at:\n",
        "[a,b] = [-0.5590, -0.3888], [width, length] = [7.9257, 8.0449], theta = 109.4530\n"
       ]
      },
      {
       "output_type": "stream",
       "stream": "stdout",
       "text": [
        "\n",
        "agreeing local minima of 2.5819 at:\n",
        "[a,b] = [-0.5626, -0.3854], [width, length] = [7.9133, 8.0433], theta = 123.8224\n"
       ]
      },
      {
       "output_type": "stream",
       "stream": "stdout",
       "text": [
        "\n",
        " \n",
        "Cutout 10\n",
        "first local minima of 4.3875 at:\n",
        "[a,b] = [-0.3598, -0.8056], [width, length] = [6.4437, 7.4023], theta = 73.5584\n"
       ]
      },
      {
       "output_type": "stream",
       "stream": "stdout",
       "text": [
        "\n",
        "agreeing local minima of 4.3875 at:\n",
        "[a,b] = [-0.3598, -0.8056], [width, length] = [6.4437, 7.4023], theta = 73.5584\n"
       ]
      },
      {
       "output_type": "stream",
       "stream": "stdout",
       "text": [
        "\n",
        "agreeing local minima of 4.3875 at:\n",
        "[a,b] = [-0.3598, -0.8056], [width, length] = [6.4437, 7.4023], theta = 73.5584\n"
       ]
      },
      {
       "output_type": "stream",
       "stream": "stdout",
       "text": [
        "\n",
        "agreeing local minima of 4.3875 at:\n",
        "[a,b] = [-0.3598, -0.8056], [width, length] = [6.4437, 7.4023], theta = 73.5583\n"
       ]
      },
      {
       "output_type": "stream",
       "stream": "stdout",
       "text": [
        "\n",
        "agreeing local minima of 4.3875 at:\n",
        "[a,b] = [-0.3598, -0.8056], [width, length] = [6.4437, 7.4023], theta = 73.5584\n"
       ]
      },
      {
       "output_type": "stream",
       "stream": "stdout",
       "text": [
        "\n",
        " \n",
        "Cutout 11\n",
        "first local minima of 2.1979 at:\n",
        "[a,b] = [0.3149, -0.3283], [width, length] = [6.8556, 8.0168], theta = 115.1444\n"
       ]
      },
      {
       "output_type": "stream",
       "stream": "stdout",
       "text": [
        "\n",
        "agreeing local minima of 2.1979 at:\n",
        "[a,b] = [0.3149, -0.3283], [width, length] = [6.8556, 8.0168], theta = 115.1444\n"
       ]
      },
      {
       "output_type": "stream",
       "stream": "stdout",
       "text": [
        "\n",
        "agreeing local minima of 2.1979 at:\n",
        "[a,b] = [0.3149, -0.3283], [width, length] = [6.8556, 8.0168], theta = 115.1444\n"
       ]
      },
      {
       "output_type": "stream",
       "stream": "stdout",
       "text": [
        "\n",
        "agreeing local minima of 2.1979 at:\n",
        "[a,b] = [0.3149, -0.3283], [width, length] = [6.8556, 8.0168], theta = 115.1444\n"
       ]
      },
      {
       "output_type": "stream",
       "stream": "stdout",
       "text": [
        "\n",
        "agreeing local minima of 2.1979 at:\n",
        "[a,b] = [0.3149, -0.3283], [width, length] = [6.8556, 8.0168], theta = 115.1444\n"
       ]
      },
      {
       "output_type": "stream",
       "stream": "stdout",
       "text": [
        "\n",
        " \n",
        "Cutout 12\n",
        "first local minima of 3.0051 at:\n",
        "[a,b] = [-0.0513, 0.4143], [width, length] = [7.9120, 8.2539], theta = 19.7696\n"
       ]
      },
      {
       "output_type": "stream",
       "stream": "stdout",
       "text": [
        "\n",
        "agreeing local minima of 3.0051 at:\n",
        "[a,b] = [-0.0513, 0.4143], [width, length] = [7.9120, 8.2539], theta = 19.7694\n"
       ]
      },
      {
       "output_type": "stream",
       "stream": "stdout",
       "text": [
        "\n",
        "agreeing local minima of 3.0051 at:\n",
        "[a,b] = [-0.0513, 0.4143], [width, length] = [7.9120, 8.2539], theta = 19.7695\n"
       ]
      },
      {
       "output_type": "stream",
       "stream": "stdout",
       "text": [
        "\n",
        "agreeing local minima of 3.0051 at:\n",
        "[a,b] = [-0.0513, 0.4143], [width, length] = [7.9120, 8.2539], theta = 19.7696\n"
       ]
      },
      {
       "output_type": "stream",
       "stream": "stdout",
       "text": [
        "\n",
        "agreeing local minima of 3.0051 at:\n",
        "[a,b] = [-0.0513, 0.4143], [width, length] = [7.9120, 8.2539], theta = 19.7695\n"
       ]
      },
      {
       "output_type": "stream",
       "stream": "stdout",
       "text": [
        "\n",
        " \n",
        "Cutout 13\n",
        "first local minima of 7.0234 at:\n",
        "[a,b] = [-1.2489, 0.5514], [width, length] = [7.0416, 10.1494], theta = 17.4692\n"
       ]
      },
      {
       "output_type": "stream",
       "stream": "stdout",
       "text": [
        "\n",
        "agreeing local minima of 7.0234 at:\n",
        "[a,b] = [-1.2489, 0.5514], [width, length] = [7.0416, 10.1494], theta = 17.4692\n"
       ]
      },
      {
       "output_type": "stream",
       "stream": "stdout",
       "text": [
        "\n",
        "agreeing local minima of 7.0234 at:\n",
        "[a,b] = [-1.2489, 0.5514], [width, length] = [7.0416, 10.1494], theta = 17.4692\n"
       ]
      },
      {
       "output_type": "stream",
       "stream": "stdout",
       "text": [
        "\n",
        "agreeing local minima of 7.0234 at:\n",
        "[a,b] = [-1.2489, 0.5514], [width, length] = [7.0416, 10.1494], theta = 17.4692\n"
       ]
      },
      {
       "output_type": "stream",
       "stream": "stdout",
       "text": [
        "\n",
        "agreeing local minima of 7.0234 at:\n",
        "[a,b] = [-1.2489, 0.5514], [width, length] = [7.0416, 10.1494], theta = 17.4692\n"
       ]
      },
      {
       "output_type": "stream",
       "stream": "stdout",
       "text": [
        "\n",
        " \n",
        "Cutout 14\n",
        "first local minima of 2.2256 at:\n",
        "[a,b] = [0.2034, -0.4243], [width, length] = [4.5075, 4.9174], theta = 158.7219\n"
       ]
      },
      {
       "output_type": "stream",
       "stream": "stdout",
       "text": [
        "\n",
        "agreeing local minima of 2.2256 at:\n",
        "[a,b] = [0.2034, -0.4243], [width, length] = [4.5075, 4.9174], theta = 158.7219\n"
       ]
      },
      {
       "output_type": "stream",
       "stream": "stdout",
       "text": [
        "\n",
        "agreeing local minima of 2.2256 at:\n",
        "[a,b] = [0.2034, -0.4243], [width, length] = [4.5075, 4.9174], theta = 158.7219\n"
       ]
      },
      {
       "output_type": "stream",
       "stream": "stdout",
       "text": [
        "\n",
        "agreeing local minima of 2.2256 at:\n",
        "[a,b] = [0.2034, -0.4243], [width, length] = [4.5075, 4.9174], theta = 158.7219\n"
       ]
      },
      {
       "output_type": "stream",
       "stream": "stdout",
       "text": [
        "\n",
        "agreeing local minima of 2.2256 at:\n",
        "[a,b] = [0.2034, -0.4243], [width, length] = [4.5075, 4.9174], theta = 158.7219\n"
       ]
      },
      {
       "output_type": "stream",
       "stream": "stdout",
       "text": [
        "\n",
        " \n",
        "Cutout 15\n",
        "first local minima of 3.7452 at:\n",
        "[a,b] = [0.0360, -0.0455], [width, length] = [9.4582, 10.9555], theta = 109.8214\n"
       ]
      },
      {
       "output_type": "stream",
       "stream": "stdout",
       "text": [
        "\n",
        "agreeing local minima of 3.7452 at:\n",
        "[a,b] = [0.0359, -0.0456], [width, length] = [9.4582, 10.9553], theta = 109.8214\n"
       ]
      },
      {
       "output_type": "stream",
       "stream": "stdout",
       "text": [
        "\n",
        "agreeing local minima of 3.7452 at:\n",
        "[a,b] = [0.0360, -0.0455], [width, length] = [9.4582, 10.9555], theta = 109.8214\n"
       ]
      },
      {
       "output_type": "stream",
       "stream": "stdout",
       "text": [
        "\n",
        "agreeing local minima of 3.7452 at:\n",
        "[a,b] = [0.0360, -0.0455], [width, length] = [9.4582, 10.9555], theta = 109.8213\n"
       ]
      },
      {
       "output_type": "stream",
       "stream": "stdout",
       "text": [
        "\n",
        "agreeing local minima of 3.7452 at:\n",
        "[a,b] = [0.0360, -0.0455], [width, length] = [9.4582, 10.9555], theta = 109.8214\n"
       ]
      },
      {
       "output_type": "stream",
       "stream": "stdout",
       "text": [
        "\n",
        " \n",
        "Cutout 16\n",
        "first local minima of 4.6468 at:\n",
        "[a,b] = [0.2397, -0.1871], [width, length] = [6.1770, 10.2355], theta = 171.0251\n"
       ]
      },
      {
       "output_type": "stream",
       "stream": "stdout",
       "text": [
        "\n",
        "agreeing local minima of 4.6468 at:\n",
        "[a,b] = [0.2397, -0.1871], [width, length] = [6.1770, 10.2355], theta = 171.0251\n"
       ]
      },
      {
       "output_type": "stream",
       "stream": "stdout",
       "text": [
        "\n",
        "agreeing local minima of 4.6468 at:\n",
        "[a,b] = [0.2397, -0.1871], [width, length] = [6.1770, 10.2355], theta = 171.0251\n"
       ]
      },
      {
       "output_type": "stream",
       "stream": "stdout",
       "text": [
        "\n",
        "agreeing local minima of 4.6468 at:\n",
        "[a,b] = [0.2397, -0.1871], [width, length] = [6.1770, 10.2355], theta = 171.0251\n"
       ]
      },
      {
       "output_type": "stream",
       "stream": "stdout",
       "text": [
        "\n",
        "agreeing local minima of 4.6468 at:\n",
        "[a,b] = [0.2397, -0.1871], [width, length] = [6.1770, 10.2355], theta = 171.0251\n"
       ]
      },
      {
       "output_type": "stream",
       "stream": "stdout",
       "text": [
        "\n",
        " \n",
        "Cutout 17\n",
        "first local minima of 6.5215 at:\n",
        "[a,b] = [0.3862, -0.2423], [width, length] = [7.9129, 10.4434], theta = 102.5442\n"
       ]
      },
      {
       "output_type": "stream",
       "stream": "stdout",
       "text": [
        "\n",
        "agreeing local minima of 6.5215 at:\n",
        "[a,b] = [0.3862, -0.2423], [width, length] = [7.9129, 10.4434], theta = 102.5443\n"
       ]
      },
      {
       "output_type": "stream",
       "stream": "stdout",
       "text": [
        "\n",
        "agreeing local minima of 6.5215 at:\n",
        "[a,b] = [0.3862, -0.2423], [width, length] = [7.9129, 10.4434], theta = 102.5442\n"
       ]
      },
      {
       "output_type": "stream",
       "stream": "stdout",
       "text": [
        "\n",
        "agreeing local minima of 6.5215 at:\n",
        "[a,b] = [0.3862, -0.2423], [width, length] = [7.9129, 10.4434], theta = 102.5442\n"
       ]
      },
      {
       "output_type": "stream",
       "stream": "stdout",
       "text": [
        "\n",
        "agreeing local minima of 6.5215 at:\n",
        "[a,b] = [0.3862, -0.2423], [width, length] = [7.9129, 10.4434], theta = 102.5442\n"
       ]
      },
      {
       "output_type": "stream",
       "stream": "stdout",
       "text": [
        "\n",
        " \n",
        "Cutout 18\n",
        "first local minima of 7.7841 at:\n",
        "[a,b] = [-0.0483, -0.1856], [width, length] = [7.6376, 9.5604], theta = 54.7722\n"
       ]
      },
      {
       "output_type": "stream",
       "stream": "stdout",
       "text": [
        "\n",
        "agreeing local minima of 7.7841 at:\n",
        "[a,b] = [-0.0483, -0.1856], [width, length] = [7.6376, 9.5604], theta = 54.7720\n"
       ]
      },
      {
       "output_type": "stream",
       "stream": "stdout",
       "text": [
        "\n",
        "agreeing local minima of 7.7841 at:\n",
        "[a,b] = [-0.0483, -0.1856], [width, length] = [7.6376, 9.5604], theta = 54.7720\n"
       ]
      },
      {
       "output_type": "stream",
       "stream": "stdout",
       "text": [
        "\n",
        "agreeing local minima of 7.7841 at:\n",
        "[a,b] = [-0.0483, -0.1856], [width, length] = [7.6376, 9.5604], theta = 54.7721\n"
       ]
      },
      {
       "output_type": "stream",
       "stream": "stdout",
       "text": [
        "\n",
        "agreeing local minima of 7.7841 at:\n",
        "[a,b] = [-0.0483, -0.1856], [width, length] = [7.6376, 9.5604], theta = 54.7720\n"
       ]
      },
      {
       "output_type": "stream",
       "stream": "stdout",
       "text": [
        "\n",
        " \n",
        "Cutout 19\n",
        "first local minima of 4.4156 at:\n",
        "[a,b] = [0.2554, 0.2908], [width, length] = [5.8049, 10.1762], theta = 84.8465\n"
       ]
      },
      {
       "output_type": "stream",
       "stream": "stdout",
       "text": [
        "\n",
        "agreeing local minima of 4.4156 at:\n",
        "[a,b] = [0.2554, 0.2908], [width, length] = [5.8049, 10.1762], theta = 84.8465\n"
       ]
      },
      {
       "output_type": "stream",
       "stream": "stdout",
       "text": [
        "\n",
        "agreeing local minima of 4.4156 at:\n",
        "[a,b] = [0.2554, 0.2908], [width, length] = [5.8049, 10.1762], theta = 84.8465\n"
       ]
      },
      {
       "output_type": "stream",
       "stream": "stdout",
       "text": [
        "\n",
        "agreeing local minima of 4.4156 at:\n",
        "[a,b] = [0.2554, 0.2908], [width, length] = [5.8049, 10.1762], theta = 84.8465\n"
       ]
      },
      {
       "output_type": "stream",
       "stream": "stdout",
       "text": [
        "\n",
        "agreeing local minima of 4.4156 at:\n",
        "[a,b] = [0.2554, 0.2908], [width, length] = [5.8049, 10.1762], theta = 84.8465\n"
       ]
      },
      {
       "output_type": "stream",
       "stream": "stdout",
       "text": [
        "\n",
        " \n",
        "Cutout 20\n",
        "first local minima of 1.1353 at:\n",
        "[a,b] = [-0.2096, -0.3450], [width, length] = [4.2659, 5.0417], theta = 33.2003\n"
       ]
      },
      {
       "output_type": "stream",
       "stream": "stdout",
       "text": [
        "\n",
        "agreeing local minima of 1.1353 at:\n",
        "[a,b] = [-0.2096, -0.3450], [width, length] = [4.2659, 5.0417], theta = 33.2003\n"
       ]
      },
      {
       "output_type": "stream",
       "stream": "stdout",
       "text": [
        "\n",
        "agreeing local minima of 1.1353 at:\n",
        "[a,b] = [-0.2096, -0.3450], [width, length] = [4.2659, 5.0417], theta = 33.2003\n"
       ]
      },
      {
       "output_type": "stream",
       "stream": "stdout",
       "text": [
        "\n",
        "agreeing local minima of 1.1353 at:\n",
        "[a,b] = [-0.2096, -0.3450], [width, length] = [4.2659, 5.0417], theta = 33.2003\n"
       ]
      },
      {
       "output_type": "stream",
       "stream": "stdout",
       "text": [
        "\n",
        "agreeing local minima of 1.1353 at:\n",
        "[a,b] = [-0.2096, -0.3450], [width, length] = [4.2659, 5.0417], theta = 33.2003\n"
       ]
      },
      {
       "output_type": "stream",
       "stream": "stdout",
       "text": [
        "\n",
        " \n",
        "Cutout 21\n",
        "first local minima of 3.2438 at:\n",
        "[a,b] = [0.0986, 0.0051], [width, length] = [7.5409, 12.4441], theta = 64.3564\n"
       ]
      },
      {
       "output_type": "stream",
       "stream": "stdout",
       "text": [
        "\n",
        "agreeing local minima of 3.2438 at:\n",
        "[a,b] = [0.0986, 0.0051], [width, length] = [7.5409, 12.4441], theta = 64.3564\n"
       ]
      },
      {
       "output_type": "stream",
       "stream": "stdout",
       "text": [
        "\n",
        "agreeing local minima of 3.2438 at:\n",
        "[a,b] = [0.0986, 0.0051], [width, length] = [7.5409, 12.4441], theta = 64.3564\n"
       ]
      },
      {
       "output_type": "stream",
       "stream": "stdout",
       "text": [
        "\n",
        "agreeing local minima of 3.2438 at:\n",
        "[a,b] = [0.0986, 0.0051], [width, length] = [7.5409, 12.4441], theta = 64.3564\n"
       ]
      },
      {
       "output_type": "stream",
       "stream": "stdout",
       "text": [
        "\n",
        "agreeing local minima of 3.2438 at:\n",
        "[a,b] = [0.0986, 0.0051], [width, length] = [7.5409, 12.4441], theta = 64.3564\n"
       ]
      },
      {
       "output_type": "stream",
       "stream": "stdout",
       "text": [
        "\n",
        " \n",
        "Cutout 22\n",
        "first local minima of 4.7947 at:\n",
        "[a,b] = [-0.5953, -0.1552], [width, length] = [5.2164, 9.9196], theta = 123.1321\n"
       ]
      },
      {
       "output_type": "stream",
       "stream": "stdout",
       "text": [
        "\n",
        "agreeing local minima of 4.7947 at:\n",
        "[a,b] = [-0.5953, -0.1552], [width, length] = [5.2164, 9.9196], theta = 123.1321\n"
       ]
      },
      {
       "output_type": "stream",
       "stream": "stdout",
       "text": [
        "\n",
        "agreeing local minima of 4.7947 at:\n",
        "[a,b] = [-0.5953, -0.1552], [width, length] = [5.2164, 9.9196], theta = 123.1321\n"
       ]
      },
      {
       "output_type": "stream",
       "stream": "stdout",
       "text": [
        "\n",
        "agreeing local minima of 4.7947 at:\n",
        "[a,b] = [-0.5953, -0.1552], [width, length] = [5.2164, 9.9196], theta = 123.1321\n"
       ]
      },
      {
       "output_type": "stream",
       "stream": "stdout",
       "text": [
        "\n",
        "agreeing local minima of 4.7947 at:\n",
        "[a,b] = [-0.5953, -0.1552], [width, length] = [5.2164, 9.9196], theta = 123.1321\n"
       ]
      },
      {
       "output_type": "stream",
       "stream": "stdout",
       "text": [
        "\n",
        " \n",
        "Cutout 23\n",
        "first local minima of 6.0024 at:\n",
        "[a,b] = [-0.2000, 0.1000], [width, length] = [7.8175, 9.1177], theta = 178.2289\n"
       ]
      },
      {
       "output_type": "stream",
       "stream": "stdout",
       "text": [
        "\n",
        "agreeing local minima of 6.0024 at:\n",
        "[a,b] = [-0.2000, 0.1000], [width, length] = [7.8175, 9.1177], theta = 178.2288\n"
       ]
      },
      {
       "output_type": "stream",
       "stream": "stdout",
       "text": [
        "\n",
        "agreeing local minima of 6.0024 at:\n",
        "[a,b] = [-0.2000, 0.1000], [width, length] = [7.8175, 9.1177], theta = 178.2288\n"
       ]
      },
      {
       "output_type": "stream",
       "stream": "stdout",
       "text": [
        "\n",
        "agreeing local minima of 6.0024 at:\n",
        "[a,b] = [-0.2000, 0.1000], [width, length] = [7.8175, 9.1177], theta = 178.2289\n"
       ]
      },
      {
       "output_type": "stream",
       "stream": "stdout",
       "text": [
        "\n",
        "agreeing local minima of 6.0024 at:\n",
        "[a,b] = [-0.2000, 0.1000], [width, length] = [7.8175, 9.1177], theta = 178.2289\n"
       ]
      },
      {
       "output_type": "stream",
       "stream": "stdout",
       "text": [
        "\n",
        " \n",
        "Cutout 24\n",
        "first local minima of 7.1099 at:\n",
        "[a,b] = [0.0313, -0.1884], [width, length] = [9.1851, 11.0277], theta = 3.5286\n"
       ]
      },
      {
       "output_type": "stream",
       "stream": "stdout",
       "text": [
        "\n",
        "agreeing local minima of 7.1099 at:\n",
        "[a,b] = [0.0313, -0.1884], [width, length] = [9.1851, 11.0277], theta = 3.5286\n"
       ]
      },
      {
       "output_type": "stream",
       "stream": "stdout",
       "text": [
        "\n",
        "agreeing local minima of 7.1099 at:\n",
        "[a,b] = [0.0313, -0.1884], [width, length] = [9.1851, 11.0277], theta = 3.5287\n"
       ]
      },
      {
       "output_type": "stream",
       "stream": "stdout",
       "text": [
        "\n",
        "agreeing local minima of 7.1099 at:\n",
        "[a,b] = [0.0313, -0.1884], [width, length] = [9.1851, 11.0277], theta = 3.5286\n"
       ]
      },
      {
       "output_type": "stream",
       "stream": "stdout",
       "text": [
        "\n",
        "agreeing local minima of 7.1099 at:\n",
        "[a,b] = [0.0313, -0.1884], [width, length] = [9.1851, 11.0277], theta = 3.5286\n"
       ]
      },
      {
       "output_type": "stream",
       "stream": "stdout",
       "text": [
        "\n",
        " \n",
        "Cutout 25\n",
        "first local minima of 5.7138 at:\n",
        "[a,b] = [0.1043, 0.2378], [width, length] = [8.6407, 9.9496], theta = 85.0952\n"
       ]
      },
      {
       "output_type": "stream",
       "stream": "stdout",
       "text": [
        "\n",
        "agreeing local minima of 5.7138 at:\n",
        "[a,b] = [0.1043, 0.2378], [width, length] = [8.6407, 9.9496], theta = 85.0953\n"
       ]
      },
      {
       "output_type": "stream",
       "stream": "stdout",
       "text": [
        "\n",
        "agreeing local minima of 5.7138 at:\n",
        "[a,b] = [0.1043, 0.2378], [width, length] = [8.6407, 9.9496], theta = 85.0953\n"
       ]
      },
      {
       "output_type": "stream",
       "stream": "stdout",
       "text": [
        "\n",
        "agreeing local minima of 5.7138 at:\n",
        "[a,b] = [0.1043, 0.2378], [width, length] = [8.6407, 9.9496], theta = 85.0952\n"
       ]
      },
      {
       "output_type": "stream",
       "stream": "stdout",
       "text": [
        "\n",
        "agreeing local minima of 5.7138 at:\n",
        "[a,b] = [0.1043, 0.2378], [width, length] = [8.6407, 9.9496], theta = 85.0953\n"
       ]
      },
      {
       "output_type": "stream",
       "stream": "stdout",
       "text": [
        "\n",
        " \n",
        "Cutout 26\n",
        "first local minima of 6.5215 at:\n",
        "[a,b] = [0.3862, -0.2423], [width, length] = [7.9129, 10.4434], theta = 102.5442\n"
       ]
      },
      {
       "output_type": "stream",
       "stream": "stdout",
       "text": [
        "\n",
        "agreeing local minima of 6.5215 at:\n",
        "[a,b] = [0.3862, -0.2423], [width, length] = [7.9129, 10.4434], theta = 102.5443\n"
       ]
      },
      {
       "output_type": "stream",
       "stream": "stdout",
       "text": [
        "\n",
        "agreeing local minima of 6.5215 at:\n",
        "[a,b] = [0.3862, -0.2423], [width, length] = [7.9129, 10.4434], theta = 102.5442\n"
       ]
      },
      {
       "output_type": "stream",
       "stream": "stdout",
       "text": [
        "\n",
        "agreeing local minima of 6.5215 at:\n",
        "[a,b] = [0.3862, -0.2423], [width, length] = [7.9129, 10.4434], theta = 102.5442\n"
       ]
      },
      {
       "output_type": "stream",
       "stream": "stdout",
       "text": [
        "\n",
        "agreeing local minima of 6.5215 at:\n",
        "[a,b] = [0.3862, -0.2423], [width, length] = [7.9129, 10.4434], theta = 102.5442\n"
       ]
      },
      {
       "output_type": "stream",
       "stream": "stdout",
       "text": [
        "\n",
        " \n",
        "Cutout 27\n",
        "first local minima of 6.8404 at:\n",
        "[a,b] = [0.0524, -0.4177], [width, length] = [8.8452, 10.0732], theta = 102.2686\n"
       ]
      },
      {
       "output_type": "stream",
       "stream": "stdout",
       "text": [
        "\n",
        "agreeing local minima of 6.8404 at:\n",
        "[a,b] = [0.0524, -0.4177], [width, length] = [8.8452, 10.0732], theta = 102.2686\n"
       ]
      },
      {
       "output_type": "stream",
       "stream": "stdout",
       "text": [
        "\n",
        "agreeing local minima of 6.8404 at:\n",
        "[a,b] = [0.0524, -0.4177], [width, length] = [8.8452, 10.0732], theta = 102.2686\n"
       ]
      },
      {
       "output_type": "stream",
       "stream": "stdout",
       "text": [
        "\n",
        "agreeing local minima of 6.8404 at:\n",
        "[a,b] = [0.0524, -0.4177], [width, length] = [8.8452, 10.0732], theta = 102.2686\n"
       ]
      },
      {
       "output_type": "stream",
       "stream": "stdout",
       "text": [
        "\n",
        "agreeing local minima of 6.8404 at:\n",
        "[a,b] = [0.0524, -0.4177], [width, length] = [8.8452, 10.0732], theta = 102.2686\n"
       ]
      },
      {
       "output_type": "stream",
       "stream": "stdout",
       "text": [
        "\n",
        " \n",
        "Cutout 28\n",
        "first local minima of 3.3041 at:\n",
        "[a,b] = [-0.0672, 0.1155], [width, length] = [7.4343, 8.7398], theta = 114.7378\n"
       ]
      },
      {
       "output_type": "stream",
       "stream": "stdout",
       "text": [
        "\n",
        "agreeing local minima of 3.3041 at:\n",
        "[a,b] = [-0.0672, 0.1155], [width, length] = [7.4343, 8.7398], theta = 114.7378\n"
       ]
      },
      {
       "output_type": "stream",
       "stream": "stdout",
       "text": [
        "\n",
        "agreeing local minima of 3.3041 at:\n",
        "[a,b] = [-0.0672, 0.1155], [width, length] = [7.4343, 8.7398], theta = 114.7378\n"
       ]
      },
      {
       "output_type": "stream",
       "stream": "stdout",
       "text": [
        "\n",
        "agreeing local minima of 3.3041 at:\n",
        "[a,b] = [-0.0672, 0.1155], [width, length] = [7.4343, 8.7398], theta = 114.7378\n"
       ]
      },
      {
       "output_type": "stream",
       "stream": "stdout",
       "text": [
        "\n",
        "agreeing local minima of 3.3041 at:\n",
        "[a,b] = [-0.0672, 0.1155], [width, length] = [7.4343, 8.7398], theta = 114.7378\n"
       ]
      },
      {
       "output_type": "stream",
       "stream": "stdout",
       "text": [
        "\n",
        " \n",
        "Cutout 29\n",
        "first local minima of 3.2438 at:\n",
        "[a,b] = [0.0986, 0.0051], [width, length] = [7.5409, 12.4441], theta = 64.3564\n"
       ]
      },
      {
       "output_type": "stream",
       "stream": "stdout",
       "text": [
        "\n",
        "agreeing local minima of 3.2438 at:\n",
        "[a,b] = [0.0986, 0.0051], [width, length] = [7.5409, 12.4441], theta = 64.3564\n"
       ]
      },
      {
       "output_type": "stream",
       "stream": "stdout",
       "text": [
        "\n",
        "agreeing local minima of 3.2438 at:\n",
        "[a,b] = [0.0986, 0.0051], [width, length] = [7.5409, 12.4441], theta = 64.3564\n"
       ]
      },
      {
       "output_type": "stream",
       "stream": "stdout",
       "text": [
        "\n",
        "agreeing local minima of 3.2438 at:\n",
        "[a,b] = [0.0985, 0.0051], [width, length] = [7.5409, 12.4441], theta = 64.3564\n"
       ]
      },
      {
       "output_type": "stream",
       "stream": "stdout",
       "text": [
        "\n",
        "agreeing local minima of 3.2438 at:\n",
        "[a,b] = [0.0986, 0.0051], [width, length] = [7.5409, 12.4441], theta = 64.3564\n"
       ]
      },
      {
       "output_type": "stream",
       "stream": "stdout",
       "text": [
        "\n",
        " \n",
        "Cutout 30\n",
        "first local minima of 17.0579 at:\n",
        "[a,b] = [0.7163, -0.2953], [width, length] = [9.1550, 14.3680], theta = 3.0852\n"
       ]
      },
      {
       "output_type": "stream",
       "stream": "stdout",
       "text": [
        "\n",
        "agreeing local minima of 17.0579 at:\n",
        "[a,b] = [0.7163, -0.2953], [width, length] = [9.1550, 14.3680], theta = 3.0852\n"
       ]
      },
      {
       "output_type": "stream",
       "stream": "stdout",
       "text": [
        "\n",
        "agreeing local minima of 17.0579 at:\n",
        "[a,b] = [0.7163, -0.2953], [width, length] = [9.1550, 14.3680], theta = 3.0852\n"
       ]
      },
      {
       "output_type": "stream",
       "stream": "stdout",
       "text": [
        "\n",
        "agreeing local minima of 17.0579 at:\n",
        "[a,b] = [0.7163, -0.2953], [width, length] = [9.1550, 14.3680], theta = 3.0852\n"
       ]
      },
      {
       "output_type": "stream",
       "stream": "stdout",
       "text": [
        "\n",
        "agreeing local minima of 17.0579 at:\n",
        "[a,b] = [0.7163, -0.2953], [width, length] = [9.1550, 14.3680], theta = 3.0852\n"
       ]
      },
      {
       "output_type": "stream",
       "stream": "stdout",
       "text": [
        "\n",
        " \n",
        "Cutout 31\n",
        "first local minima of 5.2917 at:\n",
        "[a,b] = [-0.4838, 0.7875], [width, length] = [8.2197, 9.8055], theta = 130.3584\n"
       ]
      },
      {
       "output_type": "stream",
       "stream": "stdout",
       "text": [
        "\n",
        "agreeing local minima of 5.2917 at:\n",
        "[a,b] = [-0.4838, 0.7875], [width, length] = [8.2197, 9.8055], theta = 130.3584\n"
       ]
      },
      {
       "output_type": "stream",
       "stream": "stdout",
       "text": [
        "\n",
        "agreeing local minima of 5.2917 at:\n",
        "[a,b] = [-0.4838, 0.7875], [width, length] = [8.2197, 9.8055], theta = 130.3584\n"
       ]
      },
      {
       "output_type": "stream",
       "stream": "stdout",
       "text": [
        "\n",
        "agreeing local minima of 5.2917 at:\n",
        "[a,b] = [-0.4838, 0.7875], [width, length] = [8.2197, 9.8055], theta = 130.3584\n"
       ]
      },
      {
       "output_type": "stream",
       "stream": "stdout",
       "text": [
        "\n",
        "agreeing local minima of 5.2917 at:\n",
        "[a,b] = [-0.4838, 0.7875], [width, length] = [8.2197, 9.8055], theta = 130.3584\n"
       ]
      },
      {
       "output_type": "stream",
       "stream": "stdout",
       "text": [
        "\n",
        " \n",
        "Cutout 32\n",
        "first local minima of 5.8382 at:\n",
        "[a,b] = [-0.0190, 0.7067], [width, length] = [7.7284, 10.8903], theta = 58.5458\n"
       ]
      },
      {
       "output_type": "stream",
       "stream": "stdout",
       "text": [
        "\n",
        "agreeing local minima of 5.8382 at:\n",
        "[a,b] = [-0.0190, 0.7067], [width, length] = [7.7284, 10.8903], theta = 58.5458\n"
       ]
      },
      {
       "output_type": "stream",
       "stream": "stdout",
       "text": [
        "\n",
        "agreeing local minima of 5.8382 at:\n",
        "[a,b] = [-0.0190, 0.7067], [width, length] = [7.7284, 10.8903], theta = 58.5458\n"
       ]
      },
      {
       "output_type": "stream",
       "stream": "stdout",
       "text": [
        "\n",
        "agreeing local minima of 5.8382 at:\n",
        "[a,b] = [-0.0190, 0.7067], [width, length] = [7.7284, 10.8903], theta = 58.5458\n"
       ]
      },
      {
       "output_type": "stream",
       "stream": "stdout",
       "text": [
        "\n",
        "agreeing local minima of 5.8382 at:\n",
        "[a,b] = [-0.0190, 0.7067], [width, length] = [7.7284, 10.8903], theta = 58.5458\n"
       ]
      },
      {
       "output_type": "stream",
       "stream": "stdout",
       "text": [
        "\n",
        " \n",
        "Cutout 33\n",
        "first local minima of 0.8725 at:\n",
        "[a,b] = [-0.4777, 0.3457], [width, length] = [5.9338, 6.1414], theta = 84.6910\n"
       ]
      },
      {
       "output_type": "stream",
       "stream": "stdout",
       "text": [
        "\n",
        "agreeing local minima of 0.8725 at:\n",
        "[a,b] = [-0.4777, 0.3457], [width, length] = [5.9338, 6.1414], theta = 84.6910\n"
       ]
      },
      {
       "output_type": "stream",
       "stream": "stdout",
       "text": [
        "\n",
        "agreeing local minima of 0.8725 at:\n",
        "[a,b] = [-0.4777, 0.3457], [width, length] = [5.9338, 6.1414], theta = 84.6910\n"
       ]
      },
      {
       "output_type": "stream",
       "stream": "stdout",
       "text": [
        "\n",
        "agreeing local minima of 0.8725 at:\n",
        "[a,b] = [-0.4777, 0.3457], [width, length] = [5.9338, 6.1414], theta = 84.6910\n"
       ]
      },
      {
       "output_type": "stream",
       "stream": "stdout",
       "text": [
        "\n",
        "agreeing local minima of 0.8725 at:\n",
        "[a,b] = [-0.4777, 0.3457], [width, length] = [5.9338, 6.1414], theta = 84.6910\n"
       ]
      },
      {
       "output_type": "stream",
       "stream": "stdout",
       "text": [
        "\n",
        " \n",
        "Cutout 34\n",
        "first local minima of 3.8736 at:\n",
        "[a,b] = [0.2257, -0.2108], [width, length] = [7.0952, 9.4714], theta = 42.8725\n"
       ]
      },
      {
       "output_type": "stream",
       "stream": "stdout",
       "text": [
        "\n",
        "agreeing local minima of 3.8736 at:\n",
        "[a,b] = [0.2257, -0.2108], [width, length] = [7.0952, 9.4714], theta = 42.8725\n"
       ]
      },
      {
       "output_type": "stream",
       "stream": "stdout",
       "text": [
        "\n",
        "agreeing local minima of 3.8736 at:\n",
        "[a,b] = [0.2257, -0.2108], [width, length] = [7.0952, 9.4714], theta = 42.8725\n"
       ]
      },
      {
       "output_type": "stream",
       "stream": "stdout",
       "text": [
        "\n",
        "agreeing local minima of 3.8736 at:\n",
        "[a,b] = [0.2257, -0.2108], [width, length] = [7.0952, 9.4714], theta = 42.8725\n"
       ]
      },
      {
       "output_type": "stream",
       "stream": "stdout",
       "text": [
        "\n",
        "agreeing local minima of 3.8736 at:\n",
        "[a,b] = [0.2257, -0.2108], [width, length] = [7.0952, 9.4714], theta = 42.8725\n"
       ]
      },
      {
       "output_type": "stream",
       "stream": "stdout",
       "text": [
        "\n",
        " \n",
        "Cutout 35\n",
        "first local minima of 5.0511 at:\n",
        "[a,b] = [0.8065, 0.2928], [width, length] = [5.9509, 9.6422], theta = 146.4020\n"
       ]
      },
      {
       "output_type": "stream",
       "stream": "stdout",
       "text": [
        "\n",
        "agreeing local minima of 5.0511 at:\n",
        "[a,b] = [0.8065, 0.2928], [width, length] = [5.9509, 9.6422], theta = 146.4020\n"
       ]
      },
      {
       "output_type": "stream",
       "stream": "stdout",
       "text": [
        "\n",
        "agreeing local minima of 5.0511 at:\n",
        "[a,b] = [0.8065, 0.2928], [width, length] = [5.9509, 9.6422], theta = 146.4020\n"
       ]
      },
      {
       "output_type": "stream",
       "stream": "stdout",
       "text": [
        "\n",
        "agreeing local minima of 5.0511 at:\n",
        "[a,b] = [0.8065, 0.2928], [width, length] = [5.9509, 9.6422], theta = 146.4020\n"
       ]
      },
      {
       "output_type": "stream",
       "stream": "stdout",
       "text": [
        "\n",
        "agreeing local minima of 5.0511 at:\n",
        "[a,b] = [0.8065, 0.2928], [width, length] = [5.9509, 9.6422], theta = 146.4020\n"
       ]
      },
      {
       "output_type": "stream",
       "stream": "stdout",
       "text": [
        "\n",
        " \n",
        "Cutout 36\n",
        "first local minima of 17.4176 at:\n",
        "[a,b] = [0.6590, -0.1487], [width, length] = [10.0699, 20.8535], theta = 2.2653\n"
       ]
      },
      {
       "output_type": "stream",
       "stream": "stdout",
       "text": [
        "\n",
        "agreeing local minima of 17.4176 at:\n",
        "[a,b] = [0.6590, -0.1487], [width, length] = [10.0699, 20.8535], theta = 2.2653\n"
       ]
      },
      {
       "output_type": "stream",
       "stream": "stdout",
       "text": [
        "\n",
        "agreeing local minima of 17.4176 at:\n",
        "[a,b] = [0.6590, -0.1487], [width, length] = [10.0699, 20.8535], theta = 2.2653\n"
       ]
      },
      {
       "output_type": "stream",
       "stream": "stdout",
       "text": [
        "\n",
        "agreeing local minima of 17.4176 at:\n",
        "[a,b] = [0.6590, -0.1487], [width, length] = [10.0699, 20.8535], theta = 2.2653\n"
       ]
      },
      {
       "output_type": "stream",
       "stream": "stdout",
       "text": [
        "\n",
        "agreeing local minima of 17.4176 at:\n",
        "[a,b] = [0.6590, -0.1487], [width, length] = [10.0699, 20.8535], theta = 2.2653\n"
       ]
      },
      {
       "output_type": "stream",
       "stream": "stdout",
       "text": [
        "\n",
        " \n",
        "Cutout 37\n",
        "first local minima of 6.5215 at:\n",
        "[a,b] = [0.3862, -0.2423], [width, length] = [7.9129, 10.4434], theta = 102.5443\n"
       ]
      },
      {
       "output_type": "stream",
       "stream": "stdout",
       "text": [
        "\n",
        "agreeing local minima of 6.5215 at:\n",
        "[a,b] = [0.3862, -0.2423], [width, length] = [7.9129, 10.4434], theta = 102.5442\n"
       ]
      },
      {
       "output_type": "stream",
       "stream": "stdout",
       "text": [
        "\n",
        "agreeing local minima of 6.5215 at:\n",
        "[a,b] = [0.3862, -0.2423], [width, length] = [7.9129, 10.4434], theta = 102.5442\n"
       ]
      },
      {
       "output_type": "stream",
       "stream": "stdout",
       "text": [
        "\n",
        "agreeing local minima of 6.5215 at:\n",
        "[a,b] = [0.3862, -0.2423], [width, length] = [7.9129, 10.4434], theta = 102.5442\n"
       ]
      },
      {
       "output_type": "stream",
       "stream": "stdout",
       "text": [
        "\n",
        "agreeing local minima of 6.5215 at:\n",
        "[a,b] = [0.3862, -0.2423], [width, length] = [7.9129, 10.4434], theta = 102.5442\n"
       ]
      },
      {
       "output_type": "stream",
       "stream": "stdout",
       "text": [
        "\n",
        " \n",
        "Cutout 38\n",
        "first local minima of 2.0267 at:\n",
        "[a,b] = [-0.0793, -0.1726], [width, length] = [4.5710, 5.6367], theta = 121.0137\n"
       ]
      },
      {
       "output_type": "stream",
       "stream": "stdout",
       "text": [
        "\n",
        "agreeing local minima of 2.0267 at:\n",
        "[a,b] = [-0.0793, -0.1726], [width, length] = [4.5710, 5.6367], theta = 121.0137\n"
       ]
      },
      {
       "output_type": "stream",
       "stream": "stdout",
       "text": [
        "\n",
        "agreeing local minima of 2.0267 at:\n",
        "[a,b] = [-0.0793, -0.1726], [width, length] = [4.5710, 5.6367], theta = 121.0137\n"
       ]
      },
      {
       "output_type": "stream",
       "stream": "stdout",
       "text": [
        "\n",
        "agreeing local minima of 2.0267 at:\n",
        "[a,b] = [-0.0793, -0.1726], [width, length] = [4.5710, 5.6367], theta = 121.0137\n"
       ]
      },
      {
       "output_type": "stream",
       "stream": "stdout",
       "text": [
        "\n",
        "agreeing local minima of 2.0267 at:\n",
        "[a,b] = [-0.0793, -0.1726], [width, length] = [4.5710, 5.6367], theta = 121.0137\n"
       ]
      },
      {
       "output_type": "stream",
       "stream": "stdout",
       "text": [
        "\n",
        " \n",
        "Cutout 39\n",
        "first local minima of 6.8404 at:\n",
        "[a,b] = [0.0524, -0.4177], [width, length] = [8.8452, 10.0732], theta = 102.2686\n"
       ]
      },
      {
       "output_type": "stream",
       "stream": "stdout",
       "text": [
        "\n",
        "agreeing local minima of 6.8404 at:\n",
        "[a,b] = [0.0524, -0.4177], [width, length] = [8.8452, 10.0732], theta = 102.2686\n"
       ]
      },
      {
       "output_type": "stream",
       "stream": "stdout",
       "text": [
        "\n",
        "agreeing local minima of 6.8404 at:\n",
        "[a,b] = [0.0524, -0.4177], [width, length] = [8.8452, 10.0732], theta = 102.2686\n"
       ]
      },
      {
       "output_type": "stream",
       "stream": "stdout",
       "text": [
        "\n",
        "agreeing local minima of 6.8404 at:\n",
        "[a,b] = [0.0524, -0.4177], [width, length] = [8.8452, 10.0732], theta = 102.2686\n"
       ]
      },
      {
       "output_type": "stream",
       "stream": "stdout",
       "text": [
        "\n",
        "agreeing local minima of 6.8404 at:\n",
        "[a,b] = [0.0524, -0.4177], [width, length] = [8.8452, 10.0732], theta = 102.2687\n"
       ]
      },
      {
       "output_type": "stream",
       "stream": "stdout",
       "text": [
        "\n",
        " \n",
        "Cutout 40\n",
        "first local minima of 3.0051 at:\n",
        "[a,b] = [-0.0513, 0.4143], [width, length] = [7.9120, 8.2539], theta = 19.7695\n"
       ]
      },
      {
       "output_type": "stream",
       "stream": "stdout",
       "text": [
        "\n",
        "agreeing local minima of 3.0051 at:\n",
        "[a,b] = [-0.0513, 0.4143], [width, length] = [7.9120, 8.2539], theta = 19.7695\n"
       ]
      },
      {
       "output_type": "stream",
       "stream": "stdout",
       "text": [
        "\n",
        "agreeing local minima of 3.0051 at:\n",
        "[a,b] = [-0.0513, 0.4143], [width, length] = [7.9120, 8.2539], theta = 19.7695\n"
       ]
      },
      {
       "output_type": "stream",
       "stream": "stdout",
       "text": [
        "\n",
        "agreeing local minima of 3.0051 at:\n",
        "[a,b] = [-0.0513, 0.4143], [width, length] = [7.9120, 8.2539], theta = 19.7696\n"
       ]
      },
      {
       "output_type": "stream",
       "stream": "stdout",
       "text": [
        "\n",
        "agreeing local minima of 3.0051 at:\n",
        "[a,b] = [-0.0513, 0.4143], [width, length] = [7.9120, 8.2539], theta = 19.7695\n"
       ]
      },
      {
       "output_type": "stream",
       "stream": "stdout",
       "text": [
        "\n",
        " \n",
        "Cutout 41\n",
        "first local minima of 2.0320 at:\n",
        "[a,b] = [-0.0042, -0.1415], [width, length] = [6.8830, 10.0873], theta = 146.9493\n"
       ]
      },
      {
       "output_type": "stream",
       "stream": "stdout",
       "text": [
        "\n",
        "agreeing local minima of 2.0320 at:\n",
        "[a,b] = [-0.0042, -0.1415], [width, length] = [6.8830, 10.0873], theta = 146.9493\n"
       ]
      },
      {
       "output_type": "stream",
       "stream": "stdout",
       "text": [
        "\n",
        "agreeing local minima of 2.0320 at:\n",
        "[a,b] = [-0.0042, -0.1415], [width, length] = [6.8830, 10.0873], theta = 146.9493\n"
       ]
      },
      {
       "output_type": "stream",
       "stream": "stdout",
       "text": [
        "\n",
        "agreeing local minima of 2.0320 at:\n",
        "[a,b] = [-0.0042, -0.1415], [width, length] = [6.8830, 10.0873], theta = 146.9493\n"
       ]
      },
      {
       "output_type": "stream",
       "stream": "stdout",
       "text": [
        "\n",
        "agreeing local minima of 2.0320 at:\n",
        "[a,b] = [-0.0042, -0.1415], [width, length] = [6.8830, 10.0873], theta = 146.9493\n"
       ]
      },
      {
       "output_type": "stream",
       "stream": "stdout",
       "text": [
        "\n",
        " \n",
        "Cutout 42\n",
        "first local minima of 6.9617 at:\n",
        "[a,b] = [0.1154, 0.1130], [width, length] = [11.0931, 13.6405], theta = 76.5687\n"
       ]
      },
      {
       "output_type": "stream",
       "stream": "stdout",
       "text": [
        "\n",
        "agreeing local minima of 6.9617 at:\n",
        "[a,b] = [0.1154, 0.1130], [width, length] = [11.0931, 13.6405], theta = 76.5687\n"
       ]
      },
      {
       "output_type": "stream",
       "stream": "stdout",
       "text": [
        "\n",
        "agreeing local minima of 6.9617 at:\n",
        "[a,b] = [0.1154, 0.1130], [width, length] = [11.0931, 13.6405], theta = 76.5687\n"
       ]
      },
      {
       "output_type": "stream",
       "stream": "stdout",
       "text": [
        "\n",
        "agreeing local minima of 6.9617 at:\n",
        "[a,b] = [0.1154, 0.1130], [width, length] = [11.0931, 13.6405], theta = 76.5687\n"
       ]
      },
      {
       "output_type": "stream",
       "stream": "stdout",
       "text": [
        "\n",
        "agreeing local minima of 6.9617 at:\n",
        "[a,b] = [0.1154, 0.1130], [width, length] = [11.0931, 13.6405], theta = 76.5687\n"
       ]
      },
      {
       "output_type": "stream",
       "stream": "stdout",
       "text": [
        "\n",
        " \n",
        "Cutout 43\n",
        "first local minima of 1.6019 at:\n",
        "[a,b] = [-0.1036, 0.1198], [width, length] = [6.1038, 7.7366], theta = 115.3158\n"
       ]
      },
      {
       "output_type": "stream",
       "stream": "stdout",
       "text": [
        "\n",
        "agreeing local minima of 1.6019 at:\n",
        "[a,b] = [-0.1036, 0.1198], [width, length] = [6.1038, 7.7366], theta = 115.3158\n"
       ]
      },
      {
       "output_type": "stream",
       "stream": "stdout",
       "text": [
        "\n",
        "agreeing local minima of 1.6019 at:\n",
        "[a,b] = [-0.1036, 0.1198], [width, length] = [6.1038, 7.7366], theta = 115.3158\n"
       ]
      },
      {
       "output_type": "stream",
       "stream": "stdout",
       "text": [
        "\n",
        "agreeing local minima of 1.6019 at:\n",
        "[a,b] = [-0.1036, 0.1198], [width, length] = [6.1038, 7.7366], theta = 115.3158\n"
       ]
      },
      {
       "output_type": "stream",
       "stream": "stdout",
       "text": [
        "\n",
        "agreeing local minima of 1.6019 at:\n",
        "[a,b] = [-0.1036, 0.1198], [width, length] = [6.1038, 7.7366], theta = 115.3158\n"
       ]
      },
      {
       "output_type": "stream",
       "stream": "stdout",
       "text": [
        "\n",
        " \n",
        "Cutout 44\n",
        "first local minima of 2.7643 at:\n",
        "[a,b] = [-0.6088, 0.6160], [width, length] = [7.4860, 8.8502], theta = 92.9221\n"
       ]
      },
      {
       "output_type": "stream",
       "stream": "stdout",
       "text": [
        "\n",
        "agreeing local minima of 2.7643 at:\n",
        "[a,b] = [-0.6088, 0.6160], [width, length] = [7.4860, 8.8502], theta = 92.9221\n"
       ]
      },
      {
       "output_type": "stream",
       "stream": "stdout",
       "text": [
        "\n",
        "agreeing local minima of 2.7643 at:\n",
        "[a,b] = [-0.6088, 0.6160], [width, length] = [7.4860, 8.8502], theta = 92.9221\n"
       ]
      },
      {
       "output_type": "stream",
       "stream": "stdout",
       "text": [
        "\n",
        "agreeing local minima of 2.7643 at:\n",
        "[a,b] = [-0.6088, 0.6160], [width, length] = [7.4860, 8.8502], theta = 92.9221\n"
       ]
      },
      {
       "output_type": "stream",
       "stream": "stdout",
       "text": [
        "\n",
        "agreeing local minima of 2.7643 at:\n",
        "[a,b] = [-0.6088, 0.6160], [width, length] = [7.4860, 8.8502], theta = 92.9221\n"
       ]
      },
      {
       "output_type": "stream",
       "stream": "stdout",
       "text": [
        "\n",
        " \n",
        "Cutout 45\n",
        "first local minima of 3.0375 at:\n",
        "[a,b] = [0.0455, -0.3090], [width, length] = [6.8012, 9.0053], theta = 108.4872\n"
       ]
      },
      {
       "output_type": "stream",
       "stream": "stdout",
       "text": [
        "\n",
        "agreeing local minima of 3.0375 at:\n",
        "[a,b] = [0.0455, -0.3090], [width, length] = [6.8012, 9.0053], theta = 108.4872\n"
       ]
      },
      {
       "output_type": "stream",
       "stream": "stdout",
       "text": [
        "\n",
        "agreeing local minima of 3.0375 at:\n",
        "[a,b] = [0.0455, -0.3090], [width, length] = [6.8012, 9.0053], theta = 108.4872\n"
       ]
      },
      {
       "output_type": "stream",
       "stream": "stdout",
       "text": [
        "\n",
        "agreeing local minima of 3.0375 at:\n",
        "[a,b] = [0.0455, -0.3090], [width, length] = [6.8012, 9.0053], theta = 108.4871\n"
       ]
      },
      {
       "output_type": "stream",
       "stream": "stdout",
       "text": [
        "\n",
        "agreeing local minima of 3.0375 at:\n",
        "[a,b] = [0.0455, -0.3090], [width, length] = [6.8012, 9.0053], theta = 108.4871\n"
       ]
      },
      {
       "output_type": "stream",
       "stream": "stdout",
       "text": [
        "\n",
        " \n",
        "Cutout 46\n",
        "first local minima of 5.4202 at:\n",
        "[a,b] = [-0.4035, 0.0472], [width, length] = [7.8382, 12.4004], theta = 86.8686\n"
       ]
      },
      {
       "output_type": "stream",
       "stream": "stdout",
       "text": [
        "\n",
        "agreeing local minima of 5.4202 at:\n",
        "[a,b] = [-0.4035, 0.0472], [width, length] = [7.8382, 12.4004], theta = 86.8686\n"
       ]
      },
      {
       "output_type": "stream",
       "stream": "stdout",
       "text": [
        "\n",
        "agreeing local minima of 5.4202 at:\n",
        "[a,b] = [-0.4035, 0.0472], [width, length] = [7.8382, 12.4004], theta = 86.8685\n"
       ]
      },
      {
       "output_type": "stream",
       "stream": "stdout",
       "text": [
        "\n",
        "agreeing local minima of 5.4202 at:\n",
        "[a,b] = [-0.4035, 0.0472], [width, length] = [7.8382, 12.4004], theta = 86.8686\n"
       ]
      },
      {
       "output_type": "stream",
       "stream": "stdout",
       "text": [
        "\n",
        "agreeing local minima of 5.4202 at:\n",
        "[a,b] = [-0.4035, 0.0472], [width, length] = [7.8382, 12.4004], theta = 86.8686\n"
       ]
      },
      {
       "output_type": "stream",
       "stream": "stdout",
       "text": [
        "\n",
        " \n",
        "Cutout 47\n",
        "first local minima of 0.5689 at:\n",
        "[a,b] = [-0.2021, -0.1805], [width, length] = [3.5418, 4.6558], theta = 0.2535\n"
       ]
      },
      {
       "output_type": "stream",
       "stream": "stdout",
       "text": [
        "\n",
        "agreeing local minima of 0.5689 at:\n",
        "[a,b] = [-0.2021, -0.1805], [width, length] = [3.5418, 4.6558], theta = 0.2534\n"
       ]
      },
      {
       "output_type": "stream",
       "stream": "stdout",
       "text": [
        "\n",
        "agreeing local minima of 0.5689 at:\n",
        "[a,b] = [-0.2021, -0.1805], [width, length] = [3.5418, 4.6558], theta = 0.2535\n"
       ]
      },
      {
       "output_type": "stream",
       "stream": "stdout",
       "text": [
        "\n",
        "agreeing local minima of 0.5689 at:\n",
        "[a,b] = [-0.2021, -0.1805], [width, length] = [3.5418, 4.6558], theta = 0.2534\n"
       ]
      },
      {
       "output_type": "stream",
       "stream": "stdout",
       "text": [
        "\n",
        "agreeing local minima of 0.5689 at:\n",
        "[a,b] = [-0.2021, -0.1805], [width, length] = [3.5418, 4.6558], theta = 0.2535\n"
       ]
      },
      {
       "output_type": "stream",
       "stream": "stdout",
       "text": [
        "\n",
        " \n",
        "Cutout 48\n",
        "first local minima of 6.5215 at:\n",
        "[a,b] = [0.3862, -0.2423], [width, length] = [7.9129, 10.4434], theta = 102.5442\n"
       ]
      },
      {
       "output_type": "stream",
       "stream": "stdout",
       "text": [
        "\n",
        "agreeing local minima of 6.5215 at:\n",
        "[a,b] = [0.3862, -0.2423], [width, length] = [7.9129, 10.4434], theta = 102.5442\n"
       ]
      },
      {
       "output_type": "stream",
       "stream": "stdout",
       "text": [
        "\n",
        "agreeing local minima of 6.5215 at:\n",
        "[a,b] = [0.3862, -0.2423], [width, length] = [7.9129, 10.4434], theta = 102.5442\n"
       ]
      },
      {
       "output_type": "stream",
       "stream": "stdout",
       "text": [
        "\n",
        "agreeing local minima of 6.5215 at:\n",
        "[a,b] = [0.3862, -0.2423], [width, length] = [7.9129, 10.4434], theta = 102.5443\n"
       ]
      },
      {
       "output_type": "stream",
       "stream": "stdout",
       "text": [
        "\n",
        "agreeing local minima of 6.5215 at:\n",
        "[a,b] = [0.3862, -0.2423], [width, length] = [7.9129, 10.4434], theta = 102.5442\n"
       ]
      },
      {
       "output_type": "stream",
       "stream": "stdout",
       "text": [
        "\n",
        " \n",
        "Cutout 49\n",
        "first local minima of 2.1656 at:\n",
        "[a,b] = [0.2113, 0.0004], [width, length] = [8.5409, 10.6091], theta = 24.3976\n"
       ]
      },
      {
       "output_type": "stream",
       "stream": "stdout",
       "text": [
        "\n",
        "agreeing local minima of 2.1656 at:\n",
        "[a,b] = [0.2113, 0.0004], [width, length] = [8.5409, 10.6091], theta = 24.3976\n"
       ]
      },
      {
       "output_type": "stream",
       "stream": "stdout",
       "text": [
        "\n",
        "agreeing local minima of 2.1656 at:\n",
        "[a,b] = [0.2113, 0.0004], [width, length] = [8.5409, 10.6091], theta = 24.3976\n"
       ]
      },
      {
       "output_type": "stream",
       "stream": "stdout",
       "text": [
        "\n",
        "agreeing local minima of 2.1656 at:\n",
        "[a,b] = [0.2113, 0.0004], [width, length] = [8.5409, 10.6091], theta = 24.3976\n"
       ]
      },
      {
       "output_type": "stream",
       "stream": "stdout",
       "text": [
        "\n",
        "agreeing local minima of 2.1656 at:\n",
        "[a,b] = [0.2113, 0.0004], [width, length] = [8.5409, 10.6091], theta = 24.3976\n"
       ]
      },
      {
       "output_type": "stream",
       "stream": "stdout",
       "text": [
        "\n",
        " \n",
        "Cutout 50\n",
        "first local minima of 1.1353 at:\n",
        "[a,b] = [-0.2096, -0.3450], [width, length] = [4.2659, 5.0417], theta = 33.2003\n"
       ]
      },
      {
       "output_type": "stream",
       "stream": "stdout",
       "text": [
        "\n",
        "failed to find local minima at:\n",
        "[a,b] = [4.1958, 1.6899], [width, length] = [0.0000, 0.6730], theta = 15.7632\n"
       ]
      },
      {
       "output_type": "stream",
       "stream": "stdout",
       "text": [
        "\n",
        "agreeing local minima of 1.1353 at:\n",
        "[a,b] = [-0.2096, -0.3450], [width, length] = [4.2659, 5.0417], theta = 33.2003\n"
       ]
      },
      {
       "output_type": "stream",
       "stream": "stdout",
       "text": [
        "\n",
        "agreeing local minima of 1.1353 at:\n",
        "[a,b] = [-0.2096, -0.3450], [width, length] = [4.2659, 5.0417], theta = 33.2003\n"
       ]
      },
      {
       "output_type": "stream",
       "stream": "stdout",
       "text": [
        "\n",
        "agreeing local minima of 1.1353 at:\n",
        "[a,b] = [-0.2096, -0.3450], [width, length] = [4.2659, 5.0417], theta = 33.2003\n"
       ]
      },
      {
       "output_type": "stream",
       "stream": "stdout",
       "text": [
        "\n",
        "agreeing local minima of 1.1353 at:\n",
        "[a,b] = [-0.2096, -0.3450], [width, length] = [4.2659, 5.0417], theta = 33.2003\n"
       ]
      },
      {
       "output_type": "stream",
       "stream": "stdout",
       "text": [
        "\n",
        " \n",
        "Cutout 51\n",
        "first local minima of 6.8404 at:\n",
        "[a,b] = [0.0524, -0.4177], [width, length] = [8.8452, 10.0732], theta = 102.2686\n"
       ]
      },
      {
       "output_type": "stream",
       "stream": "stdout",
       "text": [
        "\n",
        "agreeing local minima of 6.8404 at:\n",
        "[a,b] = [0.0524, -0.4177], [width, length] = [8.8452, 10.0732], theta = 102.2687\n"
       ]
      },
      {
       "output_type": "stream",
       "stream": "stdout",
       "text": [
        "\n",
        "rejected local minima of 8.3471 at:\n",
        "[a,b] = [0.0598, -0.4580], [width, length] = [9.3183, 9.3296], theta = 49.7459\n"
       ]
      },
      {
       "output_type": "stream",
       "stream": "stdout",
       "text": [
        "\n",
        "agreeing local minima of 6.8404 at:\n",
        "[a,b] = [0.0524, -0.4177], [width, length] = [8.8452, 10.0732], theta = 102.2686\n"
       ]
      },
      {
       "output_type": "stream",
       "stream": "stdout",
       "text": [
        "\n",
        "agreeing local minima of 6.8404 at:\n",
        "[a,b] = [0.0524, -0.4177], [width, length] = [8.8452, 10.0732], theta = 102.2686\n"
       ]
      },
      {
       "output_type": "stream",
       "stream": "stdout",
       "text": [
        "\n",
        "agreeing local minima of 6.8404 at:\n",
        "[a,b] = [0.0524, -0.4177], [width, length] = [8.8452, 10.0732], theta = 102.2686\n"
       ]
      },
      {
       "output_type": "stream",
       "stream": "stdout",
       "text": [
        "\n",
        " \n",
        "Cutout 52\n",
        "first local minima of 5.8222 at:\n",
        "[a,b] = [0.3141, -0.7606], [width, length] = [11.5183, 15.3850], theta = 47.2478\n"
       ]
      },
      {
       "output_type": "stream",
       "stream": "stdout",
       "text": [
        "\n",
        "agreeing local minima of 5.8222 at:\n",
        "[a,b] = [0.3141, -0.7606], [width, length] = [11.5183, 15.3850], theta = 47.2478\n"
       ]
      },
      {
       "output_type": "stream",
       "stream": "stdout",
       "text": [
        "\n",
        "agreeing local minima of 5.8222 at:\n",
        "[a,b] = [0.3141, -0.7606], [width, length] = [11.5183, 15.3850], theta = 47.2478\n"
       ]
      },
      {
       "output_type": "stream",
       "stream": "stdout",
       "text": [
        "\n",
        "agreeing local minima of 5.8222 at:\n",
        "[a,b] = [0.3141, -0.7606], [width, length] = [11.5183, 15.3850], theta = 47.2478\n"
       ]
      },
      {
       "output_type": "stream",
       "stream": "stdout",
       "text": [
        "\n",
        "agreeing local minima of 5.8222 at:\n",
        "[a,b] = [0.3141, -0.7606], [width, length] = [11.5183, 15.3850], theta = 47.2478\n"
       ]
      },
      {
       "output_type": "stream",
       "stream": "stdout",
       "text": [
        "\n",
        " \n",
        "Cutout 53\n",
        "first local minima of 4.3166 at:\n",
        "[a,b] = [-0.1047, -0.0192], [width, length] = [10.3390, 11.8560], theta = 148.2108\n"
       ]
      },
      {
       "output_type": "stream",
       "stream": "stdout",
       "text": [
        "\n",
        "agreeing local minima of 4.3166 at:\n",
        "[a,b] = [-0.1047, -0.0192], [width, length] = [10.3390, 11.8560], theta = 148.2109\n"
       ]
      },
      {
       "output_type": "stream",
       "stream": "stdout",
       "text": [
        "\n",
        "agreeing local minima of 4.3166 at:\n",
        "[a,b] = [-0.1047, -0.0192], [width, length] = [10.3390, 11.8560], theta = 148.2108\n"
       ]
      },
      {
       "output_type": "stream",
       "stream": "stdout",
       "text": [
        "\n",
        "agreeing local minima of 4.3166 at:\n",
        "[a,b] = [-0.1047, -0.0192], [width, length] = [10.3390, 11.8560], theta = 148.2109\n"
       ]
      },
      {
       "output_type": "stream",
       "stream": "stdout",
       "text": [
        "\n",
        "agreeing local minima of 4.3166 at:\n",
        "[a,b] = [-0.1047, -0.0192], [width, length] = [10.3390, 11.8560], theta = 148.2109\n"
       ]
      },
      {
       "output_type": "stream",
       "stream": "stdout",
       "text": [
        "\n",
        " \n",
        "Cutout 54\n",
        "first local minima of 2.7643 at:\n",
        "[a,b] = [-0.6088, 0.6160], [width, length] = [7.4860, 8.8502], theta = 92.9221\n"
       ]
      },
      {
       "output_type": "stream",
       "stream": "stdout",
       "text": [
        "\n",
        "agreeing local minima of 2.7643 at:\n",
        "[a,b] = [-0.6088, 0.6160], [width, length] = [7.4860, 8.8502], theta = 92.9221\n"
       ]
      },
      {
       "output_type": "stream",
       "stream": "stdout",
       "text": [
        "\n",
        "agreeing local minima of 2.7643 at:\n",
        "[a,b] = [-0.6088, 0.6160], [width, length] = [7.4860, 8.8502], theta = 92.9221\n"
       ]
      },
      {
       "output_type": "stream",
       "stream": "stdout",
       "text": [
        "\n",
        "agreeing local minima of 2.7643 at:\n",
        "[a,b] = [-0.6088, 0.6160], [width, length] = [7.4860, 8.8502], theta = 92.9221\n"
       ]
      },
      {
       "output_type": "stream",
       "stream": "stdout",
       "text": [
        "\n",
        "agreeing local minima of 2.7643 at:\n",
        "[a,b] = [-0.6088, 0.6160], [width, length] = [7.4860, 8.8502], theta = 92.9221\n"
       ]
      },
      {
       "output_type": "stream",
       "stream": "stdout",
       "text": [
        "\n",
        " \n",
        "Cutout 55\n",
        "first local minima of 3.4223 at:\n",
        "[a,b] = [0.3275, -0.0862], [width, length] = [8.0647, 10.7135], theta = 22.2224\n"
       ]
      },
      {
       "output_type": "stream",
       "stream": "stdout",
       "text": [
        "\n",
        "agreeing local minima of 3.4223 at:\n",
        "[a,b] = [0.3275, -0.0862], [width, length] = [8.0647, 10.7135], theta = 22.2224\n"
       ]
      },
      {
       "output_type": "stream",
       "stream": "stdout",
       "text": [
        "\n",
        "agreeing local minima of 3.4223 at:\n",
        "[a,b] = [0.3275, -0.0862], [width, length] = [8.0647, 10.7135], theta = 22.2224\n"
       ]
      },
      {
       "output_type": "stream",
       "stream": "stdout",
       "text": [
        "\n",
        "agreeing local minima of 3.4223 at:\n",
        "[a,b] = [0.3275, -0.0862], [width, length] = [8.0647, 10.7135], theta = 22.2224\n"
       ]
      },
      {
       "output_type": "stream",
       "stream": "stdout",
       "text": [
        "\n",
        "agreeing local minima of 3.4223 at:\n",
        "[a,b] = [0.3275, -0.0862], [width, length] = [8.0647, 10.7135], theta = 22.2224\n"
       ]
      },
      {
       "output_type": "stream",
       "stream": "stdout",
       "text": [
        "\n",
        " \n",
        "Cutout 56\n",
        "first local minima of 5.4202 at:\n",
        "[a,b] = [-0.4035, 0.0472], [width, length] = [7.8382, 12.4003], theta = 86.8685\n"
       ]
      },
      {
       "output_type": "stream",
       "stream": "stdout",
       "text": [
        "\n",
        "agreeing local minima of 5.4202 at:\n",
        "[a,b] = [-0.4035, 0.0472], [width, length] = [7.8382, 12.4004], theta = 86.8686\n"
       ]
      },
      {
       "output_type": "stream",
       "stream": "stdout",
       "text": [
        "\n",
        "agreeing local minima of 5.4202 at:\n",
        "[a,b] = [-0.4035, 0.0472], [width, length] = [7.8382, 12.4003], theta = 86.8685\n"
       ]
      },
      {
       "output_type": "stream",
       "stream": "stdout",
       "text": [
        "\n",
        "agreeing local minima of 5.4202 at:\n",
        "[a,b] = [-0.4035, 0.0472], [width, length] = [7.8382, 12.4004], theta = 86.8686\n"
       ]
      },
      {
       "output_type": "stream",
       "stream": "stdout",
       "text": [
        "\n",
        "agreeing local minima of 5.4202 at:\n",
        "[a,b] = [-0.4035, 0.0472], [width, length] = [7.8382, 12.4004], theta = 86.8686\n"
       ]
      },
      {
       "output_type": "stream",
       "stream": "stdout",
       "text": [
        "\n",
        " \n",
        "Cutout 57\n",
        "first local minima of 0.5689 at:\n",
        "[a,b] = [-0.2021, -0.1805], [width, length] = [3.5418, 4.6558], theta = 0.2535\n"
       ]
      },
      {
       "output_type": "stream",
       "stream": "stdout",
       "text": [
        "\n",
        "agreeing local minima of 0.5689 at:\n",
        "[a,b] = [-0.2021, -0.1805], [width, length] = [3.5418, 4.6558], theta = 0.2535\n"
       ]
      },
      {
       "output_type": "stream",
       "stream": "stdout",
       "text": [
        "\n",
        "agreeing local minima of 0.5689 at:\n",
        "[a,b] = [-0.2021, -0.1805], [width, length] = [3.5418, 4.6558], theta = 0.2535\n"
       ]
      },
      {
       "output_type": "stream",
       "stream": "stdout",
       "text": [
        "\n",
        "agreeing local minima of 0.5689 at:\n",
        "[a,b] = [-0.2021, -0.1805], [width, length] = [3.5418, 4.6558], theta = 0.2535\n"
       ]
      },
      {
       "output_type": "stream",
       "stream": "stdout",
       "text": [
        "\n",
        "agreeing local minima of 0.5689 at:\n",
        "[a,b] = [-0.2021, -0.1805], [width, length] = [3.5418, 4.6558], theta = 0.2535\n"
       ]
      },
      {
       "output_type": "stream",
       "stream": "stdout",
       "text": [
        "\n",
        " \n",
        "Cutout 58\n",
        "first local minima of 2.9493 at:\n",
        "[a,b] = [-0.0432, 0.1914], [width, length] = [5.9686, 7.2491], theta = 29.2392\n"
       ]
      },
      {
       "output_type": "stream",
       "stream": "stdout",
       "text": [
        "\n",
        "agreeing local minima of 2.9493 at:\n",
        "[a,b] = [-0.0432, 0.1914], [width, length] = [5.9686, 7.2491], theta = 29.2392\n"
       ]
      },
      {
       "output_type": "stream",
       "stream": "stdout",
       "text": [
        "\n",
        "agreeing local minima of 2.9493 at:\n",
        "[a,b] = [-0.0432, 0.1914], [width, length] = [5.9686, 7.2491], theta = 29.2392\n"
       ]
      },
      {
       "output_type": "stream",
       "stream": "stdout",
       "text": [
        "\n",
        "agreeing local minima of 2.9493 at:\n",
        "[a,b] = [-0.0432, 0.1914], [width, length] = [5.9686, 7.2491], theta = 29.2392\n"
       ]
      },
      {
       "output_type": "stream",
       "stream": "stdout",
       "text": [
        "\n",
        "agreeing local minima of 2.9493 at:\n",
        "[a,b] = [-0.0432, 0.1914], [width, length] = [5.9686, 7.2491], theta = 29.2393\n"
       ]
      },
      {
       "output_type": "stream",
       "stream": "stdout",
       "text": [
        "\n",
        " \n",
        "Cutout 59\n",
        "first local minima of 2.6299 at:\n",
        "[a,b] = [-0.0548, -0.0726], [width, length] = [7.4619, 8.1819], theta = 166.5630\n"
       ]
      },
      {
       "output_type": "stream",
       "stream": "stdout",
       "text": [
        "\n",
        "agreeing local minima of 2.6299 at:\n",
        "[a,b] = [-0.0548, -0.0726], [width, length] = [7.4619, 8.1819], theta = 166.5629\n"
       ]
      },
      {
       "output_type": "stream",
       "stream": "stdout",
       "text": [
        "\n",
        "agreeing local minima of 2.6299 at:\n",
        "[a,b] = [-0.0548, -0.0726], [width, length] = [7.4619, 8.1819], theta = 166.5630\n"
       ]
      },
      {
       "output_type": "stream",
       "stream": "stdout",
       "text": [
        "\n",
        "agreeing local minima of 2.6299 at:\n",
        "[a,b] = [-0.0548, -0.0726], [width, length] = [7.4619, 8.1819], theta = 166.5629\n"
       ]
      },
      {
       "output_type": "stream",
       "stream": "stdout",
       "text": [
        "\n",
        "agreeing local minima of 2.6299 at:\n",
        "[a,b] = [-0.0548, -0.0726], [width, length] = [7.4619, 8.1819], theta = 166.5629\n"
       ]
      },
      {
       "output_type": "stream",
       "stream": "stdout",
       "text": [
        "\n",
        " \n",
        "Cutout 60\n",
        "first local minima of 4.8273 at:\n",
        "[a,b] = [-0.1003, -0.3806], [width, length] = [7.6200, 8.1601], theta = 3.7557\n"
       ]
      },
      {
       "output_type": "stream",
       "stream": "stdout",
       "text": [
        "\n",
        "agreeing local minima of 4.8273 at:\n",
        "[a,b] = [-0.1002, -0.3805], [width, length] = [7.6200, 8.1599], theta = 3.7556\n"
       ]
      },
      {
       "output_type": "stream",
       "stream": "stdout",
       "text": [
        "\n",
        "agreeing local minima of 4.8273 at:\n",
        "[a,b] = [-0.1002, -0.3804], [width, length] = [7.6199, 8.1598], theta = 3.7555\n"
       ]
      },
      {
       "output_type": "stream",
       "stream": "stdout",
       "text": [
        "\n",
        "agreeing local minima of 4.8273 at:\n",
        "[a,b] = [-0.1002, -0.3805], [width, length] = [7.6200, 8.1599], theta = 3.7556\n"
       ]
      },
      {
       "output_type": "stream",
       "stream": "stdout",
       "text": [
        "\n",
        "agreeing local minima of 4.8273 at:\n",
        "[a,b] = [-0.1002, -0.3805], [width, length] = [7.6200, 8.1599], theta = 3.7555\n"
       ]
      },
      {
       "output_type": "stream",
       "stream": "stdout",
       "text": [
        "\n",
        " \n",
        "Cutout 61\n",
        "first local minima of 3.3140 at:\n",
        "[a,b] = [-0.0303, 0.2977], [width, length] = [7.4821, 8.0007], theta = 178.3957\n"
       ]
      },
      {
       "output_type": "stream",
       "stream": "stdout",
       "text": [
        "\n",
        "rejected local minima of 3.3142 at:\n",
        "[a,b] = [-0.0338, 0.3039], [width, length] = [7.4845, 8.0034], theta = 176.0588\n"
       ]
      },
      {
       "output_type": "stream",
       "stream": "stdout",
       "text": [
        "\n",
        "agreeing local minima of 3.3140 at:\n",
        "[a,b] = [-0.0303, 0.2977], [width, length] = [7.4821, 8.0007], theta = 178.3957\n"
       ]
      },
      {
       "output_type": "stream",
       "stream": "stdout",
       "text": [
        "\n",
        "rejected local minima of 3.3142 at:\n",
        "[a,b] = [-0.0338, 0.3039], [width, length] = [7.4845, 8.0034], theta = 176.0590\n"
       ]
      },
      {
       "output_type": "stream",
       "stream": "stdout",
       "text": [
        "\n",
        "agreeing local minima of 3.3140 at:\n",
        "[a,b] = [-0.0303, 0.2977], [width, length] = [7.4821, 8.0007], theta = 178.3957\n"
       ]
      },
      {
       "output_type": "stream",
       "stream": "stdout",
       "text": [
        "\n",
        "rejected local minima of 3.3142 at:\n",
        "[a,b] = [-0.0338, 0.3039], [width, length] = [7.4845, 8.0034], theta = 176.0590\n"
       ]
      },
      {
       "output_type": "stream",
       "stream": "stdout",
       "text": [
        "\n",
        "rejected local minima of 3.3142 at:\n",
        "[a,b] = [-0.0338, 0.3039], [width, length] = [7.4845, 8.0034], theta = 176.0590\n"
       ]
      },
      {
       "output_type": "stream",
       "stream": "stdout",
       "text": [
        "\n",
        "rejected local minima of 3.3142 at:\n",
        "[a,b] = [-0.0338, 0.3039], [width, length] = [7.4845, 8.0034], theta = 176.0590\n"
       ]
      },
      {
       "output_type": "stream",
       "stream": "stdout",
       "text": [
        "\n",
        "rejected local minima of 3.3142 at:\n",
        "[a,b] = [-0.0338, 0.3039], [width, length] = [7.4845, 8.0034], theta = 176.0590\n"
       ]
      },
      {
       "output_type": "stream",
       "stream": "stdout",
       "text": [
        "\n",
        "rejected local minima of 3.3142 at:\n",
        "[a,b] = [-0.0338, 0.3039], [width, length] = [7.4845, 8.0034], theta = 176.0590\n"
       ]
      },
      {
       "output_type": "stream",
       "stream": "stdout",
       "text": [
        "\n",
        "failed to find local minima at:\n",
        "[a,b] = [-0.0234, 0.3517], [width, length] = [7.6112, 7.6176], theta = 136.1768\n"
       ]
      },
      {
       "output_type": "stream",
       "stream": "stdout",
       "text": [
        "\n",
        "rejected local minima of 3.3142 at:\n",
        "[a,b] = [-0.0338, 0.3039], [width, length] = [7.4845, 8.0034], theta = 176.0592\n"
       ]
      },
      {
       "output_type": "stream",
       "stream": "stdout",
       "text": [
        "\n",
        "rejected local minima of 3.3142 at:\n",
        "[a,b] = [-0.0338, 0.3039], [width, length] = [7.4845, 8.0034], theta = 176.0591\n"
       ]
      },
      {
       "output_type": "stream",
       "stream": "stdout",
       "text": [
        "\n",
        "agreeing local minima of 3.3140 at:\n",
        "[a,b] = [-0.0303, 0.2977], [width, length] = [7.4821, 8.0007], theta = 178.3956\n"
       ]
      },
      {
       "output_type": "stream",
       "stream": "stdout",
       "text": [
        "\n",
        "agreeing local minima of 3.3140 at:\n",
        "[a,b] = [-0.0303, 0.2977], [width, length] = [7.4821, 8.0007], theta = 178.3956\n"
       ]
      },
      {
       "output_type": "stream",
       "stream": "stdout",
       "text": [
        "\n",
        " \n",
        "Cutout 62\n",
        "first local minima of 4.8279 at:\n",
        "[a,b] = [-0.1235, 0.0783], [width, length] = [9.4722, 10.3071], theta = 30.4310\n"
       ]
      },
      {
       "output_type": "stream",
       "stream": "stdout",
       "text": [
        "\n",
        "agreeing local minima of 4.8279 at:\n",
        "[a,b] = [-0.1235, 0.0783], [width, length] = [9.4722, 10.3071], theta = 30.4311\n"
       ]
      },
      {
       "output_type": "stream",
       "stream": "stdout",
       "text": [
        "\n",
        "agreeing local minima of 4.8279 at:\n",
        "[a,b] = [-0.1235, 0.0783], [width, length] = [9.4722, 10.3071], theta = 30.4309\n"
       ]
      },
      {
       "output_type": "stream",
       "stream": "stdout",
       "text": [
        "\n",
        "agreeing local minima of 4.8279 at:\n",
        "[a,b] = [-0.1235, 0.0783], [width, length] = [9.4722, 10.3071], theta = 30.4310\n"
       ]
      },
      {
       "output_type": "stream",
       "stream": "stdout",
       "text": [
        "\n",
        "agreeing local minima of 4.8279 at:\n",
        "[a,b] = [-0.1235, 0.0783], [width, length] = [9.4722, 10.3071], theta = 30.4310\n"
       ]
      },
      {
       "output_type": "stream",
       "stream": "stdout",
       "text": [
        "\n",
        " \n",
        "Cutout 63\n",
        "first local minima of 1.1353 at:\n",
        "[a,b] = [-0.2096, -0.3450], [width, length] = [4.2659, 5.0417], theta = 33.2003\n"
       ]
      },
      {
       "output_type": "stream",
       "stream": "stdout",
       "text": [
        "\n",
        "agreeing local minima of 1.1353 at:\n",
        "[a,b] = [-0.2096, -0.3450], [width, length] = [4.2659, 5.0417], theta = 33.2003\n"
       ]
      },
      {
       "output_type": "stream",
       "stream": "stdout",
       "text": [
        "\n",
        "agreeing local minima of 1.1353 at:\n",
        "[a,b] = [-0.2096, -0.3450], [width, length] = [4.2659, 5.0417], theta = 33.2003\n"
       ]
      },
      {
       "output_type": "stream",
       "stream": "stdout",
       "text": [
        "\n",
        "agreeing local minima of 1.1353 at:\n",
        "[a,b] = [-0.2096, -0.3450], [width, length] = [4.2659, 5.0417], theta = 33.2004\n"
       ]
      },
      {
       "output_type": "stream",
       "stream": "stdout",
       "text": [
        "\n",
        "agreeing local minima of 1.1353 at:\n",
        "[a,b] = [-0.2096, -0.3450], [width, length] = [4.2659, 5.0417], theta = 33.2003\n"
       ]
      },
      {
       "output_type": "stream",
       "stream": "stdout",
       "text": [
        "\n",
        " \n",
        "Cutout 64\n",
        "first local minima of 2.7643 at:\n",
        "[a,b] = [-0.6088, 0.6160], [width, length] = [7.4860, 8.8502], theta = 92.9221\n"
       ]
      },
      {
       "output_type": "stream",
       "stream": "stdout",
       "text": [
        "\n",
        "agreeing local minima of 2.7643 at:\n",
        "[a,b] = [-0.6088, 0.6160], [width, length] = [7.4860, 8.8502], theta = 92.9221\n"
       ]
      },
      {
       "output_type": "stream",
       "stream": "stdout",
       "text": [
        "\n",
        "agreeing local minima of 2.7643 at:\n",
        "[a,b] = [-0.6088, 0.6160], [width, length] = [7.4860, 8.8502], theta = 92.9221\n"
       ]
      },
      {
       "output_type": "stream",
       "stream": "stdout",
       "text": [
        "\n",
        "agreeing local minima of 2.7643 at:\n",
        "[a,b] = [-0.6088, 0.6160], [width, length] = [7.4860, 8.8502], theta = 92.9221\n"
       ]
      },
      {
       "output_type": "stream",
       "stream": "stdout",
       "text": [
        "\n",
        "agreeing local minima of 2.7643 at:\n",
        "[a,b] = [-0.6088, 0.6160], [width, length] = [7.4860, 8.8502], theta = 92.9221\n"
       ]
      },
      {
       "output_type": "stream",
       "stream": "stdout",
       "text": [
        "\n",
        " \n",
        "Cutout 65\n",
        "first local minima of 3.4223 at:\n",
        "[a,b] = [0.3275, -0.0862], [width, length] = [8.0647, 10.7135], theta = 22.2224\n"
       ]
      },
      {
       "output_type": "stream",
       "stream": "stdout",
       "text": [
        "\n",
        "agreeing local minima of 3.4223 at:\n",
        "[a,b] = [0.3275, -0.0862], [width, length] = [8.0647, 10.7135], theta = 22.2224\n"
       ]
      },
      {
       "output_type": "stream",
       "stream": "stdout",
       "text": [
        "\n",
        "agreeing local minima of 3.4223 at:\n",
        "[a,b] = [0.3275, -0.0862], [width, length] = [8.0647, 10.7135], theta = 22.2224\n"
       ]
      },
      {
       "output_type": "stream",
       "stream": "stdout",
       "text": [
        "\n",
        "agreeing local minima of 3.4223 at:\n",
        "[a,b] = [0.3275, -0.0862], [width, length] = [8.0647, 10.7135], theta = 22.2224\n"
       ]
      },
      {
       "output_type": "stream",
       "stream": "stdout",
       "text": [
        "\n",
        "agreeing local minima of 3.4223 at:\n",
        "[a,b] = [0.3275, -0.0862], [width, length] = [8.0647, 10.7135], theta = 22.2224\n"
       ]
      },
      {
       "output_type": "stream",
       "stream": "stdout",
       "text": [
        "\n",
        " \n",
        "Cutout 66\n",
        "first local minima of 4.1888 at:\n",
        "[a,b] = [-0.2506, 0.4395], [width, length] = [5.8973, 9.1947], theta = 4.5340\n"
       ]
      },
      {
       "output_type": "stream",
       "stream": "stdout",
       "text": [
        "\n",
        "agreeing local minima of 4.1888 at:\n",
        "[a,b] = [-0.2506, 0.4395], [width, length] = [5.8973, 9.1947], theta = 4.5340\n"
       ]
      },
      {
       "output_type": "stream",
       "stream": "stdout",
       "text": [
        "\n",
        "agreeing local minima of 4.1888 at:\n",
        "[a,b] = [-0.2506, 0.4395], [width, length] = [5.8973, 9.1947], theta = 4.5340\n"
       ]
      },
      {
       "output_type": "stream",
       "stream": "stdout",
       "text": [
        "\n",
        "agreeing local minima of 4.1888 at:\n",
        "[a,b] = [-0.2506, 0.4395], [width, length] = [5.8973, 9.1947], theta = 4.5340\n"
       ]
      },
      {
       "output_type": "stream",
       "stream": "stdout",
       "text": [
        "\n",
        "agreeing local minima of 4.1888 at:\n",
        "[a,b] = [-0.2506, 0.4395], [width, length] = [5.8973, 9.1947], theta = 4.5340\n"
       ]
      },
      {
       "output_type": "stream",
       "stream": "stdout",
       "text": [
        "\n",
        " \n",
        "Cutout 67\n",
        "first local minima of 3.4972 at:\n",
        "[a,b] = [-0.5973, 0.1175], [width, length] = [8.3749, 9.3743], theta = 53.5504\n"
       ]
      },
      {
       "output_type": "stream",
       "stream": "stdout",
       "text": [
        "\n",
        "agreeing local minima of 3.4972 at:\n",
        "[a,b] = [-0.5973, 0.1175], [width, length] = [8.3749, 9.3743], theta = 53.5505\n"
       ]
      },
      {
       "output_type": "stream",
       "stream": "stdout",
       "text": [
        "\n",
        "agreeing local minima of 3.4972 at:\n",
        "[a,b] = [-0.5973, 0.1175], [width, length] = [8.3749, 9.3743], theta = 53.5505\n"
       ]
      },
      {
       "output_type": "stream",
       "stream": "stdout",
       "text": [
        "\n",
        "agreeing local minima of 3.4972 at:\n",
        "[a,b] = [-0.5973, 0.1175], [width, length] = [8.3749, 9.3743], theta = 53.5504\n"
       ]
      },
      {
       "output_type": "stream",
       "stream": "stdout",
       "text": [
        "\n",
        "agreeing local minima of 3.4972 at:\n",
        "[a,b] = [-0.5973, 0.1175], [width, length] = [8.3749, 9.3743], theta = 53.5506\n"
       ]
      },
      {
       "output_type": "stream",
       "stream": "stdout",
       "text": [
        "\n",
        " \n",
        "Cutout 68\n",
        "first local minima of 6.8093 at:\n",
        "[a,b] = [0.0727, 0.2215], [width, length] = [8.7655, 9.4999], theta = 94.9821\n"
       ]
      },
      {
       "output_type": "stream",
       "stream": "stdout",
       "text": [
        "\n",
        "agreeing local minima of 6.8093 at:\n",
        "[a,b] = [0.0727, 0.2215], [width, length] = [8.7655, 9.4999], theta = 94.9825\n"
       ]
      },
      {
       "output_type": "stream",
       "stream": "stdout",
       "text": [
        "\n",
        "agreeing local minima of 6.8093 at:\n",
        "[a,b] = [0.0727, 0.2215], [width, length] = [8.7655, 9.4999], theta = 94.9824\n"
       ]
      },
      {
       "output_type": "stream",
       "stream": "stdout",
       "text": [
        "\n",
        "agreeing local minima of 6.8093 at:\n",
        "[a,b] = [0.0727, 0.2215], [width, length] = [8.7655, 9.4999], theta = 94.9824\n"
       ]
      },
      {
       "output_type": "stream",
       "stream": "stdout",
       "text": [
        "\n",
        "agreeing local minima of 6.8093 at:\n",
        "[a,b] = [0.0727, 0.2215], [width, length] = [8.7655, 9.4999], theta = 94.9823\n"
       ]
      },
      {
       "output_type": "stream",
       "stream": "stdout",
       "text": [
        "\n",
        " \n",
        "Cutout 69\n",
        "first local minima of 24.3629 at:\n",
        "[a,b] = [-0.3579, 0.2854], [width, length] = [10.8087, 16.6606], theta = 29.2755\n"
       ]
      },
      {
       "output_type": "stream",
       "stream": "stdout",
       "text": [
        "\n",
        "agreeing local minima of 24.3629 at:\n",
        "[a,b] = [-0.3579, 0.2854], [width, length] = [10.8087, 16.6606], theta = 29.2755\n"
       ]
      },
      {
       "output_type": "stream",
       "stream": "stdout",
       "text": [
        "\n",
        "agreeing local minima of 24.3629 at:\n",
        "[a,b] = [-0.3579, 0.2854], [width, length] = [10.8087, 16.6606], theta = 29.2755\n"
       ]
      },
      {
       "output_type": "stream",
       "stream": "stdout",
       "text": [
        "\n",
        "agreeing local minima of 24.3629 at:\n",
        "[a,b] = [-0.3579, 0.2854], [width, length] = [10.8087, 16.6606], theta = 29.2756\n"
       ]
      },
      {
       "output_type": "stream",
       "stream": "stdout",
       "text": [
        "\n",
        "agreeing local minima of 24.3629 at:\n",
        "[a,b] = [-0.3579, 0.2854], [width, length] = [10.8087, 16.6606], theta = 29.2755\n"
       ]
      },
      {
       "output_type": "stream",
       "stream": "stdout",
       "text": [
        "\n",
        " \n",
        "Cutout 70\n",
        "first local minima of 2.6299 at:\n",
        "[a,b] = [-0.0548, -0.0726], [width, length] = [7.4619, 8.1819], theta = 166.5630\n"
       ]
      },
      {
       "output_type": "stream",
       "stream": "stdout",
       "text": [
        "\n",
        "agreeing local minima of 2.6299 at:\n",
        "[a,b] = [-0.0548, -0.0726], [width, length] = [7.4619, 8.1819], theta = 166.5629\n"
       ]
      },
      {
       "output_type": "stream",
       "stream": "stdout",
       "text": [
        "\n",
        "agreeing local minima of 2.6299 at:\n",
        "[a,b] = [-0.0548, -0.0726], [width, length] = [7.4619, 8.1819], theta = 166.5629\n"
       ]
      },
      {
       "output_type": "stream",
       "stream": "stdout",
       "text": [
        "\n",
        "agreeing local minima of 2.6299 at:\n",
        "[a,b] = [-0.0548, -0.0726], [width, length] = [7.4619, 8.1819], theta = 166.5629\n"
       ]
      },
      {
       "output_type": "stream",
       "stream": "stdout",
       "text": [
        "\n",
        "agreeing local minima of 2.6299 at:\n",
        "[a,b] = [-0.0548, -0.0726], [width, length] = [7.4619, 8.1819], theta = 166.5630\n"
       ]
      },
      {
       "output_type": "stream",
       "stream": "stdout",
       "text": [
        "\n",
        " \n",
        "Cutout 71\n",
        "first local minima of 7.5125 at:\n",
        "[a,b] = [-0.2255, 0.0191], [width, length] = [9.3250, 12.0662], theta = 168.7586\n"
       ]
      },
      {
       "output_type": "stream",
       "stream": "stdout",
       "text": [
        "\n",
        "agreeing local minima of 7.5125 at:\n",
        "[a,b] = [-0.2255, 0.0191], [width, length] = [9.3250, 12.0662], theta = 168.7586\n"
       ]
      },
      {
       "output_type": "stream",
       "stream": "stdout",
       "text": [
        "\n",
        "agreeing local minima of 7.5125 at:\n",
        "[a,b] = [-0.2255, 0.0191], [width, length] = [9.3250, 12.0662], theta = 168.7586\n"
       ]
      },
      {
       "output_type": "stream",
       "stream": "stdout",
       "text": [
        "\n",
        "agreeing local minima of 7.5125 at:\n",
        "[a,b] = [-0.2255, 0.0191], [width, length] = [9.3250, 12.0662], theta = 168.7586\n"
       ]
      },
      {
       "output_type": "stream",
       "stream": "stdout",
       "text": [
        "\n",
        "agreeing local minima of 7.5125 at:\n",
        "[a,b] = [-0.2255, 0.0191], [width, length] = [9.3250, 12.0662], theta = 168.7586\n"
       ]
      },
      {
       "output_type": "stream",
       "stream": "stdout",
       "text": [
        "\n",
        " \n",
        "Cutout 72\n",
        "first local minima of 5.1299 at:\n",
        "[a,b] = [-0.5749, -0.3244], [width, length] = [6.2766, 7.5840], theta = 166.6503\n"
       ]
      },
      {
       "output_type": "stream",
       "stream": "stdout",
       "text": [
        "\n",
        "agreeing local minima of 5.1299 at:\n",
        "[a,b] = [-0.5749, -0.3244], [width, length] = [6.2766, 7.5840], theta = 166.6503\n"
       ]
      },
      {
       "output_type": "stream",
       "stream": "stdout",
       "text": [
        "\n",
        "agreeing local minima of 5.1299 at:\n",
        "[a,b] = [-0.5749, -0.3244], [width, length] = [6.2766, 7.5840], theta = 166.6503\n"
       ]
      },
      {
       "output_type": "stream",
       "stream": "stdout",
       "text": [
        "\n",
        "agreeing local minima of 5.1299 at:\n",
        "[a,b] = [-0.5749, -0.3244], [width, length] = [6.2766, 7.5840], theta = 166.6504\n"
       ]
      },
      {
       "output_type": "stream",
       "stream": "stdout",
       "text": [
        "\n",
        "agreeing local minima of 5.1299 at:\n",
        "[a,b] = [-0.5749, -0.3244], [width, length] = [6.2766, 7.5840], theta = 166.6503\n"
       ]
      },
      {
       "output_type": "stream",
       "stream": "stdout",
       "text": [
        "\n",
        " \n",
        "Cutout 73\n",
        "first local minima of 3.5087 at:\n",
        "[a,b] = [-0.0100, -0.2829], [width, length] = [7.2530, 9.4012], theta = 114.2327\n"
       ]
      },
      {
       "output_type": "stream",
       "stream": "stdout",
       "text": [
        "\n",
        "agreeing local minima of 3.5087 at:\n",
        "[a,b] = [-0.0100, -0.2829], [width, length] = [7.2530, 9.4012], theta = 114.2326\n"
       ]
      },
      {
       "output_type": "stream",
       "stream": "stdout",
       "text": [
        "\n",
        "agreeing local minima of 3.5087 at:\n",
        "[a,b] = [-0.0100, -0.2829], [width, length] = [7.2530, 9.4012], theta = 114.2326\n"
       ]
      },
      {
       "output_type": "stream",
       "stream": "stdout",
       "text": [
        "\n",
        "agreeing local minima of 3.5087 at:\n",
        "[a,b] = [-0.0100, -0.2829], [width, length] = [7.2530, 9.4012], theta = 114.2326\n"
       ]
      },
      {
       "output_type": "stream",
       "stream": "stdout",
       "text": [
        "\n",
        "agreeing local minima of 3.5087 at:\n",
        "[a,b] = [-0.0100, -0.2829], [width, length] = [7.2530, 9.4012], theta = 114.2326\n"
       ]
      },
      {
       "output_type": "stream",
       "stream": "stdout",
       "text": [
        "\n",
        " \n",
        "Cutout 74\n",
        "first local minima of 4.9361 at:\n",
        "[a,b] = [0.1024, 0.1905], [width, length] = [7.1894, 8.5831], theta = 88.4650\n"
       ]
      },
      {
       "output_type": "stream",
       "stream": "stdout",
       "text": [
        "\n",
        "agreeing local minima of 4.9361 at:\n",
        "[a,b] = [0.1024, 0.1905], [width, length] = [7.1894, 8.5831], theta = 88.4650\n"
       ]
      },
      {
       "output_type": "stream",
       "stream": "stdout",
       "text": [
        "\n",
        "agreeing local minima of 4.9361 at:\n",
        "[a,b] = [0.1024, 0.1905], [width, length] = [7.1894, 8.5831], theta = 88.4650\n"
       ]
      },
      {
       "output_type": "stream",
       "stream": "stdout",
       "text": [
        "\n",
        "agreeing local minima of 4.9361 at:\n",
        "[a,b] = [0.1024, 0.1905], [width, length] = [7.1894, 8.5831], theta = 88.4650\n"
       ]
      },
      {
       "output_type": "stream",
       "stream": "stdout",
       "text": [
        "\n",
        "agreeing local minima of 4.9361 at:\n",
        "[a,b] = [0.1024, 0.1905], [width, length] = [7.1894, 8.5831], theta = 88.4650\n"
       ]
      },
      {
       "output_type": "stream",
       "stream": "stdout",
       "text": [
        "\n",
        " \n",
        "Cutout 75\n",
        "first local minima of 1.1353 at:\n",
        "[a,b] = [-0.2096, -0.3450], [width, length] = [4.2659, 5.0417], theta = 33.2002\n"
       ]
      },
      {
       "output_type": "stream",
       "stream": "stdout",
       "text": [
        "\n",
        "agreeing local minima of 1.1353 at:\n",
        "[a,b] = [-0.2096, -0.3450], [width, length] = [4.2659, 5.0417], theta = 33.2003\n"
       ]
      },
      {
       "output_type": "stream",
       "stream": "stdout",
       "text": [
        "\n",
        "agreeing local minima of 1.1353 at:\n",
        "[a,b] = [-0.2096, -0.3450], [width, length] = [4.2659, 5.0417], theta = 33.2003\n"
       ]
      },
      {
       "output_type": "stream",
       "stream": "stdout",
       "text": [
        "\n",
        "agreeing local minima of 1.1353 at:\n",
        "[a,b] = [-0.2096, -0.3450], [width, length] = [4.2659, 5.0417], theta = 33.2002\n"
       ]
      },
      {
       "output_type": "stream",
       "stream": "stdout",
       "text": [
        "\n",
        "agreeing local minima of 1.1353 at:\n",
        "[a,b] = [-0.2096, -0.3450], [width, length] = [4.2659, 5.0417], theta = 33.2003\n"
       ]
      },
      {
       "output_type": "stream",
       "stream": "stdout",
       "text": [
        "\n",
        " \n",
        "Cutout 76\n",
        "first local minima of 0.5689 at:\n",
        "[a,b] = [-0.2021, -0.1805], [width, length] = [3.5418, 4.6558], theta = 0.2535\n"
       ]
      },
      {
       "output_type": "stream",
       "stream": "stdout",
       "text": [
        "\n",
        "agreeing local minima of 0.5689 at:\n",
        "[a,b] = [-0.2021, -0.1805], [width, length] = [3.5418, 4.6558], theta = 0.2535\n"
       ]
      },
      {
       "output_type": "stream",
       "stream": "stdout",
       "text": [
        "\n",
        "agreeing local minima of 0.5689 at:\n",
        "[a,b] = [-0.2021, -0.1805], [width, length] = [3.5418, 4.6558], theta = 0.2535\n"
       ]
      },
      {
       "output_type": "stream",
       "stream": "stdout",
       "text": [
        "\n",
        "agreeing local minima of 0.5689 at:\n",
        "[a,b] = [-0.2021, -0.1805], [width, length] = [3.5418, 4.6558], theta = 0.2535\n"
       ]
      },
      {
       "output_type": "stream",
       "stream": "stdout",
       "text": [
        "\n",
        "agreeing local minima of 0.5689 at:\n",
        "[a,b] = [-0.2021, -0.1805], [width, length] = [3.5418, 4.6558], theta = 0.2535\n"
       ]
      },
      {
       "output_type": "stream",
       "stream": "stdout",
       "text": [
        "\n",
        " \n",
        "Cutout 77\n",
        "first local minima of 43.5776 at:\n",
        "[a,b] = [0.1038, -0.2209], [width, length] = [7.3642, 23.8330], theta = 2.4841\n"
       ]
      },
      {
       "output_type": "stream",
       "stream": "stdout",
       "text": [
        "\n",
        "agreeing local minima of 43.5776 at:\n",
        "[a,b] = [0.1038, -0.2209], [width, length] = [7.3642, 23.8330], theta = 2.4842\n"
       ]
      },
      {
       "output_type": "stream",
       "stream": "stdout",
       "text": [
        "\n",
        "agreeing local minima of 43.5776 at:\n",
        "[a,b] = [0.1038, -0.2209], [width, length] = [7.3642, 23.8330], theta = 2.4841\n"
       ]
      },
      {
       "output_type": "stream",
       "stream": "stdout",
       "text": [
        "\n",
        "agreeing local minima of 43.5776 at:\n",
        "[a,b] = [0.1038, -0.2209], [width, length] = [7.3642, 23.8330], theta = 2.4841\n"
       ]
      },
      {
       "output_type": "stream",
       "stream": "stdout",
       "text": [
        "\n",
        "agreeing local minima of 43.5776 at:\n",
        "[a,b] = [0.1038, -0.2209], [width, length] = [7.3642, 23.8330], theta = 2.4841\n"
       ]
      },
      {
       "output_type": "stream",
       "stream": "stdout",
       "text": [
        "\n",
        " \n",
        "Cutout 78\n",
        "first local minima of 3.2169 at:\n",
        "[a,b] = [-0.0904, 0.0491], [width, length] = [9.3603, 11.2915], theta = 94.9363\n"
       ]
      },
      {
       "output_type": "stream",
       "stream": "stdout",
       "text": [
        "\n",
        "agreeing local minima of 3.2169 at:\n",
        "[a,b] = [-0.0904, 0.0491], [width, length] = [9.3603, 11.2915], theta = 94.9362\n"
       ]
      },
      {
       "output_type": "stream",
       "stream": "stdout",
       "text": [
        "\n",
        "agreeing local minima of 3.2169 at:\n",
        "[a,b] = [-0.0904, 0.0491], [width, length] = [9.3603, 11.2915], theta = 94.9363\n"
       ]
      },
      {
       "output_type": "stream",
       "stream": "stdout",
       "text": [
        "\n",
        "agreeing local minima of 3.2169 at:\n",
        "[a,b] = [-0.0904, 0.0491], [width, length] = [9.3603, 11.2915], theta = 94.9362\n"
       ]
      },
      {
       "output_type": "stream",
       "stream": "stdout",
       "text": [
        "\n",
        "agreeing local minima of 3.2169 at:\n",
        "[a,b] = [-0.0904, 0.0491], [width, length] = [9.3603, 11.2915], theta = 94.9363\n"
       ]
      },
      {
       "output_type": "stream",
       "stream": "stdout",
       "text": [
        "\n",
        " \n",
        "Cutout 79\n",
        "first local minima of 3.7195 at:\n",
        "[a,b] = [0.1528, -0.0408], [width, length] = [6.6700, 9.0087], theta = 88.0515\n"
       ]
      },
      {
       "output_type": "stream",
       "stream": "stdout",
       "text": [
        "\n",
        "agreeing local minima of 3.7195 at:\n",
        "[a,b] = [0.1528, -0.0408], [width, length] = [6.6700, 9.0087], theta = 88.0515\n"
       ]
      },
      {
       "output_type": "stream",
       "stream": "stdout",
       "text": [
        "\n",
        "agreeing local minima of 3.7195 at:\n",
        "[a,b] = [0.1528, -0.0408], [width, length] = [6.6700, 9.0087], theta = 88.0515\n"
       ]
      },
      {
       "output_type": "stream",
       "stream": "stdout",
       "text": [
        "\n",
        "agreeing local minima of 3.7195 at:\n",
        "[a,b] = [0.1528, -0.0408], [width, length] = [6.6700, 9.0087], theta = 88.0515\n"
       ]
      },
      {
       "output_type": "stream",
       "stream": "stdout",
       "text": [
        "\n",
        "agreeing local minima of 3.7195 at:\n",
        "[a,b] = [0.1528, -0.0408], [width, length] = [6.6700, 9.0087], theta = 88.0515\n"
       ]
      },
      {
       "output_type": "stream",
       "stream": "stdout",
       "text": [
        "\n",
        " \n",
        "Cutout 80\n",
        "first local minima of 2.1815 at:\n",
        "[a,b] = [0.0014, -0.0692], [width, length] = [6.8535, 7.5172], theta = 164.9504\n"
       ]
      },
      {
       "output_type": "stream",
       "stream": "stdout",
       "text": [
        "\n",
        "agreeing local minima of 2.1815 at:\n",
        "[a,b] = [0.0014, -0.0692], [width, length] = [6.8535, 7.5172], theta = 164.9504\n"
       ]
      },
      {
       "output_type": "stream",
       "stream": "stdout",
       "text": [
        "\n",
        "agreeing local minima of 2.1815 at:\n",
        "[a,b] = [0.0014, -0.0692], [width, length] = [6.8535, 7.5172], theta = 164.9504\n"
       ]
      },
      {
       "output_type": "stream",
       "stream": "stdout",
       "text": [
        "\n",
        "agreeing local minima of 2.1815 at:\n",
        "[a,b] = [0.0014, -0.0692], [width, length] = [6.8535, 7.5172], theta = 164.9503\n"
       ]
      },
      {
       "output_type": "stream",
       "stream": "stdout",
       "text": [
        "\n",
        "agreeing local minima of 2.1815 at:\n",
        "[a,b] = [0.0014, -0.0692], [width, length] = [6.8535, 7.5172], theta = 164.9504\n"
       ]
      },
      {
       "output_type": "stream",
       "stream": "stdout",
       "text": [
        "\n",
        " \n",
        "Cutout 81\n",
        "first local minima of 7.5125 at:\n",
        "[a,b] = [-0.2255, 0.0191], [width, length] = [9.3250, 12.0662], theta = 168.7586\n"
       ]
      },
      {
       "output_type": "stream",
       "stream": "stdout",
       "text": [
        "\n",
        "agreeing local minima of 7.5125 at:\n",
        "[a,b] = [-0.2255, 0.0191], [width, length] = [9.3250, 12.0662], theta = 168.7586\n"
       ]
      },
      {
       "output_type": "stream",
       "stream": "stdout",
       "text": [
        "\n",
        "agreeing local minima of 7.5125 at:\n",
        "[a,b] = [-0.2255, 0.0191], [width, length] = [9.3250, 12.0662], theta = 168.7586\n"
       ]
      },
      {
       "output_type": "stream",
       "stream": "stdout",
       "text": [
        "\n",
        "agreeing local minima of 7.5125 at:\n",
        "[a,b] = [-0.2255, 0.0191], [width, length] = [9.3250, 12.0662], theta = 168.7586\n"
       ]
      },
      {
       "output_type": "stream",
       "stream": "stdout",
       "text": [
        "\n",
        "agreeing local minima of 7.5125 at:\n",
        "[a,b] = [-0.2255, 0.0191], [width, length] = [9.3250, 12.0662], theta = 168.7585\n"
       ]
      },
      {
       "output_type": "stream",
       "stream": "stdout",
       "text": [
        "\n",
        " \n",
        "Cutout 82\n",
        "first local minima of 5.1299 at:\n",
        "[a,b] = [-0.5749, -0.3244], [width, length] = [6.2766, 7.5840], theta = 166.6504\n"
       ]
      },
      {
       "output_type": "stream",
       "stream": "stdout",
       "text": [
        "\n",
        "agreeing local minima of 5.1299 at:\n",
        "[a,b] = [-0.5749, -0.3244], [width, length] = [6.2766, 7.5840], theta = 166.6504\n"
       ]
      },
      {
       "output_type": "stream",
       "stream": "stdout",
       "text": [
        "\n",
        "agreeing local minima of 5.1299 at:\n",
        "[a,b] = [-0.5749, -0.3244], [width, length] = [6.2766, 7.5840], theta = 166.6503\n"
       ]
      },
      {
       "output_type": "stream",
       "stream": "stdout",
       "text": [
        "\n",
        "agreeing local minima of 5.1299 at:\n",
        "[a,b] = [-0.5749, -0.3244], [width, length] = [6.2766, 7.5840], theta = 166.6504\n"
       ]
      },
      {
       "output_type": "stream",
       "stream": "stdout",
       "text": [
        "\n",
        "agreeing local minima of 5.1299 at:\n",
        "[a,b] = [-0.5749, -0.3244], [width, length] = [6.2766, 7.5840], theta = 166.6504\n"
       ]
      },
      {
       "output_type": "stream",
       "stream": "stdout",
       "text": [
        "\n",
        " \n",
        "Cutout 83\n",
        "first local minima of 2.7225 at:\n",
        "[a,b] = [-0.9500, -0.3194], [width, length] = [5.6764, 7.9031], theta = 162.6130\n"
       ]
      },
      {
       "output_type": "stream",
       "stream": "stdout",
       "text": [
        "\n",
        "agreeing local minima of 2.7225 at:\n",
        "[a,b] = [-0.9500, -0.3194], [width, length] = [5.6764, 7.9031], theta = 162.6130\n"
       ]
      },
      {
       "output_type": "stream",
       "stream": "stdout",
       "text": [
        "\n",
        "agreeing local minima of 2.7225 at:\n",
        "[a,b] = [-0.9500, -0.3194], [width, length] = [5.6764, 7.9031], theta = 162.6130\n"
       ]
      },
      {
       "output_type": "stream",
       "stream": "stdout",
       "text": [
        "\n",
        "agreeing local minima of 2.7225 at:\n",
        "[a,b] = [-0.9500, -0.3194], [width, length] = [5.6764, 7.9031], theta = 162.6130\n"
       ]
      },
      {
       "output_type": "stream",
       "stream": "stdout",
       "text": [
        "\n",
        "agreeing local minima of 2.7225 at:\n",
        "[a,b] = [-0.9500, -0.3194], [width, length] = [5.6764, 7.9031], theta = 162.6130\n"
       ]
      },
      {
       "output_type": "stream",
       "stream": "stdout",
       "text": [
        "\n",
        " \n",
        "Cutout 84\n",
        "first local minima of 1.7154 at:\n",
        "[a,b] = [0.3740, 0.0879], [width, length] = [7.1481, 8.3976], theta = 10.6238\n"
       ]
      },
      {
       "output_type": "stream",
       "stream": "stdout",
       "text": [
        "\n",
        "agreeing local minima of 1.7154 at:\n",
        "[a,b] = [0.3740, 0.0879], [width, length] = [7.1481, 8.3976], theta = 10.6238\n"
       ]
      },
      {
       "output_type": "stream",
       "stream": "stdout",
       "text": [
        "\n",
        "agreeing local minima of 1.7154 at:\n",
        "[a,b] = [0.3740, 0.0879], [width, length] = [7.1481, 8.3976], theta = 10.6238\n"
       ]
      },
      {
       "output_type": "stream",
       "stream": "stdout",
       "text": [
        "\n",
        "agreeing local minima of 1.7154 at:\n",
        "[a,b] = [0.3740, 0.0879], [width, length] = [7.1481, 8.3976], theta = 10.6238\n"
       ]
      },
      {
       "output_type": "stream",
       "stream": "stdout",
       "text": [
        "\n",
        "agreeing local minima of 1.7154 at:\n",
        "[a,b] = [0.3740, 0.0879], [width, length] = [7.1481, 8.3976], theta = 10.6238\n"
       ]
      },
      {
       "output_type": "stream",
       "stream": "stdout",
       "text": [
        "\n",
        " \n",
        "Cutout 85\n",
        "first local minima of 1.1353 at:\n",
        "[a,b] = [-0.2096, -0.3450], [width, length] = [4.2659, 5.0417], theta = 33.2003\n"
       ]
      },
      {
       "output_type": "stream",
       "stream": "stdout",
       "text": [
        "\n",
        "agreeing local minima of 1.1353 at:\n",
        "[a,b] = [-0.2096, -0.3450], [width, length] = [4.2659, 5.0417], theta = 33.2003\n"
       ]
      },
      {
       "output_type": "stream",
       "stream": "stdout",
       "text": [
        "\n",
        "agreeing local minima of 1.1353 at:\n",
        "[a,b] = [-0.2096, -0.3450], [width, length] = [4.2659, 5.0417], theta = 33.2003\n"
       ]
      },
      {
       "output_type": "stream",
       "stream": "stdout",
       "text": [
        "\n",
        "agreeing local minima of 1.1353 at:\n",
        "[a,b] = [-0.2096, -0.3450], [width, length] = [4.2659, 5.0417], theta = 33.2003\n"
       ]
      },
      {
       "output_type": "stream",
       "stream": "stdout",
       "text": [
        "\n",
        "agreeing local minima of 1.1353 at:\n",
        "[a,b] = [-0.2096, -0.3450], [width, length] = [4.2659, 5.0417], theta = 33.2003\n"
       ]
      },
      {
       "output_type": "stream",
       "stream": "stdout",
       "text": [
        "\n",
        " \n",
        "Cutout 86\n",
        "first local minima of 5.3495 at:\n",
        "[a,b] = [-0.1828, 0.7891], [width, length] = [8.0455, 10.9531], theta = 120.5559\n"
       ]
      },
      {
       "output_type": "stream",
       "stream": "stdout",
       "text": [
        "\n",
        "agreeing local minima of 5.3495 at:\n",
        "[a,b] = [-0.1828, 0.7891], [width, length] = [8.0455, 10.9531], theta = 120.5559\n"
       ]
      },
      {
       "output_type": "stream",
       "stream": "stdout",
       "text": [
        "\n",
        "agreeing local minima of 5.3495 at:\n",
        "[a,b] = [-0.1828, 0.7891], [width, length] = [8.0455, 10.9531], theta = 120.5559\n"
       ]
      },
      {
       "output_type": "stream",
       "stream": "stdout",
       "text": [
        "\n",
        "agreeing local minima of 5.3495 at:\n",
        "[a,b] = [-0.1828, 0.7891], [width, length] = [8.0455, 10.9531], theta = 120.5559\n"
       ]
      },
      {
       "output_type": "stream",
       "stream": "stdout",
       "text": [
        "\n",
        "agreeing local minima of 5.3495 at:\n",
        "[a,b] = [-0.1828, 0.7891], [width, length] = [8.0455, 10.9531], theta = 120.5559\n"
       ]
      },
      {
       "output_type": "stream",
       "stream": "stdout",
       "text": [
        "\n",
        " \n",
        "Cutout 87\n",
        "first local minima of 0.5689 at:\n",
        "[a,b] = [-0.2021, -0.1805], [width, length] = [3.5418, 4.6558], theta = 0.2535\n"
       ]
      },
      {
       "output_type": "stream",
       "stream": "stdout",
       "text": [
        "\n",
        "agreeing local minima of 0.5689 at:\n",
        "[a,b] = [-0.2021, -0.1805], [width, length] = [3.5418, 4.6558], theta = 0.2535\n"
       ]
      },
      {
       "output_type": "stream",
       "stream": "stdout",
       "text": [
        "\n",
        "agreeing local minima of 0.5689 at:\n",
        "[a,b] = [-0.2021, -0.1805], [width, length] = [3.5418, 4.6558], theta = 0.2535\n"
       ]
      },
      {
       "output_type": "stream",
       "stream": "stdout",
       "text": [
        "\n",
        "agreeing local minima of 0.5689 at:\n",
        "[a,b] = [-0.2021, -0.1805], [width, length] = [3.5418, 4.6558], theta = 0.2535\n"
       ]
      },
      {
       "output_type": "stream",
       "stream": "stdout",
       "text": [
        "\n",
        "agreeing local minima of 0.5689 at:\n",
        "[a,b] = [-0.2021, -0.1805], [width, length] = [3.5418, 4.6558], theta = 0.2535\n"
       ]
      },
      {
       "output_type": "stream",
       "stream": "stdout",
       "text": [
        "\n",
        " \n",
        "Cutout 88\n",
        "first local minima of 9.4447 at:\n",
        "[a,b] = [-0.6290, 0.1278], [width, length] = [8.6900, 10.5521], theta = 171.9483\n"
       ]
      },
      {
       "output_type": "stream",
       "stream": "stdout",
       "text": [
        "\n",
        "agreeing local minima of 9.4447 at:\n",
        "[a,b] = [-0.6290, 0.1278], [width, length] = [8.6900, 10.5521], theta = 171.9484\n"
       ]
      },
      {
       "output_type": "stream",
       "stream": "stdout",
       "text": [
        "\n",
        "agreeing local minima of 9.4447 at:\n",
        "[a,b] = [-0.6290, 0.1278], [width, length] = [8.6900, 10.5521], theta = 171.9482\n"
       ]
      },
      {
       "output_type": "stream",
       "stream": "stdout",
       "text": [
        "\n",
        "agreeing local minima of 9.4447 at:\n",
        "[a,b] = [-0.6290, 0.1278], [width, length] = [8.6900, 10.5521], theta = 171.9483\n"
       ]
      },
      {
       "output_type": "stream",
       "stream": "stdout",
       "text": [
        "\n",
        "agreeing local minima of 9.4447 at:\n",
        "[a,b] = [-0.6290, 0.1278], [width, length] = [8.6900, 10.5521], theta = 171.9483\n"
       ]
      },
      {
       "output_type": "stream",
       "stream": "stdout",
       "text": [
        "\n",
        " \n",
        "Cutout 89\n",
        "first local minima of 3.7069 at:\n",
        "[a,b] = [-0.0596, -0.4074], [width, length] = [8.9492, 11.2493], theta = 100.1293\n"
       ]
      },
      {
       "output_type": "stream",
       "stream": "stdout",
       "text": [
        "\n",
        "agreeing local minima of 3.7069 at:\n",
        "[a,b] = [-0.0596, -0.4074], [width, length] = [8.9492, 11.2494], theta = 100.1293\n"
       ]
      },
      {
       "output_type": "stream",
       "stream": "stdout",
       "text": [
        "\n",
        "agreeing local minima of 3.7069 at:\n",
        "[a,b] = [-0.0596, -0.4074], [width, length] = [8.9492, 11.2493], theta = 100.1293\n"
       ]
      },
      {
       "output_type": "stream",
       "stream": "stdout",
       "text": [
        "\n",
        "agreeing local minima of 3.7069 at:\n",
        "[a,b] = [-0.0596, -0.4074], [width, length] = [8.9492, 11.2494], theta = 100.1294\n"
       ]
      },
      {
       "output_type": "stream",
       "stream": "stdout",
       "text": [
        "\n",
        "agreeing local minima of 3.7069 at:\n",
        "[a,b] = [-0.0596, -0.4074], [width, length] = [8.9492, 11.2493], theta = 100.1293\n"
       ]
      },
      {
       "output_type": "stream",
       "stream": "stdout",
       "text": [
        "\n",
        " \n",
        "Cutout 90\n",
        "first local minima of 5.6675 at:\n",
        "[a,b] = [-0.3922, 0.0433], [width, length] = [7.0985, 9.7685], theta = 26.8344\n"
       ]
      },
      {
       "output_type": "stream",
       "stream": "stdout",
       "text": [
        "\n",
        "agreeing local minima of 5.6675 at:\n",
        "[a,b] = [-0.3922, 0.0433], [width, length] = [7.0985, 9.7685], theta = 26.8343\n"
       ]
      },
      {
       "output_type": "stream",
       "stream": "stdout",
       "text": [
        "\n",
        "agreeing local minima of 5.6675 at:\n",
        "[a,b] = [-0.3922, 0.0433], [width, length] = [7.0985, 9.7685], theta = 26.8344\n"
       ]
      },
      {
       "output_type": "stream",
       "stream": "stdout",
       "text": [
        "\n",
        "agreeing local minima of 5.6675 at:\n",
        "[a,b] = [-0.3922, 0.0433], [width, length] = [7.0985, 9.7685], theta = 26.8344\n"
       ]
      },
      {
       "output_type": "stream",
       "stream": "stdout",
       "text": [
        "\n",
        "agreeing local minima of 5.6675 at:\n",
        "[a,b] = [-0.3922, 0.0433], [width, length] = [7.0985, 9.7685], theta = 26.8344\n"
       ]
      },
      {
       "output_type": "stream",
       "stream": "stdout",
       "text": [
        "\n",
        " \n",
        "Cutout 91\n",
        "first local minima of 3.5075 at:\n",
        "[a,b] = [0.0519, 0.0732], [width, length] = [8.3685, 8.8564], theta = 33.0783\n"
       ]
      },
      {
       "output_type": "stream",
       "stream": "stdout",
       "text": [
        "\n",
        "agreeing local minima of 3.5075 at:\n",
        "[a,b] = [0.0519, 0.0732], [width, length] = [8.3685, 8.8564], theta = 33.0783\n"
       ]
      },
      {
       "output_type": "stream",
       "stream": "stdout",
       "text": [
        "\n",
        "agreeing local minima of 3.5075 at:\n",
        "[a,b] = [0.0519, 0.0732], [width, length] = [8.3685, 8.8564], theta = 33.0783\n"
       ]
      },
      {
       "output_type": "stream",
       "stream": "stdout",
       "text": [
        "\n",
        "agreeing local minima of 3.5075 at:\n",
        "[a,b] = [0.0519, 0.0732], [width, length] = [8.3685, 8.8564], theta = 33.0783\n"
       ]
      },
      {
       "output_type": "stream",
       "stream": "stdout",
       "text": [
        "\n",
        "agreeing local minima of 3.5075 at:\n",
        "[a,b] = [0.0519, 0.0732], [width, length] = [8.3685, 8.8564], theta = 33.0783\n"
       ]
      },
      {
       "output_type": "stream",
       "stream": "stdout",
       "text": [
        "\n",
        " \n",
        "Cutout 92\n",
        "first local minima of 11.2508 at:\n",
        "[a,b] = [0.7054, -0.5021], [width, length] = [7.3521, 13.5371], theta = 17.6217\n"
       ]
      },
      {
       "output_type": "stream",
       "stream": "stdout",
       "text": [
        "\n",
        "agreeing local minima of 11.2508 at:\n",
        "[a,b] = [0.7054, -0.5021], [width, length] = [7.3521, 13.5371], theta = 17.6217\n"
       ]
      },
      {
       "output_type": "stream",
       "stream": "stdout",
       "text": [
        "\n",
        "agreeing local minima of 11.2508 at:\n",
        "[a,b] = [0.7054, -0.5021], [width, length] = [7.3521, 13.5371], theta = 17.6217\n"
       ]
      },
      {
       "output_type": "stream",
       "stream": "stdout",
       "text": [
        "\n",
        "agreeing local minima of 11.2508 at:\n",
        "[a,b] = [0.7054, -0.5021], [width, length] = [7.3521, 13.5371], theta = 17.6217\n"
       ]
      },
      {
       "output_type": "stream",
       "stream": "stdout",
       "text": [
        "\n",
        "agreeing local minima of 11.2508 at:\n",
        "[a,b] = [0.7054, -0.5021], [width, length] = [7.3521, 13.5371], theta = 17.6217\n"
       ]
      },
      {
       "output_type": "stream",
       "stream": "stdout",
       "text": [
        "\n",
        " \n",
        "Cutout 93\n",
        "first local minima of 7.5125 at:\n",
        "[a,b] = [-0.2255, 0.0191], [width, length] = [9.3250, 12.0662], theta = 168.7586\n"
       ]
      },
      {
       "output_type": "stream",
       "stream": "stdout",
       "text": [
        "\n",
        "agreeing local minima of 7.5125 at:\n",
        "[a,b] = [-0.2255, 0.0191], [width, length] = [9.3250, 12.0662], theta = 168.7586\n"
       ]
      },
      {
       "output_type": "stream",
       "stream": "stdout",
       "text": [
        "\n",
        "agreeing local minima of 7.5125 at:\n",
        "[a,b] = [-0.2255, 0.0191], [width, length] = [9.3250, 12.0662], theta = 168.7586\n"
       ]
      },
      {
       "output_type": "stream",
       "stream": "stdout",
       "text": [
        "\n",
        "agreeing local minima of 7.5125 at:\n",
        "[a,b] = [-0.2255, 0.0191], [width, length] = [9.3250, 12.0662], theta = 168.7585\n"
       ]
      },
      {
       "output_type": "stream",
       "stream": "stdout",
       "text": [
        "\n",
        "agreeing local minima of 7.5125 at:\n",
        "[a,b] = [-0.2255, 0.0191], [width, length] = [9.3250, 12.0662], theta = 168.7586\n"
       ]
      },
      {
       "output_type": "stream",
       "stream": "stdout",
       "text": [
        "\n",
        " \n",
        "Cutout 94\n",
        "first local minima of 6.0650 at:\n",
        "[a,b] = [0.5725, 0.4718], [width, length] = [10.1504, 13.1679], theta = 117.9033\n"
       ]
      },
      {
       "output_type": "stream",
       "stream": "stdout",
       "text": [
        "\n",
        "agreeing local minima of 6.0650 at:\n",
        "[a,b] = [0.5725, 0.4718], [width, length] = [10.1504, 13.1679], theta = 117.9033\n"
       ]
      },
      {
       "output_type": "stream",
       "stream": "stdout",
       "text": [
        "\n",
        "agreeing local minima of 6.0650 at:\n",
        "[a,b] = [0.5725, 0.4718], [width, length] = [10.1504, 13.1679], theta = 117.9033\n"
       ]
      },
      {
       "output_type": "stream",
       "stream": "stdout",
       "text": [
        "\n",
        "agreeing local minima of 6.0650 at:\n",
        "[a,b] = [0.5725, 0.4718], [width, length] = [10.1504, 13.1679], theta = 117.9033\n"
       ]
      },
      {
       "output_type": "stream",
       "stream": "stdout",
       "text": [
        "\n",
        "agreeing local minima of 6.0650 at:\n",
        "[a,b] = [0.5725, 0.4718], [width, length] = [10.1504, 13.1679], theta = 117.9033\n"
       ]
      },
      {
       "output_type": "stream",
       "stream": "stdout",
       "text": [
        "\n",
        " \n",
        "Cutout 95\n",
        "first local minima of 3.4201 at:\n",
        "[a,b] = [0.0657, -0.6611], [width, length] = [6.5513, 7.8583], theta = 6.5886\n"
       ]
      },
      {
       "output_type": "stream",
       "stream": "stdout",
       "text": [
        "\n",
        "agreeing local minima of 3.4201 at:\n",
        "[a,b] = [0.0657, -0.6611], [width, length] = [6.5513, 7.8583], theta = 6.5886\n"
       ]
      },
      {
       "output_type": "stream",
       "stream": "stdout",
       "text": [
        "\n",
        "agreeing local minima of 3.4201 at:\n",
        "[a,b] = [0.0657, -0.6611], [width, length] = [6.5513, 7.8583], theta = 6.5887\n"
       ]
      },
      {
       "output_type": "stream",
       "stream": "stdout",
       "text": [
        "\n",
        "agreeing local minima of 3.4201 at:\n",
        "[a,b] = [0.0657, -0.6611], [width, length] = [6.5513, 7.8583], theta = 6.5886\n"
       ]
      },
      {
       "output_type": "stream",
       "stream": "stdout",
       "text": [
        "\n",
        "agreeing local minima of 3.4201 at:\n",
        "[a,b] = [0.0657, -0.6611], [width, length] = [6.5513, 7.8583], theta = 6.5886\n"
       ]
      },
      {
       "output_type": "stream",
       "stream": "stdout",
       "text": [
        "\n",
        " \n",
        "Cutout 96\n",
        "first local minima of 3.0164 at:\n",
        "[a,b] = [0.0470, 0.1635], [width, length] = [7.0882, 8.1817], theta = 28.5184\n"
       ]
      },
      {
       "output_type": "stream",
       "stream": "stdout",
       "text": [
        "\n",
        "agreeing local minima of 3.0164 at:\n",
        "[a,b] = [0.0470, 0.1635], [width, length] = [7.0882, 8.1817], theta = 28.5185\n"
       ]
      },
      {
       "output_type": "stream",
       "stream": "stdout",
       "text": [
        "\n",
        "agreeing local minima of 3.0164 at:\n",
        "[a,b] = [0.0470, 0.1635], [width, length] = [7.0882, 8.1817], theta = 28.5185\n"
       ]
      },
      {
       "output_type": "stream",
       "stream": "stdout",
       "text": [
        "\n",
        "agreeing local minima of 3.0164 at:\n",
        "[a,b] = [0.0470, 0.1635], [width, length] = [7.0882, 8.1817], theta = 28.5185\n"
       ]
      },
      {
       "output_type": "stream",
       "stream": "stdout",
       "text": [
        "\n",
        "agreeing local minima of 3.0164 at:\n",
        "[a,b] = [0.0470, 0.1635], [width, length] = [7.0882, 8.1817], theta = 28.5185\n"
       ]
      },
      {
       "output_type": "stream",
       "stream": "stdout",
       "text": [
        "\n",
        " \n",
        "Cutout 97\n",
        "first local minima of 1.7154 at:\n",
        "[a,b] = [0.3740, 0.0879], [width, length] = [7.1481, 8.3976], theta = 10.6238\n"
       ]
      },
      {
       "output_type": "stream",
       "stream": "stdout",
       "text": [
        "\n",
        "agreeing local minima of 1.7154 at:\n",
        "[a,b] = [0.3740, 0.0879], [width, length] = [7.1481, 8.3976], theta = 10.6238\n"
       ]
      },
      {
       "output_type": "stream",
       "stream": "stdout",
       "text": [
        "\n",
        "agreeing local minima of 1.7154 at:\n",
        "[a,b] = [0.3740, 0.0879], [width, length] = [7.1481, 8.3976], theta = 10.6238\n"
       ]
      },
      {
       "output_type": "stream",
       "stream": "stdout",
       "text": [
        "\n",
        "agreeing local minima of 1.7154 at:\n",
        "[a,b] = [0.3740, 0.0879], [width, length] = [7.1481, 8.3976], theta = 10.6238\n"
       ]
      },
      {
       "output_type": "stream",
       "stream": "stdout",
       "text": [
        "\n",
        "agreeing local minima of 1.7154 at:\n",
        "[a,b] = [0.3740, 0.0879], [width, length] = [7.1481, 8.3976], theta = 10.6238\n"
       ]
      },
      {
       "output_type": "stream",
       "stream": "stdout",
       "text": [
        "\n",
        " \n",
        "Cutout 98\n",
        "first local minima of 5.0276 at:\n",
        "[a,b] = [0.0649, -0.2588], [width, length] = [6.6033, 8.5963], theta = 88.0944\n"
       ]
      },
      {
       "output_type": "stream",
       "stream": "stdout",
       "text": [
        "\n",
        "agreeing local minima of 5.0276 at:\n",
        "[a,b] = [0.0649, -0.2588], [width, length] = [6.6033, 8.5963], theta = 88.0945\n"
       ]
      },
      {
       "output_type": "stream",
       "stream": "stdout",
       "text": [
        "\n",
        "agreeing local minima of 5.0276 at:\n",
        "[a,b] = [0.0649, -0.2588], [width, length] = [6.6033, 8.5963], theta = 88.0944\n"
       ]
      },
      {
       "output_type": "stream",
       "stream": "stdout",
       "text": [
        "\n",
        "agreeing local minima of 5.0276 at:\n",
        "[a,b] = [0.0649, -0.2588], [width, length] = [6.6033, 8.5963], theta = 88.0945\n"
       ]
      },
      {
       "output_type": "stream",
       "stream": "stdout",
       "text": [
        "\n",
        "agreeing local minima of 5.0276 at:\n",
        "[a,b] = [0.0649, -0.2588], [width, length] = [6.6033, 8.5963], theta = 88.0945\n"
       ]
      },
      {
       "output_type": "stream",
       "stream": "stdout",
       "text": [
        "\n",
        " \n",
        "Cutout 99\n",
        "first local minima of 9.4447 at:\n",
        "[a,b] = [-0.6290, 0.1278], [width, length] = [8.6900, 10.5521], theta = 171.9482\n"
       ]
      },
      {
       "output_type": "stream",
       "stream": "stdout",
       "text": [
        "\n",
        "agreeing local minima of 9.4447 at:\n",
        "[a,b] = [-0.6290, 0.1278], [width, length] = [8.6900, 10.5521], theta = 171.9483\n"
       ]
      },
      {
       "output_type": "stream",
       "stream": "stdout",
       "text": [
        "\n",
        "agreeing local minima of 9.4447 at:\n",
        "[a,b] = [-0.6290, 0.1278], [width, length] = [8.6900, 10.5521], theta = 171.9483\n"
       ]
      },
      {
       "output_type": "stream",
       "stream": "stdout",
       "text": [
        "\n",
        "agreeing local minima of 9.4447 at:\n",
        "[a,b] = [-0.6290, 0.1278], [width, length] = [8.6900, 10.5521], theta = 171.9484\n"
       ]
      },
      {
       "output_type": "stream",
       "stream": "stdout",
       "text": [
        "\n",
        "agreeing local minima of 9.4447 at:\n",
        "[a,b] = [-0.6290, 0.1278], [width, length] = [8.6900, 10.5521], theta = 171.9483\n"
       ]
      },
      {
       "output_type": "stream",
       "stream": "stdout",
       "text": [
        "\n",
        " \n",
        "Cutout 100\n",
        "first local minima of 4.5281 at:\n",
        "[a,b] = [0.3392, -0.0537], [width, length] = [6.4785, 7.6370], theta = 25.2818\n"
       ]
      },
      {
       "output_type": "stream",
       "stream": "stdout",
       "text": [
        "\n",
        "agreeing local minima of 4.5281 at:\n",
        "[a,b] = [0.3392, -0.0537], [width, length] = [6.4785, 7.6370], theta = 25.2817\n"
       ]
      },
      {
       "output_type": "stream",
       "stream": "stdout",
       "text": [
        "\n",
        "agreeing local minima of 4.5281 at:\n",
        "[a,b] = [0.3392, -0.0537], [width, length] = [6.4785, 7.6370], theta = 25.2818\n"
       ]
      },
      {
       "output_type": "stream",
       "stream": "stdout",
       "text": [
        "\n",
        "agreeing local minima of 4.5281 at:\n",
        "[a,b] = [0.3392, -0.0537], [width, length] = [6.4785, 7.6370], theta = 25.2818\n"
       ]
      },
      {
       "output_type": "stream",
       "stream": "stdout",
       "text": [
        "\n",
        "agreeing local minima of 4.5281 at:\n",
        "[a,b] = [0.3392, -0.0537], [width, length] = [6.4785, 7.6370], theta = 25.2818\n"
       ]
      },
      {
       "output_type": "stream",
       "stream": "stdout",
       "text": [
        "\n",
        " \n",
        "Cutout 101\n",
        "first local minima of 7.5125 at:\n",
        "[a,b] = [-0.2255, 0.0191], [width, length] = [9.3250, 12.0662], theta = 168.7586\n"
       ]
      },
      {
       "output_type": "stream",
       "stream": "stdout",
       "text": [
        "\n",
        "agreeing local minima of 7.5125 at:\n",
        "[a,b] = [-0.2255, 0.0191], [width, length] = [9.3250, 12.0662], theta = 168.7585\n"
       ]
      },
      {
       "output_type": "stream",
       "stream": "stdout",
       "text": [
        "\n",
        "agreeing local minima of 7.5125 at:\n",
        "[a,b] = [-0.2255, 0.0191], [width, length] = [9.3250, 12.0662], theta = 168.7586\n"
       ]
      },
      {
       "output_type": "stream",
       "stream": "stdout",
       "text": [
        "\n",
        "agreeing local minima of 7.5125 at:\n",
        "[a,b] = [-0.2255, 0.0191], [width, length] = [9.3250, 12.0662], theta = 168.7586\n"
       ]
      },
      {
       "output_type": "stream",
       "stream": "stdout",
       "text": [
        "\n",
        "agreeing local minima of 7.5125 at:\n",
        "[a,b] = [-0.2255, 0.0191], [width, length] = [9.3250, 12.0662], theta = 168.7587\n"
       ]
      },
      {
       "output_type": "stream",
       "stream": "stdout",
       "text": [
        "\n",
        " \n",
        "Cutout 102\n",
        "first local minima of 1.1783 at:\n",
        "[a,b] = [-0.1482, -0.1822], [width, length] = [4.2212, 5.0420], theta = 33.9928\n"
       ]
      },
      {
       "output_type": "stream",
       "stream": "stdout",
       "text": [
        "\n",
        "agreeing local minima of 1.1783 at:\n",
        "[a,b] = [-0.1482, -0.1822], [width, length] = [4.2212, 5.0420], theta = 33.9928\n"
       ]
      },
      {
       "output_type": "stream",
       "stream": "stdout",
       "text": [
        "\n",
        "agreeing local minima of 1.1783 at:\n",
        "[a,b] = [-0.1482, -0.1822], [width, length] = [4.2212, 5.0420], theta = 33.9929\n"
       ]
      },
      {
       "output_type": "stream",
       "stream": "stdout",
       "text": [
        "\n",
        "agreeing local minima of 1.1783 at:\n",
        "[a,b] = [-0.1482, -0.1822], [width, length] = [4.2212, 5.0420], theta = 33.9928\n"
       ]
      },
      {
       "output_type": "stream",
       "stream": "stdout",
       "text": [
        "\n",
        "agreeing local minima of 1.1783 at:\n",
        "[a,b] = [-0.1482, -0.1822], [width, length] = [4.2212, 5.0420], theta = 33.9928\n"
       ]
      },
      {
       "output_type": "stream",
       "stream": "stdout",
       "text": [
        "\n",
        " \n",
        "Cutout 103\n",
        "first local minima of 3.4201 at:\n",
        "[a,b] = [0.0657, -0.6611], [width, length] = [6.5513, 7.8583], theta = 6.5886\n"
       ]
      },
      {
       "output_type": "stream",
       "stream": "stdout",
       "text": [
        "\n",
        "agreeing local minima of 3.4201 at:\n",
        "[a,b] = [0.0657, -0.6611], [width, length] = [6.5513, 7.8583], theta = 6.5887\n"
       ]
      },
      {
       "output_type": "stream",
       "stream": "stdout",
       "text": [
        "\n",
        "agreeing local minima of 3.4201 at:\n",
        "[a,b] = [0.0657, -0.6611], [width, length] = [6.5513, 7.8583], theta = 6.5887\n"
       ]
      },
      {
       "output_type": "stream",
       "stream": "stdout",
       "text": [
        "\n",
        "agreeing local minima of 3.4201 at:\n",
        "[a,b] = [0.0657, -0.6611], [width, length] = [6.5513, 7.8583], theta = 6.5888\n"
       ]
      },
      {
       "output_type": "stream",
       "stream": "stdout",
       "text": [
        "\n",
        "agreeing local minima of 3.4201 at:\n",
        "[a,b] = [0.0657, -0.6611], [width, length] = [6.5513, 7.8583], theta = 6.5887\n"
       ]
      },
      {
       "output_type": "stream",
       "stream": "stdout",
       "text": [
        "\n",
        " \n",
        "Cutout 104\n",
        "first local minima of 4.7200 at:\n",
        "[a,b] = [-0.6969, 0.5678], [width, length] = [5.5781, 8.1159], theta = 157.9154\n"
       ]
      },
      {
       "output_type": "stream",
       "stream": "stdout",
       "text": [
        "\n",
        "agreeing local minima of 4.7200 at:\n",
        "[a,b] = [-0.6969, 0.5678], [width, length] = [5.5781, 8.1159], theta = 157.9154\n"
       ]
      },
      {
       "output_type": "stream",
       "stream": "stdout",
       "text": [
        "\n",
        "agreeing local minima of 4.7200 at:\n",
        "[a,b] = [-0.6969, 0.5678], [width, length] = [5.5781, 8.1159], theta = 157.9154\n"
       ]
      },
      {
       "output_type": "stream",
       "stream": "stdout",
       "text": [
        "\n",
        "agreeing local minima of 4.7200 at:\n",
        "[a,b] = [-0.6969, 0.5678], [width, length] = [5.5781, 8.1159], theta = 157.9154\n"
       ]
      },
      {
       "output_type": "stream",
       "stream": "stdout",
       "text": [
        "\n",
        "agreeing local minima of 4.7200 at:\n",
        "[a,b] = [-0.6969, 0.5678], [width, length] = [5.5781, 8.1159], theta = 157.9154\n"
       ]
      },
      {
       "output_type": "stream",
       "stream": "stdout",
       "text": [
        "\n",
        " \n",
        "Cutout 105\n",
        "first local minima of 4.4975 at:\n",
        "[a,b] = [-0.2236, 0.2263], [width, length] = [6.5974, 9.0640], theta = 143.5650\n"
       ]
      },
      {
       "output_type": "stream",
       "stream": "stdout",
       "text": [
        "\n",
        "agreeing local minima of 4.4975 at:\n",
        "[a,b] = [-0.2236, 0.2263], [width, length] = [6.5974, 9.0640], theta = 143.5649\n"
       ]
      },
      {
       "output_type": "stream",
       "stream": "stdout",
       "text": [
        "\n",
        "agreeing local minima of 4.4975 at:\n",
        "[a,b] = [-0.2236, 0.2263], [width, length] = [6.5974, 9.0640], theta = 143.5650\n"
       ]
      },
      {
       "output_type": "stream",
       "stream": "stdout",
       "text": [
        "\n",
        "agreeing local minima of 4.4975 at:\n",
        "[a,b] = [-0.2236, 0.2263], [width, length] = [6.5974, 9.0640], theta = 143.5650\n"
       ]
      },
      {
       "output_type": "stream",
       "stream": "stdout",
       "text": [
        "\n",
        "agreeing local minima of 4.4975 at:\n",
        "[a,b] = [-0.2236, 0.2263], [width, length] = [6.5974, 9.0640], theta = 143.5650\n"
       ]
      },
      {
       "output_type": "stream",
       "stream": "stdout",
       "text": [
        "\n",
        " \n",
        "Cutout 106\n",
        "first local minima of 5.0160 at:\n",
        "[a,b] = [-0.6705, 0.1286], [width, length] = [6.0425, 9.6434], theta = 149.3330\n"
       ]
      },
      {
       "output_type": "stream",
       "stream": "stdout",
       "text": [
        "\n",
        "agreeing local minima of 5.0160 at:\n",
        "[a,b] = [-0.6705, 0.1286], [width, length] = [6.0425, 9.6434], theta = 149.3329\n"
       ]
      },
      {
       "output_type": "stream",
       "stream": "stdout",
       "text": [
        "\n",
        "agreeing local minima of 5.0160 at:\n",
        "[a,b] = [-0.6705, 0.1286], [width, length] = [6.0425, 9.6434], theta = 149.3329\n"
       ]
      },
      {
       "output_type": "stream",
       "stream": "stdout",
       "text": [
        "\n",
        "agreeing local minima of 5.0160 at:\n",
        "[a,b] = [-0.6705, 0.1286], [width, length] = [6.0425, 9.6434], theta = 149.3330\n"
       ]
      },
      {
       "output_type": "stream",
       "stream": "stdout",
       "text": [
        "\n",
        "agreeing local minima of 5.0160 at:\n",
        "[a,b] = [-0.6705, 0.1286], [width, length] = [6.0425, 9.6434], theta = 149.3330\n"
       ]
      },
      {
       "output_type": "stream",
       "stream": "stdout",
       "text": [
        "\n",
        " \n",
        "Cutout 107\n",
        "first local minima of 5.0276 at:\n",
        "[a,b] = [0.0649, -0.2588], [width, length] = [6.6033, 8.5963], theta = 88.0945\n"
       ]
      },
      {
       "output_type": "stream",
       "stream": "stdout",
       "text": [
        "\n",
        "agreeing local minima of 5.0276 at:\n",
        "[a,b] = [0.0649, -0.2588], [width, length] = [6.6033, 8.5963], theta = 88.0945\n"
       ]
      },
      {
       "output_type": "stream",
       "stream": "stdout",
       "text": [
        "\n",
        "agreeing local minima of 5.0276 at:\n",
        "[a,b] = [0.0649, -0.2588], [width, length] = [6.6033, 8.5963], theta = 88.0945\n"
       ]
      },
      {
       "output_type": "stream",
       "stream": "stdout",
       "text": [
        "\n",
        "agreeing local minima of 5.0276 at:\n",
        "[a,b] = [0.0649, -0.2588], [width, length] = [6.6033, 8.5963], theta = 88.0945\n"
       ]
      },
      {
       "output_type": "stream",
       "stream": "stdout",
       "text": [
        "\n",
        "agreeing local minima of 5.0276 at:\n",
        "[a,b] = [0.0649, -0.2588], [width, length] = [6.6033, 8.5963], theta = 88.0945\n"
       ]
      },
      {
       "output_type": "stream",
       "stream": "stdout",
       "text": [
        "\n",
        " \n",
        "Cutout 108\n",
        "first local minima of 12.8070 at:\n",
        "[a,b] = [-0.1211, 0.0552], [width, length] = [5.9474, 14.9939], theta = 179.7000\n"
       ]
      },
      {
       "output_type": "stream",
       "stream": "stdout",
       "text": [
        "\n",
        "agreeing local minima of 12.8070 at:\n",
        "[a,b] = [-0.1211, 0.0552], [width, length] = [5.9474, 14.9939], theta = 179.7000\n"
       ]
      },
      {
       "output_type": "stream",
       "stream": "stdout",
       "text": [
        "\n",
        "agreeing local minima of 12.8070 at:\n",
        "[a,b] = [-0.1211, 0.0552], [width, length] = [5.9474, 14.9939], theta = 179.7000\n"
       ]
      },
      {
       "output_type": "stream",
       "stream": "stdout",
       "text": [
        "\n",
        "agreeing local minima of 12.8070 at:\n",
        "[a,b] = [-0.1211, 0.0552], [width, length] = [5.9474, 14.9939], theta = 179.7000\n"
       ]
      },
      {
       "output_type": "stream",
       "stream": "stdout",
       "text": [
        "\n",
        "agreeing local minima of 12.8070 at:\n",
        "[a,b] = [-0.1211, 0.0552], [width, length] = [5.9474, 14.9939], theta = 179.7000\n"
       ]
      },
      {
       "output_type": "stream",
       "stream": "stdout",
       "text": [
        "\n",
        " \n",
        "Cutout 109\n",
        "first local minima of 4.5281 at:\n",
        "[a,b] = [0.3392, -0.0537], [width, length] = [6.4785, 7.6370], theta = 25.2818\n"
       ]
      },
      {
       "output_type": "stream",
       "stream": "stdout",
       "text": [
        "\n",
        "agreeing local minima of 4.5281 at:\n",
        "[a,b] = [0.3392, -0.0537], [width, length] = [6.4785, 7.6370], theta = 25.2818\n"
       ]
      },
      {
       "output_type": "stream",
       "stream": "stdout",
       "text": [
        "\n",
        "agreeing local minima of 4.5281 at:\n",
        "[a,b] = [0.3392, -0.0537], [width, length] = [6.4785, 7.6370], theta = 25.2818\n"
       ]
      },
      {
       "output_type": "stream",
       "stream": "stdout",
       "text": [
        "\n",
        "agreeing local minima of 4.5281 at:\n",
        "[a,b] = [0.3392, -0.0537], [width, length] = [6.4785, 7.6370], theta = 25.2818\n"
       ]
      },
      {
       "output_type": "stream",
       "stream": "stdout",
       "text": [
        "\n",
        "agreeing local minima of 4.5281 at:\n",
        "[a,b] = [0.3392, -0.0537], [width, length] = [6.4785, 7.6370], theta = 25.2818\n"
       ]
      },
      {
       "output_type": "stream",
       "stream": "stdout",
       "text": [
        "\n",
        " \n",
        "Cutout 110\n",
        "first local minima of 2.9831 at:\n",
        "[a,b] = [0.1330, -0.0210], [width, length] = [6.6542, 7.9403], theta = 110.9986\n"
       ]
      },
      {
       "output_type": "stream",
       "stream": "stdout",
       "text": [
        "\n",
        "agreeing local minima of 2.9831 at:\n",
        "[a,b] = [0.1330, -0.0210], [width, length] = [6.6542, 7.9403], theta = 110.9986\n"
       ]
      },
      {
       "output_type": "stream",
       "stream": "stdout",
       "text": [
        "\n",
        "agreeing local minima of 2.9831 at:\n",
        "[a,b] = [0.1330, -0.0210], [width, length] = [6.6542, 7.9403], theta = 110.9986\n"
       ]
      },
      {
       "output_type": "stream",
       "stream": "stdout",
       "text": [
        "\n",
        "agreeing local minima of 2.9831 at:\n",
        "[a,b] = [0.1330, -0.0210], [width, length] = [6.6542, 7.9403], theta = 110.9986\n"
       ]
      },
      {
       "output_type": "stream",
       "stream": "stdout",
       "text": [
        "\n",
        "agreeing local minima of 2.9831 at:\n",
        "[a,b] = [0.1330, -0.0210], [width, length] = [6.6542, 7.9403], theta = 110.9986\n"
       ]
      },
      {
       "output_type": "stream",
       "stream": "stdout",
       "text": [
        "\n",
        " \n",
        "Cutout 111\n",
        "first local minima of 4.8005 at:\n",
        "[a,b] = [0.4142, -0.6357], [width, length] = [6.1343, 10.9738], theta = 133.3008\n"
       ]
      },
      {
       "output_type": "stream",
       "stream": "stdout",
       "text": [
        "\n",
        "agreeing local minima of 4.8005 at:\n",
        "[a,b] = [0.4142, -0.6357], [width, length] = [6.1343, 10.9738], theta = 133.3008\n"
       ]
      },
      {
       "output_type": "stream",
       "stream": "stdout",
       "text": [
        "\n",
        "agreeing local minima of 4.8005 at:\n",
        "[a,b] = [0.4142, -0.6357], [width, length] = [6.1343, 10.9738], theta = 133.3008\n"
       ]
      },
      {
       "output_type": "stream",
       "stream": "stdout",
       "text": [
        "\n",
        "agreeing local minima of 4.8005 at:\n",
        "[a,b] = [0.4142, -0.6357], [width, length] = [6.1343, 10.9738], theta = 133.3008\n"
       ]
      },
      {
       "output_type": "stream",
       "stream": "stdout",
       "text": [
        "\n",
        "agreeing local minima of 4.8005 at:\n",
        "[a,b] = [0.4142, -0.6357], [width, length] = [6.1343, 10.9738], theta = 133.3008\n"
       ]
      },
      {
       "output_type": "stream",
       "stream": "stdout",
       "text": [
        "\n",
        " \n",
        "Cutout 112\n",
        "failed to find local minima at:\n",
        "[a,b] = [3.2640, -6.5368], [width, length] = [0.0000, 2.6203], theta = 85.9061\n"
       ]
      },
      {
       "output_type": "stream",
       "stream": "stdout",
       "text": [
        "\n",
        "first local minima of 0.2835 at:\n",
        "[a,b] = [0.2077, -0.0642], [width, length] = [3.5107, 4.1414], theta = 100.4491\n"
       ]
      },
      {
       "output_type": "stream",
       "stream": "stdout",
       "text": [
        "\n",
        "failed to find local minima at:\n",
        "[a,b] = [0.7841, -2.6213], [width, length] = [0.0000, 2.7732], theta = 108.1805\n"
       ]
      },
      {
       "output_type": "stream",
       "stream": "stdout",
       "text": [
        "\n",
        "agreeing local minima of 0.2835 at:\n",
        "[a,b] = [0.2077, -0.0642], [width, length] = [3.5107, 4.1414], theta = 100.4491\n"
       ]
      },
      {
       "output_type": "stream",
       "stream": "stdout",
       "text": [
        "\n",
        "agreeing local minima of 0.2835 at:\n",
        "[a,b] = [0.2077, -0.0642], [width, length] = [3.5107, 4.1414], theta = 100.4491\n"
       ]
      },
      {
       "output_type": "stream",
       "stream": "stdout",
       "text": [
        "\n",
        "agreeing local minima of 0.2835 at:\n",
        "[a,b] = [0.2077, -0.0642], [width, length] = [3.5107, 4.1414], theta = 100.4491\n"
       ]
      },
      {
       "output_type": "stream",
       "stream": "stdout",
       "text": [
        "\n",
        "failed to find local minima at:\n",
        "[a,b] = [5.8686, -5.2042], [width, length] = [0.0000, 0.8130], theta = 143.9343\n"
       ]
      },
      {
       "output_type": "stream",
       "stream": "stdout",
       "text": [
        "\n",
        "agreeing local minima of 0.2835 at:\n",
        "[a,b] = [0.2077, -0.0642], [width, length] = [3.5107, 4.1414], theta = 100.4491\n"
       ]
      },
      {
       "output_type": "stream",
       "stream": "stdout",
       "text": [
        "\n",
        " \n",
        "Cutout 113\n",
        "first local minima of 1.6481 at:\n",
        "[a,b] = [-0.7809, -0.1071], [width, length] = [6.5369, 7.9110], theta = 53.3296\n"
       ]
      },
      {
       "output_type": "stream",
       "stream": "stdout",
       "text": [
        "\n",
        "agreeing local minima of 1.6481 at:\n",
        "[a,b] = [-0.7809, -0.1071], [width, length] = [6.5369, 7.9110], theta = 53.3296\n"
       ]
      },
      {
       "output_type": "stream",
       "stream": "stdout",
       "text": [
        "\n",
        "agreeing local minima of 1.6481 at:\n",
        "[a,b] = [-0.7809, -0.1071], [width, length] = [6.5369, 7.9110], theta = 53.3296\n"
       ]
      },
      {
       "output_type": "stream",
       "stream": "stdout",
       "text": [
        "\n",
        "agreeing local minima of 1.6481 at:\n",
        "[a,b] = [-0.7809, -0.1071], [width, length] = [6.5369, 7.9110], theta = 53.3296\n"
       ]
      },
      {
       "output_type": "stream",
       "stream": "stdout",
       "text": [
        "\n",
        "agreeing local minima of 1.6481 at:\n",
        "[a,b] = [-0.7809, -0.1071], [width, length] = [6.5369, 7.9110], theta = 53.3296\n"
       ]
      },
      {
       "output_type": "stream",
       "stream": "stdout",
       "text": [
        "\n",
        " \n",
        "Cutout 114\n",
        "first local minima of 2.3959 at:\n",
        "[a,b] = [0.1540, 0.0756], [width, length] = [8.6837, 8.8352], theta = 159.5376\n"
       ]
      },
      {
       "output_type": "stream",
       "stream": "stdout",
       "text": [
        "\n",
        "new local minima of 2.3933 at:\n",
        "[a,b] = [0.1517, 0.0773], [width, length] = [8.6798, 8.8400], theta = 154.8554\n"
       ]
      },
      {
       "output_type": "stream",
       "stream": "stdout",
       "text": [
        "\n",
        "rejected local minima of 2.4042 at:\n",
        "[a,b] = [0.1537, 0.0810], [width, length] = [8.6712, 8.8508], theta = 146.0847\n"
       ]
      },
      {
       "output_type": "stream",
       "stream": "stdout",
       "text": [
        "\n",
        "agreeing local minima of 2.3933 at:\n",
        "[a,b] = [0.1517, 0.0773], [width, length] = [8.6798, 8.8400], theta = 154.8554\n"
       ]
      },
      {
       "output_type": "stream",
       "stream": "stdout",
       "text": [
        "\n",
        "rejected local minima of 2.4019 at:\n",
        "[a,b] = [0.1548, 0.0732], [width, length] = [8.6834, 8.8311], theta = 164.7969\n"
       ]
      },
      {
       "output_type": "stream",
       "stream": "stdout",
       "text": [
        "\n",
        "agreeing local minima of 2.3933 at:\n",
        "[a,b] = [0.1517, 0.0773], [width, length] = [8.6798, 8.8400], theta = 154.8555\n"
       ]
      },
      {
       "output_type": "stream",
       "stream": "stdout",
       "text": [
        "\n",
        "agreeing local minima of 2.3933 at:\n",
        "[a,b] = [0.1517, 0.0773], [width, length] = [8.6798, 8.8400], theta = 154.8554\n"
       ]
      },
      {
       "output_type": "stream",
       "stream": "stdout",
       "text": [
        "\n",
        "agreeing local minima of 2.3933 at:\n",
        "[a,b] = [0.1517, 0.0773], [width, length] = [8.6798, 8.8400], theta = 154.8554\n"
       ]
      },
      {
       "output_type": "stream",
       "stream": "stdout",
       "text": [
        "\n",
        " \n",
        "Cutout 115\n",
        "first local minima of 1.1783 at:\n",
        "[a,b] = [-0.1482, -0.1822], [width, length] = [4.2212, 5.0420], theta = 33.9926\n"
       ]
      },
      {
       "output_type": "stream",
       "stream": "stdout",
       "text": [
        "\n",
        "agreeing local minima of 1.1783 at:\n",
        "[a,b] = [-0.1482, -0.1822], [width, length] = [4.2212, 5.0420], theta = 33.9928\n"
       ]
      },
      {
       "output_type": "stream",
       "stream": "stdout",
       "text": [
        "\n",
        "agreeing local minima of 1.1783 at:\n",
        "[a,b] = [-0.1482, -0.1822], [width, length] = [4.2212, 5.0420], theta = 33.9928\n"
       ]
      },
      {
       "output_type": "stream",
       "stream": "stdout",
       "text": [
        "\n",
        "agreeing local minima of 1.1783 at:\n",
        "[a,b] = [-0.1482, -0.1822], [width, length] = [4.2212, 5.0420], theta = 33.9929\n"
       ]
      },
      {
       "output_type": "stream",
       "stream": "stdout",
       "text": [
        "\n",
        "agreeing local minima of 1.1783 at:\n",
        "[a,b] = [-0.1482, -0.1822], [width, length] = [4.2212, 5.0420], theta = 33.9928\n"
       ]
      },
      {
       "output_type": "stream",
       "stream": "stdout",
       "text": [
        "\n",
        " \n"
       ]
      }
     ],
     "prompt_number": 3
    },
    {
     "cell_type": "code",
     "collapsed": false,
     "input": [
      "ellipse_def = zeros([num_cutouts,5])\n",
      "\n",
      "for i in range(num_cutouts):\n",
      "    ellipse_def[i,:] = array(ellipse_results[i].x)"
     ],
     "language": "python",
     "metadata": {},
     "outputs": [],
     "prompt_number": 4
    },
    {
     "cell_type": "code",
     "collapsed": false,
     "input": [
      "i = 35\n",
      "\n",
      "ellipse = create_ellipse(ellipse_def[i,:])\n",
      "\n",
      "\n",
      "scaled_fig_start(12,12)\n",
      "\n",
      "plot(cutout[i].exterior.xy[0],cutout[i].exterior.xy[1])\n",
      "plot(ellipse.exterior.xy[0],ellipse.exterior.xy[1],'r--')\n",
      "\n",
      "plot(ellipse.centroid.xy[0],ellipse.centroid.xy[1],'go')\n",
      "\n",
      "scaled_fig_end(12,12)"
     ],
     "language": "python",
     "metadata": {},
     "outputs": [
      {
       "metadata": {},
       "output_type": "display_data",
       "png": "[encoded data removed]",
       "text": [
        "<matplotlib.figure.Figure at 0x914f3c8>"
       ]
      }
     ],
     "prompt_number": 5
    },
    {
     "cell_type": "code",
     "collapsed": false,
     "input": [
      "a = ellipse_def[:,0]\n",
      "b = ellipse_def[:,1]\n",
      "\n",
      "width = zeros([num_cutouts])\n",
      "length = zeros([num_cutouts])\n",
      "theta = zeros([num_cutouts])\n",
      "\n",
      "w = abs(ellipse_def[:,2])\n",
      "l = abs(ellipse_def[:,3])\n",
      "\n",
      "ref = l > w\n",
      "\n",
      "width[ref] = w[ref]\n",
      "length[ref] = l[ref]\n",
      "theta[ref] = mod(ellipse_def[:,4],180)[ref]\n",
      "\n",
      "width[~ref] = l[~ref]\n",
      "length[~ref] = w[~ref]\n",
      "theta[~ref] = mod(ellipse_def[:,4]+90,180)[~ref]"
     ],
     "language": "python",
     "metadata": {},
     "outputs": [],
     "prompt_number": 6
    },
    {
     "cell_type": "code",
     "collapsed": false,
     "input": [
      "box_bounds = zeros([num_cutouts])\n",
      "\n",
      "for i in range(num_cutouts):\n",
      "    box_bounds[i] = max(\n",
      "        array(\n",
      "            [cutout[i].bounds[2]-cutout[i].bounds[0],\n",
      "             cutout[i].bounds[3]-cutout[i].bounds[1]]\n",
      "            )\n",
      "        )\n"
     ],
     "language": "python",
     "metadata": {},
     "outputs": [],
     "prompt_number": 7
    },
    {
     "cell_type": "code",
     "collapsed": false,
     "input": [
      "cutout_dimensions = pd.DataFrame(\n",
      "    array([a,b,width,length,theta,box_bounds]).transpose(), \n",
      "    columns=['a','b','width','length','theta','box_bounds']\n",
      "    )"
     ],
     "language": "python",
     "metadata": {},
     "outputs": [],
     "prompt_number": 8
    },
    {
     "cell_type": "code",
     "collapsed": false,
     "input": [
      "cutout_dimensions.to_csv('../data/cutout_dimensions.csv')"
     ],
     "language": "python",
     "metadata": {},
     "outputs": [],
     "prompt_number": 9
    }
   ],
   "metadata": {}
  }
 ]
}