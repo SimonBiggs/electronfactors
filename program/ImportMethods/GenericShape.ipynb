{
 "cells": [
  {
   "cell_type": "code",
   "execution_count": 1,
   "metadata": {
    "collapsed": true
   },
   "outputs": [],
   "source": [
    "import pandas as pd\n",
    "import numpy as np\n",
    "import shapely.geometry as geo\n",
    "import shapely.affinity as aff\n",
    "import yaml"
   ]
  },
  {
   "cell_type": "code",
   "execution_count": 2,
   "metadata": {
    "collapsed": true
   },
   "outputs": [],
   "source": [
    "def ellipse(width, length):\n",
    "    \"\"\"Create ellipse when given width and length.\n",
    "    \"\"\"\n",
    "    unitCircle = geo.Point(0,0).buffer(1)        \n",
    "    ellipse = aff.scale(unitCircle, xfact=width/2, yfact=length/2)    # Stretched\n",
    "    ellipse = aff.rotate(ellipse, -45)                           # Rotated\n",
    "\n",
    "    return ellipse\n",
    "\n",
    "def rectangle(width, length):\n",
    "    \"\"\"Create rectangle when given width and length.\n",
    "    \"\"\"\n",
    "    rectangle = geo.box(-width/2,-length/2,width/2,length/2)\n",
    "    \n",
    "    return rectangle"
   ]
  },
  {
   "cell_type": "code",
   "execution_count": 3,
   "metadata": {
    "collapsed": true
   },
   "outputs": [],
   "source": [
    "def generic_shape_convert(width,length,shape):\n",
    "    \n",
    "    shape = shape.lower()\n",
    "    \n",
    "    if (shape == 'oval') | (shape == 'circle') | (shape == 'ellipse'):\n",
    "        XCoords, YCoords = ellipse(width,length).exterior.xy\n",
    "        \n",
    "    elif (shape == 'square') | (shape == 'rectangle'):\n",
    "        XCoords, YCoords = rectangle(width,length).exterior.xy\n",
    "        \n",
    "    else:\n",
    "        raise Exception(\"Unexpected shape\")\n",
    "        \n",
    "    return XCoords, YCoords"
   ]
  },
  {
   "cell_type": "code",
   "execution_count": 4,
   "metadata": {
    "collapsed": false
   },
   "outputs": [],
   "source": [
    "genericShapeData = pd.read_csv(\"../../user_input/DataImport/GenericShapeImport/GenericShapeImport.csv\")"
   ]
  },
  {
   "cell_type": "code",
   "execution_count": 5,
   "metadata": {
    "collapsed": false
   },
   "outputs": [],
   "source": [
    "width = genericShapeData['width'].values\n",
    "length = genericShapeData['length'].values\n",
    "shape = genericShapeData['shape'].values"
   ]
  },
  {
   "cell_type": "code",
   "execution_count": 6,
   "metadata": {
    "collapsed": false
   },
   "outputs": [],
   "source": [
    "data2export = dict()\n",
    "\n",
    "for i, index in enumerate(genericShapeData['index'].values):\n",
    "    \n",
    "    data2export[index] = dict()\n",
    "    \n",
    "    XCoords, YCoords = generic_shape_convert(width[i],length[i],shape[i])\n",
    "    \n",
    "    data2export[index]['XCoords'] = list(XCoords)\n",
    "    data2export[index]['YCoords'] = list(YCoords)\n",
    "    \n",
    "    data2export[index]['energy'] = float(genericShapeData['energy'].values[i])\n",
    "    data2export[index]['applicator'] = float(genericShapeData['applicator'].values[i])\n",
    "    data2export[index]['ssd'] = float(genericShapeData['ssd'].values[i])\n",
    "    data2export[index]['factor'] = float(genericShapeData['factor'].values[i])"
   ]
  },
  {
   "cell_type": "code",
   "execution_count": 7,
   "metadata": {
    "collapsed": false
   },
   "outputs": [],
   "source": [
    "with open('GenericShape.yml', 'w') as outfile:\n",
    "    outfile.write( yaml.dump(data2export, default_flow_style=False) )"
   ]
  }
 ],
 "metadata": {
  "kernelspec": {
   "display_name": "Python 3",
   "language": "python",
   "name": "python3"
  },
  "language_info": {
   "codemirror_mode": {
    "name": "ipython",
    "version": 3
   },
   "file_extension": ".py",
   "mimetype": "text/x-python",
   "name": "python",
   "nbconvert_exporter": "python",
   "pygments_lexer": "ipython3",
   "version": "3.4.0"
  }
 },
 "nbformat": 4,
 "nbformat_minor": 0
}
