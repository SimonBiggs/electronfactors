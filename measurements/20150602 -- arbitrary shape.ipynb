{
 "cells": [
  {
   "cell_type": "code",
   "execution_count": 1,
   "metadata": {
    "collapsed": false
   },
   "outputs": [],
   "source": [
    "import numpy as np\n",
    "import matplotlib.pyplot as plt\n",
    "%matplotlib inline\n",
    "\n",
    "from electronfactors import (\n",
    "    new_reading, calc_and_display, energy_to_reference_depth, \n",
    "    initialise)"
   ]
  },
  {
   "cell_type": "code",
   "execution_count": 2,
   "metadata": {
    "collapsed": false
   },
   "outputs": [],
   "source": [
    "data = dict()"
   ]
  },
  {
   "cell_type": "markdown",
   "metadata": {},
   "source": [
    "## 6 MeV"
   ]
  },
  {
   "cell_type": "code",
   "execution_count": 3,
   "metadata": {
    "collapsed": false
   },
   "outputs": [
    {
     "data": {
      "text/plain": [
       "array([13])"
      ]
     },
     "execution_count": 3,
     "metadata": {},
     "output_type": "execute_result"
    }
   ],
   "source": [
    "energy_to_reference_depth(6)"
   ]
  },
  {
   "cell_type": "code",
   "execution_count": 4,
   "metadata": {
    "collapsed": false
   },
   "outputs": [
    {
     "data": {
      "text/plain": [
       "1.5189999999999999"
      ]
     },
     "execution_count": 4,
     "metadata": {},
     "output_type": "execute_result"
    }
   ],
   "source": [
    "# Standard insert 10app 6MeV 150MU\n",
    "np.mean([1.519, 1.519])"
   ]
  },
  {
   "cell_type": "code",
   "execution_count": 5,
   "metadata": {
    "collapsed": false
   },
   "outputs": [
    {
     "data": {
      "text/plain": [
       "1.3414999999999999"
      ]
     },
     "execution_count": 5,
     "metadata": {},
     "output_type": "execute_result"
    }
   ],
   "source": [
    "# Standard insert 6app 6MeV 150MU\n",
    "np.mean([1.342, 1.341])"
   ]
  },
  {
   "cell_type": "code",
   "execution_count": 6,
   "metadata": {
    "collapsed": false
   },
   "outputs": [
    {
     "data": {
      "image/png": "[encoded data removed]",
      "text/plain": [
       "<matplotlib.figure.Figure at 0x7fe11d905b38>"
      ]
     },
     "metadata": {},
     "output_type": "display_data"
    },
    {
     "name": "stdout",
     "output_type": "stream",
     "text": [
      "Cutout factor = 0.950 | -5.0%\n",
      "Inverse factor = 1.053 | 5.3%\n"
     ]
    }
   ],
   "source": [
    "key = 'arbit'\n",
    "\n",
    "data = initialise(\n",
    "    key=key, data=data,\n",
    "    reference=1.341,\n",
    "    energy=6\n",
    ")\n",
    "\n",
    "data = new_reading(\n",
    "    key=key, data=data,\n",
    "    ionisation=np.array([1.256, 1.256]),\n",
    "    depth=12\n",
    ")\n",
    "\n",
    "data = new_reading(\n",
    "    key=key, data=data,\n",
    "    ionisation=np.array([1.252, 1.253]),\n",
    "    depth=11\n",
    ")\n",
    "\n",
    "data = new_reading(\n",
    "    key=key, data=data,\n",
    "    ionisation=np.array([1.255, 1.253]),\n",
    "    depth=13\n",
    ")\n",
    "\n",
    "data = new_reading(\n",
    "    key=key, data=data,\n",
    "    ionisation=np.array([1.274, 1.274]),\n",
    "    depth=13\n",
    ")\n",
    "\n",
    "data = new_reading(\n",
    "    key=key, data=data,\n",
    "    ionisation=np.array([1.274, 1.273]),\n",
    "    depth=12\n",
    ")\n",
    "\n",
    "data[key]['factor'] = calc_and_display(**data[key])"
   ]
  },
  {
   "cell_type": "code",
   "execution_count": 7,
   "metadata": {
    "collapsed": false
   },
   "outputs": [
    {
     "data": {
      "text/plain": [
       "1.3360000000000001"
      ]
     },
     "execution_count": 7,
     "metadata": {},
     "output_type": "execute_result"
    }
   ],
   "source": [
    "# Standard insert 6app 6MeV 150MU\n",
    "np.mean([1.336, 1.336])"
   ]
  },
  {
   "cell_type": "code",
   "execution_count": 8,
   "metadata": {
    "collapsed": false
   },
   "outputs": [
    {
     "data": {
      "image/png": "[encoded data removed]",
      "text/plain": [
       "<matplotlib.figure.Figure at 0x7fe11d905390>"
      ]
     },
     "metadata": {},
     "output_type": "display_data"
    },
    {
     "name": "stdout",
     "output_type": "stream",
     "text": [
      "Cutout factor = 0.951 | -4.9%\n",
      "Inverse factor = 1.052 | 5.2%\n"
     ]
    }
   ],
   "source": [
    "key = 'arbit'\n",
    "\n",
    "data = initialise(\n",
    "    key=key, data=data,\n",
    "    reference=1.336,\n",
    "    energy=6\n",
    ")\n",
    "\n",
    "data = new_reading(\n",
    "    key=key, data=data,\n",
    "    ionisation=np.array([1.270, 1.270]),\n",
    "    depth=13\n",
    ")\n",
    "\n",
    "data = new_reading(\n",
    "    key=key, data=data,\n",
    "    ionisation=np.array([1.250]),\n",
    "    depth=13\n",
    ")\n",
    "\n",
    "data[key]['factor'] = calc_and_display(**data[key])"
   ]
  },
  {
   "cell_type": "code",
   "execution_count": 9,
   "metadata": {
    "collapsed": false
   },
   "outputs": [
    {
     "data": {
      "text/plain": [
       "1.3370000000000002"
      ]
     },
     "execution_count": 9,
     "metadata": {},
     "output_type": "execute_result"
    }
   ],
   "source": [
    "# Standard insert 6app 6MeV 150MU\n",
    "np.mean([1.336, 1.338])"
   ]
  },
  {
   "cell_type": "code",
   "execution_count": 10,
   "metadata": {
    "collapsed": false
   },
   "outputs": [
    {
     "data": {
      "text/plain": [
       "1.051968503937008"
      ]
     },
     "execution_count": 10,
     "metadata": {},
     "output_type": "execute_result"
    }
   ],
   "source": [
    "1.336/1.270"
   ]
  },
  {
   "cell_type": "markdown",
   "metadata": {},
   "source": [
    "## 9 MeV"
   ]
  },
  {
   "cell_type": "code",
   "execution_count": 11,
   "metadata": {
    "collapsed": false
   },
   "outputs": [
    {
     "data": {
      "text/plain": [
       "array([20])"
      ]
     },
     "execution_count": 11,
     "metadata": {},
     "output_type": "execute_result"
    }
   ],
   "source": [
    "energy_to_reference_depth(9)"
   ]
  },
  {
   "cell_type": "code",
   "execution_count": 12,
   "metadata": {
    "collapsed": false
   },
   "outputs": [
    {
     "data": {
      "text/plain": [
       "1.4173333333333333"
      ]
     },
     "execution_count": 12,
     "metadata": {},
     "output_type": "execute_result"
    }
   ],
   "source": [
    "# Standard insert 6 app, 9 MeV, 150 MU\n",
    "np.mean([1.416, 1.418, 1.418])"
   ]
  },
  {
   "cell_type": "code",
   "execution_count": 13,
   "metadata": {
    "collapsed": false
   },
   "outputs": [
    {
     "name": "stdout",
     "output_type": "stream",
     "text": [
      "Cutout factor = 1.002 | 0.2%\n",
      "Inverse factor = 0.998 | -0.2%\n"
     ]
    }
   ],
   "source": [
    "key = 'arbit'\n",
    "\n",
    "data = initialise(\n",
    "    key=key, data=data,\n",
    "    reference=1.417,\n",
    "    energy=9\n",
    ")\n",
    "\n",
    "data = new_reading(\n",
    "    key=key, data=data,\n",
    "    ionisation=np.array([1.419, 1.420]),\n",
    "    depth=20\n",
    ")\n",
    "\n",
    "data[key]['factor'] = calc_and_display(**data[key])"
   ]
  },
  {
   "cell_type": "code",
   "execution_count": 14,
   "metadata": {
    "collapsed": false
   },
   "outputs": [
    {
     "data": {
      "text/plain": [
       "1.4165000000000001"
      ]
     },
     "execution_count": 14,
     "metadata": {},
     "output_type": "execute_result"
    }
   ],
   "source": [
    "# Standard insert 6 app, 9 MeV, 150 MU\n",
    "np.mean([1.416, 1.417])"
   ]
  },
  {
   "cell_type": "code",
   "execution_count": 15,
   "metadata": {
    "collapsed": false
   },
   "outputs": [
    {
     "data": {
      "text/plain": [
       "0.9982388164846777"
      ]
     },
     "execution_count": 15,
     "metadata": {},
     "output_type": "execute_result"
    }
   ],
   "source": [
    "1.417 / 1.4195"
   ]
  },
  {
   "cell_type": "code",
   "execution_count": null,
   "metadata": {
    "collapsed": true
   },
   "outputs": [],
   "source": []
  }
 ],
 "metadata": {
  "kernelspec": {
   "display_name": "Python 3",
   "language": "python",
   "name": "python3"
  },
  "language_info": {
   "codemirror_mode": {
    "name": "ipython",
    "version": 3
   },
   "file_extension": ".py",
   "mimetype": "text/x-python",
   "name": "python",
   "nbconvert_exporter": "python",
   "pygments_lexer": "ipython3",
   "version": "3.5.0+"
  }
 },
 "nbformat": 4,
 "nbformat_minor": 0
}
