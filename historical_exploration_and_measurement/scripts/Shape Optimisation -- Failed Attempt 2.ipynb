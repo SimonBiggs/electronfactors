{
 "metadata": {
  "name": "",
  "signature": "sha256:ee742d062cadc737913d8a46cd656851b90f4dedd5303c4a9ffc0e23467c2463"
 },
 "nbformat": 3,
 "nbformat_minor": 0,
 "worksheets": [
  {
   "cells": [
    {
     "cell_type": "code",
     "collapsed": false,
     "input": [
      "%pylab inline\n",
      "\n",
      "import pandas as pd\n",
      "\n",
      "import csv\n",
      "\n",
      "from threshold_functions import *\n",
      "\n",
      "from equivalent_ellipse import *\n",
      "\n",
      "from scipy.interpolate import SmoothBivariateSpline, bisplrep"
     ],
     "language": "python",
     "metadata": {},
     "outputs": [
      {
       "output_type": "stream",
       "stream": "stdout",
       "text": [
        "Populating the interactive namespace from numpy and matplotlib\n"
       ]
      }
     ],
     "prompt_number": 8
    },
    {
     "cell_type": "code",
     "collapsed": false,
     "input": [
      "x_list = list()\n",
      "y_list = list()\n",
      "\n",
      "with open('../data/cutout_x.csv', 'r') as x_csvfile:\n",
      "    with open('../data/cutout_y.csv', 'r') as y_csvfile:\n",
      "        \n",
      "        x_reader = csv.reader(x_csvfile, delimiter=',', lineterminator='\\n')\n",
      "        y_reader = csv.reader(y_csvfile, delimiter=',', lineterminator='\\n')\n",
      "        \n",
      "        for row in x_reader:\n",
      "            x_list += [row]\n",
      "  \n",
      "        for row in y_reader:\n",
      "            y_list += [row]"
     ],
     "language": "python",
     "metadata": {},
     "outputs": [],
     "prompt_number": 9
    },
    {
     "cell_type": "code",
     "collapsed": false,
     "input": [
      "num_cutouts = len(x_list)"
     ],
     "language": "python",
     "metadata": {},
     "outputs": [],
     "prompt_number": 10
    },
    {
     "cell_type": "code",
     "collapsed": false,
     "input": [
      "x_array = [0,]*num_cutouts\n",
      "y_array = [0,]*num_cutouts\n",
      "\n",
      "for i in range(num_cutouts):\n",
      "\n",
      "    x_array[i] = array(x_list[i], dtype='float')\n",
      "    y_array[i] = array(y_list[i], dtype='float')"
     ],
     "language": "python",
     "metadata": {},
     "outputs": [],
     "prompt_number": 11
    },
    {
     "cell_type": "code",
     "collapsed": false,
     "input": [
      "cutout = [0,]*num_cutouts\n",
      "\n",
      "for i in range(num_cutouts):\n",
      "    cutout[i] = shapely_cutout(x_array[i],y_array[i])\n"
     ],
     "language": "python",
     "metadata": {},
     "outputs": [],
     "prompt_number": 12
    },
    {
     "cell_type": "code",
     "collapsed": false,
     "input": [
      "cutout_dimensions = pd.DataFrame.from_csv('../data/cutout_dimensions.csv')\n",
      "#cutout_dimensions"
     ],
     "language": "python",
     "metadata": {},
     "outputs": [],
     "prompt_number": 13
    },
    {
     "cell_type": "code",
     "collapsed": false,
     "input": [
      "boundBox = cutout_dimensions['box_bounds'].values\n",
      "#ref = boundBox < 11\n",
      "\n",
      "width = cutout_dimensions['width'].values\n",
      "length = cutout_dimensions['length'].values\n",
      "\n",
      "cutoutRef = arange(num_cutouts)\n",
      "\n",
      "ratio = width/length"
     ],
     "language": "python",
     "metadata": {},
     "outputs": [],
     "prompt_number": 14
    },
    {
     "cell_type": "code",
     "collapsed": false,
     "input": [
      "# plot(append(width,width),append(log2(ratio),log2(1/ratio)),'.')"
     ],
     "language": "python",
     "metadata": {},
     "outputs": [],
     "prompt_number": 15
    },
    {
     "cell_type": "code",
     "collapsed": false,
     "input": [
      "def give_calc(xGrid,yGrid,width,ratio,w):\n",
      "    \n",
      "    w = w/max(w)\n",
      "    \n",
      "    ref = (w == 0)\n",
      "    width = delete(width,find(ref))\n",
      "    ratio = delete(ratio,find(ref))\n",
      "    w = delete(w,find(ref))\n",
      "    \n",
      "    return fit_give(xGrid,log2(yGrid),\n",
      "                    append(width,width),\n",
      "                    append(log2(ratio),log2(1/ratio)),\n",
      "                    zeros(len(width)*2),append(w,w))\n",
      "\n",
      "def gap_calc(xGrid,yGrid,width,ratio):\n",
      "    \n",
      "    return angle_gap(xGrid,log2(yGrid),append(width,width),\n",
      "                     append(log2(ratio),log2(1/ratio)),1,2)"
     ],
     "language": "python",
     "metadata": {},
     "outputs": [],
     "prompt_number": 16
    },
    {
     "cell_type": "code",
     "collapsed": false,
     "input": [
      "w = ones(len(width))\n",
      "valid = (give_calc(width,ratio,width,ratio,w) < 0.15) & (gap_calc(width,ratio,width,ratio) < 130)\n",
      "\n",
      "curr_give = give_calc(width[valid],ratio[valid],width,ratio,w)\n",
      "curr_gap = gap_calc(width[valid],ratio[valid],width,ratio)\n",
      "curr_gap"
     ],
     "language": "python",
     "metadata": {},
     "outputs": [
      {
       "metadata": {},
       "output_type": "pyout",
       "prompt_number": 17,
       "text": [
        "array([  22.05796393,   12.97150852,   15.4480922 ,  114.41900685,\n",
        "         12.86442621,   45.05604711,   50.89193108,   71.02505439,\n",
        "         14.86260378,   13.73522834,   28.53415934,   14.52084192,\n",
        "         12.97150852,   37.60018701,   90.45003316,   41.86943705,\n",
        "         61.16413327,   38.94884243,   25.62485427,   59.84479106,\n",
        "         45.05604711,   74.8128632 ,   15.69237109,   37.7737172 ,\n",
        "         27.61627322,   24.57974805,   23.50689082,   14.32039921,\n",
        "         74.81286289,   36.24210316,   33.0620745 ,   36.40251564,\n",
        "         26.76336576,   99.75940399,   38.94884122,   97.73670756,\n",
        "         23.50689059,   12.97151283,   49.15760775,   37.72170788,\n",
        "         13.65532892,   26.3431725 ,   68.01266376,   25.74202726,\n",
        "         29.5555355 ,   45.05605536,   23.50689193,   62.17904765,\n",
        "         13.65533836,   42.73353425,   68.01268089,   57.81567984,\n",
        "         12.72280297,   10.54700253,   17.49751532,   42.7726882 ,\n",
        "         45.05605614,   13.65534948,   42.73353534,   91.67712739,\n",
        "         17.13722801,   31.28382127,   12.72280323,   58.2988146 ,\n",
        "         23.8047465 ,   21.36408199,   21.76698801,   45.0560484 ,\n",
        "         35.09802512,   40.72582797,   15.36845615,   58.29881463,\n",
        "         23.80475957,   50.84048514,   13.1216308 ,   72.43305875,\n",
        "         34.44201164,   36.27642908,   51.90132721,   25.23974732,\n",
        "         31.49707471,   96.83700661,   58.298817  ,   91.90442605,\n",
        "         22.05796286,   15.64115911,   13.12162159,   30.83619322,\n",
        "         36.27642908,   22.00066572,   58.2988139 ,   64.37534178,\n",
        "         22.05796403,  102.9921899 ,   27.98233018,   82.16611229,\n",
        "         30.83619352,   22.00069262,   31.86814726,   71.02505451,\n",
        "         18.67888957,   35.97740025,   70.94418244])"
       ]
      }
     ],
     "prompt_number": 17
    },
    {
     "cell_type": "code",
     "collapsed": false,
     "input": [
      "curr_give[2] = 0.2\n",
      "sum((curr_give/0.15)**15)"
     ],
     "language": "python",
     "metadata": {},
     "outputs": [
      {
       "metadata": {},
       "output_type": "pyout",
       "prompt_number": 18,
       "text": [
        "75.407633101701038"
       ]
      }
     ],
     "prompt_number": 18
    },
    {
     "cell_type": "code",
     "collapsed": false,
     "input": [
      "curr_gap[2] = 100\n",
      "sum((curr_gap/130)**30)"
     ],
     "language": "python",
     "metadata": {},
     "outputs": [
      {
       "metadata": {},
       "output_type": "pyout",
       "prompt_number": 19,
       "text": [
        "0.023786428268844292"
       ]
      }
     ],
     "prompt_number": 19
    },
    {
     "cell_type": "code",
     "collapsed": false,
     "input": [
      "sum(w)"
     ],
     "language": "python",
     "metadata": {},
     "outputs": [
      {
       "metadata": {},
       "output_type": "pyout",
       "prompt_number": 20,
       "text": [
        "116.0"
       ]
      }
     ],
     "prompt_number": 20
    },
    {
     "cell_type": "code",
     "collapsed": false,
     "input": [
      "global keeping_track\n",
      "\n",
      "def toMinimise(w):\n",
      "    \n",
      "    global keeping_track\n",
      "\n",
      "    \n",
      "    if (sum(w) > 13):\n",
      "        curr_give = give_calc(width[valid],ratio[valid],width,ratio,w)\n",
      "    else:\n",
      "        curr_give = ones(len(w))\n",
      "    #curr_gap = gap_calc(width[valid],ratio[valid],width,ratio)\n",
      "    \n",
      "    weights_bias = sum((2*exp(-((w-0.5)*2)**2) + 3*w - 1)/3)\n",
      "    too_few_bias = exp(-(sum(w)-15))\n",
      "    give_bias = sum(30/(1 + exp(-(curr_give-0.15)*100)))\n",
      "    \n",
      "    output = weights_bias + give_bias + too_few_bias\n",
      "    \n",
      "    if keeping_track > 20:\n",
      "        print(\"Output %.4f, weight %.4f, too few %.4f, give %.4f\" % (output, weights_bias, too_few_bias, give_bias))\n",
      "        w_show = reshape(w,[4,29])\n",
      "        imshow(w_show, interpolation='nearest', cmap=cm.gray, vmin=0, vmax=1)\n",
      "        show()\n",
      "        keeping_track = 0\n",
      "    else:\n",
      "        keeping_track += 1\n",
      "    \n",
      "    return output"
     ],
     "language": "python",
     "metadata": {},
     "outputs": [],
     "prompt_number": 137
    },
    {
     "cell_type": "code",
     "collapsed": false,
     "input": [
      "\n",
      "t = linspace(0,20,1000)\n",
      "y = exp(-(t-13))\n",
      "plot(t,y)\n",
      "ylim([0,1])"
     ],
     "language": "python",
     "metadata": {},
     "outputs": [
      {
       "metadata": {},
       "output_type": "pyout",
       "prompt_number": 22,
       "text": [
        "(0, 1)"
       ]
      },
      {
       "metadata": {},
       "output_type": "display_data",
       "png": "[encoded data removed]",
       "text": [
        "<matplotlib.figure.Figure at 0x7f7e62a364a8>"
       ]
      }
     ],
     "prompt_number": 22
    },
    {
     "cell_type": "code",
     "collapsed": false,
     "input": [
      "t = linspace(0,1,1000)\n",
      "y = (2*exp(-((t-0.5)*2)**2) + 3*t - 1)/3\n",
      "plot(t,y)"
     ],
     "language": "python",
     "metadata": {},
     "outputs": [
      {
       "metadata": {},
       "output_type": "pyout",
       "prompt_number": 136,
       "text": [
        "[<matplotlib.lines.Line2D at 0x7f7e5f4f5be0>]"
       ]
      },
      {
       "metadata": {},
       "output_type": "display_data",
       "png": "[encoded data removed]",
       "text": [
        "<matplotlib.figure.Figure at 0x7f7e5f582dd8>"
       ]
      }
     ],
     "prompt_number": 136
    },
    {
     "cell_type": "code",
     "collapsed": false,
     "input": [
      "t = linspace(0,1,1000)\n",
      "y = 30/(1 + exp(-(t-0.15)*100))\n",
      "plot(t,y)\n",
      "# ylim(0,10)"
     ],
     "language": "python",
     "metadata": {},
     "outputs": [
      {
       "metadata": {},
       "output_type": "pyout",
       "prompt_number": 123,
       "text": [
        "[<matplotlib.lines.Line2D at 0x7f7e5f6dceb8>]"
       ]
      },
      {
       "metadata": {},
       "output_type": "display_data",
       "png": "[encoded data removed]",
       "text": [
        "<matplotlib.figure.Figure at 0x7f7e5f869d68>"
       ]
      }
     ],
     "prompt_number": 123
    },
    {
     "cell_type": "code",
     "collapsed": false,
     "input": [
      "bounds = ([0,1],)*len(width)"
     ],
     "language": "python",
     "metadata": {},
     "outputs": [],
     "prompt_number": 23
    },
    {
     "cell_type": "code",
     "collapsed": false,
     "input": [
      "keeping_track = 0\n",
      "\n",
      "minimizer_kwargs = {\"tol\":0.1,\"method\": 'SLSQP', \"bounds\": bounds  }\n",
      "x0 = ones(len(width))\n",
      "\n",
      "output = basinhopping(toMinimise,x0,\n",
      "                      niter=1,minimizer_kwargs=minimizer_kwargs)\n",
      "\n",
      "output"
     ],
     "language": "python",
     "metadata": {},
     "outputs": [
      {
       "ename": "TypeError",
       "evalue": "minimize() got an unexpected keyword argument 'epsilon'",
       "output_type": "pyerr",
       "traceback": [
        "\u001b[1;31m---------------------------------------------------------------------------\u001b[0m\n\u001b[1;31mTypeError\u001b[0m                                 Traceback (most recent call last)",
        "\u001b[1;32m<ipython-input-139-66886a57a2e3>\u001b[0m in \u001b[0;36m<module>\u001b[1;34m()\u001b[0m\n\u001b[0;32m      5\u001b[0m \u001b[1;33m\u001b[0m\u001b[0m\n\u001b[0;32m      6\u001b[0m output = basinhopping(toMinimise,x0,\n\u001b[1;32m----> 7\u001b[1;33m                       niter=1,minimizer_kwargs=minimizer_kwargs)\n\u001b[0m\u001b[0;32m      8\u001b[0m \u001b[1;33m\u001b[0m\u001b[0m\n\u001b[0;32m      9\u001b[0m \u001b[0moutput\u001b[0m\u001b[1;33m\u001b[0m\u001b[0m\n",
        "\u001b[1;32m/usr/local/lib/python3.4/dist-packages/scipy/optimize/_basinhopping.py\u001b[0m in \u001b[0;36mbasinhopping\u001b[1;34m(func, x0, niter, T, stepsize, minimizer_kwargs, take_step, accept_test, callback, interval, disp, niter_success)\u001b[0m\n\u001b[0;32m    603\u001b[0m \u001b[1;33m\u001b[0m\u001b[0m\n\u001b[0;32m    604\u001b[0m     bh = BasinHoppingRunner(x0, wrapped_minimizer, take_step_wrapped,\n\u001b[1;32m--> 605\u001b[1;33m                             accept_tests, disp=disp)\n\u001b[0m\u001b[0;32m    606\u001b[0m \u001b[1;33m\u001b[0m\u001b[0m\n\u001b[0;32m    607\u001b[0m     \u001b[1;31m# start main iteration loop\u001b[0m\u001b[1;33m\u001b[0m\u001b[1;33m\u001b[0m\u001b[0m\n",
        "\u001b[1;32m/usr/local/lib/python3.4/dist-packages/scipy/optimize/_basinhopping.py\u001b[0m in \u001b[0;36m__init__\u001b[1;34m(self, x0, minimizer, step_taking, accept_tests, disp)\u001b[0m\n\u001b[0;32m     70\u001b[0m \u001b[1;33m\u001b[0m\u001b[0m\n\u001b[0;32m     71\u001b[0m         \u001b[1;31m# do initial minimization\u001b[0m\u001b[1;33m\u001b[0m\u001b[1;33m\u001b[0m\u001b[0m\n\u001b[1;32m---> 72\u001b[1;33m         \u001b[0mminres\u001b[0m \u001b[1;33m=\u001b[0m \u001b[0mminimizer\u001b[0m\u001b[1;33m(\u001b[0m\u001b[0mself\u001b[0m\u001b[1;33m.\u001b[0m\u001b[0mx\u001b[0m\u001b[1;33m)\u001b[0m\u001b[1;33m\u001b[0m\u001b[0m\n\u001b[0m\u001b[0;32m     73\u001b[0m         \u001b[1;32mif\u001b[0m \u001b[1;32mnot\u001b[0m \u001b[0mminres\u001b[0m\u001b[1;33m.\u001b[0m\u001b[0msuccess\u001b[0m\u001b[1;33m:\u001b[0m\u001b[1;33m\u001b[0m\u001b[0m\n\u001b[0;32m     74\u001b[0m             \u001b[0mself\u001b[0m\u001b[1;33m.\u001b[0m\u001b[0mres\u001b[0m\u001b[1;33m.\u001b[0m\u001b[0mminimization_failures\u001b[0m \u001b[1;33m+=\u001b[0m \u001b[1;36m1\u001b[0m\u001b[1;33m\u001b[0m\u001b[0m\n",
        "\u001b[1;32m/usr/local/lib/python3.4/dist-packages/scipy/optimize/_basinhopping.py\u001b[0m in \u001b[0;36m__call__\u001b[1;34m(self, x0)\u001b[0m\n\u001b[0;32m    277\u001b[0m             \u001b[1;32mreturn\u001b[0m \u001b[0mself\u001b[0m\u001b[1;33m.\u001b[0m\u001b[0mminimizer\u001b[0m\u001b[1;33m(\u001b[0m\u001b[0mx0\u001b[0m\u001b[1;33m,\u001b[0m \u001b[1;33m**\u001b[0m\u001b[0mself\u001b[0m\u001b[1;33m.\u001b[0m\u001b[0mkwargs\u001b[0m\u001b[1;33m)\u001b[0m\u001b[1;33m\u001b[0m\u001b[0m\n\u001b[0;32m    278\u001b[0m         \u001b[1;32melse\u001b[0m\u001b[1;33m:\u001b[0m\u001b[1;33m\u001b[0m\u001b[0m\n\u001b[1;32m--> 279\u001b[1;33m             \u001b[1;32mreturn\u001b[0m \u001b[0mself\u001b[0m\u001b[1;33m.\u001b[0m\u001b[0mminimizer\u001b[0m\u001b[1;33m(\u001b[0m\u001b[0mself\u001b[0m\u001b[1;33m.\u001b[0m\u001b[0mfunc\u001b[0m\u001b[1;33m,\u001b[0m \u001b[0mx0\u001b[0m\u001b[1;33m,\u001b[0m \u001b[1;33m**\u001b[0m\u001b[0mself\u001b[0m\u001b[1;33m.\u001b[0m\u001b[0mkwargs\u001b[0m\u001b[1;33m)\u001b[0m\u001b[1;33m\u001b[0m\u001b[0m\n\u001b[0m\u001b[0;32m    280\u001b[0m \u001b[1;33m\u001b[0m\u001b[0m\n\u001b[0;32m    281\u001b[0m \u001b[1;33m\u001b[0m\u001b[0m\n",
        "\u001b[1;31mTypeError\u001b[0m: minimize() got an unexpected keyword argument 'epsilon'"
       ]
      }
     ],
     "prompt_number": 139
    },
    {
     "cell_type": "code",
     "collapsed": false,
     "input": [
      "w_show = reshape(w,[4,29])\n",
      "imshow(w_show, interpolation='nearest', cmap=cm.gray, vmin=0, vmax=1)\n",
      "colorbar()"
     ],
     "language": "python",
     "metadata": {},
     "outputs": [
      {
       "metadata": {},
       "output_type": "pyout",
       "prompt_number": 76,
       "text": [
        "<matplotlib.colorbar.Colorbar at 0x7f7e60054e10>"
       ]
      },
      {
       "metadata": {},
       "output_type": "display_data",
       "png": "[encoded data removed]",
       "text": [
        "<matplotlib.figure.Figure at 0x7f7e600e9f28>"
       ]
      }
     ],
     "prompt_number": 76
    }
   ],
   "metadata": {}
  }
 ]
}