{
 "cells": [
  {
   "cell_type": "markdown",
   "metadata": {},
   "source": [
    "# Conversion for a specific Excel template\n",
    "\n",
    "Takes an Excel file written in a specific way and converts it into a generic shape import csv file."
   ]
  },
  {
   "cell_type": "markdown",
   "metadata": {},
   "source": [
    "## Copyright information\n",
    "\n",
    "Copyright © 2015 Simon Biggs\n",
    "\n",
    "This program is free software: you can redistribute it and/or modify it under the terms of the GNU Affero General Public License as published by the Free Software Foundation, either version 3 of the License, or (at your option) any later version.\n",
    "\n",
    "This program is distributed in the hope that it will be useful, but WITHOUT ANY WARRANTY; without even the implied warranty of MERCHANTABILITY or FITNESS FOR A PARTICULAR PURPOSE. See the GNU Affero General Public License for more details.\n",
    "\n",
    "You should have received a copy of the GNU Affero General Public License along with this program. If not, see http://www.gnu.org/licenses/."
   ]
  },
  {
   "cell_type": "code",
   "execution_count": 1,
   "metadata": {
    "collapsed": true
   },
   "outputs": [],
   "source": [
    "import pandas as pd\n",
    "import numpy as np"
   ]
  },
  {
   "cell_type": "code",
   "execution_count": 2,
   "metadata": {
    "collapsed": false
   },
   "outputs": [],
   "source": [
    "filepath = '../../../user_input/DataImport/GenericShapeImport/Electron_Output_Factors_LA4_v1.xlsx'\n",
    "rawData = pd.read_excel(filepath,skiprows=32,sheetname=1)"
   ]
  },
  {
   "cell_type": "code",
   "execution_count": 3,
   "metadata": {
    "collapsed": false
   },
   "outputs": [],
   "source": [
    "rawOutputFactor = np.zeros(np.shape(rawData['Output Factor'].values))\n",
    "\n",
    "for i, loadedFactor in enumerate(rawData['Output Factor'].values):\n",
    "    \n",
    "    try:\n",
    "        rawOutputFactor[i] = np.float(loadedFactor)\n",
    "        \n",
    "    except:\n",
    "        rawOutputFactor[i] = np.nan"
   ]
  },
  {
   "cell_type": "code",
   "execution_count": 4,
   "metadata": {
    "collapsed": false
   },
   "outputs": [],
   "source": [
    "useData = ((rawData['Use Factor (Y/N)'].values != '-') & \n",
    " (rawData['Use Factor (Y/N)'].values != 'N') &\n",
    " (~np.isnan(rawOutputFactor)))"
   ]
  },
  {
   "cell_type": "code",
   "execution_count": 5,
   "metadata": {
    "collapsed": true
   },
   "outputs": [],
   "source": [
    "factor = rawOutputFactor[useData]"
   ]
  },
  {
   "cell_type": "code",
   "execution_count": 6,
   "metadata": {
    "collapsed": false
   },
   "outputs": [],
   "source": [
    "shape = [0,]*sum(useData)\n",
    "\n",
    "for i, loadedShape in enumerate(rawData['Shape'].values[useData]):\n",
    "    shape[i] = loadedShape.lower()"
   ]
  },
  {
   "cell_type": "code",
   "execution_count": 7,
   "metadata": {
    "collapsed": false
   },
   "outputs": [],
   "source": [
    "width = np.zeros(sum(useData))\n",
    "length = np.zeros(sum(useData))\n",
    "\n",
    "for i, insertString in enumerate(rawData['Insert (cm x cm)'][useData]):\n",
    "    \n",
    "    dimenstionsString = insertString.lower().split(\"x\")\n",
    "    \n",
    "    sideA = float(dimenstionsString[0])\n",
    "    sideB = float(dimenstionsString[1])\n",
    "    \n",
    "    if sideA < sideB:\n",
    "        width[i] = sideA\n",
    "        length[i] = sideB\n",
    "        \n",
    "    else:\n",
    "        width[i] = sideB\n",
    "        length[i] = sideA"
   ]
  },
  {
   "cell_type": "code",
   "execution_count": 8,
   "metadata": {
    "collapsed": false
   },
   "outputs": [],
   "source": [
    "applicator = np.zeros(sum(useData))\n",
    "\n",
    "for i, applicatorString in enumerate(rawData['Applicator (cm x cm)'].values[useData]):\n",
    "    \n",
    "    applicator[i] = float(applicatorString.lower().split(\"x\")[0])"
   ]
  },
  {
   "cell_type": "code",
   "execution_count": 9,
   "metadata": {
    "collapsed": false
   },
   "outputs": [],
   "source": [
    "energy = np.zeros(sum(useData))\n",
    "\n",
    "for i, energyString in enumerate(rawData['Energy (MeV)'].values[useData]):\n",
    "    \n",
    "    energy[i] = float(energyString)"
   ]
  },
  {
   "cell_type": "code",
   "execution_count": 10,
   "metadata": {
    "collapsed": true
   },
   "outputs": [],
   "source": [
    "ssd = np.zeros(sum(useData))\n",
    "\n",
    "for i, ssdString in enumerate(rawData['SSD (cm)'].values[useData]):\n",
    "    \n",
    "    ssd[i] = float(ssdString)"
   ]
  },
  {
   "cell_type": "code",
   "execution_count": 11,
   "metadata": {
    "collapsed": true
   },
   "outputs": [],
   "source": [
    "# Can import a bulk label here which can be attached to each shape in the model"
   ]
  },
  {
   "cell_type": "code",
   "execution_count": 23,
   "metadata": {
    "collapsed": false
   },
   "outputs": [],
   "source": [
    "factorIndex = [0,] * sum(useData)\n",
    "\n",
    "for i, index in enumerate(factorIndex):\n",
    "    \n",
    "    factorIndex[i] = \"data collection \" + str(i)"
   ]
  },
  {
   "cell_type": "code",
   "execution_count": 24,
   "metadata": {
    "collapsed": false
   },
   "outputs": [],
   "source": [
    "index = ['index','energy', 'applicator', 'width', 'length', 'shape', 'ssd', 'factor']\n",
    "data2export = np.vstack([factorIndex,energy,applicator,width,length,shape,ssd,factor])\n",
    "\n",
    "exportDataFrame = pd.DataFrame(data2export, index=index).T\n",
    "\n",
    "exportDataFrame.to_csv('../../../user_input/DataImport/GenericShapeImport/GenericShapeImport.csv',index=None)"
   ]
  },
  {
   "cell_type": "code",
   "execution_count": null,
   "metadata": {
    "collapsed": false
   },
   "outputs": [],
   "source": []
  },
  {
   "cell_type": "code",
   "execution_count": null,
   "metadata": {
    "collapsed": true
   },
   "outputs": [],
   "source": []
  }
 ],
 "metadata": {
  "kernelspec": {
   "display_name": "Python 3",
   "language": "python",
   "name": "python3"
  },
  "language_info": {
   "codemirror_mode": {
    "name": "ipython",
    "version": 3
   },
   "file_extension": ".py",
   "mimetype": "text/x-python",
   "name": "python",
   "nbconvert_exporter": "python",
   "pygments_lexer": "ipython3",
   "version": "3.4.0"
  }
 },
 "nbformat": 4,
 "nbformat_minor": 0
}
