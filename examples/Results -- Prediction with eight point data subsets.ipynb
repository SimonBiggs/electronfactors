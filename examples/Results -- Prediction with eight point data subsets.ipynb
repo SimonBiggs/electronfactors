{
 "cells": [
  {
   "cell_type": "code",
   "execution_count": 1,
   "metadata": {
    "collapsed": false
   },
   "outputs": [],
   "source": [
    "import yaml\n",
    "\n",
    "import numpy as np\n",
    "\n",
    "import matplotlib.pyplot as plt\n",
    "%matplotlib inline\n",
    "\n",
    "from scipy.stats import probplot\n",
    "\n",
    "import sys\n",
    "sys.path.append(\"../\")\n",
    "\n",
    "from electronfactors.model.utilities import create_model, pull_data, fit_give, estimate_population_uncertainty\n"
   ]
  },
  {
   "cell_type": "code",
   "execution_count": 2,
   "metadata": {
    "collapsed": true
   },
   "outputs": [],
   "source": [
    "from matplotlib import rc\n",
    "rc('font',**{'family':'serif',\n",
    "             'size':'16'})\n",
    "rc('text', usetex=True)"
   ]
  },
  {
   "cell_type": "code",
   "execution_count": 3,
   "metadata": {
    "collapsed": true
   },
   "outputs": [],
   "source": [
    "def create_histogram(data):\n",
    "    plt.figure(figsize=(6 * 1.618, 6))\n",
    "    \n",
    "    bins = np.arange(-1.5, 2, 0.5)\n",
    "    dbins = bins[1] - bins[0]\n",
    "    binsTrans = bins - dbins/2\n",
    "\n",
    "    binsTrans = binsTrans.reshape(-1,1)\n",
    "    binNum = np.argmin(abs(binsTrans - data),0)\n",
    "\n",
    "    representative_height = np.zeros(len(binNum))\n",
    "\n",
    "    for i in range(len(bins)):\n",
    "        binRef = (binNum == i)\n",
    "        representative_height[binRef] = np.arange(sum(binRef)) + 1\n",
    "\n",
    "    plt.hist(data, bins, alpha=0.6, lw=2)\n",
    "    plt.scatter(data, representative_height, zorder=2, s=120, alpha=0.8, lw=1.5)\n",
    "    \n",
    "    uncertainty = estimate_population_uncertainty(data)\n",
    "    \n",
    "    print(\"Mean = %0.2f\" % (np.mean(data)))\n",
    "    print(\"Uncertainty = %0.2f\" % (uncertainty))"
   ]
  },
  {
   "cell_type": "code",
   "execution_count": 4,
   "metadata": {
    "collapsed": false
   },
   "outputs": [],
   "source": [
    "def display_fit(width, eqPonA, factor, model):\n",
    "    plt.figure(figsize=(6 * 1.618, 6))\n",
    "    x = np.arange(np.floor(np.min(width)) - 0.5, np.ceil(np.max(width)) + 0.5, 0.05)\n",
    "    y = np.arange(np.floor(np.min(eqPonA)*10)/10 - 0.2, np.ceil(np.max(eqPonA)*10)/10 + 0.2, 0.005)\n",
    "\n",
    "    xx, yy = np.meshgrid(x, y)\n",
    "\n",
    "    zz = model(xx, yy)\n",
    "    give = fit_give(xx, yy, width, eqPonA, factor, kx=2, ky=1)\n",
    "\n",
    "    outOfTolerance = (give > 0.5)\n",
    "\n",
    "    zz[outOfTolerance] = np.nan\n",
    "\n",
    "    c = plt.contourf(xx, yy, zz, 100, alpha=1)\n",
    "    plt.colorbar(c)\n",
    "\n",
    "    plt.contour(xx, yy, give, levels=[0.5], colors='g')\n",
    "\n",
    "    plt.scatter(width, eqPonA, s=45, alpha=0.9, zorder=3)\n",
    "\n",
    "    plt.xlabel(r'Width (cm)')\n",
    "    plt.ylabel(r'Perimeter / Area (cm$^{-1}$)')\n",
    "    plt.title(r'Bivariate spline fit')"
   ]
  },
  {
   "cell_type": "code",
   "execution_count": 5,
   "metadata": {
    "collapsed": false
   },
   "outputs": [],
   "source": [
    "# width, length, eqPonA, factor = pull_data(energy=12)\n",
    "\n",
    "with open(\"model_cache/12MeV_10app_100ssd.yml\", 'r') as file:\n",
    "    cutout_data = yaml.load(file)\n",
    "    \n",
    "label = np.array([key for key in cutout_data])\n",
    "book_factor = np.array([item[0] == 'P' for i, item in enumerate(label)])\n",
    "\n",
    "custom_label = label[~book_factor]\n",
    "\n",
    "width = np.array([cutout_data[key]['width'] for key in custom_label])\n",
    "length = np.array([cutout_data[key]['length'] for key in custom_label])\n",
    "factor = np.array([cutout_data[key]['factor'] for key in custom_label])\n",
    "\n",
    "perimeter = np.pi / 2 * (3*(width + length) - np.sqrt((3*width + length)*(3*length + width)))\n",
    "area = np.pi / 4 * width * length\n",
    "eqPonA = perimeter / area"
   ]
  },
  {
   "cell_type": "code",
   "execution_count": 6,
   "metadata": {
    "collapsed": false
   },
   "outputs": [
    {
     "data": {
      "text/plain": [
       "array([ 3, 23, 14, 38, 12, 16, 15, 31])"
      ]
     },
     "execution_count": 6,
     "metadata": {},
     "output_type": "execute_result"
    }
   ],
   "source": [
    "amount = 8\n",
    "order = np.arange(len(width))\n",
    "np.random.shuffle(order)\n",
    "reference = order[0:amount]\n",
    "reference"
   ]
  },
  {
   "cell_type": "code",
   "execution_count": 7,
   "metadata": {
    "collapsed": false
   },
   "outputs": [
    {
     "data": {
      "text/plain": [
       "array([ 4.21,  3.66,  4.59,  4.59,  4.38,  3.17,  5.26,  7.56])"
      ]
     },
     "execution_count": 7,
     "metadata": {},
     "output_type": "execute_result"
    }
   ],
   "source": [
    "width[reference]"
   ]
  },
  {
   "cell_type": "code",
   "execution_count": 8,
   "metadata": {
    "collapsed": false
   },
   "outputs": [
    {
     "data": {
      "text/plain": [
       "array([ 0.66577803,  0.94921616,  0.79006275,  0.74724175,  0.82477089,\n",
       "        0.85487397,  0.58629662,  0.46587512])"
      ]
     },
     "execution_count": 8,
     "metadata": {},
     "output_type": "execute_result"
    }
   ],
   "source": [
    "eqPonA[reference]"
   ]
  },
  {
   "cell_type": "code",
   "execution_count": 9,
   "metadata": {
    "collapsed": false
   },
   "outputs": [
    {
     "data": {
      "text/plain": [
       "array([ 0.9757,  0.9437,  0.9587,  0.9683,  0.9634,  0.953 ,  0.9879,\n",
       "        1.0045])"
      ]
     },
     "execution_count": 9,
     "metadata": {},
     "output_type": "execute_result"
    }
   ],
   "source": [
    "factor[reference]"
   ]
  },
  {
   "cell_type": "code",
   "execution_count": 10,
   "metadata": {
    "collapsed": false
   },
   "outputs": [
    {
     "data": {
      "text/plain": [
       "array([ 0,  1,  2,  4,  5,  6,  7,  8,  9, 10, 11, 13, 17, 18, 19, 20, 21,\n",
       "       22, 24, 25, 26, 27, 28, 29, 30, 32, 33, 34, 35, 36, 37, 39, 40, 41])"
      ]
     },
     "execution_count": 10,
     "metadata": {},
     "output_type": "execute_result"
    }
   ],
   "source": [
    "check = np.setdiff1d(np.arange(len(width)), reference)\n",
    "check"
   ]
  },
  {
   "cell_type": "code",
   "execution_count": 11,
   "metadata": {
    "collapsed": true
   },
   "outputs": [],
   "source": [
    "give = np.zeros(len(check))\n",
    "predictions = np.zeros(len(check))\n",
    "\n",
    "model = create_model(width[reference], eqPonA[reference], factor[reference])"
   ]
  },
  {
   "cell_type": "code",
   "execution_count": 12,
   "metadata": {
    "collapsed": false
   },
   "outputs": [
    {
     "data": {
      "text/plain": [
       "<matplotlib.collections.PathCollection at 0x7ff21b6ab9b0>"
      ]
     },
     "execution_count": 12,
     "metadata": {},
     "output_type": "execute_result"
    },
    {
     "data": {
      "image/png": "[encoded data removed]",
      "text/plain": [
       "<matplotlib.figure.Figure at 0x7ff21bbcf978>"
      ]
     },
     "metadata": {},
     "output_type": "display_data"
    }
   ],
   "source": [
    "display_fit(width[reference], eqPonA[reference], factor[reference], model)\n",
    "plt.scatter(width[check], eqPonA[check], c='red', alpha=0.5)"
   ]
  },
  {
   "cell_type": "code",
   "execution_count": 13,
   "metadata": {
    "collapsed": true
   },
   "outputs": [],
   "source": [
    "for i, value in enumerate(check):\n",
    "    predictions[i] = model(width[value], eqPonA[value])\n",
    "    give[i] = fit_give(\n",
    "        width[value], eqPonA[value], \n",
    "        width[reference], eqPonA[reference], factor[reference])\n",
    "\n",
    "percent_prediction_differences = 100*(factor[check] - predictions) / factor[check]\n",
    "\n",
    "valid = give < 0.5"
   ]
  },
  {
   "cell_type": "code",
   "execution_count": 14,
   "metadata": {
    "collapsed": false
   },
   "outputs": [
    {
     "name": "stdout",
     "output_type": "stream",
     "text": [
      "Mean = 0.28\n",
      "Uncertainty = 0.67\n"
     ]
    },
    {
     "data": {
      "image/png": "[encoded data removed]",
      "text/plain": [
       "<matplotlib.figure.Figure at 0x7ff21bbc9470>"
      ]
     },
     "metadata": {},
     "output_type": "display_data"
    }
   ],
   "source": [
    "create_histogram(percent_prediction_differences[valid])"
   ]
  },
  {
   "cell_type": "code",
   "execution_count": 15,
   "metadata": {
    "collapsed": true
   },
   "outputs": [],
   "source": [
    "store = np.array([])"
   ]
  },
  {
   "cell_type": "code",
   "execution_count": 24,
   "metadata": {
    "collapsed": true
   },
   "outputs": [],
   "source": [
    "amount = 8\n",
    "\n",
    "for j in range(100000):\n",
    "    order = np.arange(len(width))\n",
    "    np.random.shuffle(order)\n",
    "    reference = order[0:amount]\n",
    "    reference\n",
    "    check = np.setdiff1d(np.arange(len(width)), reference)\n",
    "    check\n",
    "    give = np.zeros(len(check))\n",
    "    predictions = np.zeros(len(check))\n",
    "\n",
    "    model = create_model(width[reference], eqPonA[reference], factor[reference])\n",
    "\n",
    "    for i, value in enumerate(check):\n",
    "        predictions[i] = model(width[value], eqPonA[value])\n",
    "        give[i] = fit_give(\n",
    "            width[value], eqPonA[value], \n",
    "            width[reference], eqPonA[reference], factor[reference])\n",
    "\n",
    "    percent_prediction_differences = 100*(factor[check] - predictions) / factor[check]\n",
    "\n",
    "    valid = give < 0.5\n",
    "    store = np.append(store, percent_prediction_differences[valid])"
   ]
  },
  {
   "cell_type": "code",
   "execution_count": 25,
   "metadata": {
    "collapsed": false
   },
   "outputs": [
    {
     "name": "stdout",
     "output_type": "stream",
     "text": [
      "Mean = -0.01\n",
      "Uncertainty = 0.46\n"
     ]
    },
    {
     "data": {
      "text/plain": [
       "<matplotlib.text.Text at 0x7ff21b20cf60>"
      ]
     },
     "execution_count": 25,
     "metadata": {},
     "output_type": "execute_result"
    },
    {
     "data": {
      "image/png": "[encoded data removed]",
      "text/plain": [
       "<matplotlib.figure.Figure at 0x7ff21b252940>"
      ]
     },
     "metadata": {},
     "output_type": "display_data"
    }
   ],
   "source": [
    "plt.figure(figsize=(6 * 1.618, 6))\n",
    "plt.hist(store, 50, alpha=0.6, lw=1)\n",
    "\n",
    "uncertainty = estimate_population_uncertainty(store)\n",
    "\n",
    "print(\"Mean = %0.2f\" % (np.mean(store)))\n",
    "print(\"Uncertainty = %0.2f\" % (uncertainty))\n",
    "\n",
    "plt.xlabel(\n",
    "    r'\\% Prediction Difference '\n",
    "    r'$\\left[100 \\times \\frac{\\mbox{measured } - \\mbox{ predicted}}{\\mbox{measured}} \\right]$')\n",
    "plt.ylabel(r'Frequency')\n",
    "plt.title(r'Histogram of percent prediction differences of data subsets')"
   ]
  },
  {
   "cell_type": "code",
   "execution_count": 26,
   "metadata": {
    "collapsed": false
   },
   "outputs": [
    {
     "data": {
      "text/plain": [
       "<matplotlib.text.Text at 0x7ff21b03eba8>"
      ]
     },
     "execution_count": 26,
     "metadata": {},
     "output_type": "execute_result"
    },
    {
     "data": {
      "image/png": "[encoded data removed]",
      "text/plain": [
       "<matplotlib.figure.Figure at 0x7ff21b248e10>"
      ]
     },
     "metadata": {},
     "output_type": "display_data"
    }
   ],
   "source": [
    "fig = plt.figure(figsize=(7,4))\n",
    "ax = fig.add_subplot(111)\n",
    "\n",
    "probplot(store, plot=ax);\n",
    "\n",
    "ax.set_title(\"Normality probability plot for the percent differences\")"
   ]
  },
  {
   "cell_type": "code",
   "execution_count": null,
   "metadata": {
    "collapsed": true
   },
   "outputs": [],
   "source": []
  }
 ],
 "metadata": {
  "kernelspec": {
   "display_name": "Python 3",
   "language": "python",
   "name": "python3"
  },
  "language_info": {
   "codemirror_mode": {
    "name": "ipython",
    "version": 3
   },
   "file_extension": ".py",
   "mimetype": "text/x-python",
   "name": "python",
   "nbconvert_exporter": "python",
   "pygments_lexer": "ipython3",
   "version": "3.4.0"
  }
 },
 "nbformat": 4,
 "nbformat_minor": 0
}
