{
 "cells": [
  {
   "cell_type": "markdown",
   "metadata": {},
   "source": [
    "# Finding Centre\n",
    "\n",
    "This notebook demonstrates the centre finding object. Here \"centre\" referes to the point of maximum dose at which the cutout factor is formally defined.\n",
    "\n",
    "It makes use of the sector integration method defined within [SectorIntegration.ipynb](SectorIntegration.ipynb). Therefore a `circle_fit` function is required and a declared minimum allowable distance based upon the smallest measurement width.\n",
    "\n",
    "An example of using this object can be found [at the bottom of this notebook](#Example)."
   ]
  },
  {
   "cell_type": "markdown",
   "metadata": {},
   "source": [
    "## Copyright information\n",
    "\n",
    "Copyright © 2015 Simon Biggs\n",
    "\n",
    "This program is free software: you can redistribute it and/or modify it under the terms of the GNU Affero General Public License as published by the Free Software Foundation, either version 3 of the License, or (at your option) any later version.\n",
    "\n",
    "This program is distributed in the hope that it will be useful, but WITHOUT ANY WARRANTY; without even the implied warranty of MERCHANTABILITY or FITNESS FOR A PARTICULAR PURPOSE. See the GNU Affero General Public License for more details.\n",
    "\n",
    "You should have received a copy of the GNU Affero General Public License along with this program. If not, see http://www.gnu.org/licenses/."
   ]
  },
  {
   "cell_type": "markdown",
   "metadata": {},
   "source": [
    "## Importing Modules"
   ]
  },
  {
   "cell_type": "code",
   "execution_count": 1,
   "metadata": {
    "collapsed": false
   },
   "outputs": [
    {
     "name": "stdout",
     "output_type": "stream",
     "text": [
      "importing IPython notebook from /home/simonbiggs/github/equivalent-ellipse-spline-modelling/program/EquivalentEllipse/SectorIntegration.ipynb\n"
     ]
    },
    {
     "name": "stderr",
     "output_type": "stream",
     "text": [
      "/usr/local/lib/python3.4/dist-packages/IPython/nbformat/current.py:19: UserWarning: IPython.nbformat.current is deprecated.\n",
      "\n",
      "- use IPython.nbformat for read/write/validate public API\n",
      "- use IPython.nbformat.vX directly to composing notebooks of a particular version\n",
      "\n",
      "  \"\"\")\n"
     ]
    }
   ],
   "source": [
    "import numpy as np\n",
    "\n",
    "import matplotlib.pyplot as plt\n",
    "from matplotlib import pylab\n",
    "%matplotlib inline\n",
    "\n",
    "import shapely.geometry as geo\n",
    "\n",
    "from scipy.optimize import basinhopping\n",
    "\n",
    "import warnings\n",
    "\n",
    "import os, sys\n",
    "sys.path.append(os.path.abspath('..'))\n",
    "\n",
    "import nbimport\n",
    "sys.meta_path.append(nbimport.NotebookFinder())\n",
    "\n",
    "from EquivalentEllipse.SectorIntegration import sector_integration"
   ]
  },
  {
   "cell_type": "markdown",
   "metadata": {},
   "source": [
    "## The functions and object"
   ]
  },
  {
   "cell_type": "code",
   "execution_count": 2,
   "metadata": {
    "collapsed": true
   },
   "outputs": [],
   "source": [
    "def shapely_cutout(XCoords,YCoords):\n",
    "    \"\"\"Returns the shapely cutout defined by the x and y coordinates.\n",
    "    \"\"\"\n",
    "    return geo.Polygon(np.transpose((XCoords,YCoords)))"
   ]
  },
  {
   "cell_type": "code",
   "execution_count": 3,
   "metadata": {
    "collapsed": false
   },
   "outputs": [],
   "source": [
    "class find_centre(object):\n",
    "    \n",
    "    def __init__(self, \n",
    "                 n=5, \n",
    "                 debug=False,\n",
    "                 confidence=0.001, \n",
    "                 sectors=100, \n",
    "                 ignoreErrors=True,\n",
    "                 **kwargs):\n",
    "        \n",
    "        self.debug = debug\n",
    "        self.confidence = confidence\n",
    "        self.sectors = sectors\n",
    "        self.ignoreErrors = ignoreErrors\n",
    "        \n",
    "        self.cutoutXCoords = kwargs['x']\n",
    "        self.cutoutYCoords = kwargs['y']\n",
    "        self.cutout = shapely_cutout(self.cutoutXCoords,self.cutoutYCoords)\n",
    "        \n",
    "        self.bounds = ((np.min(self.cutoutXCoords),np.max(self.cutoutXCoords)),\n",
    "                       (np.min(self.cutoutYCoords),np.max(self.cutoutYCoords)))\n",
    "        \n",
    "#         self.minDistance = kwargs['minDistance']\n",
    "        \n",
    "        self.basinNoise = np.hypot(np.diff(self.cutout.bounds[::2]),np.diff(self.cutout.bounds[1::2]))/3\n",
    "                \n",
    "        self.circle_fit = kwargs['circle_fit']\n",
    "        \n",
    "        self.numCalls = 0\n",
    "        self.basinRequiredSuccess = n\n",
    "        self.centre = self.centre_basinhopping()\n",
    "        \n",
    "    \n",
    "    \n",
    "    def minimise_function(self, centre):\n",
    "        \n",
    "        sectorIntegrationInstance = sector_integration(x=self.cutoutXCoords,\n",
    "                                                       y=self.cutoutYCoords,\n",
    "                                                       circle_fit=self.circle_fit,\n",
    "                                                       centre=centre,\n",
    "                                                       sectors=self.sectors, # minDistance=self.minDistance,                                                       \n",
    "                                                       ignoreErrors=self.ignoreErrors)\n",
    "        \n",
    "        self.numCalls += 1\n",
    "        \n",
    "        return -sectorIntegrationInstance.factor\n",
    "        \n",
    "    \n",
    "    def centre_basinhopping(self):\n",
    "        \n",
    "        self.functionReturns = np.empty(self.basinRequiredSuccess)\n",
    "        self.functionReturns[:] = np.nan\n",
    "        \n",
    "        self.numSuccess = 0\n",
    "        \n",
    "        minimizerConfig = {\"method\": 'L-BFGS-B',\n",
    "                           \"options\": {'gtol': self.confidence},\n",
    "                           \"bounds\": self.bounds}\n",
    "        \n",
    "        initial_input = np.array([0,0])\n",
    "        \n",
    "        basinhoppingOutput = basinhopping(self.minimise_function,\n",
    "                                          initial_input,\n",
    "                                          niter=1000,\n",
    "                                          minimizer_kwargs=minimizerConfig,\n",
    "                                          take_step=self.step_function,\n",
    "                                          callback=self.callback_function)   \n",
    "        \n",
    "        return basinhoppingOutput.x\n",
    "    \n",
    "    \n",
    "    def step_function(self,optimiserInput):\n",
    "        \n",
    "        \n",
    "        \n",
    "        optimiserInput[0] += np.random.normal(scale=self.basinNoise)   # x-position\n",
    "        optimiserInput[1] += np.random.normal(scale=self.basinNoise)   # y-position\n",
    "        \n",
    "        return optimiserInput\n",
    "    \n",
    "    \n",
    "    def callback_function(self, optimiserOutput, minimiseFunctionOutput, minimiseAccepted):\n",
    "        \"\"\"Callback function used by self.ellipse_basinhopping.\n",
    "        \"\"\"        \n",
    "        if self.debug:\n",
    "            print(optimiserOutput)\n",
    "            print(minimiseFunctionOutput)\n",
    "            print(minimiseAccepted)\n",
    "            print(\" \")\n",
    "        \n",
    "        if minimiseAccepted:\n",
    "            \n",
    "            if self.numSuccess == 0:\n",
    "                # First result\n",
    "                self.functionReturns[0] = minimiseFunctionOutput\n",
    "                self.numSuccess = 1\n",
    "                \n",
    "            elif minimiseFunctionOutput >= np.nanmin(self.functionReturns) + self.confidence:\n",
    "                # Reject result\n",
    "                0\n",
    "                \n",
    "            elif minimiseFunctionOutput >= np.nanmin(self.functionReturns) - self.confidence:\n",
    "                # Agreeing result\n",
    "                self.functionReturns[self.numSuccess] = minimiseFunctionOutput\n",
    "                self.numSuccess += 1\n",
    "            \n",
    "            elif minimiseFunctionOutput < np.nanmin(self.functionReturns) - self.confidence:\n",
    "                # New result\n",
    "                self.functionReturns[0] = minimiseFunctionOutput\n",
    "                self.numSuccess = 1\n",
    "        \n",
    "        if self.numSuccess >= self.basinRequiredSuccess:\n",
    "            return True    \n",
    "        \n",
    "        \n"
   ]
  },
  {
   "cell_type": "markdown",
   "metadata": {},
   "source": [
    "## Execute no further if being imported\n",
    "\n",
    "Don't want to waste time running the example if this notebook is just being imported. The following cell triggers the notebook import to stop."
   ]
  },
  {
   "cell_type": "code",
   "execution_count": null,
   "metadata": {
    "collapsed": true
   },
   "outputs": [],
   "source": [
    "'stop nbimport'"
   ]
  },
  {
   "cell_type": "markdown",
   "metadata": {},
   "source": [
    "## Example"
   ]
  },
  {
   "cell_type": "markdown",
   "metadata": {},
   "source": [
    "### Defining the circle fit from example measured factors"
   ]
  },
  {
   "cell_type": "code",
   "execution_count": 4,
   "metadata": {
    "collapsed": false
   },
   "outputs": [
    {
     "data": {
      "text/plain": [
       "<matplotlib.collections.PathCollection at 0x7f7dfdbf4ac8>"
      ]
     },
     "execution_count": 4,
     "metadata": {},
     "output_type": "execute_result"
    },
    {
     "data": {
      "image/png": "[encoded data removed]",
      "text/plain": [
       "<matplotlib.figure.Figure at 0x7f7e213c6e10>"
      ]
     },
     "metadata": {},
     "output_type": "display_data"
    }
   ],
   "source": [
    "circle_diameter = np.array([3,4,5,6,7,8,9])\n",
    "circle_factors = np.array([0.9296,0.9562,0.9705,0.9858,1.0032,1.0067,1.0084])\n",
    "\n",
    "plt.scatter(circle_diameter, circle_factors)"
   ]
  },
  {
   "cell_type": "markdown",
   "metadata": {},
   "source": [
    "Since the sector integration method is only being used as a relative estimate for the optimiser radii greater than 4.5 are given a factor equal to the largest factor, and radii smaller than the minimum measurement have a factor of 0 so that the optimiser avoids them."
   ]
  },
  {
   "cell_type": "code",
   "execution_count": 9,
   "metadata": {
    "collapsed": false
   },
   "outputs": [],
   "source": [
    "from scipy.interpolate import UnivariateSpline\n",
    "\n",
    "def circle_fit(radii):\n",
    "    \n",
    "    circle_radii = circle_diameter/2\n",
    "    \n",
    "    spline = UnivariateSpline(circle_radii, circle_factors)\n",
    "    results = spline(radii)\n",
    "    \n",
    "    results[radii>np.max(circle_radii)] = np.max(circle_factors)\n",
    "    results[radii<np.min(circle_radii)] = 0\n",
    "    \n",
    "    return results"
   ]
  },
  {
   "cell_type": "code",
   "execution_count": 10,
   "metadata": {
    "collapsed": false
   },
   "outputs": [
    {
     "data": {
      "text/plain": [
       "[<matplotlib.lines.Line2D at 0x7f7dfdb4ae48>]"
      ]
     },
     "execution_count": 10,
     "metadata": {},
     "output_type": "execute_result"
    },
    {
     "data": {
      "image/png": "[encoded data removed]",
      "text/plain": [
       "<matplotlib.figure.Figure at 0x7f7dfdb4ad68>"
      ]
     },
     "metadata": {},
     "output_type": "display_data"
    }
   ],
   "source": [
    "t = np.linspace(circle_diameter.min(),13)\n",
    "y = circle_fit(t/2)\n",
    "\n",
    "plt.scatter(circle_diameter, circle_factors)\n",
    "plt.plot(t,y)"
   ]
  },
  {
   "cell_type": "code",
   "execution_count": 11,
   "metadata": {
    "collapsed": false
   },
   "outputs": [
    {
     "data": {
      "text/plain": [
       "[<matplotlib.lines.Line2D at 0x7f7dfda73588>]"
      ]
     },
     "execution_count": 11,
     "metadata": {},
     "output_type": "execute_result"
    },
    {
     "data": {
      "image/png": "[encoded data removed]",
      "text/plain": [
       "<matplotlib.figure.Figure at 0x7f7dfda732e8>"
      ]
     },
     "metadata": {},
     "output_type": "display_data"
    }
   ],
   "source": [
    "t = np.linspace(0,13)\n",
    "y = circle_fit(t/2)\n",
    "\n",
    "plt.scatter(circle_diameter, circle_factors)\n",
    "plt.plot(t,y)"
   ]
  },
  {
   "cell_type": "markdown",
   "metadata": {},
   "source": [
    "### Defining the cutout"
   ]
  },
  {
   "cell_type": "code",
   "execution_count": 12,
   "metadata": {
    "collapsed": false
   },
   "outputs": [
    {
     "data": {
      "image/png": "[encoded data removed]",
      "text/plain": [
       "<matplotlib.figure.Figure at 0x7f7dfda98ba8>"
      ]
     },
     "metadata": {},
     "output_type": "display_data"
    }
   ],
   "source": [
    "XCoords = np.array([-1,-0.2,0,0.7,1,0])*4\n",
    "YCoords = np.array([0,-1,-.8,0,.6,1])*4\n",
    "\n",
    "plt.scatter(XCoords, YCoords)\n",
    "plt.plot(np.append(XCoords, XCoords[0]), \n",
    "         np.append(YCoords, YCoords[0]))\n",
    "plt.axis(\"equal\")\n",
    "plt.grid(True)"
   ]
  },
  {
   "cell_type": "markdown",
   "metadata": {},
   "source": [
    "### Find the centre"
   ]
  },
  {
   "cell_type": "code",
   "execution_count": 13,
   "metadata": {
    "collapsed": false,
    "scrolled": true
   },
   "outputs": [],
   "source": [
    "exampleFindCentre = find_centre(x=XCoords,\n",
    "                                y=YCoords,\n",
    "                                circle_fit=circle_fit,\n",
    "                                minDistance=1.5,\n",
    "                                ignoreErrors=True)\n",
    "\n",
    "# Need to produce minimum distance warning"
   ]
  },
  {
   "cell_type": "code",
   "execution_count": 14,
   "metadata": {
    "collapsed": false
   },
   "outputs": [
    {
     "data": {
      "text/plain": [
       "(-5.0, 5.0, -5.0, 5.0)"
      ]
     },
     "execution_count": 14,
     "metadata": {},
     "output_type": "execute_result"
    },
    {
     "data": {
      "image/png": "[encoded data removed]",
      "text/plain": [
       "<matplotlib.figure.Figure at 0x7f7dfda9c6a0>"
      ]
     },
     "metadata": {},
     "output_type": "display_data"
    }
   ],
   "source": [
    "plt.plot(exampleFindCentre.cutout.exterior.xy[0], exampleFindCentre.cutout.exterior.xy[1])\n",
    "plt.scatter(exampleFindCentre.centre[0], exampleFindCentre.centre[1])\n",
    "\n",
    "plt.axis(\"equal\")"
   ]
  },
  {
   "cell_type": "code",
   "execution_count": 15,
   "metadata": {
    "collapsed": false
   },
   "outputs": [
    {
     "name": "stdout",
     "output_type": "stream",
     "text": [
      "[-0.09149842  0.37386134]\n"
     ]
    }
   ],
   "source": [
    "print(exampleFindCentre.centre)"
   ]
  },
  {
   "cell_type": "code",
   "execution_count": null,
   "metadata": {
    "collapsed": true
   },
   "outputs": [],
   "source": []
  }
 ],
 "metadata": {
  "kernelspec": {
   "display_name": "Python 3",
   "language": "python",
   "name": "python3"
  },
  "language_info": {
   "codemirror_mode": {
    "name": "ipython",
    "version": 3
   },
   "file_extension": ".py",
   "mimetype": "text/x-python",
   "name": "python",
   "nbconvert_exporter": "python",
   "pygments_lexer": "ipython3",
   "version": "3.4.0"
  }
 },
 "nbformat": 4,
 "nbformat_minor": 0
}
