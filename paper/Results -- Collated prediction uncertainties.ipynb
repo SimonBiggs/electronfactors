{
 "cells": [
  {
   "cell_type": "code",
   "execution_count": 1,
   "metadata": {
    "collapsed": false
   },
   "outputs": [],
   "source": [
    "import yaml\n",
    "import numpy as np\n",
    "\n",
    "import matplotlib.pyplot as plt\n",
    "%matplotlib inline\n",
    "\n",
    "import sys\n",
    "sys.path.append(\"../\")\n",
    "\n",
    "from electronfactors.model.utilities import *"
   ]
  },
  {
   "cell_type": "code",
   "execution_count": 2,
   "metadata": {
    "collapsed": true
   },
   "outputs": [],
   "source": [
    "def pull_data_edit(energy=12):\n",
    "    if energy == 12:\n",
    "        with open(\"model_cache/12MeV_10app_100ssd.yml\", 'r') as file:\n",
    "            cutout_data = yaml.load(file)\n",
    "\n",
    "        label = np.array([key for key in cutout_data])\n",
    "        book_factor = np.array([item[0] == 'P' for i, item in enumerate(label)])\n",
    "\n",
    "        custom_label = label[~book_factor]\n",
    "\n",
    "        width = np.array([cutout_data[key]['width'] for key in custom_label])\n",
    "        length = np.array([cutout_data[key]['length'] for key in custom_label])\n",
    "        factor = np.array([cutout_data[key]['factor'] for key in custom_label])\n",
    "\n",
    "        perimeter = np.pi / 2 * (3*(width + length) - np.sqrt((3*width + length)*(3*length + width)))\n",
    "        area = np.pi / 4 * width * length\n",
    "        eqPonA = perimeter / area\n",
    "        \n",
    "    else:\n",
    "        width, length, eqPonA, factor = pull_data(energy=energy)\n",
    "        \n",
    "    return width, length, eqPonA, factor"
   ]
  },
  {
   "cell_type": "code",
   "execution_count": 10,
   "metadata": {
    "collapsed": false
   },
   "outputs": [],
   "source": [
    "def print_prediction_uncertainty(energy):\n",
    "    \n",
    "    width, length, eqPonA, factor = pull_data_edit(energy=energy)  \n",
    "    percent_prediction_differences = calculate_percent_prediction_differences(width, eqPonA, factor)    \n",
    "    \n",
    "    prediction_uncertainty = np.std(percent_prediction_differences, ddof=1) / c4(len(percent_prediction_differences))\n",
    "       \n",
    "    mean = \"%0.2f\" %(np.mean(percent_prediction_differences))\n",
    "    uncertainty = \"%0.2f\" %(prediction_uncertainty)\n",
    "    total = \"%0.1f\" %(prediction_uncertainty + np.abs(np.mean(percent_prediction_differences)))\n",
    "    \n",
    "    print('Percent prediction difference for ' + str(energy) + ' MeV is: ' + mean + ' +/- ' + uncertainty + ' --> '+total)\n",
    "    \n",
    "    max_difference = np.max(np.abs(percent_prediction_differences))\n",
    "    \n",
    "    print('Maximum difference is %0.2f%%' % (max_difference))"
   ]
  },
  {
   "cell_type": "code",
   "execution_count": 11,
   "metadata": {
    "collapsed": false
   },
   "outputs": [
    {
     "name": "stdout",
     "output_type": "stream",
     "text": [
      "Percent prediction difference for 6 MeV is: 0.01 +/- 0.49 --> 0.5\n",
      "Maximum difference is 0.78%\n",
      "Percent prediction difference for 9 MeV is: 0.01 +/- 0.56 --> 0.6\n",
      "Maximum difference is 0.85%\n",
      "Percent prediction difference for 12 MeV is: -0.02 +/- 0.40 --> 0.4\n",
      "Maximum difference is 0.91%\n",
      "Percent prediction difference for 15 MeV is: 0.18 +/- 0.39 --> 0.6\n",
      "Maximum difference is 0.89%\n",
      "Percent prediction difference for 18 MeV is: 0.04 +/- 0.50 --> 0.5\n",
      "Maximum difference is 1.00%\n"
     ]
    }
   ],
   "source": [
    "for i in [6, 9, 12, 15, 18]:\n",
    "    print_prediction_uncertainty(i)"
   ]
  },
  {
   "cell_type": "code",
   "execution_count": null,
   "metadata": {
    "collapsed": true
   },
   "outputs": [],
   "source": []
  }
 ],
 "metadata": {
  "kernelspec": {
   "display_name": "Python 3",
   "language": "python",
   "name": "python3"
  },
  "language_info": {
   "codemirror_mode": {
    "name": "ipython",
    "version": 3
   },
   "file_extension": ".py",
   "mimetype": "text/x-python",
   "name": "python",
   "nbconvert_exporter": "python",
   "pygments_lexer": "ipython3",
   "version": "3.4.1"
  }
 },
 "nbformat": 4,
 "nbformat_minor": 0
}
