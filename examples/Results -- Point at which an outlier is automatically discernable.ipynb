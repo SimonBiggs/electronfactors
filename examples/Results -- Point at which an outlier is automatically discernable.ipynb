{
 "cells": [
  {
   "cell_type": "code",
   "execution_count": 4,
   "metadata": {
    "collapsed": false
   },
   "outputs": [],
   "source": [
    "import yaml\n",
    "\n",
    "import numpy as np\n",
    "\n",
    "import matplotlib.pyplot as plt\n",
    "%matplotlib inline\n",
    "\n",
    "from scipy.stats import probplot\n",
    "\n",
    "import sys\n",
    "sys.path.append(\"../\")\n",
    "\n",
    "from electronfactors.model.utilities import create_model, pull_data, fit_give, estimate_population_uncertainty\n",
    "from electronfactors.visuals.utilities import create_green_cm"
   ]
  },
  {
   "cell_type": "code",
   "execution_count": 5,
   "metadata": {
    "collapsed": true
   },
   "outputs": [],
   "source": [
    "from matplotlib import rc\n",
    "rc('font',**{'family':'serif',\n",
    "             'size':'16'})\n",
    "rc('text', usetex=True)\n",
    "\n",
    "rc('legend', fontsize=16)"
   ]
  },
  {
   "cell_type": "code",
   "execution_count": 6,
   "metadata": {
    "collapsed": false
   },
   "outputs": [],
   "source": [
    "with open(\"model_cache/12MeV_10app_100ssd.yml\", 'r') as file:\n",
    "    cutout_data = yaml.load(file)\n",
    "    \n",
    "label = np.array([key for key in cutout_data])\n",
    "book_factor = np.array([item[0] == 'P' for i, item in enumerate(label)])\n",
    "\n",
    "custom_label = label[~book_factor]\n",
    "\n",
    "width = np.array([cutout_data[key]['width'] for key in custom_label])\n",
    "length = np.array([cutout_data[key]['length'] for key in custom_label])\n",
    "factor = np.array([cutout_data[key]['factor'] for key in custom_label])\n",
    "\n",
    "perimeter = np.pi / 2 * (3*(width + length) - np.sqrt((3*width + length)*(3*length + width)))\n",
    "area = np.pi / 4 * width * length\n",
    "eqPonA = perimeter / area"
   ]
  },
  {
   "cell_type": "code",
   "execution_count": 7,
   "metadata": {
    "collapsed": true
   },
   "outputs": [],
   "source": [
    "def create_histogram(data):\n",
    "    plt.figure(figsize=(6 * 1.618, 6))\n",
    "    \n",
    "    bins = np.arange(-1.5, 2, 0.5)\n",
    "    dbins = bins[1] - bins[0]\n",
    "    binsTrans = bins - dbins/2\n",
    "\n",
    "    binsTrans = binsTrans.reshape(-1,1)\n",
    "    binNum = np.argmin(abs(binsTrans - data),0)\n",
    "\n",
    "    representative_height = np.zeros(len(binNum))\n",
    "\n",
    "    for i in range(len(bins)):\n",
    "        binRef = (binNum == i)\n",
    "        representative_height[binRef] = np.arange(sum(binRef)) + 1\n",
    "\n",
    "    plt.hist(data, bins, alpha=0.6, lw=2)\n",
    "    plt.scatter(data, representative_height, zorder=2, s=120, alpha=0.8, lw=1.5)\n",
    "    \n",
    "    uncertainty = estimate_population_uncertainty(data)\n",
    "    \n",
    "    print(\"Mean = %0.2f\" % (np.mean(data)))\n",
    "    print(\"Uncertainty = %0.2f\" % (uncertainty))"
   ]
  },
  {
   "cell_type": "code",
   "execution_count": 8,
   "metadata": {
    "collapsed": true
   },
   "outputs": [],
   "source": [
    "def display_fit(width, eqPonA, factor, model):\n",
    "    plt.figure(figsize=(6 * 1.618, 6))\n",
    "    x = np.arange(np.floor(np.min(width)) - 0.5, np.ceil(np.max(width)) + 0.5, 0.05)\n",
    "    y = np.arange(np.floor(np.min(eqPonA)*10)/10 - 0.2, np.ceil(np.max(eqPonA)*10)/10 + 0.2, 0.005)\n",
    "\n",
    "    xx, yy = np.meshgrid(x, y)\n",
    "\n",
    "    zz = model(xx, yy)\n",
    "    give = fit_give(xx, yy, width, eqPonA, factor, kx=2, ky=1)\n",
    "\n",
    "    outOfTolerance = (give > 0.5)\n",
    "\n",
    "    zz[outOfTolerance] = np.nan\n",
    "\n",
    "    c = plt.contourf(xx, yy, zz, 100, alpha=1)\n",
    "    plt.colorbar(c)\n",
    "\n",
    "    plt.contour(xx, yy, give, levels=[0.5], colors='g')\n",
    "\n",
    "    plt.scatter(width, eqPonA, s=45, alpha=0.9, zorder=3)\n",
    "\n",
    "    plt.xlabel(r'Width (cm)')\n",
    "    plt.ylabel(r'Perimeter / Area (cm$^{-1}$)')\n",
    "    plt.title(r'Bivariate spline fit')"
   ]
  },
  {
   "cell_type": "code",
   "execution_count": 377,
   "metadata": {
    "collapsed": false
   },
   "outputs": [],
   "source": [
    "def outlier_detection(amount=13, n=100, outlier_boundary=2.5):\n",
    "    \n",
    "    correct = 0\n",
    "    false_positive = 0\n",
    "    not_found = 0\n",
    "    \n",
    "    for i in range(n):\n",
    "        order = np.arange(len(width))\n",
    "        np.random.shuffle(order)\n",
    "        reference = order[0:amount]\n",
    "        check = np.setdiff1d(np.arange(len(width)), reference)\n",
    "        give = np.zeros(len(check))\n",
    "        predictions = np.zeros(len(check))\n",
    "\n",
    "        index_of_shift = int(np.floor(np.random.uniform(0,amount)))\n",
    "        shifted_factor = factor[reference]\n",
    "        shift = np.floor(np.random.uniform(0,2)) * 0.04 - 0.02\n",
    "        shifted_factor[index_of_shift] = shifted_factor[index_of_shift] + shift\n",
    "\n",
    "        model = create_model(width[reference], eqPonA[reference], shifted_factor)\n",
    "        predictions = model(width[reference], eqPonA[reference])\n",
    "\n",
    "        residuals = predictions - shifted_factor\n",
    "\n",
    "        outlier_test = np.abs(residuals) > np.std(residuals) * outlier_boundary\n",
    "        if np.sum(outlier_test)>0:\n",
    "            if np.where(outlier_test)[0][0] == index_of_shift:\n",
    "                correct += 1\n",
    "            else:\n",
    "                false_positive += 1\n",
    "        else:\n",
    "            not_found += 1\n",
    "                \n",
    "    return correct, false_positive, not_found"
   ]
  },
  {
   "cell_type": "code",
   "execution_count": 419,
   "metadata": {
    "collapsed": false
   },
   "outputs": [
    {
     "data": {
      "text/plain": [
       "array([ 0.02,  0.02])"
      ]
     },
     "execution_count": 419,
     "metadata": {},
     "output_type": "execute_result"
    }
   ],
   "source": []
  },
  {
   "cell_type": "code",
   "execution_count": 392,
   "metadata": {
    "collapsed": false
   },
   "outputs": [],
   "source": [
    "amount_range = np.arange(8, 40)\n",
    "n = 10000\n",
    "outlier_boundary = 2.5\n",
    "\n",
    "correct = np.zeros(len(amount_range))\n",
    "false_positive = np.zeros(len(amount_range))\n",
    "not_found = np.zeros(len(amount_range))\n",
    "\n",
    "for i, amount in enumerate(amount_range):   \n",
    "    (\n",
    "        correct[i], false_positive[i], not_found[i]\n",
    "    ) = outlier_detection(amount=amount, n=n, outlier_boundary=outlier_boundary)"
   ]
  },
  {
   "cell_type": "code",
   "execution_count": 399,
   "metadata": {
    "collapsed": false
   },
   "outputs": [
    {
     "data": {
      "text/plain": [
       "<matplotlib.legend.Legend at 0xa0148d0>"
      ]
     },
     "execution_count": 399,
     "metadata": {},
     "output_type": "execute_result"
    },
    {
     "data": {
      "image/png": "[encoded data removed]",
      "text/plain": [
       "<matplotlib.figure.Figure at 0xa0b5dd8>"
      ]
     },
     "metadata": {},
     "output_type": "display_data"
    }
   ],
   "source": [
    "plt.figure(figsize=(6 * 1.618, 6))\n",
    "\n",
    "plt.plot(amount_range, correct/n, label=r'Accurately idenditified outlier')\n",
    "plt.plot(amount_range, false_positive/n, label=r'False positive')\n",
    "plt.plot(amount_range, not_found/n, label=r'Did not find an outlier')\n",
    "\n",
    "plt.xlabel(r'Number of measurements')\n",
    "plt.ylabel(r'Proportion of models')\n",
    "\n",
    "plt.legend(loc='center right')"
   ]
  },
  {
   "cell_type": "code",
   "execution_count": null,
   "metadata": {
    "collapsed": true
   },
   "outputs": [],
   "source": []
  }
 ],
 "metadata": {
  "kernelspec": {
   "display_name": "Python 3",
   "language": "python",
   "name": "python3"
  },
  "language_info": {
   "codemirror_mode": {
    "name": "ipython",
    "version": 3
   },
   "file_extension": ".py",
   "mimetype": "text/x-python",
   "name": "python",
   "nbconvert_exporter": "python",
   "pygments_lexer": "ipython3",
   "version": "3.4.1"
  }
 },
 "nbformat": 4,
 "nbformat_minor": 0
}
