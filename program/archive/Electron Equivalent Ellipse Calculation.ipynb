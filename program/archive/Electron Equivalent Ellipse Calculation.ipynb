{
 "cells": [
  {
   "cell_type": "markdown",
   "metadata": {},
   "source": [
    "# Electron equivalent ellipse calculation"
   ]
  },
  {
   "cell_type": "markdown",
   "metadata": {},
   "source": [
    "This calculates the length and width of the equivalent ellipse of cutouts defined appropriately within `shape_definition_x_coords.csv` and `shape_definition_y_coords.csv`. The measured cutout factors defined within `measured_cutout_factors.csv` are also used to calculate the equivalent ellipse.\n",
    "\n",
    "The widths and lengths are then output into `measured_cutout_factors.csv` for the input into `Electron Spline Modelling.ipynb`."
   ]
  },
  {
   "cell_type": "code",
   "execution_count": 1,
   "metadata": {
    "collapsed": false
   },
   "outputs": [],
   "source": [
    "energyRequest = 12\n",
    "applicatorRequest = 10"
   ]
  },
  {
   "cell_type": "code",
   "execution_count": null,
   "metadata": {
    "collapsed": false
   },
   "outputs": [],
   "source": []
  },
  {
   "cell_type": "markdown",
   "metadata": {
    "collapsed": false
   },
   "source": [
    "## Copyright information\n",
    "\n",
    "Copyright © 2015 Simon Biggs\n",
    "\n",
    "This program is free software: you can redistribute it and/or modify it under the terms of the GNU Affero General Public License as published by the Free Software Foundation, either version 3 of the License, or (at your option) any later version.\n",
    "\n",
    "This program is distributed in the hope that it will be useful, but WITHOUT ANY WARRANTY; without even the implied warranty of MERCHANTABILITY or FITNESS FOR A PARTICULAR PURPOSE. See the GNU Affero General Public License for more details.\n",
    "\n",
    "You should have received a copy of the GNU Affero General Public License along with this program. If not, see http://www.gnu.org/licenses/."
   ]
  },
  {
   "cell_type": "markdown",
   "metadata": {},
   "source": [
    "## Loading/installing modules"
   ]
  },
  {
   "cell_type": "code",
   "execution_count": 2,
   "metadata": {
    "collapsed": false
   },
   "outputs": [],
   "source": [
    "try:\n",
    "    import shapely.geometry as geo\n",
    "    import shapely.affinity as aff\n",
    "    \n",
    "except:\n",
    "    !pip install shapely\n",
    "    import shapely.geometry as geo\n",
    "    import shapely.affinity as aff\n",
    "    \n",
    "\n",
    "try:\n",
    "    from descartes.patch import PolygonPatch\n",
    "    \n",
    "except:\n",
    "    !pip install descartes\n",
    "    from descartes.patch import PolygonPatch\n",
    "    \n",
    "\n",
    "import numpy as np\n",
    "import pandas as pd\n",
    "\n",
    "import matplotlib.pyplot as plt\n",
    "from matplotlib import pylab\n",
    "%matplotlib inline\n",
    "\n",
    "from scipy.optimize import basinhopping\n",
    "from scipy.interpolate import UnivariateSpline\n",
    "from scipy.interpolate import SmoothBivariateSpline\n",
    "\n",
    "import os"
   ]
  },
  {
   "cell_type": "code",
   "execution_count": null,
   "metadata": {
    "collapsed": false
   },
   "outputs": [],
   "source": []
  },
  {
   "cell_type": "markdown",
   "metadata": {},
   "source": [
    "## Importing input data"
   ]
  },
  {
   "cell_type": "code",
   "execution_count": 3,
   "metadata": {
    "collapsed": false
   },
   "outputs": [],
   "source": [
    "shape_definition_x_coords = pd.read_csv(\"../input/shape_definition_x_coords.csv\")\n",
    "shape_definition_y_coords = pd.read_csv(\"../input/shape_definition_y_coords.csv\")\n",
    "\n",
    "parsedInputs = pd.read_csv('../input/parsed_example.csv')\n",
    "\n",
    "label = parsedInputs['label'].values\n",
    "\n",
    "guessWidth = parsedInputs['width'].values\n",
    "guessLength = parsedInputs['length'].values\n",
    "factor = parsedInputs['cutout factor'].values\n",
    "\n",
    "runInitialGuess = parsedInputs['make initial guess'].values\n",
    "useForFitting = parsedInputs['use for fitting'].values\n",
    "calcWidthLength = parsedInputs['recalc width and length'].values"
   ]
  },
  {
   "cell_type": "code",
   "execution_count": 4,
   "metadata": {
    "collapsed": false
   },
   "outputs": [
    {
     "data": {
      "text/plain": [
       "array([ True,  True,  True,  True,  True,  True,  True,  True,  True,\n",
       "        True,  True,  True,  True, False,  True,  True,  True, False,\n",
       "        True,  True,  True,  True,  True,  True,  True,  True,  True,\n",
       "        True,  True,  True,  True,  True,  True,  True,  True,  True,\n",
       "        True,  True,  True,  True,  True,  True], dtype=bool)"
      ]
     },
     "execution_count": 4,
     "metadata": {},
     "output_type": "execute_result"
    }
   ],
   "source": [
    "useForFitting"
   ]
  },
  {
   "cell_type": "markdown",
   "metadata": {},
   "source": [
    "## Class and function definitions"
   ]
  },
  {
   "cell_type": "markdown",
   "metadata": {},
   "source": [
    "### Pull coordinates for a given label"
   ]
  },
  {
   "cell_type": "code",
   "execution_count": 5,
   "metadata": {
    "collapsed": false
   },
   "outputs": [],
   "source": [
    "def return_coords(requestedLabel):\n",
    "    \n",
    "    cutoutXCoords = shape_definition_x_coords[requestedLabel].values\n",
    "    cutoutXCoords = cutoutXCoords[~np.isnan(cutoutXCoords)]\n",
    "    \n",
    "    cutoutYCoords = shape_definition_y_coords[requestedLabel].values\n",
    "    cutoutYCoords = cutoutYCoords[~np.isnan(cutoutYCoords)]\n",
    "    \n",
    "    return cutoutXCoords, cutoutYCoords"
   ]
  },
  {
   "cell_type": "markdown",
   "metadata": {},
   "source": [
    "### Create shapely shapes"
   ]
  },
  {
   "cell_type": "code",
   "execution_count": 6,
   "metadata": {
    "collapsed": false
   },
   "outputs": [],
   "source": [
    "def shapely_cutout(XCoords,YCoords):\n",
    "    \"\"\"Returns the shapely cutout defined by the x and y coordinates.\n",
    "    \"\"\"\n",
    "    return geo.Polygon(np.transpose((XCoords,YCoords)))\n",
    "\n",
    "\n",
    "def shapely_ellipse(ellipseRaw):\n",
    "    \"\"\"Given raw ellipse values create a shapely ellipse.\n",
    "    \"\"\"\n",
    "    xPosition = ellipseRaw[0]\n",
    "    yPosition = ellipseRaw[1]\n",
    "\n",
    "    width = ellipseRaw[2]\n",
    "    length = ellipseRaw[3]\n",
    "\n",
    "    rotation = ellipseRaw[4]\n",
    "\n",
    "\n",
    "    unitCircle = geo.Point(0,0).buffer(1)        \n",
    "    ellipse = aff.scale(unitCircle, xfact=width/2, yfact=length/2)    # Stretched\n",
    "    ellipse = aff.translate(ellipse, xoff=xPosition, yoff=yPosition)  # Translated\n",
    "    ellipse = aff.rotate(ellipse, rotation)                           # Rotated\n",
    "\n",
    "    return ellipse"
   ]
  },
  {
   "cell_type": "markdown",
   "metadata": {},
   "source": [
    "### Equivalent ellipse fitting"
   ]
  },
  {
   "cell_type": "code",
   "execution_count": 7,
   "metadata": {
    "collapsed": false
   },
   "outputs": [],
   "source": [
    "class equivalent_ellipse(object):\n",
    "    \"\"\"An equivalent ellipse given the x and y coordinates of a cutout.\n",
    "    \"\"\"\n",
    "    def __init__(self, n=5, debug=False, **kwargs):\n",
    "        \n",
    "        self.debug = debug\n",
    "        \n",
    "        self.cutoutXCoords = kwargs['x']\n",
    "        self.cutoutYCoords = kwargs['y']\n",
    "        self.cutout = shapely_cutout(self.cutoutXCoords,self.cutoutYCoords)\n",
    "                \n",
    "        self.basinRequiredSuccess = n\n",
    "        self.ellipseRaw = self.ellipse_basinhopping()\n",
    "        \n",
    "        if abs(self.ellipseRaw[2]) < abs(self.ellipseRaw[3]):\n",
    "            \n",
    "            self.width = abs(self.ellipseRaw[2])\n",
    "            self.length = abs(self.ellipseRaw[3])\n",
    "            \n",
    "        else:\n",
    "            \n",
    "            self.width = abs(self.ellipseRaw[3])\n",
    "            self.length = abs(self.ellipseRaw[2])\n",
    " \n",
    "            \n",
    "        self.ellipse = shapely_ellipse(self.ellipseRaw)\n",
    "    \n",
    "    \n",
    "\n",
    " \n",
    "    \n",
    "    def minimise_function(self, ellipseRaw):\n",
    "        \"\"\"Returns the sum of area differences between the an ellipse and the given cutout.\n",
    "        \"\"\"\n",
    "        ellipse = shapely_ellipse(ellipseRaw)\n",
    "        \n",
    "        return ellipse.difference(self.cutout).area + self.cutout.difference(ellipse).area\n",
    "        \n",
    "    \n",
    "    def ellipse_basinhopping(self):\n",
    "        \"\"\"Fitting the ellipse to the cutout via scipy.optimize.basinhopping.\n",
    "        \"\"\"\n",
    "        self.functionReturns = np.empty(self.basinRequiredSuccess)\n",
    "        self.functionReturns[:] = np.nan\n",
    "        \n",
    "        self.numSuccess = 0\n",
    "        \n",
    "        minimizerConfig = {\"method\": 'BFGS'}\n",
    "        \n",
    "        initial_input = np.array([0,0,3,4,0])\n",
    "        \n",
    "        \n",
    "        basinhoppingOutput = basinhopping(self.minimise_function,\n",
    "                                          initial_input,\n",
    "                                          niter=1000,\n",
    "                                          minimizer_kwargs=minimizerConfig,\n",
    "                                          take_step=self.step_function,\n",
    "                                          callback=self.callback_function)\n",
    "        \n",
    "        return basinhoppingOutput.x\n",
    "        \n",
    "        \n",
    "    def step_function(self,optimiserInput):\n",
    "        \"\"\"Step function used by self.ellipse_basinhopping.\n",
    "        \"\"\"\n",
    "        optimiserInput[0] += np.random.normal(scale=1.5)   # x-position\n",
    "        optimiserInput[1] += np.random.normal(scale=1.5)   # y-position\n",
    "        optimiserInput[2] += np.random.normal(scale=3)     # width\n",
    "        optimiserInput[3] += np.random.normal(scale=4)     # length\n",
    "        optimiserInput[4] += np.random.normal(scale=90)    # rotation\n",
    "        \n",
    "        return optimiserInput\n",
    "    \n",
    "    \n",
    "    def callback_function(self, optimiserOutput, minimiseFunctionOutput, minimiseAccepted):\n",
    "        \"\"\"Callback function used by self.ellipse_basinhopping.\n",
    "        \"\"\"        \n",
    "        if self.debug:\n",
    "            print(optimiserOutput)\n",
    "            print(minimiseFunctionOutput)\n",
    "            print(minimiseAccepted)\n",
    "            print(\" \")\n",
    "        \n",
    "        if minimiseAccepted:\n",
    "            \n",
    "            if self.numSuccess == 0:\n",
    "                # First result\n",
    "                self.functionReturns[0] = minimiseFunctionOutput\n",
    "                self.numSuccess = 1\n",
    "                \n",
    "            elif minimiseFunctionOutput >= np.nanmin(self.functionReturns) + 0.0001:\n",
    "                # Reject result\n",
    "                0\n",
    "                \n",
    "            elif minimiseFunctionOutput >= np.nanmin(self.functionReturns) - 0.0001:\n",
    "                # Agreeing result\n",
    "                self.functionReturns[self.numSuccess] = minimiseFunctionOutput\n",
    "                self.numSuccess += 1\n",
    "            \n",
    "            elif minimiseFunctionOutput < np.nanmin(self.functionReturns) - 0.0001:\n",
    "                # New result\n",
    "                self.functionReturns[0] = minimiseFunctionOutput\n",
    "                self.numSuccess = 1\n",
    "        \n",
    "        if self.numSuccess >= self.basinRequiredSuccess:\n",
    "            return True\n",
    "        "
   ]
  },
  {
   "cell_type": "markdown",
   "metadata": {},
   "source": [
    "### Make bivariate spline and produce the circle fit"
   ]
  },
  {
   "cell_type": "code",
   "execution_count": 9,
   "metadata": {
    "collapsed": false
   },
   "outputs": [],
   "source": [
    "# circle_fit(3)"
   ]
  },
  {
   "cell_type": "markdown",
   "metadata": {},
   "source": [
    "### Sector integration"
   ]
  },
  {
   "cell_type": "code",
   "execution_count": 10,
   "metadata": {
    "collapsed": false
   },
   "outputs": [],
   "source": [
    "class sector_integration(object):\n",
    "    \n",
    "    def __init__(self, \n",
    "                 sectors=100, \n",
    "                 bound=25, \n",
    "                 ignoreUnexpectedIntersection=False,\n",
    "                 **kwargs):\n",
    "        \n",
    "        self.ignoreUnexpectedIntersection = ignoreUnexpectedIntersection\n",
    "\n",
    "        self.cutoutXCoords = kwargs['x']\n",
    "        self.cutoutYCoords = kwargs['y']\n",
    "        self.cutout = shapely_cutout(self.cutoutXCoords,self.cutoutYCoords)\n",
    "        \n",
    "        self.circle_fit = kwargs['circle_fit']\n",
    "                \n",
    "        self.centre = [tuple(kwargs['centre'])]\n",
    "        self.centreIsWithin = self.cutout.contains(geo.Point(self.centre))\n",
    "        \n",
    "        self.numSectors = sectors        \n",
    "        resolution = int(self.numSectors/4)\n",
    "        self.boundary = geo.Point(self.centre).buffer(bound*np.sqrt(2),resolution=resolution)\n",
    "        \n",
    "        self.factor = self.factor_calculate()\n",
    "        \n",
    "    \n",
    "    \n",
    "    def factor_calculate(self):\n",
    "        \n",
    "        self.sectorMidline = [0,]*self.numSectors\n",
    "        self.intersectionSet = [0,]*self.numSectors\n",
    "        \n",
    "        self.sectorFactors = np.zeros(self.numSectors)\n",
    "        \n",
    "        for i in range(self.numSectors):\n",
    "            \n",
    "            self.sectorMidline[i] = geo.LineString(self.centre + [self.boundary.exterior.coords[i]])            \n",
    "            self.intersectionSet[i] = self.sectorMidline[i].intersection(self.cutout.exterior)\n",
    "            \n",
    "            if type(self.intersectionSet[i]) is geo.point.Point:\n",
    "                # One intersection occured\n",
    "\n",
    "                if self.centreIsWithin:\n",
    "                    # One intersection should only happen if the centre is within the shape\n",
    "                    \n",
    "                    dist = self.sectorMidline[i].project(self.intersectionSet[i])\n",
    "                    \n",
    "                    self.sectorFactors[i] = self.circle_fit(dist)\n",
    "                    \n",
    "                else:\n",
    "                    \n",
    "                    if self.ignoreUnexpectedIntersection:\n",
    "                        self.sectorFactors[i] = np.nan\n",
    "                    else:\n",
    "                        raise Exception(\"Unexpected intersection result\")\n",
    "                    \n",
    "            elif type(self.intersectionSet[i]) is geo.multipoint.MultiPoint:\n",
    "                # Multiple intersections have occured\n",
    "                \n",
    "                dist = np.zeros(len(self.intersectionSet[i]))\n",
    "                for j in range(len(self.intersectionSet[i])):\n",
    "                    \n",
    "                    point = self.intersectionSet[i][j]\n",
    "                    dist[j] = self.sectorMidline[i].project(point)\n",
    "                \n",
    "                dist = np.sort(dist)\n",
    "                \n",
    "                if (np.mod(len(self.intersectionSet[i]),2) == 1 ) & (self.centreIsWithin):\n",
    "                    # If the centre is within the shape, number of intersections must be odd\n",
    "                    \n",
    "                    self.sectorFactors[i] = sum(self.circle_fit(dist[::2])) - sum(self.circle_fit(dist[1::2]))\n",
    "                    \n",
    "                elif (np.mod(len(self.intersectionSet[i]),2) == 0 ) & (not(self.centreIsWithin)):\n",
    "                    # If the centre is outside the shape, number of intersections must be even\n",
    "            \n",
    "                    self.sectorFactors[i] = sum(self.circle_fit(dist[1::2])) - sum(self.circle_fit(dist[::2]))\n",
    "                \n",
    "                else:\n",
    "                    \n",
    "                    if self.ignoreUnexpectedIntersection:\n",
    "                        self.sectorFactors[i] = np.nan\n",
    "                    else:\n",
    "                        raise Exception(\"Unexpected intersection result\")\n",
    "                    \n",
    "            elif (self.sectorMidline[i].disjoint(self.cutout.exterior)) & (not(self.centreIsWithin)):\n",
    "                # No intersection\n",
    "                0\n",
    "                \n",
    "            else:\n",
    "                \n",
    "                if self.ignoreUnexpectedIntersection:\n",
    "                    self.sectorFactors[i] = np.nan\n",
    "                else:\n",
    "                    raise Exception(\"Unexpected intersection result\")\n",
    "    \n",
    "        \n",
    "        if self.ignoreUnexpectedIntersection:            \n",
    "            factor = np.nanmean(self.sectorFactors)            \n",
    "        else:            \n",
    "            factor = np.mean(self.sectorFactors)\n",
    "        \n",
    "        \n",
    "        return factor"
   ]
  },
  {
   "cell_type": "markdown",
   "metadata": {},
   "source": [
    "### Finding centre with sector integration"
   ]
  },
  {
   "cell_type": "code",
   "execution_count": 11,
   "metadata": {
    "collapsed": false
   },
   "outputs": [],
   "source": [
    "class find_centre(object):\n",
    "    \n",
    "    def __init__(self, \n",
    "                 n=5, \n",
    "                 debug=False, \n",
    "                 confidence=0.001, \n",
    "                 sectors=100, \n",
    "                 ignoreUnexpectedIntersection=False,\n",
    "                 **kwargs):\n",
    "        \n",
    "        self.debug = debug\n",
    "        self.confidence = confidence\n",
    "        self.sectors = sectors\n",
    "        self.ignoreUnexpectedIntersection = ignoreUnexpectedIntersection\n",
    "        \n",
    "        self.cutoutXCoords = kwargs['x']\n",
    "        self.cutoutYCoords = kwargs['y']\n",
    "        self.cutout = shapely_cutout(self.cutoutXCoords,self.cutoutYCoords)\n",
    "        \n",
    "        self.basinNoise = np.hypot(np.diff(self.cutout.bounds[::2]),np.diff(self.cutout.bounds[1::2]))/3\n",
    "                \n",
    "        self.circle_fit = kwargs['circle_fit']\n",
    "        \n",
    "        self.numCalls = 0\n",
    "        self.basinRequiredSuccess = n\n",
    "        self.centre = self.centre_basinhopping()\n",
    "        \n",
    "    \n",
    "    \n",
    "    def minimise_function(self, centre):\n",
    "        \n",
    "        sectorIntegrationInstance = sector_integration(x=self.cutoutXCoords,\n",
    "                                                       y=self.cutoutYCoords,\n",
    "                                                       circle_fit=self.circle_fit,\n",
    "                                                       centre=centre,\n",
    "                                                       sectors=self.sectors,\n",
    "                                                       ignoreUnexpectedIntersection=self.ignoreUnexpectedIntersection)\n",
    "        \n",
    "        self.numCalls += 1\n",
    "        \n",
    "        return -sectorIntegrationInstance.factor\n",
    "        \n",
    "    \n",
    "    def centre_basinhopping(self):\n",
    "        \n",
    "        self.functionReturns = np.empty(self.basinRequiredSuccess)\n",
    "        self.functionReturns[:] = np.nan\n",
    "        \n",
    "        self.numSuccess = 0\n",
    "        \n",
    "        minimizerConfig = {\"method\": 'BFGS',\n",
    "                           \"options\": {'gtol': self.confidence}}\n",
    "        \n",
    "        initial_input = np.array([0,0])\n",
    "        \n",
    "        basinhoppingOutput = basinhopping(self.minimise_function,\n",
    "                                          initial_input,\n",
    "                                          niter=1000,\n",
    "                                          minimizer_kwargs=minimizerConfig,\n",
    "                                          take_step=self.step_function,\n",
    "                                          callback=self.callback_function)   \n",
    "        \n",
    "        return basinhoppingOutput.x\n",
    "    \n",
    "    \n",
    "    def step_function(self,optimiserInput):\n",
    "        \n",
    "        \n",
    "        \n",
    "        optimiserInput[0] += np.random.normal(scale=self.basinNoise)   # x-position\n",
    "        optimiserInput[1] += np.random.normal(scale=self.basinNoise)   # y-position\n",
    "        \n",
    "        return optimiserInput\n",
    "    \n",
    "    \n",
    "    def callback_function(self, optimiserOutput, minimiseFunctionOutput, minimiseAccepted):\n",
    "        \"\"\"Callback function used by self.ellipse_basinhopping.\n",
    "        \"\"\"        \n",
    "        if self.debug:\n",
    "            print(optimiserOutput)\n",
    "            print(minimiseFunctionOutput)\n",
    "            print(minimiseAccepted)\n",
    "            print(\" \")\n",
    "        \n",
    "        if minimiseAccepted:\n",
    "            \n",
    "            if self.numSuccess == 0:\n",
    "                # First result\n",
    "                self.functionReturns[0] = minimiseFunctionOutput\n",
    "                self.numSuccess = 1\n",
    "                \n",
    "            elif minimiseFunctionOutput >= np.nanmin(self.functionReturns) + self.confidence:\n",
    "                # Reject result\n",
    "                0\n",
    "                \n",
    "            elif minimiseFunctionOutput >= np.nanmin(self.functionReturns) - self.confidence:\n",
    "                # Agreeing result\n",
    "                self.functionReturns[self.numSuccess] = minimiseFunctionOutput\n",
    "                self.numSuccess += 1\n",
    "            \n",
    "            elif minimiseFunctionOutput < np.nanmin(self.functionReturns) - self.confidence:\n",
    "                # New result\n",
    "                self.functionReturns[0] = minimiseFunctionOutput\n",
    "                self.numSuccess = 1\n",
    "        \n",
    "        if self.numSuccess >= self.basinRequiredSuccess:\n",
    "            return True    \n",
    "        \n",
    "        \n",
    "    \n",
    "    \n",
    "    \n",
    "#      def sector"
   ]
  },
  {
   "cell_type": "code",
   "execution_count": 12,
   "metadata": {
    "collapsed": false
   },
   "outputs": [
    {
     "data": {
      "text/plain": [
       "[(1, 2)]"
      ]
     },
     "execution_count": 12,
     "metadata": {},
     "output_type": "execute_result"
    }
   ],
   "source": [
    "x = np.array([1,2])\n",
    "\n",
    "[tuple(x)]"
   ]
  },
  {
   "cell_type": "markdown",
   "metadata": {},
   "source": [
    "### Shape straightening"
   ]
  },
  {
   "cell_type": "code",
   "execution_count": null,
   "metadata": {
    "collapsed": false
   },
   "outputs": [],
   "source": []
  },
  {
   "cell_type": "code",
   "execution_count": null,
   "metadata": {
    "collapsed": false
   },
   "outputs": [],
   "source": []
  },
  {
   "cell_type": "code",
   "execution_count": null,
   "metadata": {
    "collapsed": false
   },
   "outputs": [],
   "source": []
  },
  {
   "cell_type": "markdown",
   "metadata": {},
   "source": [
    "## Main"
   ]
  },
  {
   "cell_type": "code",
   "execution_count": null,
   "metadata": {
    "collapsed": false
   },
   "outputs": [],
   "source": []
  },
  {
   "cell_type": "markdown",
   "metadata": {},
   "source": [
    "### Initial width and length guess"
   ]
  },
  {
   "cell_type": "code",
   "execution_count": 13,
   "metadata": {
    "collapsed": false
   },
   "outputs": [
    {
     "data": {
      "image/png": "[encoded data removed]",
      "text/plain": [
       "<matplotlib.figure.Figure at 0x91da4a8>"
      ]
     },
     "metadata": {},
     "output_type": "display_data"
    },
    {
     "data": {
      "image/png": "[encoded data removed]",
      "text/plain": [
       "<matplotlib.figure.Figure at 0x925d358>"
      ]
     },
     "metadata": {},
     "output_type": "display_data"
    },
    {
     "data": {
      "image/png": "[encoded data removed]",
      "text/plain": [
       "<matplotlib.figure.Figure at 0x46d9940>"
      ]
     },
     "metadata": {},
     "output_type": "display_data"
    }
   ],
   "source": [
    "eqEllipses = [0,] * len(label)\n",
    "\n",
    "\n",
    "for i in np.where(runInitialGuess)[0]:\n",
    "    \n",
    "    cutoutXCoords, cutoutYCoords = return_coords(label[i])\n",
    "    \n",
    "    eqEllipses[i] = equivalent_ellipse(x=cutoutXCoords,\n",
    "                                       y=cutoutYCoords,\n",
    "                                       n=2)\n",
    "    \n",
    "    guessWidth[i] = eqEllipses[i].width\n",
    "    guessLength[i] = eqEllipses[i].length\n",
    "    \n",
    "    \n",
    "    plt.plot(eqEllipses[i].cutout.exterior.xy[0],eqEllipses[i].cutout.exterior.xy[1])\n",
    "    plt.plot(eqEllipses[i].ellipse.exterior.xy[0],eqEllipses[i].ellipse.exterior.xy[1])\n",
    "\n",
    "    plt.axis(\"equal\")\n",
    "\n",
    "    plt.show()"
   ]
  },
  {
   "cell_type": "code",
   "execution_count": 14,
   "metadata": {
    "collapsed": false
   },
   "outputs": [
    {
     "data": {
      "text/plain": [
       "array([ 4.5360547 ,  7.24513953,  4.4       ,  6.1       ,  7.6       ,\n",
       "        5.8       ,  4.3       ,  5.2       ,  7.7       ,  5.9       ,\n",
       "        7.        ,  4.7       ,  6.9       ,  6.1       ,  3.6       ,\n",
       "        5.9       ,  7.5       ,  7.25300669,  6.3       ,  5.8       ,\n",
       "        5.7       ,  6.1       ,  6.3       ,  3.5       ,  9.        ,\n",
       "        8.        ,  6.        ,  4.        ,  7.        ,  3.        ,\n",
       "        5.        ,  5.        ,  4.        ,  4.        ,  5.        ,\n",
       "        3.        ,  3.        ,  4.        ,  3.        ,  4.        ,\n",
       "        5.        ,  3.        ])"
      ]
     },
     "execution_count": 14,
     "metadata": {},
     "output_type": "execute_result"
    }
   ],
   "source": [
    "guessWidth"
   ]
  },
  {
   "cell_type": "code",
   "execution_count": 15,
   "metadata": {
    "collapsed": false
   },
   "outputs": [
    {
     "data": {
      "text/plain": [
       "array([  6.03573811,  10.06291486,   5.3       ,  10.5       ,\n",
       "        10.1       ,  10.4       ,   5.1       ,  10.3       ,\n",
       "        11.2       ,   6.2       ,   9.7       ,   5.7       ,\n",
       "        10.        ,   7.7       ,   4.6       ,   7.5       ,\n",
       "         8.4       ,   9.4011957 ,   8.        ,   7.9       ,\n",
       "         8.3       ,   9.7       ,   7.8       ,   4.2       ,\n",
       "         9.        ,   8.        ,   6.        ,   4.        ,\n",
       "         7.        ,   3.        ,   5.        ,  13.        ,\n",
       "        13.        ,   6.5       ,   8.        ,   6.5       ,\n",
       "         5.        ,   8.        ,   9.        ,  10.        ,\n",
       "        10.        ,  13.        ])"
      ]
     },
     "execution_count": 15,
     "metadata": {},
     "output_type": "execute_result"
    }
   ],
   "source": [
    "guessLength"
   ]
  },
  {
   "cell_type": "code",
   "execution_count": 16,
   "metadata": {
    "collapsed": false
   },
   "outputs": [],
   "source": [
    "def make_spline_model(**kwargs):\n",
    "    \n",
    "    width = kwargs['width']\n",
    "    length = kwargs['length']\n",
    "    \n",
    "    ratio = width/length\n",
    "    eqPonA = 2*( 3*(ratio+1) - np.sqrt( (3*ratio+1)*(ratio+3) ) ) / width\n",
    "    \n",
    "    factor = kwargs['factor']\n",
    "    \n",
    "    return SmoothBivariateSpline(width, eqPonA, factor, kx=2, ky=2)\n",
    "\n",
    "\n",
    "spline_model = make_spline_model(width=guessWidth[useForFitting],\n",
    "                                 length=guessLength[useForFitting],\n",
    "                                 factor=factor[useForFitting])\n",
    "\n",
    "# Horrible programming!!\n",
    "def circle_fit(radii):\n",
    "        \n",
    "        width = 2*radii\n",
    "        eqPonA = 4/width\n",
    "        \n",
    "        return spline_model.ev(width,eqPonA)"
   ]
  },
  {
   "cell_type": "markdown",
   "metadata": {},
   "source": [
    "### Find centre"
   ]
  },
  {
   "cell_type": "markdown",
   "metadata": {},
   "source": [
    "#### Sanity check"
   ]
  },
  {
   "cell_type": "code",
   "execution_count": 17,
   "metadata": {
    "collapsed": false
   },
   "outputs": [
    {
     "data": {
      "image/png": "[encoded data removed]",
      "text/plain": [
       "<matplotlib.figure.Figure at 0x92c5470>"
      ]
     },
     "metadata": {},
     "output_type": "display_data"
    }
   ],
   "source": [
    "# Sanity check\n",
    "t = np.linspace(0,6)\n",
    "y = circle_fit(t)\n",
    "\n",
    "plt.plot(t,y)\n",
    "plt.scatter(guessWidth[useForFitting]/2,factor[useForFitting])\n",
    "\n",
    "if sum(np.diff(y)) < 0:\n",
    "    raise Exception(\"Cutout factor appears to be not defined according to TG25. \" +\n",
    "                    \"Cutout factor should be increasing as radii increases.\")\n",
    "    \n",
    "minEdgeDistance = np.min(guessWidth[useForFitting])"
   ]
  },
  {
   "cell_type": "code",
   "execution_count": 18,
   "metadata": {
    "collapsed": false
   },
   "outputs": [
    {
     "data": {
      "text/plain": [
       "array(0.9298767206848277)"
      ]
     },
     "execution_count": 18,
     "metadata": {},
     "output_type": "execute_result"
    }
   ],
   "source": [
    "circle_fit(1)"
   ]
  },
  {
   "cell_type": "code",
   "execution_count": 19,
   "metadata": {
    "collapsed": false
   },
   "outputs": [
    {
     "data": {
      "text/plain": [
       "array([ 0.9683,  0.9987,  0.9587,  1.0004,  1.0019,  0.9989,  0.9634,\n",
       "        0.9884,  1.0067,  0.9933,  1.0067,  0.9735,  1.0052,  0.9437,\n",
       "        0.9911,  1.0028,  0.9991,  0.9896,  0.9934,  0.9991,  0.9931,\n",
       "        0.9489,  1.0084,  1.0067,  0.9858,  0.9562,  1.0032,  0.9296,\n",
       "        0.9705,  0.9868,  0.9757,  0.9609,  0.9831,  0.9484,  0.9348,\n",
       "        0.9708,  0.9492,  0.9709,  0.9879,  0.953 ])"
      ]
     },
     "execution_count": 19,
     "metadata": {},
     "output_type": "execute_result"
    }
   ],
   "source": [
    "factor[useForFitting]"
   ]
  },
  {
   "cell_type": "code",
   "execution_count": null,
   "metadata": {
    "collapsed": true
   },
   "outputs": [],
   "source": []
  },
  {
   "cell_type": "markdown",
   "metadata": {},
   "source": [
    "#### Find centre of shapes to be recalced"
   ]
  },
  {
   "cell_type": "code",
   "execution_count": 21,
   "metadata": {
    "collapsed": false
   },
   "outputs": [
    {
     "data": {
      "image/png": "[encoded data removed]",
      "text/plain": [
       "<matplotlib.figure.Figure at 0x9258278>"
      ]
     },
     "metadata": {},
     "output_type": "display_data"
    },
    {
     "data": {
      "image/png": "[encoded data removed]",
      "text/plain": [
       "<matplotlib.figure.Figure at 0x9239080>"
      ]
     },
     "metadata": {},
     "output_type": "display_data"
    },
    {
     "data": {
      "image/png": "[encoded data removed]",
      "text/plain": [
       "<matplotlib.figure.Figure at 0x925d630>"
      ]
     },
     "metadata": {},
     "output_type": "display_data"
    },
    {
     "data": {
      "image/png": "[encoded data removed]",
      "text/plain": [
       "<matplotlib.figure.Figure at 0x906b278>"
      ]
     },
     "metadata": {},
     "output_type": "display_data"
    },
    {
     "data": {
      "image/png": "[encoded data removed]",
      "text/plain": [
       "<matplotlib.figure.Figure at 0x91002b0>"
      ]
     },
     "metadata": {},
     "output_type": "display_data"
    },
    {
     "data": {
      "image/png": "[encoded data removed]",
      "text/plain": [
       "<matplotlib.figure.Figure at 0x921f828>"
      ]
     },
     "metadata": {},
     "output_type": "display_data"
    },
    {
     "ename": "KeyboardInterrupt",
     "evalue": "",
     "output_type": "error",
     "traceback": [
      "\u001b[1;31m---------------------------------------------------------------------------\u001b[0m",
      "\u001b[1;31mKeyboardInterrupt\u001b[0m                         Traceback (most recent call last)",
      "\u001b[1;32m<ipython-input-21-7eac0b993dd9>\u001b[0m in \u001b[0;36m<module>\u001b[1;34m()\u001b[0m\n\u001b[0;32m     11\u001b[0m                                 \u001b[0mcircle_fit\u001b[0m\u001b[1;33m=\u001b[0m\u001b[0mcircle_fit\u001b[0m\u001b[1;33m,\u001b[0m\u001b[1;33m\u001b[0m\u001b[0m\n\u001b[0;32m     12\u001b[0m                                 \u001b[0mn\u001b[0m\u001b[1;33m=\u001b[0m\u001b[1;36m2\u001b[0m\u001b[1;33m,\u001b[0m\u001b[1;33m\u001b[0m\u001b[0m\n\u001b[1;32m---> 13\u001b[1;33m                                 ignoreUnexpectedIntersection=True)   \n\u001b[0m\u001b[0;32m     14\u001b[0m \u001b[1;33m\u001b[0m\u001b[0m\n\u001b[0;32m     15\u001b[0m \u001b[1;31m#     print(shapeCentres[i].numCalls)\u001b[0m\u001b[1;33m\u001b[0m\u001b[1;33m\u001b[0m\u001b[0m\n",
      "\u001b[1;32m<ipython-input-11-27517262cc56>\u001b[0m in \u001b[0;36m__init__\u001b[1;34m(self, n, debug, confidence, sectors, ignoreUnexpectedIntersection, **kwargs)\u001b[0m\n\u001b[0;32m     24\u001b[0m         \u001b[0mself\u001b[0m\u001b[1;33m.\u001b[0m\u001b[0mnumCalls\u001b[0m \u001b[1;33m=\u001b[0m \u001b[1;36m0\u001b[0m\u001b[1;33m\u001b[0m\u001b[0m\n\u001b[0;32m     25\u001b[0m         \u001b[0mself\u001b[0m\u001b[1;33m.\u001b[0m\u001b[0mbasinRequiredSuccess\u001b[0m \u001b[1;33m=\u001b[0m \u001b[0mn\u001b[0m\u001b[1;33m\u001b[0m\u001b[0m\n\u001b[1;32m---> 26\u001b[1;33m         \u001b[0mself\u001b[0m\u001b[1;33m.\u001b[0m\u001b[0mcentre\u001b[0m \u001b[1;33m=\u001b[0m \u001b[0mself\u001b[0m\u001b[1;33m.\u001b[0m\u001b[0mcentre_basinhopping\u001b[0m\u001b[1;33m(\u001b[0m\u001b[1;33m)\u001b[0m\u001b[1;33m\u001b[0m\u001b[0m\n\u001b[0m\u001b[0;32m     27\u001b[0m \u001b[1;33m\u001b[0m\u001b[0m\n\u001b[0;32m     28\u001b[0m \u001b[1;33m\u001b[0m\u001b[0m\n",
      "\u001b[1;32m<ipython-input-11-27517262cc56>\u001b[0m in \u001b[0;36mcentre_basinhopping\u001b[1;34m(self)\u001b[0m\n\u001b[0;32m     59\u001b[0m                                           \u001b[0mminimizer_kwargs\u001b[0m\u001b[1;33m=\u001b[0m\u001b[0mminimizerConfig\u001b[0m\u001b[1;33m,\u001b[0m\u001b[1;33m\u001b[0m\u001b[0m\n\u001b[0;32m     60\u001b[0m                                           \u001b[0mtake_step\u001b[0m\u001b[1;33m=\u001b[0m\u001b[0mself\u001b[0m\u001b[1;33m.\u001b[0m\u001b[0mstep_function\u001b[0m\u001b[1;33m,\u001b[0m\u001b[1;33m\u001b[0m\u001b[0m\n\u001b[1;32m---> 61\u001b[1;33m                                           callback=self.callback_function)   \n\u001b[0m\u001b[0;32m     62\u001b[0m \u001b[1;33m\u001b[0m\u001b[0m\n\u001b[0;32m     63\u001b[0m         \u001b[1;32mreturn\u001b[0m \u001b[0mbasinhoppingOutput\u001b[0m\u001b[1;33m.\u001b[0m\u001b[0mx\u001b[0m\u001b[1;33m\u001b[0m\u001b[0m\n",
      "\u001b[1;32mC:\\Users\\sbiggs\\AppData\\Local\\Continuum\\Anaconda3\\lib\\site-packages\\scipy\\optimize\\_basinhopping.py\u001b[0m in \u001b[0;36mbasinhopping\u001b[1;34m(func, x0, niter, T, stepsize, minimizer_kwargs, take_step, accept_test, callback, interval, disp, niter_success)\u001b[0m\n\u001b[0;32m    604\u001b[0m \u001b[1;33m\u001b[0m\u001b[0m\n\u001b[0;32m    605\u001b[0m     bh = BasinHoppingRunner(x0, wrapped_minimizer, take_step_wrapped,\n\u001b[1;32m--> 606\u001b[1;33m                             accept_tests, disp=disp)\n\u001b[0m\u001b[0;32m    607\u001b[0m \u001b[1;33m\u001b[0m\u001b[0m\n\u001b[0;32m    608\u001b[0m     \u001b[1;31m# start main iteration loop\u001b[0m\u001b[1;33m\u001b[0m\u001b[1;33m\u001b[0m\u001b[0m\n",
      "\u001b[1;32mC:\\Users\\sbiggs\\AppData\\Local\\Continuum\\Anaconda3\\lib\\site-packages\\scipy\\optimize\\_basinhopping.py\u001b[0m in \u001b[0;36m__init__\u001b[1;34m(self, x0, minimizer, step_taking, accept_tests, disp)\u001b[0m\n\u001b[0;32m     70\u001b[0m \u001b[1;33m\u001b[0m\u001b[0m\n\u001b[0;32m     71\u001b[0m         \u001b[1;31m# do initial minimization\u001b[0m\u001b[1;33m\u001b[0m\u001b[1;33m\u001b[0m\u001b[0m\n\u001b[1;32m---> 72\u001b[1;33m         \u001b[0mminres\u001b[0m \u001b[1;33m=\u001b[0m \u001b[0mminimizer\u001b[0m\u001b[1;33m(\u001b[0m\u001b[0mself\u001b[0m\u001b[1;33m.\u001b[0m\u001b[0mx\u001b[0m\u001b[1;33m)\u001b[0m\u001b[1;33m\u001b[0m\u001b[0m\n\u001b[0m\u001b[0;32m     73\u001b[0m         \u001b[1;32mif\u001b[0m \u001b[1;32mnot\u001b[0m \u001b[0mminres\u001b[0m\u001b[1;33m.\u001b[0m\u001b[0msuccess\u001b[0m\u001b[1;33m:\u001b[0m\u001b[1;33m\u001b[0m\u001b[0m\n\u001b[0;32m     74\u001b[0m             \u001b[0mself\u001b[0m\u001b[1;33m.\u001b[0m\u001b[0mres\u001b[0m\u001b[1;33m.\u001b[0m\u001b[0mminimization_failures\u001b[0m \u001b[1;33m+=\u001b[0m \u001b[1;36m1\u001b[0m\u001b[1;33m\u001b[0m\u001b[0m\n",
      "\u001b[1;32mC:\\Users\\sbiggs\\AppData\\Local\\Continuum\\Anaconda3\\lib\\site-packages\\scipy\\optimize\\_basinhopping.py\u001b[0m in \u001b[0;36m__call__\u001b[1;34m(self, x0)\u001b[0m\n\u001b[0;32m    277\u001b[0m             \u001b[1;32mreturn\u001b[0m \u001b[0mself\u001b[0m\u001b[1;33m.\u001b[0m\u001b[0mminimizer\u001b[0m\u001b[1;33m(\u001b[0m\u001b[0mx0\u001b[0m\u001b[1;33m,\u001b[0m \u001b[1;33m**\u001b[0m\u001b[0mself\u001b[0m\u001b[1;33m.\u001b[0m\u001b[0mkwargs\u001b[0m\u001b[1;33m)\u001b[0m\u001b[1;33m\u001b[0m\u001b[0m\n\u001b[0;32m    278\u001b[0m         \u001b[1;32melse\u001b[0m\u001b[1;33m:\u001b[0m\u001b[1;33m\u001b[0m\u001b[0m\n\u001b[1;32m--> 279\u001b[1;33m             \u001b[1;32mreturn\u001b[0m \u001b[0mself\u001b[0m\u001b[1;33m.\u001b[0m\u001b[0mminimizer\u001b[0m\u001b[1;33m(\u001b[0m\u001b[0mself\u001b[0m\u001b[1;33m.\u001b[0m\u001b[0mfunc\u001b[0m\u001b[1;33m,\u001b[0m \u001b[0mx0\u001b[0m\u001b[1;33m,\u001b[0m \u001b[1;33m**\u001b[0m\u001b[0mself\u001b[0m\u001b[1;33m.\u001b[0m\u001b[0mkwargs\u001b[0m\u001b[1;33m)\u001b[0m\u001b[1;33m\u001b[0m\u001b[0m\n\u001b[0m\u001b[0;32m    280\u001b[0m \u001b[1;33m\u001b[0m\u001b[0m\n\u001b[0;32m    281\u001b[0m \u001b[1;33m\u001b[0m\u001b[0m\n",
      "\u001b[1;32mC:\\Users\\sbiggs\\AppData\\Local\\Continuum\\Anaconda3\\lib\\site-packages\\scipy\\optimize\\_minimize.py\u001b[0m in \u001b[0;36mminimize\u001b[1;34m(fun, x0, args, method, jac, hess, hessp, bounds, constraints, tol, callback, options)\u001b[0m\n\u001b[0;32m    417\u001b[0m         \u001b[1;32mreturn\u001b[0m \u001b[0m_minimize_cg\u001b[0m\u001b[1;33m(\u001b[0m\u001b[0mfun\u001b[0m\u001b[1;33m,\u001b[0m \u001b[0mx0\u001b[0m\u001b[1;33m,\u001b[0m \u001b[0margs\u001b[0m\u001b[1;33m,\u001b[0m \u001b[0mjac\u001b[0m\u001b[1;33m,\u001b[0m \u001b[0mcallback\u001b[0m\u001b[1;33m,\u001b[0m \u001b[1;33m**\u001b[0m\u001b[0moptions\u001b[0m\u001b[1;33m)\u001b[0m\u001b[1;33m\u001b[0m\u001b[0m\n\u001b[0;32m    418\u001b[0m     \u001b[1;32melif\u001b[0m \u001b[0mmeth\u001b[0m \u001b[1;33m==\u001b[0m \u001b[1;34m'bfgs'\u001b[0m\u001b[1;33m:\u001b[0m\u001b[1;33m\u001b[0m\u001b[0m\n\u001b[1;32m--> 419\u001b[1;33m         \u001b[1;32mreturn\u001b[0m \u001b[0m_minimize_bfgs\u001b[0m\u001b[1;33m(\u001b[0m\u001b[0mfun\u001b[0m\u001b[1;33m,\u001b[0m \u001b[0mx0\u001b[0m\u001b[1;33m,\u001b[0m \u001b[0margs\u001b[0m\u001b[1;33m,\u001b[0m \u001b[0mjac\u001b[0m\u001b[1;33m,\u001b[0m \u001b[0mcallback\u001b[0m\u001b[1;33m,\u001b[0m \u001b[1;33m**\u001b[0m\u001b[0moptions\u001b[0m\u001b[1;33m)\u001b[0m\u001b[1;33m\u001b[0m\u001b[0m\n\u001b[0m\u001b[0;32m    420\u001b[0m     \u001b[1;32melif\u001b[0m \u001b[0mmeth\u001b[0m \u001b[1;33m==\u001b[0m \u001b[1;34m'newton-cg'\u001b[0m\u001b[1;33m:\u001b[0m\u001b[1;33m\u001b[0m\u001b[0m\n\u001b[0;32m    421\u001b[0m         return _minimize_newtoncg(fun, x0, args, jac, hess, hessp, callback,\n",
      "\u001b[1;32mC:\\Users\\sbiggs\\AppData\\Local\\Continuum\\Anaconda3\\lib\\site-packages\\scipy\\optimize\\optimize.py\u001b[0m in \u001b[0;36m_minimize_bfgs\u001b[1;34m(fun, x0, args, jac, callback, gtol, norm, eps, maxiter, disp, return_all, **unknown_options)\u001b[0m\n\u001b[0;32m    853\u001b[0m             \u001b[0malpha_k\u001b[0m\u001b[1;33m,\u001b[0m \u001b[0mfc\u001b[0m\u001b[1;33m,\u001b[0m \u001b[0mgc\u001b[0m\u001b[1;33m,\u001b[0m \u001b[0mold_fval\u001b[0m\u001b[1;33m,\u001b[0m \u001b[0mold_old_fval\u001b[0m\u001b[1;33m,\u001b[0m \u001b[0mgfkp1\u001b[0m \u001b[1;33m=\u001b[0m\u001b[0;31m \u001b[0m\u001b[0;31m\\\u001b[0m\u001b[1;33m\u001b[0m\u001b[0m\n\u001b[0;32m    854\u001b[0m                      _line_search_wolfe12(f, myfprime, xk, pk, gfk,\n\u001b[1;32m--> 855\u001b[1;33m                                           old_fval, old_old_fval)\n\u001b[0m\u001b[0;32m    856\u001b[0m         \u001b[1;32mexcept\u001b[0m \u001b[0m_LineSearchError\u001b[0m\u001b[1;33m:\u001b[0m\u001b[1;33m\u001b[0m\u001b[0m\n\u001b[0;32m    857\u001b[0m             \u001b[1;31m# Line search failed to find a better solution.\u001b[0m\u001b[1;33m\u001b[0m\u001b[1;33m\u001b[0m\u001b[0m\n",
      "\u001b[1;32mC:\\Users\\sbiggs\\AppData\\Local\\Continuum\\Anaconda3\\lib\\site-packages\\scipy\\optimize\\optimize.py\u001b[0m in \u001b[0;36m_line_search_wolfe12\u001b[1;34m(f, fprime, xk, pk, gfk, old_fval, old_old_fval, **kwargs)\u001b[0m\n\u001b[0;32m    693\u001b[0m         \u001b[1;31m# line search failed: try different one.\u001b[0m\u001b[1;33m\u001b[0m\u001b[1;33m\u001b[0m\u001b[0m\n\u001b[0;32m    694\u001b[0m         ret = line_search_wolfe2(f, fprime, xk, pk, gfk,\n\u001b[1;32m--> 695\u001b[1;33m                                  old_fval, old_old_fval)\n\u001b[0m\u001b[0;32m    696\u001b[0m \u001b[1;33m\u001b[0m\u001b[0m\n\u001b[0;32m    697\u001b[0m     \u001b[1;32mif\u001b[0m \u001b[0mret\u001b[0m\u001b[1;33m[\u001b[0m\u001b[1;36m0\u001b[0m\u001b[1;33m]\u001b[0m \u001b[1;32mis\u001b[0m \u001b[1;32mNone\u001b[0m\u001b[1;33m:\u001b[0m\u001b[1;33m\u001b[0m\u001b[0m\n",
      "\u001b[1;32mC:\\Users\\sbiggs\\AppData\\Local\\Continuum\\Anaconda3\\lib\\site-packages\\scipy\\optimize\\linesearch.py\u001b[0m in \u001b[0;36mline_search_wolfe2\u001b[1;34m(f, myfprime, xk, pk, gfk, old_fval, old_old_fval, args, c1, c2, amax)\u001b[0m\n\u001b[0;32m    269\u001b[0m     \u001b[0malpha_star\u001b[0m\u001b[1;33m,\u001b[0m \u001b[0mphi_star\u001b[0m\u001b[1;33m,\u001b[0m \u001b[0mold_fval\u001b[0m\u001b[1;33m,\u001b[0m \u001b[0mderphi_star\u001b[0m \u001b[1;33m=\u001b[0m\u001b[0;31m \u001b[0m\u001b[0;31m\\\u001b[0m\u001b[1;33m\u001b[0m\u001b[0m\n\u001b[0;32m    270\u001b[0m                 scalar_search_wolfe2(phi, derphi, old_fval, old_old_fval,\n\u001b[1;32m--> 271\u001b[1;33m                                      derphi0, c1, c2, amax)\n\u001b[0m\u001b[0;32m    272\u001b[0m \u001b[1;33m\u001b[0m\u001b[0m\n\u001b[0;32m    273\u001b[0m     \u001b[1;32mif\u001b[0m \u001b[0mderphi_star\u001b[0m \u001b[1;32mis\u001b[0m \u001b[1;32mnot\u001b[0m \u001b[1;32mNone\u001b[0m\u001b[1;33m:\u001b[0m\u001b[1;33m\u001b[0m\u001b[0m\n",
      "\u001b[1;32mC:\\Users\\sbiggs\\AppData\\Local\\Continuum\\Anaconda3\\lib\\site-packages\\scipy\\optimize\\linesearch.py\u001b[0m in \u001b[0;36mscalar_search_wolfe2\u001b[1;34m(phi, derphi, phi0, old_phi0, derphi0, c1, c2, amax)\u001b[0m\n\u001b[0;32m    383\u001b[0m                         _zoom(alpha1, alpha0, phi_a1,\n\u001b[0;32m    384\u001b[0m                               \u001b[0mphi_a0\u001b[0m\u001b[1;33m,\u001b[0m \u001b[0mderphi_a1\u001b[0m\u001b[1;33m,\u001b[0m \u001b[0mphi\u001b[0m\u001b[1;33m,\u001b[0m \u001b[0mderphi\u001b[0m\u001b[1;33m,\u001b[0m\u001b[1;33m\u001b[0m\u001b[0m\n\u001b[1;32m--> 385\u001b[1;33m                               phi0, derphi0, c1, c2)\n\u001b[0m\u001b[0;32m    386\u001b[0m             \u001b[1;32mbreak\u001b[0m\u001b[1;33m\u001b[0m\u001b[0m\n\u001b[0;32m    387\u001b[0m \u001b[1;33m\u001b[0m\u001b[0m\n",
      "\u001b[1;32mC:\\Users\\sbiggs\\AppData\\Local\\Continuum\\Anaconda3\\lib\\site-packages\\scipy\\optimize\\linesearch.py\u001b[0m in \u001b[0;36m_zoom\u001b[1;34m(a_lo, a_hi, phi_lo, phi_hi, derphi_lo, phi, derphi, phi0, derphi0, c1, c2)\u001b[0m\n\u001b[0;32m    504\u001b[0m         \u001b[1;31m# Check new value of a_j\u001b[0m\u001b[1;33m\u001b[0m\u001b[1;33m\u001b[0m\u001b[0m\n\u001b[0;32m    505\u001b[0m \u001b[1;33m\u001b[0m\u001b[0m\n\u001b[1;32m--> 506\u001b[1;33m         \u001b[0mphi_aj\u001b[0m \u001b[1;33m=\u001b[0m \u001b[0mphi\u001b[0m\u001b[1;33m(\u001b[0m\u001b[0ma_j\u001b[0m\u001b[1;33m)\u001b[0m\u001b[1;33m\u001b[0m\u001b[0m\n\u001b[0m\u001b[0;32m    507\u001b[0m         \u001b[1;32mif\u001b[0m \u001b[1;33m(\u001b[0m\u001b[0mphi_aj\u001b[0m \u001b[1;33m>\u001b[0m \u001b[0mphi0\u001b[0m \u001b[1;33m+\u001b[0m \u001b[0mc1\u001b[0m\u001b[1;33m*\u001b[0m\u001b[0ma_j\u001b[0m\u001b[1;33m*\u001b[0m\u001b[0mderphi0\u001b[0m\u001b[1;33m)\u001b[0m \u001b[1;32mor\u001b[0m \u001b[1;33m(\u001b[0m\u001b[0mphi_aj\u001b[0m \u001b[1;33m>=\u001b[0m \u001b[0mphi_lo\u001b[0m\u001b[1;33m)\u001b[0m\u001b[1;33m:\u001b[0m\u001b[1;33m\u001b[0m\u001b[0m\n\u001b[0;32m    508\u001b[0m             \u001b[0mphi_rec\u001b[0m \u001b[1;33m=\u001b[0m \u001b[0mphi_hi\u001b[0m\u001b[1;33m\u001b[0m\u001b[0m\n",
      "\u001b[1;32mC:\\Users\\sbiggs\\AppData\\Local\\Continuum\\Anaconda3\\lib\\site-packages\\scipy\\optimize\\linesearch.py\u001b[0m in \u001b[0;36mphi\u001b[1;34m(alpha)\u001b[0m\n\u001b[0;32m    245\u001b[0m     \u001b[1;32mdef\u001b[0m \u001b[0mphi\u001b[0m\u001b[1;33m(\u001b[0m\u001b[0malpha\u001b[0m\u001b[1;33m)\u001b[0m\u001b[1;33m:\u001b[0m\u001b[1;33m\u001b[0m\u001b[0m\n\u001b[0;32m    246\u001b[0m         \u001b[0mfc\u001b[0m\u001b[1;33m[\u001b[0m\u001b[1;36m0\u001b[0m\u001b[1;33m]\u001b[0m \u001b[1;33m+=\u001b[0m \u001b[1;36m1\u001b[0m\u001b[1;33m\u001b[0m\u001b[0m\n\u001b[1;32m--> 247\u001b[1;33m         \u001b[1;32mreturn\u001b[0m \u001b[0mf\u001b[0m\u001b[1;33m(\u001b[0m\u001b[0mxk\u001b[0m \u001b[1;33m+\u001b[0m \u001b[0malpha\u001b[0m \u001b[1;33m*\u001b[0m \u001b[0mpk\u001b[0m\u001b[1;33m,\u001b[0m \u001b[1;33m*\u001b[0m\u001b[0margs\u001b[0m\u001b[1;33m)\u001b[0m\u001b[1;33m\u001b[0m\u001b[0m\n\u001b[0m\u001b[0;32m    248\u001b[0m \u001b[1;33m\u001b[0m\u001b[0m\n\u001b[0;32m    249\u001b[0m     \u001b[1;32mif\u001b[0m \u001b[0misinstance\u001b[0m\u001b[1;33m(\u001b[0m\u001b[0mmyfprime\u001b[0m\u001b[1;33m,\u001b[0m \u001b[0mtuple\u001b[0m\u001b[1;33m)\u001b[0m\u001b[1;33m:\u001b[0m\u001b[1;33m\u001b[0m\u001b[0m\n",
      "\u001b[1;32mC:\\Users\\sbiggs\\AppData\\Local\\Continuum\\Anaconda3\\lib\\site-packages\\scipy\\optimize\\optimize.py\u001b[0m in \u001b[0;36mfunction_wrapper\u001b[1;34m(*wrapper_args)\u001b[0m\n\u001b[0;32m    280\u001b[0m     \u001b[1;32mdef\u001b[0m \u001b[0mfunction_wrapper\u001b[0m\u001b[1;33m(\u001b[0m\u001b[1;33m*\u001b[0m\u001b[0mwrapper_args\u001b[0m\u001b[1;33m)\u001b[0m\u001b[1;33m:\u001b[0m\u001b[1;33m\u001b[0m\u001b[0m\n\u001b[0;32m    281\u001b[0m         \u001b[0mncalls\u001b[0m\u001b[1;33m[\u001b[0m\u001b[1;36m0\u001b[0m\u001b[1;33m]\u001b[0m \u001b[1;33m+=\u001b[0m \u001b[1;36m1\u001b[0m\u001b[1;33m\u001b[0m\u001b[0m\n\u001b[1;32m--> 282\u001b[1;33m         \u001b[1;32mreturn\u001b[0m \u001b[0mfunction\u001b[0m\u001b[1;33m(\u001b[0m\u001b[1;33m*\u001b[0m\u001b[1;33m(\u001b[0m\u001b[0mwrapper_args\u001b[0m \u001b[1;33m+\u001b[0m \u001b[0margs\u001b[0m\u001b[1;33m)\u001b[0m\u001b[1;33m)\u001b[0m\u001b[1;33m\u001b[0m\u001b[0m\n\u001b[0m\u001b[0;32m    283\u001b[0m \u001b[1;33m\u001b[0m\u001b[0m\n\u001b[0;32m    284\u001b[0m     \u001b[1;32mreturn\u001b[0m \u001b[0mncalls\u001b[0m\u001b[1;33m,\u001b[0m \u001b[0mfunction_wrapper\u001b[0m\u001b[1;33m\u001b[0m\u001b[0m\n",
      "\u001b[1;32m<ipython-input-11-27517262cc56>\u001b[0m in \u001b[0;36mminimise_function\u001b[1;34m(self, centre)\u001b[0m\n\u001b[0;32m     35\u001b[0m                                                        \u001b[0mcentre\u001b[0m\u001b[1;33m=\u001b[0m\u001b[0mcentre\u001b[0m\u001b[1;33m,\u001b[0m\u001b[1;33m\u001b[0m\u001b[0m\n\u001b[0;32m     36\u001b[0m                                                        \u001b[0msectors\u001b[0m\u001b[1;33m=\u001b[0m\u001b[0mself\u001b[0m\u001b[1;33m.\u001b[0m\u001b[0msectors\u001b[0m\u001b[1;33m,\u001b[0m\u001b[1;33m\u001b[0m\u001b[0m\n\u001b[1;32m---> 37\u001b[1;33m                                                        ignoreUnexpectedIntersection=self.ignoreUnexpectedIntersection)\n\u001b[0m\u001b[0;32m     38\u001b[0m \u001b[1;33m\u001b[0m\u001b[0m\n\u001b[0;32m     39\u001b[0m         \u001b[0mself\u001b[0m\u001b[1;33m.\u001b[0m\u001b[0mnumCalls\u001b[0m \u001b[1;33m+=\u001b[0m \u001b[1;36m1\u001b[0m\u001b[1;33m\u001b[0m\u001b[0m\n",
      "\u001b[1;32m<ipython-input-10-8acaafd96be7>\u001b[0m in \u001b[0;36m__init__\u001b[1;34m(self, sectors, bound, ignoreUnexpectedIntersection, **kwargs)\u001b[0m\n\u001b[0;32m     22\u001b[0m         \u001b[0mself\u001b[0m\u001b[1;33m.\u001b[0m\u001b[0mboundary\u001b[0m \u001b[1;33m=\u001b[0m \u001b[0mgeo\u001b[0m\u001b[1;33m.\u001b[0m\u001b[0mPoint\u001b[0m\u001b[1;33m(\u001b[0m\u001b[0mself\u001b[0m\u001b[1;33m.\u001b[0m\u001b[0mcentre\u001b[0m\u001b[1;33m)\u001b[0m\u001b[1;33m.\u001b[0m\u001b[0mbuffer\u001b[0m\u001b[1;33m(\u001b[0m\u001b[0mbound\u001b[0m\u001b[1;33m*\u001b[0m\u001b[0mnp\u001b[0m\u001b[1;33m.\u001b[0m\u001b[0msqrt\u001b[0m\u001b[1;33m(\u001b[0m\u001b[1;36m2\u001b[0m\u001b[1;33m)\u001b[0m\u001b[1;33m,\u001b[0m\u001b[0mresolution\u001b[0m\u001b[1;33m=\u001b[0m\u001b[0mresolution\u001b[0m\u001b[1;33m)\u001b[0m\u001b[1;33m\u001b[0m\u001b[0m\n\u001b[0;32m     23\u001b[0m \u001b[1;33m\u001b[0m\u001b[0m\n\u001b[1;32m---> 24\u001b[1;33m         \u001b[0mself\u001b[0m\u001b[1;33m.\u001b[0m\u001b[0mfactor\u001b[0m \u001b[1;33m=\u001b[0m \u001b[0mself\u001b[0m\u001b[1;33m.\u001b[0m\u001b[0mfactor_calculate\u001b[0m\u001b[1;33m(\u001b[0m\u001b[1;33m)\u001b[0m\u001b[1;33m\u001b[0m\u001b[0m\n\u001b[0m\u001b[0;32m     25\u001b[0m \u001b[1;33m\u001b[0m\u001b[0m\n\u001b[0;32m     26\u001b[0m \u001b[1;33m\u001b[0m\u001b[0m\n",
      "\u001b[1;32m<ipython-input-10-8acaafd96be7>\u001b[0m in \u001b[0;36mfactor_calculate\u001b[1;34m(self)\u001b[0m\n\u001b[0;32m     36\u001b[0m \u001b[1;33m\u001b[0m\u001b[0m\n\u001b[0;32m     37\u001b[0m             \u001b[0mself\u001b[0m\u001b[1;33m.\u001b[0m\u001b[0msectorMidline\u001b[0m\u001b[1;33m[\u001b[0m\u001b[0mi\u001b[0m\u001b[1;33m]\u001b[0m \u001b[1;33m=\u001b[0m \u001b[0mgeo\u001b[0m\u001b[1;33m.\u001b[0m\u001b[0mLineString\u001b[0m\u001b[1;33m(\u001b[0m\u001b[0mself\u001b[0m\u001b[1;33m.\u001b[0m\u001b[0mcentre\u001b[0m \u001b[1;33m+\u001b[0m \u001b[1;33m[\u001b[0m\u001b[0mself\u001b[0m\u001b[1;33m.\u001b[0m\u001b[0mboundary\u001b[0m\u001b[1;33m.\u001b[0m\u001b[0mexterior\u001b[0m\u001b[1;33m.\u001b[0m\u001b[0mcoords\u001b[0m\u001b[1;33m[\u001b[0m\u001b[0mi\u001b[0m\u001b[1;33m]\u001b[0m\u001b[1;33m]\u001b[0m\u001b[1;33m)\u001b[0m\u001b[1;33m\u001b[0m\u001b[0m\n\u001b[1;32m---> 38\u001b[1;33m             \u001b[0mself\u001b[0m\u001b[1;33m.\u001b[0m\u001b[0mintersectionSet\u001b[0m\u001b[1;33m[\u001b[0m\u001b[0mi\u001b[0m\u001b[1;33m]\u001b[0m \u001b[1;33m=\u001b[0m \u001b[0mself\u001b[0m\u001b[1;33m.\u001b[0m\u001b[0msectorMidline\u001b[0m\u001b[1;33m[\u001b[0m\u001b[0mi\u001b[0m\u001b[1;33m]\u001b[0m\u001b[1;33m.\u001b[0m\u001b[0mintersection\u001b[0m\u001b[1;33m(\u001b[0m\u001b[0mself\u001b[0m\u001b[1;33m.\u001b[0m\u001b[0mcutout\u001b[0m\u001b[1;33m.\u001b[0m\u001b[0mexterior\u001b[0m\u001b[1;33m)\u001b[0m\u001b[1;33m\u001b[0m\u001b[0m\n\u001b[0m\u001b[0;32m     39\u001b[0m \u001b[1;33m\u001b[0m\u001b[0m\n\u001b[0;32m     40\u001b[0m             \u001b[1;32mif\u001b[0m \u001b[0mtype\u001b[0m\u001b[1;33m(\u001b[0m\u001b[0mself\u001b[0m\u001b[1;33m.\u001b[0m\u001b[0mintersectionSet\u001b[0m\u001b[1;33m[\u001b[0m\u001b[0mi\u001b[0m\u001b[1;33m]\u001b[0m\u001b[1;33m)\u001b[0m \u001b[1;32mis\u001b[0m \u001b[0mgeo\u001b[0m\u001b[1;33m.\u001b[0m\u001b[0mpoint\u001b[0m\u001b[1;33m.\u001b[0m\u001b[0mPoint\u001b[0m\u001b[1;33m:\u001b[0m\u001b[1;33m\u001b[0m\u001b[0m\n",
      "\u001b[1;32mC:\\Users\\sbiggs\\AppData\\Local\\Continuum\\Anaconda3\\lib\\site-packages\\shapely\\geometry\\base.py\u001b[0m in \u001b[0;36mintersection\u001b[1;34m(self, other)\u001b[0m\n\u001b[0;32m    510\u001b[0m     \u001b[1;32mdef\u001b[0m \u001b[0mintersection\u001b[0m\u001b[1;33m(\u001b[0m\u001b[0mself\u001b[0m\u001b[1;33m,\u001b[0m \u001b[0mother\u001b[0m\u001b[1;33m)\u001b[0m\u001b[1;33m:\u001b[0m\u001b[1;33m\u001b[0m\u001b[0m\n\u001b[0;32m    511\u001b[0m         \u001b[1;34m\"\"\"Returns the intersection of the geometries\"\"\"\u001b[0m\u001b[1;33m\u001b[0m\u001b[0m\n\u001b[1;32m--> 512\u001b[1;33m         \u001b[1;32mreturn\u001b[0m \u001b[0mgeom_factory\u001b[0m\u001b[1;33m(\u001b[0m\u001b[0mself\u001b[0m\u001b[1;33m.\u001b[0m\u001b[0mimpl\u001b[0m\u001b[1;33m[\u001b[0m\u001b[1;34m'intersection'\u001b[0m\u001b[1;33m]\u001b[0m\u001b[1;33m(\u001b[0m\u001b[0mself\u001b[0m\u001b[1;33m,\u001b[0m \u001b[0mother\u001b[0m\u001b[1;33m)\u001b[0m\u001b[1;33m)\u001b[0m\u001b[1;33m\u001b[0m\u001b[0m\n\u001b[0m\u001b[0;32m    513\u001b[0m \u001b[1;33m\u001b[0m\u001b[0m\n\u001b[0;32m    514\u001b[0m     \u001b[1;32mdef\u001b[0m \u001b[0msymmetric_difference\u001b[0m\u001b[1;33m(\u001b[0m\u001b[0mself\u001b[0m\u001b[1;33m,\u001b[0m \u001b[0mother\u001b[0m\u001b[1;33m)\u001b[0m\u001b[1;33m:\u001b[0m\u001b[1;33m\u001b[0m\u001b[0m\n",
      "\u001b[1;32mC:\\Users\\sbiggs\\AppData\\Local\\Continuum\\Anaconda3\\lib\\site-packages\\shapely\\topology.py\u001b[0m in \u001b[0;36m__call__\u001b[1;34m(self, this, other, *args)\u001b[0m\n\u001b[0;32m     41\u001b[0m         \u001b[0mself\u001b[0m\u001b[1;33m.\u001b[0m\u001b[0m_validate\u001b[0m\u001b[1;33m(\u001b[0m\u001b[0mthis\u001b[0m\u001b[1;33m)\u001b[0m\u001b[1;33m\u001b[0m\u001b[0m\n\u001b[0;32m     42\u001b[0m         \u001b[0mself\u001b[0m\u001b[1;33m.\u001b[0m\u001b[0m_validate\u001b[0m\u001b[1;33m(\u001b[0m\u001b[0mother\u001b[0m\u001b[1;33m,\u001b[0m \u001b[0mstop_prepared\u001b[0m\u001b[1;33m=\u001b[0m\u001b[1;32mTrue\u001b[0m\u001b[1;33m)\u001b[0m\u001b[1;33m\u001b[0m\u001b[0m\n\u001b[1;32m---> 43\u001b[1;33m         \u001b[0mproduct\u001b[0m \u001b[1;33m=\u001b[0m \u001b[0mself\u001b[0m\u001b[1;33m.\u001b[0m\u001b[0mfn\u001b[0m\u001b[1;33m(\u001b[0m\u001b[0mthis\u001b[0m\u001b[1;33m.\u001b[0m\u001b[0m_geom\u001b[0m\u001b[1;33m,\u001b[0m \u001b[0mother\u001b[0m\u001b[1;33m.\u001b[0m\u001b[0m_geom\u001b[0m\u001b[1;33m,\u001b[0m \u001b[1;33m*\u001b[0m\u001b[0margs\u001b[0m\u001b[1;33m)\u001b[0m\u001b[1;33m\u001b[0m\u001b[0m\n\u001b[0m\u001b[0;32m     44\u001b[0m         \u001b[1;32mif\u001b[0m \u001b[0mproduct\u001b[0m \u001b[1;32mis\u001b[0m \u001b[1;32mNone\u001b[0m\u001b[1;33m:\u001b[0m\u001b[1;33m\u001b[0m\u001b[0m\n\u001b[0;32m     45\u001b[0m             \u001b[1;32mif\u001b[0m \u001b[1;32mnot\u001b[0m \u001b[0mthis\u001b[0m\u001b[1;33m.\u001b[0m\u001b[0mis_valid\u001b[0m\u001b[1;33m:\u001b[0m\u001b[1;33m\u001b[0m\u001b[0m\n",
      "\u001b[1;31mKeyboardInterrupt\u001b[0m: "
     ]
    }
   ],
   "source": [
    "shapeCentres = [0,] * len(label)\n",
    "\n",
    "for i in np.where(calcWidthLength)[0]:\n",
    "\n",
    "# for i in range(1):\n",
    "    \n",
    "    cutoutXCoords, cutoutYCoords = return_coords(label[i])\n",
    "    \n",
    "    shapeCentres[i] = find_centre(x=cutoutXCoords,\n",
    "                                y=cutoutYCoords,\n",
    "                                circle_fit=circle_fit,\n",
    "                                n=2,\n",
    "                                ignoreUnexpectedIntersection=True)   \n",
    "    \n",
    "#     print(shapeCentres[i].numCalls)\n",
    "    plt.plot(shapeCentres[i].cutout.exterior.xy[0], shapeCentres[i].cutout.exterior.xy[1])\n",
    "    plt.scatter(shapeCentres[i].centre[0], shapeCentres[i].centre[1])\n",
    "\n",
    "    plt.axis(\"equal\")  \n",
    "\n",
    "    plt.show()\n",
    "    \n"
   ]
  },
  {
   "cell_type": "code",
   "execution_count": null,
   "metadata": {
    "collapsed": false
   },
   "outputs": [],
   "source": [
    "# produce error if any centre point is closer to edge than min edge distance\n",
    "# a distance function in shapely? or calc it myself"
   ]
  },
  {
   "cell_type": "markdown",
   "metadata": {},
   "source": [
    "### Straighten the shapes"
   ]
  },
  {
   "cell_type": "code",
   "execution_count": null,
   "metadata": {
    "collapsed": false
   },
   "outputs": [],
   "source": []
  },
  {
   "cell_type": "markdown",
   "metadata": {},
   "source": [
    "### Recalc the length and width"
   ]
  },
  {
   "cell_type": "code",
   "execution_count": null,
   "metadata": {
    "collapsed": false
   },
   "outputs": [],
   "source": []
  },
  {
   "cell_type": "markdown",
   "metadata": {},
   "source": [
    "### Compare length and width to previous values"
   ]
  },
  {
   "cell_type": "code",
   "execution_count": null,
   "metadata": {
    "collapsed": false
   },
   "outputs": [],
   "source": []
  },
  {
   "cell_type": "markdown",
   "metadata": {},
   "source": [
    "### Loop previous steps if required"
   ]
  },
  {
   "cell_type": "code",
   "execution_count": null,
   "metadata": {
    "collapsed": false
   },
   "outputs": [],
   "source": []
  },
  {
   "cell_type": "markdown",
   "metadata": {},
   "source": [
    "### Save length and width results"
   ]
  },
  {
   "cell_type": "code",
   "execution_count": null,
   "metadata": {
    "collapsed": false
   },
   "outputs": [],
   "source": []
  },
  {
   "cell_type": "markdown",
   "metadata": {},
   "source": [
    "### Create and output report"
   ]
  },
  {
   "cell_type": "code",
   "execution_count": null,
   "metadata": {
    "collapsed": false
   },
   "outputs": [],
   "source": []
  },
  {
   "cell_type": "code",
   "execution_count": null,
   "metadata": {
    "collapsed": false
   },
   "outputs": [],
   "source": []
  },
  {
   "cell_type": "code",
   "execution_count": null,
   "metadata": {
    "collapsed": false
   },
   "outputs": [],
   "source": []
  },
  {
   "cell_type": "code",
   "execution_count": null,
   "metadata": {
    "collapsed": false
   },
   "outputs": [],
   "source": []
  },
  {
   "cell_type": "markdown",
   "metadata": {},
   "source": [
    "## Here be dragons"
   ]
  },
  {
   "cell_type": "code",
   "execution_count": null,
   "metadata": {
    "collapsed": false
   },
   "outputs": [],
   "source": [
    "cutoutXCoords, cutoutYCoords = return_coords(label[22]) \n",
    "\n",
    "test = find_centre(x=cutoutXCoords,\n",
    "                   y=cutoutYCoords,\n",
    "                   circle_fit=circle_fit,\n",
    "                   debug=True,\n",
    "                   n=2,\n",
    "                   confidence=0.00001,\n",
    "                   sectors=100)\n",
    "\n",
    "test.centre"
   ]
  },
  {
   "cell_type": "code",
   "execution_count": null,
   "metadata": {
    "collapsed": false
   },
   "outputs": [],
   "source": [
    "plt.plot(test.cutout.exterior.xy[0],test.cutout.exterior.xy[1])\n",
    "plt.scatter(test.centre[0],test.centre[1])\n",
    "\n",
    "\n",
    "\n",
    "plt.axis(\"equal\")  \n",
    "plt.xlim([-5,5])\n",
    "plt.ylim([-5,5])\n",
    "\n",
    "test.centre"
   ]
  },
  {
   "cell_type": "code",
   "execution_count": null,
   "metadata": {
    "collapsed": false
   },
   "outputs": [],
   "source": [
    "sectorIntegrationTest = sector_integration(x=cutoutXCoords,\n",
    "                                           y=cutoutYCoords,\n",
    "                                           circle_fit=circle_fit,\n",
    "                                           centre=test.centre)\n",
    "\n",
    "sectorIntegrationTest.factor"
   ]
  },
  {
   "cell_type": "code",
   "execution_count": null,
   "metadata": {
    "collapsed": false
   },
   "outputs": [],
   "source": []
  },
  {
   "cell_type": "code",
   "execution_count": null,
   "metadata": {
    "collapsed": false
   },
   "outputs": [],
   "source": []
  },
  {
   "cell_type": "code",
   "execution_count": null,
   "metadata": {
    "collapsed": false
   },
   "outputs": [],
   "source": []
  },
  {
   "cell_type": "code",
   "execution_count": null,
   "metadata": {
    "collapsed": false
   },
   "outputs": [],
   "source": [
    "cutoutXCoords, cutoutYCoords = return_coords(label[22]) \n",
    "\n",
    "test = sector_integration(x=cutoutXCoords,\n",
    "                          y=cutoutYCoords,\n",
    "                          circle_fit=circle_fit,\n",
    "                          centre=[(2.5,-2)])\n",
    "\n",
    "\n",
    "plt.plot(test.cutout.exterior.xy[0],test.cutout.exterior.xy[1])\n",
    "\n",
    "plt.plot(test.boundary.exterior.xy[0],test.boundary.exterior.xy[1])\n",
    "plt.scatter(test.boundary.exterior.xy[0],test.boundary.exterior.xy[1])\n",
    "\n",
    "\n",
    "for i in range(100):\n",
    "    \n",
    "    plt.plot(test.sectorMidline[i].xy[0],test.sectorMidline[i].xy[1],'g')\n",
    "    \n",
    "    if type(test.intersectionSet[i]) is geo.point.Point:        \n",
    "        plt.scatter(test.intersectionSet[i].xy[0],test.intersectionSet[i].xy[1])\n",
    "        \n",
    "    elif type(test.intersectionSet[i]) is geo.multipoint.MultiPoint:        \n",
    "        for point in test.intersectionSet[i]:\n",
    "            plt.scatter(point.xy[0],point.xy[1])  \n",
    "    \n",
    "    \n",
    "plt.axis(\"equal\")  \n",
    "plt.xlim([-5,5])\n",
    "plt.ylim([-5,5])\n",
    "\n",
    "test.factor"
   ]
  },
  {
   "cell_type": "code",
   "execution_count": null,
   "metadata": {
    "collapsed": false
   },
   "outputs": [],
   "source": [
    "n = 100\n",
    "resolution = int(n/4)\n",
    "cutoutRef = 22\n",
    "\n",
    "spline = make_spline_model(width=guessWidth[useForFitting],\n",
    "                                length=guessLength[useForFitting],\n",
    "                                factor=factor[useForFitting])\n",
    "                   \n",
    "\n",
    "cutoutXCoords, cutoutYCoords = return_coords(label[cutoutRef])                  \n",
    "\n",
    "sectorIntegration = find_centre(x=cutoutXCoords,\n",
    "                                y=cutoutYCoords,\n",
    "                                spline=spline,\n",
    "                                circle_fit=circle_fit)\n",
    "\n",
    "# circle_fit = sectorIntegration.circle_fit\n",
    "\n",
    "\n",
    "centre = [(2.5,-3.4)]\n",
    "\n",
    "cutout = shapely_cutout(*return_coords(label[cutoutRef]))  #20 / 21 22\n",
    "plt.plot(cutout.exterior.xy[0],cutout.exterior.xy[1])\n",
    "\n",
    "centreIsWithin = cutout.contains(geo.Point(centre))\n",
    "\n",
    "\n",
    "circle = geo.Point(centre).buffer(applicatorRequest*np.sqrt(2),resolution=resolution)\n",
    "plt.plot(circle.exterior.xy[0],circle.exterior.xy[1])\n",
    "plt.scatter(circle.exterior.xy[0],circle.exterior.xy[1])\n",
    "\n",
    "\n",
    "sectorMidline = [0,]*n\n",
    "intersectionSet = [0,]*n\n",
    "\n",
    "sectorEstimate = np.zeros(n)\n",
    "\n",
    "for i in range(n):\n",
    "\n",
    "    sectorMidline[i] = geo.LineString(centre + [circle.exterior.coords[i]])\n",
    "\n",
    "    plt.plot(sectorMidline[i].xy[0],sectorMidline[i].xy[1],'g')\n",
    "\n",
    "    intersectionSet[i] = sectorMidline[i].intersection(cutout.exterior)\n",
    "\n",
    "    if type(intersectionSet[i]) is geo.point.Point:\n",
    "\n",
    "        plt.scatter(intersectionSet[i].xy[0],intersectionSet[i].xy[1])\n",
    "        \n",
    "        if centreIsWithin:\n",
    "            \n",
    "            sectorEstimate[i] = circle_fit(sectorMidline[i].project(intersectionSet[i]))\n",
    "        \n",
    "        else:\n",
    "            \n",
    "            raise Exception(\"Unexpected midline intersection\")\n",
    "\n",
    "    elif type(intersectionSet[i]) is geo.multipoint.MultiPoint: \n",
    "            \n",
    "        dist = np.zeros(len(intersectionSet[i]))\n",
    "        for j in range(len(intersectionSet[i])):\n",
    "\n",
    "            point = intersectionSet[i][j]\n",
    "            dist[j] = sectorMidline[i].project(point)\n",
    "            plt.scatter(point.xy[0],point.xy[1])\n",
    "            \n",
    "\n",
    "        dist = np.sort(dist)\n",
    "\n",
    "        if (np.mod(len(intersectionSet[i]),2) == 1) & (centreIsWithin):\n",
    "\n",
    "            sectorEstimate[i] = sum(circle_fit(dist[::2])) - sum(circle_fit(dist[1::2]))\n",
    "\n",
    "        elif (np.mod(len(intersectionSet[i]),2) == 0) & (not(centreIsWithin)):\n",
    "\n",
    "            sectorEstimate[i] = sum(circle_fit(dist[1::2])) - sum(circle_fit(dist[::2]))\n",
    "\n",
    "        else:\n",
    "\n",
    "            raise Exception(\"Unexpected midline intersection\")\n",
    "            \n",
    "            \n",
    "    elif (sectorMidline[i].disjoint(cutout.exterior)) & (not(centreIsWithin)):\n",
    "        # No intersection\n",
    "        0        \n",
    "\n",
    "    else:\n",
    "\n",
    "        raise Exception(\"Unexpected midline intersection\")\n",
    "\n",
    "    \n",
    "\n",
    "        \n",
    "        \n",
    "    \n",
    "    \n",
    "    \n",
    "plt.axis(\"equal\")  \n",
    "plt.xlim([-5,5])\n",
    "plt.ylim([-5,5])\n",
    "\n",
    "\n",
    "np.mean(sectorEstimate)"
   ]
  },
  {
   "cell_type": "code",
   "execution_count": null,
   "metadata": {
    "collapsed": false
   },
   "outputs": [],
   "source": [
    "test.sectorFactors- sectorEstimate\n",
    "\n",
    "np.mean(sectorEstimate)"
   ]
  },
  {
   "cell_type": "code",
   "execution_count": null,
   "metadata": {
    "collapsed": false
   },
   "outputs": [],
   "source": [
    "np.mean(test.sectorFactors)"
   ]
  },
  {
   "cell_type": "code",
   "execution_count": null,
   "metadata": {
    "collapsed": false
   },
   "outputs": [],
   "source": [
    "sectorMidline[i].disjoint(cutout.exterior)"
   ]
  },
  {
   "cell_type": "code",
   "execution_count": null,
   "metadata": {
    "collapsed": false
   },
   "outputs": [],
   "source": [
    "intersectionSet[i]\n",
    "\n",
    "type(intersectionSet[6]) is geo.point.Point\n",
    "\n",
    "type(intersectionSet[6]) is geo.multipoint.MultiPoint\n"
   ]
  },
  {
   "cell_type": "code",
   "execution_count": null,
   "metadata": {
    "collapsed": false
   },
   "outputs": [],
   "source": [
    "intersectionSet"
   ]
  },
  {
   "cell_type": "code",
   "execution_count": null,
   "metadata": {
    "collapsed": false
   },
   "outputs": [],
   "source": [
    "i = 10\n",
    "sectorMidline[i].project(intersectionSet[i])"
   ]
  },
  {
   "cell_type": "code",
   "execution_count": null,
   "metadata": {
    "collapsed": false
   },
   "outputs": [],
   "source": [
    "circle_fit(sectorMidline[i].project(intersectionSet[i]))"
   ]
  },
  {
   "cell_type": "code",
   "execution_count": null,
   "metadata": {
    "collapsed": false
   },
   "outputs": [],
   "source": [
    "i = 6\n",
    "\n",
    "dist = np.zeros(len(intersectionSet[i]))\n",
    "for j in range(len(intersectionSet[i])):\n",
    "    \n",
    "    point = intersectionSet[i][j]\n",
    "    dist[j] = sectorMidline[i].project(point)\n",
    "\n",
    "dist = np.sort(dist)\n",
    "\n",
    "    \n",
    "if (np.mod(len(intersectionSet[i]),2) == 1) & (centreIsWithin):\n",
    "    \n",
    "    sectorEstimate = sum(circle_fit(dist[::2])) - sum(circle_fit(dist[1::2]))\n",
    "    \n",
    "elif (np.mod(len(intersectionSet[i]),2) == 0) & (not(centreIsWithin)):\n",
    "    \n",
    "    sectorEstimate = sum(circle_fit(dist[1::2])) - sum(circle_fit(dist[::2]))\n",
    "    \n",
    "else:\n",
    "    \n",
    "    raise Exception(\"Unexpected midline intersection\")\n",
    "\n",
    "\n",
    "\n",
    "\n",
    "    "
   ]
  },
  {
   "cell_type": "code",
   "execution_count": null,
   "metadata": {
    "collapsed": false
   },
   "outputs": [],
   "source": [
    "sectorEstimate"
   ]
  },
  {
   "cell_type": "code",
   "execution_count": null,
   "metadata": {
    "collapsed": false
   },
   "outputs": [],
   "source": [
    "dist"
   ]
  },
  {
   "cell_type": "code",
   "execution_count": null,
   "metadata": {
    "collapsed": false
   },
   "outputs": [],
   "source": []
  },
  {
   "cell_type": "code",
   "execution_count": null,
   "metadata": {
    "collapsed": false
   },
   "outputs": [],
   "source": [
    "circle_fit(dist)"
   ]
  },
  {
   "cell_type": "code",
   "execution_count": null,
   "metadata": {
    "collapsed": false
   },
   "outputs": [],
   "source": [
    "circle_fit(dist[::2])"
   ]
  },
  {
   "cell_type": "code",
   "execution_count": null,
   "metadata": {
    "collapsed": false
   },
   "outputs": [],
   "source": [
    "circle_fit(dist[1::2])"
   ]
  },
  {
   "cell_type": "code",
   "execution_count": null,
   "metadata": {
    "collapsed": false
   },
   "outputs": [],
   "source": [
    "sum(circle_fit(dist[::2])) - sum(circle_fit(dist[1::2]))"
   ]
  },
  {
   "cell_type": "code",
   "execution_count": null,
   "metadata": {
    "collapsed": false
   },
   "outputs": [],
   "source": [
    "sum(circle_fit(dist[1::2])) - sum(circle_fit(dist[::2]))"
   ]
  },
  {
   "cell_type": "code",
   "execution_count": null,
   "metadata": {
    "collapsed": false
   },
   "outputs": [],
   "source": [
    "circle_fit(dist[1::2])"
   ]
  },
  {
   "cell_type": "code",
   "execution_count": null,
   "metadata": {
    "collapsed": false
   },
   "outputs": [],
   "source": [
    "(np.mod(4,2) == 0)"
   ]
  },
  {
   "cell_type": "code",
   "execution_count": null,
   "metadata": {
    "collapsed": false
   },
   "outputs": [],
   "source": []
  },
  {
   "cell_type": "code",
   "execution_count": null,
   "metadata": {
    "collapsed": false
   },
   "outputs": [],
   "source": [
    "intersectionSet[i]"
   ]
  },
  {
   "cell_type": "code",
   "execution_count": null,
   "metadata": {
    "collapsed": false
   },
   "outputs": [],
   "source": [
    "not(centreIsWithin)"
   ]
  },
  {
   "cell_type": "code",
   "execution_count": null,
   "metadata": {
    "collapsed": false
   },
   "outputs": [],
   "source": [
    "cutout.bounds"
   ]
  },
  {
   "cell_type": "code",
   "execution_count": null,
   "metadata": {
    "collapsed": false
   },
   "outputs": [],
   "source": [
    "np.hypot(np.diff(cutout.bounds[::2]),np.diff(cutout.bounds[1::2]))/3\n"
   ]
  }
 ],
 "metadata": {
  "kernelspec": {
   "display_name": "Python 3",
   "language": "python",
   "name": "python3"
  },
  "language_info": {
   "codemirror_mode": {
    "name": "ipython",
    "version": 3
   },
   "file_extension": ".py",
   "mimetype": "text/x-python",
   "name": "python",
   "nbconvert_exporter": "python",
   "pygments_lexer": "ipython3",
   "version": "3.4.1"
  }
 },
 "nbformat": 4,
 "nbformat_minor": 0
}
