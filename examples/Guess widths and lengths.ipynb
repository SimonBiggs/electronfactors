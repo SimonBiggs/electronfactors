{
 "cells": [
  {
   "cell_type": "code",
   "execution_count": 1,
   "metadata": {
    "collapsed": false
   },
   "outputs": [],
   "source": [
    "import sys\n",
    "sys.path.append(\"../\")\n",
    "\n",
    "from electronfactors.inputs.genericshape import convert_generic\n",
    "from electronfactors.inputs.rawcoords import convert_raw"
   ]
  },
  {
   "cell_type": "code",
   "execution_count": null,
   "metadata": {
    "collapsed": true
   },
   "outputs": [],
   "source": []
  },
  {
   "cell_type": "code",
   "execution_count": 2,
   "metadata": {
    "collapsed": false
   },
   "outputs": [],
   "source": [
    "# When this notebook is made into a function I think \n",
    "# I should just need to call the directory where input \n",
    "# data is stored, and then with a wee bit of regex\n",
    "# search for which files and methods to use.\n",
    "\n",
    "convert_raw(\n",
    "    XCoordsFilepath=\"input/RawCoordsImport_XCoords.csv\",\n",
    "    YCoordsFilepath=\"input/RawCoordsImport_YCoords.csv\",\n",
    "    metadataFilepath=\"input/RawCoordsImport_metadata.csv\",\n",
    "    outputFilepath=\"output/RawCoords_coords.yml\")\n",
    "\n",
    "convert_generic(\n",
    "    inputFilepath=\"input/GenericShapeImport.csv\",\n",
    "    outputFilepath=\"output/GenericShape_coords.yml\")"
   ]
  },
  {
   "cell_type": "code",
   "execution_count": null,
   "metadata": {
    "collapsed": true
   },
   "outputs": [],
   "source": []
  },
  {
   "cell_type": "code",
   "execution_count": 3,
   "metadata": {
    "collapsed": false
   },
   "outputs": [],
   "source": [
    "import yaml\n",
    "\n",
    "with open(\"output/RawCoords_coords.yml\", 'r') as inputFile:\n",
    "    RawCoords_coords = yaml.load(inputFile)\n",
    "    \n",
    "with open(\"output/GenericShape_coords.yml\", 'r') as inputFile:\n",
    "    GenericShape_coords = yaml.load(inputFile)"
   ]
  },
  {
   "cell_type": "code",
   "execution_count": 4,
   "metadata": {
    "collapsed": true
   },
   "outputs": [],
   "source": [
    "allcoords = RawCoords_coords.copy()\n",
    "allcoords.update(GenericShape_coords)"
   ]
  },
  {
   "cell_type": "code",
   "execution_count": 5,
   "metadata": {
    "collapsed": false
   },
   "outputs": [],
   "source": [
    "# energy = 12\n",
    "# applicator = 10\n",
    "# ssd = 100\n",
    "\n",
    "# relevantcoords = dict()\n",
    "\n",
    "# for i, key in enumerate(allcoords):\n",
    "#     sameenergy = allcoords[key]['energy'] == energy\n",
    "#     sameapplicator = allcoords[key]['applicator'] == applicator\n",
    "#     samessd = allcoords[key]['ssd'] == ssd\n",
    "    \n",
    "#     if sameenergy and sameapplicator and samessd:\n",
    "#         relevantcoords[key] = allcoords[key]"
   ]
  },
  {
   "cell_type": "markdown",
   "metadata": {},
   "source": [
    "Guess width and length"
   ]
  },
  {
   "cell_type": "code",
   "execution_count": 7,
   "metadata": {
    "collapsed": false
   },
   "outputs": [
    {
     "name": "stdout",
     "output_type": "stream",
     "text": [
      "Simon #19 cutout -- complete\n",
      "Simon 5x10cm oval -- complete\n",
      "Simon 8cm circle -- complete\n",
      "Simon #70 cutout -- complete\n",
      "Simon #58 cutout -- complete\n",
      "Simon 3x13cm oval -- complete\n",
      "Simon 5cm circle -- complete\n",
      "Simon 3x6.5cm oval -- complete\n",
      "Simon 5x13cm oval -- complete\n",
      "Simon 3cm circle -- complete\n",
      "Simon 5x8cm oval -- complete\n",
      "Simon #34 cutout -- complete\n",
      "Simon 4x8cm oval -- complete\n",
      "Simon 6cm circle -- complete\n",
      "Simon #43 cutout -- complete\n",
      "Simon #112 cutout -- complete\n",
      "Simon #3 cutout -- complete\n",
      "Simon #6 cutout -- complete\n",
      "Simon #106 cutout -- complete\n",
      "Simon 3x9cm oval -- complete\n",
      "Simon #14 cutout -- complete\n",
      "Simon #20 cutout -- complete\n",
      "Simon #41 cutout -- complete\n",
      "Simon 9cm circle -- complete\n",
      "Simon 3x5cm oval -- complete\n",
      "Simon #22 cutout -- complete\n",
      "Simon #109 cutout -- complete\n",
      "Simon #104 cutout -- complete\n",
      "Simon #33 cutout -- complete\n",
      "Simon 7cm circle -- complete\n",
      "Simon 4x10cm oval -- complete\n",
      "Simon #83 cutout -- complete\n",
      "Simon #57 cutout -- complete\n",
      "Simon #82 cutout -- complete\n",
      "Simon #38 cutout -- complete\n",
      "Simon 4x6.5cm oval -- complete\n",
      "Simon #32 cutout -- complete\n",
      "Simon 4x13cm oval -- complete\n",
      "Simon #18 cutout -- complete\n",
      "Simon 4cm circle -- complete\n",
      "Simon #16 cutout -- complete\n",
      "Simon #73 cutout -- complete\n"
     ]
    }
   ],
   "source": [
    "from electronfactors.ellipse.fitting import StandardFitEllipse\n",
    "\n",
    "ellipseFits = dict()\n",
    "\n",
    "for i, key in enumerate(allcoords):\n",
    "    XCoords = allcoords[key]['XCoords']\n",
    "    YCoords = allcoords[key]['YCoords']\n",
    "    \n",
    "    ellipseFits[key] = StandardFitEllipse(x=XCoords, y=YCoords, n=1)\n",
    "    \n",
    "    allcoords[key]['width'] = ellipseFits[key].width\n",
    "    allcoords[key]['length'] = ellipseFits[key].length\n",
    "    \n",
    "    print(str(key) + \" -- complete\")"
   ]
  },
  {
   "cell_type": "code",
   "execution_count": 10,
   "metadata": {
    "collapsed": false
   },
   "outputs": [],
   "source": [
    "for i, key in enumerate(allcoords):\n",
    "    \n",
    "    allcoords[key]['width'] = float(round(allcoords[key]['width'], 2))\n",
    "    allcoords[key]['length'] = float(round(allcoords[key]['length'], 2))"
   ]
  },
  {
   "cell_type": "code",
   "execution_count": 12,
   "metadata": {
    "collapsed": false
   },
   "outputs": [],
   "source": [
    "outputFilepath = \"output/AllInputs_guessed.yml\"\n",
    "\n",
    "with open(outputFilepath, 'w') as outfile:\n",
    "    outfile.write(yaml.dump(allcoords, default_flow_style=False))"
   ]
  },
  {
   "cell_type": "code",
   "execution_count": null,
   "metadata": {
    "collapsed": true
   },
   "outputs": [],
   "source": []
  }
 ],
 "metadata": {
  "kernelspec": {
   "display_name": "Python 3",
   "language": "python",
   "name": "python3"
  },
  "language_info": {
   "codemirror_mode": {
    "name": "ipython",
    "version": 3
   },
   "file_extension": ".py",
   "mimetype": "text/x-python",
   "name": "python",
   "nbconvert_exporter": "python",
   "pygments_lexer": "ipython3",
   "version": "3.4.0"
  }
 },
 "nbformat": 4,
 "nbformat_minor": 0
}
