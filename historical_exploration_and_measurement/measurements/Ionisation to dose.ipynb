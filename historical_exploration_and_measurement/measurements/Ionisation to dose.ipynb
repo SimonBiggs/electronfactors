{
 "metadata": {
  "name": "",
  "signature": "sha256:4a05bd274588fb20c9b5c5aace7c4778b64d1a8c3dec6e15b10c8e6edc58f61b"
 },
 "nbformat": 3,
 "nbformat_minor": 0,
 "worksheets": [
  {
   "cells": [
    {
     "cell_type": "code",
     "collapsed": false,
     "input": [
      "%pylab inline\n",
      "from scipy.interpolate import interp1d"
     ],
     "language": "python",
     "metadata": {},
     "outputs": [
      {
       "output_type": "stream",
       "stream": "stdout",
       "text": [
        "Populating the interactive namespace from numpy and matplotlib\n"
       ]
      }
     ],
     "prompt_number": 9
    },
    {
     "cell_type": "code",
     "collapsed": false,
     "input": [
      "R50 = 47.5\n",
      "zOnR50 = concatenate((array([0.02]), arange(0.05,1.25,0.05)))\n",
      "zOnR50"
     ],
     "language": "python",
     "metadata": {},
     "outputs": [
      {
       "metadata": {},
       "output_type": "pyout",
       "prompt_number": 2,
       "text": [
        "array([ 0.02,  0.05,  0.1 ,  0.15,  0.2 ,  0.25,  0.3 ,  0.35,  0.4 ,\n",
        "        0.45,  0.5 ,  0.55,  0.6 ,  0.65,  0.7 ,  0.75,  0.8 ,  0.85,\n",
        "        0.9 ,  0.95,  1.  ,  1.05,  1.1 ,  1.15,  1.2 ])"
       ]
      }
     ],
     "prompt_number": 2
    },
    {
     "cell_type": "code",
     "collapsed": false,
     "input": [
      "R50of45 = array([0.997,1,1.004,1.008,1.012,1.017,1.021,1.026,1.03,\n",
      "                 1.035,1.04,1.045,1.051,1.056,1.062,1.067,1.073,1.08,\n",
      "                 1.086,1.092,1.099,1.106,1.113,1.120,1.128])\n",
      "\n",
      "R50of50 = array([0.991,0.994,0.998,1.002,1.006,1.011,1.016,1.02,1.025,\n",
      "                 1.03,1.035,1.041,1.046,1.052,1.058,1.064,1.07,1.076,\n",
      "                 1.083,1.09,1.097,1.104,1.112,1.119,1.128])\n",
      "\n",
      "R50of47_5 = mean([R50of45,R50of50],axis=0)\n",
      "R50of47_5"
     ],
     "language": "python",
     "metadata": {},
     "outputs": [
      {
       "metadata": {},
       "output_type": "pyout",
       "prompt_number": 3,
       "text": [
        "array([ 0.994 ,  0.997 ,  1.001 ,  1.005 ,  1.009 ,  1.014 ,  1.0185,\n",
        "        1.023 ,  1.0275,  1.0325,  1.0375,  1.043 ,  1.0485,  1.054 ,\n",
        "        1.06  ,  1.0655,  1.0715,  1.078 ,  1.0845,  1.091 ,  1.098 ,\n",
        "        1.105 ,  1.1125,  1.1195,  1.128 ])"
       ]
      }
     ],
     "prompt_number": 3
    },
    {
     "cell_type": "code",
     "collapsed": false,
     "input": [
      "interp_funtion = interp1d(zOnR50 * 47.5,R50of47_5)"
     ],
     "language": "python",
     "metadata": {},
     "outputs": [],
     "prompt_number": 10
    },
    {
     "cell_type": "code",
     "collapsed": false,
     "input": [
      "plot(zOnR50 * 47.5,R50of47_5,'rx')\n",
      "ylabel('Stopping power ratio')\n",
      "xlabel('Depth (mm)')\n",
      "title('Stopping power ratios')\n",
      "\n",
      "x0 = linspace(min(zOnR50 * 47.5),max(zOnR50 * 47.5))\n",
      "plot(x0,interp_funtion(x0),'b')"
     ],
     "language": "python",
     "metadata": {},
     "outputs": [
      {
       "metadata": {},
       "output_type": "pyout",
       "prompt_number": 18,
       "text": [
        "[<matplotlib.lines.Line2D at 0x81b8630>]"
       ]
      },
      {
       "metadata": {},
       "output_type": "display_data",
       "png": "[encoded data removed]",
       "text": [
        "<matplotlib.figure.Figure at 0x7ff09e8>"
       ]
      }
     ],
     "prompt_number": 18
    },
    {
     "cell_type": "code",
     "collapsed": false,
     "input": [
      "depth = array([25,24,23,22])\n",
      "ionisation = array([])\n",
      "ionisation[0] = mean([1.516,1.517,1.516])\n",
      "ionisation[1] = mean([1.519,1.519])\n",
      "ionisation[2] = mean([1.522])\n",
      "ionisation[3] = mean([1.520])\n"
     ],
     "language": "python",
     "metadata": {},
     "outputs": [
      {
       "ename": "IndexError",
       "evalue": "index 0 is out of bounds for axis 0 with size 0",
       "output_type": "pyerr",
       "traceback": [
        "\u001b[1;31m---------------------------------------------------------------------------\u001b[0m\n\u001b[1;31mIndexError\u001b[0m                                Traceback (most recent call last)",
        "\u001b[1;32m<ipython-input-21-b94da57ff4d1>\u001b[0m in \u001b[0;36m<module>\u001b[1;34m()\u001b[0m\n\u001b[0;32m      1\u001b[0m \u001b[0mdepth\u001b[0m \u001b[1;33m=\u001b[0m \u001b[0marray\u001b[0m\u001b[1;33m(\u001b[0m\u001b[1;33m[\u001b[0m\u001b[1;36m25\u001b[0m\u001b[1;33m,\u001b[0m\u001b[1;36m24\u001b[0m\u001b[1;33m,\u001b[0m\u001b[1;36m23\u001b[0m\u001b[1;33m,\u001b[0m\u001b[1;36m22\u001b[0m\u001b[1;33m]\u001b[0m\u001b[1;33m)\u001b[0m\u001b[1;33m\u001b[0m\u001b[0m\n\u001b[0;32m      2\u001b[0m \u001b[0mionisation\u001b[0m \u001b[1;33m=\u001b[0m \u001b[0marray\u001b[0m\u001b[1;33m(\u001b[0m\u001b[1;33m[\u001b[0m\u001b[1;33m]\u001b[0m\u001b[1;33m)\u001b[0m\u001b[1;33m\u001b[0m\u001b[0m\n\u001b[1;32m----> 3\u001b[1;33m \u001b[0mionisation\u001b[0m\u001b[1;33m[\u001b[0m\u001b[1;36m0\u001b[0m\u001b[1;33m]\u001b[0m \u001b[1;33m=\u001b[0m \u001b[0mmean\u001b[0m\u001b[1;33m(\u001b[0m\u001b[1;33m[\u001b[0m\u001b[1;36m1.516\u001b[0m\u001b[1;33m,\u001b[0m\u001b[1;36m1.517\u001b[0m\u001b[1;33m,\u001b[0m\u001b[1;36m1.516\u001b[0m\u001b[1;33m]\u001b[0m\u001b[1;33m)\u001b[0m\u001b[1;33m\u001b[0m\u001b[0m\n\u001b[0m\u001b[0;32m      4\u001b[0m \u001b[0mionisation\u001b[0m\u001b[1;33m[\u001b[0m\u001b[1;36m1\u001b[0m\u001b[1;33m]\u001b[0m \u001b[1;33m=\u001b[0m \u001b[0mmean\u001b[0m\u001b[1;33m(\u001b[0m\u001b[1;33m[\u001b[0m\u001b[1;36m1.519\u001b[0m\u001b[1;33m,\u001b[0m\u001b[1;36m1.519\u001b[0m\u001b[1;33m]\u001b[0m\u001b[1;33m)\u001b[0m\u001b[1;33m\u001b[0m\u001b[0m\n\u001b[0;32m      5\u001b[0m \u001b[0mionisation\u001b[0m\u001b[1;33m[\u001b[0m\u001b[1;36m2\u001b[0m\u001b[1;33m]\u001b[0m \u001b[1;33m=\u001b[0m \u001b[0mmean\u001b[0m\u001b[1;33m(\u001b[0m\u001b[1;33m[\u001b[0m\u001b[1;36m1.522\u001b[0m\u001b[1;33m]\u001b[0m\u001b[1;33m)\u001b[0m\u001b[1;33m\u001b[0m\u001b[0m\n",
        "\u001b[1;31mIndexError\u001b[0m: index 0 is out of bounds for axis 0 with size 0"
       ]
      }
     ],
     "prompt_number": 21
    }
   ],
   "metadata": {}
  }
 ]
}