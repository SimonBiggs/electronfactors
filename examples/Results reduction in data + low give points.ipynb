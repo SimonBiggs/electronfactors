{
 "cells": [
  {
   "cell_type": "code",
   "execution_count": 1,
   "metadata": {
    "collapsed": false
   },
   "outputs": [],
   "source": [
    "import yaml\n",
    "import numpy as np\n",
    "\n",
    "import matplotlib.pyplot as plt\n",
    "%matplotlib inline\n",
    "\n",
    "import sys\n",
    "sys.path.append(\"../\")\n",
    "\n",
    "from electronfactors.model.utilities import *\n",
    "from electronfactors.model.threshold import fit_give, angle_gap"
   ]
  },
  {
   "cell_type": "code",
   "execution_count": 2,
   "metadata": {
    "collapsed": false
   },
   "outputs": [],
   "source": [
    "width, length, eqPonA, factor = pull_data(energy=12)"
   ]
  },
  {
   "cell_type": "code",
   "execution_count": 3,
   "metadata": {
    "collapsed": false
   },
   "outputs": [],
   "source": [
    "x = np.array([])\n",
    "y = np.array([])"
   ]
  },
  {
   "cell_type": "code",
   "execution_count": 4,
   "metadata": {
    "collapsed": true
   },
   "outputs": [],
   "source": [
    "low_give_points_number = 3"
   ]
  },
  {
   "cell_type": "code",
   "execution_count": 5,
   "metadata": {
    "collapsed": false
   },
   "outputs": [
    {
     "data": {
      "text/plain": [
       "array([0, 1, 2, 3, 4])"
      ]
     },
     "execution_count": 5,
     "metadata": {},
     "output_type": "execute_result"
    }
   ],
   "source": [
    "np.argsort([3,4,5,6,67])"
   ]
  },
  {
   "cell_type": "code",
   "execution_count": 6,
   "metadata": {
    "collapsed": false
   },
   "outputs": [],
   "source": [
    "def data_reduction_loop(x, y, width, eqPonA, factor, n=1000):\n",
    "    \n",
    "    def low_give_loop(reference):\n",
    "        for i in range(low_give_points_number):\n",
    "            reference = find_low_give_points(reference)\n",
    "            \n",
    "        return reference\n",
    "    \n",
    "    def find_low_give_points(reference):\n",
    "        check = np.setdiff1d(np.arange(len(width)), reference)\n",
    "        give = np.zeros(len(check))\n",
    "        gap = np.zeros(len(check))\n",
    "        \n",
    "        for i, value in enumerate(check):\n",
    "            give[i] = fit_give(\n",
    "                width[value], eqPonA[value], \n",
    "                width[reference], eqPonA[reference], factor[reference])\n",
    "            gap[i] = angle_gap(\n",
    "                width[value], eqPonA[value], \n",
    "                width[reference], eqPonA[reference],\n",
    "                1, 1)\n",
    "        \n",
    "        give[gap>180] = give[gap>180] + 10\n",
    "        min_give_refs = check[np.argmin(give)]\n",
    "        result = np.append(reference, min_give_refs)\n",
    "        return result\n",
    "    \n",
    "    for amount in np.arange(8 + low_give_points_number, np.floor(len(width)/2) + 1):        \n",
    "        order = np.arange(len(width))\n",
    "        np.random.shuffle(order)\n",
    "        \n",
    "        reference = order[0:amount - low_give_points_number]\n",
    "        reference = low_give_loop(reference)\n",
    "        uncertainty = prediction_uncertainty(width[reference], eqPonA[reference], factor[reference])\n",
    "        \n",
    "        if uncertainty is not(np.nan):\n",
    "            x = np.append(x, amount)\n",
    "            y = np.append(y, uncertainty)    \n",
    "    \n",
    "    for i in range(n):\n",
    "        bin_mid = np.arange(np.min(x), np.max(x) + 1)\n",
    "        bins = np.linspace(np.min(x)-0.5, np.max(x)+0.5, np.ptp(x)+2)\n",
    "        histogrammed, value = np.histogram(x, bins=bins)\n",
    "        amount = bin_mid[np.argmin(histogrammed)]\n",
    "        \n",
    "        order = np.arange(len(width))\n",
    "        np.random.shuffle(order)\n",
    "        \n",
    "        reference = order[0:amount - low_give_points_number]\n",
    "        reference = low_give_loop(reference)\n",
    "        uncertainty = prediction_uncertainty(width[reference], eqPonA[reference], factor[reference])\n",
    "        \n",
    "        if uncertainty is not(np.nan):\n",
    "            x = np.append(x, amount)\n",
    "            y = np.append(y, uncertainty)\n",
    "    \n",
    "    return x, y        "
   ]
  },
  {
   "cell_type": "code",
   "execution_count": 7,
   "metadata": {
    "collapsed": true
   },
   "outputs": [],
   "source": [
    "def plot_intervals(x, y):\n",
    "    amounts = np.arange(np.min(x), np.max(x) + 1)\n",
    "\n",
    "    upper_interval_3 = np.zeros(len(amounts))\n",
    "    upper_interval_2 = np.zeros(len(amounts))\n",
    "    upper_interval_1 = np.zeros(len(amounts))\n",
    "\n",
    "    lower_interval_1 = np.zeros(len(amounts))\n",
    "    lower_interval_2 = np.zeros(len(amounts))\n",
    "    lower_interval_3 = np.zeros(len(amounts))\n",
    "    \n",
    "    for i, amount in enumerate(amounts):    \n",
    "        reference = (x == amount)\n",
    "        n = np.sum(reference)\n",
    "\n",
    "        upper_interval_position_3 = np.ceil(n * 0.9985) - 1\n",
    "        upper_interval_position_2 = np.ceil(n * 0.975) - 1\n",
    "        upper_interval_position_1 = np.ceil(n * 0.84) - 1\n",
    "\n",
    "        lower_interval_position_1 = np.floor(n * 0.16) - 1\n",
    "        lower_interval_position_2 = np.floor(n * 0.025) - 1\n",
    "        lower_interval_position_3 = np.floor(n * 0.0015) - 1    \n",
    "\n",
    "        uncertainties_sorted = np.sort(y[reference])\n",
    "\n",
    "        upper_interval_3[i] = uncertainties_sorted[upper_interval_position_3]\n",
    "        upper_interval_2[i] = uncertainties_sorted[upper_interval_position_2]\n",
    "        upper_interval_1[i] = uncertainties_sorted[upper_interval_position_1]\n",
    "\n",
    "        lower_interval_1[i] = uncertainties_sorted[lower_interval_position_1]\n",
    "        lower_interval_2[i] = uncertainties_sorted[lower_interval_position_2]\n",
    "        lower_interval_3[i] = uncertainties_sorted[lower_interval_position_3]\n",
    "    \n",
    "    plt.plot(\n",
    "        amounts, upper_interval_1, 'r-',\n",
    "        amounts, upper_interval_2, 'r--',\n",
    "        amounts, upper_interval_3, 'k--',\n",
    "        amounts, lower_interval_1, 'r-',\n",
    "        amounts, lower_interval_2, 'r--',\n",
    "        amounts, lower_interval_3, 'k--',\n",
    "    )"
   ]
  },
  {
   "cell_type": "code",
   "execution_count": 22,
   "metadata": {
    "collapsed": false
   },
   "outputs": [],
   "source": [
    "x, y = data_reduction_loop(x, y, width, eqPonA, factor, n=10000)"
   ]
  },
  {
   "cell_type": "code",
   "execution_count": 24,
   "metadata": {
    "collapsed": false
   },
   "outputs": [
    {
     "name": "stdout",
     "output_type": "stream",
     "text": [
      "Number of data sets used = 16212\n"
     ]
    },
    {
     "data": {
      "text/plain": [
       "array([1158, 1158, 1158, 1158, 1158, 1158, 1158, 1158, 1158, 1158, 1158,\n",
       "       1158, 1158, 1158])"
      ]
     },
     "execution_count": 24,
     "metadata": {},
     "output_type": "execute_result"
    },
    {
     "data": {
      "image/png": "[encoded data removed]",
      "text/plain": [
       "<matplotlib.figure.Figure at 0x7fb74f3f31d0>"
      ]
     },
     "metadata": {},
     "output_type": "display_data"
    }
   ],
   "source": [
    "plot_intervals(x, y)\n",
    "plt.grid(True)\n",
    "\n",
    "plt.xlabel(\"Amount of points in data set\")\n",
    "plt.ylabel(\"Estimated prediction uncertainty\")\n",
    "plt.title(\"Estimated prediction uncertainty resulting from random subsets of the 12 MeV data\")\n",
    "plt.legend([\"68% bounds\", \"95% bounds\", \"99.7% bounds\"])\n",
    "\n",
    "print(\"Number of data sets used = %d\" %(len(x)))\n",
    "\n",
    "bins = np.linspace(np.min(x)-0.5, np.max(x)+0.5, np.ptp(x)+2)\n",
    "histogrammed, value = np.histogram(x, bins=bins)\n",
    "histogrammed"
   ]
  }
 ],
 "metadata": {
  "kernelspec": {
   "display_name": "Python 3",
   "language": "python",
   "name": "python3"
  },
  "language_info": {
   "codemirror_mode": {
    "name": "ipython",
    "version": 3
   },
   "file_extension": ".py",
   "mimetype": "text/x-python",
   "name": "python",
   "nbconvert_exporter": "python",
   "pygments_lexer": "ipython3",
   "version": "3.4.0"
  }
 },
 "nbformat": 4,
 "nbformat_minor": 0
}
