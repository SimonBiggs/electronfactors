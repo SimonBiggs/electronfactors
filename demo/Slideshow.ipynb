{
 "cells": [
  {
   "cell_type": "code",
   "execution_count": null,
   "metadata": {
    "collapsed": false,
    "slideshow": {
     "slide_type": "skip"
    }
   },
   "outputs": [],
   "source": [
    "import yaml\n",
    "import numpy as np\n",
    "\n",
    "import matplotlib.pyplot as plt\n",
    "from matplotlib.colors import Normalize\n",
    "from matplotlib.colorbar import ColorbarBase\n",
    "%matplotlib inline\n",
    "\n",
    "import shapely.geometry as geo\n",
    "import descartes as des\n",
    "\n",
    "from IPython.display import display, HTML, clear_output, Markdown, Image\n",
    "import ipywidgets as widgets\n",
    "\n",
    "from electronfactors import (\n",
    "    create_green_cm, display_shapely, shapely_cutout, shapely_ellipse,\n",
    "    create_model, fit_give, to_eqPonA)\n",
    "green_cm = create_green_cm()\n",
    "\n",
    "from matplotlib import rc\n",
    "rc('font',**{'family':'serif',\n",
    "             'size':'16'})\n",
    "\n",
    "rc('legend', fontsize=12)"
   ]
  },
  {
   "cell_type": "code",
   "execution_count": null,
   "metadata": {
    "collapsed": true,
    "slideshow": {
     "slide_type": "skip"
    }
   },
   "outputs": [],
   "source": [
    "import warnings\n",
    "\n",
    "warnings.simplefilter(\"ignore\")"
   ]
  },
  {
   "cell_type": "code",
   "execution_count": null,
   "metadata": {
    "collapsed": false,
    "scrolled": false,
    "slideshow": {
     "slide_type": "skip"
    }
   },
   "outputs": [],
   "source": [
    "from notebook.services.config import ConfigManager\n",
    "cm = ConfigManager()\n",
    "cm.update('livereveal', {\n",
    "              'theme': 'sky',\n",
    "              'transition': 'linear',\n",
    "              'start_slideshow_at': 'beginning',\n",
    "});\n",
    "\n",
    "\n",
    "display(HTML('''<script>\n",
    "code_show=true; \n",
    "function code_toggle() {\n",
    " if (code_show){\n",
    " $('div.input').hide();\n",
    " $('div.cell').css(\"flex-direction\", \"row\");\n",
    " $('div.output').css(\"min-width\", \"700px\");\n",
    " $('div.output').css(\"max-width\", \"1000px\");\n",
    " } else {\n",
    " $('div.input').show();\n",
    " $('div.cell').css(\"flex-direction\", \"column\");\n",
    " $('div.output').css(\"min-width\", \"0\");\n",
    " }\n",
    " code_show = !code_show\n",
    "} \n",
    "$( document \n",
    ").ready(code_toggle);\n",
    "</script>\n",
    "<form action=\"javascript:code_toggle()\">\n",
    "    <input type=\"submit\" value=\"Slide setup (on/off)\">\n",
    "</form>'''))"
   ]
  },
  {
   "cell_type": "markdown",
   "metadata": {
    "slideshow": {
     "slide_type": "slide"
    }
   },
   "source": [
    "  "
   ]
  },
  {
   "cell_type": "markdown",
   "metadata": {
    "slideshow": {
     "slide_type": "slide"
    }
   },
   "source": [
    "# Spline modelling electron insert factors using routine measurements\n",
    "\n",
    " * **Simon Biggs**\n",
    " * Matthew Sobolewski\n",
    " * Rebecca Murry\n",
    " * John Kenny"
   ]
  },
  {
   "cell_type": "markdown",
   "metadata": {
    "slideshow": {
     "slide_type": "slide"
    }
   },
   "source": [
    "# Highlights\n",
    "\n",
    " * Interpolate between electron factors of irregular shapes\n",
    " * Interpolation between data many clinics already have\n",
    " * To an uncertainty that approaches that of measurement\n",
    " * With just eight measurements physicsits can predict to a 0.5% uncertainty"
   ]
  },
  {
   "cell_type": "markdown",
   "metadata": {
    "slideshow": {
     "slide_type": "slide"
    }
   },
   "source": [
    "# Introduction\n",
    "\n",
    " * Electron beams often used to treat skin tumours, head and neck cancers, and breast boosts\n",
    " * Dose delivered has dependence on patient specific field shape\n",
    "   * Can be accounted for by an insert factor\n",
    " * Many centres directly measure this factor*\n",
    "\n",
    "*[AAPM TG 71](http://dx.doi.org/10.1118/1.4864244)"
   ]
  },
  {
   "cell_type": "markdown",
   "metadata": {
    "slideshow": {
     "slide_type": "slide"
    }
   },
   "source": [
    "# Introduction cont.\n",
    "\n",
    " * Accurate modelling of this factor needs to take into account the following contributions to the insert factor:\n",
    "   * Lateral scatter to $d_{max}$\n",
    "   * Bremmstrahlung produced in the insert material (1-2%)*\n",
    "   * Scatter off the internal surface of the insert (1-2%)*\n",
    "   \n",
    "*[Faddegon, Villarreal-Barajas. Med Phys 2005.](http://dx.doi.org/10.1118/1.2068947)"
   ]
  },
  {
   "cell_type": "markdown",
   "metadata": {
    "slideshow": {
     "slide_type": "slide"
    }
   },
   "source": [
    "# Introduction cont.\n",
    "\n",
    "* The geometry of the shape can be used to parameterise the insert factor\n",
    "  * Smallest dimension (width) can parameterise lateral scatter\n",
    "  * The inverse of area can parameterise bremmstrahlung produced in the insert material\n",
    "  * The perimeter can parameterise the scatter off the internal surface of the insert"
   ]
  },
  {
   "cell_type": "markdown",
   "metadata": {
    "slideshow": {
     "slide_type": "slide"
    }
   },
   "source": [
    "# Overview"
   ]
  },
  {
   "cell_type": "code",
   "execution_count": null,
   "metadata": {
    "collapsed": false
   },
   "outputs": [],
   "source": [
    "display(Image(filename=\"flow_diagram.png\"))"
   ]
  },
  {
   "cell_type": "code",
   "execution_count": null,
   "metadata": {
    "collapsed": true,
    "slideshow": {
     "slide_type": "skip"
    }
   },
   "outputs": [],
   "source": [
    "with open(\"model_cache/12MeV_10app_100ssd.yml\", 'r') as file:\n",
    "    cutout_data = yaml.load(file)\n",
    "    \n",
    "label = np.sort([key for key in cutout_data])"
   ]
  },
  {
   "cell_type": "markdown",
   "metadata": {
    "slideshow": {
     "slide_type": "slide"
    }
   },
   "source": [
    "# A series of measured inserts"
   ]
  },
  {
   "cell_type": "code",
   "execution_count": null,
   "metadata": {
    "collapsed": false,
    "scrolled": false,
    "slideshow": {
     "slide_type": "-"
    }
   },
   "outputs": [],
   "source": [
    "select_for_initial_display = widgets.Select(\n",
    "    options=list(label),\n",
    "    height='23em',\n",
    "    width='12em'\n",
    ")\n",
    "\n",
    "display(select_for_initial_display)\n",
    "\n",
    "def initial_display_on_change():\n",
    "    clear_output(wait=True)\n",
    "    key = select_for_initial_display.value\n",
    "    \n",
    "    cutout = shapely_cutout(\n",
    "        cutout_data[key]['XCoords'],\n",
    "        cutout_data[key]['YCoords']\n",
    "    )\n",
    "    \n",
    "    fig = plt.figure(figsize=(7,7))\n",
    "    ax = fig.add_subplot(111)\n",
    "\n",
    "    patch = des.PolygonPatch(\n",
    "        cutout,\n",
    "        fc=np.random.uniform(size=3),\n",
    "        alpha=0.5)\n",
    "    ax.add_patch(patch)\n",
    "\n",
    "    ax.set_xlim([-6,6])\n",
    "    ax.set_ylim([-6,6])\n",
    "    ax.set_xlabel('x (cm at 100 SSD)')\n",
    "    ax.set_ylabel('y (cm at 100 SSD)')\n",
    "    plt.grid(True)\n",
    "    plt.show(fig)\n",
    "    display(Markdown(\"Measured insert factor = {}\".format(cutout_data[key]['factor'])))\n",
    "    \n",
    "initial_display_on_change()\n",
    "select_for_initial_display.on_trait_change(initial_display_on_change, 'value')"
   ]
  },
  {
   "cell_type": "markdown",
   "metadata": {
    "slideshow": {
     "slide_type": "slide"
    }
   },
   "source": [
    "# Calculating the width"
   ]
  },
  {
   "cell_type": "code",
   "execution_count": null,
   "metadata": {
    "collapsed": false,
    "scrolled": false
   },
   "outputs": [],
   "source": [
    "select_for_show_width = widgets.Select(\n",
    "    options=list(label),\n",
    "    height='23em',\n",
    "    width='12em'\n",
    ")\n",
    "\n",
    "display(select_for_show_width)\n",
    "\n",
    "def show_width_on_change():\n",
    "    clear_output(wait=True)\n",
    "    key = select_for_show_width.value\n",
    "    \n",
    "    cutout = shapely_cutout(\n",
    "        cutout_data[key]['XCoords'],\n",
    "        cutout_data[key]['YCoords']\n",
    "    )\n",
    "    \n",
    "    fig = plt.figure(figsize=(7,7))\n",
    "    ax = fig.add_subplot(111)\n",
    "\n",
    "    patch = des.PolygonPatch(\n",
    "        cutout,\n",
    "        fc=np.random.uniform(size=3),\n",
    "        alpha=0.5)\n",
    "    ax.add_patch(patch)\n",
    "    \n",
    "    poi = cutout_data[key]['poi']\n",
    "    plt.scatter(*poi)\n",
    "    \n",
    "    width = cutout_data[key]['width']\n",
    "    circle = geo.Point(*poi).buffer(width/2)\n",
    "    \n",
    "    patch = des.PolygonPatch(\n",
    "        circle,\n",
    "        fc=np.random.uniform(size=3),\n",
    "        alpha=0.5)\n",
    "    ax.add_patch(patch)\n",
    "    \n",
    "    ax.set_xlim([-6,6])\n",
    "    ax.set_ylim([-6,6])\n",
    "    ax.set_xlabel('x (cm at 100 SSD)')\n",
    "    ax.set_ylabel('y (cm at 100 SSD)')\n",
    "    plt.grid(True)\n",
    "    plt.show(fig)\n",
    "    display(Markdown(\n",
    "            \"\"\"Largest fully encompassed circle has diameter of:\n",
    "            \n",
    " > {0:.1f} cm at 100 SSD\"\"\".format(\n",
    "                cutout_data[key]['width'])))\n",
    "    \n",
    "show_width_on_change()\n",
    "select_for_show_width.on_trait_change(show_width_on_change, 'value')"
   ]
  },
  {
   "cell_type": "markdown",
   "metadata": {
    "slideshow": {
     "slide_type": "slide"
    }
   },
   "source": [
    "# Determining the equivalent ellipse"
   ]
  },
  {
   "cell_type": "code",
   "execution_count": null,
   "metadata": {
    "collapsed": false
   },
   "outputs": [],
   "source": [
    "select_for_show_ellipse = widgets.Select(\n",
    "    options=list(label),\n",
    "    height='23em',\n",
    "    width='12em'\n",
    ")\n",
    "\n",
    "display(select_for_show_ellipse)\n",
    "\n",
    "def show_ellipse_on_change():\n",
    "    clear_output(wait=True)\n",
    "    key = select_for_show_ellipse.value\n",
    "    \n",
    "    cutout = shapely_cutout(\n",
    "        cutout_data[key]['XCoords'],\n",
    "        cutout_data[key]['YCoords']\n",
    "    )\n",
    "    \n",
    "    fig = plt.figure(figsize=(7,7))\n",
    "    ax = fig.add_subplot(111)\n",
    "\n",
    "    patch = des.PolygonPatch(\n",
    "        cutout,\n",
    "        fc=np.random.uniform(size=3),\n",
    "        alpha=0.5)\n",
    "    ax.add_patch(patch)\n",
    "    \n",
    "    mid = cutout_data[key]['mid']\n",
    "    angle = cutout_data[key]['angle']\n",
    "    \n",
    "    width = cutout_data[key]['width']\n",
    "    length = cutout_data[key]['length']\n",
    "    ellipse = shapely_ellipse([\n",
    "            mid[0], mid[1],\n",
    "            width, length,\n",
    "            angle\n",
    "        ])\n",
    "    \n",
    "    patch = des.PolygonPatch(\n",
    "        ellipse,\n",
    "        fc=np.random.uniform(size=3),\n",
    "        alpha=0.5)\n",
    "    ax.add_patch(patch)\n",
    "    \n",
    "    ax.set_xlim([-6,6])\n",
    "    ax.set_ylim([-6,6])\n",
    "    ax.set_xlabel('x (cm at 100 SSD)')\n",
    "    ax.set_ylabel('y (cm at 100 SSD)')\n",
    "    plt.grid(True)\n",
    "    plt.show(fig)\n",
    "    display(Markdown(\n",
    "            \"\"\"The ellipse with equal area has a length of:\n",
    "            \n",
    " > {0:.1f} cm at 100 SSD\"\"\".format(length)))\n",
    "    \n",
    "show_ellipse_on_change()\n",
    "select_for_show_ellipse.on_trait_change(show_ellipse_on_change, 'value')"
   ]
  },
  {
   "cell_type": "markdown",
   "metadata": {
    "slideshow": {
     "slide_type": "slide"
    }
   },
   "source": [
    "# Producing the spline"
   ]
  },
  {
   "cell_type": "code",
   "execution_count": null,
   "metadata": {
    "collapsed": false,
    "slideshow": {
     "slide_type": "skip"
    }
   },
   "outputs": [],
   "source": [
    "def display_spline(width, length, factor):\n",
    "    perimeter = (\n",
    "        np.pi / 2 * \n",
    "        (3*(width + length) - \n",
    "         np.sqrt((3*width + length)*(3*length + width))))\n",
    "    area = np.pi / 4 * width * length\n",
    "    eqPonA = perimeter / area\n",
    "    \n",
    "    model = create_model(width, eqPonA, factor)\n",
    "    \n",
    "    fig, (ax1, ax2) = plt.subplots(2, sharex=True, figsize=(7, 2*(7/1.618)))\n",
    "\n",
    "    fig.subplots_adjust(right=0.80)\n",
    "    cbar_ax = fig.add_axes([0.85, 0.125, 0.04, 0.775])\n",
    "    \n",
    "    x = np.arange(\n",
    "        np.floor(np.min(width)) - 1,\n",
    "        np.ceil(np.max(width)), 0.1)\n",
    "    y = np.arange(\n",
    "        np.floor(np.min(eqPonA)*10)/10 - 0.2,\n",
    "        np.ceil(np.max(eqPonA)*10)/10 + 0.1, 0.02)\n",
    "\n",
    "    xx, yy = np.meshgrid(x, y)\n",
    "\n",
    "    zz = model(xx, yy)\n",
    "    give_contour = fit_give(xx, yy, width, eqPonA, factor, kx=2, ky=1)\n",
    "\n",
    "    maximum_eqPonA = to_eqPonA(xx, xx)\n",
    "\n",
    "    mesh_max_area = ((10 * np.sqrt(2) - xx) * xx + (xx/np.sqrt(2))**2)\n",
    "    mesh_max_length = 4 * mesh_max_area / (np.pi * xx)\n",
    "\n",
    "    minimum_rqPonA = to_eqPonA(xx, mesh_max_length)\n",
    "\n",
    "    full_colour = give_contour < 0.5\n",
    "\n",
    "    full_colour_zz = zz.copy()\n",
    "    full_colour_zz[~full_colour] = np.nan\n",
    "    \n",
    "    vmin = 0.92\n",
    "    vmax = 1.015\n",
    "\n",
    "    circle_bound_width = np.linspace(2, 10)\n",
    "    circle_bound_eqPonA = to_eqPonA(circle_bound_width, circle_bound_width)\n",
    "\n",
    "    max_eqPonA_width = np.linspace(2, 10)\n",
    "    max_area = (\n",
    "        (10 * np.sqrt(2) - max_eqPonA_width) * \n",
    "        max_eqPonA_width + (max_eqPonA_width/np.sqrt(2))**2)\n",
    "    max_length = 4 * max_area / (np.pi * max_eqPonA_width)\n",
    "    max_eqPonA = to_eqPonA(max_eqPonA_width, max_length)\n",
    "\n",
    "    ax1.contourf(\n",
    "        xx, yy, full_colour_zz, 40, alpha=1, \n",
    "        cmap=green_cm, vmin=vmin, vmax=vmax)\n",
    "    ax1.contour(\n",
    "        xx, yy, full_colour_zz, 40, alpha=1, \n",
    "        cmap=green_cm, vmin=vmin, vmax=vmax)\n",
    "\n",
    "    norm = Normalize(vmin=vmin, vmax=vmax)\n",
    "\n",
    "    cb = ColorbarBase(\n",
    "        cbar_ax, cmap=green_cm, alpha=1,\n",
    "        norm=norm, label=r'Insert factor')\n",
    "\n",
    "    ax1.scatter(\n",
    "        width, eqPonA, s=150, lw=2,\n",
    "        c=factor, cmap=green_cm, \n",
    "        vmin=vmin, vmax=vmax,\n",
    "        zorder=100)\n",
    "\n",
    "    ax1.scatter(\n",
    "        [-1]*3, [-1]*3, s=150, lw=2,\n",
    "        c=[green_cm(0.2), green_cm(0.5), green_cm(0.8)],\n",
    "        zorder=100, \n",
    "        label='Measured 12 MeV data')\n",
    "\n",
    "    ax1.contour(xx, yy, give_contour, levels=[0.5], colors='k')\n",
    "    ax1.plot(3, 0.4, 'k-', label='Deformability boundary')\n",
    "\n",
    "    ax1.plot(\n",
    "        circle_bound_width, circle_bound_eqPonA, \n",
    "        'k', lw=3, label='Circle bound', zorder=99)\n",
    "    ax1.plot(\n",
    "        max_eqPonA_width, max_eqPonA, 'k--', \n",
    "        lw=3, label='Approx. applicator bound', zorder=99)\n",
    "\n",
    "    ax1.set_xlabel('Width (cm)')\n",
    "    ax1.set_ylabel('Perimeter / Area (cm$^{-1}$)')\n",
    "    ax1.set_xlim([2.4, 9.8])\n",
    "    ax1.set_ylim([0.36, 1.4])\n",
    "\n",
    "    tk_all = ax1.get_xticklabels()\n",
    "    for tk in tk_all:\n",
    "        tk.set_visible(True)\n",
    "        \n",
    "        \n",
    "    x = np.arange(2.5, 10, 0.1)\n",
    "    y = np.arange(2.5, 18, 0.2)\n",
    "\n",
    "    mesh_width, mesh_length = np.meshgrid(x, y)\n",
    "\n",
    "    mesh_eqPonA = to_eqPonA(mesh_width, mesh_length)\n",
    "\n",
    "    width_length_zz = model(mesh_width, mesh_eqPonA)\n",
    "    give = fit_give(mesh_width, mesh_eqPonA, width, eqPonA, factor, kx=2, ky=1)\n",
    "\n",
    "\n",
    "    mesh_max_area = (\n",
    "        (10 * np.sqrt(2) - mesh_width) * \n",
    "        mesh_width + (mesh_width/np.sqrt(2))**2)\n",
    "    mesh_max_length = 4 * mesh_max_area / (np.pi * mesh_width)\n",
    "\n",
    "    full_colour = give < 0.5\n",
    "\n",
    "    full_colour_width_length_zz = width_length_zz.copy()\n",
    "    full_colour_width_length_zz[~full_colour] = np.nan\n",
    "\n",
    "    circle_bound_width = np.linspace(2, 11)\n",
    "\n",
    "    max_length_width = np.linspace(2, 11)\n",
    "    max_area = (\n",
    "        (10 * np.sqrt(2) - max_length_width) * \n",
    "        max_length_width + (max_length_width/np.sqrt(2))**2)\n",
    "    max_length = 4 * max_area / (np.pi * max_length_width)\n",
    "\n",
    "    c = ax2.contourf(mesh_width, mesh_length, full_colour_width_length_zz, 40, \n",
    "                     alpha=1, cmap=green_cm, vmin=vmin, vmax=vmax)\n",
    "    ax2.contour(mesh_width, mesh_length, full_colour_width_length_zz, 40, \n",
    "                     alpha=1, cmap=green_cm, vmin=vmin, vmax=vmax)\n",
    "\n",
    "    ax2.scatter(\n",
    "        width, length, s=150, lw=2,\n",
    "        c=factor, cmap=green_cm, \n",
    "        vmin=vmin, vmax=vmax,\n",
    "        zorder=3)\n",
    "\n",
    "    ax2.scatter(\n",
    "        [-1]*3, [-1]*3, s=150, lw=2,\n",
    "        c=[green_cm(0.2), green_cm(0.5), green_cm(0.8)],\n",
    "        zorder=3, \n",
    "        label='Measured 12 MeV data')\n",
    "\n",
    "    ax2.contour(mesh_width, mesh_length, give, levels=[0.5], colors='k')\n",
    "    ax2.plot(3, 0.4, 'k-', label='Deformability boundary')\n",
    "\n",
    "    ax2.plot(\n",
    "        circle_bound_width, circle_bound_width, \n",
    "        'k', lw=3, label='Circle bound', zorder=2)\n",
    "    ax2.plot(\n",
    "        max_length_width, max_length, \n",
    "        'k--', lw=3, label='Approx. applicator bound', zorder=2)\n",
    "\n",
    "    ax2.set_xlabel('Width (cm)')\n",
    "    ax2.set_ylabel('Length (cm)')\n",
    "    ax2.set_xlim([2.4, 9.8])\n",
    "    ax2.set_ylim([2, 14])\n",
    "\n",
    "    ax2.legend(loc='upper center', bbox_to_anchor=(0.5, -0.2),\n",
    "              fancybox=True, ncol=2)"
   ]
  },
  {
   "cell_type": "code",
   "execution_count": null,
   "metadata": {
    "collapsed": false,
    "scrolled": false
   },
   "outputs": [],
   "source": [
    "select_for_spline = widgets.SelectMultiple(\n",
    "    options=list(label),\n",
    "    height='23em',\n",
    "    width='12em',\n",
    "    value=(\n",
    "        'Simon #32 cutout', \n",
    "        'Simon 3cm circle',\n",
    "        'Simon 3x13cm oval',\n",
    "        'Simon 4cm circle',\n",
    "        'Simon 5cm circle',\n",
    "        'Simon 5x13cm oval',\n",
    "        'Simon 7cm circle',\n",
    "        'Simon 9cm circle'        \n",
    "    )\n",
    ")\n",
    "\n",
    "button_calculate_spline = widgets.Button(\n",
    "    description=\"Calculate\",\n",
    "    width='13em')\n",
    "\n",
    "button_default_spline = widgets.Button(\n",
    "    description=\"Default\",\n",
    "    width='13em')\n",
    "\n",
    "display(select_for_spline, button_calculate_spline, button_default_spline)\n",
    "\n",
    "def on_button_clicked_spline(b):\n",
    "    clear_output(wait=True)\n",
    "    \n",
    "    if len(select_for_spline.value) < 8:\n",
    "        raise Exception(\"Need at least 8 data points for spline\")\n",
    "    \n",
    "    width = np.array([\n",
    "            cutout_data[key]['width']\n",
    "            for key in select_for_spline.value\n",
    "        ])\n",
    "    length = np.array([\n",
    "            cutout_data[key]['length']\n",
    "            for key in select_for_spline.value\n",
    "        ])\n",
    "    factor = np.array([\n",
    "            cutout_data[key]['factor']\n",
    "            for key in select_for_spline.value\n",
    "        ])\n",
    "    \n",
    "    display_spline(width, length, factor)\n",
    "\n",
    "def default_button_spline(b):\n",
    "    select_for_spline.value = (\n",
    "        'Simon #32 cutout', \n",
    "        'Simon 3cm circle',\n",
    "        'Simon 3x13cm oval',\n",
    "        'Simon 4cm circle',\n",
    "        'Simon 5cm circle',\n",
    "        'Simon 5x13cm oval',\n",
    "        'Simon 7cm circle',\n",
    "        'Simon 9cm circle'        \n",
    "    )\n",
    "    \n",
    "    on_button_clicked_spline(0)\n",
    "    \n",
    "on_button_clicked_spline(0)\n",
    "button_calculate_spline.on_click(on_button_clicked_spline)\n",
    "button_default_spline.on_click(default_button_spline)"
   ]
  },
  {
   "cell_type": "markdown",
   "metadata": {
    "slideshow": {
     "slide_type": "slide"
    }
   },
   "source": [
    "# Where to measure for optimum coverage"
   ]
  },
  {
   "cell_type": "code",
   "execution_count": null,
   "metadata": {
    "collapsed": false,
    "scrolled": false
   },
   "outputs": [],
   "source": [
    "display(Image(filename=\"where_to_measure.png\"))"
   ]
  },
  {
   "cell_type": "markdown",
   "metadata": {
    "slideshow": {
     "slide_type": "skip"
    }
   },
   "source": [
    "# Determining valid prediction region"
   ]
  },
  {
   "cell_type": "markdown",
   "metadata": {
    "slideshow": {
     "slide_type": "skip"
    }
   },
   "source": [
    "# Display prediction difference"
   ]
  },
  {
   "cell_type": "markdown",
   "metadata": {
    "slideshow": {
     "slide_type": "slide"
    }
   },
   "source": [
    "# Example prediction differences"
   ]
  },
  {
   "cell_type": "code",
   "execution_count": null,
   "metadata": {
    "collapsed": false,
    "slideshow": {
     "slide_type": "skip"
    }
   },
   "outputs": [],
   "source": [
    "def colour(x, alpha=1):\n",
    "    result = list(green_cm(x))\n",
    "    result[3] = alpha\n",
    "    \n",
    "    return result\n",
    "\n",
    "def display_prediction_differences(label_model):\n",
    "    width = np.array([\n",
    "            cutout_data[key]['width']\n",
    "            for key in label_model\n",
    "        ])\n",
    "    length = np.array([\n",
    "            cutout_data[key]['length']\n",
    "            for key in label_model\n",
    "        ])\n",
    "    factor = np.array([\n",
    "            cutout_data[key]['factor']\n",
    "            for key in label_model\n",
    "        ])\n",
    "    \n",
    "    perimeter = (\n",
    "        np.pi / 2 * \n",
    "        (3*(width + length) - \n",
    "         np.sqrt((3*width + length)*(3*length + width))))\n",
    "    area = np.pi / 4 * width * length\n",
    "    eqPonA = perimeter / area\n",
    "    \n",
    "    model = create_model(width, eqPonA, factor)\n",
    "    \n",
    "    \n",
    "    label_not_modelled = np.setdiff1d(label, label_model)\n",
    "    \n",
    "    width_not_modelled = np.array([\n",
    "            cutout_data[key]['width']\n",
    "            for key in label_not_modelled\n",
    "        ])\n",
    "    length_not_modelled = np.array([\n",
    "            cutout_data[key]['length']\n",
    "            for key in label_not_modelled\n",
    "        ])\n",
    "    factor_not_modelled = np.array([\n",
    "            cutout_data[key]['factor']\n",
    "            for key in label_not_modelled\n",
    "        ])\n",
    "    \n",
    "    perimeter_not_modelled = (\n",
    "        np.pi / 2 * \n",
    "        (3*(width_not_modelled + length_not_modelled) - \n",
    "         np.sqrt((3*width_not_modelled + length_not_modelled)*(3*length_not_modelled + width_not_modelled))))\n",
    "    area_not_modelled = np.pi / 4 * width_not_modelled * length_not_modelled\n",
    "    eqPonA_not_modelled = perimeter_not_modelled / area_not_modelled\n",
    "    \n",
    "    give_points = fit_give(\n",
    "        width_not_modelled, eqPonA_not_modelled, width, eqPonA, factor, kx=2, ky=1)\n",
    "    valid_points = give_points < 0.5\n",
    "    \n",
    "    valid_predictions = model(\n",
    "        width_not_modelled[valid_points], eqPonA_not_modelled[valid_points])\n",
    "    prediction_differences = 100 * (\n",
    "        (factor_not_modelled[valid_points] - valid_predictions) / \n",
    "        factor_not_modelled[valid_points])\n",
    "\n",
    "    \n",
    "    vmin = 0.92\n",
    "    vmax = 1.015\n",
    "    \n",
    "    \n",
    "    \n",
    "    fig, ax2 = plt.subplots(1, sharex=True, figsize=(7, (7/1.618)))\n",
    "\n",
    "    fig.subplots_adjust(right=0.80)\n",
    "    cbar_ax = fig.add_axes([0.85, 0.125, 0.04, 0.775])        \n",
    "        \n",
    "    x = np.arange(2.5, 10, 0.1)\n",
    "    y = np.arange(2.5, 18, 0.2)\n",
    "\n",
    "    mesh_width, mesh_length = np.meshgrid(x, y)\n",
    "\n",
    "    mesh_eqPonA = to_eqPonA(mesh_width, mesh_length)\n",
    "\n",
    "    width_length_zz = model(mesh_width, mesh_eqPonA)\n",
    "    give = fit_give(mesh_width, mesh_eqPonA, width, eqPonA, factor, kx=2, ky=1)\n",
    "\n",
    "\n",
    "    mesh_max_area = (\n",
    "        (10 * np.sqrt(2) - mesh_width) * \n",
    "        mesh_width + (mesh_width/np.sqrt(2))**2)\n",
    "    mesh_max_length = 4 * mesh_max_area / (np.pi * mesh_width)\n",
    "\n",
    "    full_colour = give < 0.5\n",
    "\n",
    "    full_colour_width_length_zz = width_length_zz.copy()\n",
    "    full_colour_width_length_zz[~full_colour] = np.nan\n",
    "\n",
    "    circle_bound_width = np.linspace(2, 11)\n",
    "\n",
    "    max_length_width = np.linspace(2, 11)\n",
    "    max_area = (\n",
    "        (10 * np.sqrt(2) - max_length_width) * \n",
    "        max_length_width + (max_length_width/np.sqrt(2))**2)\n",
    "    max_length = 4 * max_area / (np.pi * max_length_width)\n",
    "\n",
    "    c = ax2.contourf(mesh_width, mesh_length, full_colour_width_length_zz, 40, \n",
    "                     alpha=1, cmap=green_cm, vmin=vmin, vmax=vmax)\n",
    "    ax2.contour(mesh_width, mesh_length, full_colour_width_length_zz, 40, \n",
    "                     alpha=1, cmap=green_cm, vmin=vmin, vmax=vmax)\n",
    "\n",
    "    ax2.scatter(\n",
    "        width, length, s=150, lw=2,\n",
    "        c=factor, cmap=green_cm, \n",
    "        vmin=vmin, vmax=vmax,\n",
    "        zorder=3)\n",
    "\n",
    "    ax2.scatter(\n",
    "        [-1]*3, [-1]*3, s=150, lw=2,\n",
    "        c=[green_cm(0.2), green_cm(0.5), green_cm(0.8)],\n",
    "        zorder=3, \n",
    "        label='Data used in model')\n",
    "    \n",
    "    \n",
    "    ax2.scatter(\n",
    "        width_not_modelled[valid_points], length_not_modelled[valid_points], \n",
    "        s=150, lw=2, edgecolor='blue',\n",
    "        c=factor_not_modelled[valid_points], cmap=green_cm, \n",
    "        vmin=vmin, vmax=vmax,\n",
    "        zorder=3)\n",
    "\n",
    "    ax2.scatter(\n",
    "        [-1]*3, [-1]*3, s=150, lw=2, edgecolor='blue',\n",
    "        c=[green_cm(0.2), green_cm(0.5), green_cm(0.8)],\n",
    "        zorder=3, \n",
    "        label='Test data within valid region')\n",
    "    \n",
    "    \n",
    "    ax2.scatter(\n",
    "        width_not_modelled[~valid_points], length_not_modelled[~valid_points], \n",
    "        s=150, lw=2, edgecolor='red',\n",
    "        c=factor_not_modelled[~valid_points], cmap=green_cm, \n",
    "        vmin=vmin, vmax=vmax,\n",
    "        zorder=3)\n",
    "\n",
    "    ax2.scatter(\n",
    "        [-1]*3, [-1]*3, s=150, lw=2, edgecolor='red',\n",
    "        c=[green_cm(0.2), green_cm(0.5), green_cm(0.8)],\n",
    "        zorder=3, \n",
    "        label='Test data outside valid region')\n",
    "    \n",
    "\n",
    "    ax2.contour(mesh_width, mesh_length, give, levels=[0.5], colors='k')\n",
    "    ax2.plot(3, 0.4, 'k-')\n",
    "\n",
    "    ax2.plot(\n",
    "        circle_bound_width, circle_bound_width, \n",
    "        'k', lw=3, zorder=2)\n",
    "    ax2.plot(\n",
    "        max_length_width, max_length, \n",
    "        'k--', lw=3, zorder=2)\n",
    "\n",
    "    ax2.set_xlabel('Width (cm)')\n",
    "    ax2.set_ylabel('Length (cm)')\n",
    "    ax2.set_xlim([2.4, 9.8])\n",
    "    ax2.set_ylim([2, 14])\n",
    "\n",
    "    legend = ax2.legend(fancybox=True, loc='lower right')\n",
    "    legend.get_frame().set_facecolor([1,1,1,0.5])\n",
    "    \n",
    "    norm = Normalize(vmin=vmin, vmax=vmax)\n",
    "\n",
    "    cb = ColorbarBase(\n",
    "        cbar_ax, cmap=green_cm, alpha=1,\n",
    "        norm=norm, label=r'Insert factor')\n",
    "    \n",
    "    plt.figure(figsize=(7, (7/1.618)))\n",
    "\n",
    "    bins = np.arange(-2.0, 2.01, 1/3)\n",
    "    dbins = bins[1] - bins[0]\n",
    "    binsTrans = bins - dbins/2\n",
    "\n",
    "    binsTrans = binsTrans.reshape(-1,1)\n",
    "    binNum = np.argmin(abs(binsTrans - prediction_differences),0)\n",
    "\n",
    "    representative_height = np.zeros(len(binNum))\n",
    "\n",
    "    for i in range(len(bins)):\n",
    "        binRef = (binNum == i)\n",
    "        representative_height[binRef] = np.arange(sum(binRef)) + 1\n",
    "    \n",
    "    plt.hist(\n",
    "        prediction_differences, bins, \n",
    "        fc=colour(0.6), lw=1)\n",
    "    plt.scatter(\n",
    "        prediction_differences, \n",
    "        representative_height, zorder=2, \n",
    "        s=80, lw=1, edgecolor='black', color=colour(0.4))\n",
    "    \n",
    "    plt.xlim([-2,2])\n",
    "    \n",
    "    plt.xlabel(\n",
    "        '% Prediction Difference '\n",
    "        '[100 $\\\\times$ (meas - pred)/meas]')\n",
    "    plt.ylabel('Frequency')"
   ]
  },
  {
   "cell_type": "code",
   "execution_count": null,
   "metadata": {
    "collapsed": false,
    "scrolled": false
   },
   "outputs": [],
   "source": [
    "select_for_prediction_diffs = widgets.SelectMultiple(\n",
    "    options=list(label),\n",
    "    height='23em',\n",
    "    width='12em',\n",
    "    value=(\n",
    "        'Simon #32 cutout', \n",
    "        'Simon 3cm circle',\n",
    "        'Simon 3x13cm oval',\n",
    "        'Simon 4cm circle',\n",
    "        'Simon 5cm circle',\n",
    "        'Simon 5x13cm oval',\n",
    "        'Simon 7cm circle',\n",
    "        'Simon 9cm circle'        \n",
    "    )\n",
    ")\n",
    "\n",
    "button_calculate_prediction_diffs = widgets.Button(\n",
    "    description=\"Calculate\",\n",
    "    width='13em')\n",
    "\n",
    "button_default_prediction_diffs = widgets.Button(\n",
    "    description=\"Default\",\n",
    "    width='13em')\n",
    "\n",
    "display(select_for_prediction_diffs, button_calculate_prediction_diffs, button_default_prediction_diffs)\n",
    "\n",
    "def on_button_clicked_prediction_diffs(b):\n",
    "    clear_output(wait=True)\n",
    "    label_model = select_for_prediction_diffs.value\n",
    "    \n",
    "    if len(label_model) < 8:\n",
    "        raise Exception(\"Need at least 8 data points for spline\")    \n",
    "    \n",
    "    display_prediction_differences(label_model)\n",
    "\n",
    "def default_button_prediction_diffs(b):\n",
    "    select_for_prediction_diffs.value = (\n",
    "        'Simon #32 cutout', \n",
    "        'Simon 3cm circle',\n",
    "        'Simon 3x13cm oval',\n",
    "        'Simon 4cm circle',\n",
    "        'Simon 5cm circle',\n",
    "        'Simon 5x13cm oval',\n",
    "        'Simon 7cm circle',\n",
    "        'Simon 9cm circle'        \n",
    "    )\n",
    "    \n",
    "    on_button_clicked_prediction_diffs(0)\n",
    "    \n",
    "on_button_clicked_prediction_diffs(0)\n",
    "button_calculate_prediction_diffs.on_click(on_button_clicked_prediction_diffs)\n",
    "button_default_prediction_diffs.on_click(default_button_prediction_diffs)"
   ]
  },
  {
   "cell_type": "markdown",
   "metadata": {
    "slideshow": {
     "slide_type": "slide"
    }
   },
   "source": [
    "# Prediction differences with one point removed at a time"
   ]
  },
  {
   "cell_type": "code",
   "execution_count": null,
   "metadata": {
    "collapsed": false
   },
   "outputs": [],
   "source": [
    "display(Image(filename=\"prediction_difference_histogram.png\"))"
   ]
  },
  {
   "cell_type": "markdown",
   "metadata": {
    "slideshow": {
     "slide_type": "slide"
    }
   },
   "source": [
    "# Estimated expected uncertainty"
   ]
  },
  {
   "cell_type": "code",
   "execution_count": null,
   "metadata": {
    "collapsed": false,
    "scrolled": false
   },
   "outputs": [],
   "source": [
    "display(Image(filename=\"change_with_number_measurements.png\"))"
   ]
  },
  {
   "cell_type": "markdown",
   "metadata": {
    "slideshow": {
     "slide_type": "slide"
    }
   },
   "source": [
    "# Overview of results\n",
    "\n",
    " * 12 MeV validation data had a predicition uncertainty of 0.4%\n",
    " * For 6, 9, 15, and 18 MeV the maximum recorded deviations were 0.8%, 0.8%, 0.9%, and 1.0%\n",
    " * One may expect an approximate uncertainty of 0.5% when as little as 8 data points are used\n",
    " * In 10$^6$ predictions no random subset of 8 datapoints produced a prediction difference greater than 2%"
   ]
  },
  {
   "cell_type": "markdown",
   "metadata": {
    "slideshow": {
     "slide_type": "slide"
    }
   },
   "source": [
    "# Conclusion\n",
    "\n",
    " * A method that is easy to impliment\n",
    " * Uncertainty approaching measurement\n",
    " * Builds upon the vast amount of data already available\n",
    " * The level of accuracy combined with the ease with which this model can be generated demonstrates its suitability for clinical use\n",
    " * DOI of paper: [10.1016/j.ejmp.2015.11.002](http://dx.doi.org/10.1016/j.ejmp.2015.11.002)\n",
    " * Pre-print available at: [simonbiggs.net/paper1](http://simonbiggs.net/paper1)\n",
    " * Code available at: [github.com/SimonBiggs/electronfactors](https://github.com/SimonBiggs/electronfactors)"
   ]
  },
  {
   "cell_type": "code",
   "execution_count": null,
   "metadata": {
    "collapsed": true
   },
   "outputs": [],
   "source": []
  }
 ],
 "metadata": {
  "celltoolbar": "Slideshow",
  "kernelspec": {
   "display_name": "Python 3",
   "language": "python",
   "name": "python3"
  },
  "language_info": {
   "codemirror_mode": {
    "name": "ipython",
    "version": 3
   },
   "file_extension": ".py",
   "mimetype": "text/x-python",
   "name": "python",
   "nbconvert_exporter": "python",
   "pygments_lexer": "ipython3",
   "version": "3.5.0"
  }
 },
 "nbformat": 4,
 "nbformat_minor": 0
}
