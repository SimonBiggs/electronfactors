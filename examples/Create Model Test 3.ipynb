{
 "cells": [
  {
   "cell_type": "code",
   "execution_count": 1,
   "metadata": {
    "collapsed": false
   },
   "outputs": [],
   "source": [
    "import yaml\n",
    "import numpy as np\n",
    "\n",
    "import matplotlib.pyplot as plt\n",
    "%matplotlib inline\n",
    "\n",
    "import sys\n",
    "sys.path.append(\"../\")\n",
    "\n",
    "from electronfactors.inputs.convert_merge_guess import convert_merge_guess\n",
    "from electronfactors.model.initialise import create_cache\n",
    "\n",
    "from electronfactors.model.iteration import iteration\n",
    "\n",
    "from electronfactors.model.display_cutouts import display_cutouts"
   ]
  },
  {
   "cell_type": "code",
   "execution_count": 2,
   "metadata": {
    "collapsed": true
   },
   "outputs": [],
   "source": [
    "convert_merge_guess()"
   ]
  },
  {
   "cell_type": "code",
   "execution_count": 3,
   "metadata": {
    "collapsed": false
   },
   "outputs": [],
   "source": [
    "create_cache(energy=12, applicator=10)"
   ]
  },
  {
   "cell_type": "code",
   "execution_count": null,
   "metadata": {
    "collapsed": false,
    "scrolled": false
   },
   "outputs": [],
   "source": [
    "iteration(energy=12, applicator=10, n=1)"
   ]
  },
  {
   "cell_type": "code",
   "execution_count": null,
   "metadata": {
    "collapsed": false
   },
   "outputs": [],
   "source": [
    "energy = 12\n",
    "applicator = 10\n",
    "ssd = 100\n",
    "\n",
    "cache_filepath = (\n",
    "    \"model_cache/\" +\n",
    "    str(energy) + \"MeV_\" +\n",
    "    str(applicator) + \"app_\" +\n",
    "    str(ssd) + \"ssd.yml\"\n",
    ")\n",
    "\n",
    "cache = dict()\n",
    "\n",
    "with open(cache_filepath, 'r') as file:\n",
    "    cache = yaml.load(file)\n",
    "\n",
    "factors = []\n",
    "label = [key for key in cache]"
   ]
  },
  {
   "cell_type": "code",
   "execution_count": null,
   "metadata": {
    "collapsed": true
   },
   "outputs": [],
   "source": [
    "factors.append([cache[key]['predicted_factor'] for key in label])\n",
    "i = 0"
   ]
  },
  {
   "cell_type": "code",
   "execution_count": null,
   "metadata": {
    "collapsed": true
   },
   "outputs": [],
   "source": [
    "iteration(energy=12, applicator=10, n=1)"
   ]
  },
  {
   "cell_type": "code",
   "execution_count": null,
   "metadata": {
    "collapsed": false
   },
   "outputs": [],
   "source": [
    "with open(cache_filepath, 'r') as file:\n",
    "    cache = yaml.load(file)\n",
    "    \n",
    "factors.append([cache[key]['predicted_factor'] for key in label])\n",
    "\n",
    "test_old = np.array(factors[i])\n",
    "test_new = np.array(factors[i+1])\n",
    "\n",
    "plt.plot(test_new - test_old)\n",
    "\n",
    "i += 1"
   ]
  },
  {
   "cell_type": "code",
   "execution_count": null,
   "metadata": {
    "collapsed": false
   },
   "outputs": [],
   "source": [
    "iteration(energy=12, applicator=10, n=1)\n",
    "\n",
    "with open(cache_filepath, 'r') as file:\n",
    "    cache = yaml.load(file)\n",
    "    \n",
    "factors.append([cache[key]['predicted_factor'] for key in label])\n",
    "\n",
    "test_old = np.array(factors[i])\n",
    "test_new = np.array(factors[i+1])\n",
    "\n",
    "plt.plot(test_new - test_old)\n",
    "\n",
    "i += 1"
   ]
  },
  {
   "cell_type": "code",
   "execution_count": null,
   "metadata": {
    "collapsed": false
   },
   "outputs": [],
   "source": [
    "iteration(energy=12, applicator=10, n=1)\n",
    "\n",
    "with open(cache_filepath, 'r') as file:\n",
    "    cache = yaml.load(file)\n",
    "    \n",
    "factors.append([cache[key]['predicted_factor'] for key in label])\n",
    "\n",
    "test_old = np.array(factors[i])\n",
    "test_new = np.array(factors[i+1])\n",
    "\n",
    "plt.plot(test_new - test_old)\n",
    "\n",
    "i += 1"
   ]
  },
  {
   "cell_type": "code",
   "execution_count": null,
   "metadata": {
    "collapsed": false
   },
   "outputs": [],
   "source": [
    "iteration(energy=12, applicator=10, n=1)\n",
    "\n",
    "with open(cache_filepath, 'r') as file:\n",
    "    cache = yaml.load(file)\n",
    "    \n",
    "factors.append([cache[key]['predicted_factor'] for key in label])\n",
    "\n",
    "test_old = np.array(factors[i])\n",
    "test_new = np.array(factors[i+1])\n",
    "\n",
    "plt.plot(test_new - test_old)\n",
    "\n",
    "i += 1"
   ]
  },
  {
   "cell_type": "code",
   "execution_count": null,
   "metadata": {
    "collapsed": false
   },
   "outputs": [],
   "source": [
    "iteration(energy=12, applicator=10, n=1)\n",
    "\n",
    "with open(cache_filepath, 'r') as file:\n",
    "    cache = yaml.load(file)\n",
    "    \n",
    "factors.append([cache[key]['predicted_factor'] for key in label])\n",
    "\n",
    "test_old = np.array(factors[i])\n",
    "test_new = np.array(factors[i+1])\n",
    "\n",
    "plt.plot(test_new - test_old)\n",
    "\n",
    "i += 1"
   ]
  },
  {
   "cell_type": "code",
   "execution_count": null,
   "metadata": {
    "collapsed": false
   },
   "outputs": [],
   "source": [
    "iteration(energy=12, applicator=10, n=1)\n",
    "\n",
    "with open(cache_filepath, 'r') as file:\n",
    "    cache = yaml.load(file)\n",
    "    \n",
    "factors.append([cache[key]['predicted_factor'] for key in label])\n",
    "\n",
    "test_old = np.array(factors[i])\n",
    "test_new = np.array(factors[i+1])\n",
    "\n",
    "plt.plot(test_new - test_old)\n",
    "\n",
    "i += 1"
   ]
  },
  {
   "cell_type": "code",
   "execution_count": null,
   "metadata": {
    "collapsed": false
   },
   "outputs": [],
   "source": [
    "iteration(energy=12, applicator=10, n=1)\n",
    "\n",
    "with open(cache_filepath, 'r') as file:\n",
    "    cache = yaml.load(file)\n",
    "    \n",
    "factors.append([cache[key]['predicted_factor'] for key in label])\n",
    "\n",
    "test_old = np.array(factors[i])\n",
    "test_new = np.array(factors[i+1])\n",
    "\n",
    "plt.plot(test_new - test_old)\n",
    "\n",
    "i += 1"
   ]
  },
  {
   "cell_type": "code",
   "execution_count": null,
   "metadata": {
    "collapsed": false
   },
   "outputs": [],
   "source": [
    "iteration(energy=12, applicator=10, n=1)\n",
    "\n",
    "with open(cache_filepath, 'r') as file:\n",
    "    cache = yaml.load(file)\n",
    "    \n",
    "factors.append([cache[key]['predicted_factor'] for key in label])\n",
    "\n",
    "test_old = np.array(factors[i])\n",
    "test_new = np.array(factors[i+1])\n",
    "\n",
    "plt.plot(test_new - test_old)\n",
    "\n",
    "i += 1"
   ]
  },
  {
   "cell_type": "code",
   "execution_count": null,
   "metadata": {
    "collapsed": false
   },
   "outputs": [],
   "source": [
    "iteration(energy=12, applicator=10, n=1)\n",
    "\n",
    "with open(cache_filepath, 'r') as file:\n",
    "    cache = yaml.load(file)\n",
    "    \n",
    "factors.append([cache[key]['predicted_factor'] for key in label])\n",
    "\n",
    "test_old = np.array(factors[i])\n",
    "test_new = np.array(factors[i+1])\n",
    "\n",
    "plt.plot(test_new - test_old)\n",
    "\n",
    "i += 1"
   ]
  },
  {
   "cell_type": "code",
   "execution_count": null,
   "metadata": {
    "collapsed": false
   },
   "outputs": [],
   "source": [
    "iteration(energy=12, applicator=10, n=1)\n",
    "\n",
    "with open(cache_filepath, 'r') as file:\n",
    "    cache = yaml.load(file)\n",
    "    \n",
    "factors.append([cache[key]['predicted_factor'] for key in label])\n",
    "\n",
    "test_old = np.array(factors[i])\n",
    "test_new = np.array(factors[i+1])\n",
    "\n",
    "plt.plot(test_new - test_old)\n",
    "\n",
    "i += 1"
   ]
  },
  {
   "cell_type": "code",
   "execution_count": null,
   "metadata": {
    "collapsed": false
   },
   "outputs": [],
   "source": [
    "iteration(energy=12, applicator=10, n=1)\n",
    "\n",
    "with open(cache_filepath, 'r') as file:\n",
    "    cache = yaml.load(file)\n",
    "    \n",
    "factors.append([cache[key]['predicted_factor'] for key in label])\n",
    "\n",
    "test_old = np.array(factors[i])\n",
    "test_new = np.array(factors[i+1])\n",
    "\n",
    "plt.plot(test_new - test_old)\n",
    "\n",
    "i += 1"
   ]
  },
  {
   "cell_type": "code",
   "execution_count": null,
   "metadata": {
    "collapsed": false
   },
   "outputs": [],
   "source": [
    "iteration(energy=12, applicator=10, n=1)\n",
    "\n",
    "with open(cache_filepath, 'r') as file:\n",
    "    cache = yaml.load(file)\n",
    "    \n",
    "factors.append([cache[key]['predicted_factor'] for key in label])\n",
    "\n",
    "test_old = np.array(factors[i])\n",
    "test_new = np.array(factors[i+1])\n",
    "\n",
    "plt.plot(test_new - test_old)\n",
    "\n",
    "i += 1"
   ]
  },
  {
   "cell_type": "code",
   "execution_count": null,
   "metadata": {
    "collapsed": true
   },
   "outputs": [],
   "source": []
  },
  {
   "cell_type": "code",
   "execution_count": null,
   "metadata": {
    "collapsed": true
   },
   "outputs": [],
   "source": []
  }
 ],
 "metadata": {
  "kernelspec": {
   "display_name": "Python 3",
   "language": "python",
   "name": "python3"
  },
  "language_info": {
   "codemirror_mode": {
    "name": "ipython",
    "version": 3
   },
   "file_extension": ".py",
   "mimetype": "text/x-python",
   "name": "python",
   "nbconvert_exporter": "python",
   "pygments_lexer": "ipython3",
   "version": "3.4.2"
  }
 },
 "nbformat": 4,
 "nbformat_minor": 0
}
