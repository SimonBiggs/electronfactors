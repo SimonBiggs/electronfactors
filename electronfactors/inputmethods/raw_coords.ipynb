{
 "cells": [
  {
   "cell_type": "code",
   "execution_count": 22,
   "metadata": {
    "collapsed": true
   },
   "outputs": [],
   "source": [
    "import pandas as pd\n",
    "import numpy as np\n",
    "import yaml"
   ]
  },
  {
   "cell_type": "code",
   "execution_count": 23,
   "metadata": {
    "collapsed": false
   },
   "outputs": [],
   "source": [
    "XCoordsData = pd.read_csv(\"../../user_input/DataImport/RawCoordsImport/XCoords.csv\")\n",
    "YCoordsData = pd.read_csv(\"../../user_input/DataImport/RawCoordsImport/YCoords.csv\")\n",
    "metadata = pd.read_csv(\"../../user_input/DataImport/RawCoordsImport/metadata.csv\")"
   ]
  },
  {
   "cell_type": "code",
   "execution_count": 28,
   "metadata": {
    "collapsed": false
   },
   "outputs": [],
   "source": [
    "data2export = dict()\n",
    "\n",
    "for i, index in enumerate(metadata['index'].values):\n",
    "    \n",
    "    data2export[index] = dict()\n",
    "    \n",
    "    numCoords = sum(~np.isnan(XCoordsData[index].values))\n",
    "    \n",
    "    XCoords = [0,] * numCoords\n",
    "    YCoords = [0,] * numCoords\n",
    "    \n",
    "    for j in range(numCoords):\n",
    "        XCoords[j] = float(round(XCoordsData[index].values[j],2))\n",
    "        YCoords[j] = float(round(YCoordsData[index].values[j],2))\n",
    "    \n",
    "    data2export[index]['XCoords'] = XCoords\n",
    "    data2export[index]['YCoords'] = YCoords\n",
    "    \n",
    "    data2export[index]['energy'] = float(metadata['energy'].values[i])\n",
    "    data2export[index]['applicator'] = float(metadata['applicator'].values[i])\n",
    "    data2export[index]['ssd'] = float(metadata['ssd'].values[i])\n",
    "    data2export[index]['factor'] = float(metadata['factor'].values[i])"
   ]
  },
  {
   "cell_type": "code",
   "execution_count": 29,
   "metadata": {
    "collapsed": true
   },
   "outputs": [],
   "source": [
    "with open('RawCoords.yml', 'w') as outfile:\n",
    "    outfile.write( yaml.dump(data2export, default_flow_style=False) )"
   ]
  }
 ],
 "metadata": {
  "kernelspec": {
   "display_name": "Python 3",
   "language": "python",
   "name": "python3"
  },
  "language_info": {
   "codemirror_mode": {
    "name": "ipython",
    "version": 3
   },
   "file_extension": ".py",
   "mimetype": "text/x-python",
   "name": "python",
   "nbconvert_exporter": "python",
   "pygments_lexer": "ipython3",
   "version": "3.4.0"
  }
 },
 "nbformat": 4,
 "nbformat_minor": 0
}
