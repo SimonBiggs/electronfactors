{
 "cells": [
  {
   "cell_type": "code",
   "execution_count": 42,
   "metadata": {
    "collapsed": false
   },
   "outputs": [],
   "source": [
    "import numpy as np\n",
    "from bokeh.plotting import figure, show\n",
    "from bokeh.io import output_notebook, output_file, vplot\n",
    "from bokeh.models import Range1d, CrosshairTool\n",
    "\n",
    "import matplotlib.pyplot as plt\n",
    "%matplotlib inline\n",
    "\n",
    "import sys\n",
    "sys.path.append(\"../\")\n",
    "\n",
    "from electronfactors.reports.interactive import *\n",
    "from electronfactors.model.utilities import *\n",
    "from electronfactors.visuals.histogram import create_histogram\n",
    "\n",
    "from electronfactors.visuals.utilities import create_green_cm"
   ]
  },
  {
   "cell_type": "code",
   "execution_count": 2,
   "metadata": {
    "collapsed": true
   },
   "outputs": [],
   "source": [
    "green_cm = create_green_cm()"
   ]
  },
  {
   "cell_type": "code",
   "execution_count": 3,
   "metadata": {
    "collapsed": false
   },
   "outputs": [],
   "source": [
    "output_file('electronfactors.html')"
   ]
  },
  {
   "cell_type": "code",
   "execution_count": 4,
   "metadata": {
    "collapsed": false
   },
   "outputs": [],
   "source": [
    "# output_notebook()"
   ]
  },
  {
   "cell_type": "code",
   "execution_count": 5,
   "metadata": {
    "collapsed": true
   },
   "outputs": [],
   "source": [
    "energy = 9\n",
    "applicator = 10\n",
    "width, length, eqPonA, factor, label = pull_data(\n",
    "    energy=energy, applicator=applicator, return_label=True)"
   ]
  },
  {
   "cell_type": "code",
   "execution_count": 6,
   "metadata": {
    "collapsed": true
   },
   "outputs": [],
   "source": [
    "model = create_model(width, eqPonA, factor)\n",
    "model_value = model(width, eqPonA)\n",
    "residual = factor - model_value\n",
    "pred_diff = calculate_percent_prediction_differences(width, eqPonA, factor, keep_nans=True)"
   ]
  },
  {
   "cell_type": "code",
   "execution_count": 7,
   "metadata": {
    "collapsed": false
   },
   "outputs": [
    {
     "data": {
      "image/png": "[encoded data removed]",
      "text/plain": [
       "<matplotlib.figure.Figure at 0x98f8ac8>"
      ]
     },
     "metadata": {},
     "output_type": "display_data"
    }
   ],
   "source": [
    "bins=np.arange(-1.0, 1+0.5, 0.5)\n",
    "\n",
    "pc_residual = 100 * (factor - model_value) / factor\n",
    "hist_height = create_histogram(pc_residual, bins=bins)"
   ]
  },
  {
   "cell_type": "code",
   "execution_count": 8,
   "metadata": {
    "collapsed": true
   },
   "outputs": [],
   "source": [
    "transformed_mesh = dict()\n",
    "result = create_transformed_plot_mesh(width, length, factor)\n",
    "reference = ~np.isnan(np.ravel(result[2]))\n",
    "transformed_mesh['width'] = np.ravel(result[0])[reference]\n",
    "transformed_mesh['length'] = np.ravel(result[1])[reference]\n",
    "transformed_mesh['factor'] = np.ravel(result[2])[reference]\n",
    "transformed_mesh['eqPonA'] = to_eqPonA(\n",
    "    transformed_mesh['width'], transformed_mesh['length'])\n",
    "\n",
    "native_mesh = dict()\n",
    "result = create_native_plot_mesh(width, eqPonA, factor)\n",
    "reference = ~np.isnan(np.ravel(result[2]))\n",
    "native_mesh['width'] = np.ravel(result[0])[reference]\n",
    "native_mesh['eqPonA'] = np.ravel(result[1])[reference]\n",
    "native_mesh['factor'] = np.ravel(result[2])[reference]\n",
    "native_mesh['length'] = to_length(\n",
    "    native_mesh['width'], native_mesh['eqPonA'])"
   ]
  },
  {
   "cell_type": "code",
   "execution_count": 9,
   "metadata": {
    "collapsed": false
   },
   "outputs": [
    {
     "data": {
      "text/plain": [
       "731"
      ]
     },
     "execution_count": 9,
     "metadata": {},
     "output_type": "execute_result"
    }
   ],
   "source": [
    "np.sum(reference)"
   ]
  },
  {
   "cell_type": "code",
   "execution_count": 10,
   "metadata": {
    "collapsed": true
   },
   "outputs": [],
   "source": [
    "from matplotlib import colors"
   ]
  },
  {
   "cell_type": "code",
   "execution_count": 11,
   "metadata": {
    "collapsed": false
   },
   "outputs": [],
   "source": [
    "all_factor = np.hstack([transformed_mesh['factor'], native_mesh['factor'], factor])\n",
    "\n",
    "vmin = np.nanmin(all_factor)\n",
    "vmax = np.nanmax(all_factor)\n",
    "\n",
    "def find_colour(factor):\n",
    "    colour_reference = (factor - vmin) / (vmax - vmin)\n",
    "    rgb = green_cm(colour_reference)\n",
    "    rgb = rgb[:, 0:3]\n",
    "    colour = [colors.rgb2hex(tuple(item)) for item in rgb]\n",
    "    \n",
    "    return colour"
   ]
  },
  {
   "cell_type": "code",
   "execution_count": 12,
   "metadata": {
    "collapsed": false
   },
   "outputs": [
    {
     "data": {
      "text/plain": [
       "0.95132253363155472"
      ]
     },
     "execution_count": 12,
     "metadata": {},
     "output_type": "execute_result"
    }
   ],
   "source": [
    "vmin"
   ]
  },
  {
   "cell_type": "code",
   "execution_count": 13,
   "metadata": {
    "collapsed": false
   },
   "outputs": [
    {
     "data": {
      "text/plain": [
       "['#d2e21b',\n",
       " '#472d7b',\n",
       " '#69cd5b',\n",
       " '#29798e',\n",
       " '#bade28',\n",
       " '#26828e',\n",
       " '#1fa188',\n",
       " '#b0dd2f',\n",
       " '#bade28',\n",
       " '#2eb37c',\n",
       " '#67cc5c',\n",
       " '#453581',\n",
       " '#84d44b',\n",
       " '#fde725',\n",
       " '#20938c',\n",
       " '#42be71']"
      ]
     },
     "execution_count": 13,
     "metadata": {},
     "output_type": "execute_result"
    }
   ],
   "source": [
    "colour = find_colour(factor)\n",
    "colour"
   ]
  },
  {
   "cell_type": "code",
   "execution_count": 14,
   "metadata": {
    "collapsed": true
   },
   "outputs": [],
   "source": [
    "from bokeh.models import ColumnDataSource\n",
    "from bokeh.models.widgets import DataTable, DateFormatter, TableColumn\n",
    "from bokeh.plotting import figure, gridplot"
   ]
  },
  {
   "cell_type": "code",
   "execution_count": 15,
   "metadata": {
    "collapsed": false
   },
   "outputs": [],
   "source": [
    "data = dict(\n",
    "    width=width,\n",
    "    length=length,\n",
    "    eqPonA=np.around(eqPonA, decimals=3),\n",
    "    factor=np.around(factor, decimals=3),\n",
    "    model_value=np.around(model_value, decimals=3),\n",
    "    pc_residual=np.around(pc_residual, decimals=1),\n",
    "    pred_diff=np.around(pred_diff, decimals=1),\n",
    "    colour=colour,\n",
    "    hist_height=hist_height,\n",
    "    label=label,\n",
    "    zeros=np.zeros(len(factor))\n",
    ")\n",
    "\n",
    "measurements_source = ColumnDataSource(data)"
   ]
  },
  {
   "cell_type": "code",
   "execution_count": 16,
   "metadata": {
    "collapsed": false
   },
   "outputs": [],
   "source": [
    "transformed_hover_width = [\" %0.1f cm\" % (num) for num in transformed_mesh['width']]\n",
    "transformed_hover_length = [\" %0.1f cm\" % (num) for num in transformed_mesh['length']]\n",
    "transformed_hover_eqPonA = [\" %0.2f cm^-1\" % (num) for num in transformed_mesh['eqPonA']]\n",
    "transformed_hover_factor = [\" %0.3f\" % (num) for num in transformed_mesh['factor']]\n",
    "\n",
    "transformed_data = dict(\n",
    "    width=transformed_mesh['width'],\n",
    "    length=transformed_mesh['length'],\n",
    "    eqPonA=transformed_mesh['eqPonA'],\n",
    "    factor=transformed_mesh['factor'],\n",
    "    zeros=np.zeros(len(transformed_mesh['factor'])),\n",
    "    colour=find_colour(transformed_mesh['factor']),\n",
    "    hover_width=transformed_hover_width,\n",
    "    hover_length=transformed_hover_length,\n",
    "    hover_eqPonA=transformed_hover_eqPonA,\n",
    "    hover_factor=transformed_hover_factor    \n",
    ")\n",
    "\n",
    "transformed_source = ColumnDataSource(transformed_data)"
   ]
  },
  {
   "cell_type": "code",
   "execution_count": 17,
   "metadata": {
    "collapsed": true
   },
   "outputs": [],
   "source": [
    "native_hover_width = [\" %0.1f cm\" % (num) for num in native_mesh['width']]\n",
    "native_hover_length = [\" %0.1f cm\" % (num) for num in native_mesh['length']]\n",
    "native_hover_eqPonA = [\" %0.2f cm^-1\" % (num) for num in native_mesh['eqPonA']]\n",
    "native_hover_factor = [\" %0.3f\" % (num) for num in native_mesh['factor']]\n",
    "\n",
    "native_data = dict(\n",
    "    width=native_mesh['width'],\n",
    "    length=native_mesh['length'],\n",
    "    eqPonA=native_mesh['eqPonA'],\n",
    "    factor=native_mesh['factor'],\n",
    "    zeros=np.zeros(len(native_mesh['factor'])),\n",
    "    colour=find_colour(native_mesh['factor']),\n",
    "    hover_width=native_hover_width,\n",
    "    hover_length=native_hover_length,\n",
    "    hover_eqPonA=native_hover_eqPonA,\n",
    "    hover_factor=native_hover_factor  \n",
    ")\n",
    "\n",
    "native_source = ColumnDataSource(native_data)"
   ]
  },
  {
   "cell_type": "code",
   "execution_count": 18,
   "metadata": {
    "collapsed": false
   },
   "outputs": [],
   "source": [
    "columns = [\n",
    "    TableColumn(field=\"label\", title=\"Label\"),\n",
    "    TableColumn(field=\"width\", title=\"Width (cm)\"),\n",
    "    TableColumn(field=\"length\", title=\"Length (cm)\"),\n",
    "    TableColumn(field=\"eqPonA\", title=\"P/A (cm^-1)\"),\n",
    "    TableColumn(field=\"factor\", title=\"Cutout factor\"),\n",
    "    TableColumn(field=\"model_value\", title=\"Model factor\"),\n",
    "    TableColumn(field=\"pc_residual\", title=\"Residual (%)\"),\n",
    "    TableColumn(field=\"pred_diff\", title=\"Prediction Diff. (%)\"),\n",
    "]\n",
    "\n",
    "data_table = DataTable(\n",
    "    source=measurements_source, columns=columns, width=1000, height=500)"
   ]
  },
  {
   "cell_type": "code",
   "execution_count": 19,
   "metadata": {
    "collapsed": false
   },
   "outputs": [],
   "source": [
    "from bokeh.models import Rect"
   ]
  },
  {
   "cell_type": "code",
   "execution_count": 20,
   "metadata": {
    "collapsed": true
   },
   "outputs": [],
   "source": [
    "tools = \"box_select, tap, crosshair\"\n",
    "\n",
    "unselect_rectangle = Rect(line_alpha=0, fill_alpha=0)\n",
    "\n"
   ]
  },
  {
   "cell_type": "code",
   "execution_count": 21,
   "metadata": {
    "collapsed": true
   },
   "outputs": [],
   "source": [
    "native_y_range = Range1d(\n",
    "    native_data['eqPonA'].min() - 0.005 - native_data['eqPonA'].ptp()*0.03, \n",
    "    native_data['eqPonA'].max() + 0.005 + native_data['eqPonA'].ptp()*0.03)\n",
    "native_x_range = Range1d(\n",
    "    native_data['width'].min() - 0.05 - native_data['width'].ptp()*0.03, \n",
    "    native_data['width'].max() + 0.05 + native_data['width'].ptp()*0.03)\n",
    "\n",
    "\n",
    "native = figure(\n",
    "    tools=tools, width=450, height=350, \n",
    "    title=\"Native domain\", \n",
    "    x_axis_label=\"Width (cm)\", y_axis_label=\"Perimeter / Area cm^-1)\",\n",
    "    x_range=native_x_range, y_range=native_y_range)\n",
    "native.rect(\n",
    "    'width', 'eqPonA', 0.1, 0.01, alpha=0, source=transformed_source,\n",
    "    name='native_invis')\n",
    "native.rect(\n",
    "    'width', 'eqPonA', 0.1, 0.01, color='colour', source=native_source,\n",
    "    name='native_visible')\n",
    "native.circle(\n",
    "    'width', 'eqPonA', source=measurements_source, \n",
    "    size=10, fill_color='colour', line_color='black')\n",
    "render_invis = native.select(name='native_invis')\n",
    "render_invis.nonselection_glyph = unselect_rectangle\n",
    "render_vis = native.select(name='native_visible')\n",
    "render_vis.nonselection_glyph = unselect_rectangle\n",
    "\n",
    "tooltips = [\n",
    "    (\"Width\", \"@hover_width\"),\n",
    "    (\"Length\", \"@hover_length\"),\n",
    "    (\"P/A\", \"@hover_eqPonA\"),\n",
    "    (\"Factor\", \"@hover_factor\"),\n",
    "]\n",
    "native.add_tools(HoverTool(\n",
    "        tooltips=tooltips,\n",
    "        renderers=render_vis))"
   ]
  },
  {
   "cell_type": "code",
   "execution_count": 22,
   "metadata": {
    "collapsed": false
   },
   "outputs": [],
   "source": [
    "trans_y_range = Range1d(\n",
    "    transformed_data['length'].min() - 0.05 - transformed_data['length'].ptp()*0.03, \n",
    "    transformed_data['length'].max() + 0.05)\n",
    "trans_x_range = Range1d(\n",
    "    transformed_data['width'].min() - 0.05 - transformed_data['width'].ptp()*0.03, \n",
    "    transformed_data['width'].max() + 0.05 + transformed_data['width'].ptp()*0.03)\n",
    "\n",
    "transformed = figure(\n",
    "    tools=tools, width=450, height=350, \n",
    "    title=\"Transformed domain\", \n",
    "    x_axis_label=\"Width (cm)\", y_axis_label=\"Length (cm)\",\n",
    "    x_range=trans_x_range, y_range=trans_y_range)\n",
    "transformed.rect(\n",
    "    'width', 'length', 0.1, 0.1, alpha=0, source=native_source,\n",
    "    name='trans_invis')\n",
    "transformed.rect(\n",
    "    'width', 'length', 0.1, 0.1, color='colour', source=transformed_source,\n",
    "    name='trans_visible')\n",
    "transformed.circle(\n",
    "    'width', 'length', source=measurements_source, \n",
    "    size=10, fill_color='colour', line_color='black')\n",
    "render_invis = transformed.select(name='trans_invis')\n",
    "render_invis.nonselection_glyph = unselect_rectangle\n",
    "render_vis = transformed.select(name='trans_visible')\n",
    "render_vis.nonselection_glyph = unselect_rectangle\n",
    "\n",
    "tooltips = [\n",
    "    (\"Width\", \"@hover_width\"),\n",
    "    (\"Length\", \"@hover_length\"),\n",
    "    (\"P/A\", \"@hover_eqPonA\"),\n",
    "    (\"Factor\", \"@hover_factor\"),\n",
    "]\n",
    "transformed.add_tools(HoverTool(\n",
    "        tooltips=tooltips,\n",
    "        renderers=render_vis))\n"
   ]
  },
  {
   "cell_type": "code",
   "execution_count": 43,
   "metadata": {
    "collapsed": false
   },
   "outputs": [],
   "source": [
    "mesh_factors = np.hstack([transformed_mesh['factor'], native_mesh['factor']])\n",
    "colour_bar_range = Range1d(\n",
    "    np.floor(100*mesh_factors.min())/100, \n",
    "    np.ceil(100*mesh_factors.max())/100)\n",
    "\n",
    "colour_bar = figure(\n",
    "    tools=tools, width=135, height=350, title=None,\n",
    "    y_range=colour_bar_range,\n",
    "    y_axis_label=\"Factor\")\n",
    "colour_bar.rect(\n",
    "    'zeros', 'factor', 0.5, 0.0005, name='colour_bar_trans',\n",
    "    source=transformed_source, color='colour')\n",
    "render = colour_bar.select(name='colour_bar_trans')\n",
    "render.nonselection_glyph = unselect_rectangle\n",
    "colour_bar.rect(\n",
    "    'zeros', 'factor', 0.5, 0.0005, name='colour_bar_native',\n",
    "    source=native_source, color='colour')\n",
    "render = colour_bar.select(name='colour_bar_native')\n",
    "render.nonselection_glyph = unselect_rectangle\n",
    "colour_bar.rect(\n",
    "    'zeros', 'factor', 0.5, 0.0005, name='colour_bar_meas',\n",
    "    source=measurements_source, alpha=0)\n",
    "render = colour_bar.select(name='colour_bar_meas')\n",
    "render.nonselection_glyph = unselect_rectangle\n",
    "\n",
    "crosshair = colour_bar.select(type=CrosshairTool)\n",
    "crosshair.dimensions = ['width']\n",
    "\n",
    "colour_bar.xgrid.grid_line_color = None\n",
    "colour_bar.ygrid.grid_line_color = None\n",
    "colour_bar.xaxis.major_label_text_font_size = '0pt'\n",
    "colour_bar.xaxis.major_tick_line_color = None\n",
    "colour_bar.xaxis.minor_tick_line_color = None"
   ]
  },
  {
   "cell_type": "code",
   "execution_count": 44,
   "metadata": {
    "collapsed": false
   },
   "outputs": [
    {
     "data": {
      "text/plain": [
       "0.95099999999999996"
      ]
     },
     "execution_count": 44,
     "metadata": {},
     "output_type": "execute_result"
    }
   ],
   "source": [
    "np.floor(1000*mesh_factors.min())/1000"
   ]
  },
  {
   "cell_type": "code",
   "execution_count": 45,
   "metadata": {
    "collapsed": false
   },
   "outputs": [],
   "source": [
    "p = gridplot([[colour_bar, native, transformed]], toolbar_location=None)\n",
    "test = vplot(p, data_table)\n",
    "show(test)"
   ]
  },
  {
   "cell_type": "code",
   "execution_count": null,
   "metadata": {
    "collapsed": true
   },
   "outputs": [],
   "source": []
  },
  {
   "cell_type": "code",
   "execution_count": null,
   "metadata": {
    "collapsed": true
   },
   "outputs": [],
   "source": []
  }
 ],
 "metadata": {
  "kernelspec": {
   "display_name": "Python 3",
   "language": "python",
   "name": "python3"
  },
  "language_info": {
   "codemirror_mode": {
    "name": "ipython",
    "version": 3
   },
   "file_extension": ".py",
   "mimetype": "text/x-python",
   "name": "python",
   "nbconvert_exporter": "python",
   "pygments_lexer": "ipython3",
   "version": "3.4.1"
  }
 },
 "nbformat": 4,
 "nbformat_minor": 0
}
